{
 "cells": [
  {
   "cell_type": "code",
   "execution_count": 4,
   "metadata": {},
   "outputs": [
    {
     "name": "stdout",
     "output_type": "stream",
     "text": [
      "The autoreload extension is already loaded. To reload it, use:\n",
      "  %reload_ext autoreload\n"
     ]
    }
   ],
   "source": [
    "# conda environment (project)\n",
    "# /home/student/.conda/envs/project/bin/python \n",
    "%load_ext autoreload\n",
    "%autoreload 2\n",
    "import numpy as np\n",
    "import pandas as pd\n",
    "from tqdm.auto import tqdm\n",
    "import os, gc\n",
    "import torch\n",
    "\n",
    "from transformers import set_seed\n",
    "from datasets import load_dataset\n",
    "from evaluate import *\n",
    "from arc import ARCSolver\n",
    "\n",
    "from datasets import Dataset\n",
    "from utils import render_grid"
   ]
  },
  {
   "cell_type": "code",
   "execution_count": 5,
   "metadata": {},
   "outputs": [
    {
     "name": "stdout",
     "output_type": "stream",
     "text": [
      "Imported 300 different tasks in the dataset.\n",
      "# of samples in a task: min(82), Q1(1000), Q2(1000), Q3(1000), max(1000), mean(897.7)\n"
     ]
    },
    {
     "data": {
      "text/html": [
       "<div>\n",
       "<style scoped>\n",
       "    .dataframe tbody tr th:only-of-type {\n",
       "        vertical-align: middle;\n",
       "    }\n",
       "\n",
       "    .dataframe tbody tr th {\n",
       "        vertical-align: top;\n",
       "    }\n",
       "\n",
       "    .dataframe thead th {\n",
       "        text-align: right;\n",
       "    }\n",
       "</style>\n",
       "<table border=\"1\" class=\"dataframe\">\n",
       "  <thead>\n",
       "    <tr style=\"text-align: right;\">\n",
       "      <th></th>\n",
       "      <th>task</th>\n",
       "      <th>train</th>\n",
       "      <th>test_input</th>\n",
       "      <th>test_output</th>\n",
       "      <th>test</th>\n",
       "    </tr>\n",
       "  </thead>\n",
       "  <tbody>\n",
       "    <tr>\n",
       "      <th>0</th>\n",
       "      <td>239be575</td>\n",
       "      <td>[{'input': [[0, 0, 6, 6, 2, 0, 0], [2, 0, 6, 6...</td>\n",
       "      <td>[{'input': [[0, 5, 5, 3, 3, 3, 0], [0, 5, 5, 0...</td>\n",
       "      <td>[[[0]]]</td>\n",
       "      <td>[{'input': [[0, 5, 5, 3, 3, 3, 0], [0, 5, 5, 0...</td>\n",
       "    </tr>\n",
       "    <tr>\n",
       "      <th>1</th>\n",
       "      <td>4258a5f9</td>\n",
       "      <td>[{'input': [[3, 3, 3, 3], [3, 3, 3, 3], [3, 3,...</td>\n",
       "      <td>[{'input': [[6, 6, 6, 6, 6, 6], [6, 6, 6, 6, 2...</td>\n",
       "      <td>[[[6, 6, 6, 1, 1, 1], [1, 1, 1, 1, 2, 1], [1, ...</td>\n",
       "      <td>[{'input': [[6, 6, 6, 6, 6, 6], [6, 6, 6, 6, 2...</td>\n",
       "    </tr>\n",
       "    <tr>\n",
       "      <th>2</th>\n",
       "      <td>1caeab9d</td>\n",
       "      <td>[{'input': [[6, 6, 6, 6, 6, 6, 6], [6, 6, 8, 8...</td>\n",
       "      <td>[{'input': [[0, 0, 0, 0, 0, 0, 0, 0, 0, 0], [4...</td>\n",
       "      <td>[[[0, 0, 0, 0, 0, 0, 0, 0, 0, 0], [0, 0, 0, 0,...</td>\n",
       "      <td>[{'input': [[0, 0, 0, 0, 0, 0, 0, 0, 0, 0], [4...</td>\n",
       "    </tr>\n",
       "    <tr>\n",
       "      <th>3</th>\n",
       "      <td>623ea044</td>\n",
       "      <td>[{'input': [[3, 3, 3, 3, 3, 3, 3], [3, 3, 3, 3...</td>\n",
       "      <td>[{'input': [[6, 6, 6, 6, 6], [6, 6, 6, 6, 6], ...</td>\n",
       "      <td>[[[6, 8, 6, 6, 6], [6, 6, 8, 6, 8], [6, 6, 6, ...</td>\n",
       "      <td>[{'input': [[6, 6, 6, 6, 6], [6, 6, 6, 6, 6], ...</td>\n",
       "    </tr>\n",
       "    <tr>\n",
       "      <th>4</th>\n",
       "      <td>e9afcf9a</td>\n",
       "      <td>[{'input': [[4, 4, 4, 4, 4], [6, 6, 6, 6, 6], ...</td>\n",
       "      <td>[{'input': [[5, 5, 5, 5, 5, 5, 5, 5, 5], [7, 7...</td>\n",
       "      <td>[[[5, 7, 5, 7, 5, 7, 5, 7, 5], [7, 0, 7, 0, 7,...</td>\n",
       "      <td>[{'input': [[5, 5, 5, 5, 5, 5, 5, 5, 5], [7, 7...</td>\n",
       "    </tr>\n",
       "  </tbody>\n",
       "</table>\n",
       "</div>"
      ],
      "text/plain": [
       "       task                                              train  \\\n",
       "0  239be575  [{'input': [[0, 0, 6, 6, 2, 0, 0], [2, 0, 6, 6...   \n",
       "1  4258a5f9  [{'input': [[3, 3, 3, 3], [3, 3, 3, 3], [3, 3,...   \n",
       "2  1caeab9d  [{'input': [[6, 6, 6, 6, 6, 6, 6], [6, 6, 8, 8...   \n",
       "3  623ea044  [{'input': [[3, 3, 3, 3, 3, 3, 3], [3, 3, 3, 3...   \n",
       "4  e9afcf9a  [{'input': [[4, 4, 4, 4, 4], [6, 6, 6, 6, 6], ...   \n",
       "\n",
       "                                          test_input  \\\n",
       "0  [{'input': [[0, 5, 5, 3, 3, 3, 0], [0, 5, 5, 0...   \n",
       "1  [{'input': [[6, 6, 6, 6, 6, 6], [6, 6, 6, 6, 2...   \n",
       "2  [{'input': [[0, 0, 0, 0, 0, 0, 0, 0, 0, 0], [4...   \n",
       "3  [{'input': [[6, 6, 6, 6, 6], [6, 6, 6, 6, 6], ...   \n",
       "4  [{'input': [[5, 5, 5, 5, 5, 5, 5, 5, 5], [7, 7...   \n",
       "\n",
       "                                         test_output  \\\n",
       "0                                            [[[0]]]   \n",
       "1  [[[6, 6, 6, 1, 1, 1], [1, 1, 1, 1, 2, 1], [1, ...   \n",
       "2  [[[0, 0, 0, 0, 0, 0, 0, 0, 0, 0], [0, 0, 0, 0,...   \n",
       "3  [[[6, 8, 6, 6, 6], [6, 6, 8, 6, 8], [6, 6, 6, ...   \n",
       "4  [[[5, 7, 5, 7, 5, 7, 5, 7, 5], [7, 0, 7, 0, 7,...   \n",
       "\n",
       "                                                test  \n",
       "0  [{'input': [[0, 5, 5, 3, 3, 3, 0], [0, 5, 5, 0...  \n",
       "1  [{'input': [[6, 6, 6, 6, 6, 6], [6, 6, 6, 6, 2...  \n",
       "2  [{'input': [[0, 0, 0, 0, 0, 0, 0, 0, 0, 0], [4...  \n",
       "3  [{'input': [[6, 6, 6, 6, 6], [6, 6, 6, 6, 6], ...  \n",
       "4  [{'input': [[5, 5, 5, 5, 5, 5, 5, 5, 5], [7, 7...  "
      ]
     },
     "execution_count": 5,
     "metadata": {},
     "output_type": "execute_result"
    }
   ],
   "source": [
    "# prepare the test dataset\n",
    "data_path = \"dataset\"\n",
    "dataset, task_list = load_data(data_path)\n",
    "df = sample_data(dataset, task_list, n_row=10000) \n",
    "df.head(5) "
   ]
  },
  {
   "cell_type": "code",
   "execution_count": 6,
   "metadata": {},
   "outputs": [],
   "source": [
    "# prepare samples for each task\n",
    "task_samples = []\n",
    "for t in range(300):\n",
    "    df = sample_data(dataset, task_list, n_row=1000, indices=[t])\n",
    "    task_samples.append(df)"
   ]
  },
  {
   "cell_type": "code",
   "execution_count": null,
   "metadata": {},
   "outputs": [],
   "source": [
    "# Visualize a task (EDA)\n",
    "task_idx = 39 # select which task you want to examine\n",
    "n_sample = 1\n",
    "for data in Dataset.from_pandas(task_samples[task_idx]).shuffle().select(range(n_sample)):\n",
    "    for case in data['train']:\n",
    "        print(\"==================================================\")\n",
    "        print(\"Example input\")\n",
    "        render_grid(case['input'])\n",
    "        print(\"Example output\")\n",
    "        render_grid(case['output'])\n",
    "    print(\"==================================================\")\n",
    "    print(\"Example test input\")\n",
    "    render_grid(data['test'][0]['input'])\n",
    "    print(\"Example test output\")\n",
    "    render_grid(data['test'][0]['output'])\n",
    "print(\"==================================================\")"
   ]
  },
  {
   "cell_type": "code",
   "execution_count": 7,
   "metadata": {},
   "outputs": [
    {
     "data": {
      "application/vnd.jupyter.widget-view+json": {
       "model_id": "0264dedaae374cc491f5a54026984d6e",
       "version_major": 2,
       "version_minor": 0
      },
      "text/plain": [
       "Loading checkpoint shards:   0%|          | 0/2 [00:00<?, ?it/s]"
      ]
     },
     "metadata": {},
     "output_type": "display_data"
    }
   ],
   "source": [
    "# load our model(arcsolver) instance\n",
    "set_seed(1234567890)\n",
    "token = os.environ.get(\"HF_TOKEN\", None)\n",
    "solver = ARCSolver(token=token) # default: finetuning-sample (given sample adapter)"
   ]
  },
  {
   "cell_type": "code",
   "execution_count": 1,
   "metadata": {},
   "outputs": [
    {
     "ename": "NameError",
     "evalue": "name 'solver' is not defined",
     "output_type": "error",
     "traceback": [
      "\u001b[31m---------------------------------------------------------------------------\u001b[39m",
      "\u001b[31mNameError\u001b[39m                                 Traceback (most recent call last)",
      "\u001b[36mCell\u001b[39m\u001b[36m \u001b[39m\u001b[32mIn[1]\u001b[39m\u001b[32m, line 1\u001b[39m\n\u001b[32m----> \u001b[39m\u001b[32m1\u001b[39m \u001b[43msolver\u001b[49m.prepare_train()\n\u001b[32m      2\u001b[39m n_train = \u001b[32m500\u001b[39m\n\u001b[32m      3\u001b[39m train_dataset = Dataset.from_pandas(task_samples[task_idx]).shuffle(\u001b[32m42\u001b[39m).select(\u001b[38;5;28mrange\u001b[39m(n_train))\n",
      "\u001b[31mNameError\u001b[39m: name 'solver' is not defined"
     ]
    }
   ],
   "source": [
    "solver.prepare_train()\n",
    "n_train = 500\n",
    "train_dataset = Dataset.from_pandas(task_samples[task_idx]).shuffle(42).select(range(n_train))\n",
    "solver.train(train_dataset)"
   ]
  },
  {
   "cell_type": "code",
   "execution_count": null,
   "metadata": {},
   "outputs": [],
   "source": [
    "n_eval = 10\n",
    "eval_dataset = Dataset.from_pandas(task_samples[task_idx]).shuffle(42).select(range(n_train,n_train+n_eval))\n",
    "solver.prepare_evaluation(select_adapter=\"20250527_100116\") # make sure you set the right model"
   ]
  },
  {
   "cell_type": "code",
   "execution_count": 51,
   "metadata": {},
   "outputs": [
    {
     "data": {
      "application/vnd.jupyter.widget-view+json": {
       "model_id": "ebcae5a8512e4154a07482950190dba3",
       "version_major": 2,
       "version_minor": 0
      },
      "text/plain": [
       "  0%|          | 0/10 [00:00<?, ?it/s]"
      ]
     },
     "metadata": {},
     "output_type": "display_data"
    },
    {
     "name": "stdout",
     "output_type": "stream",
     "text": [
      "============================================\n",
      "Test input\n"
     ]
    },
    {
     "data": {
      "text/html": [
       "<pre style=\"white-space:pre;overflow-x:auto;line-height:normal;font-family:Menlo,'DejaVu Sans Mono',consolas,'Courier New',monospace\"><span style=\"background-color: #800000\">  </span><span style=\"background-color: #008080\">        </span><span style=\"background-color: #800000\">          </span>  [1, 6, 6, 6, 6, 1, 1, 1, 1, 1]\n",
       "<span style=\"background-color: #800000\">  </span><span style=\"background-color: #008080\">  </span><span style=\"background-color: #800000\">    </span><span style=\"background-color: #008080\">  </span><span style=\"background-color: #800000\">          </span>  [1, 6, 1, 1, 6, 1, 1, 1, 1, 1]\n",
       "<span style=\"background-color: #800000\">  </span><span style=\"background-color: #008080\">  </span><span style=\"background-color: #800000\">    </span><span style=\"background-color: #008080\">  </span><span style=\"background-color: #800000\">          </span>  [1, 6, 1, 1, 6, 1, 1, 1, 1, 1]\n",
       "<span style=\"background-color: #800000\">  </span><span style=\"background-color: #008080\">  </span><span style=\"background-color: #800000\">    </span><span style=\"background-color: #008080\">  </span><span style=\"background-color: #800000\">          </span>  [1, 6, 1, 1, 6, 1, 1, 1, 1, 1]\n",
       "<span style=\"background-color: #800000\">  </span><span style=\"background-color: #008080\">        </span><span style=\"background-color: #800000\">          </span>  [1, 6, 6, 6, 6, 1, 1, 1, 1, 1]\n",
       "<span style=\"background-color: #800000\">    </span><span style=\"background-color: #808000\">  </span><span style=\"background-color: #800000\">              </span>  [1, 1, 3, 1, 1, 1, 1, 1, 1, 1]\n",
       "<span style=\"background-color: #800000\">    </span><span style=\"background-color: #00ff00\">  </span><span style=\"background-color: #800000\">              </span>  [1, 1, 9, 1, 1, 1, 1, 1, 1, 1]\n",
       "<span style=\"background-color: #800000\">    </span><span style=\"background-color: #808000\">    </span><span style=\"background-color: #800000\">            </span>  [1, 1, 3, 3, 1, 1, 1, 1, 1, 1]\n",
       "<span style=\"background-color: #800000\">                    </span>  [1, 1, 1, 1, 1, 1, 1, 1, 1, 1]\n",
       "<span style=\"background-color: #800000\">                    </span>  [1, 1, 1, 1, 1, 1, 1, 1, 1, 1]\n",
       "\n",
       "</pre>\n"
      ],
      "text/plain": [
       "\u001b[41m  \u001b[0m\u001b[46m  \u001b[0m\u001b[46m  \u001b[0m\u001b[46m  \u001b[0m\u001b[46m  \u001b[0m\u001b[41m  \u001b[0m\u001b[41m  \u001b[0m\u001b[41m  \u001b[0m\u001b[41m  \u001b[0m\u001b[41m  \u001b[0m  [1, 6, 6, 6, 6, 1, 1, 1, 1, 1]\n",
       "\u001b[41m  \u001b[0m\u001b[46m  \u001b[0m\u001b[41m  \u001b[0m\u001b[41m  \u001b[0m\u001b[46m  \u001b[0m\u001b[41m  \u001b[0m\u001b[41m  \u001b[0m\u001b[41m  \u001b[0m\u001b[41m  \u001b[0m\u001b[41m  \u001b[0m  [1, 6, 1, 1, 6, 1, 1, 1, 1, 1]\n",
       "\u001b[41m  \u001b[0m\u001b[46m  \u001b[0m\u001b[41m  \u001b[0m\u001b[41m  \u001b[0m\u001b[46m  \u001b[0m\u001b[41m  \u001b[0m\u001b[41m  \u001b[0m\u001b[41m  \u001b[0m\u001b[41m  \u001b[0m\u001b[41m  \u001b[0m  [1, 6, 1, 1, 6, 1, 1, 1, 1, 1]\n",
       "\u001b[41m  \u001b[0m\u001b[46m  \u001b[0m\u001b[41m  \u001b[0m\u001b[41m  \u001b[0m\u001b[46m  \u001b[0m\u001b[41m  \u001b[0m\u001b[41m  \u001b[0m\u001b[41m  \u001b[0m\u001b[41m  \u001b[0m\u001b[41m  \u001b[0m  [1, 6, 1, 1, 6, 1, 1, 1, 1, 1]\n",
       "\u001b[41m  \u001b[0m\u001b[46m  \u001b[0m\u001b[46m  \u001b[0m\u001b[46m  \u001b[0m\u001b[46m  \u001b[0m\u001b[41m  \u001b[0m\u001b[41m  \u001b[0m\u001b[41m  \u001b[0m\u001b[41m  \u001b[0m\u001b[41m  \u001b[0m  [1, 6, 6, 6, 6, 1, 1, 1, 1, 1]\n",
       "\u001b[41m  \u001b[0m\u001b[41m  \u001b[0m\u001b[43m  \u001b[0m\u001b[41m  \u001b[0m\u001b[41m  \u001b[0m\u001b[41m  \u001b[0m\u001b[41m  \u001b[0m\u001b[41m  \u001b[0m\u001b[41m  \u001b[0m\u001b[41m  \u001b[0m  [1, 1, 3, 1, 1, 1, 1, 1, 1, 1]\n",
       "\u001b[41m  \u001b[0m\u001b[41m  \u001b[0m\u001b[102m  \u001b[0m\u001b[41m  \u001b[0m\u001b[41m  \u001b[0m\u001b[41m  \u001b[0m\u001b[41m  \u001b[0m\u001b[41m  \u001b[0m\u001b[41m  \u001b[0m\u001b[41m  \u001b[0m  [1, 1, 9, 1, 1, 1, 1, 1, 1, 1]\n",
       "\u001b[41m  \u001b[0m\u001b[41m  \u001b[0m\u001b[43m  \u001b[0m\u001b[43m  \u001b[0m\u001b[41m  \u001b[0m\u001b[41m  \u001b[0m\u001b[41m  \u001b[0m\u001b[41m  \u001b[0m\u001b[41m  \u001b[0m\u001b[41m  \u001b[0m  [1, 1, 3, 3, 1, 1, 1, 1, 1, 1]\n",
       "\u001b[41m  \u001b[0m\u001b[41m  \u001b[0m\u001b[41m  \u001b[0m\u001b[41m  \u001b[0m\u001b[41m  \u001b[0m\u001b[41m  \u001b[0m\u001b[41m  \u001b[0m\u001b[41m  \u001b[0m\u001b[41m  \u001b[0m\u001b[41m  \u001b[0m  [1, 1, 1, 1, 1, 1, 1, 1, 1, 1]\n",
       "\u001b[41m  \u001b[0m\u001b[41m  \u001b[0m\u001b[41m  \u001b[0m\u001b[41m  \u001b[0m\u001b[41m  \u001b[0m\u001b[41m  \u001b[0m\u001b[41m  \u001b[0m\u001b[41m  \u001b[0m\u001b[41m  \u001b[0m\u001b[41m  \u001b[0m  [1, 1, 1, 1, 1, 1, 1, 1, 1, 1]\n",
       "\n"
      ]
     },
     "metadata": {},
     "output_type": "display_data"
    },
    {
     "name": "stdout",
     "output_type": "stream",
     "text": [
      "Predict output\n"
     ]
    },
    {
     "data": {
      "text/html": [
       "<pre style=\"white-space:pre;overflow-x:auto;line-height:normal;font-family:Menlo,'DejaVu Sans Mono',consolas,'Courier New',monospace\"><span style=\"background-color: #008080\">        </span><span style=\"background-color: #800000\">  </span>  [6 6 6 6 1]\n",
       "<span style=\"background-color: #008080\">  </span><span style=\"background-color: #800000\">  </span><span style=\"background-color: #808000\">  </span><span style=\"background-color: #008080\">  </span><span style=\"background-color: #800000\">  </span>  [6 1 3 6 1]\n",
       "<span style=\"background-color: #008080\">  </span><span style=\"background-color: #800000\">  </span><span style=\"background-color: #00ff00\">  </span><span style=\"background-color: #008080\">  </span><span style=\"background-color: #800000\">  </span>  [6 1 9 6 1]\n",
       "<span style=\"background-color: #008080\">  </span><span style=\"background-color: #800000\">  </span><span style=\"background-color: #808000\">  </span><span style=\"background-color: #008080\">  </span><span style=\"background-color: #800000\">  </span>  [6 1 3 6 1]\n",
       "\n",
       "</pre>\n"
      ],
      "text/plain": [
       "\u001b[46m  \u001b[0m\u001b[46m  \u001b[0m\u001b[46m  \u001b[0m\u001b[46m  \u001b[0m\u001b[41m  \u001b[0m  [6 6 6 6 1]\n",
       "\u001b[46m  \u001b[0m\u001b[41m  \u001b[0m\u001b[43m  \u001b[0m\u001b[46m  \u001b[0m\u001b[41m  \u001b[0m  [6 1 3 6 1]\n",
       "\u001b[46m  \u001b[0m\u001b[41m  \u001b[0m\u001b[102m  \u001b[0m\u001b[46m  \u001b[0m\u001b[41m  \u001b[0m  [6 1 9 6 1]\n",
       "\u001b[46m  \u001b[0m\u001b[41m  \u001b[0m\u001b[43m  \u001b[0m\u001b[46m  \u001b[0m\u001b[41m  \u001b[0m  [6 1 3 6 1]\n",
       "\n"
      ]
     },
     "metadata": {},
     "output_type": "display_data"
    },
    {
     "name": "stdout",
     "output_type": "stream",
     "text": [
      "Test output\n"
     ]
    },
    {
     "data": {
      "text/html": [
       "<pre style=\"white-space:pre;overflow-x:auto;line-height:normal;font-family:Menlo,'DejaVu Sans Mono',consolas,'Courier New',monospace\"><span style=\"background-color: #008080\">        </span>  [6, 6, 6, 6]\n",
       "<span style=\"background-color: #008080\">  </span><span style=\"background-color: #808000\">  </span><span style=\"background-color: #800000\">  </span><span style=\"background-color: #008080\">  </span>  [6, 3, 1, 6]\n",
       "<span style=\"background-color: #008080\">  </span><span style=\"background-color: #00ff00\">  </span><span style=\"background-color: #800000\">  </span><span style=\"background-color: #008080\">  </span>  [6, 9, 1, 6]\n",
       "<span style=\"background-color: #008080\">  </span><span style=\"background-color: #808000\">    </span><span style=\"background-color: #008080\">  </span>  [6, 3, 3, 6]\n",
       "<span style=\"background-color: #008080\">        </span>  [6, 6, 6, 6]\n",
       "\n",
       "</pre>\n"
      ],
      "text/plain": [
       "\u001b[46m  \u001b[0m\u001b[46m  \u001b[0m\u001b[46m  \u001b[0m\u001b[46m  \u001b[0m  [6, 6, 6, 6]\n",
       "\u001b[46m  \u001b[0m\u001b[43m  \u001b[0m\u001b[41m  \u001b[0m\u001b[46m  \u001b[0m  [6, 3, 1, 6]\n",
       "\u001b[46m  \u001b[0m\u001b[102m  \u001b[0m\u001b[41m  \u001b[0m\u001b[46m  \u001b[0m  [6, 9, 1, 6]\n",
       "\u001b[46m  \u001b[0m\u001b[43m  \u001b[0m\u001b[43m  \u001b[0m\u001b[46m  \u001b[0m  [6, 3, 3, 6]\n",
       "\u001b[46m  \u001b[0m\u001b[46m  \u001b[0m\u001b[46m  \u001b[0m\u001b[46m  \u001b[0m  [6, 6, 6, 6]\n",
       "\n"
      ]
     },
     "metadata": {},
     "output_type": "display_data"
    },
    {
     "name": "stdout",
     "output_type": "stream",
     "text": [
      "============================================\n",
      "============================================\n",
      "Test input\n"
     ]
    },
    {
     "data": {
      "text/html": [
       "<pre style=\"white-space:pre;overflow-x:auto;line-height:normal;font-family:Menlo,'DejaVu Sans Mono',consolas,'Courier New',monospace\"><span style=\"background-color: #800000\">                </span>  [1, 1, 1, 1, 1, 1, 1, 1]\n",
       "<span style=\"background-color: #00ff00\">        </span><span style=\"background-color: #800000\">        </span>  [9, 9, 9, 9, 1, 1, 1, 1]\n",
       "<span style=\"background-color: #00ff00\">  </span><span style=\"background-color: #800000\">    </span><span style=\"background-color: #00ff00\">  </span><span style=\"background-color: #800000\">        </span>  [9, 1, 1, 9, 1, 1, 1, 1]\n",
       "<span style=\"background-color: #00ff00\">  </span><span style=\"background-color: #800000\">    </span><span style=\"background-color: #00ff00\">  </span><span style=\"background-color: #800000\">        </span>  [9, 1, 1, 9, 1, 1, 1, 1]\n",
       "<span style=\"background-color: #00ff00\">        </span><span style=\"background-color: #800000\">        </span>  [9, 9, 9, 9, 1, 1, 1, 1]\n",
       "<span style=\"background-color: #800000\">  </span><span style=\"background-color: #000000\">  </span><span style=\"background-color: #800000\">            </span>  [1, 0, 1, 1, 1, 1, 1, 1]\n",
       "<span style=\"background-color: #800000\">  </span><span style=\"background-color: #ff0000\">    </span><span style=\"background-color: #800000\">          </span>  [1, 8, 8, 1, 1, 1, 1, 1]\n",
       "\n",
       "</pre>\n"
      ],
      "text/plain": [
       "\u001b[41m  \u001b[0m\u001b[41m  \u001b[0m\u001b[41m  \u001b[0m\u001b[41m  \u001b[0m\u001b[41m  \u001b[0m\u001b[41m  \u001b[0m\u001b[41m  \u001b[0m\u001b[41m  \u001b[0m  [1, 1, 1, 1, 1, 1, 1, 1]\n",
       "\u001b[102m  \u001b[0m\u001b[102m  \u001b[0m\u001b[102m  \u001b[0m\u001b[102m  \u001b[0m\u001b[41m  \u001b[0m\u001b[41m  \u001b[0m\u001b[41m  \u001b[0m\u001b[41m  \u001b[0m  [9, 9, 9, 9, 1, 1, 1, 1]\n",
       "\u001b[102m  \u001b[0m\u001b[41m  \u001b[0m\u001b[41m  \u001b[0m\u001b[102m  \u001b[0m\u001b[41m  \u001b[0m\u001b[41m  \u001b[0m\u001b[41m  \u001b[0m\u001b[41m  \u001b[0m  [9, 1, 1, 9, 1, 1, 1, 1]\n",
       "\u001b[102m  \u001b[0m\u001b[41m  \u001b[0m\u001b[41m  \u001b[0m\u001b[102m  \u001b[0m\u001b[41m  \u001b[0m\u001b[41m  \u001b[0m\u001b[41m  \u001b[0m\u001b[41m  \u001b[0m  [9, 1, 1, 9, 1, 1, 1, 1]\n",
       "\u001b[102m  \u001b[0m\u001b[102m  \u001b[0m\u001b[102m  \u001b[0m\u001b[102m  \u001b[0m\u001b[41m  \u001b[0m\u001b[41m  \u001b[0m\u001b[41m  \u001b[0m\u001b[41m  \u001b[0m  [9, 9, 9, 9, 1, 1, 1, 1]\n",
       "\u001b[41m  \u001b[0m\u001b[40m  \u001b[0m\u001b[41m  \u001b[0m\u001b[41m  \u001b[0m\u001b[41m  \u001b[0m\u001b[41m  \u001b[0m\u001b[41m  \u001b[0m\u001b[41m  \u001b[0m  [1, 0, 1, 1, 1, 1, 1, 1]\n",
       "\u001b[41m  \u001b[0m\u001b[101m  \u001b[0m\u001b[101m  \u001b[0m\u001b[41m  \u001b[0m\u001b[41m  \u001b[0m\u001b[41m  \u001b[0m\u001b[41m  \u001b[0m\u001b[41m  \u001b[0m  [1, 8, 8, 1, 1, 1, 1, 1]\n",
       "\n"
      ]
     },
     "metadata": {},
     "output_type": "display_data"
    },
    {
     "name": "stdout",
     "output_type": "stream",
     "text": [
      "Predict output\n"
     ]
    },
    {
     "data": {
      "text/html": [
       "<pre style=\"white-space:pre;overflow-x:auto;line-height:normal;font-family:Menlo,'DejaVu Sans Mono',consolas,'Courier New',monospace\"><span style=\"background-color: #00ff00\">        </span>  [9 9 9 9]\n",
       "<span style=\"background-color: #00ff00\">  </span><span style=\"background-color: #800000\">  </span><span style=\"background-color: #000000\">  </span><span style=\"background-color: #00ff00\">  </span>  [9 1 0 9]\n",
       "<span style=\"background-color: #00ff00\">  </span><span style=\"background-color: #800000\">  </span><span style=\"background-color: #ff0000\">  </span><span style=\"background-color: #00ff00\">  </span>  [9 1 8 9]\n",
       "<span style=\"background-color: #00ff00\">        </span>  [9 9 9 9]\n",
       "\n",
       "</pre>\n"
      ],
      "text/plain": [
       "\u001b[102m  \u001b[0m\u001b[102m  \u001b[0m\u001b[102m  \u001b[0m\u001b[102m  \u001b[0m  [9 9 9 9]\n",
       "\u001b[102m  \u001b[0m\u001b[41m  \u001b[0m\u001b[40m  \u001b[0m\u001b[102m  \u001b[0m  [9 1 0 9]\n",
       "\u001b[102m  \u001b[0m\u001b[41m  \u001b[0m\u001b[101m  \u001b[0m\u001b[102m  \u001b[0m  [9 1 8 9]\n",
       "\u001b[102m  \u001b[0m\u001b[102m  \u001b[0m\u001b[102m  \u001b[0m\u001b[102m  \u001b[0m  [9 9 9 9]\n",
       "\n"
      ]
     },
     "metadata": {},
     "output_type": "display_data"
    },
    {
     "name": "stdout",
     "output_type": "stream",
     "text": [
      "Test output\n"
     ]
    },
    {
     "data": {
      "text/html": [
       "<pre style=\"white-space:pre;overflow-x:auto;line-height:normal;font-family:Menlo,'DejaVu Sans Mono',consolas,'Courier New',monospace\"><span style=\"background-color: #00ff00\">        </span>  [9, 9, 9, 9]\n",
       "<span style=\"background-color: #00ff00\">  </span><span style=\"background-color: #000000\">  </span><span style=\"background-color: #800000\">  </span><span style=\"background-color: #00ff00\">  </span>  [9, 0, 1, 9]\n",
       "<span style=\"background-color: #00ff00\">  </span><span style=\"background-color: #ff0000\">    </span><span style=\"background-color: #00ff00\">  </span>  [9, 8, 8, 9]\n",
       "<span style=\"background-color: #00ff00\">        </span>  [9, 9, 9, 9]\n",
       "\n",
       "</pre>\n"
      ],
      "text/plain": [
       "\u001b[102m  \u001b[0m\u001b[102m  \u001b[0m\u001b[102m  \u001b[0m\u001b[102m  \u001b[0m  [9, 9, 9, 9]\n",
       "\u001b[102m  \u001b[0m\u001b[40m  \u001b[0m\u001b[41m  \u001b[0m\u001b[102m  \u001b[0m  [9, 0, 1, 9]\n",
       "\u001b[102m  \u001b[0m\u001b[101m  \u001b[0m\u001b[101m  \u001b[0m\u001b[102m  \u001b[0m  [9, 8, 8, 9]\n",
       "\u001b[102m  \u001b[0m\u001b[102m  \u001b[0m\u001b[102m  \u001b[0m\u001b[102m  \u001b[0m  [9, 9, 9, 9]\n",
       "\n"
      ]
     },
     "metadata": {},
     "output_type": "display_data"
    },
    {
     "name": "stdout",
     "output_type": "stream",
     "text": [
      "============================================\n",
      "============================================\n",
      "Test input\n"
     ]
    },
    {
     "data": {
      "text/html": [
       "<pre style=\"white-space:pre;overflow-x:auto;line-height:normal;font-family:Menlo,'DejaVu Sans Mono',consolas,'Courier New',monospace\"><span style=\"background-color: #c0c0c0\">        </span><span style=\"background-color: #008000\">  </span><span style=\"background-color: #808000\">  </span><span style=\"background-color: #c0c0c0\">      </span>  [7, 7, 7, 7, 2, 3, 7, 7, 7]\n",
       "<span style=\"background-color: #c0c0c0\">          </span><span style=\"background-color: #808000\">  </span><span style=\"background-color: #008000\">  </span><span style=\"background-color: #c0c0c0\">    </span>  [7, 7, 7, 7, 7, 3, 2, 7, 7]\n",
       "<span style=\"background-color: #c0c0c0\">                  </span>  [7, 7, 7, 7, 7, 7, 7, 7, 7]\n",
       "<span style=\"background-color: #c0c0c0\">    </span><span style=\"background-color: #800080\">          </span><span style=\"background-color: #c0c0c0\">    </span>  [7, 7, 5, 5, 5, 5, 5, 7, 7]\n",
       "<span style=\"background-color: #c0c0c0\">    </span><span style=\"background-color: #800080\">  </span><span style=\"background-color: #c0c0c0\">      </span><span style=\"background-color: #800080\">  </span><span style=\"background-color: #c0c0c0\">    </span>  [7, 7, 5, 7, 7, 7, 5, 7, 7]\n",
       "<span style=\"background-color: #c0c0c0\">    </span><span style=\"background-color: #800080\">  </span><span style=\"background-color: #c0c0c0\">      </span><span style=\"background-color: #800080\">  </span><span style=\"background-color: #c0c0c0\">    </span>  [7, 7, 5, 7, 7, 7, 5, 7, 7]\n",
       "<span style=\"background-color: #c0c0c0\">    </span><span style=\"background-color: #800080\">          </span><span style=\"background-color: #c0c0c0\">    </span>  [7, 7, 5, 5, 5, 5, 5, 7, 7]\n",
       "<span style=\"background-color: #c0c0c0\">                  </span>  [7, 7, 7, 7, 7, 7, 7, 7, 7]\n",
       "\n",
       "</pre>\n"
      ],
      "text/plain": [
       "\u001b[47m  \u001b[0m\u001b[47m  \u001b[0m\u001b[47m  \u001b[0m\u001b[47m  \u001b[0m\u001b[42m  \u001b[0m\u001b[43m  \u001b[0m\u001b[47m  \u001b[0m\u001b[47m  \u001b[0m\u001b[47m  \u001b[0m  [7, 7, 7, 7, 2, 3, 7, 7, 7]\n",
       "\u001b[47m  \u001b[0m\u001b[47m  \u001b[0m\u001b[47m  \u001b[0m\u001b[47m  \u001b[0m\u001b[47m  \u001b[0m\u001b[43m  \u001b[0m\u001b[42m  \u001b[0m\u001b[47m  \u001b[0m\u001b[47m  \u001b[0m  [7, 7, 7, 7, 7, 3, 2, 7, 7]\n",
       "\u001b[47m  \u001b[0m\u001b[47m  \u001b[0m\u001b[47m  \u001b[0m\u001b[47m  \u001b[0m\u001b[47m  \u001b[0m\u001b[47m  \u001b[0m\u001b[47m  \u001b[0m\u001b[47m  \u001b[0m\u001b[47m  \u001b[0m  [7, 7, 7, 7, 7, 7, 7, 7, 7]\n",
       "\u001b[47m  \u001b[0m\u001b[47m  \u001b[0m\u001b[45m  \u001b[0m\u001b[45m  \u001b[0m\u001b[45m  \u001b[0m\u001b[45m  \u001b[0m\u001b[45m  \u001b[0m\u001b[47m  \u001b[0m\u001b[47m  \u001b[0m  [7, 7, 5, 5, 5, 5, 5, 7, 7]\n",
       "\u001b[47m  \u001b[0m\u001b[47m  \u001b[0m\u001b[45m  \u001b[0m\u001b[47m  \u001b[0m\u001b[47m  \u001b[0m\u001b[47m  \u001b[0m\u001b[45m  \u001b[0m\u001b[47m  \u001b[0m\u001b[47m  \u001b[0m  [7, 7, 5, 7, 7, 7, 5, 7, 7]\n",
       "\u001b[47m  \u001b[0m\u001b[47m  \u001b[0m\u001b[45m  \u001b[0m\u001b[47m  \u001b[0m\u001b[47m  \u001b[0m\u001b[47m  \u001b[0m\u001b[45m  \u001b[0m\u001b[47m  \u001b[0m\u001b[47m  \u001b[0m  [7, 7, 5, 7, 7, 7, 5, 7, 7]\n",
       "\u001b[47m  \u001b[0m\u001b[47m  \u001b[0m\u001b[45m  \u001b[0m\u001b[45m  \u001b[0m\u001b[45m  \u001b[0m\u001b[45m  \u001b[0m\u001b[45m  \u001b[0m\u001b[47m  \u001b[0m\u001b[47m  \u001b[0m  [7, 7, 5, 5, 5, 5, 5, 7, 7]\n",
       "\u001b[47m  \u001b[0m\u001b[47m  \u001b[0m\u001b[47m  \u001b[0m\u001b[47m  \u001b[0m\u001b[47m  \u001b[0m\u001b[47m  \u001b[0m\u001b[47m  \u001b[0m\u001b[47m  \u001b[0m\u001b[47m  \u001b[0m  [7, 7, 7, 7, 7, 7, 7, 7, 7]\n",
       "\n"
      ]
     },
     "metadata": {},
     "output_type": "display_data"
    },
    {
     "name": "stdout",
     "output_type": "stream",
     "text": [
      "Predict output\n"
     ]
    },
    {
     "data": {
      "text/html": [
       "<pre style=\"white-space:pre;overflow-x:auto;line-height:normal;font-family:Menlo,'DejaVu Sans Mono',consolas,'Courier New',monospace\"><span style=\"background-color: #800080\">          </span>  [5 5 5 5 5]\n",
       "<span style=\"background-color: #800080\">  </span><span style=\"background-color: #008000\">  </span><span style=\"background-color: #808000\">  </span><span style=\"background-color: #c0c0c0\">  </span><span style=\"background-color: #800080\">  </span>  [5 2 3 7 5]\n",
       "<span style=\"background-color: #800080\">  </span><span style=\"background-color: #c0c0c0\">  </span><span style=\"background-color: #808000\">  </span><span style=\"background-color: #008000\">  </span><span style=\"background-color: #800080\">  </span>  [5 7 3 2 5]\n",
       "<span style=\"background-color: #800080\">          </span>  [5 5 5 5 5]\n",
       "\n",
       "</pre>\n"
      ],
      "text/plain": [
       "\u001b[45m  \u001b[0m\u001b[45m  \u001b[0m\u001b[45m  \u001b[0m\u001b[45m  \u001b[0m\u001b[45m  \u001b[0m  [5 5 5 5 5]\n",
       "\u001b[45m  \u001b[0m\u001b[42m  \u001b[0m\u001b[43m  \u001b[0m\u001b[47m  \u001b[0m\u001b[45m  \u001b[0m  [5 2 3 7 5]\n",
       "\u001b[45m  \u001b[0m\u001b[47m  \u001b[0m\u001b[43m  \u001b[0m\u001b[42m  \u001b[0m\u001b[45m  \u001b[0m  [5 7 3 2 5]\n",
       "\u001b[45m  \u001b[0m\u001b[45m  \u001b[0m\u001b[45m  \u001b[0m\u001b[45m  \u001b[0m\u001b[45m  \u001b[0m  [5 5 5 5 5]\n",
       "\n"
      ]
     },
     "metadata": {},
     "output_type": "display_data"
    },
    {
     "name": "stdout",
     "output_type": "stream",
     "text": [
      "Test output\n"
     ]
    },
    {
     "data": {
      "text/html": [
       "<pre style=\"white-space:pre;overflow-x:auto;line-height:normal;font-family:Menlo,'DejaVu Sans Mono',consolas,'Courier New',monospace\"><span style=\"background-color: #800080\">          </span>  [5, 5, 5, 5, 5]\n",
       "<span style=\"background-color: #800080\">  </span><span style=\"background-color: #008000\">  </span><span style=\"background-color: #808000\">  </span><span style=\"background-color: #c0c0c0\">  </span><span style=\"background-color: #800080\">  </span>  [5, 2, 3, 7, 5]\n",
       "<span style=\"background-color: #800080\">  </span><span style=\"background-color: #c0c0c0\">  </span><span style=\"background-color: #808000\">  </span><span style=\"background-color: #008000\">  </span><span style=\"background-color: #800080\">  </span>  [5, 7, 3, 2, 5]\n",
       "<span style=\"background-color: #800080\">          </span>  [5, 5, 5, 5, 5]\n",
       "\n",
       "</pre>\n"
      ],
      "text/plain": [
       "\u001b[45m  \u001b[0m\u001b[45m  \u001b[0m\u001b[45m  \u001b[0m\u001b[45m  \u001b[0m\u001b[45m  \u001b[0m  [5, 5, 5, 5, 5]\n",
       "\u001b[45m  \u001b[0m\u001b[42m  \u001b[0m\u001b[43m  \u001b[0m\u001b[47m  \u001b[0m\u001b[45m  \u001b[0m  [5, 2, 3, 7, 5]\n",
       "\u001b[45m  \u001b[0m\u001b[47m  \u001b[0m\u001b[43m  \u001b[0m\u001b[42m  \u001b[0m\u001b[45m  \u001b[0m  [5, 7, 3, 2, 5]\n",
       "\u001b[45m  \u001b[0m\u001b[45m  \u001b[0m\u001b[45m  \u001b[0m\u001b[45m  \u001b[0m\u001b[45m  \u001b[0m  [5, 5, 5, 5, 5]\n",
       "\n"
      ]
     },
     "metadata": {},
     "output_type": "display_data"
    },
    {
     "name": "stdout",
     "output_type": "stream",
     "text": [
      "============================================\n",
      "============================================\n",
      "Test input\n"
     ]
    },
    {
     "data": {
      "text/html": [
       "<pre style=\"white-space:pre;overflow-x:auto;line-height:normal;font-family:Menlo,'DejaVu Sans Mono',consolas,'Courier New',monospace\"><span style=\"background-color: #008000\">                  </span>  [2, 2, 2, 2, 2, 2, 2, 2, 2]\n",
       "<span style=\"background-color: #008000\">                  </span>  [2, 2, 2, 2, 2, 2, 2, 2, 2]\n",
       "<span style=\"background-color: #008000\">    </span><span style=\"background-color: #000080\">  </span><span style=\"background-color: #008000\">            </span>  [2, 2, 4, 2, 2, 2, 2, 2, 2]\n",
       "<span style=\"background-color: #008000\">  </span><span style=\"background-color: #000000\">  </span><span style=\"background-color: #ff0000\">    </span><span style=\"background-color: #008000\">          </span>  [2, 0, 8, 8, 2, 2, 2, 2, 2]\n",
       "<span style=\"background-color: #008000\">    </span><span style=\"background-color: #ff0000\">  </span><span style=\"background-color: #008000\">  </span><span style=\"background-color: #800080\">          </span>  [2, 2, 8, 2, 5, 5, 5, 5, 5]\n",
       "<span style=\"background-color: #008000\">        </span><span style=\"background-color: #800080\">  </span><span style=\"background-color: #008000\">      </span><span style=\"background-color: #800080\">  </span>  [2, 2, 2, 2, 5, 2, 2, 2, 5]\n",
       "<span style=\"background-color: #008000\">        </span><span style=\"background-color: #800080\">  </span><span style=\"background-color: #008000\">      </span><span style=\"background-color: #800080\">  </span>  [2, 2, 2, 2, 5, 2, 2, 2, 5]\n",
       "<span style=\"background-color: #008000\">        </span><span style=\"background-color: #800080\">  </span><span style=\"background-color: #008000\">      </span><span style=\"background-color: #800080\">  </span>  [2, 2, 2, 2, 5, 2, 2, 2, 5]\n",
       "<span style=\"background-color: #008000\">        </span><span style=\"background-color: #800080\">          </span>  [2, 2, 2, 2, 5, 5, 5, 5, 5]\n",
       "<span style=\"background-color: #008000\">                  </span>  [2, 2, 2, 2, 2, 2, 2, 2, 2]\n",
       "\n",
       "</pre>\n"
      ],
      "text/plain": [
       "\u001b[42m  \u001b[0m\u001b[42m  \u001b[0m\u001b[42m  \u001b[0m\u001b[42m  \u001b[0m\u001b[42m  \u001b[0m\u001b[42m  \u001b[0m\u001b[42m  \u001b[0m\u001b[42m  \u001b[0m\u001b[42m  \u001b[0m  [2, 2, 2, 2, 2, 2, 2, 2, 2]\n",
       "\u001b[42m  \u001b[0m\u001b[42m  \u001b[0m\u001b[42m  \u001b[0m\u001b[42m  \u001b[0m\u001b[42m  \u001b[0m\u001b[42m  \u001b[0m\u001b[42m  \u001b[0m\u001b[42m  \u001b[0m\u001b[42m  \u001b[0m  [2, 2, 2, 2, 2, 2, 2, 2, 2]\n",
       "\u001b[42m  \u001b[0m\u001b[42m  \u001b[0m\u001b[44m  \u001b[0m\u001b[42m  \u001b[0m\u001b[42m  \u001b[0m\u001b[42m  \u001b[0m\u001b[42m  \u001b[0m\u001b[42m  \u001b[0m\u001b[42m  \u001b[0m  [2, 2, 4, 2, 2, 2, 2, 2, 2]\n",
       "\u001b[42m  \u001b[0m\u001b[40m  \u001b[0m\u001b[101m  \u001b[0m\u001b[101m  \u001b[0m\u001b[42m  \u001b[0m\u001b[42m  \u001b[0m\u001b[42m  \u001b[0m\u001b[42m  \u001b[0m\u001b[42m  \u001b[0m  [2, 0, 8, 8, 2, 2, 2, 2, 2]\n",
       "\u001b[42m  \u001b[0m\u001b[42m  \u001b[0m\u001b[101m  \u001b[0m\u001b[42m  \u001b[0m\u001b[45m  \u001b[0m\u001b[45m  \u001b[0m\u001b[45m  \u001b[0m\u001b[45m  \u001b[0m\u001b[45m  \u001b[0m  [2, 2, 8, 2, 5, 5, 5, 5, 5]\n",
       "\u001b[42m  \u001b[0m\u001b[42m  \u001b[0m\u001b[42m  \u001b[0m\u001b[42m  \u001b[0m\u001b[45m  \u001b[0m\u001b[42m  \u001b[0m\u001b[42m  \u001b[0m\u001b[42m  \u001b[0m\u001b[45m  \u001b[0m  [2, 2, 2, 2, 5, 2, 2, 2, 5]\n",
       "\u001b[42m  \u001b[0m\u001b[42m  \u001b[0m\u001b[42m  \u001b[0m\u001b[42m  \u001b[0m\u001b[45m  \u001b[0m\u001b[42m  \u001b[0m\u001b[42m  \u001b[0m\u001b[42m  \u001b[0m\u001b[45m  \u001b[0m  [2, 2, 2, 2, 5, 2, 2, 2, 5]\n",
       "\u001b[42m  \u001b[0m\u001b[42m  \u001b[0m\u001b[42m  \u001b[0m\u001b[42m  \u001b[0m\u001b[45m  \u001b[0m\u001b[42m  \u001b[0m\u001b[42m  \u001b[0m\u001b[42m  \u001b[0m\u001b[45m  \u001b[0m  [2, 2, 2, 2, 5, 2, 2, 2, 5]\n",
       "\u001b[42m  \u001b[0m\u001b[42m  \u001b[0m\u001b[42m  \u001b[0m\u001b[42m  \u001b[0m\u001b[45m  \u001b[0m\u001b[45m  \u001b[0m\u001b[45m  \u001b[0m\u001b[45m  \u001b[0m\u001b[45m  \u001b[0m  [2, 2, 2, 2, 5, 5, 5, 5, 5]\n",
       "\u001b[42m  \u001b[0m\u001b[42m  \u001b[0m\u001b[42m  \u001b[0m\u001b[42m  \u001b[0m\u001b[42m  \u001b[0m\u001b[42m  \u001b[0m\u001b[42m  \u001b[0m\u001b[42m  \u001b[0m\u001b[42m  \u001b[0m  [2, 2, 2, 2, 2, 2, 2, 2, 2]\n",
       "\n"
      ]
     },
     "metadata": {},
     "output_type": "display_data"
    },
    {
     "name": "stdout",
     "output_type": "stream",
     "text": [
      "Predict output\n"
     ]
    },
    {
     "data": {
      "text/html": [
       "<pre style=\"white-space:pre;overflow-x:auto;line-height:normal;font-family:Menlo,'DejaVu Sans Mono',consolas,'Courier New',monospace\"><span style=\"background-color: #800080\">          </span>  [5 5 5 5 5]\n",
       "<span style=\"background-color: #800080\">  </span><span style=\"background-color: #008000\">  </span><span style=\"background-color: #ff0000\">    </span><span style=\"background-color: #800080\">  </span>  [5 2 8 8 5]\n",
       "<span style=\"background-color: #800080\">  </span><span style=\"background-color: #008000\">  </span><span style=\"background-color: #ff0000\">  </span><span style=\"background-color: #000000\">  </span><span style=\"background-color: #800080\">  </span>  [5 2 8 0 5]\n",
       "<span style=\"background-color: #800080\">  </span><span style=\"background-color: #008000\">      </span><span style=\"background-color: #800080\">  </span>  [5 2 2 2 5]\n",
       "<span style=\"background-color: #800080\">          </span>  [5 5 5 5 5]\n",
       "<span style=\"background-color: #008000\">          </span>  [2 2 2 2 2]\n",
       "\n",
       "</pre>\n"
      ],
      "text/plain": [
       "\u001b[45m  \u001b[0m\u001b[45m  \u001b[0m\u001b[45m  \u001b[0m\u001b[45m  \u001b[0m\u001b[45m  \u001b[0m  [5 5 5 5 5]\n",
       "\u001b[45m  \u001b[0m\u001b[42m  \u001b[0m\u001b[101m  \u001b[0m\u001b[101m  \u001b[0m\u001b[45m  \u001b[0m  [5 2 8 8 5]\n",
       "\u001b[45m  \u001b[0m\u001b[42m  \u001b[0m\u001b[101m  \u001b[0m\u001b[40m  \u001b[0m\u001b[45m  \u001b[0m  [5 2 8 0 5]\n",
       "\u001b[45m  \u001b[0m\u001b[42m  \u001b[0m\u001b[42m  \u001b[0m\u001b[42m  \u001b[0m\u001b[45m  \u001b[0m  [5 2 2 2 5]\n",
       "\u001b[45m  \u001b[0m\u001b[45m  \u001b[0m\u001b[45m  \u001b[0m\u001b[45m  \u001b[0m\u001b[45m  \u001b[0m  [5 5 5 5 5]\n",
       "\u001b[42m  \u001b[0m\u001b[42m  \u001b[0m\u001b[42m  \u001b[0m\u001b[42m  \u001b[0m\u001b[42m  \u001b[0m  [2 2 2 2 2]\n",
       "\n"
      ]
     },
     "metadata": {},
     "output_type": "display_data"
    },
    {
     "name": "stdout",
     "output_type": "stream",
     "text": [
      "Test output\n"
     ]
    },
    {
     "data": {
      "text/html": [
       "<pre style=\"white-space:pre;overflow-x:auto;line-height:normal;font-family:Menlo,'DejaVu Sans Mono',consolas,'Courier New',monospace\"><span style=\"background-color: #800080\">          </span>  [5, 5, 5, 5, 5]\n",
       "<span style=\"background-color: #800080\">  </span><span style=\"background-color: #008000\">  </span><span style=\"background-color: #000080\">  </span><span style=\"background-color: #008000\">  </span><span style=\"background-color: #800080\">  </span>  [5, 2, 4, 2, 5]\n",
       "<span style=\"background-color: #800080\">  </span><span style=\"background-color: #000000\">  </span><span style=\"background-color: #ff0000\">    </span><span style=\"background-color: #800080\">  </span>  [5, 0, 8, 8, 5]\n",
       "<span style=\"background-color: #800080\">  </span><span style=\"background-color: #008000\">  </span><span style=\"background-color: #ff0000\">  </span><span style=\"background-color: #008000\">  </span><span style=\"background-color: #800080\">  </span>  [5, 2, 8, 2, 5]\n",
       "<span style=\"background-color: #800080\">          </span>  [5, 5, 5, 5, 5]\n",
       "\n",
       "</pre>\n"
      ],
      "text/plain": [
       "\u001b[45m  \u001b[0m\u001b[45m  \u001b[0m\u001b[45m  \u001b[0m\u001b[45m  \u001b[0m\u001b[45m  \u001b[0m  [5, 5, 5, 5, 5]\n",
       "\u001b[45m  \u001b[0m\u001b[42m  \u001b[0m\u001b[44m  \u001b[0m\u001b[42m  \u001b[0m\u001b[45m  \u001b[0m  [5, 2, 4, 2, 5]\n",
       "\u001b[45m  \u001b[0m\u001b[40m  \u001b[0m\u001b[101m  \u001b[0m\u001b[101m  \u001b[0m\u001b[45m  \u001b[0m  [5, 0, 8, 8, 5]\n",
       "\u001b[45m  \u001b[0m\u001b[42m  \u001b[0m\u001b[101m  \u001b[0m\u001b[42m  \u001b[0m\u001b[45m  \u001b[0m  [5, 2, 8, 2, 5]\n",
       "\u001b[45m  \u001b[0m\u001b[45m  \u001b[0m\u001b[45m  \u001b[0m\u001b[45m  \u001b[0m\u001b[45m  \u001b[0m  [5, 5, 5, 5, 5]\n",
       "\n"
      ]
     },
     "metadata": {},
     "output_type": "display_data"
    },
    {
     "name": "stdout",
     "output_type": "stream",
     "text": [
      "============================================\n",
      "============================================\n",
      "Test input\n"
     ]
    },
    {
     "data": {
      "text/html": [
       "<pre style=\"white-space:pre;overflow-x:auto;line-height:normal;font-family:Menlo,'DejaVu Sans Mono',consolas,'Courier New',monospace\"><span style=\"background-color: #800080\">      </span><span style=\"background-color: #808000\">          </span><span style=\"background-color: #800080\">  </span>  [5, 5, 5, 3, 3, 3, 3, 3, 5]\n",
       "<span style=\"background-color: #800080\">      </span><span style=\"background-color: #808000\">  </span><span style=\"background-color: #800080\">      </span><span style=\"background-color: #808000\">  </span><span style=\"background-color: #800080\">  </span>  [5, 5, 5, 3, 5, 5, 5, 3, 5]\n",
       "<span style=\"background-color: #800080\">      </span><span style=\"background-color: #808000\">  </span><span style=\"background-color: #800080\">      </span><span style=\"background-color: #808000\">  </span><span style=\"background-color: #800080\">  </span>  [5, 5, 5, 3, 5, 5, 5, 3, 5]\n",
       "<span style=\"background-color: #800080\">      </span><span style=\"background-color: #808000\">  </span><span style=\"background-color: #800080\">      </span><span style=\"background-color: #808000\">  </span><span style=\"background-color: #800080\">  </span>  [5, 5, 5, 3, 5, 5, 5, 3, 5]\n",
       "<span style=\"background-color: #800080\">      </span><span style=\"background-color: #808000\">          </span><span style=\"background-color: #800080\">  </span>  [5, 5, 5, 3, 3, 3, 3, 3, 5]\n",
       "<span style=\"background-color: #800080\">                  </span>  [5, 5, 5, 5, 5, 5, 5, 5, 5]\n",
       "<span style=\"background-color: #800080\">                  </span>  [5, 5, 5, 5, 5, 5, 5, 5, 5]\n",
       "<span style=\"background-color: #ff0000\">  </span><span style=\"background-color: #000000\">  </span><span style=\"background-color: #008000\">  </span><span style=\"background-color: #800080\">            </span>  [8, 0, 2, 5, 5, 5, 5, 5, 5]\n",
       "<span style=\"background-color: #008080\">  </span><span style=\"background-color: #c0c0c0\">  </span><span style=\"background-color: #800080\">              </span>  [6, 7, 5, 5, 5, 5, 5, 5, 5]\n",
       "<span style=\"background-color: #00ff00\">  </span><span style=\"background-color: #000000\">  </span><span style=\"background-color: #800080\">              </span>  [9, 0, 5, 5, 5, 5, 5, 5, 5]\n",
       "\n",
       "</pre>\n"
      ],
      "text/plain": [
       "\u001b[45m  \u001b[0m\u001b[45m  \u001b[0m\u001b[45m  \u001b[0m\u001b[43m  \u001b[0m\u001b[43m  \u001b[0m\u001b[43m  \u001b[0m\u001b[43m  \u001b[0m\u001b[43m  \u001b[0m\u001b[45m  \u001b[0m  [5, 5, 5, 3, 3, 3, 3, 3, 5]\n",
       "\u001b[45m  \u001b[0m\u001b[45m  \u001b[0m\u001b[45m  \u001b[0m\u001b[43m  \u001b[0m\u001b[45m  \u001b[0m\u001b[45m  \u001b[0m\u001b[45m  \u001b[0m\u001b[43m  \u001b[0m\u001b[45m  \u001b[0m  [5, 5, 5, 3, 5, 5, 5, 3, 5]\n",
       "\u001b[45m  \u001b[0m\u001b[45m  \u001b[0m\u001b[45m  \u001b[0m\u001b[43m  \u001b[0m\u001b[45m  \u001b[0m\u001b[45m  \u001b[0m\u001b[45m  \u001b[0m\u001b[43m  \u001b[0m\u001b[45m  \u001b[0m  [5, 5, 5, 3, 5, 5, 5, 3, 5]\n",
       "\u001b[45m  \u001b[0m\u001b[45m  \u001b[0m\u001b[45m  \u001b[0m\u001b[43m  \u001b[0m\u001b[45m  \u001b[0m\u001b[45m  \u001b[0m\u001b[45m  \u001b[0m\u001b[43m  \u001b[0m\u001b[45m  \u001b[0m  [5, 5, 5, 3, 5, 5, 5, 3, 5]\n",
       "\u001b[45m  \u001b[0m\u001b[45m  \u001b[0m\u001b[45m  \u001b[0m\u001b[43m  \u001b[0m\u001b[43m  \u001b[0m\u001b[43m  \u001b[0m\u001b[43m  \u001b[0m\u001b[43m  \u001b[0m\u001b[45m  \u001b[0m  [5, 5, 5, 3, 3, 3, 3, 3, 5]\n",
       "\u001b[45m  \u001b[0m\u001b[45m  \u001b[0m\u001b[45m  \u001b[0m\u001b[45m  \u001b[0m\u001b[45m  \u001b[0m\u001b[45m  \u001b[0m\u001b[45m  \u001b[0m\u001b[45m  \u001b[0m\u001b[45m  \u001b[0m  [5, 5, 5, 5, 5, 5, 5, 5, 5]\n",
       "\u001b[45m  \u001b[0m\u001b[45m  \u001b[0m\u001b[45m  \u001b[0m\u001b[45m  \u001b[0m\u001b[45m  \u001b[0m\u001b[45m  \u001b[0m\u001b[45m  \u001b[0m\u001b[45m  \u001b[0m\u001b[45m  \u001b[0m  [5, 5, 5, 5, 5, 5, 5, 5, 5]\n",
       "\u001b[101m  \u001b[0m\u001b[40m  \u001b[0m\u001b[42m  \u001b[0m\u001b[45m  \u001b[0m\u001b[45m  \u001b[0m\u001b[45m  \u001b[0m\u001b[45m  \u001b[0m\u001b[45m  \u001b[0m\u001b[45m  \u001b[0m  [8, 0, 2, 5, 5, 5, 5, 5, 5]\n",
       "\u001b[46m  \u001b[0m\u001b[47m  \u001b[0m\u001b[45m  \u001b[0m\u001b[45m  \u001b[0m\u001b[45m  \u001b[0m\u001b[45m  \u001b[0m\u001b[45m  \u001b[0m\u001b[45m  \u001b[0m\u001b[45m  \u001b[0m  [6, 7, 5, 5, 5, 5, 5, 5, 5]\n",
       "\u001b[102m  \u001b[0m\u001b[40m  \u001b[0m\u001b[45m  \u001b[0m\u001b[45m  \u001b[0m\u001b[45m  \u001b[0m\u001b[45m  \u001b[0m\u001b[45m  \u001b[0m\u001b[45m  \u001b[0m\u001b[45m  \u001b[0m  [9, 0, 5, 5, 5, 5, 5, 5, 5]\n",
       "\n"
      ]
     },
     "metadata": {},
     "output_type": "display_data"
    },
    {
     "name": "stdout",
     "output_type": "stream",
     "text": [
      "Predict output\n"
     ]
    },
    {
     "data": {
      "text/html": [
       "<pre style=\"white-space:pre;overflow-x:auto;line-height:normal;font-family:Menlo,'DejaVu Sans Mono',consolas,'Courier New',monospace\"><span style=\"background-color: #808000\">          </span>  [3 3 3 3 3]\n",
       "<span style=\"background-color: #808000\">  </span><span style=\"background-color: #000000\">  </span><span style=\"background-color: #ff0000\">  </span><span style=\"background-color: #800080\">  </span><span style=\"background-color: #808000\">  </span>  [3 0 8 5 3]\n",
       "<span style=\"background-color: #808000\">  </span><span style=\"background-color: #800080\">  </span><span style=\"background-color: #008080\">  </span><span style=\"background-color: #c0c0c0\">  </span><span style=\"background-color: #808000\">  </span>  [3 5 6 7 3]\n",
       "<span style=\"background-color: #808000\">  </span><span style=\"background-color: #000000\">  </span><span style=\"background-color: #00ff00\">  </span><span style=\"background-color: #800080\">  </span><span style=\"background-color: #808000\">  </span>  [3 0 9 5 3]\n",
       "<span style=\"background-color: #808000\">          </span>  [3 3 3 3 3]\n",
       "<span style=\"background-color: #800080\">          </span>  [5 5 5 5 5]\n",
       "\n",
       "</pre>\n"
      ],
      "text/plain": [
       "\u001b[43m  \u001b[0m\u001b[43m  \u001b[0m\u001b[43m  \u001b[0m\u001b[43m  \u001b[0m\u001b[43m  \u001b[0m  [3 3 3 3 3]\n",
       "\u001b[43m  \u001b[0m\u001b[40m  \u001b[0m\u001b[101m  \u001b[0m\u001b[45m  \u001b[0m\u001b[43m  \u001b[0m  [3 0 8 5 3]\n",
       "\u001b[43m  \u001b[0m\u001b[45m  \u001b[0m\u001b[46m  \u001b[0m\u001b[47m  \u001b[0m\u001b[43m  \u001b[0m  [3 5 6 7 3]\n",
       "\u001b[43m  \u001b[0m\u001b[40m  \u001b[0m\u001b[102m  \u001b[0m\u001b[45m  \u001b[0m\u001b[43m  \u001b[0m  [3 0 9 5 3]\n",
       "\u001b[43m  \u001b[0m\u001b[43m  \u001b[0m\u001b[43m  \u001b[0m\u001b[43m  \u001b[0m\u001b[43m  \u001b[0m  [3 3 3 3 3]\n",
       "\u001b[45m  \u001b[0m\u001b[45m  \u001b[0m\u001b[45m  \u001b[0m\u001b[45m  \u001b[0m\u001b[45m  \u001b[0m  [5 5 5 5 5]\n",
       "\n"
      ]
     },
     "metadata": {},
     "output_type": "display_data"
    },
    {
     "name": "stdout",
     "output_type": "stream",
     "text": [
      "Test output\n"
     ]
    },
    {
     "data": {
      "text/html": [
       "<pre style=\"white-space:pre;overflow-x:auto;line-height:normal;font-family:Menlo,'DejaVu Sans Mono',consolas,'Courier New',monospace\"><span style=\"background-color: #808000\">          </span>  [3, 3, 3, 3, 3]\n",
       "<span style=\"background-color: #808000\">  </span><span style=\"background-color: #ff0000\">  </span><span style=\"background-color: #000000\">  </span><span style=\"background-color: #008000\">  </span><span style=\"background-color: #808000\">  </span>  [3, 8, 0, 2, 3]\n",
       "<span style=\"background-color: #808000\">  </span><span style=\"background-color: #008080\">  </span><span style=\"background-color: #c0c0c0\">  </span><span style=\"background-color: #800080\">  </span><span style=\"background-color: #808000\">  </span>  [3, 6, 7, 5, 3]\n",
       "<span style=\"background-color: #808000\">  </span><span style=\"background-color: #00ff00\">  </span><span style=\"background-color: #000000\">  </span><span style=\"background-color: #800080\">  </span><span style=\"background-color: #808000\">  </span>  [3, 9, 0, 5, 3]\n",
       "<span style=\"background-color: #808000\">          </span>  [3, 3, 3, 3, 3]\n",
       "\n",
       "</pre>\n"
      ],
      "text/plain": [
       "\u001b[43m  \u001b[0m\u001b[43m  \u001b[0m\u001b[43m  \u001b[0m\u001b[43m  \u001b[0m\u001b[43m  \u001b[0m  [3, 3, 3, 3, 3]\n",
       "\u001b[43m  \u001b[0m\u001b[101m  \u001b[0m\u001b[40m  \u001b[0m\u001b[42m  \u001b[0m\u001b[43m  \u001b[0m  [3, 8, 0, 2, 3]\n",
       "\u001b[43m  \u001b[0m\u001b[46m  \u001b[0m\u001b[47m  \u001b[0m\u001b[45m  \u001b[0m\u001b[43m  \u001b[0m  [3, 6, 7, 5, 3]\n",
       "\u001b[43m  \u001b[0m\u001b[102m  \u001b[0m\u001b[40m  \u001b[0m\u001b[45m  \u001b[0m\u001b[43m  \u001b[0m  [3, 9, 0, 5, 3]\n",
       "\u001b[43m  \u001b[0m\u001b[43m  \u001b[0m\u001b[43m  \u001b[0m\u001b[43m  \u001b[0m\u001b[43m  \u001b[0m  [3, 3, 3, 3, 3]\n",
       "\n"
      ]
     },
     "metadata": {},
     "output_type": "display_data"
    },
    {
     "name": "stdout",
     "output_type": "stream",
     "text": [
      "============================================\n",
      "============================================\n",
      "Test input\n"
     ]
    },
    {
     "data": {
      "text/html": [
       "<pre style=\"white-space:pre;overflow-x:auto;line-height:normal;font-family:Menlo,'DejaVu Sans Mono',consolas,'Courier New',monospace\"><span style=\"background-color: #008000\">                  </span><span style=\"background-color: #c0c0c0\">  </span>  [2, 2, 2, 2, 2, 2, 2, 2, 2, 7]\n",
       "<span style=\"background-color: #008000\">              </span><span style=\"background-color: #800000\">  </span><span style=\"background-color: #000000\">  </span><span style=\"background-color: #ff0000\">  </span>  [2, 2, 2, 2, 2, 2, 2, 1, 0, 8]\n",
       "<span style=\"background-color: #008000\">    </span><span style=\"background-color: #800080\">          </span><span style=\"background-color: #008000\">      </span>  [2, 2, 5, 5, 5, 5, 5, 2, 2, 2]\n",
       "<span style=\"background-color: #008000\">    </span><span style=\"background-color: #800080\">  </span><span style=\"background-color: #008000\">      </span><span style=\"background-color: #800080\">  </span><span style=\"background-color: #008000\">      </span>  [2, 2, 5, 2, 2, 2, 5, 2, 2, 2]\n",
       "<span style=\"background-color: #008000\">    </span><span style=\"background-color: #800080\">  </span><span style=\"background-color: #008000\">      </span><span style=\"background-color: #800080\">  </span><span style=\"background-color: #008000\">      </span>  [2, 2, 5, 2, 2, 2, 5, 2, 2, 2]\n",
       "<span style=\"background-color: #008000\">    </span><span style=\"background-color: #800080\">          </span><span style=\"background-color: #008000\">      </span>  [2, 2, 5, 5, 5, 5, 5, 2, 2, 2]\n",
       "<span style=\"background-color: #008000\">                    </span>  [2, 2, 2, 2, 2, 2, 2, 2, 2, 2]\n",
       "<span style=\"background-color: #008000\">                    </span>  [2, 2, 2, 2, 2, 2, 2, 2, 2, 2]\n",
       "<span style=\"background-color: #008000\">                    </span>  [2, 2, 2, 2, 2, 2, 2, 2, 2, 2]\n",
       "\n",
       "</pre>\n"
      ],
      "text/plain": [
       "\u001b[42m  \u001b[0m\u001b[42m  \u001b[0m\u001b[42m  \u001b[0m\u001b[42m  \u001b[0m\u001b[42m  \u001b[0m\u001b[42m  \u001b[0m\u001b[42m  \u001b[0m\u001b[42m  \u001b[0m\u001b[42m  \u001b[0m\u001b[47m  \u001b[0m  [2, 2, 2, 2, 2, 2, 2, 2, 2, 7]\n",
       "\u001b[42m  \u001b[0m\u001b[42m  \u001b[0m\u001b[42m  \u001b[0m\u001b[42m  \u001b[0m\u001b[42m  \u001b[0m\u001b[42m  \u001b[0m\u001b[42m  \u001b[0m\u001b[41m  \u001b[0m\u001b[40m  \u001b[0m\u001b[101m  \u001b[0m  [2, 2, 2, 2, 2, 2, 2, 1, 0, 8]\n",
       "\u001b[42m  \u001b[0m\u001b[42m  \u001b[0m\u001b[45m  \u001b[0m\u001b[45m  \u001b[0m\u001b[45m  \u001b[0m\u001b[45m  \u001b[0m\u001b[45m  \u001b[0m\u001b[42m  \u001b[0m\u001b[42m  \u001b[0m\u001b[42m  \u001b[0m  [2, 2, 5, 5, 5, 5, 5, 2, 2, 2]\n",
       "\u001b[42m  \u001b[0m\u001b[42m  \u001b[0m\u001b[45m  \u001b[0m\u001b[42m  \u001b[0m\u001b[42m  \u001b[0m\u001b[42m  \u001b[0m\u001b[45m  \u001b[0m\u001b[42m  \u001b[0m\u001b[42m  \u001b[0m\u001b[42m  \u001b[0m  [2, 2, 5, 2, 2, 2, 5, 2, 2, 2]\n",
       "\u001b[42m  \u001b[0m\u001b[42m  \u001b[0m\u001b[45m  \u001b[0m\u001b[42m  \u001b[0m\u001b[42m  \u001b[0m\u001b[42m  \u001b[0m\u001b[45m  \u001b[0m\u001b[42m  \u001b[0m\u001b[42m  \u001b[0m\u001b[42m  \u001b[0m  [2, 2, 5, 2, 2, 2, 5, 2, 2, 2]\n",
       "\u001b[42m  \u001b[0m\u001b[42m  \u001b[0m\u001b[45m  \u001b[0m\u001b[45m  \u001b[0m\u001b[45m  \u001b[0m\u001b[45m  \u001b[0m\u001b[45m  \u001b[0m\u001b[42m  \u001b[0m\u001b[42m  \u001b[0m\u001b[42m  \u001b[0m  [2, 2, 5, 5, 5, 5, 5, 2, 2, 2]\n",
       "\u001b[42m  \u001b[0m\u001b[42m  \u001b[0m\u001b[42m  \u001b[0m\u001b[42m  \u001b[0m\u001b[42m  \u001b[0m\u001b[42m  \u001b[0m\u001b[42m  \u001b[0m\u001b[42m  \u001b[0m\u001b[42m  \u001b[0m\u001b[42m  \u001b[0m  [2, 2, 2, 2, 2, 2, 2, 2, 2, 2]\n",
       "\u001b[42m  \u001b[0m\u001b[42m  \u001b[0m\u001b[42m  \u001b[0m\u001b[42m  \u001b[0m\u001b[42m  \u001b[0m\u001b[42m  \u001b[0m\u001b[42m  \u001b[0m\u001b[42m  \u001b[0m\u001b[42m  \u001b[0m\u001b[42m  \u001b[0m  [2, 2, 2, 2, 2, 2, 2, 2, 2, 2]\n",
       "\u001b[42m  \u001b[0m\u001b[42m  \u001b[0m\u001b[42m  \u001b[0m\u001b[42m  \u001b[0m\u001b[42m  \u001b[0m\u001b[42m  \u001b[0m\u001b[42m  \u001b[0m\u001b[42m  \u001b[0m\u001b[42m  \u001b[0m\u001b[42m  \u001b[0m  [2, 2, 2, 2, 2, 2, 2, 2, 2, 2]\n",
       "\n"
      ]
     },
     "metadata": {},
     "output_type": "display_data"
    },
    {
     "name": "stdout",
     "output_type": "stream",
     "text": [
      "Predict output\n"
     ]
    },
    {
     "data": {
      "text/html": [
       "<pre style=\"white-space:pre;overflow-x:auto;line-height:normal;font-family:Menlo,'DejaVu Sans Mono',consolas,'Courier New',monospace\"><span style=\"background-color: #800080\">          </span>  [5 5 5 5 5]\n",
       "<span style=\"background-color: #800080\">  </span><span style=\"background-color: #008000\">    </span><span style=\"background-color: #c0c0c0\">  </span><span style=\"background-color: #800080\">  </span>  [5 2 2 7 5]\n",
       "<span style=\"background-color: #800080\">  </span><span style=\"background-color: #800000\">  </span><span style=\"background-color: #000000\">  </span><span style=\"background-color: #ff0000\">  </span><span style=\"background-color: #800080\">  </span>  [5 1 0 8 5]\n",
       "<span style=\"background-color: #800080\">          </span>  [5 5 5 5 5]\n",
       "\n",
       "</pre>\n"
      ],
      "text/plain": [
       "\u001b[45m  \u001b[0m\u001b[45m  \u001b[0m\u001b[45m  \u001b[0m\u001b[45m  \u001b[0m\u001b[45m  \u001b[0m  [5 5 5 5 5]\n",
       "\u001b[45m  \u001b[0m\u001b[42m  \u001b[0m\u001b[42m  \u001b[0m\u001b[47m  \u001b[0m\u001b[45m  \u001b[0m  [5 2 2 7 5]\n",
       "\u001b[45m  \u001b[0m\u001b[41m  \u001b[0m\u001b[40m  \u001b[0m\u001b[101m  \u001b[0m\u001b[45m  \u001b[0m  [5 1 0 8 5]\n",
       "\u001b[45m  \u001b[0m\u001b[45m  \u001b[0m\u001b[45m  \u001b[0m\u001b[45m  \u001b[0m\u001b[45m  \u001b[0m  [5 5 5 5 5]\n",
       "\n"
      ]
     },
     "metadata": {},
     "output_type": "display_data"
    },
    {
     "name": "stdout",
     "output_type": "stream",
     "text": [
      "Test output\n"
     ]
    },
    {
     "data": {
      "text/html": [
       "<pre style=\"white-space:pre;overflow-x:auto;line-height:normal;font-family:Menlo,'DejaVu Sans Mono',consolas,'Courier New',monospace\"><span style=\"background-color: #800080\">          </span>  [5, 5, 5, 5, 5]\n",
       "<span style=\"background-color: #800080\">  </span><span style=\"background-color: #008000\">    </span><span style=\"background-color: #c0c0c0\">  </span><span style=\"background-color: #800080\">  </span>  [5, 2, 2, 7, 5]\n",
       "<span style=\"background-color: #800080\">  </span><span style=\"background-color: #800000\">  </span><span style=\"background-color: #000000\">  </span><span style=\"background-color: #ff0000\">  </span><span style=\"background-color: #800080\">  </span>  [5, 1, 0, 8, 5]\n",
       "<span style=\"background-color: #800080\">          </span>  [5, 5, 5, 5, 5]\n",
       "\n",
       "</pre>\n"
      ],
      "text/plain": [
       "\u001b[45m  \u001b[0m\u001b[45m  \u001b[0m\u001b[45m  \u001b[0m\u001b[45m  \u001b[0m\u001b[45m  \u001b[0m  [5, 5, 5, 5, 5]\n",
       "\u001b[45m  \u001b[0m\u001b[42m  \u001b[0m\u001b[42m  \u001b[0m\u001b[47m  \u001b[0m\u001b[45m  \u001b[0m  [5, 2, 2, 7, 5]\n",
       "\u001b[45m  \u001b[0m\u001b[41m  \u001b[0m\u001b[40m  \u001b[0m\u001b[101m  \u001b[0m\u001b[45m  \u001b[0m  [5, 1, 0, 8, 5]\n",
       "\u001b[45m  \u001b[0m\u001b[45m  \u001b[0m\u001b[45m  \u001b[0m\u001b[45m  \u001b[0m\u001b[45m  \u001b[0m  [5, 5, 5, 5, 5]\n",
       "\n"
      ]
     },
     "metadata": {},
     "output_type": "display_data"
    },
    {
     "name": "stdout",
     "output_type": "stream",
     "text": [
      "============================================\n",
      "============================================\n",
      "Test input\n"
     ]
    },
    {
     "data": {
      "text/html": [
       "<pre style=\"white-space:pre;overflow-x:auto;line-height:normal;font-family:Menlo,'DejaVu Sans Mono',consolas,'Courier New',monospace\"><span style=\"background-color: #008000\">        </span><span style=\"background-color: #800000\">  </span><span style=\"background-color: #008000\">    </span>  [2, 2, 2, 2, 1, 2, 2]\n",
       "<span style=\"background-color: #008000\">        </span><span style=\"background-color: #000080\">  </span><span style=\"background-color: #008000\">    </span>  [2, 2, 2, 2, 4, 2, 2]\n",
       "<span style=\"background-color: #008080\">        </span><span style=\"background-color: #008000\">  </span><span style=\"background-color: #000080\">  </span><span style=\"background-color: #008000\">  </span>  [6, 6, 6, 6, 2, 4, 2]\n",
       "<span style=\"background-color: #008080\">  </span><span style=\"background-color: #008000\">    </span><span style=\"background-color: #008080\">  </span><span style=\"background-color: #008000\">  </span><span style=\"background-color: #800000\">  </span><span style=\"background-color: #008000\">  </span>  [6, 2, 2, 6, 2, 1, 2]\n",
       "<span style=\"background-color: #008080\">  </span><span style=\"background-color: #008000\">    </span><span style=\"background-color: #008080\">  </span><span style=\"background-color: #008000\">      </span>  [6, 2, 2, 6, 2, 2, 2]\n",
       "<span style=\"background-color: #008080\">  </span><span style=\"background-color: #008000\">    </span><span style=\"background-color: #008080\">  </span><span style=\"background-color: #008000\">      </span>  [6, 2, 2, 6, 2, 2, 2]\n",
       "<span style=\"background-color: #008080\">  </span><span style=\"background-color: #008000\">    </span><span style=\"background-color: #008080\">  </span><span style=\"background-color: #008000\">      </span>  [6, 2, 2, 6, 2, 2, 2]\n",
       "<span style=\"background-color: #008080\">        </span><span style=\"background-color: #008000\">      </span>  [6, 6, 6, 6, 2, 2, 2]\n",
       "<span style=\"background-color: #008000\">              </span>  [2, 2, 2, 2, 2, 2, 2]\n",
       "<span style=\"background-color: #008000\">              </span>  [2, 2, 2, 2, 2, 2, 2]\n",
       "\n",
       "</pre>\n"
      ],
      "text/plain": [
       "\u001b[42m  \u001b[0m\u001b[42m  \u001b[0m\u001b[42m  \u001b[0m\u001b[42m  \u001b[0m\u001b[41m  \u001b[0m\u001b[42m  \u001b[0m\u001b[42m  \u001b[0m  [2, 2, 2, 2, 1, 2, 2]\n",
       "\u001b[42m  \u001b[0m\u001b[42m  \u001b[0m\u001b[42m  \u001b[0m\u001b[42m  \u001b[0m\u001b[44m  \u001b[0m\u001b[42m  \u001b[0m\u001b[42m  \u001b[0m  [2, 2, 2, 2, 4, 2, 2]\n",
       "\u001b[46m  \u001b[0m\u001b[46m  \u001b[0m\u001b[46m  \u001b[0m\u001b[46m  \u001b[0m\u001b[42m  \u001b[0m\u001b[44m  \u001b[0m\u001b[42m  \u001b[0m  [6, 6, 6, 6, 2, 4, 2]\n",
       "\u001b[46m  \u001b[0m\u001b[42m  \u001b[0m\u001b[42m  \u001b[0m\u001b[46m  \u001b[0m\u001b[42m  \u001b[0m\u001b[41m  \u001b[0m\u001b[42m  \u001b[0m  [6, 2, 2, 6, 2, 1, 2]\n",
       "\u001b[46m  \u001b[0m\u001b[42m  \u001b[0m\u001b[42m  \u001b[0m\u001b[46m  \u001b[0m\u001b[42m  \u001b[0m\u001b[42m  \u001b[0m\u001b[42m  \u001b[0m  [6, 2, 2, 6, 2, 2, 2]\n",
       "\u001b[46m  \u001b[0m\u001b[42m  \u001b[0m\u001b[42m  \u001b[0m\u001b[46m  \u001b[0m\u001b[42m  \u001b[0m\u001b[42m  \u001b[0m\u001b[42m  \u001b[0m  [6, 2, 2, 6, 2, 2, 2]\n",
       "\u001b[46m  \u001b[0m\u001b[42m  \u001b[0m\u001b[42m  \u001b[0m\u001b[46m  \u001b[0m\u001b[42m  \u001b[0m\u001b[42m  \u001b[0m\u001b[42m  \u001b[0m  [6, 2, 2, 6, 2, 2, 2]\n",
       "\u001b[46m  \u001b[0m\u001b[46m  \u001b[0m\u001b[46m  \u001b[0m\u001b[46m  \u001b[0m\u001b[42m  \u001b[0m\u001b[42m  \u001b[0m\u001b[42m  \u001b[0m  [6, 6, 6, 6, 2, 2, 2]\n",
       "\u001b[42m  \u001b[0m\u001b[42m  \u001b[0m\u001b[42m  \u001b[0m\u001b[42m  \u001b[0m\u001b[42m  \u001b[0m\u001b[42m  \u001b[0m\u001b[42m  \u001b[0m  [2, 2, 2, 2, 2, 2, 2]\n",
       "\u001b[42m  \u001b[0m\u001b[42m  \u001b[0m\u001b[42m  \u001b[0m\u001b[42m  \u001b[0m\u001b[42m  \u001b[0m\u001b[42m  \u001b[0m\u001b[42m  \u001b[0m  [2, 2, 2, 2, 2, 2, 2]\n",
       "\n"
      ]
     },
     "metadata": {},
     "output_type": "display_data"
    },
    {
     "name": "stdout",
     "output_type": "stream",
     "text": [
      "Predict output\n"
     ]
    },
    {
     "data": {
      "text/html": [
       "<pre style=\"white-space:pre;overflow-x:auto;line-height:normal;font-family:Menlo,'DejaVu Sans Mono',consolas,'Courier New',monospace\"><span style=\"background-color: #008080\">        </span>  [6 6 6 6]\n",
       "<span style=\"background-color: #008080\">  </span><span style=\"background-color: #008000\">  </span><span style=\"background-color: #800000\">  </span><span style=\"background-color: #008080\">  </span>  [6 2 1 6]\n",
       "<span style=\"background-color: #008080\">  </span><span style=\"background-color: #008000\">  </span><span style=\"background-color: #000080\">  </span><span style=\"background-color: #008080\">  </span>  [6 2 4 6]\n",
       "<span style=\"background-color: #008080\">  </span><span style=\"background-color: #008000\">    </span><span style=\"background-color: #008080\">  </span>  [6 2 2 6]\n",
       "<span style=\"background-color: #008080\">  </span><span style=\"background-color: #008000\">    </span><span style=\"background-color: #008080\">  </span>  [6 2 2 6]\n",
       "<span style=\"background-color: #008080\">        </span>  [6 6 6 6]\n",
       "\n",
       "</pre>\n"
      ],
      "text/plain": [
       "\u001b[46m  \u001b[0m\u001b[46m  \u001b[0m\u001b[46m  \u001b[0m\u001b[46m  \u001b[0m  [6 6 6 6]\n",
       "\u001b[46m  \u001b[0m\u001b[42m  \u001b[0m\u001b[41m  \u001b[0m\u001b[46m  \u001b[0m  [6 2 1 6]\n",
       "\u001b[46m  \u001b[0m\u001b[42m  \u001b[0m\u001b[44m  \u001b[0m\u001b[46m  \u001b[0m  [6 2 4 6]\n",
       "\u001b[46m  \u001b[0m\u001b[42m  \u001b[0m\u001b[42m  \u001b[0m\u001b[46m  \u001b[0m  [6 2 2 6]\n",
       "\u001b[46m  \u001b[0m\u001b[42m  \u001b[0m\u001b[42m  \u001b[0m\u001b[46m  \u001b[0m  [6 2 2 6]\n",
       "\u001b[46m  \u001b[0m\u001b[46m  \u001b[0m\u001b[46m  \u001b[0m\u001b[46m  \u001b[0m  [6 6 6 6]\n",
       "\n"
      ]
     },
     "metadata": {},
     "output_type": "display_data"
    },
    {
     "name": "stdout",
     "output_type": "stream",
     "text": [
      "Test output\n"
     ]
    },
    {
     "data": {
      "text/html": [
       "<pre style=\"white-space:pre;overflow-x:auto;line-height:normal;font-family:Menlo,'DejaVu Sans Mono',consolas,'Courier New',monospace\"><span style=\"background-color: #008080\">        </span>  [6, 6, 6, 6]\n",
       "<span style=\"background-color: #008080\">  </span><span style=\"background-color: #800000\">  </span><span style=\"background-color: #008000\">  </span><span style=\"background-color: #008080\">  </span>  [6, 1, 2, 6]\n",
       "<span style=\"background-color: #008080\">  </span><span style=\"background-color: #000080\">  </span><span style=\"background-color: #008000\">  </span><span style=\"background-color: #008080\">  </span>  [6, 4, 2, 6]\n",
       "<span style=\"background-color: #008080\">  </span><span style=\"background-color: #008000\">  </span><span style=\"background-color: #000080\">  </span><span style=\"background-color: #008080\">  </span>  [6, 2, 4, 6]\n",
       "<span style=\"background-color: #008080\">  </span><span style=\"background-color: #008000\">  </span><span style=\"background-color: #800000\">  </span><span style=\"background-color: #008080\">  </span>  [6, 2, 1, 6]\n",
       "<span style=\"background-color: #008080\">        </span>  [6, 6, 6, 6]\n",
       "\n",
       "</pre>\n"
      ],
      "text/plain": [
       "\u001b[46m  \u001b[0m\u001b[46m  \u001b[0m\u001b[46m  \u001b[0m\u001b[46m  \u001b[0m  [6, 6, 6, 6]\n",
       "\u001b[46m  \u001b[0m\u001b[41m  \u001b[0m\u001b[42m  \u001b[0m\u001b[46m  \u001b[0m  [6, 1, 2, 6]\n",
       "\u001b[46m  \u001b[0m\u001b[44m  \u001b[0m\u001b[42m  \u001b[0m\u001b[46m  \u001b[0m  [6, 4, 2, 6]\n",
       "\u001b[46m  \u001b[0m\u001b[42m  \u001b[0m\u001b[44m  \u001b[0m\u001b[46m  \u001b[0m  [6, 2, 4, 6]\n",
       "\u001b[46m  \u001b[0m\u001b[42m  \u001b[0m\u001b[41m  \u001b[0m\u001b[46m  \u001b[0m  [6, 2, 1, 6]\n",
       "\u001b[46m  \u001b[0m\u001b[46m  \u001b[0m\u001b[46m  \u001b[0m\u001b[46m  \u001b[0m  [6, 6, 6, 6]\n",
       "\n"
      ]
     },
     "metadata": {},
     "output_type": "display_data"
    },
    {
     "name": "stdout",
     "output_type": "stream",
     "text": [
      "============================================\n",
      "============================================\n",
      "Test input\n"
     ]
    },
    {
     "data": {
      "text/html": [
       "<pre style=\"white-space:pre;overflow-x:auto;line-height:normal;font-family:Menlo,'DejaVu Sans Mono',consolas,'Courier New',monospace\"><span style=\"background-color: #008000\">                    </span>  [2, 2, 2, 2, 2, 2, 2, 2, 2, 2]\n",
       "<span style=\"background-color: #008000\">                </span><span style=\"background-color: #ff0000\">  </span><span style=\"background-color: #008000\">  </span>  [2, 2, 2, 2, 2, 2, 2, 2, 8, 2]\n",
       "<span style=\"background-color: #008000\">              </span><span style=\"background-color: #ff0000\">      </span>  [2, 2, 2, 2, 2, 2, 2, 8, 8, 8]\n",
       "<span style=\"background-color: #008000\">    </span><span style=\"background-color: #c0c0c0\">          </span><span style=\"background-color: #008000\">  </span><span style=\"background-color: #ff0000\">    </span>  [2, 2, 7, 7, 7, 7, 7, 2, 8, 8]\n",
       "<span style=\"background-color: #008000\">    </span><span style=\"background-color: #c0c0c0\">  </span><span style=\"background-color: #008000\">      </span><span style=\"background-color: #c0c0c0\">  </span><span style=\"background-color: #008000\">      </span>  [2, 2, 7, 2, 2, 2, 7, 2, 2, 2]\n",
       "<span style=\"background-color: #008000\">    </span><span style=\"background-color: #c0c0c0\">  </span><span style=\"background-color: #008000\">      </span><span style=\"background-color: #c0c0c0\">  </span><span style=\"background-color: #008000\">      </span>  [2, 2, 7, 2, 2, 2, 7, 2, 2, 2]\n",
       "<span style=\"background-color: #008000\">    </span><span style=\"background-color: #c0c0c0\">  </span><span style=\"background-color: #008000\">      </span><span style=\"background-color: #c0c0c0\">  </span><span style=\"background-color: #008000\">      </span>  [2, 2, 7, 2, 2, 2, 7, 2, 2, 2]\n",
       "<span style=\"background-color: #008000\">    </span><span style=\"background-color: #c0c0c0\">          </span><span style=\"background-color: #008000\">      </span>  [2, 2, 7, 7, 7, 7, 7, 2, 2, 2]\n",
       "<span style=\"background-color: #008000\">                    </span>  [2, 2, 2, 2, 2, 2, 2, 2, 2, 2]\n",
       "<span style=\"background-color: #008000\">                    </span>  [2, 2, 2, 2, 2, 2, 2, 2, 2, 2]\n",
       "\n",
       "</pre>\n"
      ],
      "text/plain": [
       "\u001b[42m  \u001b[0m\u001b[42m  \u001b[0m\u001b[42m  \u001b[0m\u001b[42m  \u001b[0m\u001b[42m  \u001b[0m\u001b[42m  \u001b[0m\u001b[42m  \u001b[0m\u001b[42m  \u001b[0m\u001b[42m  \u001b[0m\u001b[42m  \u001b[0m  [2, 2, 2, 2, 2, 2, 2, 2, 2, 2]\n",
       "\u001b[42m  \u001b[0m\u001b[42m  \u001b[0m\u001b[42m  \u001b[0m\u001b[42m  \u001b[0m\u001b[42m  \u001b[0m\u001b[42m  \u001b[0m\u001b[42m  \u001b[0m\u001b[42m  \u001b[0m\u001b[101m  \u001b[0m\u001b[42m  \u001b[0m  [2, 2, 2, 2, 2, 2, 2, 2, 8, 2]\n",
       "\u001b[42m  \u001b[0m\u001b[42m  \u001b[0m\u001b[42m  \u001b[0m\u001b[42m  \u001b[0m\u001b[42m  \u001b[0m\u001b[42m  \u001b[0m\u001b[42m  \u001b[0m\u001b[101m  \u001b[0m\u001b[101m  \u001b[0m\u001b[101m  \u001b[0m  [2, 2, 2, 2, 2, 2, 2, 8, 8, 8]\n",
       "\u001b[42m  \u001b[0m\u001b[42m  \u001b[0m\u001b[47m  \u001b[0m\u001b[47m  \u001b[0m\u001b[47m  \u001b[0m\u001b[47m  \u001b[0m\u001b[47m  \u001b[0m\u001b[42m  \u001b[0m\u001b[101m  \u001b[0m\u001b[101m  \u001b[0m  [2, 2, 7, 7, 7, 7, 7, 2, 8, 8]\n",
       "\u001b[42m  \u001b[0m\u001b[42m  \u001b[0m\u001b[47m  \u001b[0m\u001b[42m  \u001b[0m\u001b[42m  \u001b[0m\u001b[42m  \u001b[0m\u001b[47m  \u001b[0m\u001b[42m  \u001b[0m\u001b[42m  \u001b[0m\u001b[42m  \u001b[0m  [2, 2, 7, 2, 2, 2, 7, 2, 2, 2]\n",
       "\u001b[42m  \u001b[0m\u001b[42m  \u001b[0m\u001b[47m  \u001b[0m\u001b[42m  \u001b[0m\u001b[42m  \u001b[0m\u001b[42m  \u001b[0m\u001b[47m  \u001b[0m\u001b[42m  \u001b[0m\u001b[42m  \u001b[0m\u001b[42m  \u001b[0m  [2, 2, 7, 2, 2, 2, 7, 2, 2, 2]\n",
       "\u001b[42m  \u001b[0m\u001b[42m  \u001b[0m\u001b[47m  \u001b[0m\u001b[42m  \u001b[0m\u001b[42m  \u001b[0m\u001b[42m  \u001b[0m\u001b[47m  \u001b[0m\u001b[42m  \u001b[0m\u001b[42m  \u001b[0m\u001b[42m  \u001b[0m  [2, 2, 7, 2, 2, 2, 7, 2, 2, 2]\n",
       "\u001b[42m  \u001b[0m\u001b[42m  \u001b[0m\u001b[47m  \u001b[0m\u001b[47m  \u001b[0m\u001b[47m  \u001b[0m\u001b[47m  \u001b[0m\u001b[47m  \u001b[0m\u001b[42m  \u001b[0m\u001b[42m  \u001b[0m\u001b[42m  \u001b[0m  [2, 2, 7, 7, 7, 7, 7, 2, 2, 2]\n",
       "\u001b[42m  \u001b[0m\u001b[42m  \u001b[0m\u001b[42m  \u001b[0m\u001b[42m  \u001b[0m\u001b[42m  \u001b[0m\u001b[42m  \u001b[0m\u001b[42m  \u001b[0m\u001b[42m  \u001b[0m\u001b[42m  \u001b[0m\u001b[42m  \u001b[0m  [2, 2, 2, 2, 2, 2, 2, 2, 2, 2]\n",
       "\u001b[42m  \u001b[0m\u001b[42m  \u001b[0m\u001b[42m  \u001b[0m\u001b[42m  \u001b[0m\u001b[42m  \u001b[0m\u001b[42m  \u001b[0m\u001b[42m  \u001b[0m\u001b[42m  \u001b[0m\u001b[42m  \u001b[0m\u001b[42m  \u001b[0m  [2, 2, 2, 2, 2, 2, 2, 2, 2, 2]\n",
       "\n"
      ]
     },
     "metadata": {},
     "output_type": "display_data"
    },
    {
     "name": "stdout",
     "output_type": "stream",
     "text": [
      "Predict output\n"
     ]
    },
    {
     "data": {
      "text/html": [
       "<pre style=\"white-space:pre;overflow-x:auto;line-height:normal;font-family:Menlo,'DejaVu Sans Mono',consolas,'Courier New',monospace\"><span style=\"background-color: #c0c0c0\">          </span>  [7 7 7 7 7]\n",
       "<span style=\"background-color: #c0c0c0\">  </span><span style=\"background-color: #ff0000\">  </span><span style=\"background-color: #008000\">    </span><span style=\"background-color: #c0c0c0\">  </span>  [7 8 2 2 7]\n",
       "<span style=\"background-color: #c0c0c0\">  </span><span style=\"background-color: #008000\">  </span><span style=\"background-color: #ff0000\">      </span>  [7 2 8 8 8]\n",
       "<span style=\"background-color: #c0c0c0\">  </span><span style=\"background-color: #ff0000\">  </span><span style=\"background-color: #008000\">    </span><span style=\"background-color: #ff0000\">  </span>  [7 8 2 2 8]\n",
       "\n",
       "</pre>\n"
      ],
      "text/plain": [
       "\u001b[47m  \u001b[0m\u001b[47m  \u001b[0m\u001b[47m  \u001b[0m\u001b[47m  \u001b[0m\u001b[47m  \u001b[0m  [7 7 7 7 7]\n",
       "\u001b[47m  \u001b[0m\u001b[101m  \u001b[0m\u001b[42m  \u001b[0m\u001b[42m  \u001b[0m\u001b[47m  \u001b[0m  [7 8 2 2 7]\n",
       "\u001b[47m  \u001b[0m\u001b[42m  \u001b[0m\u001b[101m  \u001b[0m\u001b[101m  \u001b[0m\u001b[101m  \u001b[0m  [7 2 8 8 8]\n",
       "\u001b[47m  \u001b[0m\u001b[101m  \u001b[0m\u001b[42m  \u001b[0m\u001b[42m  \u001b[0m\u001b[101m  \u001b[0m  [7 8 2 2 8]\n",
       "\n"
      ]
     },
     "metadata": {},
     "output_type": "display_data"
    },
    {
     "name": "stdout",
     "output_type": "stream",
     "text": [
      "Test output\n"
     ]
    },
    {
     "data": {
      "text/html": [
       "<pre style=\"white-space:pre;overflow-x:auto;line-height:normal;font-family:Menlo,'DejaVu Sans Mono',consolas,'Courier New',monospace\"><span style=\"background-color: #c0c0c0\">          </span>  [7, 7, 7, 7, 7]\n",
       "<span style=\"background-color: #c0c0c0\">  </span><span style=\"background-color: #008000\">  </span><span style=\"background-color: #ff0000\">  </span><span style=\"background-color: #008000\">  </span><span style=\"background-color: #c0c0c0\">  </span>  [7, 2, 8, 2, 7]\n",
       "<span style=\"background-color: #c0c0c0\">  </span><span style=\"background-color: #ff0000\">      </span><span style=\"background-color: #c0c0c0\">  </span>  [7, 8, 8, 8, 7]\n",
       "<span style=\"background-color: #c0c0c0\">  </span><span style=\"background-color: #008000\">  </span><span style=\"background-color: #ff0000\">    </span><span style=\"background-color: #c0c0c0\">  </span>  [7, 2, 8, 8, 7]\n",
       "<span style=\"background-color: #c0c0c0\">          </span>  [7, 7, 7, 7, 7]\n",
       "\n",
       "</pre>\n"
      ],
      "text/plain": [
       "\u001b[47m  \u001b[0m\u001b[47m  \u001b[0m\u001b[47m  \u001b[0m\u001b[47m  \u001b[0m\u001b[47m  \u001b[0m  [7, 7, 7, 7, 7]\n",
       "\u001b[47m  \u001b[0m\u001b[42m  \u001b[0m\u001b[101m  \u001b[0m\u001b[42m  \u001b[0m\u001b[47m  \u001b[0m  [7, 2, 8, 2, 7]\n",
       "\u001b[47m  \u001b[0m\u001b[101m  \u001b[0m\u001b[101m  \u001b[0m\u001b[101m  \u001b[0m\u001b[47m  \u001b[0m  [7, 8, 8, 8, 7]\n",
       "\u001b[47m  \u001b[0m\u001b[42m  \u001b[0m\u001b[101m  \u001b[0m\u001b[101m  \u001b[0m\u001b[47m  \u001b[0m  [7, 2, 8, 8, 7]\n",
       "\u001b[47m  \u001b[0m\u001b[47m  \u001b[0m\u001b[47m  \u001b[0m\u001b[47m  \u001b[0m\u001b[47m  \u001b[0m  [7, 7, 7, 7, 7]\n",
       "\n"
      ]
     },
     "metadata": {},
     "output_type": "display_data"
    },
    {
     "name": "stdout",
     "output_type": "stream",
     "text": [
      "============================================\n",
      "============================================\n",
      "Test input\n"
     ]
    },
    {
     "data": {
      "text/html": [
       "<pre style=\"white-space:pre;overflow-x:auto;line-height:normal;font-family:Menlo,'DejaVu Sans Mono',consolas,'Courier New',monospace\"><span style=\"background-color: #ff0000\">                    </span>  [8, 8, 8, 8, 8, 8, 8, 8, 8, 8]\n",
       "<span style=\"background-color: #ff0000\">      </span><span style=\"background-color: #800080\">          </span><span style=\"background-color: #ff0000\">    </span>  [8, 8, 8, 5, 5, 5, 5, 5, 8, 8]\n",
       "<span style=\"background-color: #ff0000\">      </span><span style=\"background-color: #800080\">  </span><span style=\"background-color: #ff0000\">      </span><span style=\"background-color: #800080\">  </span><span style=\"background-color: #ff0000\">    </span>  [8, 8, 8, 5, 8, 8, 8, 5, 8, 8]\n",
       "<span style=\"background-color: #ff0000\">      </span><span style=\"background-color: #800080\">  </span><span style=\"background-color: #ff0000\">      </span><span style=\"background-color: #800080\">  </span><span style=\"background-color: #ff0000\">    </span>  [8, 8, 8, 5, 8, 8, 8, 5, 8, 8]\n",
       "<span style=\"background-color: #ff0000\">      </span><span style=\"background-color: #800080\">  </span><span style=\"background-color: #ff0000\">      </span><span style=\"background-color: #800080\">  </span><span style=\"background-color: #ff0000\">    </span>  [8, 8, 8, 5, 8, 8, 8, 5, 8, 8]\n",
       "<span style=\"background-color: #ff0000\">      </span><span style=\"background-color: #800080\">          </span><span style=\"background-color: #ff0000\">    </span>  [8, 8, 8, 5, 5, 5, 5, 5, 8, 8]\n",
       "<span style=\"background-color: #ff0000\">      </span><span style=\"background-color: #008000\">  </span><span style=\"background-color: #008080\">  </span><span style=\"background-color: #ff0000\">          </span>  [8, 8, 8, 2, 6, 8, 8, 8, 8, 8]\n",
       "<span style=\"background-color: #ff0000\">    </span><span style=\"background-color: #00ff00\">  </span><span style=\"background-color: #008080\">  </span><span style=\"background-color: #800000\">  </span><span style=\"background-color: #ff0000\">          </span>  [8, 8, 9, 6, 1, 8, 8, 8, 8, 8]\n",
       "<span style=\"background-color: #ff0000\">        </span><span style=\"background-color: #800000\">  </span><span style=\"background-color: #ff0000\">          </span>  [8, 8, 8, 8, 1, 8, 8, 8, 8, 8]\n",
       "\n",
       "</pre>\n"
      ],
      "text/plain": [
       "\u001b[101m  \u001b[0m\u001b[101m  \u001b[0m\u001b[101m  \u001b[0m\u001b[101m  \u001b[0m\u001b[101m  \u001b[0m\u001b[101m  \u001b[0m\u001b[101m  \u001b[0m\u001b[101m  \u001b[0m\u001b[101m  \u001b[0m\u001b[101m  \u001b[0m  [8, 8, 8, 8, 8, 8, 8, 8, 8, 8]\n",
       "\u001b[101m  \u001b[0m\u001b[101m  \u001b[0m\u001b[101m  \u001b[0m\u001b[45m  \u001b[0m\u001b[45m  \u001b[0m\u001b[45m  \u001b[0m\u001b[45m  \u001b[0m\u001b[45m  \u001b[0m\u001b[101m  \u001b[0m\u001b[101m  \u001b[0m  [8, 8, 8, 5, 5, 5, 5, 5, 8, 8]\n",
       "\u001b[101m  \u001b[0m\u001b[101m  \u001b[0m\u001b[101m  \u001b[0m\u001b[45m  \u001b[0m\u001b[101m  \u001b[0m\u001b[101m  \u001b[0m\u001b[101m  \u001b[0m\u001b[45m  \u001b[0m\u001b[101m  \u001b[0m\u001b[101m  \u001b[0m  [8, 8, 8, 5, 8, 8, 8, 5, 8, 8]\n",
       "\u001b[101m  \u001b[0m\u001b[101m  \u001b[0m\u001b[101m  \u001b[0m\u001b[45m  \u001b[0m\u001b[101m  \u001b[0m\u001b[101m  \u001b[0m\u001b[101m  \u001b[0m\u001b[45m  \u001b[0m\u001b[101m  \u001b[0m\u001b[101m  \u001b[0m  [8, 8, 8, 5, 8, 8, 8, 5, 8, 8]\n",
       "\u001b[101m  \u001b[0m\u001b[101m  \u001b[0m\u001b[101m  \u001b[0m\u001b[45m  \u001b[0m\u001b[101m  \u001b[0m\u001b[101m  \u001b[0m\u001b[101m  \u001b[0m\u001b[45m  \u001b[0m\u001b[101m  \u001b[0m\u001b[101m  \u001b[0m  [8, 8, 8, 5, 8, 8, 8, 5, 8, 8]\n",
       "\u001b[101m  \u001b[0m\u001b[101m  \u001b[0m\u001b[101m  \u001b[0m\u001b[45m  \u001b[0m\u001b[45m  \u001b[0m\u001b[45m  \u001b[0m\u001b[45m  \u001b[0m\u001b[45m  \u001b[0m\u001b[101m  \u001b[0m\u001b[101m  \u001b[0m  [8, 8, 8, 5, 5, 5, 5, 5, 8, 8]\n",
       "\u001b[101m  \u001b[0m\u001b[101m  \u001b[0m\u001b[101m  \u001b[0m\u001b[42m  \u001b[0m\u001b[46m  \u001b[0m\u001b[101m  \u001b[0m\u001b[101m  \u001b[0m\u001b[101m  \u001b[0m\u001b[101m  \u001b[0m\u001b[101m  \u001b[0m  [8, 8, 8, 2, 6, 8, 8, 8, 8, 8]\n",
       "\u001b[101m  \u001b[0m\u001b[101m  \u001b[0m\u001b[102m  \u001b[0m\u001b[46m  \u001b[0m\u001b[41m  \u001b[0m\u001b[101m  \u001b[0m\u001b[101m  \u001b[0m\u001b[101m  \u001b[0m\u001b[101m  \u001b[0m\u001b[101m  \u001b[0m  [8, 8, 9, 6, 1, 8, 8, 8, 8, 8]\n",
       "\u001b[101m  \u001b[0m\u001b[101m  \u001b[0m\u001b[101m  \u001b[0m\u001b[101m  \u001b[0m\u001b[41m  \u001b[0m\u001b[101m  \u001b[0m\u001b[101m  \u001b[0m\u001b[101m  \u001b[0m\u001b[101m  \u001b[0m\u001b[101m  \u001b[0m  [8, 8, 8, 8, 1, 8, 8, 8, 8, 8]\n",
       "\n"
      ]
     },
     "metadata": {},
     "output_type": "display_data"
    },
    {
     "name": "stdout",
     "output_type": "stream",
     "text": [
      "Predict output\n"
     ]
    },
    {
     "data": {
      "text/html": [
       "<pre style=\"white-space:pre;overflow-x:auto;line-height:normal;font-family:Menlo,'DejaVu Sans Mono',consolas,'Courier New',monospace\"><span style=\"background-color: #800080\">          </span>  [5 5 5 5 5]\n",
       "<span style=\"background-color: #00ff00\">  </span><span style=\"background-color: #008080\">  </span><span style=\"background-color: #800000\">  </span><span style=\"background-color: #ff0000\">  </span><span style=\"background-color: #800080\">  </span>  [9 6 1 8 5]\n",
       "<span style=\"background-color: #008080\">  </span><span style=\"background-color: #ff0000\">  </span><span style=\"background-color: #800000\">  </span><span style=\"background-color: #ff0000\">  </span><span style=\"background-color: #800080\">  </span>  [6 8 1 8 5]\n",
       "<span style=\"background-color: #800080\">  </span><span style=\"background-color: #ff0000\">      </span><span style=\"background-color: #800080\">  </span>  [5 8 8 8 5]\n",
       "<span style=\"background-color: #800080\">          </span>  [5 5 5 5 5]\n",
       "\n",
       "</pre>\n"
      ],
      "text/plain": [
       "\u001b[45m  \u001b[0m\u001b[45m  \u001b[0m\u001b[45m  \u001b[0m\u001b[45m  \u001b[0m\u001b[45m  \u001b[0m  [5 5 5 5 5]\n",
       "\u001b[102m  \u001b[0m\u001b[46m  \u001b[0m\u001b[41m  \u001b[0m\u001b[101m  \u001b[0m\u001b[45m  \u001b[0m  [9 6 1 8 5]\n",
       "\u001b[46m  \u001b[0m\u001b[101m  \u001b[0m\u001b[41m  \u001b[0m\u001b[101m  \u001b[0m\u001b[45m  \u001b[0m  [6 8 1 8 5]\n",
       "\u001b[45m  \u001b[0m\u001b[101m  \u001b[0m\u001b[101m  \u001b[0m\u001b[101m  \u001b[0m\u001b[45m  \u001b[0m  [5 8 8 8 5]\n",
       "\u001b[45m  \u001b[0m\u001b[45m  \u001b[0m\u001b[45m  \u001b[0m\u001b[45m  \u001b[0m\u001b[45m  \u001b[0m  [5 5 5 5 5]\n",
       "\n"
      ]
     },
     "metadata": {},
     "output_type": "display_data"
    },
    {
     "name": "stdout",
     "output_type": "stream",
     "text": [
      "Test output\n"
     ]
    },
    {
     "data": {
      "text/html": [
       "<pre style=\"white-space:pre;overflow-x:auto;line-height:normal;font-family:Menlo,'DejaVu Sans Mono',consolas,'Courier New',monospace\"><span style=\"background-color: #800080\">          </span>  [5, 5, 5, 5, 5]\n",
       "<span style=\"background-color: #800080\">  </span><span style=\"background-color: #ff0000\">  </span><span style=\"background-color: #008000\">  </span><span style=\"background-color: #008080\">  </span><span style=\"background-color: #800080\">  </span>  [5, 8, 2, 6, 5]\n",
       "<span style=\"background-color: #800080\">  </span><span style=\"background-color: #00ff00\">  </span><span style=\"background-color: #008080\">  </span><span style=\"background-color: #800000\">  </span><span style=\"background-color: #800080\">  </span>  [5, 9, 6, 1, 5]\n",
       "<span style=\"background-color: #800080\">  </span><span style=\"background-color: #ff0000\">    </span><span style=\"background-color: #800000\">  </span><span style=\"background-color: #800080\">  </span>  [5, 8, 8, 1, 5]\n",
       "<span style=\"background-color: #800080\">          </span>  [5, 5, 5, 5, 5]\n",
       "\n",
       "</pre>\n"
      ],
      "text/plain": [
       "\u001b[45m  \u001b[0m\u001b[45m  \u001b[0m\u001b[45m  \u001b[0m\u001b[45m  \u001b[0m\u001b[45m  \u001b[0m  [5, 5, 5, 5, 5]\n",
       "\u001b[45m  \u001b[0m\u001b[101m  \u001b[0m\u001b[42m  \u001b[0m\u001b[46m  \u001b[0m\u001b[45m  \u001b[0m  [5, 8, 2, 6, 5]\n",
       "\u001b[45m  \u001b[0m\u001b[102m  \u001b[0m\u001b[46m  \u001b[0m\u001b[41m  \u001b[0m\u001b[45m  \u001b[0m  [5, 9, 6, 1, 5]\n",
       "\u001b[45m  \u001b[0m\u001b[101m  \u001b[0m\u001b[101m  \u001b[0m\u001b[41m  \u001b[0m\u001b[45m  \u001b[0m  [5, 8, 8, 1, 5]\n",
       "\u001b[45m  \u001b[0m\u001b[45m  \u001b[0m\u001b[45m  \u001b[0m\u001b[45m  \u001b[0m\u001b[45m  \u001b[0m  [5, 5, 5, 5, 5]\n",
       "\n"
      ]
     },
     "metadata": {},
     "output_type": "display_data"
    },
    {
     "name": "stdout",
     "output_type": "stream",
     "text": [
      "============================================\n",
      "============================================\n",
      "Test input\n"
     ]
    },
    {
     "data": {
      "text/html": [
       "<pre style=\"white-space:pre;overflow-x:auto;line-height:normal;font-family:Menlo,'DejaVu Sans Mono',consolas,'Courier New',monospace\"><span style=\"background-color: #800080\">                  </span>  [5, 5, 5, 5, 5, 5, 5, 5, 5]\n",
       "<span style=\"background-color: #800080\">                  </span>  [5, 5, 5, 5, 5, 5, 5, 5, 5]\n",
       "<span style=\"background-color: #800080\">                  </span>  [5, 5, 5, 5, 5, 5, 5, 5, 5]\n",
       "<span style=\"background-color: #c0c0c0\">          </span><span style=\"background-color: #800080\">      </span><span style=\"background-color: #ff0000\">  </span>  [7, 7, 7, 7, 7, 5, 5, 5, 8]\n",
       "<span style=\"background-color: #c0c0c0\">  </span><span style=\"background-color: #800080\">      </span><span style=\"background-color: #c0c0c0\">  </span><span style=\"background-color: #800080\">    </span><span style=\"background-color: #008000\">  </span><span style=\"background-color: #00ff00\">  </span>  [7, 5, 5, 5, 7, 5, 5, 2, 9]\n",
       "<span style=\"background-color: #c0c0c0\">  </span><span style=\"background-color: #800080\">      </span><span style=\"background-color: #c0c0c0\">  </span><span style=\"background-color: #800080\">  </span><span style=\"background-color: #000000\">  </span><span style=\"background-color: #800080\">    </span>  [7, 5, 5, 5, 7, 5, 0, 5, 5]\n",
       "<span style=\"background-color: #c0c0c0\">  </span><span style=\"background-color: #800080\">      </span><span style=\"background-color: #c0c0c0\">  </span><span style=\"background-color: #800080\">        </span>  [7, 5, 5, 5, 7, 5, 5, 5, 5]\n",
       "<span style=\"background-color: #c0c0c0\">          </span><span style=\"background-color: #800080\">        </span>  [7, 7, 7, 7, 7, 5, 5, 5, 5]\n",
       "\n",
       "</pre>\n"
      ],
      "text/plain": [
       "\u001b[45m  \u001b[0m\u001b[45m  \u001b[0m\u001b[45m  \u001b[0m\u001b[45m  \u001b[0m\u001b[45m  \u001b[0m\u001b[45m  \u001b[0m\u001b[45m  \u001b[0m\u001b[45m  \u001b[0m\u001b[45m  \u001b[0m  [5, 5, 5, 5, 5, 5, 5, 5, 5]\n",
       "\u001b[45m  \u001b[0m\u001b[45m  \u001b[0m\u001b[45m  \u001b[0m\u001b[45m  \u001b[0m\u001b[45m  \u001b[0m\u001b[45m  \u001b[0m\u001b[45m  \u001b[0m\u001b[45m  \u001b[0m\u001b[45m  \u001b[0m  [5, 5, 5, 5, 5, 5, 5, 5, 5]\n",
       "\u001b[45m  \u001b[0m\u001b[45m  \u001b[0m\u001b[45m  \u001b[0m\u001b[45m  \u001b[0m\u001b[45m  \u001b[0m\u001b[45m  \u001b[0m\u001b[45m  \u001b[0m\u001b[45m  \u001b[0m\u001b[45m  \u001b[0m  [5, 5, 5, 5, 5, 5, 5, 5, 5]\n",
       "\u001b[47m  \u001b[0m\u001b[47m  \u001b[0m\u001b[47m  \u001b[0m\u001b[47m  \u001b[0m\u001b[47m  \u001b[0m\u001b[45m  \u001b[0m\u001b[45m  \u001b[0m\u001b[45m  \u001b[0m\u001b[101m  \u001b[0m  [7, 7, 7, 7, 7, 5, 5, 5, 8]\n",
       "\u001b[47m  \u001b[0m\u001b[45m  \u001b[0m\u001b[45m  \u001b[0m\u001b[45m  \u001b[0m\u001b[47m  \u001b[0m\u001b[45m  \u001b[0m\u001b[45m  \u001b[0m\u001b[42m  \u001b[0m\u001b[102m  \u001b[0m  [7, 5, 5, 5, 7, 5, 5, 2, 9]\n",
       "\u001b[47m  \u001b[0m\u001b[45m  \u001b[0m\u001b[45m  \u001b[0m\u001b[45m  \u001b[0m\u001b[47m  \u001b[0m\u001b[45m  \u001b[0m\u001b[40m  \u001b[0m\u001b[45m  \u001b[0m\u001b[45m  \u001b[0m  [7, 5, 5, 5, 7, 5, 0, 5, 5]\n",
       "\u001b[47m  \u001b[0m\u001b[45m  \u001b[0m\u001b[45m  \u001b[0m\u001b[45m  \u001b[0m\u001b[47m  \u001b[0m\u001b[45m  \u001b[0m\u001b[45m  \u001b[0m\u001b[45m  \u001b[0m\u001b[45m  \u001b[0m  [7, 5, 5, 5, 7, 5, 5, 5, 5]\n",
       "\u001b[47m  \u001b[0m\u001b[47m  \u001b[0m\u001b[47m  \u001b[0m\u001b[47m  \u001b[0m\u001b[47m  \u001b[0m\u001b[45m  \u001b[0m\u001b[45m  \u001b[0m\u001b[45m  \u001b[0m\u001b[45m  \u001b[0m  [7, 7, 7, 7, 7, 5, 5, 5, 5]\n",
       "\n"
      ]
     },
     "metadata": {},
     "output_type": "display_data"
    },
    {
     "name": "stdout",
     "output_type": "stream",
     "text": [
      "Predict output\n"
     ]
    },
    {
     "data": {
      "text/html": [
       "<pre style=\"white-space:pre;overflow-x:auto;line-height:normal;font-family:Menlo,'DejaVu Sans Mono',consolas,'Courier New',monospace\"><span style=\"background-color: #c0c0c0\">          </span>  [7 7 7 7 7]\n",
       "<span style=\"background-color: #c0c0c0\">  </span><span style=\"background-color: #800080\">    </span><span style=\"background-color: #008000\">  </span><span style=\"background-color: #ff0000\">  </span>  [7 5 5 2 8]\n",
       "<span style=\"background-color: #c0c0c0\">  </span><span style=\"background-color: #800080\">  </span><span style=\"background-color: #000000\">  </span><span style=\"background-color: #800080\">  </span><span style=\"background-color: #00ff00\">  </span>  [7 5 0 5 9]\n",
       "<span style=\"background-color: #c0c0c0\">  </span><span style=\"background-color: #800080\">      </span><span style=\"background-color: #c0c0c0\">  </span>  [7 5 5 5 7]\n",
       "<span style=\"background-color: #c0c0c0\">          </span>  [7 7 7 7 7]\n",
       "\n",
       "</pre>\n"
      ],
      "text/plain": [
       "\u001b[47m  \u001b[0m\u001b[47m  \u001b[0m\u001b[47m  \u001b[0m\u001b[47m  \u001b[0m\u001b[47m  \u001b[0m  [7 7 7 7 7]\n",
       "\u001b[47m  \u001b[0m\u001b[45m  \u001b[0m\u001b[45m  \u001b[0m\u001b[42m  \u001b[0m\u001b[101m  \u001b[0m  [7 5 5 2 8]\n",
       "\u001b[47m  \u001b[0m\u001b[45m  \u001b[0m\u001b[40m  \u001b[0m\u001b[45m  \u001b[0m\u001b[102m  \u001b[0m  [7 5 0 5 9]\n",
       "\u001b[47m  \u001b[0m\u001b[45m  \u001b[0m\u001b[45m  \u001b[0m\u001b[45m  \u001b[0m\u001b[47m  \u001b[0m  [7 5 5 5 7]\n",
       "\u001b[47m  \u001b[0m\u001b[47m  \u001b[0m\u001b[47m  \u001b[0m\u001b[47m  \u001b[0m\u001b[47m  \u001b[0m  [7 7 7 7 7]\n",
       "\n"
      ]
     },
     "metadata": {},
     "output_type": "display_data"
    },
    {
     "name": "stdout",
     "output_type": "stream",
     "text": [
      "Test output\n"
     ]
    },
    {
     "data": {
      "text/html": [
       "<pre style=\"white-space:pre;overflow-x:auto;line-height:normal;font-family:Menlo,'DejaVu Sans Mono',consolas,'Courier New',monospace\"><span style=\"background-color: #c0c0c0\">          </span>  [7, 7, 7, 7, 7]\n",
       "<span style=\"background-color: #c0c0c0\">  </span><span style=\"background-color: #800080\">    </span><span style=\"background-color: #ff0000\">  </span><span style=\"background-color: #c0c0c0\">  </span>  [7, 5, 5, 8, 7]\n",
       "<span style=\"background-color: #c0c0c0\">  </span><span style=\"background-color: #800080\">  </span><span style=\"background-color: #008000\">  </span><span style=\"background-color: #00ff00\">  </span><span style=\"background-color: #c0c0c0\">  </span>  [7, 5, 2, 9, 7]\n",
       "<span style=\"background-color: #c0c0c0\">  </span><span style=\"background-color: #000000\">  </span><span style=\"background-color: #800080\">    </span><span style=\"background-color: #c0c0c0\">  </span>  [7, 0, 5, 5, 7]\n",
       "<span style=\"background-color: #c0c0c0\">          </span>  [7, 7, 7, 7, 7]\n",
       "\n",
       "</pre>\n"
      ],
      "text/plain": [
       "\u001b[47m  \u001b[0m\u001b[47m  \u001b[0m\u001b[47m  \u001b[0m\u001b[47m  \u001b[0m\u001b[47m  \u001b[0m  [7, 7, 7, 7, 7]\n",
       "\u001b[47m  \u001b[0m\u001b[45m  \u001b[0m\u001b[45m  \u001b[0m\u001b[101m  \u001b[0m\u001b[47m  \u001b[0m  [7, 5, 5, 8, 7]\n",
       "\u001b[47m  \u001b[0m\u001b[45m  \u001b[0m\u001b[42m  \u001b[0m\u001b[102m  \u001b[0m\u001b[47m  \u001b[0m  [7, 5, 2, 9, 7]\n",
       "\u001b[47m  \u001b[0m\u001b[40m  \u001b[0m\u001b[45m  \u001b[0m\u001b[45m  \u001b[0m\u001b[47m  \u001b[0m  [7, 0, 5, 5, 7]\n",
       "\u001b[47m  \u001b[0m\u001b[47m  \u001b[0m\u001b[47m  \u001b[0m\u001b[47m  \u001b[0m\u001b[47m  \u001b[0m  [7, 7, 7, 7, 7]\n",
       "\n"
      ]
     },
     "metadata": {},
     "output_type": "display_data"
    },
    {
     "name": "stdout",
     "output_type": "stream",
     "text": [
      "============================================\n",
      "Evaluation scores: 20.00\n",
      "Evaluation Success\n"
     ]
    }
   ],
   "source": [
    "# evaluate our model (eval set)\n",
    "scores = []\n",
    "for eval_data in tqdm(eval_dataset):\n",
    "    print(\"============================================\")\n",
    "    print(\"Test input\")\n",
    "    render_grid(eval_data[\"test\"][0]['input'])\n",
    "\n",
    "    print(\"Predict output\")\n",
    "    preds = solver.predict(eval_data)\n",
    "    render_grid(preds)\n",
    "\n",
    "    print(\"Test output\")\n",
    "    render_grid(eval_data[\"test\"][0]['output'])\n",
    "    print(\"============================================\")\n",
    "    if preds is None: s = 0\n",
    "    else: s = check_match(preds, eval_data[\"test\"][0][\"output\"])\n",
    "    scores.append(s)\n",
    "\n",
    "score = np.array(scores).mean() * 100\n",
    "print(f\"Evaluation scores: {score:.2f}\", flush=True)\n",
    "print(\"Evaluation Success\")"
   ]
  },
  {
   "cell_type": "code",
   "execution_count": 30,
   "metadata": {},
   "outputs": [
    {
     "name": "stdout",
     "output_type": "stream",
     "text": [
      "<|begin_of_text|><|start_header_id|>system<|end_header_id|>\n",
      "You are an expert for solving logical puzzles. You are given some pairs of input and output as coordinates of 2D grid with the same underlying spatial pattern between them. The grid is given as their width, height, and coordinates of pixels filled with each certain colors. You have to logically infer the exact rule that generates each output from the given input.\n",
      "\n",
      "<|start_header_id|>user<|end_header_id|>\n",
      "Here are some examples of input and corresponding output. Learn the rule of generating output from given input.\n",
      "----------------------------------------\n",
      "input:\n",
      "width: 3\n",
      "height: 5\n",
      "black: [(0,0), (0,2), (4,2)]\n",
      "output for the given input:\n",
      "width: 3\n",
      "height: 5\n",
      "black: [(0,0), (0,2), (1,1), (2,0), (2,2), (3,1), (4,0), (4,2)]\n",
      "purple: [(0,1), (1,0), (1,2), (2,1), (3,0), (3,2), (4,1)]\n",
      "\n",
      "input:\n",
      "width: 7\n",
      "height: 10\n",
      "white: [(0,6), (9,0), (9,6)]\n",
      "output for the given input:\n",
      "width: 7\n",
      "height: 10\n",
      "white: [(0,3), (0,6), (1,2), (1,4), (1,5), (2,1), (2,4), (2,5), (3,0), (3,3), (3,6), (4,1), (4,2), (4,5), (5,1), (5,2), (5,4), (6,0), (6,3), (7,1), (7,2), (7,4), (8,1), (8,2), (8,5), (9,0), (9,3), (9,6)]\n",
      "purple: [(0,0), (0,1), (0,2), (0,4), (0,5), (1,0), (1,1), (1,3), (1,6), (2,0), (2,2), (2,3), (2,6), (3,1), (3,2), (3,4), (3,5), (4,0), (4,3), (4,4), (4,6), (5,0), (5,3), (5,5), (5,6), (6,1), (6,2), (6,4), (6,5), (6,6), (7,0), (7,3), (7,5), (7,6), (8,0), (8,3), (8,4), (8,6), (9,1), (9,2), (9,4), (9,5)]\n",
      "\n",
      "input:\n",
      "width: 8\n",
      "height: 10\n",
      "orange: [(0,0), (0,7), (9,0)]\n",
      "output for the given input:\n",
      "width: 8\n",
      "height: 10\n",
      "purple: [(0,1), (0,2), (0,3), (0,4), (0,6), (1,0), (1,2), (1,3), (1,4), (1,5), (1,7), (2,0), (2,1), (2,3), (2,4), (2,6), (3,0), (3,1), (3,2), (3,5), (3,7), (4,0), (4,1), (4,2), (4,6), (4,7), (5,0), (5,1), (5,3), (5,6), (5,7), (6,0), (6,2), (6,4), (6,5), (6,7), (7,1), (7,3), (7,4), (7,5), (7,6), (8,0), (8,2), (8,3), (8,4), (8,5), (8,7), (9,1), (9,3), (9,4), (9,6), (9,7)]\n",
      "orange: [(0,0), (0,5), (0,7), (1,1), (1,6), (2,2), (2,5), (2,7), (3,3), (3,4), (3,6), (4,3), (4,4), (4,5), (5,2), (5,4), (5,5), (6,1), (6,3), (6,6), (7,0), (7,2), (7,7), (8,1), (8,6), (9,0), (9,2), (9,5)]\n",
      "\n",
      "----------------------------------------\n",
      "Consider the rule for generating the output you have figured out from the examples above. Now, you will be given another input to apply the rule in the same way.\n",
      "----------------------------------------\n",
      "input:\n",
      "width: 8\n",
      "height: 2\n",
      "orange: [(0,0), (1,0), (1,7)]\n",
      "\n",
      "----------------------------------------\n",
      "What is the output grid? Only provide the output grid in the form as in the example input and output pairs. That means you must provide width and height of the output, then coordinates of each colored pixels. Make sure the coordinates are inside the shape of the grid. Do not provide any additional information.\n",
      "\n",
      "\n",
      "<|eot_id|><|start_header_id|>assistant<|end_header_id|>\n",
      "output for the given input:\n",
      "width: 8\n",
      "height: 2\n",
      "orange: [(0,0), (0,1), (0,2), (0,3), (0,4), (0,5), (0,6), (0,7), (1,0), (1,1), (1,2), (1,3), (1,4), (1,5), (1,6), (1,7)]\n",
      "\n",
      "\n",
      "After truncating, there are 10000 rows left in the dataset.\n"
     ]
    },
    {
     "name": "stderr",
     "output_type": "stream",
     "text": [
      "/home/kkernell/.arcproj/lib/python3.12/site-packages/peft/mapping_func.py:73: UserWarning: You are trying to modify a model with PEFT for a second time. If you want to reload the model with a different config, make sure to call `.unload()` before.\n",
      "  warnings.warn(\n",
      "/home/kkernell/.arcproj/lib/python3.12/site-packages/peft/tuners/tuners_utils.py:167: UserWarning: Already found a `peft_config` attribute in the model. This will lead to having multiple adapters in the model. Make sure to know what you are doing!\n",
      "  warnings.warn(\n"
     ]
    },
    {
     "name": "stdout",
     "output_type": "stream",
     "text": [
      "trainable params: 12,156,928 || all params: 3,224,906,752 || trainable%: 0.3770\n"
     ]
    },
    {
     "data": {
      "application/vnd.jupyter.widget-view+json": {
       "model_id": "f7f3bc5191134480974b786a18390423",
       "version_major": 2,
       "version_minor": 0
      },
      "text/plain": [
       "Truncating train dataset:   0%|          | 0/10000 [00:00<?, ? examples/s]"
      ]
     },
     "metadata": {},
     "output_type": "display_data"
    },
    {
     "name": "stderr",
     "output_type": "stream",
     "text": [
      "No label_names provided for model class `PeftModelForCausalLM`. Since `PeftModel` hides base models input arguments, if label_names is not given, label_names can't be set automatically within `Trainer`. Note that empty label_names list will be used instead.\n"
     ]
    },
    {
     "data": {
      "text/html": [
       "\n",
       "    <div>\n",
       "      \n",
       "      <progress value='939' max='939' style='width:300px; height:20px; vertical-align: middle;'></progress>\n",
       "      [939/939 3:29:50, Epoch 3/3]\n",
       "    </div>\n",
       "    <table border=\"1\" class=\"dataframe\">\n",
       "  <thead>\n",
       " <tr style=\"text-align: left;\">\n",
       "      <th>Step</th>\n",
       "      <th>Training Loss</th>\n",
       "    </tr>\n",
       "  </thead>\n",
       "  <tbody>\n",
       "    <tr>\n",
       "      <td>10</td>\n",
       "      <td>5.169900</td>\n",
       "    </tr>\n",
       "    <tr>\n",
       "      <td>20</td>\n",
       "      <td>0.085300</td>\n",
       "    </tr>\n",
       "    <tr>\n",
       "      <td>30</td>\n",
       "      <td>0.064500</td>\n",
       "    </tr>\n",
       "    <tr>\n",
       "      <td>40</td>\n",
       "      <td>0.053600</td>\n",
       "    </tr>\n",
       "    <tr>\n",
       "      <td>50</td>\n",
       "      <td>0.050000</td>\n",
       "    </tr>\n",
       "    <tr>\n",
       "      <td>60</td>\n",
       "      <td>0.049800</td>\n",
       "    </tr>\n",
       "    <tr>\n",
       "      <td>70</td>\n",
       "      <td>0.038700</td>\n",
       "    </tr>\n",
       "    <tr>\n",
       "      <td>80</td>\n",
       "      <td>0.037000</td>\n",
       "    </tr>\n",
       "    <tr>\n",
       "      <td>90</td>\n",
       "      <td>0.043800</td>\n",
       "    </tr>\n",
       "    <tr>\n",
       "      <td>100</td>\n",
       "      <td>0.038100</td>\n",
       "    </tr>\n",
       "    <tr>\n",
       "      <td>110</td>\n",
       "      <td>0.040400</td>\n",
       "    </tr>\n",
       "    <tr>\n",
       "      <td>120</td>\n",
       "      <td>0.031600</td>\n",
       "    </tr>\n",
       "    <tr>\n",
       "      <td>130</td>\n",
       "      <td>0.029400</td>\n",
       "    </tr>\n",
       "    <tr>\n",
       "      <td>140</td>\n",
       "      <td>0.031500</td>\n",
       "    </tr>\n",
       "    <tr>\n",
       "      <td>150</td>\n",
       "      <td>0.028900</td>\n",
       "    </tr>\n",
       "    <tr>\n",
       "      <td>160</td>\n",
       "      <td>0.025400</td>\n",
       "    </tr>\n",
       "    <tr>\n",
       "      <td>170</td>\n",
       "      <td>0.028400</td>\n",
       "    </tr>\n",
       "    <tr>\n",
       "      <td>180</td>\n",
       "      <td>0.031500</td>\n",
       "    </tr>\n",
       "    <tr>\n",
       "      <td>190</td>\n",
       "      <td>0.022800</td>\n",
       "    </tr>\n",
       "    <tr>\n",
       "      <td>200</td>\n",
       "      <td>0.022300</td>\n",
       "    </tr>\n",
       "    <tr>\n",
       "      <td>210</td>\n",
       "      <td>0.022900</td>\n",
       "    </tr>\n",
       "    <tr>\n",
       "      <td>220</td>\n",
       "      <td>0.017500</td>\n",
       "    </tr>\n",
       "    <tr>\n",
       "      <td>230</td>\n",
       "      <td>0.021600</td>\n",
       "    </tr>\n",
       "    <tr>\n",
       "      <td>240</td>\n",
       "      <td>0.020000</td>\n",
       "    </tr>\n",
       "    <tr>\n",
       "      <td>250</td>\n",
       "      <td>0.020700</td>\n",
       "    </tr>\n",
       "    <tr>\n",
       "      <td>260</td>\n",
       "      <td>0.020800</td>\n",
       "    </tr>\n",
       "    <tr>\n",
       "      <td>270</td>\n",
       "      <td>0.018100</td>\n",
       "    </tr>\n",
       "    <tr>\n",
       "      <td>280</td>\n",
       "      <td>0.020000</td>\n",
       "    </tr>\n",
       "    <tr>\n",
       "      <td>290</td>\n",
       "      <td>0.021300</td>\n",
       "    </tr>\n",
       "    <tr>\n",
       "      <td>300</td>\n",
       "      <td>0.019100</td>\n",
       "    </tr>\n",
       "    <tr>\n",
       "      <td>310</td>\n",
       "      <td>0.019800</td>\n",
       "    </tr>\n",
       "    <tr>\n",
       "      <td>320</td>\n",
       "      <td>0.018400</td>\n",
       "    </tr>\n",
       "    <tr>\n",
       "      <td>330</td>\n",
       "      <td>0.015200</td>\n",
       "    </tr>\n",
       "    <tr>\n",
       "      <td>340</td>\n",
       "      <td>0.015100</td>\n",
       "    </tr>\n",
       "    <tr>\n",
       "      <td>350</td>\n",
       "      <td>0.017200</td>\n",
       "    </tr>\n",
       "    <tr>\n",
       "      <td>360</td>\n",
       "      <td>0.013500</td>\n",
       "    </tr>\n",
       "    <tr>\n",
       "      <td>370</td>\n",
       "      <td>0.011900</td>\n",
       "    </tr>\n",
       "    <tr>\n",
       "      <td>380</td>\n",
       "      <td>0.014200</td>\n",
       "    </tr>\n",
       "    <tr>\n",
       "      <td>390</td>\n",
       "      <td>0.013500</td>\n",
       "    </tr>\n",
       "    <tr>\n",
       "      <td>400</td>\n",
       "      <td>0.014000</td>\n",
       "    </tr>\n",
       "    <tr>\n",
       "      <td>410</td>\n",
       "      <td>0.012200</td>\n",
       "    </tr>\n",
       "    <tr>\n",
       "      <td>420</td>\n",
       "      <td>0.013700</td>\n",
       "    </tr>\n",
       "    <tr>\n",
       "      <td>430</td>\n",
       "      <td>0.014800</td>\n",
       "    </tr>\n",
       "    <tr>\n",
       "      <td>440</td>\n",
       "      <td>0.014400</td>\n",
       "    </tr>\n",
       "    <tr>\n",
       "      <td>450</td>\n",
       "      <td>0.012200</td>\n",
       "    </tr>\n",
       "    <tr>\n",
       "      <td>460</td>\n",
       "      <td>0.012900</td>\n",
       "    </tr>\n",
       "    <tr>\n",
       "      <td>470</td>\n",
       "      <td>0.013300</td>\n",
       "    </tr>\n",
       "    <tr>\n",
       "      <td>480</td>\n",
       "      <td>0.010600</td>\n",
       "    </tr>\n",
       "    <tr>\n",
       "      <td>490</td>\n",
       "      <td>0.009300</td>\n",
       "    </tr>\n",
       "    <tr>\n",
       "      <td>500</td>\n",
       "      <td>0.012100</td>\n",
       "    </tr>\n",
       "    <tr>\n",
       "      <td>510</td>\n",
       "      <td>0.009900</td>\n",
       "    </tr>\n",
       "    <tr>\n",
       "      <td>520</td>\n",
       "      <td>0.012200</td>\n",
       "    </tr>\n",
       "    <tr>\n",
       "      <td>530</td>\n",
       "      <td>0.010900</td>\n",
       "    </tr>\n",
       "    <tr>\n",
       "      <td>540</td>\n",
       "      <td>0.011300</td>\n",
       "    </tr>\n",
       "    <tr>\n",
       "      <td>550</td>\n",
       "      <td>0.007800</td>\n",
       "    </tr>\n",
       "    <tr>\n",
       "      <td>560</td>\n",
       "      <td>0.009300</td>\n",
       "    </tr>\n",
       "    <tr>\n",
       "      <td>570</td>\n",
       "      <td>0.011900</td>\n",
       "    </tr>\n",
       "    <tr>\n",
       "      <td>580</td>\n",
       "      <td>0.011100</td>\n",
       "    </tr>\n",
       "    <tr>\n",
       "      <td>590</td>\n",
       "      <td>0.008200</td>\n",
       "    </tr>\n",
       "    <tr>\n",
       "      <td>600</td>\n",
       "      <td>0.012800</td>\n",
       "    </tr>\n",
       "    <tr>\n",
       "      <td>610</td>\n",
       "      <td>0.011100</td>\n",
       "    </tr>\n",
       "    <tr>\n",
       "      <td>620</td>\n",
       "      <td>0.011000</td>\n",
       "    </tr>\n",
       "    <tr>\n",
       "      <td>630</td>\n",
       "      <td>0.007900</td>\n",
       "    </tr>\n",
       "    <tr>\n",
       "      <td>640</td>\n",
       "      <td>0.007700</td>\n",
       "    </tr>\n",
       "    <tr>\n",
       "      <td>650</td>\n",
       "      <td>0.007600</td>\n",
       "    </tr>\n",
       "    <tr>\n",
       "      <td>660</td>\n",
       "      <td>0.006900</td>\n",
       "    </tr>\n",
       "    <tr>\n",
       "      <td>670</td>\n",
       "      <td>0.010000</td>\n",
       "    </tr>\n",
       "    <tr>\n",
       "      <td>680</td>\n",
       "      <td>0.010600</td>\n",
       "    </tr>\n",
       "    <tr>\n",
       "      <td>690</td>\n",
       "      <td>0.009400</td>\n",
       "    </tr>\n",
       "    <tr>\n",
       "      <td>700</td>\n",
       "      <td>0.006300</td>\n",
       "    </tr>\n",
       "    <tr>\n",
       "      <td>710</td>\n",
       "      <td>0.005900</td>\n",
       "    </tr>\n",
       "    <tr>\n",
       "      <td>720</td>\n",
       "      <td>0.007900</td>\n",
       "    </tr>\n",
       "    <tr>\n",
       "      <td>730</td>\n",
       "      <td>0.007400</td>\n",
       "    </tr>\n",
       "    <tr>\n",
       "      <td>740</td>\n",
       "      <td>0.004700</td>\n",
       "    </tr>\n",
       "    <tr>\n",
       "      <td>750</td>\n",
       "      <td>0.010200</td>\n",
       "    </tr>\n",
       "    <tr>\n",
       "      <td>760</td>\n",
       "      <td>0.005800</td>\n",
       "    </tr>\n",
       "    <tr>\n",
       "      <td>770</td>\n",
       "      <td>0.009100</td>\n",
       "    </tr>\n",
       "    <tr>\n",
       "      <td>780</td>\n",
       "      <td>0.006300</td>\n",
       "    </tr>\n",
       "    <tr>\n",
       "      <td>790</td>\n",
       "      <td>0.007600</td>\n",
       "    </tr>\n",
       "    <tr>\n",
       "      <td>800</td>\n",
       "      <td>0.006400</td>\n",
       "    </tr>\n",
       "    <tr>\n",
       "      <td>810</td>\n",
       "      <td>0.008600</td>\n",
       "    </tr>\n",
       "    <tr>\n",
       "      <td>820</td>\n",
       "      <td>0.007800</td>\n",
       "    </tr>\n",
       "    <tr>\n",
       "      <td>830</td>\n",
       "      <td>0.006900</td>\n",
       "    </tr>\n",
       "    <tr>\n",
       "      <td>840</td>\n",
       "      <td>0.008200</td>\n",
       "    </tr>\n",
       "    <tr>\n",
       "      <td>850</td>\n",
       "      <td>0.006800</td>\n",
       "    </tr>\n",
       "    <tr>\n",
       "      <td>860</td>\n",
       "      <td>0.007400</td>\n",
       "    </tr>\n",
       "    <tr>\n",
       "      <td>870</td>\n",
       "      <td>0.006400</td>\n",
       "    </tr>\n",
       "    <tr>\n",
       "      <td>880</td>\n",
       "      <td>0.005400</td>\n",
       "    </tr>\n",
       "    <tr>\n",
       "      <td>890</td>\n",
       "      <td>0.008000</td>\n",
       "    </tr>\n",
       "    <tr>\n",
       "      <td>900</td>\n",
       "      <td>0.004800</td>\n",
       "    </tr>\n",
       "    <tr>\n",
       "      <td>910</td>\n",
       "      <td>0.007100</td>\n",
       "    </tr>\n",
       "    <tr>\n",
       "      <td>920</td>\n",
       "      <td>0.005900</td>\n",
       "    </tr>\n",
       "    <tr>\n",
       "      <td>930</td>\n",
       "      <td>0.007200</td>\n",
       "    </tr>\n",
       "  </tbody>\n",
       "</table><p>"
      ],
      "text/plain": [
       "<IPython.core.display.HTML object>"
      ]
     },
     "metadata": {},
     "output_type": "display_data"
    },
    {
     "data": {
      "text/plain": [
       "(10500, 5)"
      ]
     },
     "execution_count": 30,
     "metadata": {},
     "output_type": "execute_result"
    }
   ],
   "source": [
    "solver.prepare_train()\n",
    "n_train = 10000\n",
    "df20 = sample_data(dataset, task_list, n_row=10500, indices=list(range(20)))\n",
    "train_dataset = Dataset.from_pandas(df20).select(range(n_train))\n",
    "solver.train(train_dataset)"
   ]
  },
  {
   "cell_type": "code",
   "execution_count": null,
   "metadata": {},
   "outputs": [
    {
     "data": {
      "application/vnd.jupyter.widget-view+json": {
       "model_id": "361091fb722144fe9a8da8dda7d0b1ac",
       "version_major": 2,
       "version_minor": 0
      },
      "text/plain": [
       "Loading checkpoint shards:   0%|          | 0/2 [00:00<?, ?it/s]"
      ]
     },
     "metadata": {},
     "output_type": "display_data"
    },
    {
     "name": "stdout",
     "output_type": "stream",
     "text": [
      "<class 'transformers.models.llama.modeling_llama.LlamaForCausalLM'>\n"
     ]
    }
   ],
   "source": [
    "n_eval = 20\n",
    "solver.prepare_evaluation(select_adapter=\"20250527_011623\") # make sure you set the right model"
   ]
  },
  {
   "cell_type": "code",
   "execution_count": null,
   "metadata": {},
   "outputs": [],
   "source": [
    "# from safetensors import safe_open\n",
    "# from safetensors.torch import save_file\n",
    "\n",
    "# safetensors 파일 열기\n",
    "# with safe_open(\"artifacts/20250527_011623/checkpoint-final/adapter_model.safetensors\", framework=\"pt\", device=\"cpu\") as f:\n",
    "#     for k in f.keys(): print(k)\n",
    "#     state_dict = {k: f.get_tensor(k) for k in f.keys()}\n",
    "\n",
    "# fixed_state_dict = {}\n",
    "# for key in state_dict:\n",
    "#     new_key = key.replace(\"base_model.model.base_model.model.model\", \"base_model.model.model\")\n",
    "#     fixed_state_dict[new_key] = state_dict[key]\n",
    "\n",
    "# save_file(fixed_state_dict, \"artifacts/20250527_011623/checkpoint-final/adapter_model_fixed.safetensors\")"
   ]
  },
  {
   "cell_type": "code",
   "execution_count": 19,
   "metadata": {},
   "outputs": [
    {
     "data": {
      "application/vnd.jupyter.widget-view+json": {
       "model_id": "9b54db497cce47c2913f09491d6866eb",
       "version_major": 2,
       "version_minor": 0
      },
      "text/plain": [
       "  0%|          | 0/20 [00:00<?, ?it/s]"
      ]
     },
     "metadata": {},
     "output_type": "display_data"
    },
    {
     "name": "stdout",
     "output_type": "stream",
     "text": [
      "Evaluation score: 0.00\n"
     ]
    },
    {
     "data": {
      "application/vnd.jupyter.widget-view+json": {
       "model_id": "18ab45f9b54f4a6696b24e327f09dee3",
       "version_major": 2,
       "version_minor": 0
      },
      "text/plain": [
       "  0%|          | 0/20 [00:00<?, ?it/s]"
      ]
     },
     "metadata": {},
     "output_type": "display_data"
    },
    {
     "name": "stdout",
     "output_type": "stream",
     "text": [
      "Evaluation score: 5.00\n"
     ]
    },
    {
     "data": {
      "application/vnd.jupyter.widget-view+json": {
       "model_id": "c3cf9af28c5348c997eb271b551aca0e",
       "version_major": 2,
       "version_minor": 0
      },
      "text/plain": [
       "  0%|          | 0/20 [00:00<?, ?it/s]"
      ]
     },
     "metadata": {},
     "output_type": "display_data"
    },
    {
     "name": "stdout",
     "output_type": "stream",
     "text": [
      "Evaluation score: 0.00\n"
     ]
    },
    {
     "data": {
      "application/vnd.jupyter.widget-view+json": {
       "model_id": "abf5e7930ff94fe482560aedf9ffbb7c",
       "version_major": 2,
       "version_minor": 0
      },
      "text/plain": [
       "  0%|          | 0/20 [00:00<?, ?it/s]"
      ]
     },
     "metadata": {},
     "output_type": "display_data"
    },
    {
     "name": "stdout",
     "output_type": "stream",
     "text": [
      "Evaluation score: 0.00\n"
     ]
    },
    {
     "data": {
      "application/vnd.jupyter.widget-view+json": {
       "model_id": "fc37dae0f8fe4b92b953b2d3a48c31ab",
       "version_major": 2,
       "version_minor": 0
      },
      "text/plain": [
       "  0%|          | 0/20 [00:00<?, ?it/s]"
      ]
     },
     "metadata": {},
     "output_type": "display_data"
    },
    {
     "name": "stdout",
     "output_type": "stream",
     "text": [
      "Evaluation score: 0.00\n"
     ]
    },
    {
     "data": {
      "application/vnd.jupyter.widget-view+json": {
       "model_id": "9915861e4e6c48b1a9b3b471a6466ebd",
       "version_major": 2,
       "version_minor": 0
      },
      "text/plain": [
       "  0%|          | 0/20 [00:00<?, ?it/s]"
      ]
     },
     "metadata": {},
     "output_type": "display_data"
    },
    {
     "name": "stdout",
     "output_type": "stream",
     "text": [
      "Evaluation score: 0.00\n"
     ]
    },
    {
     "data": {
      "application/vnd.jupyter.widget-view+json": {
       "model_id": "f1dc1f161d464ca59cd62110c9372163",
       "version_major": 2,
       "version_minor": 0
      },
      "text/plain": [
       "  0%|          | 0/20 [00:00<?, ?it/s]"
      ]
     },
     "metadata": {},
     "output_type": "display_data"
    },
    {
     "name": "stdout",
     "output_type": "stream",
     "text": [
      "Evaluation score: 10.00\n"
     ]
    },
    {
     "data": {
      "application/vnd.jupyter.widget-view+json": {
       "model_id": "87cdebd9ab314e4aa5afdca9e4cf2de5",
       "version_major": 2,
       "version_minor": 0
      },
      "text/plain": [
       "  0%|          | 0/20 [00:00<?, ?it/s]"
      ]
     },
     "metadata": {},
     "output_type": "display_data"
    },
    {
     "name": "stdout",
     "output_type": "stream",
     "text": [
      "Evaluation score: 0.00\n"
     ]
    },
    {
     "data": {
      "application/vnd.jupyter.widget-view+json": {
       "model_id": "52240e8f047849bcbabb53c6a3324d44",
       "version_major": 2,
       "version_minor": 0
      },
      "text/plain": [
       "  0%|          | 0/20 [00:00<?, ?it/s]"
      ]
     },
     "metadata": {},
     "output_type": "display_data"
    },
    {
     "name": "stdout",
     "output_type": "stream",
     "text": [
      "Evaluation score: 15.00\n"
     ]
    },
    {
     "data": {
      "application/vnd.jupyter.widget-view+json": {
       "model_id": "764b4d4f1af64a6dbcd9bf16b0fed834",
       "version_major": 2,
       "version_minor": 0
      },
      "text/plain": [
       "  0%|          | 0/20 [00:00<?, ?it/s]"
      ]
     },
     "metadata": {},
     "output_type": "display_data"
    },
    {
     "name": "stdout",
     "output_type": "stream",
     "text": [
      "Evaluation score: 0.00\n"
     ]
    },
    {
     "data": {
      "application/vnd.jupyter.widget-view+json": {
       "model_id": "4cc38b9b5a204fc8a3734407b0df6a14",
       "version_major": 2,
       "version_minor": 0
      },
      "text/plain": [
       "  0%|          | 0/20 [00:00<?, ?it/s]"
      ]
     },
     "metadata": {},
     "output_type": "display_data"
    },
    {
     "name": "stdout",
     "output_type": "stream",
     "text": [
      "Evaluation score: 5.00\n"
     ]
    },
    {
     "data": {
      "application/vnd.jupyter.widget-view+json": {
       "model_id": "b4c18541c8c347c4b51f70560d27f1ed",
       "version_major": 2,
       "version_minor": 0
      },
      "text/plain": [
       "  0%|          | 0/20 [00:00<?, ?it/s]"
      ]
     },
     "metadata": {},
     "output_type": "display_data"
    },
    {
     "name": "stdout",
     "output_type": "stream",
     "text": [
      "Evaluation score: 0.00\n"
     ]
    },
    {
     "data": {
      "application/vnd.jupyter.widget-view+json": {
       "model_id": "0a4decbefbc14a9482894570a3d312ed",
       "version_major": 2,
       "version_minor": 0
      },
      "text/plain": [
       "  0%|          | 0/20 [00:00<?, ?it/s]"
      ]
     },
     "metadata": {},
     "output_type": "display_data"
    },
    {
     "name": "stdout",
     "output_type": "stream",
     "text": [
      "Evaluation score: 5.00\n"
     ]
    },
    {
     "data": {
      "application/vnd.jupyter.widget-view+json": {
       "model_id": "8b2a33e672454434aee1b486c4e694e4",
       "version_major": 2,
       "version_minor": 0
      },
      "text/plain": [
       "  0%|          | 0/20 [00:00<?, ?it/s]"
      ]
     },
     "metadata": {},
     "output_type": "display_data"
    },
    {
     "name": "stdout",
     "output_type": "stream",
     "text": [
      "Evaluation score: 0.00\n"
     ]
    },
    {
     "data": {
      "application/vnd.jupyter.widget-view+json": {
       "model_id": "b907a259cc8f44bea36d2273f581de86",
       "version_major": 2,
       "version_minor": 0
      },
      "text/plain": [
       "  0%|          | 0/20 [00:00<?, ?it/s]"
      ]
     },
     "metadata": {},
     "output_type": "display_data"
    },
    {
     "name": "stdout",
     "output_type": "stream",
     "text": [
      "Evaluation score: 5.00\n"
     ]
    },
    {
     "data": {
      "application/vnd.jupyter.widget-view+json": {
       "model_id": "f05cbbc5eb974689bd4e181851bfe12d",
       "version_major": 2,
       "version_minor": 0
      },
      "text/plain": [
       "  0%|          | 0/20 [00:00<?, ?it/s]"
      ]
     },
     "metadata": {},
     "output_type": "display_data"
    },
    {
     "name": "stdout",
     "output_type": "stream",
     "text": [
      "Evaluation score: 0.00\n"
     ]
    },
    {
     "data": {
      "application/vnd.jupyter.widget-view+json": {
       "model_id": "07302e91a244403f823593e96c415f6e",
       "version_major": 2,
       "version_minor": 0
      },
      "text/plain": [
       "  0%|          | 0/20 [00:00<?, ?it/s]"
      ]
     },
     "metadata": {},
     "output_type": "display_data"
    },
    {
     "name": "stdout",
     "output_type": "stream",
     "text": [
      "Evaluation score: 0.00\n"
     ]
    },
    {
     "data": {
      "application/vnd.jupyter.widget-view+json": {
       "model_id": "dbbb54abfac24c2da0b1022f1e14d10d",
       "version_major": 2,
       "version_minor": 0
      },
      "text/plain": [
       "  0%|          | 0/20 [00:00<?, ?it/s]"
      ]
     },
     "metadata": {},
     "output_type": "display_data"
    },
    {
     "name": "stdout",
     "output_type": "stream",
     "text": [
      "Evaluation score: 45.00\n"
     ]
    },
    {
     "data": {
      "application/vnd.jupyter.widget-view+json": {
       "model_id": "c48717e244cc4b83b86cd83f667e758a",
       "version_major": 2,
       "version_minor": 0
      },
      "text/plain": [
       "  0%|          | 0/20 [00:00<?, ?it/s]"
      ]
     },
     "metadata": {},
     "output_type": "display_data"
    },
    {
     "name": "stdout",
     "output_type": "stream",
     "text": [
      "Evaluation score: 0.00\n"
     ]
    },
    {
     "data": {
      "application/vnd.jupyter.widget-view+json": {
       "model_id": "8fd18fd70bf04eea9410a54973e34e54",
       "version_major": 2,
       "version_minor": 0
      },
      "text/plain": [
       "  0%|          | 0/20 [00:00<?, ?it/s]"
      ]
     },
     "metadata": {},
     "output_type": "display_data"
    },
    {
     "name": "stdout",
     "output_type": "stream",
     "text": [
      "Evaluation score: 35.00\n"
     ]
    },
    {
     "data": {
      "image/png": "[encoded data removed]",
      "text/plain": [
       "<Figure size 640x480 with 1 Axes>"
      ]
     },
     "metadata": {},
     "output_type": "display_data"
    }
   ],
   "source": [
    "# evaluate our model (eval set)\n",
    "scores = []\n",
    "scores_task = []\n",
    "for task in range(20,40):\n",
    "    eval_dataset = Dataset.from_pandas(task_samples[task]).shuffle(42).select(range(n_eval))\n",
    "    for eval_data in tqdm(eval_dataset):\n",
    "        # print(\"============================================\")\n",
    "        # print(\"Test input\")\n",
    "        # render_grid(eval_data[\"test\"][0]['input'])\n",
    "\n",
    "        # print(\"Predict output\")\n",
    "        preds = solver.predict(eval_data)\n",
    "        # render_grid(preds)\n",
    "\n",
    "        # print(\"Test output\")\n",
    "        # render_grid(eval_data[\"test\"][0]['output'])\n",
    "        # print(\"============================================\")\n",
    "        if preds is None: s = 0\n",
    "        else: s = check_match(preds, eval_data[\"test\"][0][\"output\"])\n",
    "        scores.append(s)\n",
    "    score = np.array(scores).mean() * 100\n",
    "    scores_task.append(score)\n",
    "    print(f\"Evaluation score: {score:.2f}\", flush=True)\n",
    "    scores = []\n",
    "\n",
    "from matplotlib import pyplot as plt\n",
    "x = np.arange(20,40)\n",
    "plt.bar(x, scores_task)\n",
    "plt.xticks(x, list(range(20,40)))\n",
    "plt.show()"
   ]
  }
 ],
 "metadata": {
  "kernelspec": {
   "display_name": ".arcproj",
   "language": "python",
   "name": "python3"
  },
  "language_info": {
   "codemirror_mode": {
    "name": "ipython",
    "version": 3
   },
   "file_extension": ".py",
   "mimetype": "text/x-python",
   "name": "python",
   "nbconvert_exporter": "python",
   "pygments_lexer": "ipython3",
   "version": "3.12.3"
  }
 },
 "nbformat": 4,
 "nbformat_minor": 2
}
