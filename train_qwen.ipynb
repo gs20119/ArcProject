{
 "cells": [
  {
   "cell_type": "code",
   "execution_count": 1,
   "metadata": {},
   "outputs": [],
   "source": [
    "# conda environment (project)\n",
    "# /home/student/.conda/envs/project/bin/python \n",
    "%load_ext autoreload\n",
    "%autoreload 2\n",
    "import numpy as np\n",
    "import pandas as pd\n",
    "from tqdm.auto import tqdm\n",
    "import os, gc\n",
    "import torch\n",
    "\n",
    "from transformers import set_seed\n",
    "from datasets import load_dataset\n",
    "from evaluate import *\n",
    "from arc.arc_new import ARCSolver\n",
    "\n",
    "from datasets import Dataset\n",
    "from utils import render_grid"
   ]
  },
  {
   "cell_type": "code",
   "execution_count": 2,
   "metadata": {},
   "outputs": [
    {
     "name": "stdout",
     "output_type": "stream",
     "text": [
      "Imported 300 different tasks in the dataset.\n",
      "# of samples in a task: min(82), Q1(1000), Q2(1000), Q3(1000), max(1000), mean(897.7)\n"
     ]
    },
    {
     "data": {
      "text/html": [
       "<div>\n",
       "<style scoped>\n",
       "    .dataframe tbody tr th:only-of-type {\n",
       "        vertical-align: middle;\n",
       "    }\n",
       "\n",
       "    .dataframe tbody tr th {\n",
       "        vertical-align: top;\n",
       "    }\n",
       "\n",
       "    .dataframe thead th {\n",
       "        text-align: right;\n",
       "    }\n",
       "</style>\n",
       "<table border=\"1\" class=\"dataframe\">\n",
       "  <thead>\n",
       "    <tr style=\"text-align: right;\">\n",
       "      <th></th>\n",
       "      <th>task</th>\n",
       "      <th>train</th>\n",
       "      <th>test_input</th>\n",
       "      <th>test_output</th>\n",
       "      <th>test</th>\n",
       "    </tr>\n",
       "  </thead>\n",
       "  <tbody>\n",
       "    <tr>\n",
       "      <th>0</th>\n",
       "      <td>6d58a25d</td>\n",
       "      <td>[{'input': [[2, 7, 7, 7, 7, 0, 0], [2, 7, 7, 7...</td>\n",
       "      <td>[{'input': [[5, 5, 5, 5, 5, 5, 2], [5, 5, 5, 5...</td>\n",
       "      <td>[[[5, 5, 5, 8, 5, 5, 2], [5, 5, 5, 8, 5, 5, 2]...</td>\n",
       "      <td>[{'input': [[5, 5, 5, 5, 5, 5, 2], [5, 5, 5, 5...</td>\n",
       "    </tr>\n",
       "    <tr>\n",
       "      <th>1</th>\n",
       "      <td>b0c4d837</td>\n",
       "      <td>[{'input': [[4, 4, 4, 4, 4, 4, 4, 4, 2, 5], [4...</td>\n",
       "      <td>[{'input': [[1, 1, 4, 4, 4, 4, 4], [9, 1, 4, 4...</td>\n",
       "      <td>[[[1, 1, 2, 3, 9, 1, 2], [9, 1, 2, 3, 9, 1, 2]...</td>\n",
       "      <td>[{'input': [[1, 1, 4, 4, 4, 4, 4], [9, 1, 4, 4...</td>\n",
       "    </tr>\n",
       "    <tr>\n",
       "      <th>2</th>\n",
       "      <td>746b3537</td>\n",
       "      <td>[{'input': [[9, 2], [3, 4], [4, 3], [3, 3], [4...</td>\n",
       "      <td>[{'input': [[3], [3], [7], [7], [8], [3], [7],...</td>\n",
       "      <td>[[[3, 7, 8], [3, 7, 0], [3, 7, 0], [3, 0, 0]]]</td>\n",
       "      <td>[{'input': [[3], [3], [7], [7], [8], [3], [7],...</td>\n",
       "    </tr>\n",
       "    <tr>\n",
       "      <th>3</th>\n",
       "      <td>25d8a9c8</td>\n",
       "      <td>[{'input': [[7, 7, 7, 7, 7, 7, 7, 7, 7, 7], [7...</td>\n",
       "      <td>[{'input': [[2, 3, 3, 3, 3, 2, 3, 3, 3], [3, 2...</td>\n",
       "      <td>[[[2, 7, 7, 7, 7, 2], [2, 2, 3, 3, 3, 3], [3, ...</td>\n",
       "      <td>[{'input': [[2, 3, 3, 3, 3, 2, 3, 3, 3], [3, 2...</td>\n",
       "    </tr>\n",
       "    <tr>\n",
       "      <th>4</th>\n",
       "      <td>25ff71a9</td>\n",
       "      <td>[{'input': [[8, 2, 9, 9, 9], [9, 9, 9, 9, 9], ...</td>\n",
       "      <td>[{'input': [[6, 6, 6, 6, 6, 1, 6, 6, 6, 6], [6...</td>\n",
       "      <td>[[[2, 0, 6, 4, 6, 1, 6, 6, 6, 6], [7, 1, 6, 1,...</td>\n",
       "      <td>[{'input': [[6, 6, 6, 6, 6, 1, 6, 6, 6, 6], [6...</td>\n",
       "    </tr>\n",
       "  </tbody>\n",
       "</table>\n",
       "</div>"
      ],
      "text/plain": [
       "       task                                              train  \\\n",
       "0  6d58a25d  [{'input': [[2, 7, 7, 7, 7, 0, 0], [2, 7, 7, 7...   \n",
       "1  b0c4d837  [{'input': [[4, 4, 4, 4, 4, 4, 4, 4, 2, 5], [4...   \n",
       "2  746b3537  [{'input': [[9, 2], [3, 4], [4, 3], [3, 3], [4...   \n",
       "3  25d8a9c8  [{'input': [[7, 7, 7, 7, 7, 7, 7, 7, 7, 7], [7...   \n",
       "4  25ff71a9  [{'input': [[8, 2, 9, 9, 9], [9, 9, 9, 9, 9], ...   \n",
       "\n",
       "                                          test_input  \\\n",
       "0  [{'input': [[5, 5, 5, 5, 5, 5, 2], [5, 5, 5, 5...   \n",
       "1  [{'input': [[1, 1, 4, 4, 4, 4, 4], [9, 1, 4, 4...   \n",
       "2  [{'input': [[3], [3], [7], [7], [8], [3], [7],...   \n",
       "3  [{'input': [[2, 3, 3, 3, 3, 2, 3, 3, 3], [3, 2...   \n",
       "4  [{'input': [[6, 6, 6, 6, 6, 1, 6, 6, 6, 6], [6...   \n",
       "\n",
       "                                         test_output  \\\n",
       "0  [[[5, 5, 5, 8, 5, 5, 2], [5, 5, 5, 8, 5, 5, 2]...   \n",
       "1  [[[1, 1, 2, 3, 9, 1, 2], [9, 1, 2, 3, 9, 1, 2]...   \n",
       "2     [[[3, 7, 8], [3, 7, 0], [3, 7, 0], [3, 0, 0]]]   \n",
       "3  [[[2, 7, 7, 7, 7, 2], [2, 2, 3, 3, 3, 3], [3, ...   \n",
       "4  [[[2, 0, 6, 4, 6, 1, 6, 6, 6, 6], [7, 1, 6, 1,...   \n",
       "\n",
       "                                                test  \n",
       "0  [{'input': [[5, 5, 5, 5, 5, 5, 2], [5, 5, 5, 5...  \n",
       "1  [{'input': [[1, 1, 4, 4, 4, 4, 4], [9, 1, 4, 4...  \n",
       "2  [{'input': [[3], [3], [7], [7], [8], [3], [7],...  \n",
       "3  [{'input': [[2, 3, 3, 3, 3, 2, 3, 3, 3], [3, 2...  \n",
       "4  [{'input': [[6, 6, 6, 6, 6, 1, 6, 6, 6, 6], [6...  "
      ]
     },
     "execution_count": 2,
     "metadata": {},
     "output_type": "execute_result"
    }
   ],
   "source": [
    "# prepare the test dataset\n",
    "data_path = \"/workspace/dataset\"\n",
    "dataset, task_list = load_data(data_path)\n",
    "df300 = sample_data(dataset, task_list, n_row=30000) \n",
    "df300.head(5) "
   ]
  },
  {
   "cell_type": "code",
   "execution_count": 4,
   "metadata": {},
   "outputs": [],
   "source": [
    "# prepare samples for each task\n",
    "task_samples = []\n",
    "for t in range(300):\n",
    "    df = sample_data(dataset, task_list, n_row=1000, indices=[t])\n",
    "    task_samples.append(df)"
   ]
  },
  {
   "cell_type": "code",
   "execution_count": 6,
   "metadata": {
    "scrolled": true
   },
   "outputs": [
    {
     "name": "stdout",
     "output_type": "stream",
     "text": [
      "5\n",
      "==================================================\n",
      "Example input\n"
     ]
    },
    {
     "data": {
      "text/html": [
       "<pre style=\"white-space:pre;overflow-x:auto;line-height:normal;font-family:Menlo,'DejaVu Sans Mono',consolas,'Courier New',monospace\"><span style=\"background-color: #000080\">              </span>  [4, 4, 4, 4, 4, 4, 4]\n",
       "<span style=\"background-color: #000080\">  </span><span style=\"background-color: #000000\">  </span><span style=\"background-color: #000080\">          </span>  [4, 0, 4, 4, 4, 4, 4]\n",
       "<span style=\"background-color: #000080\">  </span><span style=\"background-color: #000000\">  </span><span style=\"background-color: #000080\">          </span>  [4, 0, 4, 4, 4, 4, 4]\n",
       "<span style=\"background-color: #000080\">    </span><span style=\"background-color: #000000\">    </span><span style=\"background-color: #000080\">      </span>  [4, 4, 0, 0, 4, 4, 4]\n",
       "<span style=\"background-color: #000080\">      </span><span style=\"background-color: #000000\">    </span><span style=\"background-color: #000080\">    </span>  [4, 4, 4, 0, 0, 4, 4]\n",
       "<span style=\"background-color: #000080\">    </span><span style=\"background-color: #000000\">  </span><span style=\"background-color: #000080\">        </span>  [4, 4, 0, 4, 4, 4, 4]\n",
       "<span style=\"background-color: #000080\">              </span>  [4, 4, 4, 4, 4, 4, 4]\n",
       "\n",
       "</pre>\n"
      ],
      "text/plain": [
       "\u001b[44m  \u001b[0m\u001b[44m  \u001b[0m\u001b[44m  \u001b[0m\u001b[44m  \u001b[0m\u001b[44m  \u001b[0m\u001b[44m  \u001b[0m\u001b[44m  \u001b[0m  [4, 4, 4, 4, 4, 4, 4]\n",
       "\u001b[44m  \u001b[0m\u001b[40m  \u001b[0m\u001b[44m  \u001b[0m\u001b[44m  \u001b[0m\u001b[44m  \u001b[0m\u001b[44m  \u001b[0m\u001b[44m  \u001b[0m  [4, 0, 4, 4, 4, 4, 4]\n",
       "\u001b[44m  \u001b[0m\u001b[40m  \u001b[0m\u001b[44m  \u001b[0m\u001b[44m  \u001b[0m\u001b[44m  \u001b[0m\u001b[44m  \u001b[0m\u001b[44m  \u001b[0m  [4, 0, 4, 4, 4, 4, 4]\n",
       "\u001b[44m  \u001b[0m\u001b[44m  \u001b[0m\u001b[40m  \u001b[0m\u001b[40m  \u001b[0m\u001b[44m  \u001b[0m\u001b[44m  \u001b[0m\u001b[44m  \u001b[0m  [4, 4, 0, 0, 4, 4, 4]\n",
       "\u001b[44m  \u001b[0m\u001b[44m  \u001b[0m\u001b[44m  \u001b[0m\u001b[40m  \u001b[0m\u001b[40m  \u001b[0m\u001b[44m  \u001b[0m\u001b[44m  \u001b[0m  [4, 4, 4, 0, 0, 4, 4]\n",
       "\u001b[44m  \u001b[0m\u001b[44m  \u001b[0m\u001b[40m  \u001b[0m\u001b[44m  \u001b[0m\u001b[44m  \u001b[0m\u001b[44m  \u001b[0m\u001b[44m  \u001b[0m  [4, 4, 0, 4, 4, 4, 4]\n",
       "\u001b[44m  \u001b[0m\u001b[44m  \u001b[0m\u001b[44m  \u001b[0m\u001b[44m  \u001b[0m\u001b[44m  \u001b[0m\u001b[44m  \u001b[0m\u001b[44m  \u001b[0m  [4, 4, 4, 4, 4, 4, 4]\n",
       "\n"
      ]
     },
     "metadata": {},
     "output_type": "display_data"
    },
    {
     "name": "stdout",
     "output_type": "stream",
     "text": [
      "Example output\n"
     ]
    },
    {
     "data": {
      "text/html": [
       "<pre style=\"white-space:pre;overflow-x:auto;line-height:normal;font-family:Menlo,'DejaVu Sans Mono',consolas,'Courier New',monospace\"><span style=\"background-color: #000000\">    </span><span style=\"background-color: #000080\">            </span>  [0, 0, 4, 4, 4, 4, 4, 4]\n",
       "<span style=\"background-color: #000000\">    </span><span style=\"background-color: #000080\">            </span>  [0, 0, 4, 4, 4, 4, 4, 4]\n",
       "<span style=\"background-color: #000000\">    </span><span style=\"background-color: #000080\">            </span>  [0, 0, 4, 4, 4, 4, 4, 4]\n",
       "<span style=\"background-color: #000000\">    </span><span style=\"background-color: #000080\">            </span>  [0, 0, 4, 4, 4, 4, 4, 4]\n",
       "<span style=\"background-color: #000080\">    </span><span style=\"background-color: #000000\">        </span><span style=\"background-color: #000080\">    </span>  [4, 4, 0, 0, 0, 0, 4, 4]\n",
       "<span style=\"background-color: #000080\">    </span><span style=\"background-color: #000000\">        </span><span style=\"background-color: #000080\">    </span>  [4, 4, 0, 0, 0, 0, 4, 4]\n",
       "<span style=\"background-color: #000080\">        </span><span style=\"background-color: #000000\">        </span>  [4, 4, 4, 4, 0, 0, 0, 0]\n",
       "<span style=\"background-color: #000080\">        </span><span style=\"background-color: #000000\">        </span>  [4, 4, 4, 4, 0, 0, 0, 0]\n",
       "<span style=\"background-color: #000080\">    </span><span style=\"background-color: #000000\">    </span><span style=\"background-color: #000080\">        </span>  [4, 4, 0, 0, 4, 4, 4, 4]\n",
       "<span style=\"background-color: #000080\">    </span><span style=\"background-color: #000000\">    </span><span style=\"background-color: #000080\">        </span>  [4, 4, 0, 0, 4, 4, 4, 4]\n",
       "\n",
       "</pre>\n"
      ],
      "text/plain": [
       "\u001b[40m  \u001b[0m\u001b[40m  \u001b[0m\u001b[44m  \u001b[0m\u001b[44m  \u001b[0m\u001b[44m  \u001b[0m\u001b[44m  \u001b[0m\u001b[44m  \u001b[0m\u001b[44m  \u001b[0m  [0, 0, 4, 4, 4, 4, 4, 4]\n",
       "\u001b[40m  \u001b[0m\u001b[40m  \u001b[0m\u001b[44m  \u001b[0m\u001b[44m  \u001b[0m\u001b[44m  \u001b[0m\u001b[44m  \u001b[0m\u001b[44m  \u001b[0m\u001b[44m  \u001b[0m  [0, 0, 4, 4, 4, 4, 4, 4]\n",
       "\u001b[40m  \u001b[0m\u001b[40m  \u001b[0m\u001b[44m  \u001b[0m\u001b[44m  \u001b[0m\u001b[44m  \u001b[0m\u001b[44m  \u001b[0m\u001b[44m  \u001b[0m\u001b[44m  \u001b[0m  [0, 0, 4, 4, 4, 4, 4, 4]\n",
       "\u001b[40m  \u001b[0m\u001b[40m  \u001b[0m\u001b[44m  \u001b[0m\u001b[44m  \u001b[0m\u001b[44m  \u001b[0m\u001b[44m  \u001b[0m\u001b[44m  \u001b[0m\u001b[44m  \u001b[0m  [0, 0, 4, 4, 4, 4, 4, 4]\n",
       "\u001b[44m  \u001b[0m\u001b[44m  \u001b[0m\u001b[40m  \u001b[0m\u001b[40m  \u001b[0m\u001b[40m  \u001b[0m\u001b[40m  \u001b[0m\u001b[44m  \u001b[0m\u001b[44m  \u001b[0m  [4, 4, 0, 0, 0, 0, 4, 4]\n",
       "\u001b[44m  \u001b[0m\u001b[44m  \u001b[0m\u001b[40m  \u001b[0m\u001b[40m  \u001b[0m\u001b[40m  \u001b[0m\u001b[40m  \u001b[0m\u001b[44m  \u001b[0m\u001b[44m  \u001b[0m  [4, 4, 0, 0, 0, 0, 4, 4]\n",
       "\u001b[44m  \u001b[0m\u001b[44m  \u001b[0m\u001b[44m  \u001b[0m\u001b[44m  \u001b[0m\u001b[40m  \u001b[0m\u001b[40m  \u001b[0m\u001b[40m  \u001b[0m\u001b[40m  \u001b[0m  [4, 4, 4, 4, 0, 0, 0, 0]\n",
       "\u001b[44m  \u001b[0m\u001b[44m  \u001b[0m\u001b[44m  \u001b[0m\u001b[44m  \u001b[0m\u001b[40m  \u001b[0m\u001b[40m  \u001b[0m\u001b[40m  \u001b[0m\u001b[40m  \u001b[0m  [4, 4, 4, 4, 0, 0, 0, 0]\n",
       "\u001b[44m  \u001b[0m\u001b[44m  \u001b[0m\u001b[40m  \u001b[0m\u001b[40m  \u001b[0m\u001b[44m  \u001b[0m\u001b[44m  \u001b[0m\u001b[44m  \u001b[0m\u001b[44m  \u001b[0m  [4, 4, 0, 0, 4, 4, 4, 4]\n",
       "\u001b[44m  \u001b[0m\u001b[44m  \u001b[0m\u001b[40m  \u001b[0m\u001b[40m  \u001b[0m\u001b[44m  \u001b[0m\u001b[44m  \u001b[0m\u001b[44m  \u001b[0m\u001b[44m  \u001b[0m  [4, 4, 0, 0, 4, 4, 4, 4]\n",
       "\n"
      ]
     },
     "metadata": {},
     "output_type": "display_data"
    },
    {
     "name": "stdout",
     "output_type": "stream",
     "text": [
      "==================================================\n",
      "Example test input\n"
     ]
    },
    {
     "data": {
      "text/html": [
       "<pre style=\"white-space:pre;overflow-x:auto;line-height:normal;font-family:Menlo,'DejaVu Sans Mono',consolas,'Courier New',monospace\"><span style=\"background-color: #808000\">      </span>  [3, 3, 3]\n",
       "<span style=\"background-color: #808000\">      </span>  [3, 3, 3]\n",
       "<span style=\"background-color: #808000\">    </span><span style=\"background-color: #000080\">  </span>  [3, 3, 4]\n",
       "<span style=\"background-color: #808000\">  </span><span style=\"background-color: #000080\">  </span><span style=\"background-color: #808000\">  </span>  [3, 4, 3]\n",
       "<span style=\"background-color: #808000\">  </span><span style=\"background-color: #000080\">  </span><span style=\"background-color: #808000\">  </span>  [3, 4, 3]\n",
       "<span style=\"background-color: #808000\">      </span>  [3, 3, 3]\n",
       "<span style=\"background-color: #808000\">      </span>  [3, 3, 3]\n",
       "\n",
       "</pre>\n"
      ],
      "text/plain": [
       "\u001b[43m  \u001b[0m\u001b[43m  \u001b[0m\u001b[43m  \u001b[0m  [3, 3, 3]\n",
       "\u001b[43m  \u001b[0m\u001b[43m  \u001b[0m\u001b[43m  \u001b[0m  [3, 3, 3]\n",
       "\u001b[43m  \u001b[0m\u001b[43m  \u001b[0m\u001b[44m  \u001b[0m  [3, 3, 4]\n",
       "\u001b[43m  \u001b[0m\u001b[44m  \u001b[0m\u001b[43m  \u001b[0m  [3, 4, 3]\n",
       "\u001b[43m  \u001b[0m\u001b[44m  \u001b[0m\u001b[43m  \u001b[0m  [3, 4, 3]\n",
       "\u001b[43m  \u001b[0m\u001b[43m  \u001b[0m\u001b[43m  \u001b[0m  [3, 3, 3]\n",
       "\u001b[43m  \u001b[0m\u001b[43m  \u001b[0m\u001b[43m  \u001b[0m  [3, 3, 3]\n",
       "\n"
      ]
     },
     "metadata": {},
     "output_type": "display_data"
    },
    {
     "name": "stdout",
     "output_type": "stream",
     "text": [
      "Example test output\n"
     ]
    },
    {
     "data": {
      "text/html": [
       "<pre style=\"white-space:pre;overflow-x:auto;line-height:normal;font-family:Menlo,'DejaVu Sans Mono',consolas,'Courier New',monospace\"><span style=\"background-color: #808000\">    </span><span style=\"background-color: #000080\">    </span>  [3, 3, 4, 4]\n",
       "<span style=\"background-color: #808000\">    </span><span style=\"background-color: #000080\">    </span>  [3, 3, 4, 4]\n",
       "<span style=\"background-color: #000080\">    </span><span style=\"background-color: #808000\">    </span>  [4, 4, 3, 3]\n",
       "<span style=\"background-color: #000080\">    </span><span style=\"background-color: #808000\">    </span>  [4, 4, 3, 3]\n",
       "<span style=\"background-color: #000080\">    </span><span style=\"background-color: #808000\">    </span>  [4, 4, 3, 3]\n",
       "<span style=\"background-color: #000080\">    </span><span style=\"background-color: #808000\">    </span>  [4, 4, 3, 3]\n",
       "\n",
       "</pre>\n"
      ],
      "text/plain": [
       "\u001b[43m  \u001b[0m\u001b[43m  \u001b[0m\u001b[44m  \u001b[0m\u001b[44m  \u001b[0m  [3, 3, 4, 4]\n",
       "\u001b[43m  \u001b[0m\u001b[43m  \u001b[0m\u001b[44m  \u001b[0m\u001b[44m  \u001b[0m  [3, 3, 4, 4]\n",
       "\u001b[44m  \u001b[0m\u001b[44m  \u001b[0m\u001b[43m  \u001b[0m\u001b[43m  \u001b[0m  [4, 4, 3, 3]\n",
       "\u001b[44m  \u001b[0m\u001b[44m  \u001b[0m\u001b[43m  \u001b[0m\u001b[43m  \u001b[0m  [4, 4, 3, 3]\n",
       "\u001b[44m  \u001b[0m\u001b[44m  \u001b[0m\u001b[43m  \u001b[0m\u001b[43m  \u001b[0m  [4, 4, 3, 3]\n",
       "\u001b[44m  \u001b[0m\u001b[44m  \u001b[0m\u001b[43m  \u001b[0m\u001b[43m  \u001b[0m  [4, 4, 3, 3]\n",
       "\n"
      ]
     },
     "metadata": {},
     "output_type": "display_data"
    },
    {
     "name": "stdout",
     "output_type": "stream",
     "text": [
      "==================================================\n",
      "6\n",
      "==================================================\n",
      "Example input\n"
     ]
    },
    {
     "data": {
      "text/html": [
       "<pre style=\"white-space:pre;overflow-x:auto;line-height:normal;font-family:Menlo,'DejaVu Sans Mono',consolas,'Courier New',monospace\"><span style=\"background-color: #008000\">    </span><span style=\"background-color: #008080\">  </span><span style=\"background-color: #800080\">  </span>  [2, 2, 6, 5]\n",
       "\n",
       "</pre>\n"
      ],
      "text/plain": [
       "\u001b[42m  \u001b[0m\u001b[42m  \u001b[0m\u001b[46m  \u001b[0m\u001b[45m  \u001b[0m  [2, 2, 6, 5]\n",
       "\n"
      ]
     },
     "metadata": {},
     "output_type": "display_data"
    },
    {
     "name": "stdout",
     "output_type": "stream",
     "text": [
      "Example output\n"
     ]
    },
    {
     "data": {
      "text/html": [
       "<pre style=\"white-space:pre;overflow-x:auto;line-height:normal;font-family:Menlo,'DejaVu Sans Mono',consolas,'Courier New',monospace\"><span style=\"background-color: #008000\">    </span><span style=\"background-color: #008080\">  </span><span style=\"background-color: #800080\">  </span>  [2, 2, 6, 5]\n",
       "<span style=\"background-color: #008000\">      </span><span style=\"background-color: #008080\">  </span>  [2, 2, 2, 6]\n",
       "\n",
       "</pre>\n"
      ],
      "text/plain": [
       "\u001b[42m  \u001b[0m\u001b[42m  \u001b[0m\u001b[46m  \u001b[0m\u001b[45m  \u001b[0m  [2, 2, 6, 5]\n",
       "\u001b[42m  \u001b[0m\u001b[42m  \u001b[0m\u001b[42m  \u001b[0m\u001b[46m  \u001b[0m  [2, 2, 2, 6]\n",
       "\n"
      ]
     },
     "metadata": {},
     "output_type": "display_data"
    },
    {
     "name": "stdout",
     "output_type": "stream",
     "text": [
      "==================================================\n",
      "Example test input\n"
     ]
    },
    {
     "data": {
      "text/html": [
       "<pre style=\"white-space:pre;overflow-x:auto;line-height:normal;font-family:Menlo,'DejaVu Sans Mono',consolas,'Courier New',monospace\"><span style=\"background-color: #000000\">      </span><span style=\"background-color: #800000\">  </span><span style=\"background-color: #000080\">    </span>  [0, 0, 0, 1, 4, 4]\n",
       "\n",
       "</pre>\n"
      ],
      "text/plain": [
       "\u001b[40m  \u001b[0m\u001b[40m  \u001b[0m\u001b[40m  \u001b[0m\u001b[41m  \u001b[0m\u001b[44m  \u001b[0m\u001b[44m  \u001b[0m  [0, 0, 0, 1, 4, 4]\n",
       "\n"
      ]
     },
     "metadata": {},
     "output_type": "display_data"
    },
    {
     "name": "stdout",
     "output_type": "stream",
     "text": [
      "Example test output\n"
     ]
    },
    {
     "data": {
      "text/html": [
       "<pre style=\"white-space:pre;overflow-x:auto;line-height:normal;font-family:Menlo,'DejaVu Sans Mono',consolas,'Courier New',monospace\"><span style=\"background-color: #000000\">      </span><span style=\"background-color: #800000\">  </span><span style=\"background-color: #000080\">    </span>  [0, 0, 0, 1, 4, 4]\n",
       "<span style=\"background-color: #000000\">        </span><span style=\"background-color: #800000\">  </span><span style=\"background-color: #000080\">  </span>  [0, 0, 0, 0, 1, 4]\n",
       "<span style=\"background-color: #000000\">          </span><span style=\"background-color: #800000\">  </span>  [0, 0, 0, 0, 0, 1]\n",
       "\n",
       "</pre>\n"
      ],
      "text/plain": [
       "\u001b[40m  \u001b[0m\u001b[40m  \u001b[0m\u001b[40m  \u001b[0m\u001b[41m  \u001b[0m\u001b[44m  \u001b[0m\u001b[44m  \u001b[0m  [0, 0, 0, 1, 4, 4]\n",
       "\u001b[40m  \u001b[0m\u001b[40m  \u001b[0m\u001b[40m  \u001b[0m\u001b[40m  \u001b[0m\u001b[41m  \u001b[0m\u001b[44m  \u001b[0m  [0, 0, 0, 0, 1, 4]\n",
       "\u001b[40m  \u001b[0m\u001b[40m  \u001b[0m\u001b[40m  \u001b[0m\u001b[40m  \u001b[0m\u001b[40m  \u001b[0m\u001b[41m  \u001b[0m  [0, 0, 0, 0, 0, 1]\n",
       "\n"
      ]
     },
     "metadata": {},
     "output_type": "display_data"
    },
    {
     "name": "stdout",
     "output_type": "stream",
     "text": [
      "==================================================\n",
      "8\n",
      "==================================================\n",
      "Example input\n"
     ]
    },
    {
     "data": {
      "text/html": [
       "<pre style=\"white-space:pre;overflow-x:auto;line-height:normal;font-family:Menlo,'DejaVu Sans Mono',consolas,'Courier New',monospace\"><span style=\"background-color: #800000\">  </span><span style=\"background-color: #808000\">  </span><span style=\"background-color: #800000\">  </span><span style=\"background-color: #008000\">              </span>  [1, 3, 1, 2, 2, 2, 2, 2, 2, 2]\n",
       "<span style=\"background-color: #008000\">  </span><span style=\"background-color: #808000\">  </span><span style=\"background-color: #800000\">  </span><span style=\"background-color: #008000\">              </span>  [2, 3, 1, 2, 2, 2, 2, 2, 2, 2]\n",
       "<span style=\"background-color: #008000\">  </span><span style=\"background-color: #800000\">  </span><span style=\"background-color: #808000\">  </span><span style=\"background-color: #800000\">  </span><span style=\"background-color: #008000\">            </span>  [2, 1, 3, 1, 2, 2, 2, 2, 2, 2]\n",
       "<span style=\"background-color: #008000\">    </span><span style=\"background-color: #808000\">  </span><span style=\"background-color: #800000\">  </span><span style=\"background-color: #008000\">            </span>  [2, 2, 3, 1, 2, 2, 2, 2, 2, 2]\n",
       "\n",
       "</pre>\n"
      ],
      "text/plain": [
       "\u001b[41m  \u001b[0m\u001b[43m  \u001b[0m\u001b[41m  \u001b[0m\u001b[42m  \u001b[0m\u001b[42m  \u001b[0m\u001b[42m  \u001b[0m\u001b[42m  \u001b[0m\u001b[42m  \u001b[0m\u001b[42m  \u001b[0m\u001b[42m  \u001b[0m  [1, 3, 1, 2, 2, 2, 2, 2, 2, 2]\n",
       "\u001b[42m  \u001b[0m\u001b[43m  \u001b[0m\u001b[41m  \u001b[0m\u001b[42m  \u001b[0m\u001b[42m  \u001b[0m\u001b[42m  \u001b[0m\u001b[42m  \u001b[0m\u001b[42m  \u001b[0m\u001b[42m  \u001b[0m\u001b[42m  \u001b[0m  [2, 3, 1, 2, 2, 2, 2, 2, 2, 2]\n",
       "\u001b[42m  \u001b[0m\u001b[41m  \u001b[0m\u001b[43m  \u001b[0m\u001b[41m  \u001b[0m\u001b[42m  \u001b[0m\u001b[42m  \u001b[0m\u001b[42m  \u001b[0m\u001b[42m  \u001b[0m\u001b[42m  \u001b[0m\u001b[42m  \u001b[0m  [2, 1, 3, 1, 2, 2, 2, 2, 2, 2]\n",
       "\u001b[42m  \u001b[0m\u001b[42m  \u001b[0m\u001b[43m  \u001b[0m\u001b[41m  \u001b[0m\u001b[42m  \u001b[0m\u001b[42m  \u001b[0m\u001b[42m  \u001b[0m\u001b[42m  \u001b[0m\u001b[42m  \u001b[0m\u001b[42m  \u001b[0m  [2, 2, 3, 1, 2, 2, 2, 2, 2, 2]\n",
       "\n"
      ]
     },
     "metadata": {},
     "output_type": "display_data"
    },
    {
     "name": "stdout",
     "output_type": "stream",
     "text": [
      "Example output\n"
     ]
    },
    {
     "data": {
      "text/html": [
       "<pre style=\"white-space:pre;overflow-x:auto;line-height:normal;font-family:Menlo,'DejaVu Sans Mono',consolas,'Courier New',monospace\"><span style=\"background-color: #800000\">  </span><span style=\"background-color: #808000\">  </span><span style=\"background-color: #800000\">  </span><span style=\"background-color: #008000\">              </span>  [1, 3, 1, 2, 2, 2, 2, 2, 2, 2]\n",
       "<span style=\"background-color: #008000\">  </span><span style=\"background-color: #808000\">  </span><span style=\"background-color: #800000\">  </span><span style=\"background-color: #008000\">              </span>  [2, 3, 1, 2, 2, 2, 2, 2, 2, 2]\n",
       "<span style=\"background-color: #008000\">  </span><span style=\"background-color: #800000\">  </span><span style=\"background-color: #808000\">  </span><span style=\"background-color: #800000\">  </span><span style=\"background-color: #008000\">            </span>  [2, 1, 3, 1, 2, 2, 2, 2, 2, 2]\n",
       "<span style=\"background-color: #008000\">    </span><span style=\"background-color: #808000\">  </span><span style=\"background-color: #800000\">  </span><span style=\"background-color: #008000\">            </span>  [2, 2, 3, 1, 2, 2, 2, 2, 2, 2]\n",
       "<span style=\"background-color: #008000\">    </span><span style=\"background-color: #800000\">  </span><span style=\"background-color: #808000\">  </span><span style=\"background-color: #800000\">  </span><span style=\"background-color: #008000\">          </span>  [2, 2, 1, 3, 1, 2, 2, 2, 2, 2]\n",
       "<span style=\"background-color: #008000\">      </span><span style=\"background-color: #808000\">  </span><span style=\"background-color: #800000\">  </span><span style=\"background-color: #008000\">          </span>  [2, 2, 2, 3, 1, 2, 2, 2, 2, 2]\n",
       "<span style=\"background-color: #008000\">      </span><span style=\"background-color: #800000\">  </span><span style=\"background-color: #808000\">  </span><span style=\"background-color: #800000\">  </span><span style=\"background-color: #008000\">        </span>  [2, 2, 2, 1, 3, 1, 2, 2, 2, 2]\n",
       "<span style=\"background-color: #008000\">        </span><span style=\"background-color: #808000\">  </span><span style=\"background-color: #800000\">  </span><span style=\"background-color: #008000\">        </span>  [2, 2, 2, 2, 3, 1, 2, 2, 2, 2]\n",
       "<span style=\"background-color: #008000\">        </span><span style=\"background-color: #800000\">  </span><span style=\"background-color: #808000\">  </span><span style=\"background-color: #800000\">  </span><span style=\"background-color: #008000\">      </span>  [2, 2, 2, 2, 1, 3, 1, 2, 2, 2]\n",
       "<span style=\"background-color: #008000\">          </span><span style=\"background-color: #808000\">  </span><span style=\"background-color: #800000\">  </span><span style=\"background-color: #008000\">      </span>  [2, 2, 2, 2, 2, 3, 1, 2, 2, 2]\n",
       "\n",
       "</pre>\n"
      ],
      "text/plain": [
       "\u001b[41m  \u001b[0m\u001b[43m  \u001b[0m\u001b[41m  \u001b[0m\u001b[42m  \u001b[0m\u001b[42m  \u001b[0m\u001b[42m  \u001b[0m\u001b[42m  \u001b[0m\u001b[42m  \u001b[0m\u001b[42m  \u001b[0m\u001b[42m  \u001b[0m  [1, 3, 1, 2, 2, 2, 2, 2, 2, 2]\n",
       "\u001b[42m  \u001b[0m\u001b[43m  \u001b[0m\u001b[41m  \u001b[0m\u001b[42m  \u001b[0m\u001b[42m  \u001b[0m\u001b[42m  \u001b[0m\u001b[42m  \u001b[0m\u001b[42m  \u001b[0m\u001b[42m  \u001b[0m\u001b[42m  \u001b[0m  [2, 3, 1, 2, 2, 2, 2, 2, 2, 2]\n",
       "\u001b[42m  \u001b[0m\u001b[41m  \u001b[0m\u001b[43m  \u001b[0m\u001b[41m  \u001b[0m\u001b[42m  \u001b[0m\u001b[42m  \u001b[0m\u001b[42m  \u001b[0m\u001b[42m  \u001b[0m\u001b[42m  \u001b[0m\u001b[42m  \u001b[0m  [2, 1, 3, 1, 2, 2, 2, 2, 2, 2]\n",
       "\u001b[42m  \u001b[0m\u001b[42m  \u001b[0m\u001b[43m  \u001b[0m\u001b[41m  \u001b[0m\u001b[42m  \u001b[0m\u001b[42m  \u001b[0m\u001b[42m  \u001b[0m\u001b[42m  \u001b[0m\u001b[42m  \u001b[0m\u001b[42m  \u001b[0m  [2, 2, 3, 1, 2, 2, 2, 2, 2, 2]\n",
       "\u001b[42m  \u001b[0m\u001b[42m  \u001b[0m\u001b[41m  \u001b[0m\u001b[43m  \u001b[0m\u001b[41m  \u001b[0m\u001b[42m  \u001b[0m\u001b[42m  \u001b[0m\u001b[42m  \u001b[0m\u001b[42m  \u001b[0m\u001b[42m  \u001b[0m  [2, 2, 1, 3, 1, 2, 2, 2, 2, 2]\n",
       "\u001b[42m  \u001b[0m\u001b[42m  \u001b[0m\u001b[42m  \u001b[0m\u001b[43m  \u001b[0m\u001b[41m  \u001b[0m\u001b[42m  \u001b[0m\u001b[42m  \u001b[0m\u001b[42m  \u001b[0m\u001b[42m  \u001b[0m\u001b[42m  \u001b[0m  [2, 2, 2, 3, 1, 2, 2, 2, 2, 2]\n",
       "\u001b[42m  \u001b[0m\u001b[42m  \u001b[0m\u001b[42m  \u001b[0m\u001b[41m  \u001b[0m\u001b[43m  \u001b[0m\u001b[41m  \u001b[0m\u001b[42m  \u001b[0m\u001b[42m  \u001b[0m\u001b[42m  \u001b[0m\u001b[42m  \u001b[0m  [2, 2, 2, 1, 3, 1, 2, 2, 2, 2]\n",
       "\u001b[42m  \u001b[0m\u001b[42m  \u001b[0m\u001b[42m  \u001b[0m\u001b[42m  \u001b[0m\u001b[43m  \u001b[0m\u001b[41m  \u001b[0m\u001b[42m  \u001b[0m\u001b[42m  \u001b[0m\u001b[42m  \u001b[0m\u001b[42m  \u001b[0m  [2, 2, 2, 2, 3, 1, 2, 2, 2, 2]\n",
       "\u001b[42m  \u001b[0m\u001b[42m  \u001b[0m\u001b[42m  \u001b[0m\u001b[42m  \u001b[0m\u001b[41m  \u001b[0m\u001b[43m  \u001b[0m\u001b[41m  \u001b[0m\u001b[42m  \u001b[0m\u001b[42m  \u001b[0m\u001b[42m  \u001b[0m  [2, 2, 2, 2, 1, 3, 1, 2, 2, 2]\n",
       "\u001b[42m  \u001b[0m\u001b[42m  \u001b[0m\u001b[42m  \u001b[0m\u001b[42m  \u001b[0m\u001b[42m  \u001b[0m\u001b[43m  \u001b[0m\u001b[41m  \u001b[0m\u001b[42m  \u001b[0m\u001b[42m  \u001b[0m\u001b[42m  \u001b[0m  [2, 2, 2, 2, 2, 3, 1, 2, 2, 2]\n",
       "\n"
      ]
     },
     "metadata": {},
     "output_type": "display_data"
    },
    {
     "name": "stdout",
     "output_type": "stream",
     "text": [
      "==================================================\n",
      "Example test input\n"
     ]
    },
    {
     "data": {
      "text/html": [
       "<pre style=\"white-space:pre;overflow-x:auto;line-height:normal;font-family:Menlo,'DejaVu Sans Mono',consolas,'Courier New',monospace\"><span style=\"background-color: #c0c0c0\">                </span><span style=\"background-color: #00ff00\">  </span>  [7, 7, 7, 7, 7, 7, 7, 7, 9]\n",
       "<span style=\"background-color: #c0c0c0\">              </span><span style=\"background-color: #00ff00\">  </span><span style=\"background-color: #c0c0c0\">  </span>  [7, 7, 7, 7, 7, 7, 7, 9, 7]\n",
       "<span style=\"background-color: #c0c0c0\">            </span><span style=\"background-color: #00ff00\">  </span><span style=\"background-color: #c0c0c0\">    </span>  [7, 7, 7, 7, 7, 7, 9, 7, 7]\n",
       "<span style=\"background-color: #c0c0c0\">          </span><span style=\"background-color: #00ff00\">  </span><span style=\"background-color: #c0c0c0\">      </span>  [7, 7, 7, 7, 7, 9, 7, 7, 7]\n",
       "<span style=\"background-color: #c0c0c0\">        </span><span style=\"background-color: #00ff00\">  </span><span style=\"background-color: #c0c0c0\">        </span>  [7, 7, 7, 7, 9, 7, 7, 7, 7]\n",
       "\n",
       "</pre>\n"
      ],
      "text/plain": [
       "\u001b[47m  \u001b[0m\u001b[47m  \u001b[0m\u001b[47m  \u001b[0m\u001b[47m  \u001b[0m\u001b[47m  \u001b[0m\u001b[47m  \u001b[0m\u001b[47m  \u001b[0m\u001b[47m  \u001b[0m\u001b[102m  \u001b[0m  [7, 7, 7, 7, 7, 7, 7, 7, 9]\n",
       "\u001b[47m  \u001b[0m\u001b[47m  \u001b[0m\u001b[47m  \u001b[0m\u001b[47m  \u001b[0m\u001b[47m  \u001b[0m\u001b[47m  \u001b[0m\u001b[47m  \u001b[0m\u001b[102m  \u001b[0m\u001b[47m  \u001b[0m  [7, 7, 7, 7, 7, 7, 7, 9, 7]\n",
       "\u001b[47m  \u001b[0m\u001b[47m  \u001b[0m\u001b[47m  \u001b[0m\u001b[47m  \u001b[0m\u001b[47m  \u001b[0m\u001b[47m  \u001b[0m\u001b[102m  \u001b[0m\u001b[47m  \u001b[0m\u001b[47m  \u001b[0m  [7, 7, 7, 7, 7, 7, 9, 7, 7]\n",
       "\u001b[47m  \u001b[0m\u001b[47m  \u001b[0m\u001b[47m  \u001b[0m\u001b[47m  \u001b[0m\u001b[47m  \u001b[0m\u001b[102m  \u001b[0m\u001b[47m  \u001b[0m\u001b[47m  \u001b[0m\u001b[47m  \u001b[0m  [7, 7, 7, 7, 7, 9, 7, 7, 7]\n",
       "\u001b[47m  \u001b[0m\u001b[47m  \u001b[0m\u001b[47m  \u001b[0m\u001b[47m  \u001b[0m\u001b[102m  \u001b[0m\u001b[47m  \u001b[0m\u001b[47m  \u001b[0m\u001b[47m  \u001b[0m\u001b[47m  \u001b[0m  [7, 7, 7, 7, 9, 7, 7, 7, 7]\n",
       "\n"
      ]
     },
     "metadata": {},
     "output_type": "display_data"
    },
    {
     "name": "stdout",
     "output_type": "stream",
     "text": [
      "Example test output\n"
     ]
    },
    {
     "data": {
      "text/html": [
       "<pre style=\"white-space:pre;overflow-x:auto;line-height:normal;font-family:Menlo,'DejaVu Sans Mono',consolas,'Courier New',monospace\"><span style=\"background-color: #c0c0c0\">                </span><span style=\"background-color: #00ff00\">  </span>  [7, 7, 7, 7, 7, 7, 7, 7, 9]\n",
       "<span style=\"background-color: #c0c0c0\">              </span><span style=\"background-color: #00ff00\">  </span><span style=\"background-color: #c0c0c0\">  </span>  [7, 7, 7, 7, 7, 7, 7, 9, 7]\n",
       "<span style=\"background-color: #c0c0c0\">            </span><span style=\"background-color: #00ff00\">  </span><span style=\"background-color: #c0c0c0\">    </span>  [7, 7, 7, 7, 7, 7, 9, 7, 7]\n",
       "<span style=\"background-color: #c0c0c0\">          </span><span style=\"background-color: #00ff00\">  </span><span style=\"background-color: #c0c0c0\">      </span>  [7, 7, 7, 7, 7, 9, 7, 7, 7]\n",
       "<span style=\"background-color: #c0c0c0\">        </span><span style=\"background-color: #00ff00\">  </span><span style=\"background-color: #c0c0c0\">        </span>  [7, 7, 7, 7, 9, 7, 7, 7, 7]\n",
       "<span style=\"background-color: #c0c0c0\">      </span><span style=\"background-color: #00ff00\">  </span><span style=\"background-color: #c0c0c0\">          </span>  [7, 7, 7, 9, 7, 7, 7, 7, 7]\n",
       "<span style=\"background-color: #c0c0c0\">    </span><span style=\"background-color: #00ff00\">  </span><span style=\"background-color: #c0c0c0\">            </span>  [7, 7, 9, 7, 7, 7, 7, 7, 7]\n",
       "<span style=\"background-color: #c0c0c0\">  </span><span style=\"background-color: #00ff00\">  </span><span style=\"background-color: #c0c0c0\">              </span>  [7, 9, 7, 7, 7, 7, 7, 7, 7]\n",
       "<span style=\"background-color: #00ff00\">  </span><span style=\"background-color: #c0c0c0\">                </span>  [9, 7, 7, 7, 7, 7, 7, 7, 7]\n",
       "<span style=\"background-color: #c0c0c0\">                  </span>  [7, 7, 7, 7, 7, 7, 7, 7, 7]\n",
       "\n",
       "</pre>\n"
      ],
      "text/plain": [
       "\u001b[47m  \u001b[0m\u001b[47m  \u001b[0m\u001b[47m  \u001b[0m\u001b[47m  \u001b[0m\u001b[47m  \u001b[0m\u001b[47m  \u001b[0m\u001b[47m  \u001b[0m\u001b[47m  \u001b[0m\u001b[102m  \u001b[0m  [7, 7, 7, 7, 7, 7, 7, 7, 9]\n",
       "\u001b[47m  \u001b[0m\u001b[47m  \u001b[0m\u001b[47m  \u001b[0m\u001b[47m  \u001b[0m\u001b[47m  \u001b[0m\u001b[47m  \u001b[0m\u001b[47m  \u001b[0m\u001b[102m  \u001b[0m\u001b[47m  \u001b[0m  [7, 7, 7, 7, 7, 7, 7, 9, 7]\n",
       "\u001b[47m  \u001b[0m\u001b[47m  \u001b[0m\u001b[47m  \u001b[0m\u001b[47m  \u001b[0m\u001b[47m  \u001b[0m\u001b[47m  \u001b[0m\u001b[102m  \u001b[0m\u001b[47m  \u001b[0m\u001b[47m  \u001b[0m  [7, 7, 7, 7, 7, 7, 9, 7, 7]\n",
       "\u001b[47m  \u001b[0m\u001b[47m  \u001b[0m\u001b[47m  \u001b[0m\u001b[47m  \u001b[0m\u001b[47m  \u001b[0m\u001b[102m  \u001b[0m\u001b[47m  \u001b[0m\u001b[47m  \u001b[0m\u001b[47m  \u001b[0m  [7, 7, 7, 7, 7, 9, 7, 7, 7]\n",
       "\u001b[47m  \u001b[0m\u001b[47m  \u001b[0m\u001b[47m  \u001b[0m\u001b[47m  \u001b[0m\u001b[102m  \u001b[0m\u001b[47m  \u001b[0m\u001b[47m  \u001b[0m\u001b[47m  \u001b[0m\u001b[47m  \u001b[0m  [7, 7, 7, 7, 9, 7, 7, 7, 7]\n",
       "\u001b[47m  \u001b[0m\u001b[47m  \u001b[0m\u001b[47m  \u001b[0m\u001b[102m  \u001b[0m\u001b[47m  \u001b[0m\u001b[47m  \u001b[0m\u001b[47m  \u001b[0m\u001b[47m  \u001b[0m\u001b[47m  \u001b[0m  [7, 7, 7, 9, 7, 7, 7, 7, 7]\n",
       "\u001b[47m  \u001b[0m\u001b[47m  \u001b[0m\u001b[102m  \u001b[0m\u001b[47m  \u001b[0m\u001b[47m  \u001b[0m\u001b[47m  \u001b[0m\u001b[47m  \u001b[0m\u001b[47m  \u001b[0m\u001b[47m  \u001b[0m  [7, 7, 9, 7, 7, 7, 7, 7, 7]\n",
       "\u001b[47m  \u001b[0m\u001b[102m  \u001b[0m\u001b[47m  \u001b[0m\u001b[47m  \u001b[0m\u001b[47m  \u001b[0m\u001b[47m  \u001b[0m\u001b[47m  \u001b[0m\u001b[47m  \u001b[0m\u001b[47m  \u001b[0m  [7, 9, 7, 7, 7, 7, 7, 7, 7]\n",
       "\u001b[102m  \u001b[0m\u001b[47m  \u001b[0m\u001b[47m  \u001b[0m\u001b[47m  \u001b[0m\u001b[47m  \u001b[0m\u001b[47m  \u001b[0m\u001b[47m  \u001b[0m\u001b[47m  \u001b[0m\u001b[47m  \u001b[0m  [9, 7, 7, 7, 7, 7, 7, 7, 7]\n",
       "\u001b[47m  \u001b[0m\u001b[47m  \u001b[0m\u001b[47m  \u001b[0m\u001b[47m  \u001b[0m\u001b[47m  \u001b[0m\u001b[47m  \u001b[0m\u001b[47m  \u001b[0m\u001b[47m  \u001b[0m\u001b[47m  \u001b[0m  [7, 7, 7, 7, 7, 7, 7, 7, 7]\n",
       "\n"
      ]
     },
     "metadata": {},
     "output_type": "display_data"
    },
    {
     "name": "stdout",
     "output_type": "stream",
     "text": [
      "==================================================\n",
      "12\n",
      "==================================================\n",
      "Example input\n"
     ]
    },
    {
     "data": {
      "text/html": [
       "<pre style=\"white-space:pre;overflow-x:auto;line-height:normal;font-family:Menlo,'DejaVu Sans Mono',consolas,'Courier New',monospace\"><span style=\"background-color: #000000\">                </span>  [0, 0, 0, 0, 0, 0, 0, 0]\n",
       "<span style=\"background-color: #000000\">              </span><span style=\"background-color: #800000\">  </span>  [0, 0, 0, 0, 0, 0, 0, 1]\n",
       "<span style=\"background-color: #c0c0c0\">  </span><span style=\"background-color: #800000\">  </span><span style=\"background-color: #000000\">            </span>  [7, 1, 0, 0, 0, 0, 0, 0]\n",
       "\n",
       "</pre>\n"
      ],
      "text/plain": [
       "\u001b[40m  \u001b[0m\u001b[40m  \u001b[0m\u001b[40m  \u001b[0m\u001b[40m  \u001b[0m\u001b[40m  \u001b[0m\u001b[40m  \u001b[0m\u001b[40m  \u001b[0m\u001b[40m  \u001b[0m  [0, 0, 0, 0, 0, 0, 0, 0]\n",
       "\u001b[40m  \u001b[0m\u001b[40m  \u001b[0m\u001b[40m  \u001b[0m\u001b[40m  \u001b[0m\u001b[40m  \u001b[0m\u001b[40m  \u001b[0m\u001b[40m  \u001b[0m\u001b[41m  \u001b[0m  [0, 0, 0, 0, 0, 0, 0, 1]\n",
       "\u001b[47m  \u001b[0m\u001b[41m  \u001b[0m\u001b[40m  \u001b[0m\u001b[40m  \u001b[0m\u001b[40m  \u001b[0m\u001b[40m  \u001b[0m\u001b[40m  \u001b[0m\u001b[40m  \u001b[0m  [7, 1, 0, 0, 0, 0, 0, 0]\n",
       "\n"
      ]
     },
     "metadata": {},
     "output_type": "display_data"
    },
    {
     "name": "stdout",
     "output_type": "stream",
     "text": [
      "Example output\n"
     ]
    },
    {
     "data": {
      "text/html": [
       "<pre style=\"white-space:pre;overflow-x:auto;line-height:normal;font-family:Menlo,'DejaVu Sans Mono',consolas,'Courier New',monospace\"><span style=\"background-color: #008000\">    </span><span style=\"background-color: #000000\">  </span>  [2, 2, 0]\n",
       "<span style=\"background-color: #000000\">      </span>  [0, 0, 0]\n",
       "<span style=\"background-color: #000000\">      </span>  [0, 0, 0]\n",
       "\n",
       "</pre>\n"
      ],
      "text/plain": [
       "\u001b[42m  \u001b[0m\u001b[42m  \u001b[0m\u001b[40m  \u001b[0m  [2, 2, 0]\n",
       "\u001b[40m  \u001b[0m\u001b[40m  \u001b[0m\u001b[40m  \u001b[0m  [0, 0, 0]\n",
       "\u001b[40m  \u001b[0m\u001b[40m  \u001b[0m\u001b[40m  \u001b[0m  [0, 0, 0]\n",
       "\n"
      ]
     },
     "metadata": {},
     "output_type": "display_data"
    },
    {
     "name": "stdout",
     "output_type": "stream",
     "text": [
      "==================================================\n",
      "Example test input\n"
     ]
    },
    {
     "data": {
      "text/html": [
       "<pre style=\"white-space:pre;overflow-x:auto;line-height:normal;font-family:Menlo,'DejaVu Sans Mono',consolas,'Courier New',monospace\"><span style=\"background-color: #000080\">  </span><span style=\"background-color: #000000\">  </span><span style=\"background-color: #800000\">  </span><span style=\"background-color: #000080\">      </span>  [4, 0, 1, 4, 4, 4]\n",
       "<span style=\"background-color: #800000\">  </span><span style=\"background-color: #000080\">  </span><span style=\"background-color: #00ff00\">  </span><span style=\"background-color: #000080\">  </span><span style=\"background-color: #000000\">  </span><span style=\"background-color: #000080\">  </span>  [1, 4, 9, 4, 0, 4]\n",
       "<span style=\"background-color: #800000\">  </span><span style=\"background-color: #ff0000\">  </span><span style=\"background-color: #000080\">  </span><span style=\"background-color: #00ff00\">  </span><span style=\"background-color: #000080\">    </span>  [1, 8, 4, 9, 4, 4]\n",
       "<span style=\"background-color: #00ff00\">  </span><span style=\"background-color: #000080\">    </span><span style=\"background-color: #000000\">  </span><span style=\"background-color: #000080\">  </span><span style=\"background-color: #000000\">  </span>  [9, 4, 4, 0, 4, 0]\n",
       "<span style=\"background-color: #000000\">  </span><span style=\"background-color: #000080\">  </span><span style=\"background-color: #00ff00\">  </span><span style=\"background-color: #000080\">  </span><span style=\"background-color: #00ff00\">  </span><span style=\"background-color: #ff0000\">  </span>  [0, 4, 9, 4, 9, 8]\n",
       "<span style=\"background-color: #00ff00\">  </span><span style=\"background-color: #000080\">      </span><span style=\"background-color: #00ff00\">  </span><span style=\"background-color: #000080\">  </span>  [9, 4, 4, 4, 9, 4]\n",
       "\n",
       "</pre>\n"
      ],
      "text/plain": [
       "\u001b[44m  \u001b[0m\u001b[40m  \u001b[0m\u001b[41m  \u001b[0m\u001b[44m  \u001b[0m\u001b[44m  \u001b[0m\u001b[44m  \u001b[0m  [4, 0, 1, 4, 4, 4]\n",
       "\u001b[41m  \u001b[0m\u001b[44m  \u001b[0m\u001b[102m  \u001b[0m\u001b[44m  \u001b[0m\u001b[40m  \u001b[0m\u001b[44m  \u001b[0m  [1, 4, 9, 4, 0, 4]\n",
       "\u001b[41m  \u001b[0m\u001b[101m  \u001b[0m\u001b[44m  \u001b[0m\u001b[102m  \u001b[0m\u001b[44m  \u001b[0m\u001b[44m  \u001b[0m  [1, 8, 4, 9, 4, 4]\n",
       "\u001b[102m  \u001b[0m\u001b[44m  \u001b[0m\u001b[44m  \u001b[0m\u001b[40m  \u001b[0m\u001b[44m  \u001b[0m\u001b[40m  \u001b[0m  [9, 4, 4, 0, 4, 0]\n",
       "\u001b[40m  \u001b[0m\u001b[44m  \u001b[0m\u001b[102m  \u001b[0m\u001b[44m  \u001b[0m\u001b[102m  \u001b[0m\u001b[101m  \u001b[0m  [0, 4, 9, 4, 9, 8]\n",
       "\u001b[102m  \u001b[0m\u001b[44m  \u001b[0m\u001b[44m  \u001b[0m\u001b[44m  \u001b[0m\u001b[102m  \u001b[0m\u001b[44m  \u001b[0m  [9, 4, 4, 4, 9, 4]\n",
       "\n"
      ]
     },
     "metadata": {},
     "output_type": "display_data"
    },
    {
     "name": "stdout",
     "output_type": "stream",
     "text": [
      "Example test output\n"
     ]
    },
    {
     "data": {
      "text/html": [
       "<pre style=\"white-space:pre;overflow-x:auto;line-height:normal;font-family:Menlo,'DejaVu Sans Mono',consolas,'Courier New',monospace\"><span style=\"background-color: #008000\">      </span>  [2, 2, 2]\n",
       "<span style=\"background-color: #000080\">      </span>  [4, 4, 4]\n",
       "<span style=\"background-color: #000080\">      </span>  [4, 4, 4]\n",
       "\n",
       "</pre>\n"
      ],
      "text/plain": [
       "\u001b[42m  \u001b[0m\u001b[42m  \u001b[0m\u001b[42m  \u001b[0m  [2, 2, 2]\n",
       "\u001b[44m  \u001b[0m\u001b[44m  \u001b[0m\u001b[44m  \u001b[0m  [4, 4, 4]\n",
       "\u001b[44m  \u001b[0m\u001b[44m  \u001b[0m\u001b[44m  \u001b[0m  [4, 4, 4]\n",
       "\n"
      ]
     },
     "metadata": {},
     "output_type": "display_data"
    },
    {
     "name": "stdout",
     "output_type": "stream",
     "text": [
      "==================================================\n",
      "15\n",
      "==================================================\n",
      "Example input\n"
     ]
    },
    {
     "data": {
      "text/html": [
       "<pre style=\"white-space:pre;overflow-x:auto;line-height:normal;font-family:Menlo,'DejaVu Sans Mono',consolas,'Courier New',monospace\"><span style=\"background-color: #00ff00\">              </span>  [9, 9, 9, 9, 9, 9, 9]\n",
       "<span style=\"background-color: #00ff00\">              </span>  [9, 9, 9, 9, 9, 9, 9]\n",
       "<span style=\"background-color: #00ff00\">              </span>  [9, 9, 9, 9, 9, 9, 9]\n",
       "<span style=\"background-color: #00ff00\">  </span><span style=\"background-color: #000080\">          </span><span style=\"background-color: #00ff00\">  </span>  [9, 4, 4, 4, 4, 4, 9]\n",
       "<span style=\"background-color: #00ff00\">  </span><span style=\"background-color: #000080\">    </span><span style=\"background-color: #c0c0c0\">    </span><span style=\"background-color: #000080\">  </span><span style=\"background-color: #00ff00\">  </span>  [9, 4, 4, 7, 7, 4, 9]\n",
       "<span style=\"background-color: #00ff00\">  </span><span style=\"background-color: #000080\">          </span><span style=\"background-color: #00ff00\">  </span>  [9, 4, 4, 4, 4, 4, 9]\n",
       "<span style=\"background-color: #00ff00\">              </span>  [9, 9, 9, 9, 9, 9, 9]\n",
       "<span style=\"background-color: #00ff00\">              </span>  [9, 9, 9, 9, 9, 9, 9]\n",
       "\n",
       "</pre>\n"
      ],
      "text/plain": [
       "\u001b[102m  \u001b[0m\u001b[102m  \u001b[0m\u001b[102m  \u001b[0m\u001b[102m  \u001b[0m\u001b[102m  \u001b[0m\u001b[102m  \u001b[0m\u001b[102m  \u001b[0m  [9, 9, 9, 9, 9, 9, 9]\n",
       "\u001b[102m  \u001b[0m\u001b[102m  \u001b[0m\u001b[102m  \u001b[0m\u001b[102m  \u001b[0m\u001b[102m  \u001b[0m\u001b[102m  \u001b[0m\u001b[102m  \u001b[0m  [9, 9, 9, 9, 9, 9, 9]\n",
       "\u001b[102m  \u001b[0m\u001b[102m  \u001b[0m\u001b[102m  \u001b[0m\u001b[102m  \u001b[0m\u001b[102m  \u001b[0m\u001b[102m  \u001b[0m\u001b[102m  \u001b[0m  [9, 9, 9, 9, 9, 9, 9]\n",
       "\u001b[102m  \u001b[0m\u001b[44m  \u001b[0m\u001b[44m  \u001b[0m\u001b[44m  \u001b[0m\u001b[44m  \u001b[0m\u001b[44m  \u001b[0m\u001b[102m  \u001b[0m  [9, 4, 4, 4, 4, 4, 9]\n",
       "\u001b[102m  \u001b[0m\u001b[44m  \u001b[0m\u001b[44m  \u001b[0m\u001b[47m  \u001b[0m\u001b[47m  \u001b[0m\u001b[44m  \u001b[0m\u001b[102m  \u001b[0m  [9, 4, 4, 7, 7, 4, 9]\n",
       "\u001b[102m  \u001b[0m\u001b[44m  \u001b[0m\u001b[44m  \u001b[0m\u001b[44m  \u001b[0m\u001b[44m  \u001b[0m\u001b[44m  \u001b[0m\u001b[102m  \u001b[0m  [9, 4, 4, 4, 4, 4, 9]\n",
       "\u001b[102m  \u001b[0m\u001b[102m  \u001b[0m\u001b[102m  \u001b[0m\u001b[102m  \u001b[0m\u001b[102m  \u001b[0m\u001b[102m  \u001b[0m\u001b[102m  \u001b[0m  [9, 9, 9, 9, 9, 9, 9]\n",
       "\u001b[102m  \u001b[0m\u001b[102m  \u001b[0m\u001b[102m  \u001b[0m\u001b[102m  \u001b[0m\u001b[102m  \u001b[0m\u001b[102m  \u001b[0m\u001b[102m  \u001b[0m  [9, 9, 9, 9, 9, 9, 9]\n",
       "\n"
      ]
     },
     "metadata": {},
     "output_type": "display_data"
    },
    {
     "name": "stdout",
     "output_type": "stream",
     "text": [
      "Example output\n"
     ]
    },
    {
     "data": {
      "text/html": [
       "<pre style=\"white-space:pre;overflow-x:auto;line-height:normal;font-family:Menlo,'DejaVu Sans Mono',consolas,'Courier New',monospace\"><span style=\"background-color: #00ff00\">          </span>  [9, 9, 9, 9, 9]\n",
       "<span style=\"background-color: #00ff00\">  </span><span style=\"background-color: #000080\">      </span><span style=\"background-color: #00ff00\">  </span>  [9, 4, 4, 4, 9]\n",
       "<span style=\"background-color: #00ff00\">  </span><span style=\"background-color: #000080\">  </span><span style=\"background-color: #c0c0c0\">  </span><span style=\"background-color: #000080\">  </span><span style=\"background-color: #00ff00\">  </span>  [9, 4, 7, 4, 9]\n",
       "<span style=\"background-color: #00ff00\">  </span><span style=\"background-color: #000080\">      </span><span style=\"background-color: #00ff00\">  </span>  [9, 4, 4, 4, 9]\n",
       "<span style=\"background-color: #00ff00\">          </span>  [9, 9, 9, 9, 9]\n",
       "\n",
       "</pre>\n"
      ],
      "text/plain": [
       "\u001b[102m  \u001b[0m\u001b[102m  \u001b[0m\u001b[102m  \u001b[0m\u001b[102m  \u001b[0m\u001b[102m  \u001b[0m  [9, 9, 9, 9, 9]\n",
       "\u001b[102m  \u001b[0m\u001b[44m  \u001b[0m\u001b[44m  \u001b[0m\u001b[44m  \u001b[0m\u001b[102m  \u001b[0m  [9, 4, 4, 4, 9]\n",
       "\u001b[102m  \u001b[0m\u001b[44m  \u001b[0m\u001b[47m  \u001b[0m\u001b[44m  \u001b[0m\u001b[102m  \u001b[0m  [9, 4, 7, 4, 9]\n",
       "\u001b[102m  \u001b[0m\u001b[44m  \u001b[0m\u001b[44m  \u001b[0m\u001b[44m  \u001b[0m\u001b[102m  \u001b[0m  [9, 4, 4, 4, 9]\n",
       "\u001b[102m  \u001b[0m\u001b[102m  \u001b[0m\u001b[102m  \u001b[0m\u001b[102m  \u001b[0m\u001b[102m  \u001b[0m  [9, 9, 9, 9, 9]\n",
       "\n"
      ]
     },
     "metadata": {},
     "output_type": "display_data"
    },
    {
     "name": "stdout",
     "output_type": "stream",
     "text": [
      "==================================================\n",
      "Example test input\n"
     ]
    },
    {
     "data": {
      "text/html": [
       "<pre style=\"white-space:pre;overflow-x:auto;line-height:normal;font-family:Menlo,'DejaVu Sans Mono',consolas,'Courier New',monospace\"><span style=\"background-color: #800000\">          </span>  [1, 1, 1, 1, 1]\n",
       "<span style=\"background-color: #800000\">          </span>  [1, 1, 1, 1, 1]\n",
       "<span style=\"background-color: #800000\">          </span>  [1, 1, 1, 1, 1]\n",
       "<span style=\"background-color: #800000\">          </span>  [1, 1, 1, 1, 1]\n",
       "<span style=\"background-color: #800000\">          </span>  [1, 1, 1, 1, 1]\n",
       "<span style=\"background-color: #800000\">          </span>  [1, 1, 1, 1, 1]\n",
       "<span style=\"background-color: #800000\">          </span>  [1, 1, 1, 1, 1]\n",
       "<span style=\"background-color: #800000\">          </span>  [1, 1, 1, 1, 1]\n",
       "<span style=\"background-color: #800000\">  </span><span style=\"background-color: #c0c0c0\">      </span><span style=\"background-color: #800000\">  </span>  [1, 7, 7, 7, 1]\n",
       "<span style=\"background-color: #800000\">          </span>  [1, 1, 1, 1, 1]\n",
       "\n",
       "</pre>\n"
      ],
      "text/plain": [
       "\u001b[41m  \u001b[0m\u001b[41m  \u001b[0m\u001b[41m  \u001b[0m\u001b[41m  \u001b[0m\u001b[41m  \u001b[0m  [1, 1, 1, 1, 1]\n",
       "\u001b[41m  \u001b[0m\u001b[41m  \u001b[0m\u001b[41m  \u001b[0m\u001b[41m  \u001b[0m\u001b[41m  \u001b[0m  [1, 1, 1, 1, 1]\n",
       "\u001b[41m  \u001b[0m\u001b[41m  \u001b[0m\u001b[41m  \u001b[0m\u001b[41m  \u001b[0m\u001b[41m  \u001b[0m  [1, 1, 1, 1, 1]\n",
       "\u001b[41m  \u001b[0m\u001b[41m  \u001b[0m\u001b[41m  \u001b[0m\u001b[41m  \u001b[0m\u001b[41m  \u001b[0m  [1, 1, 1, 1, 1]\n",
       "\u001b[41m  \u001b[0m\u001b[41m  \u001b[0m\u001b[41m  \u001b[0m\u001b[41m  \u001b[0m\u001b[41m  \u001b[0m  [1, 1, 1, 1, 1]\n",
       "\u001b[41m  \u001b[0m\u001b[41m  \u001b[0m\u001b[41m  \u001b[0m\u001b[41m  \u001b[0m\u001b[41m  \u001b[0m  [1, 1, 1, 1, 1]\n",
       "\u001b[41m  \u001b[0m\u001b[41m  \u001b[0m\u001b[41m  \u001b[0m\u001b[41m  \u001b[0m\u001b[41m  \u001b[0m  [1, 1, 1, 1, 1]\n",
       "\u001b[41m  \u001b[0m\u001b[41m  \u001b[0m\u001b[41m  \u001b[0m\u001b[41m  \u001b[0m\u001b[41m  \u001b[0m  [1, 1, 1, 1, 1]\n",
       "\u001b[41m  \u001b[0m\u001b[47m  \u001b[0m\u001b[47m  \u001b[0m\u001b[47m  \u001b[0m\u001b[41m  \u001b[0m  [1, 7, 7, 7, 1]\n",
       "\u001b[41m  \u001b[0m\u001b[41m  \u001b[0m\u001b[41m  \u001b[0m\u001b[41m  \u001b[0m\u001b[41m  \u001b[0m  [1, 1, 1, 1, 1]\n",
       "\n"
      ]
     },
     "metadata": {},
     "output_type": "display_data"
    },
    {
     "name": "stdout",
     "output_type": "stream",
     "text": [
      "Example test output\n"
     ]
    },
    {
     "data": {
      "text/html": [
       "<pre style=\"white-space:pre;overflow-x:auto;line-height:normal;font-family:Menlo,'DejaVu Sans Mono',consolas,'Courier New',monospace\"><span style=\"background-color: #800000\">      </span>  [1, 1, 1]\n",
       "<span style=\"background-color: #800000\">  </span><span style=\"background-color: #c0c0c0\">  </span><span style=\"background-color: #800000\">  </span>  [1, 7, 1]\n",
       "<span style=\"background-color: #800000\">      </span>  [1, 1, 1]\n",
       "\n",
       "</pre>\n"
      ],
      "text/plain": [
       "\u001b[41m  \u001b[0m\u001b[41m  \u001b[0m\u001b[41m  \u001b[0m  [1, 1, 1]\n",
       "\u001b[41m  \u001b[0m\u001b[47m  \u001b[0m\u001b[41m  \u001b[0m  [1, 7, 1]\n",
       "\u001b[41m  \u001b[0m\u001b[41m  \u001b[0m\u001b[41m  \u001b[0m  [1, 1, 1]\n",
       "\n"
      ]
     },
     "metadata": {},
     "output_type": "display_data"
    },
    {
     "name": "stdout",
     "output_type": "stream",
     "text": [
      "==================================================\n",
      "19\n",
      "==================================================\n",
      "Example input\n"
     ]
    },
    {
     "data": {
      "text/html": [
       "<pre style=\"white-space:pre;overflow-x:auto;line-height:normal;font-family:Menlo,'DejaVu Sans Mono',consolas,'Courier New',monospace\"><span style=\"background-color: #800080\">    </span><span style=\"background-color: #00ff00\">  </span><span style=\"background-color: #808000\">      </span>  [5, 5, 9, 3, 3, 3]\n",
       "<span style=\"background-color: #00ff00\">      </span><span style=\"background-color: #808000\">    </span><span style=\"background-color: #800080\">  </span>  [9, 9, 9, 3, 3, 5]\n",
       "\n",
       "</pre>\n"
      ],
      "text/plain": [
       "\u001b[45m  \u001b[0m\u001b[45m  \u001b[0m\u001b[102m  \u001b[0m\u001b[43m  \u001b[0m\u001b[43m  \u001b[0m\u001b[43m  \u001b[0m  [5, 5, 9, 3, 3, 3]\n",
       "\u001b[102m  \u001b[0m\u001b[102m  \u001b[0m\u001b[102m  \u001b[0m\u001b[43m  \u001b[0m\u001b[43m  \u001b[0m\u001b[45m  \u001b[0m  [9, 9, 9, 3, 3, 5]\n",
       "\n"
      ]
     },
     "metadata": {},
     "output_type": "display_data"
    },
    {
     "name": "stdout",
     "output_type": "stream",
     "text": [
      "Example output\n"
     ]
    },
    {
     "data": {
      "text/html": [
       "<pre style=\"white-space:pre;overflow-x:auto;line-height:normal;font-family:Menlo,'DejaVu Sans Mono',consolas,'Courier New',monospace\"><span style=\"background-color: #800080\">      </span>  [5, 5, 5]\n",
       "<span style=\"background-color: #800080\">      </span>  [5, 5, 5]\n",
       "\n",
       "</pre>\n"
      ],
      "text/plain": [
       "\u001b[45m  \u001b[0m\u001b[45m  \u001b[0m\u001b[45m  \u001b[0m  [5, 5, 5]\n",
       "\u001b[45m  \u001b[0m\u001b[45m  \u001b[0m\u001b[45m  \u001b[0m  [5, 5, 5]\n",
       "\n"
      ]
     },
     "metadata": {},
     "output_type": "display_data"
    },
    {
     "name": "stdout",
     "output_type": "stream",
     "text": [
      "==================================================\n",
      "Example test input\n"
     ]
    },
    {
     "data": {
      "text/html": [
       "<pre style=\"white-space:pre;overflow-x:auto;line-height:normal;font-family:Menlo,'DejaVu Sans Mono',consolas,'Courier New',monospace\"><span style=\"background-color: #000080\">          </span>  [4, 4, 4, 4, 4]\n",
       "<span style=\"background-color: #000080\">        </span><span style=\"background-color: #ff0000\">  </span>  [4, 4, 4, 4, 8]\n",
       "<span style=\"background-color: #ff0000\">  </span><span style=\"background-color: #000080\">      </span><span style=\"background-color: #ff0000\">  </span>  [8, 4, 4, 4, 8]\n",
       "<span style=\"background-color: #ff0000\">  </span><span style=\"background-color: #000080\">  </span><span style=\"background-color: #ff0000\">  </span><span style=\"background-color: #000080\">    </span>  [8, 4, 8, 4, 4]\n",
       "<span style=\"background-color: #ff0000\">          </span>  [8, 8, 8, 8, 8]\n",
       "<span style=\"background-color: #ff0000\">  </span><span style=\"background-color: #00ff00\">  </span><span style=\"background-color: #ff0000\">  </span><span style=\"background-color: #00ff00\">  </span><span style=\"background-color: #ff0000\">  </span>  [8, 9, 8, 9, 8]\n",
       "<span style=\"background-color: #00ff00\">  </span><span style=\"background-color: #ff0000\">      </span><span style=\"background-color: #00ff00\">  </span>  [9, 8, 8, 8, 9]\n",
       "<span style=\"background-color: #ff0000\">    </span><span style=\"background-color: #00ff00\">  </span><span style=\"background-color: #ff0000\">    </span>  [8, 8, 9, 8, 8]\n",
       "\n",
       "</pre>\n"
      ],
      "text/plain": [
       "\u001b[44m  \u001b[0m\u001b[44m  \u001b[0m\u001b[44m  \u001b[0m\u001b[44m  \u001b[0m\u001b[44m  \u001b[0m  [4, 4, 4, 4, 4]\n",
       "\u001b[44m  \u001b[0m\u001b[44m  \u001b[0m\u001b[44m  \u001b[0m\u001b[44m  \u001b[0m\u001b[101m  \u001b[0m  [4, 4, 4, 4, 8]\n",
       "\u001b[101m  \u001b[0m\u001b[44m  \u001b[0m\u001b[44m  \u001b[0m\u001b[44m  \u001b[0m\u001b[101m  \u001b[0m  [8, 4, 4, 4, 8]\n",
       "\u001b[101m  \u001b[0m\u001b[44m  \u001b[0m\u001b[101m  \u001b[0m\u001b[44m  \u001b[0m\u001b[44m  \u001b[0m  [8, 4, 8, 4, 4]\n",
       "\u001b[101m  \u001b[0m\u001b[101m  \u001b[0m\u001b[101m  \u001b[0m\u001b[101m  \u001b[0m\u001b[101m  \u001b[0m  [8, 8, 8, 8, 8]\n",
       "\u001b[101m  \u001b[0m\u001b[102m  \u001b[0m\u001b[101m  \u001b[0m\u001b[102m  \u001b[0m\u001b[101m  \u001b[0m  [8, 9, 8, 9, 8]\n",
       "\u001b[102m  \u001b[0m\u001b[101m  \u001b[0m\u001b[101m  \u001b[0m\u001b[101m  \u001b[0m\u001b[102m  \u001b[0m  [9, 8, 8, 8, 9]\n",
       "\u001b[101m  \u001b[0m\u001b[101m  \u001b[0m\u001b[102m  \u001b[0m\u001b[101m  \u001b[0m\u001b[101m  \u001b[0m  [8, 8, 9, 8, 8]\n",
       "\n"
      ]
     },
     "metadata": {},
     "output_type": "display_data"
    },
    {
     "name": "stdout",
     "output_type": "stream",
     "text": [
      "Example test output\n"
     ]
    },
    {
     "data": {
      "text/html": [
       "<pre style=\"white-space:pre;overflow-x:auto;line-height:normal;font-family:Menlo,'DejaVu Sans Mono',consolas,'Courier New',monospace\"><span style=\"background-color: #ff0000\">          </span>  [8, 8, 8, 8, 8]\n",
       "<span style=\"background-color: #ff0000\">        </span><span style=\"background-color: #008000\">  </span>  [8, 8, 8, 8, 2]\n",
       "<span style=\"background-color: #ff0000\">          </span>  [8, 8, 8, 8, 8]\n",
       "<span style=\"background-color: #008000\">  </span><span style=\"background-color: #ff0000\">        </span>  [2, 8, 8, 8, 8]\n",
       "\n",
       "</pre>\n"
      ],
      "text/plain": [
       "\u001b[101m  \u001b[0m\u001b[101m  \u001b[0m\u001b[101m  \u001b[0m\u001b[101m  \u001b[0m\u001b[101m  \u001b[0m  [8, 8, 8, 8, 8]\n",
       "\u001b[101m  \u001b[0m\u001b[101m  \u001b[0m\u001b[101m  \u001b[0m\u001b[101m  \u001b[0m\u001b[42m  \u001b[0m  [8, 8, 8, 8, 2]\n",
       "\u001b[101m  \u001b[0m\u001b[101m  \u001b[0m\u001b[101m  \u001b[0m\u001b[101m  \u001b[0m\u001b[101m  \u001b[0m  [8, 8, 8, 8, 8]\n",
       "\u001b[42m  \u001b[0m\u001b[101m  \u001b[0m\u001b[101m  \u001b[0m\u001b[101m  \u001b[0m\u001b[101m  \u001b[0m  [2, 8, 8, 8, 8]\n",
       "\n"
      ]
     },
     "metadata": {},
     "output_type": "display_data"
    },
    {
     "name": "stdout",
     "output_type": "stream",
     "text": [
      "==================================================\n",
      "28\n",
      "==================================================\n",
      "Example input\n"
     ]
    },
    {
     "data": {
      "text/html": [
       "<pre style=\"white-space:pre;overflow-x:auto;line-height:normal;font-family:Menlo,'DejaVu Sans Mono',consolas,'Courier New',monospace\"><span style=\"background-color: #800000\">  </span><span style=\"background-color: #ff0000\">  </span>  [1, 8]\n",
       "<span style=\"background-color: #000080\">  </span><span style=\"background-color: #800000\">  </span>  [4, 1]\n",
       "<span style=\"background-color: #800000\">  </span><span style=\"background-color: #000080\">  </span>  [1, 4]\n",
       "<span style=\"background-color: #800000\">  </span><span style=\"background-color: #000080\">  </span>  [1, 4]\n",
       "<span style=\"background-color: #800000\">  </span><span style=\"background-color: #ff0000\">  </span>  [1, 8]\n",
       "\n",
       "</pre>\n"
      ],
      "text/plain": [
       "\u001b[41m  \u001b[0m\u001b[101m  \u001b[0m  [1, 8]\n",
       "\u001b[44m  \u001b[0m\u001b[41m  \u001b[0m  [4, 1]\n",
       "\u001b[41m  \u001b[0m\u001b[44m  \u001b[0m  [1, 4]\n",
       "\u001b[41m  \u001b[0m\u001b[44m  \u001b[0m  [1, 4]\n",
       "\u001b[41m  \u001b[0m\u001b[101m  \u001b[0m  [1, 8]\n",
       "\n"
      ]
     },
     "metadata": {},
     "output_type": "display_data"
    },
    {
     "name": "stdout",
     "output_type": "stream",
     "text": [
      "Example output\n"
     ]
    },
    {
     "data": {
      "text/html": [
       "<pre style=\"white-space:pre;overflow-x:auto;line-height:normal;font-family:Menlo,'DejaVu Sans Mono',consolas,'Courier New',monospace\"><span style=\"background-color: #800000\">  </span><span style=\"background-color: #ff0000\">    </span><span style=\"background-color: #800000\">  </span>  [1, 8, 8, 1]\n",
       "<span style=\"background-color: #000080\">  </span><span style=\"background-color: #800000\">    </span><span style=\"background-color: #000080\">  </span>  [4, 1, 1, 4]\n",
       "<span style=\"background-color: #800000\">  </span><span style=\"background-color: #000080\">    </span><span style=\"background-color: #800000\">  </span>  [1, 4, 4, 1]\n",
       "<span style=\"background-color: #800000\">  </span><span style=\"background-color: #000080\">    </span><span style=\"background-color: #800000\">  </span>  [1, 4, 4, 1]\n",
       "<span style=\"background-color: #800000\">  </span><span style=\"background-color: #ff0000\">    </span><span style=\"background-color: #800000\">  </span>  [1, 8, 8, 1]\n",
       "<span style=\"background-color: #800000\">  </span><span style=\"background-color: #ff0000\">    </span><span style=\"background-color: #800000\">  </span>  [1, 8, 8, 1]\n",
       "<span style=\"background-color: #800000\">  </span><span style=\"background-color: #000080\">    </span><span style=\"background-color: #800000\">  </span>  [1, 4, 4, 1]\n",
       "<span style=\"background-color: #800000\">  </span><span style=\"background-color: #000080\">    </span><span style=\"background-color: #800000\">  </span>  [1, 4, 4, 1]\n",
       "<span style=\"background-color: #000080\">  </span><span style=\"background-color: #800000\">    </span><span style=\"background-color: #000080\">  </span>  [4, 1, 1, 4]\n",
       "<span style=\"background-color: #800000\">  </span><span style=\"background-color: #ff0000\">    </span><span style=\"background-color: #800000\">  </span>  [1, 8, 8, 1]\n",
       "\n",
       "</pre>\n"
      ],
      "text/plain": [
       "\u001b[41m  \u001b[0m\u001b[101m  \u001b[0m\u001b[101m  \u001b[0m\u001b[41m  \u001b[0m  [1, 8, 8, 1]\n",
       "\u001b[44m  \u001b[0m\u001b[41m  \u001b[0m\u001b[41m  \u001b[0m\u001b[44m  \u001b[0m  [4, 1, 1, 4]\n",
       "\u001b[41m  \u001b[0m\u001b[44m  \u001b[0m\u001b[44m  \u001b[0m\u001b[41m  \u001b[0m  [1, 4, 4, 1]\n",
       "\u001b[41m  \u001b[0m\u001b[44m  \u001b[0m\u001b[44m  \u001b[0m\u001b[41m  \u001b[0m  [1, 4, 4, 1]\n",
       "\u001b[41m  \u001b[0m\u001b[101m  \u001b[0m\u001b[101m  \u001b[0m\u001b[41m  \u001b[0m  [1, 8, 8, 1]\n",
       "\u001b[41m  \u001b[0m\u001b[101m  \u001b[0m\u001b[101m  \u001b[0m\u001b[41m  \u001b[0m  [1, 8, 8, 1]\n",
       "\u001b[41m  \u001b[0m\u001b[44m  \u001b[0m\u001b[44m  \u001b[0m\u001b[41m  \u001b[0m  [1, 4, 4, 1]\n",
       "\u001b[41m  \u001b[0m\u001b[44m  \u001b[0m\u001b[44m  \u001b[0m\u001b[41m  \u001b[0m  [1, 4, 4, 1]\n",
       "\u001b[44m  \u001b[0m\u001b[41m  \u001b[0m\u001b[41m  \u001b[0m\u001b[44m  \u001b[0m  [4, 1, 1, 4]\n",
       "\u001b[41m  \u001b[0m\u001b[101m  \u001b[0m\u001b[101m  \u001b[0m\u001b[41m  \u001b[0m  [1, 8, 8, 1]\n",
       "\n"
      ]
     },
     "metadata": {},
     "output_type": "display_data"
    },
    {
     "name": "stdout",
     "output_type": "stream",
     "text": [
      "==================================================\n",
      "Example test input\n"
     ]
    },
    {
     "data": {
      "text/html": [
       "<pre style=\"white-space:pre;overflow-x:auto;line-height:normal;font-family:Menlo,'DejaVu Sans Mono',consolas,'Courier New',monospace\"><span style=\"background-color: #c0c0c0\">    </span>  [7, 7]\n",
       "<span style=\"background-color: #008080\">    </span>  [6, 6]\n",
       "<span style=\"background-color: #c0c0c0\">  </span><span style=\"background-color: #008080\">  </span>  [7, 6]\n",
       "<span style=\"background-color: #008000\">  </span><span style=\"background-color: #008080\">  </span>  [2, 6]\n",
       "<span style=\"background-color: #008000\">    </span>  [2, 2]\n",
       "\n",
       "</pre>\n"
      ],
      "text/plain": [
       "\u001b[47m  \u001b[0m\u001b[47m  \u001b[0m  [7, 7]\n",
       "\u001b[46m  \u001b[0m\u001b[46m  \u001b[0m  [6, 6]\n",
       "\u001b[47m  \u001b[0m\u001b[46m  \u001b[0m  [7, 6]\n",
       "\u001b[42m  \u001b[0m\u001b[46m  \u001b[0m  [2, 6]\n",
       "\u001b[42m  \u001b[0m\u001b[42m  \u001b[0m  [2, 2]\n",
       "\n"
      ]
     },
     "metadata": {},
     "output_type": "display_data"
    },
    {
     "name": "stdout",
     "output_type": "stream",
     "text": [
      "Example test output\n"
     ]
    },
    {
     "data": {
      "text/html": [
       "<pre style=\"white-space:pre;overflow-x:auto;line-height:normal;font-family:Menlo,'DejaVu Sans Mono',consolas,'Courier New',monospace\"><span style=\"background-color: #c0c0c0\">        </span>  [7, 7, 7, 7]\n",
       "<span style=\"background-color: #008080\">        </span>  [6, 6, 6, 6]\n",
       "<span style=\"background-color: #c0c0c0\">  </span><span style=\"background-color: #008080\">    </span><span style=\"background-color: #c0c0c0\">  </span>  [7, 6, 6, 7]\n",
       "<span style=\"background-color: #008000\">  </span><span style=\"background-color: #008080\">    </span><span style=\"background-color: #008000\">  </span>  [2, 6, 6, 2]\n",
       "<span style=\"background-color: #008000\">        </span>  [2, 2, 2, 2]\n",
       "<span style=\"background-color: #008000\">        </span>  [2, 2, 2, 2]\n",
       "<span style=\"background-color: #008000\">  </span><span style=\"background-color: #008080\">    </span><span style=\"background-color: #008000\">  </span>  [2, 6, 6, 2]\n",
       "<span style=\"background-color: #c0c0c0\">  </span><span style=\"background-color: #008080\">    </span><span style=\"background-color: #c0c0c0\">  </span>  [7, 6, 6, 7]\n",
       "<span style=\"background-color: #008080\">        </span>  [6, 6, 6, 6]\n",
       "<span style=\"background-color: #c0c0c0\">        </span>  [7, 7, 7, 7]\n",
       "\n",
       "</pre>\n"
      ],
      "text/plain": [
       "\u001b[47m  \u001b[0m\u001b[47m  \u001b[0m\u001b[47m  \u001b[0m\u001b[47m  \u001b[0m  [7, 7, 7, 7]\n",
       "\u001b[46m  \u001b[0m\u001b[46m  \u001b[0m\u001b[46m  \u001b[0m\u001b[46m  \u001b[0m  [6, 6, 6, 6]\n",
       "\u001b[47m  \u001b[0m\u001b[46m  \u001b[0m\u001b[46m  \u001b[0m\u001b[47m  \u001b[0m  [7, 6, 6, 7]\n",
       "\u001b[42m  \u001b[0m\u001b[46m  \u001b[0m\u001b[46m  \u001b[0m\u001b[42m  \u001b[0m  [2, 6, 6, 2]\n",
       "\u001b[42m  \u001b[0m\u001b[42m  \u001b[0m\u001b[42m  \u001b[0m\u001b[42m  \u001b[0m  [2, 2, 2, 2]\n",
       "\u001b[42m  \u001b[0m\u001b[42m  \u001b[0m\u001b[42m  \u001b[0m\u001b[42m  \u001b[0m  [2, 2, 2, 2]\n",
       "\u001b[42m  \u001b[0m\u001b[46m  \u001b[0m\u001b[46m  \u001b[0m\u001b[42m  \u001b[0m  [2, 6, 6, 2]\n",
       "\u001b[47m  \u001b[0m\u001b[46m  \u001b[0m\u001b[46m  \u001b[0m\u001b[47m  \u001b[0m  [7, 6, 6, 7]\n",
       "\u001b[46m  \u001b[0m\u001b[46m  \u001b[0m\u001b[46m  \u001b[0m\u001b[46m  \u001b[0m  [6, 6, 6, 6]\n",
       "\u001b[47m  \u001b[0m\u001b[47m  \u001b[0m\u001b[47m  \u001b[0m\u001b[47m  \u001b[0m  [7, 7, 7, 7]\n",
       "\n"
      ]
     },
     "metadata": {},
     "output_type": "display_data"
    },
    {
     "name": "stdout",
     "output_type": "stream",
     "text": [
      "==================================================\n",
      "35\n",
      "==================================================\n",
      "Example input\n"
     ]
    },
    {
     "data": {
      "text/html": [
       "<pre style=\"white-space:pre;overflow-x:auto;line-height:normal;font-family:Menlo,'DejaVu Sans Mono',consolas,'Courier New',monospace\"><span style=\"background-color: #000080\">        </span>  [4, 4, 4, 4]\n",
       "<span style=\"background-color: #000080\">        </span>  [4, 4, 4, 4]\n",
       "<span style=\"background-color: #000080\">        </span>  [4, 4, 4, 4]\n",
       "<span style=\"background-color: #000080\">  </span><span style=\"background-color: #c0c0c0\">  </span><span style=\"background-color: #000080\">    </span>  [4, 7, 4, 4]\n",
       "\n",
       "</pre>\n"
      ],
      "text/plain": [
       "\u001b[44m  \u001b[0m\u001b[44m  \u001b[0m\u001b[44m  \u001b[0m\u001b[44m  \u001b[0m  [4, 4, 4, 4]\n",
       "\u001b[44m  \u001b[0m\u001b[44m  \u001b[0m\u001b[44m  \u001b[0m\u001b[44m  \u001b[0m  [4, 4, 4, 4]\n",
       "\u001b[44m  \u001b[0m\u001b[44m  \u001b[0m\u001b[44m  \u001b[0m\u001b[44m  \u001b[0m  [4, 4, 4, 4]\n",
       "\u001b[44m  \u001b[0m\u001b[47m  \u001b[0m\u001b[44m  \u001b[0m\u001b[44m  \u001b[0m  [4, 7, 4, 4]\n",
       "\n"
      ]
     },
     "metadata": {},
     "output_type": "display_data"
    },
    {
     "name": "stdout",
     "output_type": "stream",
     "text": [
      "Example output\n"
     ]
    },
    {
     "data": {
      "text/html": [
       "<pre style=\"white-space:pre;overflow-x:auto;line-height:normal;font-family:Menlo,'DejaVu Sans Mono',consolas,'Courier New',monospace\"><span style=\"background-color: #000080\">                </span>  [4, 4, 4, 4, 4, 4, 4, 4]\n",
       "<span style=\"background-color: #000080\">                </span>  [4, 4, 4, 4, 4, 4, 4, 4]\n",
       "<span style=\"background-color: #000080\">                </span>  [4, 4, 4, 4, 4, 4, 4, 4]\n",
       "<span style=\"background-color: #000080\">                </span>  [4, 4, 4, 4, 4, 4, 4, 4]\n",
       "<span style=\"background-color: #c0c0c0\">        </span><span style=\"background-color: #000080\">        </span>  [7, 7, 7, 7, 4, 4, 4, 4]\n",
       "<span style=\"background-color: #c0c0c0\">        </span><span style=\"background-color: #000080\">        </span>  [7, 7, 7, 7, 4, 4, 4, 4]\n",
       "<span style=\"background-color: #c0c0c0\">        </span><span style=\"background-color: #000080\">        </span>  [7, 7, 7, 7, 4, 4, 4, 4]\n",
       "<span style=\"background-color: #c0c0c0\">        </span><span style=\"background-color: #000080\">        </span>  [7, 7, 7, 7, 4, 4, 4, 4]\n",
       "\n",
       "</pre>\n"
      ],
      "text/plain": [
       "\u001b[44m  \u001b[0m\u001b[44m  \u001b[0m\u001b[44m  \u001b[0m\u001b[44m  \u001b[0m\u001b[44m  \u001b[0m\u001b[44m  \u001b[0m\u001b[44m  \u001b[0m\u001b[44m  \u001b[0m  [4, 4, 4, 4, 4, 4, 4, 4]\n",
       "\u001b[44m  \u001b[0m\u001b[44m  \u001b[0m\u001b[44m  \u001b[0m\u001b[44m  \u001b[0m\u001b[44m  \u001b[0m\u001b[44m  \u001b[0m\u001b[44m  \u001b[0m\u001b[44m  \u001b[0m  [4, 4, 4, 4, 4, 4, 4, 4]\n",
       "\u001b[44m  \u001b[0m\u001b[44m  \u001b[0m\u001b[44m  \u001b[0m\u001b[44m  \u001b[0m\u001b[44m  \u001b[0m\u001b[44m  \u001b[0m\u001b[44m  \u001b[0m\u001b[44m  \u001b[0m  [4, 4, 4, 4, 4, 4, 4, 4]\n",
       "\u001b[44m  \u001b[0m\u001b[44m  \u001b[0m\u001b[44m  \u001b[0m\u001b[44m  \u001b[0m\u001b[44m  \u001b[0m\u001b[44m  \u001b[0m\u001b[44m  \u001b[0m\u001b[44m  \u001b[0m  [4, 4, 4, 4, 4, 4, 4, 4]\n",
       "\u001b[47m  \u001b[0m\u001b[47m  \u001b[0m\u001b[47m  \u001b[0m\u001b[47m  \u001b[0m\u001b[44m  \u001b[0m\u001b[44m  \u001b[0m\u001b[44m  \u001b[0m\u001b[44m  \u001b[0m  [7, 7, 7, 7, 4, 4, 4, 4]\n",
       "\u001b[47m  \u001b[0m\u001b[47m  \u001b[0m\u001b[47m  \u001b[0m\u001b[47m  \u001b[0m\u001b[44m  \u001b[0m\u001b[44m  \u001b[0m\u001b[44m  \u001b[0m\u001b[44m  \u001b[0m  [7, 7, 7, 7, 4, 4, 4, 4]\n",
       "\u001b[47m  \u001b[0m\u001b[47m  \u001b[0m\u001b[47m  \u001b[0m\u001b[47m  \u001b[0m\u001b[44m  \u001b[0m\u001b[44m  \u001b[0m\u001b[44m  \u001b[0m\u001b[44m  \u001b[0m  [7, 7, 7, 7, 4, 4, 4, 4]\n",
       "\u001b[47m  \u001b[0m\u001b[47m  \u001b[0m\u001b[47m  \u001b[0m\u001b[47m  \u001b[0m\u001b[44m  \u001b[0m\u001b[44m  \u001b[0m\u001b[44m  \u001b[0m\u001b[44m  \u001b[0m  [7, 7, 7, 7, 4, 4, 4, 4]\n",
       "\n"
      ]
     },
     "metadata": {},
     "output_type": "display_data"
    },
    {
     "name": "stdout",
     "output_type": "stream",
     "text": [
      "==================================================\n",
      "Example test input\n"
     ]
    },
    {
     "data": {
      "text/html": [
       "<pre style=\"white-space:pre;overflow-x:auto;line-height:normal;font-family:Menlo,'DejaVu Sans Mono',consolas,'Courier New',monospace\"><span style=\"background-color: #000080\">        </span>  [4, 4, 4, 4]\n",
       "<span style=\"background-color: #000080\">        </span>  [4, 4, 4, 4]\n",
       "<span style=\"background-color: #000080\">        </span>  [4, 4, 4, 4]\n",
       "<span style=\"background-color: #000080\">        </span>  [4, 4, 4, 4]\n",
       "\n",
       "</pre>\n"
      ],
      "text/plain": [
       "\u001b[44m  \u001b[0m\u001b[44m  \u001b[0m\u001b[44m  \u001b[0m\u001b[44m  \u001b[0m  [4, 4, 4, 4]\n",
       "\u001b[44m  \u001b[0m\u001b[44m  \u001b[0m\u001b[44m  \u001b[0m\u001b[44m  \u001b[0m  [4, 4, 4, 4]\n",
       "\u001b[44m  \u001b[0m\u001b[44m  \u001b[0m\u001b[44m  \u001b[0m\u001b[44m  \u001b[0m  [4, 4, 4, 4]\n",
       "\u001b[44m  \u001b[0m\u001b[44m  \u001b[0m\u001b[44m  \u001b[0m\u001b[44m  \u001b[0m  [4, 4, 4, 4]\n",
       "\n"
      ]
     },
     "metadata": {},
     "output_type": "display_data"
    },
    {
     "name": "stdout",
     "output_type": "stream",
     "text": [
      "Example test output\n"
     ]
    },
    {
     "data": {
      "text/html": [
       "<pre style=\"white-space:pre;overflow-x:auto;line-height:normal;font-family:Menlo,'DejaVu Sans Mono',consolas,'Courier New',monospace\"><span style=\"background-color: #000080\">                </span>  [4, 4, 4, 4, 4, 4, 4, 4]\n",
       "<span style=\"background-color: #000080\">                </span>  [4, 4, 4, 4, 4, 4, 4, 4]\n",
       "<span style=\"background-color: #000080\">                </span>  [4, 4, 4, 4, 4, 4, 4, 4]\n",
       "<span style=\"background-color: #000080\">                </span>  [4, 4, 4, 4, 4, 4, 4, 4]\n",
       "<span style=\"background-color: #000080\">                </span>  [4, 4, 4, 4, 4, 4, 4, 4]\n",
       "<span style=\"background-color: #000080\">                </span>  [4, 4, 4, 4, 4, 4, 4, 4]\n",
       "<span style=\"background-color: #000080\">                </span>  [4, 4, 4, 4, 4, 4, 4, 4]\n",
       "<span style=\"background-color: #000080\">                </span>  [4, 4, 4, 4, 4, 4, 4, 4]\n",
       "\n",
       "</pre>\n"
      ],
      "text/plain": [
       "\u001b[44m  \u001b[0m\u001b[44m  \u001b[0m\u001b[44m  \u001b[0m\u001b[44m  \u001b[0m\u001b[44m  \u001b[0m\u001b[44m  \u001b[0m\u001b[44m  \u001b[0m\u001b[44m  \u001b[0m  [4, 4, 4, 4, 4, 4, 4, 4]\n",
       "\u001b[44m  \u001b[0m\u001b[44m  \u001b[0m\u001b[44m  \u001b[0m\u001b[44m  \u001b[0m\u001b[44m  \u001b[0m\u001b[44m  \u001b[0m\u001b[44m  \u001b[0m\u001b[44m  \u001b[0m  [4, 4, 4, 4, 4, 4, 4, 4]\n",
       "\u001b[44m  \u001b[0m\u001b[44m  \u001b[0m\u001b[44m  \u001b[0m\u001b[44m  \u001b[0m\u001b[44m  \u001b[0m\u001b[44m  \u001b[0m\u001b[44m  \u001b[0m\u001b[44m  \u001b[0m  [4, 4, 4, 4, 4, 4, 4, 4]\n",
       "\u001b[44m  \u001b[0m\u001b[44m  \u001b[0m\u001b[44m  \u001b[0m\u001b[44m  \u001b[0m\u001b[44m  \u001b[0m\u001b[44m  \u001b[0m\u001b[44m  \u001b[0m\u001b[44m  \u001b[0m  [4, 4, 4, 4, 4, 4, 4, 4]\n",
       "\u001b[44m  \u001b[0m\u001b[44m  \u001b[0m\u001b[44m  \u001b[0m\u001b[44m  \u001b[0m\u001b[44m  \u001b[0m\u001b[44m  \u001b[0m\u001b[44m  \u001b[0m\u001b[44m  \u001b[0m  [4, 4, 4, 4, 4, 4, 4, 4]\n",
       "\u001b[44m  \u001b[0m\u001b[44m  \u001b[0m\u001b[44m  \u001b[0m\u001b[44m  \u001b[0m\u001b[44m  \u001b[0m\u001b[44m  \u001b[0m\u001b[44m  \u001b[0m\u001b[44m  \u001b[0m  [4, 4, 4, 4, 4, 4, 4, 4]\n",
       "\u001b[44m  \u001b[0m\u001b[44m  \u001b[0m\u001b[44m  \u001b[0m\u001b[44m  \u001b[0m\u001b[44m  \u001b[0m\u001b[44m  \u001b[0m\u001b[44m  \u001b[0m\u001b[44m  \u001b[0m  [4, 4, 4, 4, 4, 4, 4, 4]\n",
       "\u001b[44m  \u001b[0m\u001b[44m  \u001b[0m\u001b[44m  \u001b[0m\u001b[44m  \u001b[0m\u001b[44m  \u001b[0m\u001b[44m  \u001b[0m\u001b[44m  \u001b[0m\u001b[44m  \u001b[0m  [4, 4, 4, 4, 4, 4, 4, 4]\n",
       "\n"
      ]
     },
     "metadata": {},
     "output_type": "display_data"
    },
    {
     "name": "stdout",
     "output_type": "stream",
     "text": [
      "==================================================\n",
      "36\n",
      "==================================================\n",
      "Example input\n"
     ]
    },
    {
     "data": {
      "text/html": [
       "<pre style=\"white-space:pre;overflow-x:auto;line-height:normal;font-family:Menlo,'DejaVu Sans Mono',consolas,'Courier New',monospace\"><span style=\"background-color: #00ff00\">    </span>  [9, 9]\n",
       "<span style=\"background-color: #00ff00\">    </span>  [9, 9]\n",
       "<span style=\"background-color: #00ff00\">  </span><span style=\"background-color: #000080\">  </span>  [9, 4]\n",
       "<span style=\"background-color: #00ff00\">    </span>  [9, 9]\n",
       "\n",
       "</pre>\n"
      ],
      "text/plain": [
       "\u001b[102m  \u001b[0m\u001b[102m  \u001b[0m  [9, 9]\n",
       "\u001b[102m  \u001b[0m\u001b[102m  \u001b[0m  [9, 9]\n",
       "\u001b[102m  \u001b[0m\u001b[44m  \u001b[0m  [9, 4]\n",
       "\u001b[102m  \u001b[0m\u001b[102m  \u001b[0m  [9, 9]\n",
       "\n"
      ]
     },
     "metadata": {},
     "output_type": "display_data"
    },
    {
     "name": "stdout",
     "output_type": "stream",
     "text": [
      "Example output\n"
     ]
    },
    {
     "data": {
      "text/html": [
       "<pre style=\"white-space:pre;overflow-x:auto;line-height:normal;font-family:Menlo,'DejaVu Sans Mono',consolas,'Courier New',monospace\"><span style=\"background-color: #00ff00\">  </span><span style=\"background-color: #ff0000\">  </span><span style=\"background-color: #00ff00\">  </span><span style=\"background-color: #ff0000\">  </span>  [9, 8, 9, 8]\n",
       "<span style=\"background-color: #00ff00\">  </span><span style=\"background-color: #ff0000\">  </span><span style=\"background-color: #00ff00\">  </span><span style=\"background-color: #ff0000\">  </span>  [9, 8, 9, 8]\n",
       "<span style=\"background-color: #00ff00\">  </span><span style=\"background-color: #000080\">  </span><span style=\"background-color: #00ff00\">  </span><span style=\"background-color: #000080\">  </span>  [9, 4, 9, 4]\n",
       "<span style=\"background-color: #00ff00\">  </span><span style=\"background-color: #ff0000\">  </span><span style=\"background-color: #00ff00\">  </span><span style=\"background-color: #ff0000\">  </span>  [9, 8, 9, 8]\n",
       "<span style=\"background-color: #00ff00\">  </span><span style=\"background-color: #ff0000\">  </span><span style=\"background-color: #00ff00\">  </span><span style=\"background-color: #ff0000\">  </span>  [9, 8, 9, 8]\n",
       "<span style=\"background-color: #00ff00\">  </span><span style=\"background-color: #ff0000\">  </span><span style=\"background-color: #00ff00\">  </span><span style=\"background-color: #ff0000\">  </span>  [9, 8, 9, 8]\n",
       "<span style=\"background-color: #00ff00\">  </span><span style=\"background-color: #000080\">  </span><span style=\"background-color: #00ff00\">  </span><span style=\"background-color: #000080\">  </span>  [9, 4, 9, 4]\n",
       "<span style=\"background-color: #00ff00\">  </span><span style=\"background-color: #ff0000\">  </span><span style=\"background-color: #00ff00\">  </span><span style=\"background-color: #ff0000\">  </span>  [9, 8, 9, 8]\n",
       "\n",
       "</pre>\n"
      ],
      "text/plain": [
       "\u001b[102m  \u001b[0m\u001b[101m  \u001b[0m\u001b[102m  \u001b[0m\u001b[101m  \u001b[0m  [9, 8, 9, 8]\n",
       "\u001b[102m  \u001b[0m\u001b[101m  \u001b[0m\u001b[102m  \u001b[0m\u001b[101m  \u001b[0m  [9, 8, 9, 8]\n",
       "\u001b[102m  \u001b[0m\u001b[44m  \u001b[0m\u001b[102m  \u001b[0m\u001b[44m  \u001b[0m  [9, 4, 9, 4]\n",
       "\u001b[102m  \u001b[0m\u001b[101m  \u001b[0m\u001b[102m  \u001b[0m\u001b[101m  \u001b[0m  [9, 8, 9, 8]\n",
       "\u001b[102m  \u001b[0m\u001b[101m  \u001b[0m\u001b[102m  \u001b[0m\u001b[101m  \u001b[0m  [9, 8, 9, 8]\n",
       "\u001b[102m  \u001b[0m\u001b[101m  \u001b[0m\u001b[102m  \u001b[0m\u001b[101m  \u001b[0m  [9, 8, 9, 8]\n",
       "\u001b[102m  \u001b[0m\u001b[44m  \u001b[0m\u001b[102m  \u001b[0m\u001b[44m  \u001b[0m  [9, 4, 9, 4]\n",
       "\u001b[102m  \u001b[0m\u001b[101m  \u001b[0m\u001b[102m  \u001b[0m\u001b[101m  \u001b[0m  [9, 8, 9, 8]\n",
       "\n"
      ]
     },
     "metadata": {},
     "output_type": "display_data"
    },
    {
     "name": "stdout",
     "output_type": "stream",
     "text": [
      "==================================================\n",
      "Example test input\n"
     ]
    },
    {
     "data": {
      "text/html": [
       "<pre style=\"white-space:pre;overflow-x:auto;line-height:normal;font-family:Menlo,'DejaVu Sans Mono',consolas,'Courier New',monospace\"><span style=\"background-color: #00ff00\">        </span>  [9, 9, 9, 9]\n",
       "<span style=\"background-color: #800080\">  </span><span style=\"background-color: #00ff00\">      </span>  [5, 9, 9, 9]\n",
       "\n",
       "</pre>\n"
      ],
      "text/plain": [
       "\u001b[102m  \u001b[0m\u001b[102m  \u001b[0m\u001b[102m  \u001b[0m\u001b[102m  \u001b[0m  [9, 9, 9, 9]\n",
       "\u001b[45m  \u001b[0m\u001b[102m  \u001b[0m\u001b[102m  \u001b[0m\u001b[102m  \u001b[0m  [5, 9, 9, 9]\n",
       "\n"
      ]
     },
     "metadata": {},
     "output_type": "display_data"
    },
    {
     "name": "stdout",
     "output_type": "stream",
     "text": [
      "Example test output\n"
     ]
    },
    {
     "data": {
      "text/html": [
       "<pre style=\"white-space:pre;overflow-x:auto;line-height:normal;font-family:Menlo,'DejaVu Sans Mono',consolas,'Courier New',monospace\"><span style=\"background-color: #ff0000\">  </span><span style=\"background-color: #00ff00\">      </span><span style=\"background-color: #ff0000\">  </span><span style=\"background-color: #00ff00\">      </span>  [8, 9, 9, 9, 8, 9, 9, 9]\n",
       "<span style=\"background-color: #800080\">  </span><span style=\"background-color: #00ff00\">      </span><span style=\"background-color: #800080\">  </span><span style=\"background-color: #00ff00\">      </span>  [5, 9, 9, 9, 5, 9, 9, 9]\n",
       "<span style=\"background-color: #ff0000\">  </span><span style=\"background-color: #00ff00\">      </span><span style=\"background-color: #ff0000\">  </span><span style=\"background-color: #00ff00\">      </span>  [8, 9, 9, 9, 8, 9, 9, 9]\n",
       "<span style=\"background-color: #800080\">  </span><span style=\"background-color: #00ff00\">      </span><span style=\"background-color: #800080\">  </span><span style=\"background-color: #00ff00\">      </span>  [5, 9, 9, 9, 5, 9, 9, 9]\n",
       "\n",
       "</pre>\n"
      ],
      "text/plain": [
       "\u001b[101m  \u001b[0m\u001b[102m  \u001b[0m\u001b[102m  \u001b[0m\u001b[102m  \u001b[0m\u001b[101m  \u001b[0m\u001b[102m  \u001b[0m\u001b[102m  \u001b[0m\u001b[102m  \u001b[0m  [8, 9, 9, 9, 8, 9, 9, 9]\n",
       "\u001b[45m  \u001b[0m\u001b[102m  \u001b[0m\u001b[102m  \u001b[0m\u001b[102m  \u001b[0m\u001b[45m  \u001b[0m\u001b[102m  \u001b[0m\u001b[102m  \u001b[0m\u001b[102m  \u001b[0m  [5, 9, 9, 9, 5, 9, 9, 9]\n",
       "\u001b[101m  \u001b[0m\u001b[102m  \u001b[0m\u001b[102m  \u001b[0m\u001b[102m  \u001b[0m\u001b[101m  \u001b[0m\u001b[102m  \u001b[0m\u001b[102m  \u001b[0m\u001b[102m  \u001b[0m  [8, 9, 9, 9, 8, 9, 9, 9]\n",
       "\u001b[45m  \u001b[0m\u001b[102m  \u001b[0m\u001b[102m  \u001b[0m\u001b[102m  \u001b[0m\u001b[45m  \u001b[0m\u001b[102m  \u001b[0m\u001b[102m  \u001b[0m\u001b[102m  \u001b[0m  [5, 9, 9, 9, 5, 9, 9, 9]\n",
       "\n"
      ]
     },
     "metadata": {},
     "output_type": "display_data"
    },
    {
     "name": "stdout",
     "output_type": "stream",
     "text": [
      "==================================================\n",
      "37\n",
      "==================================================\n",
      "Example input\n"
     ]
    },
    {
     "data": {
      "text/html": [
       "<pre style=\"white-space:pre;overflow-x:auto;line-height:normal;font-family:Menlo,'DejaVu Sans Mono',consolas,'Courier New',monospace\"><span style=\"background-color: #000080\">        </span><span style=\"background-color: #008000\">  </span><span style=\"background-color: #808000\">        </span>  [4, 4, 4, 4, 2, 3, 3, 3, 3]\n",
       "<span style=\"background-color: #000080\">  </span><span style=\"background-color: #008000\">    </span><span style=\"background-color: #000080\">  </span><span style=\"background-color: #008000\">  </span><span style=\"background-color: #808000\">  </span><span style=\"background-color: #008000\">    </span><span style=\"background-color: #808000\">  </span>  [4, 2, 2, 4, 2, 3, 2, 2, 3]\n",
       "<span style=\"background-color: #000080\">  </span><span style=\"background-color: #008000\">    </span><span style=\"background-color: #000080\">  </span><span style=\"background-color: #008000\">  </span><span style=\"background-color: #808000\">  </span><span style=\"background-color: #008000\">    </span><span style=\"background-color: #808000\">  </span>  [4, 2, 2, 4, 2, 3, 2, 2, 3]\n",
       "<span style=\"background-color: #000080\">        </span><span style=\"background-color: #008000\">  </span><span style=\"background-color: #808000\">        </span>  [4, 4, 4, 4, 2, 3, 3, 3, 3]\n",
       "\n",
       "</pre>\n"
      ],
      "text/plain": [
       "\u001b[44m  \u001b[0m\u001b[44m  \u001b[0m\u001b[44m  \u001b[0m\u001b[44m  \u001b[0m\u001b[42m  \u001b[0m\u001b[43m  \u001b[0m\u001b[43m  \u001b[0m\u001b[43m  \u001b[0m\u001b[43m  \u001b[0m  [4, 4, 4, 4, 2, 3, 3, 3, 3]\n",
       "\u001b[44m  \u001b[0m\u001b[42m  \u001b[0m\u001b[42m  \u001b[0m\u001b[44m  \u001b[0m\u001b[42m  \u001b[0m\u001b[43m  \u001b[0m\u001b[42m  \u001b[0m\u001b[42m  \u001b[0m\u001b[43m  \u001b[0m  [4, 2, 2, 4, 2, 3, 2, 2, 3]\n",
       "\u001b[44m  \u001b[0m\u001b[42m  \u001b[0m\u001b[42m  \u001b[0m\u001b[44m  \u001b[0m\u001b[42m  \u001b[0m\u001b[43m  \u001b[0m\u001b[42m  \u001b[0m\u001b[42m  \u001b[0m\u001b[43m  \u001b[0m  [4, 2, 2, 4, 2, 3, 2, 2, 3]\n",
       "\u001b[44m  \u001b[0m\u001b[44m  \u001b[0m\u001b[44m  \u001b[0m\u001b[44m  \u001b[0m\u001b[42m  \u001b[0m\u001b[43m  \u001b[0m\u001b[43m  \u001b[0m\u001b[43m  \u001b[0m\u001b[43m  \u001b[0m  [4, 4, 4, 4, 2, 3, 3, 3, 3]\n",
       "\n"
      ]
     },
     "metadata": {},
     "output_type": "display_data"
    },
    {
     "name": "stdout",
     "output_type": "stream",
     "text": [
      "Example output\n"
     ]
    },
    {
     "data": {
      "text/html": [
       "<pre style=\"white-space:pre;overflow-x:auto;line-height:normal;font-family:Menlo,'DejaVu Sans Mono',consolas,'Courier New',monospace\"><span style=\"background-color: #ff0000\">    </span>  [8, 8]\n",
       "<span style=\"background-color: #ff0000\">    </span>  [8, 8]\n",
       "\n",
       "</pre>\n"
      ],
      "text/plain": [
       "\u001b[101m  \u001b[0m\u001b[101m  \u001b[0m  [8, 8]\n",
       "\u001b[101m  \u001b[0m\u001b[101m  \u001b[0m  [8, 8]\n",
       "\n"
      ]
     },
     "metadata": {},
     "output_type": "display_data"
    },
    {
     "name": "stdout",
     "output_type": "stream",
     "text": [
      "==================================================\n",
      "Example test input\n"
     ]
    },
    {
     "data": {
      "text/html": [
       "<pre style=\"white-space:pre;overflow-x:auto;line-height:normal;font-family:Menlo,'DejaVu Sans Mono',consolas,'Courier New',monospace\"><span style=\"background-color: #800080\">        </span><span style=\"background-color: #ff0000\">  </span><span style=\"background-color: #c0c0c0\">        </span>  [5, 5, 5, 5, 8, 7, 7, 7, 7]\n",
       "<span style=\"background-color: #800080\">        </span><span style=\"background-color: #ff0000\">  </span><span style=\"background-color: #c0c0c0\">        </span>  [5, 5, 5, 5, 8, 7, 7, 7, 7]\n",
       "<span style=\"background-color: #800080\">        </span><span style=\"background-color: #ff0000\">  </span><span style=\"background-color: #c0c0c0\">  </span><span style=\"background-color: #ff0000\">    </span><span style=\"background-color: #c0c0c0\">  </span>  [5, 5, 5, 5, 8, 7, 8, 8, 7]\n",
       "<span style=\"background-color: #800080\">        </span><span style=\"background-color: #ff0000\">  </span><span style=\"background-color: #c0c0c0\">  </span><span style=\"background-color: #ff0000\">    </span><span style=\"background-color: #c0c0c0\">  </span>  [5, 5, 5, 5, 8, 7, 8, 8, 7]\n",
       "\n",
       "</pre>\n"
      ],
      "text/plain": [
       "\u001b[45m  \u001b[0m\u001b[45m  \u001b[0m\u001b[45m  \u001b[0m\u001b[45m  \u001b[0m\u001b[101m  \u001b[0m\u001b[47m  \u001b[0m\u001b[47m  \u001b[0m\u001b[47m  \u001b[0m\u001b[47m  \u001b[0m  [5, 5, 5, 5, 8, 7, 7, 7, 7]\n",
       "\u001b[45m  \u001b[0m\u001b[45m  \u001b[0m\u001b[45m  \u001b[0m\u001b[45m  \u001b[0m\u001b[101m  \u001b[0m\u001b[47m  \u001b[0m\u001b[47m  \u001b[0m\u001b[47m  \u001b[0m\u001b[47m  \u001b[0m  [5, 5, 5, 5, 8, 7, 7, 7, 7]\n",
       "\u001b[45m  \u001b[0m\u001b[45m  \u001b[0m\u001b[45m  \u001b[0m\u001b[45m  \u001b[0m\u001b[101m  \u001b[0m\u001b[47m  \u001b[0m\u001b[101m  \u001b[0m\u001b[101m  \u001b[0m\u001b[47m  \u001b[0m  [5, 5, 5, 5, 8, 7, 8, 8, 7]\n",
       "\u001b[45m  \u001b[0m\u001b[45m  \u001b[0m\u001b[45m  \u001b[0m\u001b[45m  \u001b[0m\u001b[101m  \u001b[0m\u001b[47m  \u001b[0m\u001b[101m  \u001b[0m\u001b[101m  \u001b[0m\u001b[47m  \u001b[0m  [5, 5, 5, 5, 8, 7, 8, 8, 7]\n",
       "\n"
      ]
     },
     "metadata": {},
     "output_type": "display_data"
    },
    {
     "name": "stdout",
     "output_type": "stream",
     "text": [
      "Example test output\n"
     ]
    },
    {
     "data": {
      "text/html": [
       "<pre style=\"white-space:pre;overflow-x:auto;line-height:normal;font-family:Menlo,'DejaVu Sans Mono',consolas,'Courier New',monospace\"><span style=\"background-color: #008000\">    </span>  [2, 2]\n",
       "<span style=\"background-color: #000080\">    </span>  [4, 4]\n",
       "\n",
       "</pre>\n"
      ],
      "text/plain": [
       "\u001b[42m  \u001b[0m\u001b[42m  \u001b[0m  [2, 2]\n",
       "\u001b[44m  \u001b[0m\u001b[44m  \u001b[0m  [4, 4]\n",
       "\n"
      ]
     },
     "metadata": {},
     "output_type": "display_data"
    },
    {
     "name": "stdout",
     "output_type": "stream",
     "text": [
      "==================================================\n",
      "41\n",
      "==================================================\n",
      "Example input\n"
     ]
    },
    {
     "data": {
      "text/html": [
       "<pre style=\"white-space:pre;overflow-x:auto;line-height:normal;font-family:Menlo,'DejaVu Sans Mono',consolas,'Courier New',monospace\"><span style=\"background-color: #ff0000\">  </span><span style=\"background-color: #00ff00\">  </span><span style=\"background-color: #ff0000\">  </span>  [8, 9, 8]\n",
       "<span style=\"background-color: #ff0000\">      </span>  [8, 8, 8]\n",
       "<span style=\"background-color: #ff0000\">      </span>  [8, 8, 8]\n",
       "<span style=\"background-color: #ff0000\">      </span>  [8, 8, 8]\n",
       "<span style=\"background-color: #800000\">      </span>  [1, 1, 1]\n",
       "<span style=\"background-color: #000000\">  </span><span style=\"background-color: #00ff00\">  </span><span style=\"background-color: #000000\">  </span>  [0, 9, 0]\n",
       "<span style=\"background-color: #00ff00\">  </span><span style=\"background-color: #000000\">    </span>  [9, 0, 0]\n",
       "<span style=\"background-color: #00ff00\">  </span><span style=\"background-color: #000000\">    </span>  [9, 0, 0]\n",
       "<span style=\"background-color: #000000\">      </span>  [0, 0, 0]\n",
       "\n",
       "</pre>\n"
      ],
      "text/plain": [
       "\u001b[101m  \u001b[0m\u001b[102m  \u001b[0m\u001b[101m  \u001b[0m  [8, 9, 8]\n",
       "\u001b[101m  \u001b[0m\u001b[101m  \u001b[0m\u001b[101m  \u001b[0m  [8, 8, 8]\n",
       "\u001b[101m  \u001b[0m\u001b[101m  \u001b[0m\u001b[101m  \u001b[0m  [8, 8, 8]\n",
       "\u001b[101m  \u001b[0m\u001b[101m  \u001b[0m\u001b[101m  \u001b[0m  [8, 8, 8]\n",
       "\u001b[41m  \u001b[0m\u001b[41m  \u001b[0m\u001b[41m  \u001b[0m  [1, 1, 1]\n",
       "\u001b[40m  \u001b[0m\u001b[102m  \u001b[0m\u001b[40m  \u001b[0m  [0, 9, 0]\n",
       "\u001b[102m  \u001b[0m\u001b[40m  \u001b[0m\u001b[40m  \u001b[0m  [9, 0, 0]\n",
       "\u001b[102m  \u001b[0m\u001b[40m  \u001b[0m\u001b[40m  \u001b[0m  [9, 0, 0]\n",
       "\u001b[40m  \u001b[0m\u001b[40m  \u001b[0m\u001b[40m  \u001b[0m  [0, 0, 0]\n",
       "\n"
      ]
     },
     "metadata": {},
     "output_type": "display_data"
    },
    {
     "name": "stdout",
     "output_type": "stream",
     "text": [
      "Example output\n"
     ]
    },
    {
     "data": {
      "text/html": [
       "<pre style=\"white-space:pre;overflow-x:auto;line-height:normal;font-family:Menlo,'DejaVu Sans Mono',consolas,'Courier New',monospace\"><span style=\"background-color: #00ff00\">  </span><span style=\"background-color: #808000\">  </span><span style=\"background-color: #00ff00\">  </span>  [9, 3, 9]\n",
       "<span style=\"background-color: #00ff00\">      </span>  [9, 9, 9]\n",
       "<span style=\"background-color: #00ff00\">      </span>  [9, 9, 9]\n",
       "<span style=\"background-color: #00ff00\">      </span>  [9, 9, 9]\n",
       "\n",
       "</pre>\n"
      ],
      "text/plain": [
       "\u001b[102m  \u001b[0m\u001b[43m  \u001b[0m\u001b[102m  \u001b[0m  [9, 3, 9]\n",
       "\u001b[102m  \u001b[0m\u001b[102m  \u001b[0m\u001b[102m  \u001b[0m  [9, 9, 9]\n",
       "\u001b[102m  \u001b[0m\u001b[102m  \u001b[0m\u001b[102m  \u001b[0m  [9, 9, 9]\n",
       "\u001b[102m  \u001b[0m\u001b[102m  \u001b[0m\u001b[102m  \u001b[0m  [9, 9, 9]\n",
       "\n"
      ]
     },
     "metadata": {},
     "output_type": "display_data"
    },
    {
     "name": "stdout",
     "output_type": "stream",
     "text": [
      "==================================================\n",
      "Example test input\n"
     ]
    },
    {
     "data": {
      "text/html": [
       "<pre style=\"white-space:pre;overflow-x:auto;line-height:normal;font-family:Menlo,'DejaVu Sans Mono',consolas,'Courier New',monospace\"><span style=\"background-color: #000000\">      </span><span style=\"background-color: #00ff00\">  </span><span style=\"background-color: #000000\">          </span>  [0, 0, 0, 9, 0, 0, 0, 0, 0]\n",
       "<span style=\"background-color: #000000\">              </span><span style=\"background-color: #00ff00\">  </span><span style=\"background-color: #000000\">  </span>  [0, 0, 0, 0, 0, 0, 0, 9, 0]\n",
       "<span style=\"background-color: #000000\">  </span><span style=\"background-color: #00ff00\">  </span><span style=\"background-color: #000000\">          </span><span style=\"background-color: #00ff00\">  </span><span style=\"background-color: #000000\">  </span>  [0, 9, 0, 0, 0, 0, 0, 9, 0]\n",
       "<span style=\"background-color: #000000\">                  </span>  [0, 0, 0, 0, 0, 0, 0, 0, 0]\n",
       "<span style=\"background-color: #800000\">                  </span>  [1, 1, 1, 1, 1, 1, 1, 1, 1]\n",
       "<span style=\"background-color: #00ff00\">                  </span>  [9, 9, 9, 9, 9, 9, 9, 9, 9]\n",
       "<span style=\"background-color: #00ff00\">        </span><span style=\"background-color: #800080\">  </span><span style=\"background-color: #00ff00\">        </span>  [9, 9, 9, 9, 5, 9, 9, 9, 9]\n",
       "<span style=\"background-color: #00ff00\">    </span><span style=\"background-color: #800080\">  </span><span style=\"background-color: #00ff00\">  </span><span style=\"background-color: #800080\">    </span><span style=\"background-color: #00ff00\">      </span>  [9, 9, 5, 9, 5, 5, 9, 9, 9]\n",
       "<span style=\"background-color: #00ff00\">                  </span>  [9, 9, 9, 9, 9, 9, 9, 9, 9]\n",
       "\n",
       "</pre>\n"
      ],
      "text/plain": [
       "\u001b[40m  \u001b[0m\u001b[40m  \u001b[0m\u001b[40m  \u001b[0m\u001b[102m  \u001b[0m\u001b[40m  \u001b[0m\u001b[40m  \u001b[0m\u001b[40m  \u001b[0m\u001b[40m  \u001b[0m\u001b[40m  \u001b[0m  [0, 0, 0, 9, 0, 0, 0, 0, 0]\n",
       "\u001b[40m  \u001b[0m\u001b[40m  \u001b[0m\u001b[40m  \u001b[0m\u001b[40m  \u001b[0m\u001b[40m  \u001b[0m\u001b[40m  \u001b[0m\u001b[40m  \u001b[0m\u001b[102m  \u001b[0m\u001b[40m  \u001b[0m  [0, 0, 0, 0, 0, 0, 0, 9, 0]\n",
       "\u001b[40m  \u001b[0m\u001b[102m  \u001b[0m\u001b[40m  \u001b[0m\u001b[40m  \u001b[0m\u001b[40m  \u001b[0m\u001b[40m  \u001b[0m\u001b[40m  \u001b[0m\u001b[102m  \u001b[0m\u001b[40m  \u001b[0m  [0, 9, 0, 0, 0, 0, 0, 9, 0]\n",
       "\u001b[40m  \u001b[0m\u001b[40m  \u001b[0m\u001b[40m  \u001b[0m\u001b[40m  \u001b[0m\u001b[40m  \u001b[0m\u001b[40m  \u001b[0m\u001b[40m  \u001b[0m\u001b[40m  \u001b[0m\u001b[40m  \u001b[0m  [0, 0, 0, 0, 0, 0, 0, 0, 0]\n",
       "\u001b[41m  \u001b[0m\u001b[41m  \u001b[0m\u001b[41m  \u001b[0m\u001b[41m  \u001b[0m\u001b[41m  \u001b[0m\u001b[41m  \u001b[0m\u001b[41m  \u001b[0m\u001b[41m  \u001b[0m\u001b[41m  \u001b[0m  [1, 1, 1, 1, 1, 1, 1, 1, 1]\n",
       "\u001b[102m  \u001b[0m\u001b[102m  \u001b[0m\u001b[102m  \u001b[0m\u001b[102m  \u001b[0m\u001b[102m  \u001b[0m\u001b[102m  \u001b[0m\u001b[102m  \u001b[0m\u001b[102m  \u001b[0m\u001b[102m  \u001b[0m  [9, 9, 9, 9, 9, 9, 9, 9, 9]\n",
       "\u001b[102m  \u001b[0m\u001b[102m  \u001b[0m\u001b[102m  \u001b[0m\u001b[102m  \u001b[0m\u001b[45m  \u001b[0m\u001b[102m  \u001b[0m\u001b[102m  \u001b[0m\u001b[102m  \u001b[0m\u001b[102m  \u001b[0m  [9, 9, 9, 9, 5, 9, 9, 9, 9]\n",
       "\u001b[102m  \u001b[0m\u001b[102m  \u001b[0m\u001b[45m  \u001b[0m\u001b[102m  \u001b[0m\u001b[45m  \u001b[0m\u001b[45m  \u001b[0m\u001b[102m  \u001b[0m\u001b[102m  \u001b[0m\u001b[102m  \u001b[0m  [9, 9, 5, 9, 5, 5, 9, 9, 9]\n",
       "\u001b[102m  \u001b[0m\u001b[102m  \u001b[0m\u001b[102m  \u001b[0m\u001b[102m  \u001b[0m\u001b[102m  \u001b[0m\u001b[102m  \u001b[0m\u001b[102m  \u001b[0m\u001b[102m  \u001b[0m\u001b[102m  \u001b[0m  [9, 9, 9, 9, 9, 9, 9, 9, 9]\n",
       "\n"
      ]
     },
     "metadata": {},
     "output_type": "display_data"
    },
    {
     "name": "stdout",
     "output_type": "stream",
     "text": [
      "Example test output\n"
     ]
    },
    {
     "data": {
      "text/html": [
       "<pre style=\"white-space:pre;overflow-x:auto;line-height:normal;font-family:Menlo,'DejaVu Sans Mono',consolas,'Courier New',monospace\"><span style=\"background-color: #00ff00\">      </span><span style=\"background-color: #808000\">  </span><span style=\"background-color: #00ff00\">          </span>  [9, 9, 9, 3, 9, 9, 9, 9, 9]\n",
       "<span style=\"background-color: #00ff00\">              </span><span style=\"background-color: #808000\">  </span><span style=\"background-color: #00ff00\">  </span>  [9, 9, 9, 9, 9, 9, 9, 3, 9]\n",
       "<span style=\"background-color: #00ff00\">  </span><span style=\"background-color: #808000\">  </span><span style=\"background-color: #00ff00\">          </span><span style=\"background-color: #808000\">  </span><span style=\"background-color: #00ff00\">  </span>  [9, 3, 9, 9, 9, 9, 9, 3, 9]\n",
       "<span style=\"background-color: #00ff00\">                  </span>  [9, 9, 9, 9, 9, 9, 9, 9, 9]\n",
       "\n",
       "</pre>\n"
      ],
      "text/plain": [
       "\u001b[102m  \u001b[0m\u001b[102m  \u001b[0m\u001b[102m  \u001b[0m\u001b[43m  \u001b[0m\u001b[102m  \u001b[0m\u001b[102m  \u001b[0m\u001b[102m  \u001b[0m\u001b[102m  \u001b[0m\u001b[102m  \u001b[0m  [9, 9, 9, 3, 9, 9, 9, 9, 9]\n",
       "\u001b[102m  \u001b[0m\u001b[102m  \u001b[0m\u001b[102m  \u001b[0m\u001b[102m  \u001b[0m\u001b[102m  \u001b[0m\u001b[102m  \u001b[0m\u001b[102m  \u001b[0m\u001b[43m  \u001b[0m\u001b[102m  \u001b[0m  [9, 9, 9, 9, 9, 9, 9, 3, 9]\n",
       "\u001b[102m  \u001b[0m\u001b[43m  \u001b[0m\u001b[102m  \u001b[0m\u001b[102m  \u001b[0m\u001b[102m  \u001b[0m\u001b[102m  \u001b[0m\u001b[102m  \u001b[0m\u001b[43m  \u001b[0m\u001b[102m  \u001b[0m  [9, 3, 9, 9, 9, 9, 9, 3, 9]\n",
       "\u001b[102m  \u001b[0m\u001b[102m  \u001b[0m\u001b[102m  \u001b[0m\u001b[102m  \u001b[0m\u001b[102m  \u001b[0m\u001b[102m  \u001b[0m\u001b[102m  \u001b[0m\u001b[102m  \u001b[0m\u001b[102m  \u001b[0m  [9, 9, 9, 9, 9, 9, 9, 9, 9]\n",
       "\n"
      ]
     },
     "metadata": {},
     "output_type": "display_data"
    },
    {
     "name": "stdout",
     "output_type": "stream",
     "text": [
      "==================================================\n",
      "44\n",
      "==================================================\n",
      "Example input\n"
     ]
    },
    {
     "data": {
      "text/html": [
       "<pre style=\"white-space:pre;overflow-x:auto;line-height:normal;font-family:Menlo,'DejaVu Sans Mono',consolas,'Courier New',monospace\"><span style=\"background-color: #c0c0c0\">  </span><span style=\"background-color: #800000\">  </span><span style=\"background-color: #000000\">  </span><span style=\"background-color: #800000\">  </span><span style=\"background-color: #008080\">  </span>  [7, 1, 0, 1, 6]\n",
       "<span style=\"background-color: #800000\">  </span><span style=\"background-color: #808000\">  </span><span style=\"background-color: #008000\">  </span><span style=\"background-color: #800000\">    </span>  [1, 3, 2, 1, 1]\n",
       "<span style=\"background-color: #800000\">  </span><span style=\"background-color: #000000\">  </span><span style=\"background-color: #c0c0c0\">    </span><span style=\"background-color: #800000\">  </span>  [1, 0, 7, 7, 1]\n",
       "<span style=\"background-color: #ff0000\">  </span><span style=\"background-color: #800000\">        </span>  [8, 1, 1, 1, 1]\n",
       "<span style=\"background-color: #800000\">        </span><span style=\"background-color: #000080\">  </span>  [1, 1, 1, 1, 4]\n",
       "<span style=\"background-color: #800000\">  </span><span style=\"background-color: #008000\">  </span><span style=\"background-color: #800000\">    </span><span style=\"background-color: #800080\">  </span>  [1, 2, 1, 1, 5]\n",
       "\n",
       "</pre>\n"
      ],
      "text/plain": [
       "\u001b[47m  \u001b[0m\u001b[41m  \u001b[0m\u001b[40m  \u001b[0m\u001b[41m  \u001b[0m\u001b[46m  \u001b[0m  [7, 1, 0, 1, 6]\n",
       "\u001b[41m  \u001b[0m\u001b[43m  \u001b[0m\u001b[42m  \u001b[0m\u001b[41m  \u001b[0m\u001b[41m  \u001b[0m  [1, 3, 2, 1, 1]\n",
       "\u001b[41m  \u001b[0m\u001b[40m  \u001b[0m\u001b[47m  \u001b[0m\u001b[47m  \u001b[0m\u001b[41m  \u001b[0m  [1, 0, 7, 7, 1]\n",
       "\u001b[101m  \u001b[0m\u001b[41m  \u001b[0m\u001b[41m  \u001b[0m\u001b[41m  \u001b[0m\u001b[41m  \u001b[0m  [8, 1, 1, 1, 1]\n",
       "\u001b[41m  \u001b[0m\u001b[41m  \u001b[0m\u001b[41m  \u001b[0m\u001b[41m  \u001b[0m\u001b[44m  \u001b[0m  [1, 1, 1, 1, 4]\n",
       "\u001b[41m  \u001b[0m\u001b[42m  \u001b[0m\u001b[41m  \u001b[0m\u001b[41m  \u001b[0m\u001b[45m  \u001b[0m  [1, 2, 1, 1, 5]\n",
       "\n"
      ]
     },
     "metadata": {},
     "output_type": "display_data"
    },
    {
     "name": "stdout",
     "output_type": "stream",
     "text": [
      "Example output\n"
     ]
    },
    {
     "data": {
      "text/html": [
       "<pre style=\"white-space:pre;overflow-x:auto;line-height:normal;font-family:Menlo,'DejaVu Sans Mono',consolas,'Courier New',monospace\"><span style=\"background-color: #000000\">  </span><span style=\"background-color: #800000\">  </span><span style=\"background-color: #008080\">  </span>  [0, 1, 6]\n",
       "<span style=\"background-color: #008000\">  </span><span style=\"background-color: #800000\">    </span>  [2, 1, 1]\n",
       "<span style=\"background-color: #c0c0c0\">    </span><span style=\"background-color: #800000\">  </span>  [7, 7, 1]\n",
       "\n",
       "</pre>\n"
      ],
      "text/plain": [
       "\u001b[40m  \u001b[0m\u001b[41m  \u001b[0m\u001b[46m  \u001b[0m  [0, 1, 6]\n",
       "\u001b[42m  \u001b[0m\u001b[41m  \u001b[0m\u001b[41m  \u001b[0m  [2, 1, 1]\n",
       "\u001b[47m  \u001b[0m\u001b[47m  \u001b[0m\u001b[41m  \u001b[0m  [7, 7, 1]\n",
       "\n"
      ]
     },
     "metadata": {},
     "output_type": "display_data"
    },
    {
     "name": "stdout",
     "output_type": "stream",
     "text": [
      "==================================================\n",
      "Example test input\n"
     ]
    },
    {
     "data": {
      "text/html": [
       "<pre style=\"white-space:pre;overflow-x:auto;line-height:normal;font-family:Menlo,'DejaVu Sans Mono',consolas,'Courier New',monospace\"><span style=\"background-color: #000080\">    </span><span style=\"background-color: #800080\">  </span><span style=\"background-color: #000080\">    </span><span style=\"background-color: #c0c0c0\">  </span><span style=\"background-color: #000080\">  </span>  [4, 4, 5, 4, 4, 7, 4]\n",
       "<span style=\"background-color: #000000\">  </span><span style=\"background-color: #808000\">    </span><span style=\"background-color: #00ff00\">  </span><span style=\"background-color: #000080\">  </span><span style=\"background-color: #008080\">  </span><span style=\"background-color: #800000\">  </span>  [0, 3, 3, 9, 4, 6, 1]\n",
       "<span style=\"background-color: #000000\">  </span><span style=\"background-color: #000080\">  </span><span style=\"background-color: #800000\">  </span><span style=\"background-color: #000080\">  </span><span style=\"background-color: #800080\">  </span><span style=\"background-color: #ff0000\">  </span><span style=\"background-color: #000080\">  </span>  [0, 4, 1, 4, 5, 8, 4]\n",
       "<span style=\"background-color: #000000\">  </span><span style=\"background-color: #ff0000\">  </span><span style=\"background-color: #000080\">      </span><span style=\"background-color: #c0c0c0\">  </span><span style=\"background-color: #000080\">  </span>  [0, 8, 4, 4, 4, 7, 4]\n",
       "<span style=\"background-color: #000080\">  </span><span style=\"background-color: #00ff00\">  </span><span style=\"background-color: #000080\">    </span><span style=\"background-color: #008000\">  </span><span style=\"background-color: #008080\">  </span><span style=\"background-color: #000080\">  </span>  [4, 9, 4, 4, 2, 6, 4]\n",
       "<span style=\"background-color: #000080\">  </span><span style=\"background-color: #ff0000\">  </span><span style=\"background-color: #c0c0c0\">  </span><span style=\"background-color: #008080\">  </span><span style=\"background-color: #000080\">      </span>  [4, 8, 7, 6, 4, 4, 4]\n",
       "<span style=\"background-color: #000080\">        </span><span style=\"background-color: #008000\">  </span><span style=\"background-color: #808000\">  </span><span style=\"background-color: #000080\">  </span>  [4, 4, 4, 4, 2, 3, 4]\n",
       "\n",
       "</pre>\n"
      ],
      "text/plain": [
       "\u001b[44m  \u001b[0m\u001b[44m  \u001b[0m\u001b[45m  \u001b[0m\u001b[44m  \u001b[0m\u001b[44m  \u001b[0m\u001b[47m  \u001b[0m\u001b[44m  \u001b[0m  [4, 4, 5, 4, 4, 7, 4]\n",
       "\u001b[40m  \u001b[0m\u001b[43m  \u001b[0m\u001b[43m  \u001b[0m\u001b[102m  \u001b[0m\u001b[44m  \u001b[0m\u001b[46m  \u001b[0m\u001b[41m  \u001b[0m  [0, 3, 3, 9, 4, 6, 1]\n",
       "\u001b[40m  \u001b[0m\u001b[44m  \u001b[0m\u001b[41m  \u001b[0m\u001b[44m  \u001b[0m\u001b[45m  \u001b[0m\u001b[101m  \u001b[0m\u001b[44m  \u001b[0m  [0, 4, 1, 4, 5, 8, 4]\n",
       "\u001b[40m  \u001b[0m\u001b[101m  \u001b[0m\u001b[44m  \u001b[0m\u001b[44m  \u001b[0m\u001b[44m  \u001b[0m\u001b[47m  \u001b[0m\u001b[44m  \u001b[0m  [0, 8, 4, 4, 4, 7, 4]\n",
       "\u001b[44m  \u001b[0m\u001b[102m  \u001b[0m\u001b[44m  \u001b[0m\u001b[44m  \u001b[0m\u001b[42m  \u001b[0m\u001b[46m  \u001b[0m\u001b[44m  \u001b[0m  [4, 9, 4, 4, 2, 6, 4]\n",
       "\u001b[44m  \u001b[0m\u001b[101m  \u001b[0m\u001b[47m  \u001b[0m\u001b[46m  \u001b[0m\u001b[44m  \u001b[0m\u001b[44m  \u001b[0m\u001b[44m  \u001b[0m  [4, 8, 7, 6, 4, 4, 4]\n",
       "\u001b[44m  \u001b[0m\u001b[44m  \u001b[0m\u001b[44m  \u001b[0m\u001b[44m  \u001b[0m\u001b[42m  \u001b[0m\u001b[43m  \u001b[0m\u001b[44m  \u001b[0m  [4, 4, 4, 4, 2, 3, 4]\n",
       "\n"
      ]
     },
     "metadata": {},
     "output_type": "display_data"
    },
    {
     "name": "stdout",
     "output_type": "stream",
     "text": [
      "Example test output\n"
     ]
    },
    {
     "data": {
      "text/html": [
       "<pre style=\"white-space:pre;overflow-x:auto;line-height:normal;font-family:Menlo,'DejaVu Sans Mono',consolas,'Courier New',monospace\"><span style=\"background-color: #000080\">  </span><span style=\"background-color: #c0c0c0\">  </span><span style=\"background-color: #000080\">  </span>  [4, 7, 4]\n",
       "<span style=\"background-color: #000080\">  </span><span style=\"background-color: #008080\">  </span><span style=\"background-color: #800000\">  </span>  [4, 6, 1]\n",
       "<span style=\"background-color: #800080\">  </span><span style=\"background-color: #ff0000\">  </span><span style=\"background-color: #000080\">  </span>  [5, 8, 4]\n",
       "\n",
       "</pre>\n"
      ],
      "text/plain": [
       "\u001b[44m  \u001b[0m\u001b[47m  \u001b[0m\u001b[44m  \u001b[0m  [4, 7, 4]\n",
       "\u001b[44m  \u001b[0m\u001b[46m  \u001b[0m\u001b[41m  \u001b[0m  [4, 6, 1]\n",
       "\u001b[45m  \u001b[0m\u001b[101m  \u001b[0m\u001b[44m  \u001b[0m  [5, 8, 4]\n",
       "\n"
      ]
     },
     "metadata": {},
     "output_type": "display_data"
    },
    {
     "name": "stdout",
     "output_type": "stream",
     "text": [
      "==================================================\n",
      "49\n",
      "==================================================\n",
      "Example input\n"
     ]
    },
    {
     "data": {
      "text/html": [
       "<pre style=\"white-space:pre;overflow-x:auto;line-height:normal;font-family:Menlo,'DejaVu Sans Mono',consolas,'Courier New',monospace\"><span style=\"background-color: #ff0000\">        </span><span style=\"background-color: #000080\">  </span><span style=\"background-color: #ff0000\">        </span>  [8, 8, 8, 8, 4, 8, 8, 8, 8]\n",
       "<span style=\"background-color: #ff0000\">        </span><span style=\"background-color: #000080\">  </span><span style=\"background-color: #ff0000\">        </span>  [8, 8, 8, 8, 4, 8, 8, 8, 8]\n",
       "<span style=\"background-color: #ff0000\">        </span><span style=\"background-color: #000080\">  </span><span style=\"background-color: #ff0000\">        </span>  [8, 8, 8, 8, 4, 8, 8, 8, 8]\n",
       "<span style=\"background-color: #ff0000\">        </span><span style=\"background-color: #000080\">  </span><span style=\"background-color: #ff0000\">        </span>  [8, 8, 8, 8, 4, 8, 8, 8, 8]\n",
       "<span style=\"background-color: #000080\">                  </span>  [4, 4, 4, 4, 4, 4, 4, 4, 4]\n",
       "<span style=\"background-color: #ff0000\">    </span><span style=\"background-color: #800080\">    </span><span style=\"background-color: #000080\">  </span><span style=\"background-color: #ff0000\">        </span>  [8, 8, 5, 5, 4, 8, 8, 8, 8]\n",
       "<span style=\"background-color: #800080\">        </span><span style=\"background-color: #000080\">  </span><span style=\"background-color: #ff0000\">        </span>  [5, 5, 5, 5, 4, 8, 8, 8, 8]\n",
       "<span style=\"background-color: #800080\">        </span><span style=\"background-color: #000080\">  </span><span style=\"background-color: #ff0000\">        </span>  [5, 5, 5, 5, 4, 8, 8, 8, 8]\n",
       "<span style=\"background-color: #ff0000\">  </span><span style=\"background-color: #800080\">    </span><span style=\"background-color: #ff0000\">  </span><span style=\"background-color: #000080\">  </span><span style=\"background-color: #ff0000\">        </span>  [8, 5, 5, 8, 4, 8, 8, 8, 8]\n",
       "\n",
       "</pre>\n"
      ],
      "text/plain": [
       "\u001b[101m  \u001b[0m\u001b[101m  \u001b[0m\u001b[101m  \u001b[0m\u001b[101m  \u001b[0m\u001b[44m  \u001b[0m\u001b[101m  \u001b[0m\u001b[101m  \u001b[0m\u001b[101m  \u001b[0m\u001b[101m  \u001b[0m  [8, 8, 8, 8, 4, 8, 8, 8, 8]\n",
       "\u001b[101m  \u001b[0m\u001b[101m  \u001b[0m\u001b[101m  \u001b[0m\u001b[101m  \u001b[0m\u001b[44m  \u001b[0m\u001b[101m  \u001b[0m\u001b[101m  \u001b[0m\u001b[101m  \u001b[0m\u001b[101m  \u001b[0m  [8, 8, 8, 8, 4, 8, 8, 8, 8]\n",
       "\u001b[101m  \u001b[0m\u001b[101m  \u001b[0m\u001b[101m  \u001b[0m\u001b[101m  \u001b[0m\u001b[44m  \u001b[0m\u001b[101m  \u001b[0m\u001b[101m  \u001b[0m\u001b[101m  \u001b[0m\u001b[101m  \u001b[0m  [8, 8, 8, 8, 4, 8, 8, 8, 8]\n",
       "\u001b[101m  \u001b[0m\u001b[101m  \u001b[0m\u001b[101m  \u001b[0m\u001b[101m  \u001b[0m\u001b[44m  \u001b[0m\u001b[101m  \u001b[0m\u001b[101m  \u001b[0m\u001b[101m  \u001b[0m\u001b[101m  \u001b[0m  [8, 8, 8, 8, 4, 8, 8, 8, 8]\n",
       "\u001b[44m  \u001b[0m\u001b[44m  \u001b[0m\u001b[44m  \u001b[0m\u001b[44m  \u001b[0m\u001b[44m  \u001b[0m\u001b[44m  \u001b[0m\u001b[44m  \u001b[0m\u001b[44m  \u001b[0m\u001b[44m  \u001b[0m  [4, 4, 4, 4, 4, 4, 4, 4, 4]\n",
       "\u001b[101m  \u001b[0m\u001b[101m  \u001b[0m\u001b[45m  \u001b[0m\u001b[45m  \u001b[0m\u001b[44m  \u001b[0m\u001b[101m  \u001b[0m\u001b[101m  \u001b[0m\u001b[101m  \u001b[0m\u001b[101m  \u001b[0m  [8, 8, 5, 5, 4, 8, 8, 8, 8]\n",
       "\u001b[45m  \u001b[0m\u001b[45m  \u001b[0m\u001b[45m  \u001b[0m\u001b[45m  \u001b[0m\u001b[44m  \u001b[0m\u001b[101m  \u001b[0m\u001b[101m  \u001b[0m\u001b[101m  \u001b[0m\u001b[101m  \u001b[0m  [5, 5, 5, 5, 4, 8, 8, 8, 8]\n",
       "\u001b[45m  \u001b[0m\u001b[45m  \u001b[0m\u001b[45m  \u001b[0m\u001b[45m  \u001b[0m\u001b[44m  \u001b[0m\u001b[101m  \u001b[0m\u001b[101m  \u001b[0m\u001b[101m  \u001b[0m\u001b[101m  \u001b[0m  [5, 5, 5, 5, 4, 8, 8, 8, 8]\n",
       "\u001b[101m  \u001b[0m\u001b[45m  \u001b[0m\u001b[45m  \u001b[0m\u001b[101m  \u001b[0m\u001b[44m  \u001b[0m\u001b[101m  \u001b[0m\u001b[101m  \u001b[0m\u001b[101m  \u001b[0m\u001b[101m  \u001b[0m  [8, 5, 5, 8, 4, 8, 8, 8, 8]\n",
       "\n"
      ]
     },
     "metadata": {},
     "output_type": "display_data"
    },
    {
     "name": "stdout",
     "output_type": "stream",
     "text": [
      "Example output\n"
     ]
    },
    {
     "data": {
      "text/html": [
       "<pre style=\"white-space:pre;overflow-x:auto;line-height:normal;font-family:Menlo,'DejaVu Sans Mono',consolas,'Courier New',monospace\"><span style=\"background-color: #ff0000\">  </span><span style=\"background-color: #000080\">    </span><span style=\"background-color: #ff0000\">    </span><span style=\"background-color: #000080\">    </span><span style=\"background-color: #ff0000\">  </span>  [8, 4, 4, 8, 8, 4, 4, 8]\n",
       "<span style=\"background-color: #000080\">                </span>  [4, 4, 4, 4, 4, 4, 4, 4]\n",
       "<span style=\"background-color: #000080\">                </span>  [4, 4, 4, 4, 4, 4, 4, 4]\n",
       "<span style=\"background-color: #ff0000\">    </span><span style=\"background-color: #000080\">        </span><span style=\"background-color: #ff0000\">    </span>  [8, 8, 4, 4, 4, 4, 8, 8]\n",
       "<span style=\"background-color: #ff0000\">    </span><span style=\"background-color: #000080\">        </span><span style=\"background-color: #ff0000\">    </span>  [8, 8, 4, 4, 4, 4, 8, 8]\n",
       "<span style=\"background-color: #000080\">                </span>  [4, 4, 4, 4, 4, 4, 4, 4]\n",
       "<span style=\"background-color: #000080\">                </span>  [4, 4, 4, 4, 4, 4, 4, 4]\n",
       "<span style=\"background-color: #ff0000\">  </span><span style=\"background-color: #000080\">    </span><span style=\"background-color: #ff0000\">    </span><span style=\"background-color: #000080\">    </span><span style=\"background-color: #ff0000\">  </span>  [8, 4, 4, 8, 8, 4, 4, 8]\n",
       "\n",
       "</pre>\n"
      ],
      "text/plain": [
       "\u001b[101m  \u001b[0m\u001b[44m  \u001b[0m\u001b[44m  \u001b[0m\u001b[101m  \u001b[0m\u001b[101m  \u001b[0m\u001b[44m  \u001b[0m\u001b[44m  \u001b[0m\u001b[101m  \u001b[0m  [8, 4, 4, 8, 8, 4, 4, 8]\n",
       "\u001b[44m  \u001b[0m\u001b[44m  \u001b[0m\u001b[44m  \u001b[0m\u001b[44m  \u001b[0m\u001b[44m  \u001b[0m\u001b[44m  \u001b[0m\u001b[44m  \u001b[0m\u001b[44m  \u001b[0m  [4, 4, 4, 4, 4, 4, 4, 4]\n",
       "\u001b[44m  \u001b[0m\u001b[44m  \u001b[0m\u001b[44m  \u001b[0m\u001b[44m  \u001b[0m\u001b[44m  \u001b[0m\u001b[44m  \u001b[0m\u001b[44m  \u001b[0m\u001b[44m  \u001b[0m  [4, 4, 4, 4, 4, 4, 4, 4]\n",
       "\u001b[101m  \u001b[0m\u001b[101m  \u001b[0m\u001b[44m  \u001b[0m\u001b[44m  \u001b[0m\u001b[44m  \u001b[0m\u001b[44m  \u001b[0m\u001b[101m  \u001b[0m\u001b[101m  \u001b[0m  [8, 8, 4, 4, 4, 4, 8, 8]\n",
       "\u001b[101m  \u001b[0m\u001b[101m  \u001b[0m\u001b[44m  \u001b[0m\u001b[44m  \u001b[0m\u001b[44m  \u001b[0m\u001b[44m  \u001b[0m\u001b[101m  \u001b[0m\u001b[101m  \u001b[0m  [8, 8, 4, 4, 4, 4, 8, 8]\n",
       "\u001b[44m  \u001b[0m\u001b[44m  \u001b[0m\u001b[44m  \u001b[0m\u001b[44m  \u001b[0m\u001b[44m  \u001b[0m\u001b[44m  \u001b[0m\u001b[44m  \u001b[0m\u001b[44m  \u001b[0m  [4, 4, 4, 4, 4, 4, 4, 4]\n",
       "\u001b[44m  \u001b[0m\u001b[44m  \u001b[0m\u001b[44m  \u001b[0m\u001b[44m  \u001b[0m\u001b[44m  \u001b[0m\u001b[44m  \u001b[0m\u001b[44m  \u001b[0m\u001b[44m  \u001b[0m  [4, 4, 4, 4, 4, 4, 4, 4]\n",
       "\u001b[101m  \u001b[0m\u001b[44m  \u001b[0m\u001b[44m  \u001b[0m\u001b[101m  \u001b[0m\u001b[101m  \u001b[0m\u001b[44m  \u001b[0m\u001b[44m  \u001b[0m\u001b[101m  \u001b[0m  [8, 4, 4, 8, 8, 4, 4, 8]\n",
       "\n"
      ]
     },
     "metadata": {},
     "output_type": "display_data"
    },
    {
     "name": "stdout",
     "output_type": "stream",
     "text": [
      "==================================================\n",
      "Example test input\n"
     ]
    },
    {
     "data": {
      "text/html": [
       "<pre style=\"white-space:pre;overflow-x:auto;line-height:normal;font-family:Menlo,'DejaVu Sans Mono',consolas,'Courier New',monospace\"><span style=\"background-color: #808000\">        </span><span style=\"background-color: #800000\">  </span><span style=\"background-color: #808000\">    </span><span style=\"background-color: #800080\">  </span><span style=\"background-color: #808000\">  </span>  [3, 3, 3, 3, 1, 3, 3, 5, 3]\n",
       "<span style=\"background-color: #808000\">        </span><span style=\"background-color: #800000\">  </span><span style=\"background-color: #808000\">        </span>  [3, 3, 3, 3, 1, 3, 3, 3, 3]\n",
       "<span style=\"background-color: #800000\">                  </span>  [1, 1, 1, 1, 1, 1, 1, 1, 1]\n",
       "<span style=\"background-color: #808000\">        </span><span style=\"background-color: #800000\">  </span><span style=\"background-color: #808000\">        </span>  [3, 3, 3, 3, 1, 3, 3, 3, 3]\n",
       "<span style=\"background-color: #808000\">        </span><span style=\"background-color: #800000\">  </span><span style=\"background-color: #808000\">        </span>  [3, 3, 3, 3, 1, 3, 3, 3, 3]\n",
       "\n",
       "</pre>\n"
      ],
      "text/plain": [
       "\u001b[43m  \u001b[0m\u001b[43m  \u001b[0m\u001b[43m  \u001b[0m\u001b[43m  \u001b[0m\u001b[41m  \u001b[0m\u001b[43m  \u001b[0m\u001b[43m  \u001b[0m\u001b[45m  \u001b[0m\u001b[43m  \u001b[0m  [3, 3, 3, 3, 1, 3, 3, 5, 3]\n",
       "\u001b[43m  \u001b[0m\u001b[43m  \u001b[0m\u001b[43m  \u001b[0m\u001b[43m  \u001b[0m\u001b[41m  \u001b[0m\u001b[43m  \u001b[0m\u001b[43m  \u001b[0m\u001b[43m  \u001b[0m\u001b[43m  \u001b[0m  [3, 3, 3, 3, 1, 3, 3, 3, 3]\n",
       "\u001b[41m  \u001b[0m\u001b[41m  \u001b[0m\u001b[41m  \u001b[0m\u001b[41m  \u001b[0m\u001b[41m  \u001b[0m\u001b[41m  \u001b[0m\u001b[41m  \u001b[0m\u001b[41m  \u001b[0m\u001b[41m  \u001b[0m  [1, 1, 1, 1, 1, 1, 1, 1, 1]\n",
       "\u001b[43m  \u001b[0m\u001b[43m  \u001b[0m\u001b[43m  \u001b[0m\u001b[43m  \u001b[0m\u001b[41m  \u001b[0m\u001b[43m  \u001b[0m\u001b[43m  \u001b[0m\u001b[43m  \u001b[0m\u001b[43m  \u001b[0m  [3, 3, 3, 3, 1, 3, 3, 3, 3]\n",
       "\u001b[43m  \u001b[0m\u001b[43m  \u001b[0m\u001b[43m  \u001b[0m\u001b[43m  \u001b[0m\u001b[41m  \u001b[0m\u001b[43m  \u001b[0m\u001b[43m  \u001b[0m\u001b[43m  \u001b[0m\u001b[43m  \u001b[0m  [3, 3, 3, 3, 1, 3, 3, 3, 3]\n",
       "\n"
      ]
     },
     "metadata": {},
     "output_type": "display_data"
    },
    {
     "name": "stdout",
     "output_type": "stream",
     "text": [
      "Example test output\n"
     ]
    },
    {
     "data": {
      "text/html": [
       "<pre style=\"white-space:pre;overflow-x:auto;line-height:normal;font-family:Menlo,'DejaVu Sans Mono',consolas,'Courier New',monospace\"><span style=\"background-color: #808000\">  </span><span style=\"background-color: #800000\">  </span><span style=\"background-color: #808000\">        </span><span style=\"background-color: #800000\">  </span><span style=\"background-color: #808000\">  </span>  [3, 1, 3, 3, 3, 3, 1, 3]\n",
       "<span style=\"background-color: #808000\">                </span>  [3, 3, 3, 3, 3, 3, 3, 3]\n",
       "<span style=\"background-color: #808000\">                </span>  [3, 3, 3, 3, 3, 3, 3, 3]\n",
       "<span style=\"background-color: #808000\">  </span><span style=\"background-color: #800000\">  </span><span style=\"background-color: #808000\">        </span><span style=\"background-color: #800000\">  </span><span style=\"background-color: #808000\">  </span>  [3, 1, 3, 3, 3, 3, 1, 3]\n",
       "\n",
       "</pre>\n"
      ],
      "text/plain": [
       "\u001b[43m  \u001b[0m\u001b[41m  \u001b[0m\u001b[43m  \u001b[0m\u001b[43m  \u001b[0m\u001b[43m  \u001b[0m\u001b[43m  \u001b[0m\u001b[41m  \u001b[0m\u001b[43m  \u001b[0m  [3, 1, 3, 3, 3, 3, 1, 3]\n",
       "\u001b[43m  \u001b[0m\u001b[43m  \u001b[0m\u001b[43m  \u001b[0m\u001b[43m  \u001b[0m\u001b[43m  \u001b[0m\u001b[43m  \u001b[0m\u001b[43m  \u001b[0m\u001b[43m  \u001b[0m  [3, 3, 3, 3, 3, 3, 3, 3]\n",
       "\u001b[43m  \u001b[0m\u001b[43m  \u001b[0m\u001b[43m  \u001b[0m\u001b[43m  \u001b[0m\u001b[43m  \u001b[0m\u001b[43m  \u001b[0m\u001b[43m  \u001b[0m\u001b[43m  \u001b[0m  [3, 3, 3, 3, 3, 3, 3, 3]\n",
       "\u001b[43m  \u001b[0m\u001b[41m  \u001b[0m\u001b[43m  \u001b[0m\u001b[43m  \u001b[0m\u001b[43m  \u001b[0m\u001b[43m  \u001b[0m\u001b[41m  \u001b[0m\u001b[43m  \u001b[0m  [3, 1, 3, 3, 3, 3, 1, 3]\n",
       "\n"
      ]
     },
     "metadata": {},
     "output_type": "display_data"
    },
    {
     "name": "stdout",
     "output_type": "stream",
     "text": [
      "==================================================\n",
      "51\n",
      "==================================================\n",
      "Example input\n"
     ]
    },
    {
     "data": {
      "text/html": [
       "<pre style=\"white-space:pre;overflow-x:auto;line-height:normal;font-family:Menlo,'DejaVu Sans Mono',consolas,'Courier New',monospace\"><span style=\"background-color: #808000\">      </span><span style=\"background-color: #00ff00\">  </span><span style=\"background-color: #800080\">      </span>  [3, 3, 3, 9, 5, 5, 5]\n",
       "<span style=\"background-color: #808000\">    </span><span style=\"background-color: #ff0000\">  </span><span style=\"background-color: #00ff00\">  </span><span style=\"background-color: #ff0000\">  </span><span style=\"background-color: #800080\">    </span>  [3, 3, 8, 9, 8, 5, 5]\n",
       "<span style=\"background-color: #808000\">  </span><span style=\"background-color: #ff0000\">    </span><span style=\"background-color: #00ff00\">  </span><span style=\"background-color: #ff0000\">  </span><span style=\"background-color: #800080\">    </span>  [3, 8, 8, 9, 8, 5, 5]\n",
       "<span style=\"background-color: #808000\">      </span><span style=\"background-color: #00ff00\">  </span><span style=\"background-color: #ff0000\">  </span><span style=\"background-color: #800080\">    </span>  [3, 3, 3, 9, 8, 5, 5]\n",
       "<span style=\"background-color: #00ff00\">              </span>  [9, 9, 9, 9, 9, 9, 9]\n",
       "<span style=\"background-color: #ff0000\">  </span><span style=\"background-color: #000080\">  </span><span style=\"background-color: #ff0000\">  </span><span style=\"background-color: #00ff00\">  </span><span style=\"background-color: #ff0000\">      </span>  [8, 4, 8, 9, 8, 8, 8]\n",
       "<span style=\"background-color: #ff0000\">  </span><span style=\"background-color: #000080\">  </span><span style=\"background-color: #ff0000\">  </span><span style=\"background-color: #00ff00\">  </span><span style=\"background-color: #ff0000\">      </span>  [8, 4, 8, 9, 8, 8, 8]\n",
       "<span style=\"background-color: #ff0000\">  </span><span style=\"background-color: #000080\">  </span><span style=\"background-color: #ff0000\">  </span><span style=\"background-color: #00ff00\">  </span><span style=\"background-color: #ff0000\">      </span>  [8, 4, 8, 9, 8, 8, 8]\n",
       "<span style=\"background-color: #000080\">  </span><span style=\"background-color: #ff0000\">  </span><span style=\"background-color: #000080\">  </span><span style=\"background-color: #00ff00\">  </span><span style=\"background-color: #ff0000\">    </span><span style=\"background-color: #008080\">  </span>  [4, 8, 4, 9, 8, 8, 6]\n",
       "\n",
       "</pre>\n"
      ],
      "text/plain": [
       "\u001b[43m  \u001b[0m\u001b[43m  \u001b[0m\u001b[43m  \u001b[0m\u001b[102m  \u001b[0m\u001b[45m  \u001b[0m\u001b[45m  \u001b[0m\u001b[45m  \u001b[0m  [3, 3, 3, 9, 5, 5, 5]\n",
       "\u001b[43m  \u001b[0m\u001b[43m  \u001b[0m\u001b[101m  \u001b[0m\u001b[102m  \u001b[0m\u001b[101m  \u001b[0m\u001b[45m  \u001b[0m\u001b[45m  \u001b[0m  [3, 3, 8, 9, 8, 5, 5]\n",
       "\u001b[43m  \u001b[0m\u001b[101m  \u001b[0m\u001b[101m  \u001b[0m\u001b[102m  \u001b[0m\u001b[101m  \u001b[0m\u001b[45m  \u001b[0m\u001b[45m  \u001b[0m  [3, 8, 8, 9, 8, 5, 5]\n",
       "\u001b[43m  \u001b[0m\u001b[43m  \u001b[0m\u001b[43m  \u001b[0m\u001b[102m  \u001b[0m\u001b[101m  \u001b[0m\u001b[45m  \u001b[0m\u001b[45m  \u001b[0m  [3, 3, 3, 9, 8, 5, 5]\n",
       "\u001b[102m  \u001b[0m\u001b[102m  \u001b[0m\u001b[102m  \u001b[0m\u001b[102m  \u001b[0m\u001b[102m  \u001b[0m\u001b[102m  \u001b[0m\u001b[102m  \u001b[0m  [9, 9, 9, 9, 9, 9, 9]\n",
       "\u001b[101m  \u001b[0m\u001b[44m  \u001b[0m\u001b[101m  \u001b[0m\u001b[102m  \u001b[0m\u001b[101m  \u001b[0m\u001b[101m  \u001b[0m\u001b[101m  \u001b[0m  [8, 4, 8, 9, 8, 8, 8]\n",
       "\u001b[101m  \u001b[0m\u001b[44m  \u001b[0m\u001b[101m  \u001b[0m\u001b[102m  \u001b[0m\u001b[101m  \u001b[0m\u001b[101m  \u001b[0m\u001b[101m  \u001b[0m  [8, 4, 8, 9, 8, 8, 8]\n",
       "\u001b[101m  \u001b[0m\u001b[44m  \u001b[0m\u001b[101m  \u001b[0m\u001b[102m  \u001b[0m\u001b[101m  \u001b[0m\u001b[101m  \u001b[0m\u001b[101m  \u001b[0m  [8, 4, 8, 9, 8, 8, 8]\n",
       "\u001b[44m  \u001b[0m\u001b[101m  \u001b[0m\u001b[44m  \u001b[0m\u001b[102m  \u001b[0m\u001b[101m  \u001b[0m\u001b[101m  \u001b[0m\u001b[46m  \u001b[0m  [4, 8, 4, 9, 8, 8, 6]\n",
       "\n"
      ]
     },
     "metadata": {},
     "output_type": "display_data"
    },
    {
     "name": "stdout",
     "output_type": "stream",
     "text": [
      "Example output\n"
     ]
    },
    {
     "data": {
      "text/html": [
       "<pre style=\"white-space:pre;overflow-x:auto;line-height:normal;font-family:Menlo,'DejaVu Sans Mono',consolas,'Courier New',monospace\"><span style=\"background-color: #808000\">      </span>  [3, 3, 3]\n",
       "<span style=\"background-color: #808000\">    </span><span style=\"background-color: #800080\">  </span>  [3, 3, 5]\n",
       "<span style=\"background-color: #808000\">  </span><span style=\"background-color: #800080\">    </span>  [3, 5, 5]\n",
       "<span style=\"background-color: #808000\">      </span>  [3, 3, 3]\n",
       "\n",
       "</pre>\n"
      ],
      "text/plain": [
       "\u001b[43m  \u001b[0m\u001b[43m  \u001b[0m\u001b[43m  \u001b[0m  [3, 3, 3]\n",
       "\u001b[43m  \u001b[0m\u001b[43m  \u001b[0m\u001b[45m  \u001b[0m  [3, 3, 5]\n",
       "\u001b[43m  \u001b[0m\u001b[45m  \u001b[0m\u001b[45m  \u001b[0m  [3, 5, 5]\n",
       "\u001b[43m  \u001b[0m\u001b[43m  \u001b[0m\u001b[43m  \u001b[0m  [3, 3, 3]\n",
       "\n"
      ]
     },
     "metadata": {},
     "output_type": "display_data"
    },
    {
     "name": "stdout",
     "output_type": "stream",
     "text": [
      "==================================================\n",
      "Example test input\n"
     ]
    },
    {
     "data": {
      "text/html": [
       "<pre style=\"white-space:pre;overflow-x:auto;line-height:normal;font-family:Menlo,'DejaVu Sans Mono',consolas,'Courier New',monospace\"><span style=\"background-color: #ff0000\">      </span><span style=\"background-color: #00ff00\">  </span><span style=\"background-color: #c0c0c0\">      </span>  [8, 8, 8, 9, 7, 7, 7]\n",
       "<span style=\"background-color: #ff0000\">  </span><span style=\"background-color: #800000\">  </span><span style=\"background-color: #ff0000\">  </span><span style=\"background-color: #00ff00\">  </span><span style=\"background-color: #c0c0c0\">  </span><span style=\"background-color: #800000\">  </span><span style=\"background-color: #c0c0c0\">  </span>  [8, 1, 8, 9, 7, 1, 7]\n",
       "<span style=\"background-color: #00ff00\">              </span>  [9, 9, 9, 9, 9, 9, 9]\n",
       "<span style=\"background-color: #008080\">  </span><span style=\"background-color: #800000\">  </span><span style=\"background-color: #008080\">  </span><span style=\"background-color: #00ff00\">  </span><span style=\"background-color: #800000\">      </span>  [6, 1, 6, 9, 1, 1, 1]\n",
       "<span style=\"background-color: #800000\">  </span><span style=\"background-color: #008080\">  </span><span style=\"background-color: #800000\">  </span><span style=\"background-color: #00ff00\">  </span><span style=\"background-color: #800000\">    </span><span style=\"background-color: #808000\">  </span>  [1, 6, 1, 9, 1, 1, 3]\n",
       "\n",
       "</pre>\n"
      ],
      "text/plain": [
       "\u001b[101m  \u001b[0m\u001b[101m  \u001b[0m\u001b[101m  \u001b[0m\u001b[102m  \u001b[0m\u001b[47m  \u001b[0m\u001b[47m  \u001b[0m\u001b[47m  \u001b[0m  [8, 8, 8, 9, 7, 7, 7]\n",
       "\u001b[101m  \u001b[0m\u001b[41m  \u001b[0m\u001b[101m  \u001b[0m\u001b[102m  \u001b[0m\u001b[47m  \u001b[0m\u001b[41m  \u001b[0m\u001b[47m  \u001b[0m  [8, 1, 8, 9, 7, 1, 7]\n",
       "\u001b[102m  \u001b[0m\u001b[102m  \u001b[0m\u001b[102m  \u001b[0m\u001b[102m  \u001b[0m\u001b[102m  \u001b[0m\u001b[102m  \u001b[0m\u001b[102m  \u001b[0m  [9, 9, 9, 9, 9, 9, 9]\n",
       "\u001b[46m  \u001b[0m\u001b[41m  \u001b[0m\u001b[46m  \u001b[0m\u001b[102m  \u001b[0m\u001b[41m  \u001b[0m\u001b[41m  \u001b[0m\u001b[41m  \u001b[0m  [6, 1, 6, 9, 1, 1, 1]\n",
       "\u001b[41m  \u001b[0m\u001b[46m  \u001b[0m\u001b[41m  \u001b[0m\u001b[102m  \u001b[0m\u001b[41m  \u001b[0m\u001b[41m  \u001b[0m\u001b[43m  \u001b[0m  [1, 6, 1, 9, 1, 1, 3]\n",
       "\n"
      ]
     },
     "metadata": {},
     "output_type": "display_data"
    },
    {
     "name": "stdout",
     "output_type": "stream",
     "text": [
      "Example test output\n"
     ]
    },
    {
     "data": {
      "text/html": [
       "<pre style=\"white-space:pre;overflow-x:auto;line-height:normal;font-family:Menlo,'DejaVu Sans Mono',consolas,'Courier New',monospace\"><span style=\"background-color: #ff0000\">      </span>  [8, 8, 8]\n",
       "<span style=\"background-color: #ff0000\">  </span><span style=\"background-color: #008080\">  </span><span style=\"background-color: #ff0000\">  </span>  [8, 6, 8]\n",
       "\n",
       "</pre>\n"
      ],
      "text/plain": [
       "\u001b[101m  \u001b[0m\u001b[101m  \u001b[0m\u001b[101m  \u001b[0m  [8, 8, 8]\n",
       "\u001b[101m  \u001b[0m\u001b[46m  \u001b[0m\u001b[101m  \u001b[0m  [8, 6, 8]\n",
       "\n"
      ]
     },
     "metadata": {},
     "output_type": "display_data"
    },
    {
     "name": "stdout",
     "output_type": "stream",
     "text": [
      "==================================================\n",
      "53\n",
      "==================================================\n",
      "Example input\n"
     ]
    },
    {
     "data": {
      "text/html": [
       "<pre style=\"white-space:pre;overflow-x:auto;line-height:normal;font-family:Menlo,'DejaVu Sans Mono',consolas,'Courier New',monospace\"><span style=\"background-color: #c0c0c0\">              </span>  [7, 7, 7, 7, 7, 7, 7]\n",
       "<span style=\"background-color: #c0c0c0\">        </span><span style=\"background-color: #000000\">    </span><span style=\"background-color: #c0c0c0\">  </span>  [7, 7, 7, 7, 0, 0, 7]\n",
       "<span style=\"background-color: #c0c0c0\">        </span><span style=\"background-color: #000000\">    </span><span style=\"background-color: #c0c0c0\">  </span>  [7, 7, 7, 7, 0, 0, 7]\n",
       "<span style=\"background-color: #c0c0c0\">        </span><span style=\"background-color: #000000\">    </span><span style=\"background-color: #c0c0c0\">  </span>  [7, 7, 7, 7, 0, 0, 7]\n",
       "<span style=\"background-color: #c0c0c0\">        </span><span style=\"background-color: #000000\">    </span><span style=\"background-color: #c0c0c0\">  </span>  [7, 7, 7, 7, 0, 0, 7]\n",
       "<span style=\"background-color: #c0c0c0\">        </span><span style=\"background-color: #000000\">    </span><span style=\"background-color: #c0c0c0\">  </span>  [7, 7, 7, 7, 0, 0, 7]\n",
       "<span style=\"background-color: #c0c0c0\">        </span><span style=\"background-color: #000000\">    </span><span style=\"background-color: #c0c0c0\">  </span>  [7, 7, 7, 7, 0, 0, 7]\n",
       "<span style=\"background-color: #c0c0c0\">        </span><span style=\"background-color: #000000\">    </span><span style=\"background-color: #c0c0c0\">  </span>  [7, 7, 7, 7, 0, 0, 7]\n",
       "<span style=\"background-color: #c0c0c0\">              </span>  [7, 7, 7, 7, 7, 7, 7]\n",
       "<span style=\"background-color: #c0c0c0\">              </span>  [7, 7, 7, 7, 7, 7, 7]\n",
       "\n",
       "</pre>\n"
      ],
      "text/plain": [
       "\u001b[47m  \u001b[0m\u001b[47m  \u001b[0m\u001b[47m  \u001b[0m\u001b[47m  \u001b[0m\u001b[47m  \u001b[0m\u001b[47m  \u001b[0m\u001b[47m  \u001b[0m  [7, 7, 7, 7, 7, 7, 7]\n",
       "\u001b[47m  \u001b[0m\u001b[47m  \u001b[0m\u001b[47m  \u001b[0m\u001b[47m  \u001b[0m\u001b[40m  \u001b[0m\u001b[40m  \u001b[0m\u001b[47m  \u001b[0m  [7, 7, 7, 7, 0, 0, 7]\n",
       "\u001b[47m  \u001b[0m\u001b[47m  \u001b[0m\u001b[47m  \u001b[0m\u001b[47m  \u001b[0m\u001b[40m  \u001b[0m\u001b[40m  \u001b[0m\u001b[47m  \u001b[0m  [7, 7, 7, 7, 0, 0, 7]\n",
       "\u001b[47m  \u001b[0m\u001b[47m  \u001b[0m\u001b[47m  \u001b[0m\u001b[47m  \u001b[0m\u001b[40m  \u001b[0m\u001b[40m  \u001b[0m\u001b[47m  \u001b[0m  [7, 7, 7, 7, 0, 0, 7]\n",
       "\u001b[47m  \u001b[0m\u001b[47m  \u001b[0m\u001b[47m  \u001b[0m\u001b[47m  \u001b[0m\u001b[40m  \u001b[0m\u001b[40m  \u001b[0m\u001b[47m  \u001b[0m  [7, 7, 7, 7, 0, 0, 7]\n",
       "\u001b[47m  \u001b[0m\u001b[47m  \u001b[0m\u001b[47m  \u001b[0m\u001b[47m  \u001b[0m\u001b[40m  \u001b[0m\u001b[40m  \u001b[0m\u001b[47m  \u001b[0m  [7, 7, 7, 7, 0, 0, 7]\n",
       "\u001b[47m  \u001b[0m\u001b[47m  \u001b[0m\u001b[47m  \u001b[0m\u001b[47m  \u001b[0m\u001b[40m  \u001b[0m\u001b[40m  \u001b[0m\u001b[47m  \u001b[0m  [7, 7, 7, 7, 0, 0, 7]\n",
       "\u001b[47m  \u001b[0m\u001b[47m  \u001b[0m\u001b[47m  \u001b[0m\u001b[47m  \u001b[0m\u001b[40m  \u001b[0m\u001b[40m  \u001b[0m\u001b[47m  \u001b[0m  [7, 7, 7, 7, 0, 0, 7]\n",
       "\u001b[47m  \u001b[0m\u001b[47m  \u001b[0m\u001b[47m  \u001b[0m\u001b[47m  \u001b[0m\u001b[47m  \u001b[0m\u001b[47m  \u001b[0m\u001b[47m  \u001b[0m  [7, 7, 7, 7, 7, 7, 7]\n",
       "\u001b[47m  \u001b[0m\u001b[47m  \u001b[0m\u001b[47m  \u001b[0m\u001b[47m  \u001b[0m\u001b[47m  \u001b[0m\u001b[47m  \u001b[0m\u001b[47m  \u001b[0m  [7, 7, 7, 7, 7, 7, 7]\n",
       "\n"
      ]
     },
     "metadata": {},
     "output_type": "display_data"
    },
    {
     "name": "stdout",
     "output_type": "stream",
     "text": [
      "Example output\n"
     ]
    },
    {
     "data": {
      "text/html": [
       "<pre style=\"white-space:pre;overflow-x:auto;line-height:normal;font-family:Menlo,'DejaVu Sans Mono',consolas,'Courier New',monospace\"><span style=\"background-color: #000000\">    </span>  [0, 0]\n",
       "<span style=\"background-color: #000000\">    </span>  [0, 0]\n",
       "<span style=\"background-color: #000000\">    </span>  [0, 0]\n",
       "<span style=\"background-color: #000000\">    </span>  [0, 0]\n",
       "<span style=\"background-color: #000000\">    </span>  [0, 0]\n",
       "<span style=\"background-color: #000000\">    </span>  [0, 0]\n",
       "<span style=\"background-color: #000000\">    </span>  [0, 0]\n",
       "\n",
       "</pre>\n"
      ],
      "text/plain": [
       "\u001b[40m  \u001b[0m\u001b[40m  \u001b[0m  [0, 0]\n",
       "\u001b[40m  \u001b[0m\u001b[40m  \u001b[0m  [0, 0]\n",
       "\u001b[40m  \u001b[0m\u001b[40m  \u001b[0m  [0, 0]\n",
       "\u001b[40m  \u001b[0m\u001b[40m  \u001b[0m  [0, 0]\n",
       "\u001b[40m  \u001b[0m\u001b[40m  \u001b[0m  [0, 0]\n",
       "\u001b[40m  \u001b[0m\u001b[40m  \u001b[0m  [0, 0]\n",
       "\u001b[40m  \u001b[0m\u001b[40m  \u001b[0m  [0, 0]\n",
       "\n"
      ]
     },
     "metadata": {},
     "output_type": "display_data"
    },
    {
     "name": "stdout",
     "output_type": "stream",
     "text": [
      "==================================================\n",
      "Example test input\n"
     ]
    },
    {
     "data": {
      "text/html": [
       "<pre style=\"white-space:pre;overflow-x:auto;line-height:normal;font-family:Menlo,'DejaVu Sans Mono',consolas,'Courier New',monospace\"><span style=\"background-color: #800000\">                    </span>  [1, 1, 1, 1, 1, 1, 1, 1, 1, 1]\n",
       "<span style=\"background-color: #800000\">                    </span>  [1, 1, 1, 1, 1, 1, 1, 1, 1, 1]\n",
       "<span style=\"background-color: #800000\">            </span><span style=\"background-color: #808000\">      </span><span style=\"background-color: #800000\">  </span>  [1, 1, 1, 1, 1, 1, 3, 3, 3, 1]\n",
       "<span style=\"background-color: #800000\">            </span><span style=\"background-color: #808000\">      </span><span style=\"background-color: #800000\">  </span>  [1, 1, 1, 1, 1, 1, 3, 3, 3, 1]\n",
       "<span style=\"background-color: #800000\">                    </span>  [1, 1, 1, 1, 1, 1, 1, 1, 1, 1]\n",
       "<span style=\"background-color: #800000\">              </span><span style=\"background-color: #000000\">    </span><span style=\"background-color: #800000\">  </span>  [1, 1, 1, 1, 1, 1, 1, 0, 0, 1]\n",
       "\n",
       "</pre>\n"
      ],
      "text/plain": [
       "\u001b[41m  \u001b[0m\u001b[41m  \u001b[0m\u001b[41m  \u001b[0m\u001b[41m  \u001b[0m\u001b[41m  \u001b[0m\u001b[41m  \u001b[0m\u001b[41m  \u001b[0m\u001b[41m  \u001b[0m\u001b[41m  \u001b[0m\u001b[41m  \u001b[0m  [1, 1, 1, 1, 1, 1, 1, 1, 1, 1]\n",
       "\u001b[41m  \u001b[0m\u001b[41m  \u001b[0m\u001b[41m  \u001b[0m\u001b[41m  \u001b[0m\u001b[41m  \u001b[0m\u001b[41m  \u001b[0m\u001b[41m  \u001b[0m\u001b[41m  \u001b[0m\u001b[41m  \u001b[0m\u001b[41m  \u001b[0m  [1, 1, 1, 1, 1, 1, 1, 1, 1, 1]\n",
       "\u001b[41m  \u001b[0m\u001b[41m  \u001b[0m\u001b[41m  \u001b[0m\u001b[41m  \u001b[0m\u001b[41m  \u001b[0m\u001b[41m  \u001b[0m\u001b[43m  \u001b[0m\u001b[43m  \u001b[0m\u001b[43m  \u001b[0m\u001b[41m  \u001b[0m  [1, 1, 1, 1, 1, 1, 3, 3, 3, 1]\n",
       "\u001b[41m  \u001b[0m\u001b[41m  \u001b[0m\u001b[41m  \u001b[0m\u001b[41m  \u001b[0m\u001b[41m  \u001b[0m\u001b[41m  \u001b[0m\u001b[43m  \u001b[0m\u001b[43m  \u001b[0m\u001b[43m  \u001b[0m\u001b[41m  \u001b[0m  [1, 1, 1, 1, 1, 1, 3, 3, 3, 1]\n",
       "\u001b[41m  \u001b[0m\u001b[41m  \u001b[0m\u001b[41m  \u001b[0m\u001b[41m  \u001b[0m\u001b[41m  \u001b[0m\u001b[41m  \u001b[0m\u001b[41m  \u001b[0m\u001b[41m  \u001b[0m\u001b[41m  \u001b[0m\u001b[41m  \u001b[0m  [1, 1, 1, 1, 1, 1, 1, 1, 1, 1]\n",
       "\u001b[41m  \u001b[0m\u001b[41m  \u001b[0m\u001b[41m  \u001b[0m\u001b[41m  \u001b[0m\u001b[41m  \u001b[0m\u001b[41m  \u001b[0m\u001b[41m  \u001b[0m\u001b[40m  \u001b[0m\u001b[40m  \u001b[0m\u001b[41m  \u001b[0m  [1, 1, 1, 1, 1, 1, 1, 0, 0, 1]\n",
       "\n"
      ]
     },
     "metadata": {},
     "output_type": "display_data"
    },
    {
     "name": "stdout",
     "output_type": "stream",
     "text": [
      "Example test output\n"
     ]
    },
    {
     "data": {
      "text/html": [
       "<pre style=\"white-space:pre;overflow-x:auto;line-height:normal;font-family:Menlo,'DejaVu Sans Mono',consolas,'Courier New',monospace\"><span style=\"background-color: #000000\">    </span>  [0, 0]\n",
       "\n",
       "</pre>\n"
      ],
      "text/plain": [
       "\u001b[40m  \u001b[0m\u001b[40m  \u001b[0m  [0, 0]\n",
       "\n"
      ]
     },
     "metadata": {},
     "output_type": "display_data"
    },
    {
     "name": "stdout",
     "output_type": "stream",
     "text": [
      "==================================================\n",
      "55\n",
      "==================================================\n",
      "Example input\n"
     ]
    },
    {
     "data": {
      "text/html": [
       "<pre style=\"white-space:pre;overflow-x:auto;line-height:normal;font-family:Menlo,'DejaVu Sans Mono',consolas,'Courier New',monospace\"><span style=\"background-color: #008000\">  </span><span style=\"background-color: #000000\">  </span><span style=\"background-color: #008000\">  </span>  [2, 0, 2]\n",
       "<span style=\"background-color: #008000\">      </span>  [2, 2, 2]\n",
       "<span style=\"background-color: #008000\">  </span><span style=\"background-color: #800080\">  </span><span style=\"background-color: #00ff00\">  </span>  [2, 5, 9]\n",
       "\n",
       "</pre>\n"
      ],
      "text/plain": [
       "\u001b[42m  \u001b[0m\u001b[40m  \u001b[0m\u001b[42m  \u001b[0m  [2, 0, 2]\n",
       "\u001b[42m  \u001b[0m\u001b[42m  \u001b[0m\u001b[42m  \u001b[0m  [2, 2, 2]\n",
       "\u001b[42m  \u001b[0m\u001b[45m  \u001b[0m\u001b[102m  \u001b[0m  [2, 5, 9]\n",
       "\n"
      ]
     },
     "metadata": {},
     "output_type": "display_data"
    },
    {
     "name": "stdout",
     "output_type": "stream",
     "text": [
      "Example output\n"
     ]
    },
    {
     "data": {
      "text/html": [
       "<pre style=\"white-space:pre;overflow-x:auto;line-height:normal;font-family:Menlo,'DejaVu Sans Mono',consolas,'Courier New',monospace\"><span style=\"background-color: #008000\">  </span><span style=\"background-color: #000000\">  </span><span style=\"background-color: #008000\">  </span><span style=\"background-color: #000000\">      </span><span style=\"background-color: #008000\">  </span><span style=\"background-color: #000000\">  </span><span style=\"background-color: #008000\">  </span>  [2, 0, 2, 0, 0, 0, 2, 0, 2]\n",
       "<span style=\"background-color: #008000\">      </span><span style=\"background-color: #000000\">      </span><span style=\"background-color: #008000\">      </span>  [2, 2, 2, 0, 0, 0, 2, 2, 2]\n",
       "<span style=\"background-color: #008000\">  </span><span style=\"background-color: #800080\">  </span><span style=\"background-color: #00ff00\">  </span><span style=\"background-color: #000000\">      </span><span style=\"background-color: #008000\">  </span><span style=\"background-color: #800080\">  </span><span style=\"background-color: #00ff00\">  </span>  [2, 5, 9, 0, 0, 0, 2, 5, 9]\n",
       "<span style=\"background-color: #008000\">  </span><span style=\"background-color: #000000\">  </span><span style=\"background-color: #008000\">    </span><span style=\"background-color: #000000\">  </span><span style=\"background-color: #008000\">    </span><span style=\"background-color: #000000\">  </span><span style=\"background-color: #008000\">  </span>  [2, 0, 2, 2, 0, 2, 2, 0, 2]\n",
       "<span style=\"background-color: #008000\">                  </span>  [2, 2, 2, 2, 2, 2, 2, 2, 2]\n",
       "<span style=\"background-color: #008000\">  </span><span style=\"background-color: #800080\">  </span><span style=\"background-color: #00ff00\">  </span><span style=\"background-color: #008000\">  </span><span style=\"background-color: #800080\">  </span><span style=\"background-color: #00ff00\">  </span><span style=\"background-color: #008000\">  </span><span style=\"background-color: #800080\">  </span><span style=\"background-color: #00ff00\">  </span>  [2, 5, 9, 2, 5, 9, 2, 5, 9]\n",
       "<span style=\"background-color: #008000\">  </span><span style=\"background-color: #000000\">  </span><span style=\"background-color: #008000\">  </span><span style=\"background-color: #000000\">            </span>  [2, 0, 2, 0, 0, 0, 0, 0, 0]\n",
       "<span style=\"background-color: #008000\">      </span><span style=\"background-color: #000000\">            </span>  [2, 2, 2, 0, 0, 0, 0, 0, 0]\n",
       "<span style=\"background-color: #008000\">  </span><span style=\"background-color: #800080\">  </span><span style=\"background-color: #00ff00\">  </span><span style=\"background-color: #000000\">            </span>  [2, 5, 9, 0, 0, 0, 0, 0, 0]\n",
       "\n",
       "</pre>\n"
      ],
      "text/plain": [
       "\u001b[42m  \u001b[0m\u001b[40m  \u001b[0m\u001b[42m  \u001b[0m\u001b[40m  \u001b[0m\u001b[40m  \u001b[0m\u001b[40m  \u001b[0m\u001b[42m  \u001b[0m\u001b[40m  \u001b[0m\u001b[42m  \u001b[0m  [2, 0, 2, 0, 0, 0, 2, 0, 2]\n",
       "\u001b[42m  \u001b[0m\u001b[42m  \u001b[0m\u001b[42m  \u001b[0m\u001b[40m  \u001b[0m\u001b[40m  \u001b[0m\u001b[40m  \u001b[0m\u001b[42m  \u001b[0m\u001b[42m  \u001b[0m\u001b[42m  \u001b[0m  [2, 2, 2, 0, 0, 0, 2, 2, 2]\n",
       "\u001b[42m  \u001b[0m\u001b[45m  \u001b[0m\u001b[102m  \u001b[0m\u001b[40m  \u001b[0m\u001b[40m  \u001b[0m\u001b[40m  \u001b[0m\u001b[42m  \u001b[0m\u001b[45m  \u001b[0m\u001b[102m  \u001b[0m  [2, 5, 9, 0, 0, 0, 2, 5, 9]\n",
       "\u001b[42m  \u001b[0m\u001b[40m  \u001b[0m\u001b[42m  \u001b[0m\u001b[42m  \u001b[0m\u001b[40m  \u001b[0m\u001b[42m  \u001b[0m\u001b[42m  \u001b[0m\u001b[40m  \u001b[0m\u001b[42m  \u001b[0m  [2, 0, 2, 2, 0, 2, 2, 0, 2]\n",
       "\u001b[42m  \u001b[0m\u001b[42m  \u001b[0m\u001b[42m  \u001b[0m\u001b[42m  \u001b[0m\u001b[42m  \u001b[0m\u001b[42m  \u001b[0m\u001b[42m  \u001b[0m\u001b[42m  \u001b[0m\u001b[42m  \u001b[0m  [2, 2, 2, 2, 2, 2, 2, 2, 2]\n",
       "\u001b[42m  \u001b[0m\u001b[45m  \u001b[0m\u001b[102m  \u001b[0m\u001b[42m  \u001b[0m\u001b[45m  \u001b[0m\u001b[102m  \u001b[0m\u001b[42m  \u001b[0m\u001b[45m  \u001b[0m\u001b[102m  \u001b[0m  [2, 5, 9, 2, 5, 9, 2, 5, 9]\n",
       "\u001b[42m  \u001b[0m\u001b[40m  \u001b[0m\u001b[42m  \u001b[0m\u001b[40m  \u001b[0m\u001b[40m  \u001b[0m\u001b[40m  \u001b[0m\u001b[40m  \u001b[0m\u001b[40m  \u001b[0m\u001b[40m  \u001b[0m  [2, 0, 2, 0, 0, 0, 0, 0, 0]\n",
       "\u001b[42m  \u001b[0m\u001b[42m  \u001b[0m\u001b[42m  \u001b[0m\u001b[40m  \u001b[0m\u001b[40m  \u001b[0m\u001b[40m  \u001b[0m\u001b[40m  \u001b[0m\u001b[40m  \u001b[0m\u001b[40m  \u001b[0m  [2, 2, 2, 0, 0, 0, 0, 0, 0]\n",
       "\u001b[42m  \u001b[0m\u001b[45m  \u001b[0m\u001b[102m  \u001b[0m\u001b[40m  \u001b[0m\u001b[40m  \u001b[0m\u001b[40m  \u001b[0m\u001b[40m  \u001b[0m\u001b[40m  \u001b[0m\u001b[40m  \u001b[0m  [2, 5, 9, 0, 0, 0, 0, 0, 0]\n",
       "\n"
      ]
     },
     "metadata": {},
     "output_type": "display_data"
    },
    {
     "name": "stdout",
     "output_type": "stream",
     "text": [
      "==================================================\n",
      "Example test input\n"
     ]
    },
    {
     "data": {
      "text/html": [
       "<pre style=\"white-space:pre;overflow-x:auto;line-height:normal;font-family:Menlo,'DejaVu Sans Mono',consolas,'Courier New',monospace\"><span style=\"background-color: #008000\">  </span><span style=\"background-color: #00ff00\">  </span><span style=\"background-color: #008000\">  </span>  [2, 9, 2]\n",
       "<span style=\"background-color: #008000\">    </span><span style=\"background-color: #000000\">  </span>  [2, 2, 0]\n",
       "\n",
       "</pre>\n"
      ],
      "text/plain": [
       "\u001b[42m  \u001b[0m\u001b[102m  \u001b[0m\u001b[42m  \u001b[0m  [2, 9, 2]\n",
       "\u001b[42m  \u001b[0m\u001b[42m  \u001b[0m\u001b[40m  \u001b[0m  [2, 2, 0]\n",
       "\n"
      ]
     },
     "metadata": {},
     "output_type": "display_data"
    },
    {
     "name": "stdout",
     "output_type": "stream",
     "text": [
      "Example test output\n"
     ]
    },
    {
     "data": {
      "text/html": [
       "<pre style=\"white-space:pre;overflow-x:auto;line-height:normal;font-family:Menlo,'DejaVu Sans Mono',consolas,'Courier New',monospace\"><span style=\"background-color: #008000\">  </span><span style=\"background-color: #00ff00\">  </span><span style=\"background-color: #008000\">  </span><span style=\"background-color: #000000\">      </span><span style=\"background-color: #008000\">  </span><span style=\"background-color: #00ff00\">  </span><span style=\"background-color: #008000\">  </span>  [2, 9, 2, 0, 0, 0, 2, 9, 2]\n",
       "<span style=\"background-color: #008000\">    </span><span style=\"background-color: #000000\">        </span><span style=\"background-color: #008000\">    </span><span style=\"background-color: #000000\">  </span>  [2, 2, 0, 0, 0, 0, 2, 2, 0]\n",
       "<span style=\"background-color: #008000\">  </span><span style=\"background-color: #00ff00\">  </span><span style=\"background-color: #008000\">    </span><span style=\"background-color: #00ff00\">  </span><span style=\"background-color: #008000\">  </span><span style=\"background-color: #000000\">      </span>  [2, 9, 2, 2, 9, 2, 0, 0, 0]\n",
       "<span style=\"background-color: #008000\">    </span><span style=\"background-color: #000000\">  </span><span style=\"background-color: #008000\">    </span><span style=\"background-color: #000000\">        </span>  [2, 2, 0, 2, 2, 0, 0, 0, 0]\n",
       "\n",
       "</pre>\n"
      ],
      "text/plain": [
       "\u001b[42m  \u001b[0m\u001b[102m  \u001b[0m\u001b[42m  \u001b[0m\u001b[40m  \u001b[0m\u001b[40m  \u001b[0m\u001b[40m  \u001b[0m\u001b[42m  \u001b[0m\u001b[102m  \u001b[0m\u001b[42m  \u001b[0m  [2, 9, 2, 0, 0, 0, 2, 9, 2]\n",
       "\u001b[42m  \u001b[0m\u001b[42m  \u001b[0m\u001b[40m  \u001b[0m\u001b[40m  \u001b[0m\u001b[40m  \u001b[0m\u001b[40m  \u001b[0m\u001b[42m  \u001b[0m\u001b[42m  \u001b[0m\u001b[40m  \u001b[0m  [2, 2, 0, 0, 0, 0, 2, 2, 0]\n",
       "\u001b[42m  \u001b[0m\u001b[102m  \u001b[0m\u001b[42m  \u001b[0m\u001b[42m  \u001b[0m\u001b[102m  \u001b[0m\u001b[42m  \u001b[0m\u001b[40m  \u001b[0m\u001b[40m  \u001b[0m\u001b[40m  \u001b[0m  [2, 9, 2, 2, 9, 2, 0, 0, 0]\n",
       "\u001b[42m  \u001b[0m\u001b[42m  \u001b[0m\u001b[40m  \u001b[0m\u001b[42m  \u001b[0m\u001b[42m  \u001b[0m\u001b[40m  \u001b[0m\u001b[40m  \u001b[0m\u001b[40m  \u001b[0m\u001b[40m  \u001b[0m  [2, 2, 0, 2, 2, 0, 0, 0, 0]\n",
       "\n"
      ]
     },
     "metadata": {},
     "output_type": "display_data"
    },
    {
     "name": "stdout",
     "output_type": "stream",
     "text": [
      "==================================================\n",
      "56\n",
      "==================================================\n",
      "Example input\n"
     ]
    },
    {
     "data": {
      "text/html": [
       "<pre style=\"white-space:pre;overflow-x:auto;line-height:normal;font-family:Menlo,'DejaVu Sans Mono',consolas,'Courier New',monospace\"><span style=\"background-color: #00ff00\">    </span><span style=\"background-color: #ff0000\">  </span><span style=\"background-color: #00ff00\">    </span><span style=\"background-color: #008080\">  </span>  [9, 9, 8, 9, 9, 6]\n",
       "<span style=\"background-color: #00ff00\">  </span><span style=\"background-color: #808000\">  </span><span style=\"background-color: #00ff00\">        </span>  [9, 3, 9, 9, 9, 9]\n",
       "<span style=\"background-color: #800080\">  </span><span style=\"background-color: #00ff00\">          </span>  [5, 9, 9, 9, 9, 9]\n",
       "<span style=\"background-color: #00ff00\">            </span>  [9, 9, 9, 9, 9, 9]\n",
       "<span style=\"background-color: #00ff00\">            </span>  [9, 9, 9, 9, 9, 9]\n",
       "<span style=\"background-color: #00ff00\">      </span><span style=\"background-color: #008000\">  </span><span style=\"background-color: #00ff00\">    </span>  [9, 9, 9, 2, 9, 9]\n",
       "\n",
       "</pre>\n"
      ],
      "text/plain": [
       "\u001b[102m  \u001b[0m\u001b[102m  \u001b[0m\u001b[101m  \u001b[0m\u001b[102m  \u001b[0m\u001b[102m  \u001b[0m\u001b[46m  \u001b[0m  [9, 9, 8, 9, 9, 6]\n",
       "\u001b[102m  \u001b[0m\u001b[43m  \u001b[0m\u001b[102m  \u001b[0m\u001b[102m  \u001b[0m\u001b[102m  \u001b[0m\u001b[102m  \u001b[0m  [9, 3, 9, 9, 9, 9]\n",
       "\u001b[45m  \u001b[0m\u001b[102m  \u001b[0m\u001b[102m  \u001b[0m\u001b[102m  \u001b[0m\u001b[102m  \u001b[0m\u001b[102m  \u001b[0m  [5, 9, 9, 9, 9, 9]\n",
       "\u001b[102m  \u001b[0m\u001b[102m  \u001b[0m\u001b[102m  \u001b[0m\u001b[102m  \u001b[0m\u001b[102m  \u001b[0m\u001b[102m  \u001b[0m  [9, 9, 9, 9, 9, 9]\n",
       "\u001b[102m  \u001b[0m\u001b[102m  \u001b[0m\u001b[102m  \u001b[0m\u001b[102m  \u001b[0m\u001b[102m  \u001b[0m\u001b[102m  \u001b[0m  [9, 9, 9, 9, 9, 9]\n",
       "\u001b[102m  \u001b[0m\u001b[102m  \u001b[0m\u001b[102m  \u001b[0m\u001b[42m  \u001b[0m\u001b[102m  \u001b[0m\u001b[102m  \u001b[0m  [9, 9, 9, 2, 9, 9]\n",
       "\n"
      ]
     },
     "metadata": {},
     "output_type": "display_data"
    },
    {
     "name": "stdout",
     "output_type": "stream",
     "text": [
      "Example output\n"
     ]
    },
    {
     "data": {
      "text/html": [
       "<pre style=\"white-space:pre;overflow-x:auto;line-height:normal;font-family:Menlo,'DejaVu Sans Mono',consolas,'Courier New',monospace\"><span style=\"background-color: #800080\">  </span><span style=\"background-color: #808000\">  </span><span style=\"background-color: #ff0000\">  </span>  [5, 3, 8]\n",
       "<span style=\"background-color: #00ff00\">  </span><span style=\"background-color: #008080\">  </span><span style=\"background-color: #008000\">  </span>  [9, 6, 2]\n",
       "<span style=\"background-color: #00ff00\">      </span>  [9, 9, 9]\n",
       "\n",
       "</pre>\n"
      ],
      "text/plain": [
       "\u001b[45m  \u001b[0m\u001b[43m  \u001b[0m\u001b[101m  \u001b[0m  [5, 3, 8]\n",
       "\u001b[102m  \u001b[0m\u001b[46m  \u001b[0m\u001b[42m  \u001b[0m  [9, 6, 2]\n",
       "\u001b[102m  \u001b[0m\u001b[102m  \u001b[0m\u001b[102m  \u001b[0m  [9, 9, 9]\n",
       "\n"
      ]
     },
     "metadata": {},
     "output_type": "display_data"
    },
    {
     "name": "stdout",
     "output_type": "stream",
     "text": [
      "==================================================\n",
      "Example test input\n"
     ]
    },
    {
     "data": {
      "text/html": [
       "<pre style=\"white-space:pre;overflow-x:auto;line-height:normal;font-family:Menlo,'DejaVu Sans Mono',consolas,'Courier New',monospace\"><span style=\"background-color: #008000\">          </span><span style=\"background-color: #800000\">  </span><span style=\"background-color: #008000\">    </span>  [2, 2, 2, 2, 2, 1, 2, 2]\n",
       "<span style=\"background-color: #008000\">      </span><span style=\"background-color: #c0c0c0\">  </span><span style=\"background-color: #008000\">    </span><span style=\"background-color: #000000\">  </span><span style=\"background-color: #008000\">  </span>  [2, 2, 2, 7, 2, 2, 0, 2]\n",
       "<span style=\"background-color: #008000\">                </span>  [2, 2, 2, 2, 2, 2, 2, 2]\n",
       "<span style=\"background-color: #008000\">    </span><span style=\"background-color: #808000\">  </span><span style=\"background-color: #008000\">  </span><span style=\"background-color: #800000\">  </span><span style=\"background-color: #008000\">      </span>  [2, 2, 3, 2, 1, 2, 2, 2]\n",
       "<span style=\"background-color: #008000\">  </span><span style=\"background-color: #000000\">  </span><span style=\"background-color: #008000\">            </span>  [2, 0, 2, 2, 2, 2, 2, 2]\n",
       "\n",
       "</pre>\n"
      ],
      "text/plain": [
       "\u001b[42m  \u001b[0m\u001b[42m  \u001b[0m\u001b[42m  \u001b[0m\u001b[42m  \u001b[0m\u001b[42m  \u001b[0m\u001b[41m  \u001b[0m\u001b[42m  \u001b[0m\u001b[42m  \u001b[0m  [2, 2, 2, 2, 2, 1, 2, 2]\n",
       "\u001b[42m  \u001b[0m\u001b[42m  \u001b[0m\u001b[42m  \u001b[0m\u001b[47m  \u001b[0m\u001b[42m  \u001b[0m\u001b[42m  \u001b[0m\u001b[40m  \u001b[0m\u001b[42m  \u001b[0m  [2, 2, 2, 7, 2, 2, 0, 2]\n",
       "\u001b[42m  \u001b[0m\u001b[42m  \u001b[0m\u001b[42m  \u001b[0m\u001b[42m  \u001b[0m\u001b[42m  \u001b[0m\u001b[42m  \u001b[0m\u001b[42m  \u001b[0m\u001b[42m  \u001b[0m  [2, 2, 2, 2, 2, 2, 2, 2]\n",
       "\u001b[42m  \u001b[0m\u001b[42m  \u001b[0m\u001b[43m  \u001b[0m\u001b[42m  \u001b[0m\u001b[41m  \u001b[0m\u001b[42m  \u001b[0m\u001b[42m  \u001b[0m\u001b[42m  \u001b[0m  [2, 2, 3, 2, 1, 2, 2, 2]\n",
       "\u001b[42m  \u001b[0m\u001b[40m  \u001b[0m\u001b[42m  \u001b[0m\u001b[42m  \u001b[0m\u001b[42m  \u001b[0m\u001b[42m  \u001b[0m\u001b[42m  \u001b[0m\u001b[42m  \u001b[0m  [2, 0, 2, 2, 2, 2, 2, 2]\n",
       "\n"
      ]
     },
     "metadata": {},
     "output_type": "display_data"
    },
    {
     "name": "stdout",
     "output_type": "stream",
     "text": [
      "Example test output\n"
     ]
    },
    {
     "data": {
      "text/html": [
       "<pre style=\"white-space:pre;overflow-x:auto;line-height:normal;font-family:Menlo,'DejaVu Sans Mono',consolas,'Courier New',monospace\"><span style=\"background-color: #000000\">  </span><span style=\"background-color: #808000\">  </span><span style=\"background-color: #c0c0c0\">  </span>  [0, 3, 7]\n",
       "<span style=\"background-color: #000000\">  </span><span style=\"background-color: #800000\">    </span>  [0, 1, 1]\n",
       "<span style=\"background-color: #008000\">      </span>  [2, 2, 2]\n",
       "\n",
       "</pre>\n"
      ],
      "text/plain": [
       "\u001b[40m  \u001b[0m\u001b[43m  \u001b[0m\u001b[47m  \u001b[0m  [0, 3, 7]\n",
       "\u001b[40m  \u001b[0m\u001b[41m  \u001b[0m\u001b[41m  \u001b[0m  [0, 1, 1]\n",
       "\u001b[42m  \u001b[0m\u001b[42m  \u001b[0m\u001b[42m  \u001b[0m  [2, 2, 2]\n",
       "\n"
      ]
     },
     "metadata": {},
     "output_type": "display_data"
    },
    {
     "name": "stdout",
     "output_type": "stream",
     "text": [
      "==================================================\n",
      "57\n",
      "==================================================\n",
      "Example input\n"
     ]
    },
    {
     "data": {
      "text/html": [
       "<pre style=\"white-space:pre;overflow-x:auto;line-height:normal;font-family:Menlo,'DejaVu Sans Mono',consolas,'Courier New',monospace\"><span style=\"background-color: #00ff00\">  </span><span style=\"background-color: #c0c0c0\">  </span><span style=\"background-color: #800000\">  </span><span style=\"background-color: #800080\">  </span><span style=\"background-color: #008000\">  </span><span style=\"background-color: #800080\">    </span>  [9, 7, 1, 5, 2, 5, 5]\n",
       "<span style=\"background-color: #008080\">  </span><span style=\"background-color: #800080\">  </span><span style=\"background-color: #000000\">  </span><span style=\"background-color: #800080\">      </span><span style=\"background-color: #ff0000\">  </span>  [6, 5, 0, 5, 5, 5, 8]\n",
       "<span style=\"background-color: #808000\">  </span><span style=\"background-color: #800080\">      </span><span style=\"background-color: #c0c0c0\">  </span><span style=\"background-color: #800000\">  </span><span style=\"background-color: #800080\">  </span>  [3, 5, 5, 5, 7, 1, 5]\n",
       "\n",
       "</pre>\n"
      ],
      "text/plain": [
       "\u001b[102m  \u001b[0m\u001b[47m  \u001b[0m\u001b[41m  \u001b[0m\u001b[45m  \u001b[0m\u001b[42m  \u001b[0m\u001b[45m  \u001b[0m\u001b[45m  \u001b[0m  [9, 7, 1, 5, 2, 5, 5]\n",
       "\u001b[46m  \u001b[0m\u001b[45m  \u001b[0m\u001b[40m  \u001b[0m\u001b[45m  \u001b[0m\u001b[45m  \u001b[0m\u001b[45m  \u001b[0m\u001b[101m  \u001b[0m  [6, 5, 0, 5, 5, 5, 8]\n",
       "\u001b[43m  \u001b[0m\u001b[45m  \u001b[0m\u001b[45m  \u001b[0m\u001b[45m  \u001b[0m\u001b[47m  \u001b[0m\u001b[41m  \u001b[0m\u001b[45m  \u001b[0m  [3, 5, 5, 5, 7, 1, 5]\n",
       "\n"
      ]
     },
     "metadata": {},
     "output_type": "display_data"
    },
    {
     "name": "stdout",
     "output_type": "stream",
     "text": [
      "Example output\n"
     ]
    },
    {
     "data": {
      "text/html": [
       "<pre style=\"white-space:pre;overflow-x:auto;line-height:normal;font-family:Menlo,'DejaVu Sans Mono',consolas,'Courier New',monospace\"><span style=\"background-color: #800080\">  </span><span style=\"background-color: #ff0000\">  </span><span style=\"background-color: #800080\">  </span>  [5, 8, 5]\n",
       "<span style=\"background-color: #800080\">    </span><span style=\"background-color: #800000\">  </span>  [5, 5, 1]\n",
       "<span style=\"background-color: #008000\">  </span><span style=\"background-color: #800080\">  </span><span style=\"background-color: #c0c0c0\">  </span>  [2, 5, 7]\n",
       "<span style=\"background-color: #800080\">      </span>  [5, 5, 5]\n",
       "<span style=\"background-color: #800000\">  </span><span style=\"background-color: #000000\">  </span><span style=\"background-color: #800080\">  </span>  [1, 0, 5]\n",
       "<span style=\"background-color: #c0c0c0\">  </span><span style=\"background-color: #800080\">    </span>  [7, 5, 5]\n",
       "<span style=\"background-color: #00ff00\">  </span><span style=\"background-color: #008080\">  </span><span style=\"background-color: #808000\">  </span>  [9, 6, 3]\n",
       "\n",
       "</pre>\n"
      ],
      "text/plain": [
       "\u001b[45m  \u001b[0m\u001b[101m  \u001b[0m\u001b[45m  \u001b[0m  [5, 8, 5]\n",
       "\u001b[45m  \u001b[0m\u001b[45m  \u001b[0m\u001b[41m  \u001b[0m  [5, 5, 1]\n",
       "\u001b[42m  \u001b[0m\u001b[45m  \u001b[0m\u001b[47m  \u001b[0m  [2, 5, 7]\n",
       "\u001b[45m  \u001b[0m\u001b[45m  \u001b[0m\u001b[45m  \u001b[0m  [5, 5, 5]\n",
       "\u001b[41m  \u001b[0m\u001b[40m  \u001b[0m\u001b[45m  \u001b[0m  [1, 0, 5]\n",
       "\u001b[47m  \u001b[0m\u001b[45m  \u001b[0m\u001b[45m  \u001b[0m  [7, 5, 5]\n",
       "\u001b[102m  \u001b[0m\u001b[46m  \u001b[0m\u001b[43m  \u001b[0m  [9, 6, 3]\n",
       "\n"
      ]
     },
     "metadata": {},
     "output_type": "display_data"
    },
    {
     "name": "stdout",
     "output_type": "stream",
     "text": [
      "==================================================\n",
      "Example test input\n"
     ]
    },
    {
     "data": {
      "text/html": [
       "<pre style=\"white-space:pre;overflow-x:auto;line-height:normal;font-family:Menlo,'DejaVu Sans Mono',consolas,'Courier New',monospace\"><span style=\"background-color: #ff0000\">      </span><span style=\"background-color: #00ff00\">    </span><span style=\"background-color: #800000\">  </span><span style=\"background-color: #ff0000\">    </span>  [8, 8, 8, 9, 9, 1, 8, 8]\n",
       "<span style=\"background-color: #808000\">  </span><span style=\"background-color: #00ff00\">  </span><span style=\"background-color: #800000\">  </span><span style=\"background-color: #808000\">  </span><span style=\"background-color: #00ff00\">    </span><span style=\"background-color: #ff0000\">    </span>  [3, 9, 1, 3, 9, 9, 8, 8]\n",
       "<span style=\"background-color: #800000\">  </span><span style=\"background-color: #ff0000\">    </span><span style=\"background-color: #808000\">  </span><span style=\"background-color: #ff0000\">      </span><span style=\"background-color: #800000\">  </span>  [1, 8, 8, 3, 8, 8, 8, 1]\n",
       "<span style=\"background-color: #ff0000\">    </span><span style=\"background-color: #800000\">  </span><span style=\"background-color: #ff0000\">      </span><span style=\"background-color: #00ff00\">  </span><span style=\"background-color: #ff0000\">  </span>  [8, 8, 1, 8, 8, 8, 9, 8]\n",
       "<span style=\"background-color: #800000\">  </span><span style=\"background-color: #808000\">  </span><span style=\"background-color: #00ff00\">    </span><span style=\"background-color: #800000\">  </span><span style=\"background-color: #ff0000\">  </span><span style=\"background-color: #808000\">  </span><span style=\"background-color: #ff0000\">  </span>  [1, 3, 9, 9, 1, 8, 3, 8]\n",
       "<span style=\"background-color: #ff0000\">  </span><span style=\"background-color: #808000\">  </span><span style=\"background-color: #00ff00\">    </span><span style=\"background-color: #ff0000\">  </span><span style=\"background-color: #00ff00\">  </span><span style=\"background-color: #800000\">  </span><span style=\"background-color: #00ff00\">  </span>  [8, 3, 9, 9, 8, 9, 1, 9]\n",
       "\n",
       "</pre>\n"
      ],
      "text/plain": [
       "\u001b[101m  \u001b[0m\u001b[101m  \u001b[0m\u001b[101m  \u001b[0m\u001b[102m  \u001b[0m\u001b[102m  \u001b[0m\u001b[41m  \u001b[0m\u001b[101m  \u001b[0m\u001b[101m  \u001b[0m  [8, 8, 8, 9, 9, 1, 8, 8]\n",
       "\u001b[43m  \u001b[0m\u001b[102m  \u001b[0m\u001b[41m  \u001b[0m\u001b[43m  \u001b[0m\u001b[102m  \u001b[0m\u001b[102m  \u001b[0m\u001b[101m  \u001b[0m\u001b[101m  \u001b[0m  [3, 9, 1, 3, 9, 9, 8, 8]\n",
       "\u001b[41m  \u001b[0m\u001b[101m  \u001b[0m\u001b[101m  \u001b[0m\u001b[43m  \u001b[0m\u001b[101m  \u001b[0m\u001b[101m  \u001b[0m\u001b[101m  \u001b[0m\u001b[41m  \u001b[0m  [1, 8, 8, 3, 8, 8, 8, 1]\n",
       "\u001b[101m  \u001b[0m\u001b[101m  \u001b[0m\u001b[41m  \u001b[0m\u001b[101m  \u001b[0m\u001b[101m  \u001b[0m\u001b[101m  \u001b[0m\u001b[102m  \u001b[0m\u001b[101m  \u001b[0m  [8, 8, 1, 8, 8, 8, 9, 8]\n",
       "\u001b[41m  \u001b[0m\u001b[43m  \u001b[0m\u001b[102m  \u001b[0m\u001b[102m  \u001b[0m\u001b[41m  \u001b[0m\u001b[101m  \u001b[0m\u001b[43m  \u001b[0m\u001b[101m  \u001b[0m  [1, 3, 9, 9, 1, 8, 3, 8]\n",
       "\u001b[101m  \u001b[0m\u001b[43m  \u001b[0m\u001b[102m  \u001b[0m\u001b[102m  \u001b[0m\u001b[101m  \u001b[0m\u001b[102m  \u001b[0m\u001b[41m  \u001b[0m\u001b[102m  \u001b[0m  [8, 3, 9, 9, 8, 9, 1, 9]\n",
       "\n"
      ]
     },
     "metadata": {},
     "output_type": "display_data"
    },
    {
     "name": "stdout",
     "output_type": "stream",
     "text": [
      "Example test output\n"
     ]
    },
    {
     "data": {
      "text/html": [
       "<pre style=\"white-space:pre;overflow-x:auto;line-height:normal;font-family:Menlo,'DejaVu Sans Mono',consolas,'Courier New',monospace\"><span style=\"background-color: #ff0000\">    </span><span style=\"background-color: #800000\">  </span><span style=\"background-color: #ff0000\">    </span><span style=\"background-color: #00ff00\">  </span>  [8, 8, 1, 8, 8, 9]\n",
       "<span style=\"background-color: #ff0000\">      </span><span style=\"background-color: #00ff00\">  </span><span style=\"background-color: #808000\">  </span><span style=\"background-color: #800000\">  </span>  [8, 8, 8, 9, 3, 1]\n",
       "<span style=\"background-color: #800000\">  </span><span style=\"background-color: #00ff00\">  </span><span style=\"background-color: #ff0000\">      </span><span style=\"background-color: #00ff00\">  </span>  [1, 9, 8, 8, 8, 9]\n",
       "<span style=\"background-color: #00ff00\">    </span><span style=\"background-color: #ff0000\">    </span><span style=\"background-color: #800000\">  </span><span style=\"background-color: #ff0000\">  </span>  [9, 9, 8, 8, 1, 8]\n",
       "<span style=\"background-color: #00ff00\">  </span><span style=\"background-color: #808000\">    </span><span style=\"background-color: #ff0000\">  </span><span style=\"background-color: #00ff00\">    </span>  [9, 3, 3, 8, 9, 9]\n",
       "<span style=\"background-color: #ff0000\">  </span><span style=\"background-color: #800000\">  </span><span style=\"background-color: #ff0000\">  </span><span style=\"background-color: #800000\">  </span><span style=\"background-color: #00ff00\">    </span>  [8, 1, 8, 1, 9, 9]\n",
       "<span style=\"background-color: #ff0000\">  </span><span style=\"background-color: #00ff00\">  </span><span style=\"background-color: #ff0000\">    </span><span style=\"background-color: #808000\">    </span>  [8, 9, 8, 8, 3, 3]\n",
       "<span style=\"background-color: #ff0000\">  </span><span style=\"background-color: #808000\">  </span><span style=\"background-color: #800000\">  </span><span style=\"background-color: #ff0000\">  </span><span style=\"background-color: #800000\">  </span><span style=\"background-color: #ff0000\">  </span>  [8, 3, 1, 8, 1, 8]\n",
       "\n",
       "</pre>\n"
      ],
      "text/plain": [
       "\u001b[101m  \u001b[0m\u001b[101m  \u001b[0m\u001b[41m  \u001b[0m\u001b[101m  \u001b[0m\u001b[101m  \u001b[0m\u001b[102m  \u001b[0m  [8, 8, 1, 8, 8, 9]\n",
       "\u001b[101m  \u001b[0m\u001b[101m  \u001b[0m\u001b[101m  \u001b[0m\u001b[102m  \u001b[0m\u001b[43m  \u001b[0m\u001b[41m  \u001b[0m  [8, 8, 8, 9, 3, 1]\n",
       "\u001b[41m  \u001b[0m\u001b[102m  \u001b[0m\u001b[101m  \u001b[0m\u001b[101m  \u001b[0m\u001b[101m  \u001b[0m\u001b[102m  \u001b[0m  [1, 9, 8, 8, 8, 9]\n",
       "\u001b[102m  \u001b[0m\u001b[102m  \u001b[0m\u001b[101m  \u001b[0m\u001b[101m  \u001b[0m\u001b[41m  \u001b[0m\u001b[101m  \u001b[0m  [9, 9, 8, 8, 1, 8]\n",
       "\u001b[102m  \u001b[0m\u001b[43m  \u001b[0m\u001b[43m  \u001b[0m\u001b[101m  \u001b[0m\u001b[102m  \u001b[0m\u001b[102m  \u001b[0m  [9, 3, 3, 8, 9, 9]\n",
       "\u001b[101m  \u001b[0m\u001b[41m  \u001b[0m\u001b[101m  \u001b[0m\u001b[41m  \u001b[0m\u001b[102m  \u001b[0m\u001b[102m  \u001b[0m  [8, 1, 8, 1, 9, 9]\n",
       "\u001b[101m  \u001b[0m\u001b[102m  \u001b[0m\u001b[101m  \u001b[0m\u001b[101m  \u001b[0m\u001b[43m  \u001b[0m\u001b[43m  \u001b[0m  [8, 9, 8, 8, 3, 3]\n",
       "\u001b[101m  \u001b[0m\u001b[43m  \u001b[0m\u001b[41m  \u001b[0m\u001b[101m  \u001b[0m\u001b[41m  \u001b[0m\u001b[101m  \u001b[0m  [8, 3, 1, 8, 1, 8]\n",
       "\n"
      ]
     },
     "metadata": {},
     "output_type": "display_data"
    },
    {
     "name": "stdout",
     "output_type": "stream",
     "text": [
      "==================================================\n",
      "58\n",
      "==================================================\n",
      "Example input\n"
     ]
    },
    {
     "data": {
      "text/html": [
       "<pre style=\"white-space:pre;overflow-x:auto;line-height:normal;font-family:Menlo,'DejaVu Sans Mono',consolas,'Courier New',monospace\"><span style=\"background-color: #000080\">  </span><span style=\"background-color: #008000\">  </span><span style=\"background-color: #000000\">  </span><span style=\"background-color: #008000\">    </span><span style=\"background-color: #000080\">  </span><span style=\"background-color: #008000\">  </span><span style=\"background-color: #000000\">  </span>  [4, 2, 0, 2, 2, 4, 2, 0]\n",
       "<span style=\"background-color: #800000\">  </span><span style=\"background-color: #008000\">  </span><span style=\"background-color: #c0c0c0\">  </span><span style=\"background-color: #008000\">      </span><span style=\"background-color: #c0c0c0\">  </span><span style=\"background-color: #800000\">  </span>  [1, 2, 7, 2, 2, 2, 7, 1]\n",
       "<span style=\"background-color: #000080\">  </span><span style=\"background-color: #00ff00\">  </span><span style=\"background-color: #008000\">    </span><span style=\"background-color: #000000\">  </span><span style=\"background-color: #008000\">      </span>  [4, 9, 2, 2, 0, 2, 2, 2]\n",
       "<span style=\"background-color: #008000\">  </span><span style=\"background-color: #c0c0c0\">  </span><span style=\"background-color: #008000\">    </span><span style=\"background-color: #008080\">  </span><span style=\"background-color: #000000\">  </span><span style=\"background-color: #00ff00\">  </span><span style=\"background-color: #008000\">  </span>  [2, 7, 2, 2, 6, 0, 9, 2]\n",
       "\n",
       "</pre>\n"
      ],
      "text/plain": [
       "\u001b[44m  \u001b[0m\u001b[42m  \u001b[0m\u001b[40m  \u001b[0m\u001b[42m  \u001b[0m\u001b[42m  \u001b[0m\u001b[44m  \u001b[0m\u001b[42m  \u001b[0m\u001b[40m  \u001b[0m  [4, 2, 0, 2, 2, 4, 2, 0]\n",
       "\u001b[41m  \u001b[0m\u001b[42m  \u001b[0m\u001b[47m  \u001b[0m\u001b[42m  \u001b[0m\u001b[42m  \u001b[0m\u001b[42m  \u001b[0m\u001b[47m  \u001b[0m\u001b[41m  \u001b[0m  [1, 2, 7, 2, 2, 2, 7, 1]\n",
       "\u001b[44m  \u001b[0m\u001b[102m  \u001b[0m\u001b[42m  \u001b[0m\u001b[42m  \u001b[0m\u001b[40m  \u001b[0m\u001b[42m  \u001b[0m\u001b[42m  \u001b[0m\u001b[42m  \u001b[0m  [4, 9, 2, 2, 0, 2, 2, 2]\n",
       "\u001b[42m  \u001b[0m\u001b[47m  \u001b[0m\u001b[42m  \u001b[0m\u001b[42m  \u001b[0m\u001b[46m  \u001b[0m\u001b[40m  \u001b[0m\u001b[102m  \u001b[0m\u001b[42m  \u001b[0m  [2, 7, 2, 2, 6, 0, 9, 2]\n",
       "\n"
      ]
     },
     "metadata": {},
     "output_type": "display_data"
    },
    {
     "name": "stdout",
     "output_type": "stream",
     "text": [
      "Example output\n"
     ]
    },
    {
     "data": {
      "text/html": [
       "<pre style=\"white-space:pre;overflow-x:auto;line-height:normal;font-family:Menlo,'DejaVu Sans Mono',consolas,'Courier New',monospace\"><span style=\"background-color: #000080\">  </span><span style=\"background-color: #008000\">  </span><span style=\"background-color: #000000\">  </span><span style=\"background-color: #008000\">    </span><span style=\"background-color: #000080\">  </span><span style=\"background-color: #008000\">  </span><span style=\"background-color: #000000\">  </span>  [4, 2, 0, 2, 2, 4, 2, 0]\n",
       "<span style=\"background-color: #800000\">  </span><span style=\"background-color: #008000\">  </span><span style=\"background-color: #c0c0c0\">  </span><span style=\"background-color: #008000\">      </span><span style=\"background-color: #c0c0c0\">  </span><span style=\"background-color: #800000\">  </span>  [1, 2, 7, 2, 2, 2, 7, 1]\n",
       "<span style=\"background-color: #000080\">  </span><span style=\"background-color: #00ff00\">  </span><span style=\"background-color: #008000\">    </span><span style=\"background-color: #000000\">  </span><span style=\"background-color: #008000\">      </span>  [4, 9, 2, 2, 0, 2, 2, 2]\n",
       "<span style=\"background-color: #008000\">  </span><span style=\"background-color: #c0c0c0\">  </span><span style=\"background-color: #008000\">    </span><span style=\"background-color: #008080\">  </span><span style=\"background-color: #000000\">  </span><span style=\"background-color: #00ff00\">  </span><span style=\"background-color: #008000\">  </span>  [2, 7, 2, 2, 6, 0, 9, 2]\n",
       "<span style=\"background-color: #008000\">  </span><span style=\"background-color: #c0c0c0\">  </span><span style=\"background-color: #008000\">    </span><span style=\"background-color: #008080\">  </span><span style=\"background-color: #000000\">  </span><span style=\"background-color: #00ff00\">  </span><span style=\"background-color: #008000\">  </span>  [2, 7, 2, 2, 6, 0, 9, 2]\n",
       "<span style=\"background-color: #000080\">  </span><span style=\"background-color: #00ff00\">  </span><span style=\"background-color: #008000\">    </span><span style=\"background-color: #000000\">  </span><span style=\"background-color: #008000\">      </span>  [4, 9, 2, 2, 0, 2, 2, 2]\n",
       "<span style=\"background-color: #800000\">  </span><span style=\"background-color: #008000\">  </span><span style=\"background-color: #c0c0c0\">  </span><span style=\"background-color: #008000\">      </span><span style=\"background-color: #c0c0c0\">  </span><span style=\"background-color: #800000\">  </span>  [1, 2, 7, 2, 2, 2, 7, 1]\n",
       "<span style=\"background-color: #000080\">  </span><span style=\"background-color: #008000\">  </span><span style=\"background-color: #000000\">  </span><span style=\"background-color: #008000\">    </span><span style=\"background-color: #000080\">  </span><span style=\"background-color: #008000\">  </span><span style=\"background-color: #000000\">  </span>  [4, 2, 0, 2, 2, 4, 2, 0]\n",
       "\n",
       "</pre>\n"
      ],
      "text/plain": [
       "\u001b[44m  \u001b[0m\u001b[42m  \u001b[0m\u001b[40m  \u001b[0m\u001b[42m  \u001b[0m\u001b[42m  \u001b[0m\u001b[44m  \u001b[0m\u001b[42m  \u001b[0m\u001b[40m  \u001b[0m  [4, 2, 0, 2, 2, 4, 2, 0]\n",
       "\u001b[41m  \u001b[0m\u001b[42m  \u001b[0m\u001b[47m  \u001b[0m\u001b[42m  \u001b[0m\u001b[42m  \u001b[0m\u001b[42m  \u001b[0m\u001b[47m  \u001b[0m\u001b[41m  \u001b[0m  [1, 2, 7, 2, 2, 2, 7, 1]\n",
       "\u001b[44m  \u001b[0m\u001b[102m  \u001b[0m\u001b[42m  \u001b[0m\u001b[42m  \u001b[0m\u001b[40m  \u001b[0m\u001b[42m  \u001b[0m\u001b[42m  \u001b[0m\u001b[42m  \u001b[0m  [4, 9, 2, 2, 0, 2, 2, 2]\n",
       "\u001b[42m  \u001b[0m\u001b[47m  \u001b[0m\u001b[42m  \u001b[0m\u001b[42m  \u001b[0m\u001b[46m  \u001b[0m\u001b[40m  \u001b[0m\u001b[102m  \u001b[0m\u001b[42m  \u001b[0m  [2, 7, 2, 2, 6, 0, 9, 2]\n",
       "\u001b[42m  \u001b[0m\u001b[47m  \u001b[0m\u001b[42m  \u001b[0m\u001b[42m  \u001b[0m\u001b[46m  \u001b[0m\u001b[40m  \u001b[0m\u001b[102m  \u001b[0m\u001b[42m  \u001b[0m  [2, 7, 2, 2, 6, 0, 9, 2]\n",
       "\u001b[44m  \u001b[0m\u001b[102m  \u001b[0m\u001b[42m  \u001b[0m\u001b[42m  \u001b[0m\u001b[40m  \u001b[0m\u001b[42m  \u001b[0m\u001b[42m  \u001b[0m\u001b[42m  \u001b[0m  [4, 9, 2, 2, 0, 2, 2, 2]\n",
       "\u001b[41m  \u001b[0m\u001b[42m  \u001b[0m\u001b[47m  \u001b[0m\u001b[42m  \u001b[0m\u001b[42m  \u001b[0m\u001b[42m  \u001b[0m\u001b[47m  \u001b[0m\u001b[41m  \u001b[0m  [1, 2, 7, 2, 2, 2, 7, 1]\n",
       "\u001b[44m  \u001b[0m\u001b[42m  \u001b[0m\u001b[40m  \u001b[0m\u001b[42m  \u001b[0m\u001b[42m  \u001b[0m\u001b[44m  \u001b[0m\u001b[42m  \u001b[0m\u001b[40m  \u001b[0m  [4, 2, 0, 2, 2, 4, 2, 0]\n",
       "\n"
      ]
     },
     "metadata": {},
     "output_type": "display_data"
    },
    {
     "name": "stdout",
     "output_type": "stream",
     "text": [
      "==================================================\n",
      "Example test input\n"
     ]
    },
    {
     "data": {
      "text/html": [
       "<pre style=\"white-space:pre;overflow-x:auto;line-height:normal;font-family:Menlo,'DejaVu Sans Mono',consolas,'Courier New',monospace\"><span style=\"background-color: #008000\">  </span><span style=\"background-color: #008080\">  </span><span style=\"background-color: #000000\">  </span>  [2, 6, 0]\n",
       "\n",
       "</pre>\n"
      ],
      "text/plain": [
       "\u001b[42m  \u001b[0m\u001b[46m  \u001b[0m\u001b[40m  \u001b[0m  [2, 6, 0]\n",
       "\n"
      ]
     },
     "metadata": {},
     "output_type": "display_data"
    },
    {
     "name": "stdout",
     "output_type": "stream",
     "text": [
      "Example test output\n"
     ]
    },
    {
     "data": {
      "text/html": [
       "<pre style=\"white-space:pre;overflow-x:auto;line-height:normal;font-family:Menlo,'DejaVu Sans Mono',consolas,'Courier New',monospace\"><span style=\"background-color: #008000\">  </span><span style=\"background-color: #008080\">  </span><span style=\"background-color: #000000\">  </span>  [2, 6, 0]\n",
       "<span style=\"background-color: #008000\">  </span><span style=\"background-color: #008080\">  </span><span style=\"background-color: #000000\">  </span>  [2, 6, 0]\n",
       "\n",
       "</pre>\n"
      ],
      "text/plain": [
       "\u001b[42m  \u001b[0m\u001b[46m  \u001b[0m\u001b[40m  \u001b[0m  [2, 6, 0]\n",
       "\u001b[42m  \u001b[0m\u001b[46m  \u001b[0m\u001b[40m  \u001b[0m  [2, 6, 0]\n",
       "\n"
      ]
     },
     "metadata": {},
     "output_type": "display_data"
    },
    {
     "name": "stdout",
     "output_type": "stream",
     "text": [
      "==================================================\n",
      "62\n",
      "==================================================\n",
      "Example input\n"
     ]
    },
    {
     "data": {
      "text/html": [
       "<pre style=\"white-space:pre;overflow-x:auto;line-height:normal;font-family:Menlo,'DejaVu Sans Mono',consolas,'Courier New',monospace\"><span style=\"background-color: #800080\">      </span>  [5, 5, 5]\n",
       "<span style=\"background-color: #800080\">  </span><span style=\"background-color: #008000\">  </span><span style=\"background-color: #800080\">  </span>  [5, 2, 5]\n",
       "<span style=\"background-color: #800080\">    </span><span style=\"background-color: #00ff00\">  </span>  [5, 5, 9]\n",
       "\n",
       "</pre>\n"
      ],
      "text/plain": [
       "\u001b[45m  \u001b[0m\u001b[45m  \u001b[0m\u001b[45m  \u001b[0m  [5, 5, 5]\n",
       "\u001b[45m  \u001b[0m\u001b[42m  \u001b[0m\u001b[45m  \u001b[0m  [5, 2, 5]\n",
       "\u001b[45m  \u001b[0m\u001b[45m  \u001b[0m\u001b[102m  \u001b[0m  [5, 5, 9]\n",
       "\n"
      ]
     },
     "metadata": {},
     "output_type": "display_data"
    },
    {
     "name": "stdout",
     "output_type": "stream",
     "text": [
      "Example output\n"
     ]
    },
    {
     "data": {
      "text/html": [
       "<pre style=\"white-space:pre;overflow-x:auto;line-height:normal;font-family:Menlo,'DejaVu Sans Mono',consolas,'Courier New',monospace\"><span style=\"background-color: #800080\">                  </span>  [5, 5, 5, 5, 5, 5, 5, 5, 5]\n",
       "<span style=\"background-color: #800080\">  </span><span style=\"background-color: #008000\">  </span><span style=\"background-color: #800080\">    </span><span style=\"background-color: #008000\">  </span><span style=\"background-color: #800080\">    </span><span style=\"background-color: #008000\">  </span><span style=\"background-color: #800080\">  </span>  [5, 2, 5, 5, 2, 5, 5, 2, 5]\n",
       "<span style=\"background-color: #800080\">    </span><span style=\"background-color: #00ff00\">  </span><span style=\"background-color: #800080\">    </span><span style=\"background-color: #00ff00\">  </span><span style=\"background-color: #800080\">    </span><span style=\"background-color: #00ff00\">  </span>  [5, 5, 9, 5, 5, 9, 5, 5, 9]\n",
       "<span style=\"background-color: #800080\">      </span><span style=\"background-color: #000000\">      </span><span style=\"background-color: #800080\">      </span>  [5, 5, 5, 0, 0, 0, 5, 5, 5]\n",
       "<span style=\"background-color: #800080\">  </span><span style=\"background-color: #008000\">  </span><span style=\"background-color: #800080\">  </span><span style=\"background-color: #000000\">      </span><span style=\"background-color: #800080\">  </span><span style=\"background-color: #008000\">  </span><span style=\"background-color: #800080\">  </span>  [5, 2, 5, 0, 0, 0, 5, 2, 5]\n",
       "<span style=\"background-color: #800080\">    </span><span style=\"background-color: #00ff00\">  </span><span style=\"background-color: #000000\">      </span><span style=\"background-color: #800080\">    </span><span style=\"background-color: #00ff00\">  </span>  [5, 5, 9, 0, 0, 0, 5, 5, 9]\n",
       "<span style=\"background-color: #800080\">            </span><span style=\"background-color: #000000\">      </span>  [5, 5, 5, 5, 5, 5, 0, 0, 0]\n",
       "<span style=\"background-color: #800080\">  </span><span style=\"background-color: #008000\">  </span><span style=\"background-color: #800080\">    </span><span style=\"background-color: #008000\">  </span><span style=\"background-color: #800080\">  </span><span style=\"background-color: #000000\">      </span>  [5, 2, 5, 5, 2, 5, 0, 0, 0]\n",
       "<span style=\"background-color: #800080\">    </span><span style=\"background-color: #00ff00\">  </span><span style=\"background-color: #800080\">    </span><span style=\"background-color: #00ff00\">  </span><span style=\"background-color: #000000\">      </span>  [5, 5, 9, 5, 5, 9, 0, 0, 0]\n",
       "\n",
       "</pre>\n"
      ],
      "text/plain": [
       "\u001b[45m  \u001b[0m\u001b[45m  \u001b[0m\u001b[45m  \u001b[0m\u001b[45m  \u001b[0m\u001b[45m  \u001b[0m\u001b[45m  \u001b[0m\u001b[45m  \u001b[0m\u001b[45m  \u001b[0m\u001b[45m  \u001b[0m  [5, 5, 5, 5, 5, 5, 5, 5, 5]\n",
       "\u001b[45m  \u001b[0m\u001b[42m  \u001b[0m\u001b[45m  \u001b[0m\u001b[45m  \u001b[0m\u001b[42m  \u001b[0m\u001b[45m  \u001b[0m\u001b[45m  \u001b[0m\u001b[42m  \u001b[0m\u001b[45m  \u001b[0m  [5, 2, 5, 5, 2, 5, 5, 2, 5]\n",
       "\u001b[45m  \u001b[0m\u001b[45m  \u001b[0m\u001b[102m  \u001b[0m\u001b[45m  \u001b[0m\u001b[45m  \u001b[0m\u001b[102m  \u001b[0m\u001b[45m  \u001b[0m\u001b[45m  \u001b[0m\u001b[102m  \u001b[0m  [5, 5, 9, 5, 5, 9, 5, 5, 9]\n",
       "\u001b[45m  \u001b[0m\u001b[45m  \u001b[0m\u001b[45m  \u001b[0m\u001b[40m  \u001b[0m\u001b[40m  \u001b[0m\u001b[40m  \u001b[0m\u001b[45m  \u001b[0m\u001b[45m  \u001b[0m\u001b[45m  \u001b[0m  [5, 5, 5, 0, 0, 0, 5, 5, 5]\n",
       "\u001b[45m  \u001b[0m\u001b[42m  \u001b[0m\u001b[45m  \u001b[0m\u001b[40m  \u001b[0m\u001b[40m  \u001b[0m\u001b[40m  \u001b[0m\u001b[45m  \u001b[0m\u001b[42m  \u001b[0m\u001b[45m  \u001b[0m  [5, 2, 5, 0, 0, 0, 5, 2, 5]\n",
       "\u001b[45m  \u001b[0m\u001b[45m  \u001b[0m\u001b[102m  \u001b[0m\u001b[40m  \u001b[0m\u001b[40m  \u001b[0m\u001b[40m  \u001b[0m\u001b[45m  \u001b[0m\u001b[45m  \u001b[0m\u001b[102m  \u001b[0m  [5, 5, 9, 0, 0, 0, 5, 5, 9]\n",
       "\u001b[45m  \u001b[0m\u001b[45m  \u001b[0m\u001b[45m  \u001b[0m\u001b[45m  \u001b[0m\u001b[45m  \u001b[0m\u001b[45m  \u001b[0m\u001b[40m  \u001b[0m\u001b[40m  \u001b[0m\u001b[40m  \u001b[0m  [5, 5, 5, 5, 5, 5, 0, 0, 0]\n",
       "\u001b[45m  \u001b[0m\u001b[42m  \u001b[0m\u001b[45m  \u001b[0m\u001b[45m  \u001b[0m\u001b[42m  \u001b[0m\u001b[45m  \u001b[0m\u001b[40m  \u001b[0m\u001b[40m  \u001b[0m\u001b[40m  \u001b[0m  [5, 2, 5, 5, 2, 5, 0, 0, 0]\n",
       "\u001b[45m  \u001b[0m\u001b[45m  \u001b[0m\u001b[102m  \u001b[0m\u001b[45m  \u001b[0m\u001b[45m  \u001b[0m\u001b[102m  \u001b[0m\u001b[40m  \u001b[0m\u001b[40m  \u001b[0m\u001b[40m  \u001b[0m  [5, 5, 9, 5, 5, 9, 0, 0, 0]\n",
       "\n"
      ]
     },
     "metadata": {},
     "output_type": "display_data"
    },
    {
     "name": "stdout",
     "output_type": "stream",
     "text": [
      "==================================================\n",
      "Example test input\n"
     ]
    },
    {
     "data": {
      "text/html": [
       "<pre style=\"white-space:pre;overflow-x:auto;line-height:normal;font-family:Menlo,'DejaVu Sans Mono',consolas,'Courier New',monospace\"><span style=\"background-color: #c0c0c0\">  </span><span style=\"background-color: #008080\">  </span><span style=\"background-color: #800000\">  </span>  [7, 6, 1]\n",
       "<span style=\"background-color: #00ff00\">  </span><span style=\"background-color: #800080\">  </span><span style=\"background-color: #808000\">  </span>  [9, 5, 3]\n",
       "<span style=\"background-color: #00ff00\">  </span><span style=\"background-color: #008000\">  </span><span style=\"background-color: #00ff00\">  </span>  [9, 2, 9]\n",
       "\n",
       "</pre>\n"
      ],
      "text/plain": [
       "\u001b[47m  \u001b[0m\u001b[46m  \u001b[0m\u001b[41m  \u001b[0m  [7, 6, 1]\n",
       "\u001b[102m  \u001b[0m\u001b[45m  \u001b[0m\u001b[43m  \u001b[0m  [9, 5, 3]\n",
       "\u001b[102m  \u001b[0m\u001b[42m  \u001b[0m\u001b[102m  \u001b[0m  [9, 2, 9]\n",
       "\n"
      ]
     },
     "metadata": {},
     "output_type": "display_data"
    },
    {
     "name": "stdout",
     "output_type": "stream",
     "text": [
      "Example test output\n"
     ]
    },
    {
     "data": {
      "text/html": [
       "<pre style=\"white-space:pre;overflow-x:auto;line-height:normal;font-family:Menlo,'DejaVu Sans Mono',consolas,'Courier New',monospace\"><span style=\"background-color: #000000\">                  </span>  [0, 0, 0, 0, 0, 0, 0, 0, 0]\n",
       "<span style=\"background-color: #000000\">                  </span>  [0, 0, 0, 0, 0, 0, 0, 0, 0]\n",
       "<span style=\"background-color: #000000\">                  </span>  [0, 0, 0, 0, 0, 0, 0, 0, 0]\n",
       "<span style=\"background-color: #c0c0c0\">  </span><span style=\"background-color: #008080\">  </span><span style=\"background-color: #800000\">  </span><span style=\"background-color: #000000\">            </span>  [7, 6, 1, 0, 0, 0, 0, 0, 0]\n",
       "<span style=\"background-color: #00ff00\">  </span><span style=\"background-color: #800080\">  </span><span style=\"background-color: #808000\">  </span><span style=\"background-color: #000000\">            </span>  [9, 5, 3, 0, 0, 0, 0, 0, 0]\n",
       "<span style=\"background-color: #00ff00\">  </span><span style=\"background-color: #008000\">  </span><span style=\"background-color: #00ff00\">  </span><span style=\"background-color: #000000\">            </span>  [9, 2, 9, 0, 0, 0, 0, 0, 0]\n",
       "<span style=\"background-color: #c0c0c0\">  </span><span style=\"background-color: #008080\">  </span><span style=\"background-color: #800000\">  </span><span style=\"background-color: #000000\">      </span><span style=\"background-color: #c0c0c0\">  </span><span style=\"background-color: #008080\">  </span><span style=\"background-color: #800000\">  </span>  [7, 6, 1, 0, 0, 0, 7, 6, 1]\n",
       "<span style=\"background-color: #00ff00\">  </span><span style=\"background-color: #800080\">  </span><span style=\"background-color: #808000\">  </span><span style=\"background-color: #000000\">      </span><span style=\"background-color: #00ff00\">  </span><span style=\"background-color: #800080\">  </span><span style=\"background-color: #808000\">  </span>  [9, 5, 3, 0, 0, 0, 9, 5, 3]\n",
       "<span style=\"background-color: #00ff00\">  </span><span style=\"background-color: #008000\">  </span><span style=\"background-color: #00ff00\">  </span><span style=\"background-color: #000000\">      </span><span style=\"background-color: #00ff00\">  </span><span style=\"background-color: #008000\">  </span><span style=\"background-color: #00ff00\">  </span>  [9, 2, 9, 0, 0, 0, 9, 2, 9]\n",
       "\n",
       "</pre>\n"
      ],
      "text/plain": [
       "\u001b[40m  \u001b[0m\u001b[40m  \u001b[0m\u001b[40m  \u001b[0m\u001b[40m  \u001b[0m\u001b[40m  \u001b[0m\u001b[40m  \u001b[0m\u001b[40m  \u001b[0m\u001b[40m  \u001b[0m\u001b[40m  \u001b[0m  [0, 0, 0, 0, 0, 0, 0, 0, 0]\n",
       "\u001b[40m  \u001b[0m\u001b[40m  \u001b[0m\u001b[40m  \u001b[0m\u001b[40m  \u001b[0m\u001b[40m  \u001b[0m\u001b[40m  \u001b[0m\u001b[40m  \u001b[0m\u001b[40m  \u001b[0m\u001b[40m  \u001b[0m  [0, 0, 0, 0, 0, 0, 0, 0, 0]\n",
       "\u001b[40m  \u001b[0m\u001b[40m  \u001b[0m\u001b[40m  \u001b[0m\u001b[40m  \u001b[0m\u001b[40m  \u001b[0m\u001b[40m  \u001b[0m\u001b[40m  \u001b[0m\u001b[40m  \u001b[0m\u001b[40m  \u001b[0m  [0, 0, 0, 0, 0, 0, 0, 0, 0]\n",
       "\u001b[47m  \u001b[0m\u001b[46m  \u001b[0m\u001b[41m  \u001b[0m\u001b[40m  \u001b[0m\u001b[40m  \u001b[0m\u001b[40m  \u001b[0m\u001b[40m  \u001b[0m\u001b[40m  \u001b[0m\u001b[40m  \u001b[0m  [7, 6, 1, 0, 0, 0, 0, 0, 0]\n",
       "\u001b[102m  \u001b[0m\u001b[45m  \u001b[0m\u001b[43m  \u001b[0m\u001b[40m  \u001b[0m\u001b[40m  \u001b[0m\u001b[40m  \u001b[0m\u001b[40m  \u001b[0m\u001b[40m  \u001b[0m\u001b[40m  \u001b[0m  [9, 5, 3, 0, 0, 0, 0, 0, 0]\n",
       "\u001b[102m  \u001b[0m\u001b[42m  \u001b[0m\u001b[102m  \u001b[0m\u001b[40m  \u001b[0m\u001b[40m  \u001b[0m\u001b[40m  \u001b[0m\u001b[40m  \u001b[0m\u001b[40m  \u001b[0m\u001b[40m  \u001b[0m  [9, 2, 9, 0, 0, 0, 0, 0, 0]\n",
       "\u001b[47m  \u001b[0m\u001b[46m  \u001b[0m\u001b[41m  \u001b[0m\u001b[40m  \u001b[0m\u001b[40m  \u001b[0m\u001b[40m  \u001b[0m\u001b[47m  \u001b[0m\u001b[46m  \u001b[0m\u001b[41m  \u001b[0m  [7, 6, 1, 0, 0, 0, 7, 6, 1]\n",
       "\u001b[102m  \u001b[0m\u001b[45m  \u001b[0m\u001b[43m  \u001b[0m\u001b[40m  \u001b[0m\u001b[40m  \u001b[0m\u001b[40m  \u001b[0m\u001b[102m  \u001b[0m\u001b[45m  \u001b[0m\u001b[43m  \u001b[0m  [9, 5, 3, 0, 0, 0, 9, 5, 3]\n",
       "\u001b[102m  \u001b[0m\u001b[42m  \u001b[0m\u001b[102m  \u001b[0m\u001b[40m  \u001b[0m\u001b[40m  \u001b[0m\u001b[40m  \u001b[0m\u001b[102m  \u001b[0m\u001b[42m  \u001b[0m\u001b[102m  \u001b[0m  [9, 2, 9, 0, 0, 0, 9, 2, 9]\n",
       "\n"
      ]
     },
     "metadata": {},
     "output_type": "display_data"
    },
    {
     "name": "stdout",
     "output_type": "stream",
     "text": [
      "==================================================\n",
      "66\n",
      "==================================================\n",
      "Example input\n"
     ]
    },
    {
     "data": {
      "text/html": [
       "<pre style=\"white-space:pre;overflow-x:auto;line-height:normal;font-family:Menlo,'DejaVu Sans Mono',consolas,'Courier New',monospace\"><span style=\"background-color: #008000\">  </span><span style=\"background-color: #c0c0c0\">      </span><span style=\"background-color: #00ff00\">  </span><span style=\"background-color: #ff0000\">  </span><span style=\"background-color: #000080\">  </span><span style=\"background-color: #ff0000\">  </span><span style=\"background-color: #c0c0c0\">    </span>  [2, 7, 7, 7, 9, 8, 4, 8, 7, 7]\n",
       "<span style=\"background-color: #c0c0c0\">  </span><span style=\"background-color: #800080\">  </span><span style=\"background-color: #000000\">  </span><span style=\"background-color: #c0c0c0\">    </span><span style=\"background-color: #808000\">  </span><span style=\"background-color: #c0c0c0\">    </span><span style=\"background-color: #800000\">  </span><span style=\"background-color: #c0c0c0\">  </span>  [7, 5, 0, 7, 7, 3, 7, 7, 1, 7]\n",
       "\n",
       "</pre>\n"
      ],
      "text/plain": [
       "\u001b[42m  \u001b[0m\u001b[47m  \u001b[0m\u001b[47m  \u001b[0m\u001b[47m  \u001b[0m\u001b[102m  \u001b[0m\u001b[101m  \u001b[0m\u001b[44m  \u001b[0m\u001b[101m  \u001b[0m\u001b[47m  \u001b[0m\u001b[47m  \u001b[0m  [2, 7, 7, 7, 9, 8, 4, 8, 7, 7]\n",
       "\u001b[47m  \u001b[0m\u001b[45m  \u001b[0m\u001b[40m  \u001b[0m\u001b[47m  \u001b[0m\u001b[47m  \u001b[0m\u001b[43m  \u001b[0m\u001b[47m  \u001b[0m\u001b[47m  \u001b[0m\u001b[41m  \u001b[0m\u001b[47m  \u001b[0m  [7, 5, 0, 7, 7, 3, 7, 7, 1, 7]\n",
       "\n"
      ]
     },
     "metadata": {},
     "output_type": "display_data"
    },
    {
     "name": "stdout",
     "output_type": "stream",
     "text": [
      "Example output\n"
     ]
    },
    {
     "data": {
      "text/html": [
       "<pre style=\"white-space:pre;overflow-x:auto;line-height:normal;font-family:Menlo,'DejaVu Sans Mono',consolas,'Courier New',monospace\"><span style=\"background-color: #c0c0c0\">  </span><span style=\"background-color: #800080\">  </span><span style=\"background-color: #000000\">  </span><span style=\"background-color: #c0c0c0\">    </span><span style=\"background-color: #808000\">  </span><span style=\"background-color: #c0c0c0\">    </span><span style=\"background-color: #800000\">  </span><span style=\"background-color: #c0c0c0\">  </span>  [7, 5, 0, 7, 7, 3, 7, 7, 1, 7]\n",
       "<span style=\"background-color: #008000\">  </span><span style=\"background-color: #c0c0c0\">      </span><span style=\"background-color: #00ff00\">  </span><span style=\"background-color: #ff0000\">  </span><span style=\"background-color: #000080\">  </span><span style=\"background-color: #ff0000\">  </span><span style=\"background-color: #c0c0c0\">    </span>  [2, 7, 7, 7, 9, 8, 4, 8, 7, 7]\n",
       "<span style=\"background-color: #008000\">  </span><span style=\"background-color: #c0c0c0\">      </span><span style=\"background-color: #00ff00\">  </span><span style=\"background-color: #ff0000\">  </span><span style=\"background-color: #000080\">  </span><span style=\"background-color: #ff0000\">  </span><span style=\"background-color: #c0c0c0\">    </span>  [2, 7, 7, 7, 9, 8, 4, 8, 7, 7]\n",
       "<span style=\"background-color: #c0c0c0\">  </span><span style=\"background-color: #800080\">  </span><span style=\"background-color: #000000\">  </span><span style=\"background-color: #c0c0c0\">    </span><span style=\"background-color: #808000\">  </span><span style=\"background-color: #c0c0c0\">    </span><span style=\"background-color: #800000\">  </span><span style=\"background-color: #c0c0c0\">  </span>  [7, 5, 0, 7, 7, 3, 7, 7, 1, 7]\n",
       "\n",
       "</pre>\n"
      ],
      "text/plain": [
       "\u001b[47m  \u001b[0m\u001b[45m  \u001b[0m\u001b[40m  \u001b[0m\u001b[47m  \u001b[0m\u001b[47m  \u001b[0m\u001b[43m  \u001b[0m\u001b[47m  \u001b[0m\u001b[47m  \u001b[0m\u001b[41m  \u001b[0m\u001b[47m  \u001b[0m  [7, 5, 0, 7, 7, 3, 7, 7, 1, 7]\n",
       "\u001b[42m  \u001b[0m\u001b[47m  \u001b[0m\u001b[47m  \u001b[0m\u001b[47m  \u001b[0m\u001b[102m  \u001b[0m\u001b[101m  \u001b[0m\u001b[44m  \u001b[0m\u001b[101m  \u001b[0m\u001b[47m  \u001b[0m\u001b[47m  \u001b[0m  [2, 7, 7, 7, 9, 8, 4, 8, 7, 7]\n",
       "\u001b[42m  \u001b[0m\u001b[47m  \u001b[0m\u001b[47m  \u001b[0m\u001b[47m  \u001b[0m\u001b[102m  \u001b[0m\u001b[101m  \u001b[0m\u001b[44m  \u001b[0m\u001b[101m  \u001b[0m\u001b[47m  \u001b[0m\u001b[47m  \u001b[0m  [2, 7, 7, 7, 9, 8, 4, 8, 7, 7]\n",
       "\u001b[47m  \u001b[0m\u001b[45m  \u001b[0m\u001b[40m  \u001b[0m\u001b[47m  \u001b[0m\u001b[47m  \u001b[0m\u001b[43m  \u001b[0m\u001b[47m  \u001b[0m\u001b[47m  \u001b[0m\u001b[41m  \u001b[0m\u001b[47m  \u001b[0m  [7, 5, 0, 7, 7, 3, 7, 7, 1, 7]\n",
       "\n"
      ]
     },
     "metadata": {},
     "output_type": "display_data"
    },
    {
     "name": "stdout",
     "output_type": "stream",
     "text": [
      "==================================================\n",
      "Example test input\n"
     ]
    },
    {
     "data": {
      "text/html": [
       "<pre style=\"white-space:pre;overflow-x:auto;line-height:normal;font-family:Menlo,'DejaVu Sans Mono',consolas,'Courier New',monospace\"><span style=\"background-color: #c0c0c0\">  </span><span style=\"background-color: #00ff00\">            </span><span style=\"background-color: #800080\">  </span>  [7, 9, 9, 9, 9, 9, 9, 5]\n",
       "<span style=\"background-color: #800080\">  </span><span style=\"background-color: #00ff00\">    </span><span style=\"background-color: #800080\">  </span><span style=\"background-color: #00ff00\">  </span><span style=\"background-color: #ff0000\">  </span><span style=\"background-color: #00ff00\">  </span><span style=\"background-color: #808000\">  </span>  [5, 9, 9, 5, 9, 8, 9, 3]\n",
       "<span style=\"background-color: #000080\">  </span><span style=\"background-color: #808000\">  </span><span style=\"background-color: #c0c0c0\">  </span><span style=\"background-color: #00ff00\">      </span><span style=\"background-color: #000080\">  </span><span style=\"background-color: #008080\">  </span>  [4, 3, 7, 9, 9, 9, 4, 6]\n",
       "\n",
       "</pre>\n"
      ],
      "text/plain": [
       "\u001b[47m  \u001b[0m\u001b[102m  \u001b[0m\u001b[102m  \u001b[0m\u001b[102m  \u001b[0m\u001b[102m  \u001b[0m\u001b[102m  \u001b[0m\u001b[102m  \u001b[0m\u001b[45m  \u001b[0m  [7, 9, 9, 9, 9, 9, 9, 5]\n",
       "\u001b[45m  \u001b[0m\u001b[102m  \u001b[0m\u001b[102m  \u001b[0m\u001b[45m  \u001b[0m\u001b[102m  \u001b[0m\u001b[101m  \u001b[0m\u001b[102m  \u001b[0m\u001b[43m  \u001b[0m  [5, 9, 9, 5, 9, 8, 9, 3]\n",
       "\u001b[44m  \u001b[0m\u001b[43m  \u001b[0m\u001b[47m  \u001b[0m\u001b[102m  \u001b[0m\u001b[102m  \u001b[0m\u001b[102m  \u001b[0m\u001b[44m  \u001b[0m\u001b[46m  \u001b[0m  [4, 3, 7, 9, 9, 9, 4, 6]\n",
       "\n"
      ]
     },
     "metadata": {},
     "output_type": "display_data"
    },
    {
     "name": "stdout",
     "output_type": "stream",
     "text": [
      "Example test output\n"
     ]
    },
    {
     "data": {
      "text/html": [
       "<pre style=\"white-space:pre;overflow-x:auto;line-height:normal;font-family:Menlo,'DejaVu Sans Mono',consolas,'Courier New',monospace\"><span style=\"background-color: #000080\">  </span><span style=\"background-color: #808000\">  </span><span style=\"background-color: #c0c0c0\">  </span><span style=\"background-color: #00ff00\">      </span><span style=\"background-color: #000080\">  </span><span style=\"background-color: #008080\">  </span>  [4, 3, 7, 9, 9, 9, 4, 6]\n",
       "<span style=\"background-color: #800080\">  </span><span style=\"background-color: #00ff00\">    </span><span style=\"background-color: #800080\">  </span><span style=\"background-color: #00ff00\">  </span><span style=\"background-color: #ff0000\">  </span><span style=\"background-color: #00ff00\">  </span><span style=\"background-color: #808000\">  </span>  [5, 9, 9, 5, 9, 8, 9, 3]\n",
       "<span style=\"background-color: #c0c0c0\">  </span><span style=\"background-color: #00ff00\">            </span><span style=\"background-color: #800080\">  </span>  [7, 9, 9, 9, 9, 9, 9, 5]\n",
       "<span style=\"background-color: #c0c0c0\">  </span><span style=\"background-color: #00ff00\">            </span><span style=\"background-color: #800080\">  </span>  [7, 9, 9, 9, 9, 9, 9, 5]\n",
       "<span style=\"background-color: #800080\">  </span><span style=\"background-color: #00ff00\">    </span><span style=\"background-color: #800080\">  </span><span style=\"background-color: #00ff00\">  </span><span style=\"background-color: #ff0000\">  </span><span style=\"background-color: #00ff00\">  </span><span style=\"background-color: #808000\">  </span>  [5, 9, 9, 5, 9, 8, 9, 3]\n",
       "<span style=\"background-color: #000080\">  </span><span style=\"background-color: #808000\">  </span><span style=\"background-color: #c0c0c0\">  </span><span style=\"background-color: #00ff00\">      </span><span style=\"background-color: #000080\">  </span><span style=\"background-color: #008080\">  </span>  [4, 3, 7, 9, 9, 9, 4, 6]\n",
       "\n",
       "</pre>\n"
      ],
      "text/plain": [
       "\u001b[44m  \u001b[0m\u001b[43m  \u001b[0m\u001b[47m  \u001b[0m\u001b[102m  \u001b[0m\u001b[102m  \u001b[0m\u001b[102m  \u001b[0m\u001b[44m  \u001b[0m\u001b[46m  \u001b[0m  [4, 3, 7, 9, 9, 9, 4, 6]\n",
       "\u001b[45m  \u001b[0m\u001b[102m  \u001b[0m\u001b[102m  \u001b[0m\u001b[45m  \u001b[0m\u001b[102m  \u001b[0m\u001b[101m  \u001b[0m\u001b[102m  \u001b[0m\u001b[43m  \u001b[0m  [5, 9, 9, 5, 9, 8, 9, 3]\n",
       "\u001b[47m  \u001b[0m\u001b[102m  \u001b[0m\u001b[102m  \u001b[0m\u001b[102m  \u001b[0m\u001b[102m  \u001b[0m\u001b[102m  \u001b[0m\u001b[102m  \u001b[0m\u001b[45m  \u001b[0m  [7, 9, 9, 9, 9, 9, 9, 5]\n",
       "\u001b[47m  \u001b[0m\u001b[102m  \u001b[0m\u001b[102m  \u001b[0m\u001b[102m  \u001b[0m\u001b[102m  \u001b[0m\u001b[102m  \u001b[0m\u001b[102m  \u001b[0m\u001b[45m  \u001b[0m  [7, 9, 9, 9, 9, 9, 9, 5]\n",
       "\u001b[45m  \u001b[0m\u001b[102m  \u001b[0m\u001b[102m  \u001b[0m\u001b[45m  \u001b[0m\u001b[102m  \u001b[0m\u001b[101m  \u001b[0m\u001b[102m  \u001b[0m\u001b[43m  \u001b[0m  [5, 9, 9, 5, 9, 8, 9, 3]\n",
       "\u001b[44m  \u001b[0m\u001b[43m  \u001b[0m\u001b[47m  \u001b[0m\u001b[102m  \u001b[0m\u001b[102m  \u001b[0m\u001b[102m  \u001b[0m\u001b[44m  \u001b[0m\u001b[46m  \u001b[0m  [4, 3, 7, 9, 9, 9, 4, 6]\n",
       "\n"
      ]
     },
     "metadata": {},
     "output_type": "display_data"
    },
    {
     "name": "stdout",
     "output_type": "stream",
     "text": [
      "==================================================\n",
      "67\n",
      "==================================================\n",
      "Example input\n"
     ]
    },
    {
     "data": {
      "text/html": [
       "<pre style=\"white-space:pre;overflow-x:auto;line-height:normal;font-family:Menlo,'DejaVu Sans Mono',consolas,'Courier New',monospace\"><span style=\"background-color: #800000\">  </span><span style=\"background-color: #000000\">            </span><span style=\"background-color: #008080\">  </span><span style=\"background-color: #00ff00\">  </span>  [1, 0, 0, 0, 0, 0, 0, 6, 9]\n",
       "<span style=\"background-color: #000000\">    </span><span style=\"background-color: #000080\">        </span><span style=\"background-color: #00ff00\">    </span><span style=\"background-color: #000000\">  </span>  [0, 0, 4, 4, 4, 4, 9, 9, 0]\n",
       "<span style=\"background-color: #000000\">    </span><span style=\"background-color: #000080\">  </span><span style=\"background-color: #000000\">    </span><span style=\"background-color: #000080\">  </span><span style=\"background-color: #000000\">      </span>  [0, 0, 4, 0, 0, 4, 0, 0, 0]\n",
       "<span style=\"background-color: #000000\">    </span><span style=\"background-color: #000080\">        </span><span style=\"background-color: #000000\">  </span><span style=\"background-color: #800080\">  </span><span style=\"background-color: #000000\">  </span>  [0, 0, 4, 4, 4, 4, 0, 5, 0]\n",
       "<span style=\"background-color: #000000\">          </span><span style=\"background-color: #800000\">  </span><span style=\"background-color: #000000\">      </span>  [0, 0, 0, 0, 0, 1, 0, 0, 0]\n",
       "<span style=\"background-color: #000000\">              </span><span style=\"background-color: #00ff00\">  </span><span style=\"background-color: #000000\">  </span>  [0, 0, 0, 0, 0, 0, 0, 9, 0]\n",
       "<span style=\"background-color: #000000\">  </span><span style=\"background-color: #808000\">  </span><span style=\"background-color: #000000\">  </span><span style=\"background-color: #008000\">  </span><span style=\"background-color: #000000\">        </span><span style=\"background-color: #800000\">  </span>  [0, 3, 0, 2, 0, 0, 0, 0, 1]\n",
       "<span style=\"background-color: #000000\">      </span><span style=\"background-color: #008080\">  </span><span style=\"background-color: #000000\">        </span><span style=\"background-color: #008080\">  </span>  [0, 0, 0, 6, 0, 0, 0, 0, 6]\n",
       "\n",
       "</pre>\n"
      ],
      "text/plain": [
       "\u001b[41m  \u001b[0m\u001b[40m  \u001b[0m\u001b[40m  \u001b[0m\u001b[40m  \u001b[0m\u001b[40m  \u001b[0m\u001b[40m  \u001b[0m\u001b[40m  \u001b[0m\u001b[46m  \u001b[0m\u001b[102m  \u001b[0m  [1, 0, 0, 0, 0, 0, 0, 6, 9]\n",
       "\u001b[40m  \u001b[0m\u001b[40m  \u001b[0m\u001b[44m  \u001b[0m\u001b[44m  \u001b[0m\u001b[44m  \u001b[0m\u001b[44m  \u001b[0m\u001b[102m  \u001b[0m\u001b[102m  \u001b[0m\u001b[40m  \u001b[0m  [0, 0, 4, 4, 4, 4, 9, 9, 0]\n",
       "\u001b[40m  \u001b[0m\u001b[40m  \u001b[0m\u001b[44m  \u001b[0m\u001b[40m  \u001b[0m\u001b[40m  \u001b[0m\u001b[44m  \u001b[0m\u001b[40m  \u001b[0m\u001b[40m  \u001b[0m\u001b[40m  \u001b[0m  [0, 0, 4, 0, 0, 4, 0, 0, 0]\n",
       "\u001b[40m  \u001b[0m\u001b[40m  \u001b[0m\u001b[44m  \u001b[0m\u001b[44m  \u001b[0m\u001b[44m  \u001b[0m\u001b[44m  \u001b[0m\u001b[40m  \u001b[0m\u001b[45m  \u001b[0m\u001b[40m  \u001b[0m  [0, 0, 4, 4, 4, 4, 0, 5, 0]\n",
       "\u001b[40m  \u001b[0m\u001b[40m  \u001b[0m\u001b[40m  \u001b[0m\u001b[40m  \u001b[0m\u001b[40m  \u001b[0m\u001b[41m  \u001b[0m\u001b[40m  \u001b[0m\u001b[40m  \u001b[0m\u001b[40m  \u001b[0m  [0, 0, 0, 0, 0, 1, 0, 0, 0]\n",
       "\u001b[40m  \u001b[0m\u001b[40m  \u001b[0m\u001b[40m  \u001b[0m\u001b[40m  \u001b[0m\u001b[40m  \u001b[0m\u001b[40m  \u001b[0m\u001b[40m  \u001b[0m\u001b[102m  \u001b[0m\u001b[40m  \u001b[0m  [0, 0, 0, 0, 0, 0, 0, 9, 0]\n",
       "\u001b[40m  \u001b[0m\u001b[43m  \u001b[0m\u001b[40m  \u001b[0m\u001b[42m  \u001b[0m\u001b[40m  \u001b[0m\u001b[40m  \u001b[0m\u001b[40m  \u001b[0m\u001b[40m  \u001b[0m\u001b[41m  \u001b[0m  [0, 3, 0, 2, 0, 0, 0, 0, 1]\n",
       "\u001b[40m  \u001b[0m\u001b[40m  \u001b[0m\u001b[40m  \u001b[0m\u001b[46m  \u001b[0m\u001b[40m  \u001b[0m\u001b[40m  \u001b[0m\u001b[40m  \u001b[0m\u001b[40m  \u001b[0m\u001b[46m  \u001b[0m  [0, 0, 0, 6, 0, 0, 0, 0, 6]\n",
       "\n"
      ]
     },
     "metadata": {},
     "output_type": "display_data"
    },
    {
     "name": "stdout",
     "output_type": "stream",
     "text": [
      "Example output\n"
     ]
    },
    {
     "data": {
      "text/html": [
       "<pre style=\"white-space:pre;overflow-x:auto;line-height:normal;font-family:Menlo,'DejaVu Sans Mono',consolas,'Courier New',monospace\"><span style=\"background-color: #000000\">    </span>  [0, 0]\n",
       "\n",
       "</pre>\n"
      ],
      "text/plain": [
       "\u001b[40m  \u001b[0m\u001b[40m  \u001b[0m  [0, 0]\n",
       "\n"
      ]
     },
     "metadata": {},
     "output_type": "display_data"
    },
    {
     "name": "stdout",
     "output_type": "stream",
     "text": [
      "==================================================\n",
      "Example test input\n"
     ]
    },
    {
     "data": {
      "text/html": [
       "<pre style=\"white-space:pre;overflow-x:auto;line-height:normal;font-family:Menlo,'DejaVu Sans Mono',consolas,'Courier New',monospace\"><span style=\"background-color: #c0c0c0\">  </span><span style=\"background-color: #000000\">  </span><span style=\"background-color: #ff0000\">  </span><span style=\"background-color: #000080\">  </span><span style=\"background-color: #000000\">  </span><span style=\"background-color: #00ff00\">  </span>  [7, 0, 8, 4, 0, 9]\n",
       "<span style=\"background-color: #000000\">    </span><span style=\"background-color: #c0c0c0\">  </span><span style=\"background-color: #008080\">      </span>  [0, 0, 7, 6, 6, 6]\n",
       "<span style=\"background-color: #ff0000\">    </span><span style=\"background-color: #c0c0c0\">  </span><span style=\"background-color: #008080\">  </span><span style=\"background-color: #000000\">  </span><span style=\"background-color: #008080\">  </span>  [8, 8, 7, 6, 0, 6]\n",
       "<span style=\"background-color: #008000\">  </span><span style=\"background-color: #c0c0c0\">  </span><span style=\"background-color: #000080\">  </span><span style=\"background-color: #008080\">      </span>  [2, 7, 4, 6, 6, 6]\n",
       "\n",
       "</pre>\n"
      ],
      "text/plain": [
       "\u001b[47m  \u001b[0m\u001b[40m  \u001b[0m\u001b[101m  \u001b[0m\u001b[44m  \u001b[0m\u001b[40m  \u001b[0m\u001b[102m  \u001b[0m  [7, 0, 8, 4, 0, 9]\n",
       "\u001b[40m  \u001b[0m\u001b[40m  \u001b[0m\u001b[47m  \u001b[0m\u001b[46m  \u001b[0m\u001b[46m  \u001b[0m\u001b[46m  \u001b[0m  [0, 0, 7, 6, 6, 6]\n",
       "\u001b[101m  \u001b[0m\u001b[101m  \u001b[0m\u001b[47m  \u001b[0m\u001b[46m  \u001b[0m\u001b[40m  \u001b[0m\u001b[46m  \u001b[0m  [8, 8, 7, 6, 0, 6]\n",
       "\u001b[42m  \u001b[0m\u001b[47m  \u001b[0m\u001b[44m  \u001b[0m\u001b[46m  \u001b[0m\u001b[46m  \u001b[0m\u001b[46m  \u001b[0m  [2, 7, 4, 6, 6, 6]\n",
       "\n"
      ]
     },
     "metadata": {},
     "output_type": "display_data"
    },
    {
     "name": "stdout",
     "output_type": "stream",
     "text": [
      "Example test output\n"
     ]
    },
    {
     "data": {
      "text/html": [
       "<pre style=\"white-space:pre;overflow-x:auto;line-height:normal;font-family:Menlo,'DejaVu Sans Mono',consolas,'Courier New',monospace\"><span style=\"background-color: #000000\">  </span>  [0]\n",
       "\n",
       "</pre>\n"
      ],
      "text/plain": [
       "\u001b[40m  \u001b[0m  [0]\n",
       "\n"
      ]
     },
     "metadata": {},
     "output_type": "display_data"
    },
    {
     "name": "stdout",
     "output_type": "stream",
     "text": [
      "==================================================\n",
      "70\n",
      "==================================================\n",
      "Example input\n"
     ]
    },
    {
     "data": {
      "text/html": [
       "<pre style=\"white-space:pre;overflow-x:auto;line-height:normal;font-family:Menlo,'DejaVu Sans Mono',consolas,'Courier New',monospace\"><span style=\"background-color: #000000\">    </span>  [0, 0]\n",
       "<span style=\"background-color: #000000\">  </span><span style=\"background-color: #ff0000\">  </span>  [0, 8]\n",
       "<span style=\"background-color: #000000\">    </span>  [0, 0]\n",
       "<span style=\"background-color: #000000\">  </span><span style=\"background-color: #ff0000\">  </span>  [0, 8]\n",
       "<span style=\"background-color: #000000\">  </span><span style=\"background-color: #ff0000\">  </span>  [0, 8]\n",
       "<span style=\"background-color: #000000\">  </span><span style=\"background-color: #ff0000\">  </span>  [0, 8]\n",
       "<span style=\"background-color: #ff0000\">    </span>  [8, 8]\n",
       "<span style=\"background-color: #000000\">  </span><span style=\"background-color: #ff0000\">  </span>  [0, 8]\n",
       "<span style=\"background-color: #000000\">    </span>  [0, 0]\n",
       "\n",
       "</pre>\n"
      ],
      "text/plain": [
       "\u001b[40m  \u001b[0m\u001b[40m  \u001b[0m  [0, 0]\n",
       "\u001b[40m  \u001b[0m\u001b[101m  \u001b[0m  [0, 8]\n",
       "\u001b[40m  \u001b[0m\u001b[40m  \u001b[0m  [0, 0]\n",
       "\u001b[40m  \u001b[0m\u001b[101m  \u001b[0m  [0, 8]\n",
       "\u001b[40m  \u001b[0m\u001b[101m  \u001b[0m  [0, 8]\n",
       "\u001b[40m  \u001b[0m\u001b[101m  \u001b[0m  [0, 8]\n",
       "\u001b[101m  \u001b[0m\u001b[101m  \u001b[0m  [8, 8]\n",
       "\u001b[40m  \u001b[0m\u001b[101m  \u001b[0m  [0, 8]\n",
       "\u001b[40m  \u001b[0m\u001b[40m  \u001b[0m  [0, 0]\n",
       "\n"
      ]
     },
     "metadata": {},
     "output_type": "display_data"
    },
    {
     "name": "stdout",
     "output_type": "stream",
     "text": [
      "Example output\n"
     ]
    },
    {
     "data": {
      "text/html": [
       "<pre style=\"white-space:pre;overflow-x:auto;line-height:normal;font-family:Menlo,'DejaVu Sans Mono',consolas,'Courier New',monospace\"><span style=\"background-color: #ff0000\">              </span>  [8, 8, 8, 8, 8, 8, 8]\n",
       "\n",
       "</pre>\n"
      ],
      "text/plain": [
       "\u001b[101m  \u001b[0m\u001b[101m  \u001b[0m\u001b[101m  \u001b[0m\u001b[101m  \u001b[0m\u001b[101m  \u001b[0m\u001b[101m  \u001b[0m\u001b[101m  \u001b[0m  [8, 8, 8, 8, 8, 8, 8]\n",
       "\n"
      ]
     },
     "metadata": {},
     "output_type": "display_data"
    },
    {
     "name": "stdout",
     "output_type": "stream",
     "text": [
      "==================================================\n",
      "Example test input\n"
     ]
    },
    {
     "data": {
      "text/html": [
       "<pre style=\"white-space:pre;overflow-x:auto;line-height:normal;font-family:Menlo,'DejaVu Sans Mono',consolas,'Courier New',monospace\"><span style=\"background-color: #000000\">          </span><span style=\"background-color: #008080\">  </span><span style=\"background-color: #000000\">  </span>  [0, 0, 0, 0, 0, 6, 0]\n",
       "<span style=\"background-color: #000000\">  </span><span style=\"background-color: #008080\">  </span><span style=\"background-color: #000000\">  </span><span style=\"background-color: #008080\">  </span><span style=\"background-color: #000000\">      </span>  [0, 6, 0, 6, 0, 0, 0]\n",
       "<span style=\"background-color: #008080\">  </span><span style=\"background-color: #000000\">          </span><span style=\"background-color: #008080\">  </span>  [6, 0, 0, 0, 0, 0, 6]\n",
       "\n",
       "</pre>\n"
      ],
      "text/plain": [
       "\u001b[40m  \u001b[0m\u001b[40m  \u001b[0m\u001b[40m  \u001b[0m\u001b[40m  \u001b[0m\u001b[40m  \u001b[0m\u001b[46m  \u001b[0m\u001b[40m  \u001b[0m  [0, 0, 0, 0, 0, 6, 0]\n",
       "\u001b[40m  \u001b[0m\u001b[46m  \u001b[0m\u001b[40m  \u001b[0m\u001b[46m  \u001b[0m\u001b[40m  \u001b[0m\u001b[40m  \u001b[0m\u001b[40m  \u001b[0m  [0, 6, 0, 6, 0, 0, 0]\n",
       "\u001b[46m  \u001b[0m\u001b[40m  \u001b[0m\u001b[40m  \u001b[0m\u001b[40m  \u001b[0m\u001b[40m  \u001b[0m\u001b[40m  \u001b[0m\u001b[46m  \u001b[0m  [6, 0, 0, 0, 0, 0, 6]\n",
       "\n"
      ]
     },
     "metadata": {},
     "output_type": "display_data"
    },
    {
     "name": "stdout",
     "output_type": "stream",
     "text": [
      "Example test output\n"
     ]
    },
    {
     "data": {
      "text/html": [
       "<pre style=\"white-space:pre;overflow-x:auto;line-height:normal;font-family:Menlo,'DejaVu Sans Mono',consolas,'Courier New',monospace\"><span style=\"background-color: #008080\">          </span>  [6, 6, 6, 6, 6]\n",
       "\n",
       "</pre>\n"
      ],
      "text/plain": [
       "\u001b[46m  \u001b[0m\u001b[46m  \u001b[0m\u001b[46m  \u001b[0m\u001b[46m  \u001b[0m\u001b[46m  \u001b[0m  [6, 6, 6, 6, 6]\n",
       "\n"
      ]
     },
     "metadata": {},
     "output_type": "display_data"
    },
    {
     "name": "stdout",
     "output_type": "stream",
     "text": [
      "==================================================\n",
      "78\n",
      "==================================================\n",
      "Example input\n"
     ]
    },
    {
     "data": {
      "text/html": [
       "<pre style=\"white-space:pre;overflow-x:auto;line-height:normal;font-family:Menlo,'DejaVu Sans Mono',consolas,'Courier New',monospace\"><span style=\"background-color: #00ff00\">    </span><span style=\"background-color: #c0c0c0\">  </span><span style=\"background-color: #800000\">  </span><span style=\"background-color: #008080\">  </span><span style=\"background-color: #c0c0c0\">  </span><span style=\"background-color: #008080\">    </span>  [9, 9, 7, 1, 6, 7, 6, 6]\n",
       "<span style=\"background-color: #00ff00\">  </span><span style=\"background-color: #008080\">  </span><span style=\"background-color: #c0c0c0\">  </span><span style=\"background-color: #008080\">    </span><span style=\"background-color: #c0c0c0\">  </span><span style=\"background-color: #008080\">    </span>  [9, 6, 7, 6, 6, 7, 6, 6]\n",
       "<span style=\"background-color: #00ff00\">    </span><span style=\"background-color: #c0c0c0\">  </span><span style=\"background-color: #008080\">    </span><span style=\"background-color: #c0c0c0\">  </span><span style=\"background-color: #808000\">  </span><span style=\"background-color: #008080\">  </span>  [9, 9, 7, 6, 6, 7, 3, 6]\n",
       "<span style=\"background-color: #00ff00\">    </span><span style=\"background-color: #c0c0c0\">  </span><span style=\"background-color: #008080\">    </span><span style=\"background-color: #c0c0c0\">  </span><span style=\"background-color: #008080\">    </span>  [9, 9, 7, 6, 6, 7, 6, 6]\n",
       "<span style=\"background-color: #00ff00\">    </span><span style=\"background-color: #c0c0c0\">  </span><span style=\"background-color: #008080\">    </span><span style=\"background-color: #c0c0c0\">  </span><span style=\"background-color: #008080\">    </span>  [9, 9, 7, 6, 6, 7, 6, 6]\n",
       "<span style=\"background-color: #00ff00\">    </span><span style=\"background-color: #c0c0c0\">  </span><span style=\"background-color: #008080\">    </span><span style=\"background-color: #c0c0c0\">  </span><span style=\"background-color: #008080\">    </span>  [9, 9, 7, 6, 6, 7, 6, 6]\n",
       "<span style=\"background-color: #00ff00\">    </span><span style=\"background-color: #c0c0c0\">  </span><span style=\"background-color: #008080\">    </span><span style=\"background-color: #c0c0c0\">  </span><span style=\"background-color: #008080\">    </span>  [9, 9, 7, 6, 6, 7, 6, 6]\n",
       "<span style=\"background-color: #00ff00\">    </span><span style=\"background-color: #c0c0c0\">  </span><span style=\"background-color: #800000\">  </span><span style=\"background-color: #008080\">  </span><span style=\"background-color: #c0c0c0\">  </span><span style=\"background-color: #008080\">    </span>  [9, 9, 7, 1, 6, 7, 6, 6]\n",
       "\n",
       "</pre>\n"
      ],
      "text/plain": [
       "\u001b[102m  \u001b[0m\u001b[102m  \u001b[0m\u001b[47m  \u001b[0m\u001b[41m  \u001b[0m\u001b[46m  \u001b[0m\u001b[47m  \u001b[0m\u001b[46m  \u001b[0m\u001b[46m  \u001b[0m  [9, 9, 7, 1, 6, 7, 6, 6]\n",
       "\u001b[102m  \u001b[0m\u001b[46m  \u001b[0m\u001b[47m  \u001b[0m\u001b[46m  \u001b[0m\u001b[46m  \u001b[0m\u001b[47m  \u001b[0m\u001b[46m  \u001b[0m\u001b[46m  \u001b[0m  [9, 6, 7, 6, 6, 7, 6, 6]\n",
       "\u001b[102m  \u001b[0m\u001b[102m  \u001b[0m\u001b[47m  \u001b[0m\u001b[46m  \u001b[0m\u001b[46m  \u001b[0m\u001b[47m  \u001b[0m\u001b[43m  \u001b[0m\u001b[46m  \u001b[0m  [9, 9, 7, 6, 6, 7, 3, 6]\n",
       "\u001b[102m  \u001b[0m\u001b[102m  \u001b[0m\u001b[47m  \u001b[0m\u001b[46m  \u001b[0m\u001b[46m  \u001b[0m\u001b[47m  \u001b[0m\u001b[46m  \u001b[0m\u001b[46m  \u001b[0m  [9, 9, 7, 6, 6, 7, 6, 6]\n",
       "\u001b[102m  \u001b[0m\u001b[102m  \u001b[0m\u001b[47m  \u001b[0m\u001b[46m  \u001b[0m\u001b[46m  \u001b[0m\u001b[47m  \u001b[0m\u001b[46m  \u001b[0m\u001b[46m  \u001b[0m  [9, 9, 7, 6, 6, 7, 6, 6]\n",
       "\u001b[102m  \u001b[0m\u001b[102m  \u001b[0m\u001b[47m  \u001b[0m\u001b[46m  \u001b[0m\u001b[46m  \u001b[0m\u001b[47m  \u001b[0m\u001b[46m  \u001b[0m\u001b[46m  \u001b[0m  [9, 9, 7, 6, 6, 7, 6, 6]\n",
       "\u001b[102m  \u001b[0m\u001b[102m  \u001b[0m\u001b[47m  \u001b[0m\u001b[46m  \u001b[0m\u001b[46m  \u001b[0m\u001b[47m  \u001b[0m\u001b[46m  \u001b[0m\u001b[46m  \u001b[0m  [9, 9, 7, 6, 6, 7, 6, 6]\n",
       "\u001b[102m  \u001b[0m\u001b[102m  \u001b[0m\u001b[47m  \u001b[0m\u001b[41m  \u001b[0m\u001b[46m  \u001b[0m\u001b[47m  \u001b[0m\u001b[46m  \u001b[0m\u001b[46m  \u001b[0m  [9, 9, 7, 1, 6, 7, 6, 6]\n",
       "\n"
      ]
     },
     "metadata": {},
     "output_type": "display_data"
    },
    {
     "name": "stdout",
     "output_type": "stream",
     "text": [
      "Example output\n"
     ]
    },
    {
     "data": {
      "text/html": [
       "<pre style=\"white-space:pre;overflow-x:auto;line-height:normal;font-family:Menlo,'DejaVu Sans Mono',consolas,'Courier New',monospace\"><span style=\"background-color: #00ff00\">    </span>  [9, 9]\n",
       "<span style=\"background-color: #00ff00\">  </span><span style=\"background-color: #008080\">  </span>  [9, 6]\n",
       "<span style=\"background-color: #00ff00\">    </span>  [9, 9]\n",
       "<span style=\"background-color: #00ff00\">    </span>  [9, 9]\n",
       "<span style=\"background-color: #00ff00\">    </span>  [9, 9]\n",
       "<span style=\"background-color: #00ff00\">    </span>  [9, 9]\n",
       "<span style=\"background-color: #00ff00\">    </span>  [9, 9]\n",
       "<span style=\"background-color: #00ff00\">    </span>  [9, 9]\n",
       "\n",
       "</pre>\n"
      ],
      "text/plain": [
       "\u001b[102m  \u001b[0m\u001b[102m  \u001b[0m  [9, 9]\n",
       "\u001b[102m  \u001b[0m\u001b[46m  \u001b[0m  [9, 6]\n",
       "\u001b[102m  \u001b[0m\u001b[102m  \u001b[0m  [9, 9]\n",
       "\u001b[102m  \u001b[0m\u001b[102m  \u001b[0m  [9, 9]\n",
       "\u001b[102m  \u001b[0m\u001b[102m  \u001b[0m  [9, 9]\n",
       "\u001b[102m  \u001b[0m\u001b[102m  \u001b[0m  [9, 9]\n",
       "\u001b[102m  \u001b[0m\u001b[102m  \u001b[0m  [9, 9]\n",
       "\u001b[102m  \u001b[0m\u001b[102m  \u001b[0m  [9, 9]\n",
       "\n"
      ]
     },
     "metadata": {},
     "output_type": "display_data"
    },
    {
     "name": "stdout",
     "output_type": "stream",
     "text": [
      "==================================================\n",
      "Example test input\n"
     ]
    },
    {
     "data": {
      "text/html": [
       "<pre style=\"white-space:pre;overflow-x:auto;line-height:normal;font-family:Menlo,'DejaVu Sans Mono',consolas,'Courier New',monospace\"><span style=\"background-color: #000000\">    </span><span style=\"background-color: #c0c0c0\">  </span><span style=\"background-color: #008080\">    </span><span style=\"background-color: #c0c0c0\">  </span><span style=\"background-color: #008080\">  </span><span style=\"background-color: #00ff00\">  </span>  [0, 0, 7, 6, 6, 7, 6, 9]\n",
       "<span style=\"background-color: #000000\">    </span><span style=\"background-color: #c0c0c0\">  </span><span style=\"background-color: #008080\">    </span><span style=\"background-color: #c0c0c0\">  </span><span style=\"background-color: #008080\">    </span>  [0, 0, 7, 6, 6, 7, 6, 6]\n",
       "<span style=\"background-color: #000000\">    </span><span style=\"background-color: #c0c0c0\">  </span><span style=\"background-color: #008080\">    </span><span style=\"background-color: #c0c0c0\">  </span><span style=\"background-color: #008080\">    </span>  [0, 0, 7, 6, 6, 7, 6, 6]\n",
       "<span style=\"background-color: #000000\">  </span><span style=\"background-color: #008080\">  </span><span style=\"background-color: #c0c0c0\">  </span><span style=\"background-color: #008080\">    </span><span style=\"background-color: #c0c0c0\">  </span><span style=\"background-color: #00ff00\">    </span>  [0, 6, 7, 6, 6, 7, 9, 9]\n",
       "<span style=\"background-color: #000000\">    </span><span style=\"background-color: #c0c0c0\">  </span><span style=\"background-color: #008080\">    </span><span style=\"background-color: #c0c0c0\">  </span><span style=\"background-color: #00ff00\">    </span>  [0, 0, 7, 6, 6, 7, 9, 9]\n",
       "<span style=\"background-color: #000000\">  </span><span style=\"background-color: #008080\">  </span><span style=\"background-color: #c0c0c0\">  </span><span style=\"background-color: #800080\">  </span><span style=\"background-color: #008080\">  </span><span style=\"background-color: #c0c0c0\">  </span><span style=\"background-color: #00ff00\">    </span>  [0, 6, 7, 5, 6, 7, 9, 9]\n",
       "<span style=\"background-color: #000000\">  </span><span style=\"background-color: #008080\">  </span><span style=\"background-color: #c0c0c0\">  </span><span style=\"background-color: #008080\">    </span><span style=\"background-color: #c0c0c0\">  </span><span style=\"background-color: #00ff00\">    </span>  [0, 6, 7, 6, 6, 7, 9, 9]\n",
       "<span style=\"background-color: #000000\">    </span><span style=\"background-color: #c0c0c0\">  </span><span style=\"background-color: #008080\">    </span><span style=\"background-color: #c0c0c0\">  </span><span style=\"background-color: #008080\">    </span>  [0, 0, 7, 6, 6, 7, 6, 6]\n",
       "\n",
       "</pre>\n"
      ],
      "text/plain": [
       "\u001b[40m  \u001b[0m\u001b[40m  \u001b[0m\u001b[47m  \u001b[0m\u001b[46m  \u001b[0m\u001b[46m  \u001b[0m\u001b[47m  \u001b[0m\u001b[46m  \u001b[0m\u001b[102m  \u001b[0m  [0, 0, 7, 6, 6, 7, 6, 9]\n",
       "\u001b[40m  \u001b[0m\u001b[40m  \u001b[0m\u001b[47m  \u001b[0m\u001b[46m  \u001b[0m\u001b[46m  \u001b[0m\u001b[47m  \u001b[0m\u001b[46m  \u001b[0m\u001b[46m  \u001b[0m  [0, 0, 7, 6, 6, 7, 6, 6]\n",
       "\u001b[40m  \u001b[0m\u001b[40m  \u001b[0m\u001b[47m  \u001b[0m\u001b[46m  \u001b[0m\u001b[46m  \u001b[0m\u001b[47m  \u001b[0m\u001b[46m  \u001b[0m\u001b[46m  \u001b[0m  [0, 0, 7, 6, 6, 7, 6, 6]\n",
       "\u001b[40m  \u001b[0m\u001b[46m  \u001b[0m\u001b[47m  \u001b[0m\u001b[46m  \u001b[0m\u001b[46m  \u001b[0m\u001b[47m  \u001b[0m\u001b[102m  \u001b[0m\u001b[102m  \u001b[0m  [0, 6, 7, 6, 6, 7, 9, 9]\n",
       "\u001b[40m  \u001b[0m\u001b[40m  \u001b[0m\u001b[47m  \u001b[0m\u001b[46m  \u001b[0m\u001b[46m  \u001b[0m\u001b[47m  \u001b[0m\u001b[102m  \u001b[0m\u001b[102m  \u001b[0m  [0, 0, 7, 6, 6, 7, 9, 9]\n",
       "\u001b[40m  \u001b[0m\u001b[46m  \u001b[0m\u001b[47m  \u001b[0m\u001b[45m  \u001b[0m\u001b[46m  \u001b[0m\u001b[47m  \u001b[0m\u001b[102m  \u001b[0m\u001b[102m  \u001b[0m  [0, 6, 7, 5, 6, 7, 9, 9]\n",
       "\u001b[40m  \u001b[0m\u001b[46m  \u001b[0m\u001b[47m  \u001b[0m\u001b[46m  \u001b[0m\u001b[46m  \u001b[0m\u001b[47m  \u001b[0m\u001b[102m  \u001b[0m\u001b[102m  \u001b[0m  [0, 6, 7, 6, 6, 7, 9, 9]\n",
       "\u001b[40m  \u001b[0m\u001b[40m  \u001b[0m\u001b[47m  \u001b[0m\u001b[46m  \u001b[0m\u001b[46m  \u001b[0m\u001b[47m  \u001b[0m\u001b[46m  \u001b[0m\u001b[46m  \u001b[0m  [0, 0, 7, 6, 6, 7, 6, 6]\n",
       "\n"
      ]
     },
     "metadata": {},
     "output_type": "display_data"
    },
    {
     "name": "stdout",
     "output_type": "stream",
     "text": [
      "Example test output\n"
     ]
    },
    {
     "data": {
      "text/html": [
       "<pre style=\"white-space:pre;overflow-x:auto;line-height:normal;font-family:Menlo,'DejaVu Sans Mono',consolas,'Courier New',monospace\"><span style=\"background-color: #000000\">    </span>  [0, 0]\n",
       "<span style=\"background-color: #000000\">    </span>  [0, 0]\n",
       "<span style=\"background-color: #000000\">    </span>  [0, 0]\n",
       "<span style=\"background-color: #000000\">  </span><span style=\"background-color: #00ff00\">  </span>  [0, 9]\n",
       "<span style=\"background-color: #000000\">    </span>  [0, 0]\n",
       "<span style=\"background-color: #000000\">  </span><span style=\"background-color: #00ff00\">  </span>  [0, 9]\n",
       "<span style=\"background-color: #000000\">  </span><span style=\"background-color: #00ff00\">  </span>  [0, 9]\n",
       "<span style=\"background-color: #000000\">    </span>  [0, 0]\n",
       "\n",
       "</pre>\n"
      ],
      "text/plain": [
       "\u001b[40m  \u001b[0m\u001b[40m  \u001b[0m  [0, 0]\n",
       "\u001b[40m  \u001b[0m\u001b[40m  \u001b[0m  [0, 0]\n",
       "\u001b[40m  \u001b[0m\u001b[40m  \u001b[0m  [0, 0]\n",
       "\u001b[40m  \u001b[0m\u001b[102m  \u001b[0m  [0, 9]\n",
       "\u001b[40m  \u001b[0m\u001b[40m  \u001b[0m  [0, 0]\n",
       "\u001b[40m  \u001b[0m\u001b[102m  \u001b[0m  [0, 9]\n",
       "\u001b[40m  \u001b[0m\u001b[102m  \u001b[0m  [0, 9]\n",
       "\u001b[40m  \u001b[0m\u001b[40m  \u001b[0m  [0, 0]\n",
       "\n"
      ]
     },
     "metadata": {},
     "output_type": "display_data"
    },
    {
     "name": "stdout",
     "output_type": "stream",
     "text": [
      "==================================================\n",
      "80\n",
      "==================================================\n",
      "Example input\n"
     ]
    },
    {
     "data": {
      "text/html": [
       "<pre style=\"white-space:pre;overflow-x:auto;line-height:normal;font-family:Menlo,'DejaVu Sans Mono',consolas,'Courier New',monospace\"><span style=\"background-color: #808000\">    </span><span style=\"background-color: #00ff00\">  </span><span style=\"background-color: #808000\">          </span>  [3, 3, 9, 3, 3, 3, 3, 3]\n",
       "<span style=\"background-color: #808000\">    </span><span style=\"background-color: #00ff00\">  </span><span style=\"background-color: #808000\">          </span>  [3, 3, 9, 3, 3, 3, 3, 3]\n",
       "<span style=\"background-color: #808000\">    </span><span style=\"background-color: #00ff00\">  </span><span style=\"background-color: #808000\">          </span>  [3, 3, 9, 3, 3, 3, 3, 3]\n",
       "<span style=\"background-color: #800000\">    </span><span style=\"background-color: #00ff00\">  </span><span style=\"background-color: #800000\">          </span>  [1, 1, 9, 1, 1, 1, 1, 1]\n",
       "<span style=\"background-color: #808000\">    </span><span style=\"background-color: #00ff00\">  </span><span style=\"background-color: #808000\">          </span>  [3, 3, 9, 3, 3, 3, 3, 3]\n",
       "<span style=\"background-color: #808000\">    </span><span style=\"background-color: #00ff00\">  </span><span style=\"background-color: #808000\">          </span>  [3, 3, 9, 3, 3, 3, 3, 3]\n",
       "<span style=\"background-color: #808000\">    </span><span style=\"background-color: #00ff00\">  </span><span style=\"background-color: #808000\">          </span>  [3, 3, 9, 3, 3, 3, 3, 3]\n",
       "<span style=\"background-color: #000000\">    </span><span style=\"background-color: #00ff00\">  </span><span style=\"background-color: #000000\">          </span>  [0, 0, 9, 0, 0, 0, 0, 0]\n",
       "<span style=\"background-color: #808000\">    </span><span style=\"background-color: #00ff00\">  </span><span style=\"background-color: #808000\">          </span>  [3, 3, 9, 3, 3, 3, 3, 3]\n",
       "\n",
       "</pre>\n"
      ],
      "text/plain": [
       "\u001b[43m  \u001b[0m\u001b[43m  \u001b[0m\u001b[102m  \u001b[0m\u001b[43m  \u001b[0m\u001b[43m  \u001b[0m\u001b[43m  \u001b[0m\u001b[43m  \u001b[0m\u001b[43m  \u001b[0m  [3, 3, 9, 3, 3, 3, 3, 3]\n",
       "\u001b[43m  \u001b[0m\u001b[43m  \u001b[0m\u001b[102m  \u001b[0m\u001b[43m  \u001b[0m\u001b[43m  \u001b[0m\u001b[43m  \u001b[0m\u001b[43m  \u001b[0m\u001b[43m  \u001b[0m  [3, 3, 9, 3, 3, 3, 3, 3]\n",
       "\u001b[43m  \u001b[0m\u001b[43m  \u001b[0m\u001b[102m  \u001b[0m\u001b[43m  \u001b[0m\u001b[43m  \u001b[0m\u001b[43m  \u001b[0m\u001b[43m  \u001b[0m\u001b[43m  \u001b[0m  [3, 3, 9, 3, 3, 3, 3, 3]\n",
       "\u001b[41m  \u001b[0m\u001b[41m  \u001b[0m\u001b[102m  \u001b[0m\u001b[41m  \u001b[0m\u001b[41m  \u001b[0m\u001b[41m  \u001b[0m\u001b[41m  \u001b[0m\u001b[41m  \u001b[0m  [1, 1, 9, 1, 1, 1, 1, 1]\n",
       "\u001b[43m  \u001b[0m\u001b[43m  \u001b[0m\u001b[102m  \u001b[0m\u001b[43m  \u001b[0m\u001b[43m  \u001b[0m\u001b[43m  \u001b[0m\u001b[43m  \u001b[0m\u001b[43m  \u001b[0m  [3, 3, 9, 3, 3, 3, 3, 3]\n",
       "\u001b[43m  \u001b[0m\u001b[43m  \u001b[0m\u001b[102m  \u001b[0m\u001b[43m  \u001b[0m\u001b[43m  \u001b[0m\u001b[43m  \u001b[0m\u001b[43m  \u001b[0m\u001b[43m  \u001b[0m  [3, 3, 9, 3, 3, 3, 3, 3]\n",
       "\u001b[43m  \u001b[0m\u001b[43m  \u001b[0m\u001b[102m  \u001b[0m\u001b[43m  \u001b[0m\u001b[43m  \u001b[0m\u001b[43m  \u001b[0m\u001b[43m  \u001b[0m\u001b[43m  \u001b[0m  [3, 3, 9, 3, 3, 3, 3, 3]\n",
       "\u001b[40m  \u001b[0m\u001b[40m  \u001b[0m\u001b[102m  \u001b[0m\u001b[40m  \u001b[0m\u001b[40m  \u001b[0m\u001b[40m  \u001b[0m\u001b[40m  \u001b[0m\u001b[40m  \u001b[0m  [0, 0, 9, 0, 0, 0, 0, 0]\n",
       "\u001b[43m  \u001b[0m\u001b[43m  \u001b[0m\u001b[102m  \u001b[0m\u001b[43m  \u001b[0m\u001b[43m  \u001b[0m\u001b[43m  \u001b[0m\u001b[43m  \u001b[0m\u001b[43m  \u001b[0m  [3, 3, 9, 3, 3, 3, 3, 3]\n",
       "\n"
      ]
     },
     "metadata": {},
     "output_type": "display_data"
    },
    {
     "name": "stdout",
     "output_type": "stream",
     "text": [
      "Example output\n"
     ]
    },
    {
     "data": {
      "text/html": [
       "<pre style=\"white-space:pre;overflow-x:auto;line-height:normal;font-family:Menlo,'DejaVu Sans Mono',consolas,'Courier New',monospace\"><span style=\"background-color: #808000\">    </span>  [3, 3]\n",
       "<span style=\"background-color: #808000\">    </span>  [3, 3]\n",
       "<span style=\"background-color: #808000\">    </span>  [3, 3]\n",
       "\n",
       "</pre>\n"
      ],
      "text/plain": [
       "\u001b[43m  \u001b[0m\u001b[43m  \u001b[0m  [3, 3]\n",
       "\u001b[43m  \u001b[0m\u001b[43m  \u001b[0m  [3, 3]\n",
       "\u001b[43m  \u001b[0m\u001b[43m  \u001b[0m  [3, 3]\n",
       "\n"
      ]
     },
     "metadata": {},
     "output_type": "display_data"
    },
    {
     "name": "stdout",
     "output_type": "stream",
     "text": [
      "==================================================\n",
      "Example test input\n"
     ]
    },
    {
     "data": {
      "text/html": [
       "<pre style=\"white-space:pre;overflow-x:auto;line-height:normal;font-family:Menlo,'DejaVu Sans Mono',consolas,'Courier New',monospace\"><span style=\"background-color: #800080\">      </span><span style=\"background-color: #008000\">  </span><span style=\"background-color: #800080\">  </span><span style=\"background-color: #c0c0c0\">  </span><span style=\"background-color: #800080\">  </span>  [5, 5, 5, 2, 5, 7, 5]\n",
       "<span style=\"background-color: #00ff00\">      </span><span style=\"background-color: #008000\">  </span><span style=\"background-color: #00ff00\">  </span><span style=\"background-color: #c0c0c0\">  </span><span style=\"background-color: #00ff00\">  </span>  [9, 9, 9, 2, 9, 7, 9]\n",
       "<span style=\"background-color: #800080\">      </span><span style=\"background-color: #008000\">  </span><span style=\"background-color: #800080\">  </span><span style=\"background-color: #c0c0c0\">  </span><span style=\"background-color: #800080\">  </span>  [5, 5, 5, 2, 5, 7, 5]\n",
       "<span style=\"background-color: #c0c0c0\">      </span><span style=\"background-color: #008000\">  </span><span style=\"background-color: #c0c0c0\">      </span>  [7, 7, 7, 2, 7, 7, 7]\n",
       "<span style=\"background-color: #800080\">      </span><span style=\"background-color: #008000\">  </span><span style=\"background-color: #800080\">  </span><span style=\"background-color: #c0c0c0\">  </span><span style=\"background-color: #800080\">  </span>  [5, 5, 5, 2, 5, 7, 5]\n",
       "<span style=\"background-color: #800080\">      </span><span style=\"background-color: #008000\">  </span><span style=\"background-color: #800080\">  </span><span style=\"background-color: #c0c0c0\">  </span><span style=\"background-color: #800080\">  </span>  [5, 5, 5, 2, 5, 7, 5]\n",
       "\n",
       "</pre>\n"
      ],
      "text/plain": [
       "\u001b[45m  \u001b[0m\u001b[45m  \u001b[0m\u001b[45m  \u001b[0m\u001b[42m  \u001b[0m\u001b[45m  \u001b[0m\u001b[47m  \u001b[0m\u001b[45m  \u001b[0m  [5, 5, 5, 2, 5, 7, 5]\n",
       "\u001b[102m  \u001b[0m\u001b[102m  \u001b[0m\u001b[102m  \u001b[0m\u001b[42m  \u001b[0m\u001b[102m  \u001b[0m\u001b[47m  \u001b[0m\u001b[102m  \u001b[0m  [9, 9, 9, 2, 9, 7, 9]\n",
       "\u001b[45m  \u001b[0m\u001b[45m  \u001b[0m\u001b[45m  \u001b[0m\u001b[42m  \u001b[0m\u001b[45m  \u001b[0m\u001b[47m  \u001b[0m\u001b[45m  \u001b[0m  [5, 5, 5, 2, 5, 7, 5]\n",
       "\u001b[47m  \u001b[0m\u001b[47m  \u001b[0m\u001b[47m  \u001b[0m\u001b[42m  \u001b[0m\u001b[47m  \u001b[0m\u001b[47m  \u001b[0m\u001b[47m  \u001b[0m  [7, 7, 7, 2, 7, 7, 7]\n",
       "\u001b[45m  \u001b[0m\u001b[45m  \u001b[0m\u001b[45m  \u001b[0m\u001b[42m  \u001b[0m\u001b[45m  \u001b[0m\u001b[47m  \u001b[0m\u001b[45m  \u001b[0m  [5, 5, 5, 2, 5, 7, 5]\n",
       "\u001b[45m  \u001b[0m\u001b[45m  \u001b[0m\u001b[45m  \u001b[0m\u001b[42m  \u001b[0m\u001b[45m  \u001b[0m\u001b[47m  \u001b[0m\u001b[45m  \u001b[0m  [5, 5, 5, 2, 5, 7, 5]\n",
       "\n"
      ]
     },
     "metadata": {},
     "output_type": "display_data"
    },
    {
     "name": "stdout",
     "output_type": "stream",
     "text": [
      "Example test output\n"
     ]
    },
    {
     "data": {
      "text/html": [
       "<pre style=\"white-space:pre;overflow-x:auto;line-height:normal;font-family:Menlo,'DejaVu Sans Mono',consolas,'Courier New',monospace\"><span style=\"background-color: #800080\">      </span>  [5, 5, 5]\n",
       "<span style=\"background-color: #800080\">      </span>  [5, 5, 5]\n",
       "<span style=\"background-color: #800080\">      </span>  [5, 5, 5]\n",
       "\n",
       "</pre>\n"
      ],
      "text/plain": [
       "\u001b[45m  \u001b[0m\u001b[45m  \u001b[0m\u001b[45m  \u001b[0m  [5, 5, 5]\n",
       "\u001b[45m  \u001b[0m\u001b[45m  \u001b[0m\u001b[45m  \u001b[0m  [5, 5, 5]\n",
       "\u001b[45m  \u001b[0m\u001b[45m  \u001b[0m\u001b[45m  \u001b[0m  [5, 5, 5]\n",
       "\n"
      ]
     },
     "metadata": {},
     "output_type": "display_data"
    },
    {
     "name": "stdout",
     "output_type": "stream",
     "text": [
      "==================================================\n",
      "81\n",
      "==================================================\n",
      "Example input\n"
     ]
    },
    {
     "data": {
      "text/html": [
       "<pre style=\"white-space:pre;overflow-x:auto;line-height:normal;font-family:Menlo,'DejaVu Sans Mono',consolas,'Courier New',monospace\"><span style=\"background-color: #800080\">    </span>  [5, 5]\n",
       "<span style=\"background-color: #00ff00\">    </span>  [9, 9]\n",
       "\n",
       "</pre>\n"
      ],
      "text/plain": [
       "\u001b[45m  \u001b[0m\u001b[45m  \u001b[0m  [5, 5]\n",
       "\u001b[102m  \u001b[0m\u001b[102m  \u001b[0m  [9, 9]\n",
       "\n"
      ]
     },
     "metadata": {},
     "output_type": "display_data"
    },
    {
     "name": "stdout",
     "output_type": "stream",
     "text": [
      "Example output\n"
     ]
    },
    {
     "data": {
      "text/html": [
       "<pre style=\"white-space:pre;overflow-x:auto;line-height:normal;font-family:Menlo,'DejaVu Sans Mono',consolas,'Courier New',monospace\"><span style=\"background-color: #800080\">    </span><span style=\"background-color: #00ff00\">  </span><span style=\"background-color: #800080\">  </span>  [5, 5, 9, 5]\n",
       "<span style=\"background-color: #00ff00\">      </span><span style=\"background-color: #800080\">  </span>  [9, 9, 9, 5]\n",
       "<span style=\"background-color: #800080\">  </span><span style=\"background-color: #00ff00\">      </span>  [5, 9, 9, 9]\n",
       "<span style=\"background-color: #800080\">  </span><span style=\"background-color: #00ff00\">  </span><span style=\"background-color: #800080\">    </span>  [5, 9, 5, 5]\n",
       "\n",
       "</pre>\n"
      ],
      "text/plain": [
       "\u001b[45m  \u001b[0m\u001b[45m  \u001b[0m\u001b[102m  \u001b[0m\u001b[45m  \u001b[0m  [5, 5, 9, 5]\n",
       "\u001b[102m  \u001b[0m\u001b[102m  \u001b[0m\u001b[102m  \u001b[0m\u001b[45m  \u001b[0m  [9, 9, 9, 5]\n",
       "\u001b[45m  \u001b[0m\u001b[102m  \u001b[0m\u001b[102m  \u001b[0m\u001b[102m  \u001b[0m  [5, 9, 9, 9]\n",
       "\u001b[45m  \u001b[0m\u001b[102m  \u001b[0m\u001b[45m  \u001b[0m\u001b[45m  \u001b[0m  [5, 9, 5, 5]\n",
       "\n"
      ]
     },
     "metadata": {},
     "output_type": "display_data"
    },
    {
     "name": "stdout",
     "output_type": "stream",
     "text": [
      "==================================================\n",
      "Example test input\n"
     ]
    },
    {
     "data": {
      "text/html": [
       "<pre style=\"white-space:pre;overflow-x:auto;line-height:normal;font-family:Menlo,'DejaVu Sans Mono',consolas,'Courier New',monospace\"><span style=\"background-color: #00ff00\">    </span><span style=\"background-color: #800000\">    </span>  [9, 9, 1, 1]\n",
       "<span style=\"background-color: #00ff00\">  </span><span style=\"background-color: #800000\">    </span><span style=\"background-color: #00ff00\">  </span>  [9, 1, 1, 9]\n",
       "<span style=\"background-color: #800000\">  </span><span style=\"background-color: #00ff00\">  </span><span style=\"background-color: #800000\">    </span>  [1, 9, 1, 1]\n",
       "<span style=\"background-color: #00ff00\">        </span>  [9, 9, 9, 9]\n",
       "\n",
       "</pre>\n"
      ],
      "text/plain": [
       "\u001b[102m  \u001b[0m\u001b[102m  \u001b[0m\u001b[41m  \u001b[0m\u001b[41m  \u001b[0m  [9, 9, 1, 1]\n",
       "\u001b[102m  \u001b[0m\u001b[41m  \u001b[0m\u001b[41m  \u001b[0m\u001b[102m  \u001b[0m  [9, 1, 1, 9]\n",
       "\u001b[41m  \u001b[0m\u001b[102m  \u001b[0m\u001b[41m  \u001b[0m\u001b[41m  \u001b[0m  [1, 9, 1, 1]\n",
       "\u001b[102m  \u001b[0m\u001b[102m  \u001b[0m\u001b[102m  \u001b[0m\u001b[102m  \u001b[0m  [9, 9, 9, 9]\n",
       "\n"
      ]
     },
     "metadata": {},
     "output_type": "display_data"
    },
    {
     "name": "stdout",
     "output_type": "stream",
     "text": [
      "Example test output\n"
     ]
    },
    {
     "data": {
      "text/html": [
       "<pre style=\"white-space:pre;overflow-x:auto;line-height:normal;font-family:Menlo,'DejaVu Sans Mono',consolas,'Courier New',monospace\"><span style=\"background-color: #00ff00\">    </span><span style=\"background-color: #800000\">    </span><span style=\"background-color: #00ff00\">  </span><span style=\"background-color: #800000\">  </span><span style=\"background-color: #00ff00\">    </span>  [9, 9, 1, 1, 9, 1, 9, 9]\n",
       "<span style=\"background-color: #00ff00\">  </span><span style=\"background-color: #800000\">    </span><span style=\"background-color: #00ff00\">      </span><span style=\"background-color: #800000\">  </span><span style=\"background-color: #00ff00\">  </span>  [9, 1, 1, 9, 9, 9, 1, 9]\n",
       "<span style=\"background-color: #800000\">  </span><span style=\"background-color: #00ff00\">  </span><span style=\"background-color: #800000\">    </span><span style=\"background-color: #00ff00\">  </span><span style=\"background-color: #800000\">      </span>  [1, 9, 1, 1, 9, 1, 1, 1]\n",
       "<span style=\"background-color: #00ff00\">          </span><span style=\"background-color: #800000\">  </span><span style=\"background-color: #00ff00\">  </span><span style=\"background-color: #800000\">  </span>  [9, 9, 9, 9, 9, 1, 9, 1]\n",
       "<span style=\"background-color: #800000\">  </span><span style=\"background-color: #00ff00\">  </span><span style=\"background-color: #800000\">  </span><span style=\"background-color: #00ff00\">          </span>  [1, 9, 1, 9, 9, 9, 9, 9]\n",
       "<span style=\"background-color: #800000\">      </span><span style=\"background-color: #00ff00\">  </span><span style=\"background-color: #800000\">    </span><span style=\"background-color: #00ff00\">  </span><span style=\"background-color: #800000\">  </span>  [1, 1, 1, 9, 1, 1, 9, 1]\n",
       "<span style=\"background-color: #00ff00\">  </span><span style=\"background-color: #800000\">  </span><span style=\"background-color: #00ff00\">      </span><span style=\"background-color: #800000\">    </span><span style=\"background-color: #00ff00\">  </span>  [9, 1, 9, 9, 9, 1, 1, 9]\n",
       "<span style=\"background-color: #00ff00\">    </span><span style=\"background-color: #800000\">  </span><span style=\"background-color: #00ff00\">  </span><span style=\"background-color: #800000\">    </span><span style=\"background-color: #00ff00\">    </span>  [9, 9, 1, 9, 1, 1, 9, 9]\n",
       "\n",
       "</pre>\n"
      ],
      "text/plain": [
       "\u001b[102m  \u001b[0m\u001b[102m  \u001b[0m\u001b[41m  \u001b[0m\u001b[41m  \u001b[0m\u001b[102m  \u001b[0m\u001b[41m  \u001b[0m\u001b[102m  \u001b[0m\u001b[102m  \u001b[0m  [9, 9, 1, 1, 9, 1, 9, 9]\n",
       "\u001b[102m  \u001b[0m\u001b[41m  \u001b[0m\u001b[41m  \u001b[0m\u001b[102m  \u001b[0m\u001b[102m  \u001b[0m\u001b[102m  \u001b[0m\u001b[41m  \u001b[0m\u001b[102m  \u001b[0m  [9, 1, 1, 9, 9, 9, 1, 9]\n",
       "\u001b[41m  \u001b[0m\u001b[102m  \u001b[0m\u001b[41m  \u001b[0m\u001b[41m  \u001b[0m\u001b[102m  \u001b[0m\u001b[41m  \u001b[0m\u001b[41m  \u001b[0m\u001b[41m  \u001b[0m  [1, 9, 1, 1, 9, 1, 1, 1]\n",
       "\u001b[102m  \u001b[0m\u001b[102m  \u001b[0m\u001b[102m  \u001b[0m\u001b[102m  \u001b[0m\u001b[102m  \u001b[0m\u001b[41m  \u001b[0m\u001b[102m  \u001b[0m\u001b[41m  \u001b[0m  [9, 9, 9, 9, 9, 1, 9, 1]\n",
       "\u001b[41m  \u001b[0m\u001b[102m  \u001b[0m\u001b[41m  \u001b[0m\u001b[102m  \u001b[0m\u001b[102m  \u001b[0m\u001b[102m  \u001b[0m\u001b[102m  \u001b[0m\u001b[102m  \u001b[0m  [1, 9, 1, 9, 9, 9, 9, 9]\n",
       "\u001b[41m  \u001b[0m\u001b[41m  \u001b[0m\u001b[41m  \u001b[0m\u001b[102m  \u001b[0m\u001b[41m  \u001b[0m\u001b[41m  \u001b[0m\u001b[102m  \u001b[0m\u001b[41m  \u001b[0m  [1, 1, 1, 9, 1, 1, 9, 1]\n",
       "\u001b[102m  \u001b[0m\u001b[41m  \u001b[0m\u001b[102m  \u001b[0m\u001b[102m  \u001b[0m\u001b[102m  \u001b[0m\u001b[41m  \u001b[0m\u001b[41m  \u001b[0m\u001b[102m  \u001b[0m  [9, 1, 9, 9, 9, 1, 1, 9]\n",
       "\u001b[102m  \u001b[0m\u001b[102m  \u001b[0m\u001b[41m  \u001b[0m\u001b[102m  \u001b[0m\u001b[41m  \u001b[0m\u001b[41m  \u001b[0m\u001b[102m  \u001b[0m\u001b[102m  \u001b[0m  [9, 9, 1, 9, 1, 1, 9, 9]\n",
       "\n"
      ]
     },
     "metadata": {},
     "output_type": "display_data"
    },
    {
     "name": "stdout",
     "output_type": "stream",
     "text": [
      "==================================================\n",
      "82\n",
      "==================================================\n",
      "Example input\n"
     ]
    },
    {
     "data": {
      "text/html": [
       "<pre style=\"white-space:pre;overflow-x:auto;line-height:normal;font-family:Menlo,'DejaVu Sans Mono',consolas,'Courier New',monospace\"><span style=\"background-color: #c0c0c0\">    </span><span style=\"background-color: #008080\">  </span>  [7, 7, 6]\n",
       "<span style=\"background-color: #800080\">  </span><span style=\"background-color: #c0c0c0\">  </span><span style=\"background-color: #008080\">  </span>  [5, 7, 6]\n",
       "<span style=\"background-color: #008080\">      </span>  [6, 6, 6]\n",
       "\n",
       "</pre>\n"
      ],
      "text/plain": [
       "\u001b[47m  \u001b[0m\u001b[47m  \u001b[0m\u001b[46m  \u001b[0m  [7, 7, 6]\n",
       "\u001b[45m  \u001b[0m\u001b[47m  \u001b[0m\u001b[46m  \u001b[0m  [5, 7, 6]\n",
       "\u001b[46m  \u001b[0m\u001b[46m  \u001b[0m\u001b[46m  \u001b[0m  [6, 6, 6]\n",
       "\n"
      ]
     },
     "metadata": {},
     "output_type": "display_data"
    },
    {
     "name": "stdout",
     "output_type": "stream",
     "text": [
      "Example output\n"
     ]
    },
    {
     "data": {
      "text/html": [
       "<pre style=\"white-space:pre;overflow-x:auto;line-height:normal;font-family:Menlo,'DejaVu Sans Mono',consolas,'Courier New',monospace\"><span style=\"background-color: #008080\">        </span><span style=\"background-color: #c0c0c0\">        </span><span style=\"background-color: #008080\">  </span>  [6, 6, 6, 6, 7, 7, 7, 7, 6]\n",
       "<span style=\"background-color: #008080\">        </span><span style=\"background-color: #c0c0c0\">        </span><span style=\"background-color: #008080\">  </span>  [6, 6, 6, 6, 7, 7, 7, 7, 6]\n",
       "<span style=\"background-color: #008080\">        </span><span style=\"background-color: #c0c0c0\">        </span><span style=\"background-color: #008080\">  </span>  [6, 6, 6, 6, 7, 7, 7, 7, 6]\n",
       "<span style=\"background-color: #008080\">        </span><span style=\"background-color: #c0c0c0\">        </span><span style=\"background-color: #008080\">  </span>  [6, 6, 6, 6, 7, 7, 7, 7, 6]\n",
       "<span style=\"background-color: #c0c0c0\">        </span><span style=\"background-color: #008080\">          </span>  [7, 7, 7, 7, 6, 6, 6, 6, 6]\n",
       "<span style=\"background-color: #c0c0c0\">        </span><span style=\"background-color: #008080\">          </span>  [7, 7, 7, 7, 6, 6, 6, 6, 6]\n",
       "<span style=\"background-color: #c0c0c0\">        </span><span style=\"background-color: #008080\">          </span>  [7, 7, 7, 7, 6, 6, 6, 6, 6]\n",
       "<span style=\"background-color: #c0c0c0\">        </span><span style=\"background-color: #008080\">          </span>  [7, 7, 7, 7, 6, 6, 6, 6, 6]\n",
       "<span style=\"background-color: #008080\">                  </span>  [6, 6, 6, 6, 6, 6, 6, 6, 6]\n",
       "\n",
       "</pre>\n"
      ],
      "text/plain": [
       "\u001b[46m  \u001b[0m\u001b[46m  \u001b[0m\u001b[46m  \u001b[0m\u001b[46m  \u001b[0m\u001b[47m  \u001b[0m\u001b[47m  \u001b[0m\u001b[47m  \u001b[0m\u001b[47m  \u001b[0m\u001b[46m  \u001b[0m  [6, 6, 6, 6, 7, 7, 7, 7, 6]\n",
       "\u001b[46m  \u001b[0m\u001b[46m  \u001b[0m\u001b[46m  \u001b[0m\u001b[46m  \u001b[0m\u001b[47m  \u001b[0m\u001b[47m  \u001b[0m\u001b[47m  \u001b[0m\u001b[47m  \u001b[0m\u001b[46m  \u001b[0m  [6, 6, 6, 6, 7, 7, 7, 7, 6]\n",
       "\u001b[46m  \u001b[0m\u001b[46m  \u001b[0m\u001b[46m  \u001b[0m\u001b[46m  \u001b[0m\u001b[47m  \u001b[0m\u001b[47m  \u001b[0m\u001b[47m  \u001b[0m\u001b[47m  \u001b[0m\u001b[46m  \u001b[0m  [6, 6, 6, 6, 7, 7, 7, 7, 6]\n",
       "\u001b[46m  \u001b[0m\u001b[46m  \u001b[0m\u001b[46m  \u001b[0m\u001b[46m  \u001b[0m\u001b[47m  \u001b[0m\u001b[47m  \u001b[0m\u001b[47m  \u001b[0m\u001b[47m  \u001b[0m\u001b[46m  \u001b[0m  [6, 6, 6, 6, 7, 7, 7, 7, 6]\n",
       "\u001b[47m  \u001b[0m\u001b[47m  \u001b[0m\u001b[47m  \u001b[0m\u001b[47m  \u001b[0m\u001b[46m  \u001b[0m\u001b[46m  \u001b[0m\u001b[46m  \u001b[0m\u001b[46m  \u001b[0m\u001b[46m  \u001b[0m  [7, 7, 7, 7, 6, 6, 6, 6, 6]\n",
       "\u001b[47m  \u001b[0m\u001b[47m  \u001b[0m\u001b[47m  \u001b[0m\u001b[47m  \u001b[0m\u001b[46m  \u001b[0m\u001b[46m  \u001b[0m\u001b[46m  \u001b[0m\u001b[46m  \u001b[0m\u001b[46m  \u001b[0m  [7, 7, 7, 7, 6, 6, 6, 6, 6]\n",
       "\u001b[47m  \u001b[0m\u001b[47m  \u001b[0m\u001b[47m  \u001b[0m\u001b[47m  \u001b[0m\u001b[46m  \u001b[0m\u001b[46m  \u001b[0m\u001b[46m  \u001b[0m\u001b[46m  \u001b[0m\u001b[46m  \u001b[0m  [7, 7, 7, 7, 6, 6, 6, 6, 6]\n",
       "\u001b[47m  \u001b[0m\u001b[47m  \u001b[0m\u001b[47m  \u001b[0m\u001b[47m  \u001b[0m\u001b[46m  \u001b[0m\u001b[46m  \u001b[0m\u001b[46m  \u001b[0m\u001b[46m  \u001b[0m\u001b[46m  \u001b[0m  [7, 7, 7, 7, 6, 6, 6, 6, 6]\n",
       "\u001b[46m  \u001b[0m\u001b[46m  \u001b[0m\u001b[46m  \u001b[0m\u001b[46m  \u001b[0m\u001b[46m  \u001b[0m\u001b[46m  \u001b[0m\u001b[46m  \u001b[0m\u001b[46m  \u001b[0m\u001b[46m  \u001b[0m  [6, 6, 6, 6, 6, 6, 6, 6, 6]\n",
       "\n"
      ]
     },
     "metadata": {},
     "output_type": "display_data"
    },
    {
     "name": "stdout",
     "output_type": "stream",
     "text": [
      "==================================================\n",
      "Example test input\n"
     ]
    },
    {
     "data": {
      "text/html": [
       "<pre style=\"white-space:pre;overflow-x:auto;line-height:normal;font-family:Menlo,'DejaVu Sans Mono',consolas,'Courier New',monospace\"><span style=\"background-color: #000000\">      </span>  [0, 0, 0]\n",
       "<span style=\"background-color: #800000\">  </span><span style=\"background-color: #00ff00\">  </span><span style=\"background-color: #000000\">  </span>  [1, 9, 0]\n",
       "<span style=\"background-color: #800000\">    </span><span style=\"background-color: #000000\">  </span>  [1, 1, 0]\n",
       "\n",
       "</pre>\n"
      ],
      "text/plain": [
       "\u001b[40m  \u001b[0m\u001b[40m  \u001b[0m\u001b[40m  \u001b[0m  [0, 0, 0]\n",
       "\u001b[41m  \u001b[0m\u001b[102m  \u001b[0m\u001b[40m  \u001b[0m  [1, 9, 0]\n",
       "\u001b[41m  \u001b[0m\u001b[41m  \u001b[0m\u001b[40m  \u001b[0m  [1, 1, 0]\n",
       "\n"
      ]
     },
     "metadata": {},
     "output_type": "display_data"
    },
    {
     "name": "stdout",
     "output_type": "stream",
     "text": [
      "Example test output\n"
     ]
    },
    {
     "data": {
      "text/html": [
       "<pre style=\"white-space:pre;overflow-x:auto;line-height:normal;font-family:Menlo,'DejaVu Sans Mono',consolas,'Courier New',monospace\"><span style=\"background-color: #000000\">                  </span>  [0, 0, 0, 0, 0, 0, 0, 0, 0]\n",
       "<span style=\"background-color: #000000\">        </span><span style=\"background-color: #800000\">        </span><span style=\"background-color: #000000\">  </span>  [0, 0, 0, 0, 1, 1, 1, 1, 0]\n",
       "<span style=\"background-color: #000000\">        </span><span style=\"background-color: #800000\">        </span><span style=\"background-color: #000000\">  </span>  [0, 0, 0, 0, 1, 1, 1, 1, 0]\n",
       "<span style=\"background-color: #000000\">        </span><span style=\"background-color: #800000\">        </span><span style=\"background-color: #000000\">  </span>  [0, 0, 0, 0, 1, 1, 1, 1, 0]\n",
       "<span style=\"background-color: #000000\">        </span><span style=\"background-color: #800000\">        </span><span style=\"background-color: #000000\">  </span>  [0, 0, 0, 0, 1, 1, 1, 1, 0]\n",
       "<span style=\"background-color: #800000\">        </span><span style=\"background-color: #000000\">          </span>  [1, 1, 1, 1, 0, 0, 0, 0, 0]\n",
       "<span style=\"background-color: #800000\">        </span><span style=\"background-color: #000000\">          </span>  [1, 1, 1, 1, 0, 0, 0, 0, 0]\n",
       "<span style=\"background-color: #800000\">        </span><span style=\"background-color: #000000\">          </span>  [1, 1, 1, 1, 0, 0, 0, 0, 0]\n",
       "<span style=\"background-color: #800000\">        </span><span style=\"background-color: #000000\">          </span>  [1, 1, 1, 1, 0, 0, 0, 0, 0]\n",
       "\n",
       "</pre>\n"
      ],
      "text/plain": [
       "\u001b[40m  \u001b[0m\u001b[40m  \u001b[0m\u001b[40m  \u001b[0m\u001b[40m  \u001b[0m\u001b[40m  \u001b[0m\u001b[40m  \u001b[0m\u001b[40m  \u001b[0m\u001b[40m  \u001b[0m\u001b[40m  \u001b[0m  [0, 0, 0, 0, 0, 0, 0, 0, 0]\n",
       "\u001b[40m  \u001b[0m\u001b[40m  \u001b[0m\u001b[40m  \u001b[0m\u001b[40m  \u001b[0m\u001b[41m  \u001b[0m\u001b[41m  \u001b[0m\u001b[41m  \u001b[0m\u001b[41m  \u001b[0m\u001b[40m  \u001b[0m  [0, 0, 0, 0, 1, 1, 1, 1, 0]\n",
       "\u001b[40m  \u001b[0m\u001b[40m  \u001b[0m\u001b[40m  \u001b[0m\u001b[40m  \u001b[0m\u001b[41m  \u001b[0m\u001b[41m  \u001b[0m\u001b[41m  \u001b[0m\u001b[41m  \u001b[0m\u001b[40m  \u001b[0m  [0, 0, 0, 0, 1, 1, 1, 1, 0]\n",
       "\u001b[40m  \u001b[0m\u001b[40m  \u001b[0m\u001b[40m  \u001b[0m\u001b[40m  \u001b[0m\u001b[41m  \u001b[0m\u001b[41m  \u001b[0m\u001b[41m  \u001b[0m\u001b[41m  \u001b[0m\u001b[40m  \u001b[0m  [0, 0, 0, 0, 1, 1, 1, 1, 0]\n",
       "\u001b[40m  \u001b[0m\u001b[40m  \u001b[0m\u001b[40m  \u001b[0m\u001b[40m  \u001b[0m\u001b[41m  \u001b[0m\u001b[41m  \u001b[0m\u001b[41m  \u001b[0m\u001b[41m  \u001b[0m\u001b[40m  \u001b[0m  [0, 0, 0, 0, 1, 1, 1, 1, 0]\n",
       "\u001b[41m  \u001b[0m\u001b[41m  \u001b[0m\u001b[41m  \u001b[0m\u001b[41m  \u001b[0m\u001b[40m  \u001b[0m\u001b[40m  \u001b[0m\u001b[40m  \u001b[0m\u001b[40m  \u001b[0m\u001b[40m  \u001b[0m  [1, 1, 1, 1, 0, 0, 0, 0, 0]\n",
       "\u001b[41m  \u001b[0m\u001b[41m  \u001b[0m\u001b[41m  \u001b[0m\u001b[41m  \u001b[0m\u001b[40m  \u001b[0m\u001b[40m  \u001b[0m\u001b[40m  \u001b[0m\u001b[40m  \u001b[0m\u001b[40m  \u001b[0m  [1, 1, 1, 1, 0, 0, 0, 0, 0]\n",
       "\u001b[41m  \u001b[0m\u001b[41m  \u001b[0m\u001b[41m  \u001b[0m\u001b[41m  \u001b[0m\u001b[40m  \u001b[0m\u001b[40m  \u001b[0m\u001b[40m  \u001b[0m\u001b[40m  \u001b[0m\u001b[40m  \u001b[0m  [1, 1, 1, 1, 0, 0, 0, 0, 0]\n",
       "\u001b[41m  \u001b[0m\u001b[41m  \u001b[0m\u001b[41m  \u001b[0m\u001b[41m  \u001b[0m\u001b[40m  \u001b[0m\u001b[40m  \u001b[0m\u001b[40m  \u001b[0m\u001b[40m  \u001b[0m\u001b[40m  \u001b[0m  [1, 1, 1, 1, 0, 0, 0, 0, 0]\n",
       "\n"
      ]
     },
     "metadata": {},
     "output_type": "display_data"
    },
    {
     "name": "stdout",
     "output_type": "stream",
     "text": [
      "==================================================\n",
      "83\n",
      "==================================================\n",
      "Example input\n"
     ]
    },
    {
     "data": {
      "text/html": [
       "<pre style=\"white-space:pre;overflow-x:auto;line-height:normal;font-family:Menlo,'DejaVu Sans Mono',consolas,'Courier New',monospace\"><span style=\"background-color: #008080\">  </span><span style=\"background-color: #000080\">      </span>  [6, 4, 4, 4]\n",
       "<span style=\"background-color: #000080\">    </span><span style=\"background-color: #808000\">  </span><span style=\"background-color: #000080\">  </span>  [4, 4, 3, 4]\n",
       "<span style=\"background-color: #008080\">  </span><span style=\"background-color: #000080\">  </span><span style=\"background-color: #808000\">  </span><span style=\"background-color: #000080\">  </span>  [6, 4, 3, 4]\n",
       "<span style=\"background-color: #800000\">    </span><span style=\"background-color: #800080\">  </span><span style=\"background-color: #000080\">  </span>  [1, 1, 5, 4]\n",
       "<span style=\"background-color: #800000\">    </span><span style=\"background-color: #000080\">    </span>  [1, 1, 4, 4]\n",
       "<span style=\"background-color: #800000\">  </span><span style=\"background-color: #000080\">    </span><span style=\"background-color: #800080\">  </span>  [1, 4, 4, 5]\n",
       "\n",
       "</pre>\n"
      ],
      "text/plain": [
       "\u001b[46m  \u001b[0m\u001b[44m  \u001b[0m\u001b[44m  \u001b[0m\u001b[44m  \u001b[0m  [6, 4, 4, 4]\n",
       "\u001b[44m  \u001b[0m\u001b[44m  \u001b[0m\u001b[43m  \u001b[0m\u001b[44m  \u001b[0m  [4, 4, 3, 4]\n",
       "\u001b[46m  \u001b[0m\u001b[44m  \u001b[0m\u001b[43m  \u001b[0m\u001b[44m  \u001b[0m  [6, 4, 3, 4]\n",
       "\u001b[41m  \u001b[0m\u001b[41m  \u001b[0m\u001b[45m  \u001b[0m\u001b[44m  \u001b[0m  [1, 1, 5, 4]\n",
       "\u001b[41m  \u001b[0m\u001b[41m  \u001b[0m\u001b[44m  \u001b[0m\u001b[44m  \u001b[0m  [1, 1, 4, 4]\n",
       "\u001b[41m  \u001b[0m\u001b[44m  \u001b[0m\u001b[44m  \u001b[0m\u001b[45m  \u001b[0m  [1, 4, 4, 5]\n",
       "\n"
      ]
     },
     "metadata": {},
     "output_type": "display_data"
    },
    {
     "name": "stdout",
     "output_type": "stream",
     "text": [
      "Example output\n"
     ]
    },
    {
     "data": {
      "text/html": [
       "<pre style=\"white-space:pre;overflow-x:auto;line-height:normal;font-family:Menlo,'DejaVu Sans Mono',consolas,'Courier New',monospace\"><span style=\"background-color: #800000\">    </span>  [1, 1]\n",
       "<span style=\"background-color: #808000\">  </span><span style=\"background-color: #800000\">  </span>  [3, 1]\n",
       "<span style=\"background-color: #808000\">  </span><span style=\"background-color: #800080\">  </span>  [3, 5]\n",
       "\n",
       "</pre>\n"
      ],
      "text/plain": [
       "\u001b[41m  \u001b[0m\u001b[41m  \u001b[0m  [1, 1]\n",
       "\u001b[43m  \u001b[0m\u001b[41m  \u001b[0m  [3, 1]\n",
       "\u001b[43m  \u001b[0m\u001b[45m  \u001b[0m  [3, 5]\n",
       "\n"
      ]
     },
     "metadata": {},
     "output_type": "display_data"
    },
    {
     "name": "stdout",
     "output_type": "stream",
     "text": [
      "==================================================\n",
      "Example test input\n"
     ]
    },
    {
     "data": {
      "text/html": [
       "<pre style=\"white-space:pre;overflow-x:auto;line-height:normal;font-family:Menlo,'DejaVu Sans Mono',consolas,'Courier New',monospace\"><span style=\"background-color: #800080\">      </span><span style=\"background-color: #ff0000\">  </span><span style=\"background-color: #800000\">    </span>  [5, 5, 5, 8, 1, 1]\n",
       "<span style=\"background-color: #800080\">  </span><span style=\"background-color: #800000\">  </span><span style=\"background-color: #800080\">  </span><span style=\"background-color: #800000\">      </span>  [5, 1, 5, 1, 1, 1]\n",
       "<span style=\"background-color: #800080\">  </span><span style=\"background-color: #800000\">          </span>  [5, 1, 1, 1, 1, 1]\n",
       "<span style=\"background-color: #000000\">    </span><span style=\"background-color: #800000\">    </span><span style=\"background-color: #008080\">  </span><span style=\"background-color: #800000\">  </span>  [0, 0, 1, 1, 6, 1]\n",
       "<span style=\"background-color: #000000\">      </span><span style=\"background-color: #800000\">  </span><span style=\"background-color: #008080\">    </span>  [0, 0, 0, 1, 6, 6]\n",
       "<span style=\"background-color: #800000\">  </span><span style=\"background-color: #000000\">  </span><span style=\"background-color: #800000\">        </span>  [1, 0, 1, 1, 1, 1]\n",
       "\n",
       "</pre>\n"
      ],
      "text/plain": [
       "\u001b[45m  \u001b[0m\u001b[45m  \u001b[0m\u001b[45m  \u001b[0m\u001b[101m  \u001b[0m\u001b[41m  \u001b[0m\u001b[41m  \u001b[0m  [5, 5, 5, 8, 1, 1]\n",
       "\u001b[45m  \u001b[0m\u001b[41m  \u001b[0m\u001b[45m  \u001b[0m\u001b[41m  \u001b[0m\u001b[41m  \u001b[0m\u001b[41m  \u001b[0m  [5, 1, 5, 1, 1, 1]\n",
       "\u001b[45m  \u001b[0m\u001b[41m  \u001b[0m\u001b[41m  \u001b[0m\u001b[41m  \u001b[0m\u001b[41m  \u001b[0m\u001b[41m  \u001b[0m  [5, 1, 1, 1, 1, 1]\n",
       "\u001b[40m  \u001b[0m\u001b[40m  \u001b[0m\u001b[41m  \u001b[0m\u001b[41m  \u001b[0m\u001b[46m  \u001b[0m\u001b[41m  \u001b[0m  [0, 0, 1, 1, 6, 1]\n",
       "\u001b[40m  \u001b[0m\u001b[40m  \u001b[0m\u001b[40m  \u001b[0m\u001b[41m  \u001b[0m\u001b[46m  \u001b[0m\u001b[46m  \u001b[0m  [0, 0, 0, 1, 6, 6]\n",
       "\u001b[41m  \u001b[0m\u001b[40m  \u001b[0m\u001b[41m  \u001b[0m\u001b[41m  \u001b[0m\u001b[41m  \u001b[0m\u001b[41m  \u001b[0m  [1, 0, 1, 1, 1, 1]\n",
       "\n"
      ]
     },
     "metadata": {},
     "output_type": "display_data"
    },
    {
     "name": "stdout",
     "output_type": "stream",
     "text": [
      "Example test output\n"
     ]
    },
    {
     "data": {
      "text/html": [
       "<pre style=\"white-space:pre;overflow-x:auto;line-height:normal;font-family:Menlo,'DejaVu Sans Mono',consolas,'Courier New',monospace\"><span style=\"background-color: #ff0000\">  </span><span style=\"background-color: #000000\">  </span><span style=\"background-color: #800080\">  </span>  [8, 0, 5]\n",
       "<span style=\"background-color: #000000\">      </span>  [0, 0, 0]\n",
       "<span style=\"background-color: #800080\">  </span><span style=\"background-color: #000000\">  </span><span style=\"background-color: #800000\">  </span>  [5, 0, 1]\n",
       "\n",
       "</pre>\n"
      ],
      "text/plain": [
       "\u001b[101m  \u001b[0m\u001b[40m  \u001b[0m\u001b[45m  \u001b[0m  [8, 0, 5]\n",
       "\u001b[40m  \u001b[0m\u001b[40m  \u001b[0m\u001b[40m  \u001b[0m  [0, 0, 0]\n",
       "\u001b[45m  \u001b[0m\u001b[40m  \u001b[0m\u001b[41m  \u001b[0m  [5, 0, 1]\n",
       "\n"
      ]
     },
     "metadata": {},
     "output_type": "display_data"
    },
    {
     "name": "stdout",
     "output_type": "stream",
     "text": [
      "==================================================\n",
      "84\n",
      "==================================================\n",
      "Example input\n"
     ]
    },
    {
     "data": {
      "text/html": [
       "<pre style=\"white-space:pre;overflow-x:auto;line-height:normal;font-family:Menlo,'DejaVu Sans Mono',consolas,'Courier New',monospace\"><span style=\"background-color: #c0c0c0\">                  </span>  [7, 7, 7, 7, 7, 7, 7, 7, 7]\n",
       "<span style=\"background-color: #c0c0c0\">    </span><span style=\"background-color: #008000\">  </span><span style=\"background-color: #c0c0c0\">      </span><span style=\"background-color: #008000\">  </span><span style=\"background-color: #c0c0c0\">    </span>  [7, 7, 2, 7, 7, 7, 2, 7, 7]\n",
       "<span style=\"background-color: #ff0000\">  </span><span style=\"background-color: #c0c0c0\">    </span><span style=\"background-color: #008000\">  </span><span style=\"background-color: #c0c0c0\">  </span><span style=\"background-color: #008000\">  </span><span style=\"background-color: #c0c0c0\">    </span><span style=\"background-color: #ff0000\">  </span>  [8, 7, 7, 2, 7, 2, 7, 7, 8]\n",
       "<span style=\"background-color: #c0c0c0\">  </span><span style=\"background-color: #ff0000\">    </span><span style=\"background-color: #c0c0c0\">      </span><span style=\"background-color: #ff0000\">    </span><span style=\"background-color: #c0c0c0\">  </span>  [7, 8, 8, 7, 7, 7, 8, 8, 7]\n",
       "<span style=\"background-color: #c0c0c0\">  </span><span style=\"background-color: #ff0000\">  </span><span style=\"background-color: #c0c0c0\">          </span><span style=\"background-color: #ff0000\">  </span><span style=\"background-color: #c0c0c0\">  </span>  [7, 8, 7, 7, 7, 7, 7, 8, 7]\n",
       "<span style=\"background-color: #c0c0c0\">                  </span>  [7, 7, 7, 7, 7, 7, 7, 7, 7]\n",
       "\n",
       "</pre>\n"
      ],
      "text/plain": [
       "\u001b[47m  \u001b[0m\u001b[47m  \u001b[0m\u001b[47m  \u001b[0m\u001b[47m  \u001b[0m\u001b[47m  \u001b[0m\u001b[47m  \u001b[0m\u001b[47m  \u001b[0m\u001b[47m  \u001b[0m\u001b[47m  \u001b[0m  [7, 7, 7, 7, 7, 7, 7, 7, 7]\n",
       "\u001b[47m  \u001b[0m\u001b[47m  \u001b[0m\u001b[42m  \u001b[0m\u001b[47m  \u001b[0m\u001b[47m  \u001b[0m\u001b[47m  \u001b[0m\u001b[42m  \u001b[0m\u001b[47m  \u001b[0m\u001b[47m  \u001b[0m  [7, 7, 2, 7, 7, 7, 2, 7, 7]\n",
       "\u001b[101m  \u001b[0m\u001b[47m  \u001b[0m\u001b[47m  \u001b[0m\u001b[42m  \u001b[0m\u001b[47m  \u001b[0m\u001b[42m  \u001b[0m\u001b[47m  \u001b[0m\u001b[47m  \u001b[0m\u001b[101m  \u001b[0m  [8, 7, 7, 2, 7, 2, 7, 7, 8]\n",
       "\u001b[47m  \u001b[0m\u001b[101m  \u001b[0m\u001b[101m  \u001b[0m\u001b[47m  \u001b[0m\u001b[47m  \u001b[0m\u001b[47m  \u001b[0m\u001b[101m  \u001b[0m\u001b[101m  \u001b[0m\u001b[47m  \u001b[0m  [7, 8, 8, 7, 7, 7, 8, 8, 7]\n",
       "\u001b[47m  \u001b[0m\u001b[101m  \u001b[0m\u001b[47m  \u001b[0m\u001b[47m  \u001b[0m\u001b[47m  \u001b[0m\u001b[47m  \u001b[0m\u001b[47m  \u001b[0m\u001b[101m  \u001b[0m\u001b[47m  \u001b[0m  [7, 8, 7, 7, 7, 7, 7, 8, 7]\n",
       "\u001b[47m  \u001b[0m\u001b[47m  \u001b[0m\u001b[47m  \u001b[0m\u001b[47m  \u001b[0m\u001b[47m  \u001b[0m\u001b[47m  \u001b[0m\u001b[47m  \u001b[0m\u001b[47m  \u001b[0m\u001b[47m  \u001b[0m  [7, 7, 7, 7, 7, 7, 7, 7, 7]\n",
       "\n"
      ]
     },
     "metadata": {},
     "output_type": "display_data"
    },
    {
     "name": "stdout",
     "output_type": "stream",
     "text": [
      "Example output\n"
     ]
    },
    {
     "data": {
      "text/html": [
       "<pre style=\"white-space:pre;overflow-x:auto;line-height:normal;font-family:Menlo,'DejaVu Sans Mono',consolas,'Courier New',monospace\"><span style=\"background-color: #800000\">  </span>  [1]\n",
       "\n",
       "</pre>\n"
      ],
      "text/plain": [
       "\u001b[41m  \u001b[0m  [1]\n",
       "\n"
      ]
     },
     "metadata": {},
     "output_type": "display_data"
    },
    {
     "name": "stdout",
     "output_type": "stream",
     "text": [
      "==================================================\n",
      "Example test input\n"
     ]
    },
    {
     "data": {
      "text/html": [
       "<pre style=\"white-space:pre;overflow-x:auto;line-height:normal;font-family:Menlo,'DejaVu Sans Mono',consolas,'Courier New',monospace\"><span style=\"background-color: #800000\">  </span><span style=\"background-color: #ff0000\">  </span><span style=\"background-color: #008000\">  </span><span style=\"background-color: #000080\">  </span><span style=\"background-color: #ff0000\">    </span><span style=\"background-color: #808000\">  </span>  [1, 8, 2, 4, 8, 8, 3]\n",
       "<span style=\"background-color: #800000\">  </span><span style=\"background-color: #ff0000\">  </span><span style=\"background-color: #800000\">  </span><span style=\"background-color: #ff0000\">  </span><span style=\"background-color: #800000\">  </span><span style=\"background-color: #008000\">  </span><span style=\"background-color: #800000\">  </span>  [1, 8, 1, 8, 1, 2, 1]\n",
       "<span style=\"background-color: #ff0000\">  </span><span style=\"background-color: #c0c0c0\">  </span><span style=\"background-color: #00ff00\">  </span><span style=\"background-color: #000080\">  </span><span style=\"background-color: #ff0000\">  </span><span style=\"background-color: #008080\">  </span><span style=\"background-color: #000000\">  </span>  [8, 7, 9, 4, 8, 6, 0]\n",
       "<span style=\"background-color: #ff0000\">  </span><span style=\"background-color: #c0c0c0\">  </span><span style=\"background-color: #00ff00\">  </span><span style=\"background-color: #000080\">  </span><span style=\"background-color: #ff0000\">  </span><span style=\"background-color: #008080\">  </span><span style=\"background-color: #000000\">  </span>  [8, 7, 9, 4, 8, 6, 0]\n",
       "<span style=\"background-color: #800000\">  </span><span style=\"background-color: #ff0000\">  </span><span style=\"background-color: #800000\">  </span><span style=\"background-color: #ff0000\">  </span><span style=\"background-color: #800000\">  </span><span style=\"background-color: #008000\">  </span><span style=\"background-color: #800000\">  </span>  [1, 8, 1, 8, 1, 2, 1]\n",
       "<span style=\"background-color: #800000\">  </span><span style=\"background-color: #ff0000\">  </span><span style=\"background-color: #008000\">  </span><span style=\"background-color: #000080\">  </span><span style=\"background-color: #ff0000\">    </span><span style=\"background-color: #808000\">  </span>  [1, 8, 2, 4, 8, 8, 3]\n",
       "\n",
       "</pre>\n"
      ],
      "text/plain": [
       "\u001b[41m  \u001b[0m\u001b[101m  \u001b[0m\u001b[42m  \u001b[0m\u001b[44m  \u001b[0m\u001b[101m  \u001b[0m\u001b[101m  \u001b[0m\u001b[43m  \u001b[0m  [1, 8, 2, 4, 8, 8, 3]\n",
       "\u001b[41m  \u001b[0m\u001b[101m  \u001b[0m\u001b[41m  \u001b[0m\u001b[101m  \u001b[0m\u001b[41m  \u001b[0m\u001b[42m  \u001b[0m\u001b[41m  \u001b[0m  [1, 8, 1, 8, 1, 2, 1]\n",
       "\u001b[101m  \u001b[0m\u001b[47m  \u001b[0m\u001b[102m  \u001b[0m\u001b[44m  \u001b[0m\u001b[101m  \u001b[0m\u001b[46m  \u001b[0m\u001b[40m  \u001b[0m  [8, 7, 9, 4, 8, 6, 0]\n",
       "\u001b[101m  \u001b[0m\u001b[47m  \u001b[0m\u001b[102m  \u001b[0m\u001b[44m  \u001b[0m\u001b[101m  \u001b[0m\u001b[46m  \u001b[0m\u001b[40m  \u001b[0m  [8, 7, 9, 4, 8, 6, 0]\n",
       "\u001b[41m  \u001b[0m\u001b[101m  \u001b[0m\u001b[41m  \u001b[0m\u001b[101m  \u001b[0m\u001b[41m  \u001b[0m\u001b[42m  \u001b[0m\u001b[41m  \u001b[0m  [1, 8, 1, 8, 1, 2, 1]\n",
       "\u001b[41m  \u001b[0m\u001b[101m  \u001b[0m\u001b[42m  \u001b[0m\u001b[44m  \u001b[0m\u001b[101m  \u001b[0m\u001b[101m  \u001b[0m\u001b[43m  \u001b[0m  [1, 8, 2, 4, 8, 8, 3]\n",
       "\n"
      ]
     },
     "metadata": {},
     "output_type": "display_data"
    },
    {
     "name": "stdout",
     "output_type": "stream",
     "text": [
      "Example test output\n"
     ]
    },
    {
     "data": {
      "text/html": [
       "<pre style=\"white-space:pre;overflow-x:auto;line-height:normal;font-family:Menlo,'DejaVu Sans Mono',consolas,'Courier New',monospace\"><span style=\"background-color: #800000\">  </span>  [1]\n",
       "\n",
       "</pre>\n"
      ],
      "text/plain": [
       "\u001b[41m  \u001b[0m  [1]\n",
       "\n"
      ]
     },
     "metadata": {},
     "output_type": "display_data"
    },
    {
     "name": "stdout",
     "output_type": "stream",
     "text": [
      "==================================================\n",
      "91\n",
      "==================================================\n",
      "Example input\n"
     ]
    },
    {
     "data": {
      "text/html": [
       "<pre style=\"white-space:pre;overflow-x:auto;line-height:normal;font-family:Menlo,'DejaVu Sans Mono',consolas,'Courier New',monospace\"><span style=\"background-color: #008080\">  </span><span style=\"background-color: #800080\">  </span><span style=\"background-color: #800000\">  </span><span style=\"background-color: #800080\">    </span>  [6, 5, 1, 5, 5]\n",
       "<span style=\"background-color: #800000\">  </span><span style=\"background-color: #800080\">        </span>  [1, 5, 5, 5, 5]\n",
       "<span style=\"background-color: #c0c0c0\">  </span><span style=\"background-color: #800080\">  </span><span style=\"background-color: #800000\">  </span><span style=\"background-color: #800080\">    </span>  [7, 5, 1, 5, 5]\n",
       "\n",
       "</pre>\n"
      ],
      "text/plain": [
       "\u001b[46m  \u001b[0m\u001b[45m  \u001b[0m\u001b[41m  \u001b[0m\u001b[45m  \u001b[0m\u001b[45m  \u001b[0m  [6, 5, 1, 5, 5]\n",
       "\u001b[41m  \u001b[0m\u001b[45m  \u001b[0m\u001b[45m  \u001b[0m\u001b[45m  \u001b[0m\u001b[45m  \u001b[0m  [1, 5, 5, 5, 5]\n",
       "\u001b[47m  \u001b[0m\u001b[45m  \u001b[0m\u001b[41m  \u001b[0m\u001b[45m  \u001b[0m\u001b[45m  \u001b[0m  [7, 5, 1, 5, 5]\n",
       "\n"
      ]
     },
     "metadata": {},
     "output_type": "display_data"
    },
    {
     "name": "stdout",
     "output_type": "stream",
     "text": [
      "Example output\n"
     ]
    },
    {
     "data": {
      "text/html": [
       "<pre style=\"white-space:pre;overflow-x:auto;line-height:normal;font-family:Menlo,'DejaVu Sans Mono',consolas,'Courier New',monospace\"><span style=\"background-color: #008080\">  </span><span style=\"background-color: #800080\">  </span><span style=\"background-color: #800000\">  </span><span style=\"background-color: #800080\">    </span>  [6, 5, 1, 5, 5]\n",
       "<span style=\"background-color: #800000\">  </span><span style=\"background-color: #800080\">        </span>  [1, 5, 5, 5, 5]\n",
       "<span style=\"background-color: #c0c0c0\">  </span><span style=\"background-color: #800080\">  </span><span style=\"background-color: #800000\">  </span><span style=\"background-color: #800080\">    </span>  [7, 5, 1, 5, 5]\n",
       "<span style=\"background-color: #800000\">  </span><span style=\"background-color: #800080\">        </span>  [1, 5, 5, 5, 5]\n",
       "<span style=\"background-color: #008080\">  </span><span style=\"background-color: #800080\">  </span><span style=\"background-color: #800000\">  </span><span style=\"background-color: #800080\">    </span>  [6, 5, 1, 5, 5]\n",
       "<span style=\"background-color: #800000\">  </span><span style=\"background-color: #800080\">        </span>  [1, 5, 5, 5, 5]\n",
       "<span style=\"background-color: #c0c0c0\">  </span><span style=\"background-color: #800080\">  </span><span style=\"background-color: #800000\">  </span><span style=\"background-color: #800080\">    </span>  [7, 5, 1, 5, 5]\n",
       "<span style=\"background-color: #800000\">  </span><span style=\"background-color: #800080\">        </span>  [1, 5, 5, 5, 5]\n",
       "<span style=\"background-color: #008080\">  </span><span style=\"background-color: #800080\">  </span><span style=\"background-color: #800000\">  </span><span style=\"background-color: #800080\">    </span>  [6, 5, 1, 5, 5]\n",
       "\n",
       "</pre>\n"
      ],
      "text/plain": [
       "\u001b[46m  \u001b[0m\u001b[45m  \u001b[0m\u001b[41m  \u001b[0m\u001b[45m  \u001b[0m\u001b[45m  \u001b[0m  [6, 5, 1, 5, 5]\n",
       "\u001b[41m  \u001b[0m\u001b[45m  \u001b[0m\u001b[45m  \u001b[0m\u001b[45m  \u001b[0m\u001b[45m  \u001b[0m  [1, 5, 5, 5, 5]\n",
       "\u001b[47m  \u001b[0m\u001b[45m  \u001b[0m\u001b[41m  \u001b[0m\u001b[45m  \u001b[0m\u001b[45m  \u001b[0m  [7, 5, 1, 5, 5]\n",
       "\u001b[41m  \u001b[0m\u001b[45m  \u001b[0m\u001b[45m  \u001b[0m\u001b[45m  \u001b[0m\u001b[45m  \u001b[0m  [1, 5, 5, 5, 5]\n",
       "\u001b[46m  \u001b[0m\u001b[45m  \u001b[0m\u001b[41m  \u001b[0m\u001b[45m  \u001b[0m\u001b[45m  \u001b[0m  [6, 5, 1, 5, 5]\n",
       "\u001b[41m  \u001b[0m\u001b[45m  \u001b[0m\u001b[45m  \u001b[0m\u001b[45m  \u001b[0m\u001b[45m  \u001b[0m  [1, 5, 5, 5, 5]\n",
       "\u001b[47m  \u001b[0m\u001b[45m  \u001b[0m\u001b[41m  \u001b[0m\u001b[45m  \u001b[0m\u001b[45m  \u001b[0m  [7, 5, 1, 5, 5]\n",
       "\u001b[41m  \u001b[0m\u001b[45m  \u001b[0m\u001b[45m  \u001b[0m\u001b[45m  \u001b[0m\u001b[45m  \u001b[0m  [1, 5, 5, 5, 5]\n",
       "\u001b[46m  \u001b[0m\u001b[45m  \u001b[0m\u001b[41m  \u001b[0m\u001b[45m  \u001b[0m\u001b[45m  \u001b[0m  [6, 5, 1, 5, 5]\n",
       "\n"
      ]
     },
     "metadata": {},
     "output_type": "display_data"
    },
    {
     "name": "stdout",
     "output_type": "stream",
     "text": [
      "==================================================\n",
      "Example test input\n"
     ]
    },
    {
     "data": {
      "text/html": [
       "<pre style=\"white-space:pre;overflow-x:auto;line-height:normal;font-family:Menlo,'DejaVu Sans Mono',consolas,'Courier New',monospace\"><span style=\"background-color: #000080\">  </span><span style=\"background-color: #800080\">      </span><span style=\"background-color: #ff0000\">  </span>  [4, 5, 5, 5, 8]\n",
       "<span style=\"background-color: #800000\">      </span><span style=\"background-color: #000080\">  </span><span style=\"background-color: #800080\">  </span>  [1, 1, 1, 4, 5]\n",
       "<span style=\"background-color: #800080\">  </span><span style=\"background-color: #800000\">  </span><span style=\"background-color: #800080\">  </span><span style=\"background-color: #800000\">  </span><span style=\"background-color: #800080\">  </span>  [5, 1, 5, 1, 5]\n",
       "\n",
       "</pre>\n"
      ],
      "text/plain": [
       "\u001b[44m  \u001b[0m\u001b[45m  \u001b[0m\u001b[45m  \u001b[0m\u001b[45m  \u001b[0m\u001b[101m  \u001b[0m  [4, 5, 5, 5, 8]\n",
       "\u001b[41m  \u001b[0m\u001b[41m  \u001b[0m\u001b[41m  \u001b[0m\u001b[44m  \u001b[0m\u001b[45m  \u001b[0m  [1, 1, 1, 4, 5]\n",
       "\u001b[45m  \u001b[0m\u001b[41m  \u001b[0m\u001b[45m  \u001b[0m\u001b[41m  \u001b[0m\u001b[45m  \u001b[0m  [5, 1, 5, 1, 5]\n",
       "\n"
      ]
     },
     "metadata": {},
     "output_type": "display_data"
    },
    {
     "name": "stdout",
     "output_type": "stream",
     "text": [
      "Example test output\n"
     ]
    },
    {
     "data": {
      "text/html": [
       "<pre style=\"white-space:pre;overflow-x:auto;line-height:normal;font-family:Menlo,'DejaVu Sans Mono',consolas,'Courier New',monospace\"><span style=\"background-color: #000080\">  </span><span style=\"background-color: #800080\">      </span><span style=\"background-color: #ff0000\">  </span>  [4, 5, 5, 5, 8]\n",
       "<span style=\"background-color: #800000\">      </span><span style=\"background-color: #000080\">  </span><span style=\"background-color: #800080\">  </span>  [1, 1, 1, 4, 5]\n",
       "<span style=\"background-color: #800080\">  </span><span style=\"background-color: #800000\">  </span><span style=\"background-color: #800080\">  </span><span style=\"background-color: #800000\">  </span><span style=\"background-color: #800080\">  </span>  [5, 1, 5, 1, 5]\n",
       "<span style=\"background-color: #800000\">      </span><span style=\"background-color: #000080\">  </span><span style=\"background-color: #800080\">  </span>  [1, 1, 1, 4, 5]\n",
       "<span style=\"background-color: #000080\">  </span><span style=\"background-color: #800080\">      </span><span style=\"background-color: #ff0000\">  </span>  [4, 5, 5, 5, 8]\n",
       "<span style=\"background-color: #800000\">      </span><span style=\"background-color: #000080\">  </span><span style=\"background-color: #800080\">  </span>  [1, 1, 1, 4, 5]\n",
       "<span style=\"background-color: #800080\">  </span><span style=\"background-color: #800000\">  </span><span style=\"background-color: #800080\">  </span><span style=\"background-color: #800000\">  </span><span style=\"background-color: #800080\">  </span>  [5, 1, 5, 1, 5]\n",
       "<span style=\"background-color: #800000\">      </span><span style=\"background-color: #000080\">  </span><span style=\"background-color: #800080\">  </span>  [1, 1, 1, 4, 5]\n",
       "<span style=\"background-color: #000080\">  </span><span style=\"background-color: #800080\">      </span><span style=\"background-color: #ff0000\">  </span>  [4, 5, 5, 5, 8]\n",
       "\n",
       "</pre>\n"
      ],
      "text/plain": [
       "\u001b[44m  \u001b[0m\u001b[45m  \u001b[0m\u001b[45m  \u001b[0m\u001b[45m  \u001b[0m\u001b[101m  \u001b[0m  [4, 5, 5, 5, 8]\n",
       "\u001b[41m  \u001b[0m\u001b[41m  \u001b[0m\u001b[41m  \u001b[0m\u001b[44m  \u001b[0m\u001b[45m  \u001b[0m  [1, 1, 1, 4, 5]\n",
       "\u001b[45m  \u001b[0m\u001b[41m  \u001b[0m\u001b[45m  \u001b[0m\u001b[41m  \u001b[0m\u001b[45m  \u001b[0m  [5, 1, 5, 1, 5]\n",
       "\u001b[41m  \u001b[0m\u001b[41m  \u001b[0m\u001b[41m  \u001b[0m\u001b[44m  \u001b[0m\u001b[45m  \u001b[0m  [1, 1, 1, 4, 5]\n",
       "\u001b[44m  \u001b[0m\u001b[45m  \u001b[0m\u001b[45m  \u001b[0m\u001b[45m  \u001b[0m\u001b[101m  \u001b[0m  [4, 5, 5, 5, 8]\n",
       "\u001b[41m  \u001b[0m\u001b[41m  \u001b[0m\u001b[41m  \u001b[0m\u001b[44m  \u001b[0m\u001b[45m  \u001b[0m  [1, 1, 1, 4, 5]\n",
       "\u001b[45m  \u001b[0m\u001b[41m  \u001b[0m\u001b[45m  \u001b[0m\u001b[41m  \u001b[0m\u001b[45m  \u001b[0m  [5, 1, 5, 1, 5]\n",
       "\u001b[41m  \u001b[0m\u001b[41m  \u001b[0m\u001b[41m  \u001b[0m\u001b[44m  \u001b[0m\u001b[45m  \u001b[0m  [1, 1, 1, 4, 5]\n",
       "\u001b[44m  \u001b[0m\u001b[45m  \u001b[0m\u001b[45m  \u001b[0m\u001b[45m  \u001b[0m\u001b[101m  \u001b[0m  [4, 5, 5, 5, 8]\n",
       "\n"
      ]
     },
     "metadata": {},
     "output_type": "display_data"
    },
    {
     "name": "stdout",
     "output_type": "stream",
     "text": [
      "==================================================\n",
      "93\n",
      "==================================================\n",
      "Example input\n"
     ]
    },
    {
     "data": {
      "text/html": [
       "<pre style=\"white-space:pre;overflow-x:auto;line-height:normal;font-family:Menlo,'DejaVu Sans Mono',consolas,'Courier New',monospace\"><span style=\"background-color: #008000\">            </span><span style=\"background-color: #808000\">        </span>  [2, 2, 2, 2, 2, 2, 3, 3, 3, 3]\n",
       "<span style=\"background-color: #008000\">              </span><span style=\"background-color: #808000\">      </span>  [2, 2, 2, 2, 2, 2, 2, 3, 3, 3]\n",
       "<span style=\"background-color: #008000\">                    </span>  [2, 2, 2, 2, 2, 2, 2, 2, 2, 2]\n",
       "<span style=\"background-color: #008000\">                    </span>  [2, 2, 2, 2, 2, 2, 2, 2, 2, 2]\n",
       "\n",
       "</pre>\n"
      ],
      "text/plain": [
       "\u001b[42m  \u001b[0m\u001b[42m  \u001b[0m\u001b[42m  \u001b[0m\u001b[42m  \u001b[0m\u001b[42m  \u001b[0m\u001b[42m  \u001b[0m\u001b[43m  \u001b[0m\u001b[43m  \u001b[0m\u001b[43m  \u001b[0m\u001b[43m  \u001b[0m  [2, 2, 2, 2, 2, 2, 3, 3, 3, 3]\n",
       "\u001b[42m  \u001b[0m\u001b[42m  \u001b[0m\u001b[42m  \u001b[0m\u001b[42m  \u001b[0m\u001b[42m  \u001b[0m\u001b[42m  \u001b[0m\u001b[42m  \u001b[0m\u001b[43m  \u001b[0m\u001b[43m  \u001b[0m\u001b[43m  \u001b[0m  [2, 2, 2, 2, 2, 2, 2, 3, 3, 3]\n",
       "\u001b[42m  \u001b[0m\u001b[42m  \u001b[0m\u001b[42m  \u001b[0m\u001b[42m  \u001b[0m\u001b[42m  \u001b[0m\u001b[42m  \u001b[0m\u001b[42m  \u001b[0m\u001b[42m  \u001b[0m\u001b[42m  \u001b[0m\u001b[42m  \u001b[0m  [2, 2, 2, 2, 2, 2, 2, 2, 2, 2]\n",
       "\u001b[42m  \u001b[0m\u001b[42m  \u001b[0m\u001b[42m  \u001b[0m\u001b[42m  \u001b[0m\u001b[42m  \u001b[0m\u001b[42m  \u001b[0m\u001b[42m  \u001b[0m\u001b[42m  \u001b[0m\u001b[42m  \u001b[0m\u001b[42m  \u001b[0m  [2, 2, 2, 2, 2, 2, 2, 2, 2, 2]\n",
       "\n"
      ]
     },
     "metadata": {},
     "output_type": "display_data"
    },
    {
     "name": "stdout",
     "output_type": "stream",
     "text": [
      "Example output\n"
     ]
    },
    {
     "data": {
      "text/html": [
       "<pre style=\"white-space:pre;overflow-x:auto;line-height:normal;font-family:Menlo,'DejaVu Sans Mono',consolas,'Courier New',monospace\"><span style=\"background-color: #808000\">        </span>  [3, 3, 3, 3]\n",
       "<span style=\"background-color: #008000\">  </span><span style=\"background-color: #808000\">      </span>  [2, 3, 3, 3]\n",
       "\n",
       "</pre>\n"
      ],
      "text/plain": [
       "\u001b[43m  \u001b[0m\u001b[43m  \u001b[0m\u001b[43m  \u001b[0m\u001b[43m  \u001b[0m  [3, 3, 3, 3]\n",
       "\u001b[42m  \u001b[0m\u001b[43m  \u001b[0m\u001b[43m  \u001b[0m\u001b[43m  \u001b[0m  [2, 3, 3, 3]\n",
       "\n"
      ]
     },
     "metadata": {},
     "output_type": "display_data"
    },
    {
     "name": "stdout",
     "output_type": "stream",
     "text": [
      "==================================================\n",
      "Example test input\n"
     ]
    },
    {
     "data": {
      "text/html": [
       "<pre style=\"white-space:pre;overflow-x:auto;line-height:normal;font-family:Menlo,'DejaVu Sans Mono',consolas,'Courier New',monospace\"><span style=\"background-color: #00ff00\">            </span>  [9, 9, 9, 9, 9, 9]\n",
       "<span style=\"background-color: #00ff00\">            </span>  [9, 9, 9, 9, 9, 9]\n",
       "<span style=\"background-color: #00ff00\">  </span><span style=\"background-color: #ff0000\">      </span><span style=\"background-color: #00ff00\">    </span>  [9, 8, 8, 8, 9, 9]\n",
       "<span style=\"background-color: #00ff00\">    </span><span style=\"background-color: #ff0000\">    </span><span style=\"background-color: #00ff00\">    </span>  [9, 9, 8, 8, 9, 9]\n",
       "\n",
       "</pre>\n"
      ],
      "text/plain": [
       "\u001b[102m  \u001b[0m\u001b[102m  \u001b[0m\u001b[102m  \u001b[0m\u001b[102m  \u001b[0m\u001b[102m  \u001b[0m\u001b[102m  \u001b[0m  [9, 9, 9, 9, 9, 9]\n",
       "\u001b[102m  \u001b[0m\u001b[102m  \u001b[0m\u001b[102m  \u001b[0m\u001b[102m  \u001b[0m\u001b[102m  \u001b[0m\u001b[102m  \u001b[0m  [9, 9, 9, 9, 9, 9]\n",
       "\u001b[102m  \u001b[0m\u001b[101m  \u001b[0m\u001b[101m  \u001b[0m\u001b[101m  \u001b[0m\u001b[102m  \u001b[0m\u001b[102m  \u001b[0m  [9, 8, 8, 8, 9, 9]\n",
       "\u001b[102m  \u001b[0m\u001b[102m  \u001b[0m\u001b[101m  \u001b[0m\u001b[101m  \u001b[0m\u001b[102m  \u001b[0m\u001b[102m  \u001b[0m  [9, 9, 8, 8, 9, 9]\n",
       "\n"
      ]
     },
     "metadata": {},
     "output_type": "display_data"
    },
    {
     "name": "stdout",
     "output_type": "stream",
     "text": [
      "Example test output\n"
     ]
    },
    {
     "data": {
      "text/html": [
       "<pre style=\"white-space:pre;overflow-x:auto;line-height:normal;font-family:Menlo,'DejaVu Sans Mono',consolas,'Courier New',monospace\"><span style=\"background-color: #ff0000\">      </span>  [8, 8, 8]\n",
       "<span style=\"background-color: #00ff00\">  </span><span style=\"background-color: #ff0000\">    </span>  [9, 8, 8]\n",
       "\n",
       "</pre>\n"
      ],
      "text/plain": [
       "\u001b[101m  \u001b[0m\u001b[101m  \u001b[0m\u001b[101m  \u001b[0m  [8, 8, 8]\n",
       "\u001b[102m  \u001b[0m\u001b[101m  \u001b[0m\u001b[101m  \u001b[0m  [9, 8, 8]\n",
       "\n"
      ]
     },
     "metadata": {},
     "output_type": "display_data"
    },
    {
     "name": "stdout",
     "output_type": "stream",
     "text": [
      "==================================================\n",
      "95\n",
      "==================================================\n",
      "Example input\n"
     ]
    },
    {
     "data": {
      "text/html": [
       "<pre style=\"white-space:pre;overflow-x:auto;line-height:normal;font-family:Menlo,'DejaVu Sans Mono',consolas,'Courier New',monospace\"><span style=\"background-color: #800080\">    </span><span style=\"background-color: #000080\">        </span><span style=\"background-color: #000000\">  </span><span style=\"background-color: #000080\">  </span>  [5, 5, 4, 4, 4, 4, 0, 4]\n",
       "<span style=\"background-color: #800080\">        </span><span style=\"background-color: #000080\">  </span><span style=\"background-color: #000000\">    </span><span style=\"background-color: #000080\">  </span>  [5, 5, 5, 5, 4, 0, 0, 4]\n",
       "<span style=\"background-color: #000080\">                </span>  [4, 4, 4, 4, 4, 4, 4, 4]\n",
       "<span style=\"background-color: #008000\">        </span><span style=\"background-color: #000080\">    </span><span style=\"background-color: #808000\">    </span>  [2, 2, 2, 2, 4, 4, 3, 3]\n",
       "<span style=\"background-color: #008000\">        </span><span style=\"background-color: #000080\">  </span><span style=\"background-color: #808000\">      </span>  [2, 2, 2, 2, 4, 3, 3, 3]\n",
       "<span style=\"background-color: #000080\">    </span><span style=\"background-color: #008000\">    </span><span style=\"background-color: #000080\">    </span><span style=\"background-color: #808000\">    </span>  [4, 4, 2, 2, 4, 4, 3, 3]\n",
       "<span style=\"background-color: #000080\">                </span>  [4, 4, 4, 4, 4, 4, 4, 4]\n",
       "<span style=\"background-color: #800000\">      </span><span style=\"background-color: #000080\">    </span><span style=\"background-color: #c0c0c0\">      </span>  [1, 1, 1, 4, 4, 7, 7, 7]\n",
       "<span style=\"background-color: #000080\">  </span><span style=\"background-color: #800000\">  </span><span style=\"background-color: #000080\">  </span><span style=\"background-color: #800000\">  </span><span style=\"background-color: #000080\">    </span><span style=\"background-color: #c0c0c0\">    </span>  [4, 1, 4, 1, 4, 4, 7, 7]\n",
       "\n",
       "</pre>\n"
      ],
      "text/plain": [
       "\u001b[45m  \u001b[0m\u001b[45m  \u001b[0m\u001b[44m  \u001b[0m\u001b[44m  \u001b[0m\u001b[44m  \u001b[0m\u001b[44m  \u001b[0m\u001b[40m  \u001b[0m\u001b[44m  \u001b[0m  [5, 5, 4, 4, 4, 4, 0, 4]\n",
       "\u001b[45m  \u001b[0m\u001b[45m  \u001b[0m\u001b[45m  \u001b[0m\u001b[45m  \u001b[0m\u001b[44m  \u001b[0m\u001b[40m  \u001b[0m\u001b[40m  \u001b[0m\u001b[44m  \u001b[0m  [5, 5, 5, 5, 4, 0, 0, 4]\n",
       "\u001b[44m  \u001b[0m\u001b[44m  \u001b[0m\u001b[44m  \u001b[0m\u001b[44m  \u001b[0m\u001b[44m  \u001b[0m\u001b[44m  \u001b[0m\u001b[44m  \u001b[0m\u001b[44m  \u001b[0m  [4, 4, 4, 4, 4, 4, 4, 4]\n",
       "\u001b[42m  \u001b[0m\u001b[42m  \u001b[0m\u001b[42m  \u001b[0m\u001b[42m  \u001b[0m\u001b[44m  \u001b[0m\u001b[44m  \u001b[0m\u001b[43m  \u001b[0m\u001b[43m  \u001b[0m  [2, 2, 2, 2, 4, 4, 3, 3]\n",
       "\u001b[42m  \u001b[0m\u001b[42m  \u001b[0m\u001b[42m  \u001b[0m\u001b[42m  \u001b[0m\u001b[44m  \u001b[0m\u001b[43m  \u001b[0m\u001b[43m  \u001b[0m\u001b[43m  \u001b[0m  [2, 2, 2, 2, 4, 3, 3, 3]\n",
       "\u001b[44m  \u001b[0m\u001b[44m  \u001b[0m\u001b[42m  \u001b[0m\u001b[42m  \u001b[0m\u001b[44m  \u001b[0m\u001b[44m  \u001b[0m\u001b[43m  \u001b[0m\u001b[43m  \u001b[0m  [4, 4, 2, 2, 4, 4, 3, 3]\n",
       "\u001b[44m  \u001b[0m\u001b[44m  \u001b[0m\u001b[44m  \u001b[0m\u001b[44m  \u001b[0m\u001b[44m  \u001b[0m\u001b[44m  \u001b[0m\u001b[44m  \u001b[0m\u001b[44m  \u001b[0m  [4, 4, 4, 4, 4, 4, 4, 4]\n",
       "\u001b[41m  \u001b[0m\u001b[41m  \u001b[0m\u001b[41m  \u001b[0m\u001b[44m  \u001b[0m\u001b[44m  \u001b[0m\u001b[47m  \u001b[0m\u001b[47m  \u001b[0m\u001b[47m  \u001b[0m  [1, 1, 1, 4, 4, 7, 7, 7]\n",
       "\u001b[44m  \u001b[0m\u001b[41m  \u001b[0m\u001b[44m  \u001b[0m\u001b[41m  \u001b[0m\u001b[44m  \u001b[0m\u001b[44m  \u001b[0m\u001b[47m  \u001b[0m\u001b[47m  \u001b[0m  [4, 1, 4, 1, 4, 4, 7, 7]\n",
       "\n"
      ]
     },
     "metadata": {},
     "output_type": "display_data"
    },
    {
     "name": "stdout",
     "output_type": "stream",
     "text": [
      "Example output\n"
     ]
    },
    {
     "data": {
      "text/html": [
       "<pre style=\"white-space:pre;overflow-x:auto;line-height:normal;font-family:Menlo,'DejaVu Sans Mono',consolas,'Courier New',monospace\"><span style=\"background-color: #800080\">  </span><span style=\"background-color: #000000\">  </span>  [5, 0]\n",
       "<span style=\"background-color: #008000\">  </span><span style=\"background-color: #808000\">  </span>  [2, 3]\n",
       "<span style=\"background-color: #800000\">  </span><span style=\"background-color: #c0c0c0\">  </span>  [1, 7]\n",
       "\n",
       "</pre>\n"
      ],
      "text/plain": [
       "\u001b[45m  \u001b[0m\u001b[40m  \u001b[0m  [5, 0]\n",
       "\u001b[42m  \u001b[0m\u001b[43m  \u001b[0m  [2, 3]\n",
       "\u001b[41m  \u001b[0m\u001b[47m  \u001b[0m  [1, 7]\n",
       "\n"
      ]
     },
     "metadata": {},
     "output_type": "display_data"
    },
    {
     "name": "stdout",
     "output_type": "stream",
     "text": [
      "==================================================\n",
      "Example test input\n"
     ]
    },
    {
     "data": {
      "text/html": [
       "<pre style=\"white-space:pre;overflow-x:auto;line-height:normal;font-family:Menlo,'DejaVu Sans Mono',consolas,'Courier New',monospace\"><span style=\"background-color: #00ff00\">    </span><span style=\"background-color: #ff0000\">  </span><span style=\"background-color: #00ff00\">  </span><span style=\"background-color: #ff0000\">  </span><span style=\"background-color: #800080\">      </span>  [9, 9, 8, 9, 8, 5, 5, 5]\n",
       "<span style=\"background-color: #ff0000\">    </span><span style=\"background-color: #00ff00\">  </span><span style=\"background-color: #ff0000\">    </span><span style=\"background-color: #800080\">  </span><span style=\"background-color: #ff0000\">    </span>  [8, 8, 9, 8, 8, 5, 8, 8]\n",
       "<span style=\"background-color: #ff0000\">                </span>  [8, 8, 8, 8, 8, 8, 8, 8]\n",
       "<span style=\"background-color: #00ff00\">  </span><span style=\"background-color: #ff0000\">    </span><span style=\"background-color: #00ff00\">  </span><span style=\"background-color: #ff0000\">  </span><span style=\"background-color: #c0c0c0\">      </span>  [9, 8, 8, 9, 8, 7, 7, 7]\n",
       "<span style=\"background-color: #00ff00\">        </span><span style=\"background-color: #ff0000\">  </span><span style=\"background-color: #c0c0c0\">  </span><span style=\"background-color: #ff0000\">  </span><span style=\"background-color: #c0c0c0\">  </span>  [9, 9, 9, 9, 8, 7, 8, 7]\n",
       "<span style=\"background-color: #00ff00\">  </span><span style=\"background-color: #ff0000\">    </span><span style=\"background-color: #00ff00\">  </span><span style=\"background-color: #ff0000\">    </span><span style=\"background-color: #c0c0c0\">  </span><span style=\"background-color: #ff0000\">  </span>  [9, 8, 8, 9, 8, 8, 7, 8]\n",
       "<span style=\"background-color: #ff0000\">    </span><span style=\"background-color: #00ff00\">  </span><span style=\"background-color: #ff0000\">        </span><span style=\"background-color: #c0c0c0\">  </span>  [8, 8, 9, 8, 8, 8, 8, 7]\n",
       "\n",
       "</pre>\n"
      ],
      "text/plain": [
       "\u001b[102m  \u001b[0m\u001b[102m  \u001b[0m\u001b[101m  \u001b[0m\u001b[102m  \u001b[0m\u001b[101m  \u001b[0m\u001b[45m  \u001b[0m\u001b[45m  \u001b[0m\u001b[45m  \u001b[0m  [9, 9, 8, 9, 8, 5, 5, 5]\n",
       "\u001b[101m  \u001b[0m\u001b[101m  \u001b[0m\u001b[102m  \u001b[0m\u001b[101m  \u001b[0m\u001b[101m  \u001b[0m\u001b[45m  \u001b[0m\u001b[101m  \u001b[0m\u001b[101m  \u001b[0m  [8, 8, 9, 8, 8, 5, 8, 8]\n",
       "\u001b[101m  \u001b[0m\u001b[101m  \u001b[0m\u001b[101m  \u001b[0m\u001b[101m  \u001b[0m\u001b[101m  \u001b[0m\u001b[101m  \u001b[0m\u001b[101m  \u001b[0m\u001b[101m  \u001b[0m  [8, 8, 8, 8, 8, 8, 8, 8]\n",
       "\u001b[102m  \u001b[0m\u001b[101m  \u001b[0m\u001b[101m  \u001b[0m\u001b[102m  \u001b[0m\u001b[101m  \u001b[0m\u001b[47m  \u001b[0m\u001b[47m  \u001b[0m\u001b[47m  \u001b[0m  [9, 8, 8, 9, 8, 7, 7, 7]\n",
       "\u001b[102m  \u001b[0m\u001b[102m  \u001b[0m\u001b[102m  \u001b[0m\u001b[102m  \u001b[0m\u001b[101m  \u001b[0m\u001b[47m  \u001b[0m\u001b[101m  \u001b[0m\u001b[47m  \u001b[0m  [9, 9, 9, 9, 8, 7, 8, 7]\n",
       "\u001b[102m  \u001b[0m\u001b[101m  \u001b[0m\u001b[101m  \u001b[0m\u001b[102m  \u001b[0m\u001b[101m  \u001b[0m\u001b[101m  \u001b[0m\u001b[47m  \u001b[0m\u001b[101m  \u001b[0m  [9, 8, 8, 9, 8, 8, 7, 8]\n",
       "\u001b[101m  \u001b[0m\u001b[101m  \u001b[0m\u001b[102m  \u001b[0m\u001b[101m  \u001b[0m\u001b[101m  \u001b[0m\u001b[101m  \u001b[0m\u001b[101m  \u001b[0m\u001b[47m  \u001b[0m  [8, 8, 9, 8, 8, 8, 8, 7]\n",
       "\n"
      ]
     },
     "metadata": {},
     "output_type": "display_data"
    },
    {
     "name": "stdout",
     "output_type": "stream",
     "text": [
      "Example test output\n"
     ]
    },
    {
     "data": {
      "text/html": [
       "<pre style=\"white-space:pre;overflow-x:auto;line-height:normal;font-family:Menlo,'DejaVu Sans Mono',consolas,'Courier New',monospace\"><span style=\"background-color: #00ff00\">  </span><span style=\"background-color: #800080\">  </span>  [9, 5]\n",
       "<span style=\"background-color: #00ff00\">  </span><span style=\"background-color: #c0c0c0\">  </span>  [9, 7]\n",
       "\n",
       "</pre>\n"
      ],
      "text/plain": [
       "\u001b[102m  \u001b[0m\u001b[45m  \u001b[0m  [9, 5]\n",
       "\u001b[102m  \u001b[0m\u001b[47m  \u001b[0m  [9, 7]\n",
       "\n"
      ]
     },
     "metadata": {},
     "output_type": "display_data"
    },
    {
     "name": "stdout",
     "output_type": "stream",
     "text": [
      "==================================================\n",
      "98\n",
      "==================================================\n",
      "Example input\n"
     ]
    },
    {
     "data": {
      "text/html": [
       "<pre style=\"white-space:pre;overflow-x:auto;line-height:normal;font-family:Menlo,'DejaVu Sans Mono',consolas,'Courier New',monospace\"><span style=\"background-color: #800000\">  </span>  [1]\n",
       "<span style=\"background-color: #000000\">  </span>  [0]\n",
       "<span style=\"background-color: #c0c0c0\">  </span>  [7]\n",
       "<span style=\"background-color: #00ff00\">  </span>  [9]\n",
       "<span style=\"background-color: #c0c0c0\">  </span>  [7]\n",
       "<span style=\"background-color: #008000\">  </span>  [2]\n",
       "\n",
       "</pre>\n"
      ],
      "text/plain": [
       "\u001b[41m  \u001b[0m  [1]\n",
       "\u001b[40m  \u001b[0m  [0]\n",
       "\u001b[47m  \u001b[0m  [7]\n",
       "\u001b[102m  \u001b[0m  [9]\n",
       "\u001b[47m  \u001b[0m  [7]\n",
       "\u001b[42m  \u001b[0m  [2]\n",
       "\n"
      ]
     },
     "metadata": {},
     "output_type": "display_data"
    },
    {
     "name": "stdout",
     "output_type": "stream",
     "text": [
      "Example output\n"
     ]
    },
    {
     "data": {
      "text/html": [
       "<pre style=\"white-space:pre;overflow-x:auto;line-height:normal;font-family:Menlo,'DejaVu Sans Mono',consolas,'Courier New',monospace\"><span style=\"background-color: #800000\">    </span>  [1, 1]\n",
       "<span style=\"background-color: #000000\">    </span>  [0, 0]\n",
       "<span style=\"background-color: #c0c0c0\">    </span>  [7, 7]\n",
       "<span style=\"background-color: #00ff00\">    </span>  [9, 9]\n",
       "<span style=\"background-color: #c0c0c0\">    </span>  [7, 7]\n",
       "<span style=\"background-color: #008000\">    </span>  [2, 2]\n",
       "\n",
       "</pre>\n"
      ],
      "text/plain": [
       "\u001b[41m  \u001b[0m\u001b[41m  \u001b[0m  [1, 1]\n",
       "\u001b[40m  \u001b[0m\u001b[40m  \u001b[0m  [0, 0]\n",
       "\u001b[47m  \u001b[0m\u001b[47m  \u001b[0m  [7, 7]\n",
       "\u001b[102m  \u001b[0m\u001b[102m  \u001b[0m  [9, 9]\n",
       "\u001b[47m  \u001b[0m\u001b[47m  \u001b[0m  [7, 7]\n",
       "\u001b[42m  \u001b[0m\u001b[42m  \u001b[0m  [2, 2]\n",
       "\n"
      ]
     },
     "metadata": {},
     "output_type": "display_data"
    },
    {
     "name": "stdout",
     "output_type": "stream",
     "text": [
      "==================================================\n",
      "Example test input\n"
     ]
    },
    {
     "data": {
      "text/html": [
       "<pre style=\"white-space:pre;overflow-x:auto;line-height:normal;font-family:Menlo,'DejaVu Sans Mono',consolas,'Courier New',monospace\"><span style=\"background-color: #008080\">  </span><span style=\"background-color: #800000\">  </span><span style=\"background-color: #00ff00\">  </span>  [6, 1, 9]\n",
       "<span style=\"background-color: #00ff00\">  </span><span style=\"background-color: #008080\">  </span><span style=\"background-color: #00ff00\">  </span>  [9, 6, 9]\n",
       "<span style=\"background-color: #008080\">    </span><span style=\"background-color: #00ff00\">  </span>  [6, 6, 9]\n",
       "<span style=\"background-color: #800000\">  </span><span style=\"background-color: #008080\">    </span>  [1, 6, 6]\n",
       "<span style=\"background-color: #008080\">  </span><span style=\"background-color: #00ff00\">  </span><span style=\"background-color: #008000\">  </span>  [6, 9, 2]\n",
       "<span style=\"background-color: #00ff00\">      </span>  [9, 9, 9]\n",
       "<span style=\"background-color: #00ff00\">  </span><span style=\"background-color: #800000\">  </span><span style=\"background-color: #00ff00\">  </span>  [9, 1, 9]\n",
       "<span style=\"background-color: #00ff00\">    </span><span style=\"background-color: #008080\">  </span>  [9, 9, 6]\n",
       "<span style=\"background-color: #00ff00\">  </span><span style=\"background-color: #800000\">  </span><span style=\"background-color: #00ff00\">  </span>  [9, 1, 9]\n",
       "\n",
       "</pre>\n"
      ],
      "text/plain": [
       "\u001b[46m  \u001b[0m\u001b[41m  \u001b[0m\u001b[102m  \u001b[0m  [6, 1, 9]\n",
       "\u001b[102m  \u001b[0m\u001b[46m  \u001b[0m\u001b[102m  \u001b[0m  [9, 6, 9]\n",
       "\u001b[46m  \u001b[0m\u001b[46m  \u001b[0m\u001b[102m  \u001b[0m  [6, 6, 9]\n",
       "\u001b[41m  \u001b[0m\u001b[46m  \u001b[0m\u001b[46m  \u001b[0m  [1, 6, 6]\n",
       "\u001b[46m  \u001b[0m\u001b[102m  \u001b[0m\u001b[42m  \u001b[0m  [6, 9, 2]\n",
       "\u001b[102m  \u001b[0m\u001b[102m  \u001b[0m\u001b[102m  \u001b[0m  [9, 9, 9]\n",
       "\u001b[102m  \u001b[0m\u001b[41m  \u001b[0m\u001b[102m  \u001b[0m  [9, 1, 9]\n",
       "\u001b[102m  \u001b[0m\u001b[102m  \u001b[0m\u001b[46m  \u001b[0m  [9, 9, 6]\n",
       "\u001b[102m  \u001b[0m\u001b[41m  \u001b[0m\u001b[102m  \u001b[0m  [9, 1, 9]\n",
       "\n"
      ]
     },
     "metadata": {},
     "output_type": "display_data"
    },
    {
     "name": "stdout",
     "output_type": "stream",
     "text": [
      "Example test output\n"
     ]
    },
    {
     "data": {
      "text/html": [
       "<pre style=\"white-space:pre;overflow-x:auto;line-height:normal;font-family:Menlo,'DejaVu Sans Mono',consolas,'Courier New',monospace\"><span style=\"background-color: #008080\">  </span><span style=\"background-color: #800000\">  </span><span style=\"background-color: #00ff00\">  </span><span style=\"background-color: #008080\">  </span><span style=\"background-color: #800000\">  </span><span style=\"background-color: #00ff00\">  </span>  [6, 1, 9, 6, 1, 9]\n",
       "<span style=\"background-color: #00ff00\">  </span><span style=\"background-color: #008080\">  </span><span style=\"background-color: #00ff00\">    </span><span style=\"background-color: #008080\">  </span><span style=\"background-color: #00ff00\">  </span>  [9, 6, 9, 9, 6, 9]\n",
       "<span style=\"background-color: #008080\">    </span><span style=\"background-color: #00ff00\">  </span><span style=\"background-color: #008080\">    </span><span style=\"background-color: #00ff00\">  </span>  [6, 6, 9, 6, 6, 9]\n",
       "<span style=\"background-color: #800000\">  </span><span style=\"background-color: #008080\">    </span><span style=\"background-color: #800000\">  </span><span style=\"background-color: #008080\">    </span>  [1, 6, 6, 1, 6, 6]\n",
       "<span style=\"background-color: #008080\">  </span><span style=\"background-color: #00ff00\">  </span><span style=\"background-color: #008000\">  </span><span style=\"background-color: #008080\">  </span><span style=\"background-color: #00ff00\">  </span><span style=\"background-color: #008000\">  </span>  [6, 9, 2, 6, 9, 2]\n",
       "<span style=\"background-color: #00ff00\">            </span>  [9, 9, 9, 9, 9, 9]\n",
       "<span style=\"background-color: #00ff00\">  </span><span style=\"background-color: #800000\">  </span><span style=\"background-color: #00ff00\">    </span><span style=\"background-color: #800000\">  </span><span style=\"background-color: #00ff00\">  </span>  [9, 1, 9, 9, 1, 9]\n",
       "<span style=\"background-color: #00ff00\">    </span><span style=\"background-color: #008080\">  </span><span style=\"background-color: #00ff00\">    </span><span style=\"background-color: #008080\">  </span>  [9, 9, 6, 9, 9, 6]\n",
       "<span style=\"background-color: #00ff00\">  </span><span style=\"background-color: #800000\">  </span><span style=\"background-color: #00ff00\">    </span><span style=\"background-color: #800000\">  </span><span style=\"background-color: #00ff00\">  </span>  [9, 1, 9, 9, 1, 9]\n",
       "\n",
       "</pre>\n"
      ],
      "text/plain": [
       "\u001b[46m  \u001b[0m\u001b[41m  \u001b[0m\u001b[102m  \u001b[0m\u001b[46m  \u001b[0m\u001b[41m  \u001b[0m\u001b[102m  \u001b[0m  [6, 1, 9, 6, 1, 9]\n",
       "\u001b[102m  \u001b[0m\u001b[46m  \u001b[0m\u001b[102m  \u001b[0m\u001b[102m  \u001b[0m\u001b[46m  \u001b[0m\u001b[102m  \u001b[0m  [9, 6, 9, 9, 6, 9]\n",
       "\u001b[46m  \u001b[0m\u001b[46m  \u001b[0m\u001b[102m  \u001b[0m\u001b[46m  \u001b[0m\u001b[46m  \u001b[0m\u001b[102m  \u001b[0m  [6, 6, 9, 6, 6, 9]\n",
       "\u001b[41m  \u001b[0m\u001b[46m  \u001b[0m\u001b[46m  \u001b[0m\u001b[41m  \u001b[0m\u001b[46m  \u001b[0m\u001b[46m  \u001b[0m  [1, 6, 6, 1, 6, 6]\n",
       "\u001b[46m  \u001b[0m\u001b[102m  \u001b[0m\u001b[42m  \u001b[0m\u001b[46m  \u001b[0m\u001b[102m  \u001b[0m\u001b[42m  \u001b[0m  [6, 9, 2, 6, 9, 2]\n",
       "\u001b[102m  \u001b[0m\u001b[102m  \u001b[0m\u001b[102m  \u001b[0m\u001b[102m  \u001b[0m\u001b[102m  \u001b[0m\u001b[102m  \u001b[0m  [9, 9, 9, 9, 9, 9]\n",
       "\u001b[102m  \u001b[0m\u001b[41m  \u001b[0m\u001b[102m  \u001b[0m\u001b[102m  \u001b[0m\u001b[41m  \u001b[0m\u001b[102m  \u001b[0m  [9, 1, 9, 9, 1, 9]\n",
       "\u001b[102m  \u001b[0m\u001b[102m  \u001b[0m\u001b[46m  \u001b[0m\u001b[102m  \u001b[0m\u001b[102m  \u001b[0m\u001b[46m  \u001b[0m  [9, 9, 6, 9, 9, 6]\n",
       "\u001b[102m  \u001b[0m\u001b[41m  \u001b[0m\u001b[102m  \u001b[0m\u001b[102m  \u001b[0m\u001b[41m  \u001b[0m\u001b[102m  \u001b[0m  [9, 1, 9, 9, 1, 9]\n",
       "\n"
      ]
     },
     "metadata": {},
     "output_type": "display_data"
    },
    {
     "name": "stdout",
     "output_type": "stream",
     "text": [
      "==================================================\n",
      "101\n",
      "==================================================\n",
      "Example input\n"
     ]
    },
    {
     "data": {
      "text/html": [
       "<pre style=\"white-space:pre;overflow-x:auto;line-height:normal;font-family:Menlo,'DejaVu Sans Mono',consolas,'Courier New',monospace\"><span style=\"background-color: #00ff00\">  </span><span style=\"background-color: #ff0000\">      </span><span style=\"background-color: #00ff00\">  </span>  [9, 8, 8, 8, 9]\n",
       "<span style=\"background-color: #00ff00\">  </span><span style=\"background-color: #ff0000\">      </span><span style=\"background-color: #808000\">  </span>  [9, 8, 8, 8, 3]\n",
       "<span style=\"background-color: #00ff00\">    </span><span style=\"background-color: #808000\">      </span>  [9, 9, 3, 3, 3]\n",
       "\n",
       "</pre>\n"
      ],
      "text/plain": [
       "\u001b[102m  \u001b[0m\u001b[101m  \u001b[0m\u001b[101m  \u001b[0m\u001b[101m  \u001b[0m\u001b[102m  \u001b[0m  [9, 8, 8, 8, 9]\n",
       "\u001b[102m  \u001b[0m\u001b[101m  \u001b[0m\u001b[101m  \u001b[0m\u001b[101m  \u001b[0m\u001b[43m  \u001b[0m  [9, 8, 8, 8, 3]\n",
       "\u001b[102m  \u001b[0m\u001b[102m  \u001b[0m\u001b[43m  \u001b[0m\u001b[43m  \u001b[0m\u001b[43m  \u001b[0m  [9, 9, 3, 3, 3]\n",
       "\n"
      ]
     },
     "metadata": {},
     "output_type": "display_data"
    },
    {
     "name": "stdout",
     "output_type": "stream",
     "text": [
      "Example output\n"
     ]
    },
    {
     "data": {
      "text/html": [
       "<pre style=\"white-space:pre;overflow-x:auto;line-height:normal;font-family:Menlo,'DejaVu Sans Mono',consolas,'Courier New',monospace\"><span style=\"background-color: #00ff00\">    </span><span style=\"background-color: #ff0000\">            </span><span style=\"background-color: #00ff00\">    </span>  [9, 9, 8, 8, 8, 8, 8, 8, 9, 9]\n",
       "<span style=\"background-color: #00ff00\">    </span><span style=\"background-color: #ff0000\">            </span><span style=\"background-color: #00ff00\">    </span>  [9, 9, 8, 8, 8, 8, 8, 8, 9, 9]\n",
       "<span style=\"background-color: #00ff00\">    </span><span style=\"background-color: #ff0000\">            </span><span style=\"background-color: #808000\">    </span>  [9, 9, 8, 8, 8, 8, 8, 8, 3, 3]\n",
       "<span style=\"background-color: #00ff00\">    </span><span style=\"background-color: #ff0000\">            </span><span style=\"background-color: #808000\">    </span>  [9, 9, 8, 8, 8, 8, 8, 8, 3, 3]\n",
       "<span style=\"background-color: #00ff00\">        </span><span style=\"background-color: #808000\">            </span>  [9, 9, 9, 9, 3, 3, 3, 3, 3, 3]\n",
       "<span style=\"background-color: #00ff00\">        </span><span style=\"background-color: #808000\">            </span>  [9, 9, 9, 9, 3, 3, 3, 3, 3, 3]\n",
       "\n",
       "</pre>\n"
      ],
      "text/plain": [
       "\u001b[102m  \u001b[0m\u001b[102m  \u001b[0m\u001b[101m  \u001b[0m\u001b[101m  \u001b[0m\u001b[101m  \u001b[0m\u001b[101m  \u001b[0m\u001b[101m  \u001b[0m\u001b[101m  \u001b[0m\u001b[102m  \u001b[0m\u001b[102m  \u001b[0m  [9, 9, 8, 8, 8, 8, 8, 8, 9, 9]\n",
       "\u001b[102m  \u001b[0m\u001b[102m  \u001b[0m\u001b[101m  \u001b[0m\u001b[101m  \u001b[0m\u001b[101m  \u001b[0m\u001b[101m  \u001b[0m\u001b[101m  \u001b[0m\u001b[101m  \u001b[0m\u001b[102m  \u001b[0m\u001b[102m  \u001b[0m  [9, 9, 8, 8, 8, 8, 8, 8, 9, 9]\n",
       "\u001b[102m  \u001b[0m\u001b[102m  \u001b[0m\u001b[101m  \u001b[0m\u001b[101m  \u001b[0m\u001b[101m  \u001b[0m\u001b[101m  \u001b[0m\u001b[101m  \u001b[0m\u001b[101m  \u001b[0m\u001b[43m  \u001b[0m\u001b[43m  \u001b[0m  [9, 9, 8, 8, 8, 8, 8, 8, 3, 3]\n",
       "\u001b[102m  \u001b[0m\u001b[102m  \u001b[0m\u001b[101m  \u001b[0m\u001b[101m  \u001b[0m\u001b[101m  \u001b[0m\u001b[101m  \u001b[0m\u001b[101m  \u001b[0m\u001b[101m  \u001b[0m\u001b[43m  \u001b[0m\u001b[43m  \u001b[0m  [9, 9, 8, 8, 8, 8, 8, 8, 3, 3]\n",
       "\u001b[102m  \u001b[0m\u001b[102m  \u001b[0m\u001b[102m  \u001b[0m\u001b[102m  \u001b[0m\u001b[43m  \u001b[0m\u001b[43m  \u001b[0m\u001b[43m  \u001b[0m\u001b[43m  \u001b[0m\u001b[43m  \u001b[0m\u001b[43m  \u001b[0m  [9, 9, 9, 9, 3, 3, 3, 3, 3, 3]\n",
       "\u001b[102m  \u001b[0m\u001b[102m  \u001b[0m\u001b[102m  \u001b[0m\u001b[102m  \u001b[0m\u001b[43m  \u001b[0m\u001b[43m  \u001b[0m\u001b[43m  \u001b[0m\u001b[43m  \u001b[0m\u001b[43m  \u001b[0m\u001b[43m  \u001b[0m  [9, 9, 9, 9, 3, 3, 3, 3, 3, 3]\n",
       "\n"
      ]
     },
     "metadata": {},
     "output_type": "display_data"
    },
    {
     "name": "stdout",
     "output_type": "stream",
     "text": [
      "==================================================\n",
      "Example test input\n"
     ]
    },
    {
     "data": {
      "text/html": [
       "<pre style=\"white-space:pre;overflow-x:auto;line-height:normal;font-family:Menlo,'DejaVu Sans Mono',consolas,'Courier New',monospace\"><span style=\"background-color: #008000\">  </span><span style=\"background-color: #800080\">  </span><span style=\"background-color: #000000\">  </span>  [2, 5, 0]\n",
       "<span style=\"background-color: #000000\">  </span><span style=\"background-color: #800080\">  </span><span style=\"background-color: #008000\">  </span>  [0, 5, 2]\n",
       "<span style=\"background-color: #008000\">  </span><span style=\"background-color: #800080\">  </span><span style=\"background-color: #000000\">  </span>  [2, 5, 0]\n",
       "<span style=\"background-color: #000000\">  </span><span style=\"background-color: #008000\">  </span><span style=\"background-color: #000000\">  </span>  [0, 2, 0]\n",
       "\n",
       "</pre>\n"
      ],
      "text/plain": [
       "\u001b[42m  \u001b[0m\u001b[45m  \u001b[0m\u001b[40m  \u001b[0m  [2, 5, 0]\n",
       "\u001b[40m  \u001b[0m\u001b[45m  \u001b[0m\u001b[42m  \u001b[0m  [0, 5, 2]\n",
       "\u001b[42m  \u001b[0m\u001b[45m  \u001b[0m\u001b[40m  \u001b[0m  [2, 5, 0]\n",
       "\u001b[40m  \u001b[0m\u001b[42m  \u001b[0m\u001b[40m  \u001b[0m  [0, 2, 0]\n",
       "\n"
      ]
     },
     "metadata": {},
     "output_type": "display_data"
    },
    {
     "name": "stdout",
     "output_type": "stream",
     "text": [
      "Example test output\n"
     ]
    },
    {
     "data": {
      "text/html": [
       "<pre style=\"white-space:pre;overflow-x:auto;line-height:normal;font-family:Menlo,'DejaVu Sans Mono',consolas,'Courier New',monospace\"><span style=\"background-color: #008000\">    </span><span style=\"background-color: #800080\">    </span><span style=\"background-color: #000000\">    </span>  [2, 2, 5, 5, 0, 0]\n",
       "<span style=\"background-color: #008000\">    </span><span style=\"background-color: #800080\">    </span><span style=\"background-color: #000000\">    </span>  [2, 2, 5, 5, 0, 0]\n",
       "<span style=\"background-color: #000000\">    </span><span style=\"background-color: #800080\">    </span><span style=\"background-color: #008000\">    </span>  [0, 0, 5, 5, 2, 2]\n",
       "<span style=\"background-color: #000000\">    </span><span style=\"background-color: #800080\">    </span><span style=\"background-color: #008000\">    </span>  [0, 0, 5, 5, 2, 2]\n",
       "<span style=\"background-color: #008000\">    </span><span style=\"background-color: #800080\">    </span><span style=\"background-color: #000000\">    </span>  [2, 2, 5, 5, 0, 0]\n",
       "<span style=\"background-color: #008000\">    </span><span style=\"background-color: #800080\">    </span><span style=\"background-color: #000000\">    </span>  [2, 2, 5, 5, 0, 0]\n",
       "<span style=\"background-color: #000000\">    </span><span style=\"background-color: #008000\">    </span><span style=\"background-color: #000000\">    </span>  [0, 0, 2, 2, 0, 0]\n",
       "<span style=\"background-color: #000000\">    </span><span style=\"background-color: #008000\">    </span><span style=\"background-color: #000000\">    </span>  [0, 0, 2, 2, 0, 0]\n",
       "\n",
       "</pre>\n"
      ],
      "text/plain": [
       "\u001b[42m  \u001b[0m\u001b[42m  \u001b[0m\u001b[45m  \u001b[0m\u001b[45m  \u001b[0m\u001b[40m  \u001b[0m\u001b[40m  \u001b[0m  [2, 2, 5, 5, 0, 0]\n",
       "\u001b[42m  \u001b[0m\u001b[42m  \u001b[0m\u001b[45m  \u001b[0m\u001b[45m  \u001b[0m\u001b[40m  \u001b[0m\u001b[40m  \u001b[0m  [2, 2, 5, 5, 0, 0]\n",
       "\u001b[40m  \u001b[0m\u001b[40m  \u001b[0m\u001b[45m  \u001b[0m\u001b[45m  \u001b[0m\u001b[42m  \u001b[0m\u001b[42m  \u001b[0m  [0, 0, 5, 5, 2, 2]\n",
       "\u001b[40m  \u001b[0m\u001b[40m  \u001b[0m\u001b[45m  \u001b[0m\u001b[45m  \u001b[0m\u001b[42m  \u001b[0m\u001b[42m  \u001b[0m  [0, 0, 5, 5, 2, 2]\n",
       "\u001b[42m  \u001b[0m\u001b[42m  \u001b[0m\u001b[45m  \u001b[0m\u001b[45m  \u001b[0m\u001b[40m  \u001b[0m\u001b[40m  \u001b[0m  [2, 2, 5, 5, 0, 0]\n",
       "\u001b[42m  \u001b[0m\u001b[42m  \u001b[0m\u001b[45m  \u001b[0m\u001b[45m  \u001b[0m\u001b[40m  \u001b[0m\u001b[40m  \u001b[0m  [2, 2, 5, 5, 0, 0]\n",
       "\u001b[40m  \u001b[0m\u001b[40m  \u001b[0m\u001b[42m  \u001b[0m\u001b[42m  \u001b[0m\u001b[40m  \u001b[0m\u001b[40m  \u001b[0m  [0, 0, 2, 2, 0, 0]\n",
       "\u001b[40m  \u001b[0m\u001b[40m  \u001b[0m\u001b[42m  \u001b[0m\u001b[42m  \u001b[0m\u001b[40m  \u001b[0m\u001b[40m  \u001b[0m  [0, 0, 2, 2, 0, 0]\n",
       "\n"
      ]
     },
     "metadata": {},
     "output_type": "display_data"
    },
    {
     "name": "stdout",
     "output_type": "stream",
     "text": [
      "==================================================\n",
      "103\n",
      "==================================================\n",
      "Example input\n"
     ]
    },
    {
     "data": {
      "text/html": [
       "<pre style=\"white-space:pre;overflow-x:auto;line-height:normal;font-family:Menlo,'DejaVu Sans Mono',consolas,'Courier New',monospace\"><span style=\"background-color: #000000\">                </span>  [0, 0, 0, 0, 0, 0, 0, 0]\n",
       "<span style=\"background-color: #000000\">                </span>  [0, 0, 0, 0, 0, 0, 0, 0]\n",
       "<span style=\"background-color: #000000\">                </span>  [0, 0, 0, 0, 0, 0, 0, 0]\n",
       "<span style=\"background-color: #000000\">      </span><span style=\"background-color: #800000\">  </span><span style=\"background-color: #000080\">  </span><span style=\"background-color: #000000\">      </span>  [0, 0, 0, 1, 4, 0, 0, 0]\n",
       "<span style=\"background-color: #800000\">    </span><span style=\"background-color: #000000\">  </span><span style=\"background-color: #000080\">    </span><span style=\"background-color: #000000\">      </span>  [1, 1, 0, 4, 4, 0, 0, 0]\n",
       "<span style=\"background-color: #000080\">  </span><span style=\"background-color: #800000\">  </span><span style=\"background-color: #000000\">            </span>  [4, 1, 0, 0, 0, 0, 0, 0]\n",
       "<span style=\"background-color: #000000\">                </span>  [0, 0, 0, 0, 0, 0, 0, 0]\n",
       "<span style=\"background-color: #000000\">                </span>  [0, 0, 0, 0, 0, 0, 0, 0]\n",
       "\n",
       "</pre>\n"
      ],
      "text/plain": [
       "\u001b[40m  \u001b[0m\u001b[40m  \u001b[0m\u001b[40m  \u001b[0m\u001b[40m  \u001b[0m\u001b[40m  \u001b[0m\u001b[40m  \u001b[0m\u001b[40m  \u001b[0m\u001b[40m  \u001b[0m  [0, 0, 0, 0, 0, 0, 0, 0]\n",
       "\u001b[40m  \u001b[0m\u001b[40m  \u001b[0m\u001b[40m  \u001b[0m\u001b[40m  \u001b[0m\u001b[40m  \u001b[0m\u001b[40m  \u001b[0m\u001b[40m  \u001b[0m\u001b[40m  \u001b[0m  [0, 0, 0, 0, 0, 0, 0, 0]\n",
       "\u001b[40m  \u001b[0m\u001b[40m  \u001b[0m\u001b[40m  \u001b[0m\u001b[40m  \u001b[0m\u001b[40m  \u001b[0m\u001b[40m  \u001b[0m\u001b[40m  \u001b[0m\u001b[40m  \u001b[0m  [0, 0, 0, 0, 0, 0, 0, 0]\n",
       "\u001b[40m  \u001b[0m\u001b[40m  \u001b[0m\u001b[40m  \u001b[0m\u001b[41m  \u001b[0m\u001b[44m  \u001b[0m\u001b[40m  \u001b[0m\u001b[40m  \u001b[0m\u001b[40m  \u001b[0m  [0, 0, 0, 1, 4, 0, 0, 0]\n",
       "\u001b[41m  \u001b[0m\u001b[41m  \u001b[0m\u001b[40m  \u001b[0m\u001b[44m  \u001b[0m\u001b[44m  \u001b[0m\u001b[40m  \u001b[0m\u001b[40m  \u001b[0m\u001b[40m  \u001b[0m  [1, 1, 0, 4, 4, 0, 0, 0]\n",
       "\u001b[44m  \u001b[0m\u001b[41m  \u001b[0m\u001b[40m  \u001b[0m\u001b[40m  \u001b[0m\u001b[40m  \u001b[0m\u001b[40m  \u001b[0m\u001b[40m  \u001b[0m\u001b[40m  \u001b[0m  [4, 1, 0, 0, 0, 0, 0, 0]\n",
       "\u001b[40m  \u001b[0m\u001b[40m  \u001b[0m\u001b[40m  \u001b[0m\u001b[40m  \u001b[0m\u001b[40m  \u001b[0m\u001b[40m  \u001b[0m\u001b[40m  \u001b[0m\u001b[40m  \u001b[0m  [0, 0, 0, 0, 0, 0, 0, 0]\n",
       "\u001b[40m  \u001b[0m\u001b[40m  \u001b[0m\u001b[40m  \u001b[0m\u001b[40m  \u001b[0m\u001b[40m  \u001b[0m\u001b[40m  \u001b[0m\u001b[40m  \u001b[0m\u001b[40m  \u001b[0m  [0, 0, 0, 0, 0, 0, 0, 0]\n",
       "\n"
      ]
     },
     "metadata": {},
     "output_type": "display_data"
    },
    {
     "name": "stdout",
     "output_type": "stream",
     "text": [
      "Example output\n"
     ]
    },
    {
     "data": {
      "text/html": [
       "<pre style=\"white-space:pre;overflow-x:auto;line-height:normal;font-family:Menlo,'DejaVu Sans Mono',consolas,'Courier New',monospace\"><span style=\"background-color: #800000\">    </span>  [1, 1]\n",
       "<span style=\"background-color: #000080\">  </span><span style=\"background-color: #800000\">  </span>  [4, 1]\n",
       "\n",
       "</pre>\n"
      ],
      "text/plain": [
       "\u001b[41m  \u001b[0m\u001b[41m  \u001b[0m  [1, 1]\n",
       "\u001b[44m  \u001b[0m\u001b[41m  \u001b[0m  [4, 1]\n",
       "\n"
      ]
     },
     "metadata": {},
     "output_type": "display_data"
    },
    {
     "name": "stdout",
     "output_type": "stream",
     "text": [
      "==================================================\n",
      "Example test input\n"
     ]
    },
    {
     "data": {
      "text/html": [
       "<pre style=\"white-space:pre;overflow-x:auto;line-height:normal;font-family:Menlo,'DejaVu Sans Mono',consolas,'Courier New',monospace\"><span style=\"background-color: #808000\">                </span>  [3, 3, 3, 3, 3, 3, 3, 3]\n",
       "<span style=\"background-color: #808000\">                </span>  [3, 3, 3, 3, 3, 3, 3, 3]\n",
       "<span style=\"background-color: #808000\">    </span><span style=\"background-color: #008080\">  </span><span style=\"background-color: #800000\">  </span><span style=\"background-color: #808000\">        </span>  [3, 3, 6, 1, 3, 3, 3, 3]\n",
       "<span style=\"background-color: #808000\">    </span><span style=\"background-color: #800000\">    </span><span style=\"background-color: #808000\">        </span>  [3, 3, 1, 1, 3, 3, 3, 3]\n",
       "<span style=\"background-color: #808000\">                </span>  [3, 3, 3, 3, 3, 3, 3, 3]\n",
       "<span style=\"background-color: #808000\">                </span>  [3, 3, 3, 3, 3, 3, 3, 3]\n",
       "\n",
       "</pre>\n"
      ],
      "text/plain": [
       "\u001b[43m  \u001b[0m\u001b[43m  \u001b[0m\u001b[43m  \u001b[0m\u001b[43m  \u001b[0m\u001b[43m  \u001b[0m\u001b[43m  \u001b[0m\u001b[43m  \u001b[0m\u001b[43m  \u001b[0m  [3, 3, 3, 3, 3, 3, 3, 3]\n",
       "\u001b[43m  \u001b[0m\u001b[43m  \u001b[0m\u001b[43m  \u001b[0m\u001b[43m  \u001b[0m\u001b[43m  \u001b[0m\u001b[43m  \u001b[0m\u001b[43m  \u001b[0m\u001b[43m  \u001b[0m  [3, 3, 3, 3, 3, 3, 3, 3]\n",
       "\u001b[43m  \u001b[0m\u001b[43m  \u001b[0m\u001b[46m  \u001b[0m\u001b[41m  \u001b[0m\u001b[43m  \u001b[0m\u001b[43m  \u001b[0m\u001b[43m  \u001b[0m\u001b[43m  \u001b[0m  [3, 3, 6, 1, 3, 3, 3, 3]\n",
       "\u001b[43m  \u001b[0m\u001b[43m  \u001b[0m\u001b[41m  \u001b[0m\u001b[41m  \u001b[0m\u001b[43m  \u001b[0m\u001b[43m  \u001b[0m\u001b[43m  \u001b[0m\u001b[43m  \u001b[0m  [3, 3, 1, 1, 3, 3, 3, 3]\n",
       "\u001b[43m  \u001b[0m\u001b[43m  \u001b[0m\u001b[43m  \u001b[0m\u001b[43m  \u001b[0m\u001b[43m  \u001b[0m\u001b[43m  \u001b[0m\u001b[43m  \u001b[0m\u001b[43m  \u001b[0m  [3, 3, 3, 3, 3, 3, 3, 3]\n",
       "\u001b[43m  \u001b[0m\u001b[43m  \u001b[0m\u001b[43m  \u001b[0m\u001b[43m  \u001b[0m\u001b[43m  \u001b[0m\u001b[43m  \u001b[0m\u001b[43m  \u001b[0m\u001b[43m  \u001b[0m  [3, 3, 3, 3, 3, 3, 3, 3]\n",
       "\n"
      ]
     },
     "metadata": {},
     "output_type": "display_data"
    },
    {
     "name": "stdout",
     "output_type": "stream",
     "text": [
      "Example test output\n"
     ]
    },
    {
     "data": {
      "text/html": [
       "<pre style=\"white-space:pre;overflow-x:auto;line-height:normal;font-family:Menlo,'DejaVu Sans Mono',consolas,'Courier New',monospace\"><span style=\"background-color: #008080\">  </span><span style=\"background-color: #800000\">  </span>  [6, 1]\n",
       "<span style=\"background-color: #800000\">    </span>  [1, 1]\n",
       "\n",
       "</pre>\n"
      ],
      "text/plain": [
       "\u001b[46m  \u001b[0m\u001b[41m  \u001b[0m  [6, 1]\n",
       "\u001b[41m  \u001b[0m\u001b[41m  \u001b[0m  [1, 1]\n",
       "\n"
      ]
     },
     "metadata": {},
     "output_type": "display_data"
    },
    {
     "name": "stdout",
     "output_type": "stream",
     "text": [
      "==================================================\n",
      "104\n",
      "==================================================\n",
      "Example input\n"
     ]
    },
    {
     "data": {
      "text/html": [
       "<pre style=\"white-space:pre;overflow-x:auto;line-height:normal;font-family:Menlo,'DejaVu Sans Mono',consolas,'Courier New',monospace\"><span style=\"background-color: #c0c0c0\">    </span><span style=\"background-color: #000000\">  </span><span style=\"background-color: #c0c0c0\">  </span><span style=\"background-color: #000000\">      </span><span style=\"background-color: #c0c0c0\">  </span><span style=\"background-color: #000000\">    </span>  [7, 7, 0, 7, 0, 0, 0, 7, 0, 0]\n",
       "<span style=\"background-color: #ff0000\">    </span><span style=\"background-color: #000000\">  </span><span style=\"background-color: #c0c0c0\">  </span><span style=\"background-color: #000000\">      </span><span style=\"background-color: #c0c0c0\">    </span><span style=\"background-color: #000000\">  </span>  [8, 8, 0, 7, 0, 0, 0, 7, 7, 0]\n",
       "<span style=\"background-color: #ff0000\">    </span><span style=\"background-color: #c0c0c0\">  </span><span style=\"background-color: #000000\">  </span><span style=\"background-color: #c0c0c0\">  </span><span style=\"background-color: #000000\">    </span><span style=\"background-color: #c0c0c0\">  </span><span style=\"background-color: #000000\">  </span><span style=\"background-color: #c0c0c0\">  </span>  [8, 8, 7, 0, 7, 0, 0, 7, 0, 7]\n",
       "<span style=\"background-color: #000000\">    </span><span style=\"background-color: #c0c0c0\">  </span><span style=\"background-color: #000000\">    </span><span style=\"background-color: #c0c0c0\">  </span><span style=\"background-color: #000000\">  </span><span style=\"background-color: #c0c0c0\">      </span>  [0, 0, 7, 0, 0, 7, 0, 7, 7, 7]\n",
       "<span style=\"background-color: #000000\">      </span><span style=\"background-color: #c0c0c0\">  </span><span style=\"background-color: #000000\">    </span><span style=\"background-color: #c0c0c0\">    </span><span style=\"background-color: #000000\">    </span>  [0, 0, 0, 7, 0, 0, 7, 7, 0, 0]\n",
       "<span style=\"background-color: #000000\">      </span><span style=\"background-color: #ff0000\">    </span><span style=\"background-color: #000000\">    </span><span style=\"background-color: #c0c0c0\">    </span><span style=\"background-color: #000000\">  </span>  [0, 0, 0, 8, 8, 0, 0, 7, 7, 0]\n",
       "<span style=\"background-color: #000000\">  </span><span style=\"background-color: #c0c0c0\">  </span><span style=\"background-color: #000000\">  </span><span style=\"background-color: #ff0000\">    </span><span style=\"background-color: #c0c0c0\">  </span><span style=\"background-color: #000000\">        </span>  [0, 7, 0, 8, 8, 7, 0, 0, 0, 0]\n",
       "\n",
       "</pre>\n"
      ],
      "text/plain": [
       "\u001b[47m  \u001b[0m\u001b[47m  \u001b[0m\u001b[40m  \u001b[0m\u001b[47m  \u001b[0m\u001b[40m  \u001b[0m\u001b[40m  \u001b[0m\u001b[40m  \u001b[0m\u001b[47m  \u001b[0m\u001b[40m  \u001b[0m\u001b[40m  \u001b[0m  [7, 7, 0, 7, 0, 0, 0, 7, 0, 0]\n",
       "\u001b[101m  \u001b[0m\u001b[101m  \u001b[0m\u001b[40m  \u001b[0m\u001b[47m  \u001b[0m\u001b[40m  \u001b[0m\u001b[40m  \u001b[0m\u001b[40m  \u001b[0m\u001b[47m  \u001b[0m\u001b[47m  \u001b[0m\u001b[40m  \u001b[0m  [8, 8, 0, 7, 0, 0, 0, 7, 7, 0]\n",
       "\u001b[101m  \u001b[0m\u001b[101m  \u001b[0m\u001b[47m  \u001b[0m\u001b[40m  \u001b[0m\u001b[47m  \u001b[0m\u001b[40m  \u001b[0m\u001b[40m  \u001b[0m\u001b[47m  \u001b[0m\u001b[40m  \u001b[0m\u001b[47m  \u001b[0m  [8, 8, 7, 0, 7, 0, 0, 7, 0, 7]\n",
       "\u001b[40m  \u001b[0m\u001b[40m  \u001b[0m\u001b[47m  \u001b[0m\u001b[40m  \u001b[0m\u001b[40m  \u001b[0m\u001b[47m  \u001b[0m\u001b[40m  \u001b[0m\u001b[47m  \u001b[0m\u001b[47m  \u001b[0m\u001b[47m  \u001b[0m  [0, 0, 7, 0, 0, 7, 0, 7, 7, 7]\n",
       "\u001b[40m  \u001b[0m\u001b[40m  \u001b[0m\u001b[40m  \u001b[0m\u001b[47m  \u001b[0m\u001b[40m  \u001b[0m\u001b[40m  \u001b[0m\u001b[47m  \u001b[0m\u001b[47m  \u001b[0m\u001b[40m  \u001b[0m\u001b[40m  \u001b[0m  [0, 0, 0, 7, 0, 0, 7, 7, 0, 0]\n",
       "\u001b[40m  \u001b[0m\u001b[40m  \u001b[0m\u001b[40m  \u001b[0m\u001b[101m  \u001b[0m\u001b[101m  \u001b[0m\u001b[40m  \u001b[0m\u001b[40m  \u001b[0m\u001b[47m  \u001b[0m\u001b[47m  \u001b[0m\u001b[40m  \u001b[0m  [0, 0, 0, 8, 8, 0, 0, 7, 7, 0]\n",
       "\u001b[40m  \u001b[0m\u001b[47m  \u001b[0m\u001b[40m  \u001b[0m\u001b[101m  \u001b[0m\u001b[101m  \u001b[0m\u001b[47m  \u001b[0m\u001b[40m  \u001b[0m\u001b[40m  \u001b[0m\u001b[40m  \u001b[0m\u001b[40m  \u001b[0m  [0, 7, 0, 8, 8, 7, 0, 0, 0, 0]\n",
       "\n"
      ]
     },
     "metadata": {},
     "output_type": "display_data"
    },
    {
     "name": "stdout",
     "output_type": "stream",
     "text": [
      "Example output\n"
     ]
    },
    {
     "data": {
      "text/html": [
       "<pre style=\"white-space:pre;overflow-x:auto;line-height:normal;font-family:Menlo,'DejaVu Sans Mono',consolas,'Courier New',monospace\"><span style=\"background-color: #000000\">  </span>  [0]\n",
       "\n",
       "</pre>\n"
      ],
      "text/plain": [
       "\u001b[40m  \u001b[0m  [0]\n",
       "\n"
      ]
     },
     "metadata": {},
     "output_type": "display_data"
    },
    {
     "name": "stdout",
     "output_type": "stream",
     "text": [
      "==================================================\n",
      "Example test input\n"
     ]
    },
    {
     "data": {
      "text/html": [
       "<pre style=\"white-space:pre;overflow-x:auto;line-height:normal;font-family:Menlo,'DejaVu Sans Mono',consolas,'Courier New',monospace\"><span style=\"background-color: #000000\">    </span><span style=\"background-color: #00ff00\">    </span><span style=\"background-color: #000000\">  </span><span style=\"background-color: #000080\">  </span><span style=\"background-color: #000000\">  </span>  [0, 0, 9, 9, 0, 4, 0]\n",
       "<span style=\"background-color: #000000\">  </span><span style=\"background-color: #000080\">  </span><span style=\"background-color: #00ff00\">    </span><span style=\"background-color: #000000\">      </span>  [0, 4, 9, 9, 0, 0, 0]\n",
       "<span style=\"background-color: #000080\">    </span><span style=\"background-color: #000000\">    </span><span style=\"background-color: #000080\">  </span><span style=\"background-color: #000000\">  </span><span style=\"background-color: #000080\">  </span>  [4, 4, 0, 0, 4, 0, 4]\n",
       "<span style=\"background-color: #00ff00\">    </span><span style=\"background-color: #000000\">  </span><span style=\"background-color: #000080\">    </span><span style=\"background-color: #000000\">    </span>  [9, 9, 0, 4, 4, 0, 0]\n",
       "<span style=\"background-color: #00ff00\">    </span><span style=\"background-color: #000080\">        </span><span style=\"background-color: #000000\">  </span>  [9, 9, 4, 4, 4, 4, 0]\n",
       "<span style=\"background-color: #000000\">  </span><span style=\"background-color: #000080\">  </span><span style=\"background-color: #000000\">  </span><span style=\"background-color: #000080\">  </span><span style=\"background-color: #000000\">  </span><span style=\"background-color: #000080\">    </span>  [0, 4, 0, 4, 0, 4, 4]\n",
       "\n",
       "</pre>\n"
      ],
      "text/plain": [
       "\u001b[40m  \u001b[0m\u001b[40m  \u001b[0m\u001b[102m  \u001b[0m\u001b[102m  \u001b[0m\u001b[40m  \u001b[0m\u001b[44m  \u001b[0m\u001b[40m  \u001b[0m  [0, 0, 9, 9, 0, 4, 0]\n",
       "\u001b[40m  \u001b[0m\u001b[44m  \u001b[0m\u001b[102m  \u001b[0m\u001b[102m  \u001b[0m\u001b[40m  \u001b[0m\u001b[40m  \u001b[0m\u001b[40m  \u001b[0m  [0, 4, 9, 9, 0, 0, 0]\n",
       "\u001b[44m  \u001b[0m\u001b[44m  \u001b[0m\u001b[40m  \u001b[0m\u001b[40m  \u001b[0m\u001b[44m  \u001b[0m\u001b[40m  \u001b[0m\u001b[44m  \u001b[0m  [4, 4, 0, 0, 4, 0, 4]\n",
       "\u001b[102m  \u001b[0m\u001b[102m  \u001b[0m\u001b[40m  \u001b[0m\u001b[44m  \u001b[0m\u001b[44m  \u001b[0m\u001b[40m  \u001b[0m\u001b[40m  \u001b[0m  [9, 9, 0, 4, 4, 0, 0]\n",
       "\u001b[102m  \u001b[0m\u001b[102m  \u001b[0m\u001b[44m  \u001b[0m\u001b[44m  \u001b[0m\u001b[44m  \u001b[0m\u001b[44m  \u001b[0m\u001b[40m  \u001b[0m  [9, 9, 4, 4, 4, 4, 0]\n",
       "\u001b[40m  \u001b[0m\u001b[44m  \u001b[0m\u001b[40m  \u001b[0m\u001b[44m  \u001b[0m\u001b[40m  \u001b[0m\u001b[44m  \u001b[0m\u001b[44m  \u001b[0m  [0, 4, 0, 4, 0, 4, 4]\n",
       "\n"
      ]
     },
     "metadata": {},
     "output_type": "display_data"
    },
    {
     "name": "stdout",
     "output_type": "stream",
     "text": [
      "Example test output\n"
     ]
    },
    {
     "data": {
      "text/html": [
       "<pre style=\"white-space:pre;overflow-x:auto;line-height:normal;font-family:Menlo,'DejaVu Sans Mono',consolas,'Courier New',monospace\"><span style=\"background-color: #000080\">  </span>  [4]\n",
       "\n",
       "</pre>\n"
      ],
      "text/plain": [
       "\u001b[44m  \u001b[0m  [4]\n",
       "\n"
      ]
     },
     "metadata": {},
     "output_type": "display_data"
    },
    {
     "name": "stdout",
     "output_type": "stream",
     "text": [
      "==================================================\n",
      "106\n",
      "==================================================\n",
      "Example input\n"
     ]
    },
    {
     "data": {
      "text/html": [
       "<pre style=\"white-space:pre;overflow-x:auto;line-height:normal;font-family:Menlo,'DejaVu Sans Mono',consolas,'Courier New',monospace\"><span style=\"background-color: #00ff00\">  </span><span style=\"background-color: #000080\">  </span><span style=\"background-color: #00ff00\">    </span><span style=\"background-color: #c0c0c0\">  </span><span style=\"background-color: #00ff00\">        </span>  [9, 4, 9, 9, 7, 9, 9, 9, 9]\n",
       "<span style=\"background-color: #ff0000\">        </span><span style=\"background-color: #c0c0c0\">  </span><span style=\"background-color: #ff0000\">        </span>  [8, 8, 8, 8, 7, 8, 8, 8, 8]\n",
       "<span style=\"background-color: #00ff00\">  </span><span style=\"background-color: #000080\">  </span><span style=\"background-color: #00ff00\">    </span><span style=\"background-color: #c0c0c0\">  </span><span style=\"background-color: #00ff00\">        </span>  [9, 4, 9, 9, 7, 9, 9, 9, 9]\n",
       "<span style=\"background-color: #ff0000\">  </span><span style=\"background-color: #000080\">  </span><span style=\"background-color: #00ff00\">    </span><span style=\"background-color: #c0c0c0\">  </span><span style=\"background-color: #00ff00\">        </span>  [8, 4, 9, 9, 7, 9, 9, 9, 9]\n",
       "<span style=\"background-color: #ff0000\">  </span><span style=\"background-color: #000080\">  </span><span style=\"background-color: #ff0000\">  </span><span style=\"background-color: #00ff00\">  </span><span style=\"background-color: #c0c0c0\">  </span><span style=\"background-color: #00ff00\">      </span><span style=\"background-color: #ff0000\">  </span>  [8, 4, 8, 9, 7, 9, 9, 9, 8]\n",
       "<span style=\"background-color: #00ff00\">  </span><span style=\"background-color: #000080\">  </span><span style=\"background-color: #00ff00\">    </span><span style=\"background-color: #c0c0c0\">  </span><span style=\"background-color: #ff0000\">  </span><span style=\"background-color: #00ff00\">      </span>  [9, 4, 9, 9, 7, 8, 9, 9, 9]\n",
       "<span style=\"background-color: #800080\">        </span><span style=\"background-color: #c0c0c0\">  </span><span style=\"background-color: #800080\">        </span>  [5, 5, 5, 5, 7, 5, 5, 5, 5]\n",
       "<span style=\"background-color: #ff0000\">  </span><span style=\"background-color: #000080\">  </span><span style=\"background-color: #ff0000\">  </span><span style=\"background-color: #00ff00\">  </span><span style=\"background-color: #c0c0c0\">  </span><span style=\"background-color: #00ff00\">  </span><span style=\"background-color: #ff0000\">  </span><span style=\"background-color: #00ff00\">    </span>  [8, 4, 8, 9, 7, 9, 8, 9, 9]\n",
       "<span style=\"background-color: #00ff00\">  </span><span style=\"background-color: #000080\">  </span><span style=\"background-color: #ff0000\">  </span><span style=\"background-color: #00ff00\">  </span><span style=\"background-color: #c0c0c0\">  </span><span style=\"background-color: #00ff00\">        </span>  [9, 4, 8, 9, 7, 9, 9, 9, 9]\n",
       "<span style=\"background-color: #00ff00\">  </span><span style=\"background-color: #000080\">  </span><span style=\"background-color: #00ff00\">    </span><span style=\"background-color: #c0c0c0\">  </span><span style=\"background-color: #00ff00\">    </span><span style=\"background-color: #ff0000\">  </span><span style=\"background-color: #00ff00\">  </span>  [9, 4, 9, 9, 7, 9, 9, 8, 9]\n",
       "\n",
       "</pre>\n"
      ],
      "text/plain": [
       "\u001b[102m  \u001b[0m\u001b[44m  \u001b[0m\u001b[102m  \u001b[0m\u001b[102m  \u001b[0m\u001b[47m  \u001b[0m\u001b[102m  \u001b[0m\u001b[102m  \u001b[0m\u001b[102m  \u001b[0m\u001b[102m  \u001b[0m  [9, 4, 9, 9, 7, 9, 9, 9, 9]\n",
       "\u001b[101m  \u001b[0m\u001b[101m  \u001b[0m\u001b[101m  \u001b[0m\u001b[101m  \u001b[0m\u001b[47m  \u001b[0m\u001b[101m  \u001b[0m\u001b[101m  \u001b[0m\u001b[101m  \u001b[0m\u001b[101m  \u001b[0m  [8, 8, 8, 8, 7, 8, 8, 8, 8]\n",
       "\u001b[102m  \u001b[0m\u001b[44m  \u001b[0m\u001b[102m  \u001b[0m\u001b[102m  \u001b[0m\u001b[47m  \u001b[0m\u001b[102m  \u001b[0m\u001b[102m  \u001b[0m\u001b[102m  \u001b[0m\u001b[102m  \u001b[0m  [9, 4, 9, 9, 7, 9, 9, 9, 9]\n",
       "\u001b[101m  \u001b[0m\u001b[44m  \u001b[0m\u001b[102m  \u001b[0m\u001b[102m  \u001b[0m\u001b[47m  \u001b[0m\u001b[102m  \u001b[0m\u001b[102m  \u001b[0m\u001b[102m  \u001b[0m\u001b[102m  \u001b[0m  [8, 4, 9, 9, 7, 9, 9, 9, 9]\n",
       "\u001b[101m  \u001b[0m\u001b[44m  \u001b[0m\u001b[101m  \u001b[0m\u001b[102m  \u001b[0m\u001b[47m  \u001b[0m\u001b[102m  \u001b[0m\u001b[102m  \u001b[0m\u001b[102m  \u001b[0m\u001b[101m  \u001b[0m  [8, 4, 8, 9, 7, 9, 9, 9, 8]\n",
       "\u001b[102m  \u001b[0m\u001b[44m  \u001b[0m\u001b[102m  \u001b[0m\u001b[102m  \u001b[0m\u001b[47m  \u001b[0m\u001b[101m  \u001b[0m\u001b[102m  \u001b[0m\u001b[102m  \u001b[0m\u001b[102m  \u001b[0m  [9, 4, 9, 9, 7, 8, 9, 9, 9]\n",
       "\u001b[45m  \u001b[0m\u001b[45m  \u001b[0m\u001b[45m  \u001b[0m\u001b[45m  \u001b[0m\u001b[47m  \u001b[0m\u001b[45m  \u001b[0m\u001b[45m  \u001b[0m\u001b[45m  \u001b[0m\u001b[45m  \u001b[0m  [5, 5, 5, 5, 7, 5, 5, 5, 5]\n",
       "\u001b[101m  \u001b[0m\u001b[44m  \u001b[0m\u001b[101m  \u001b[0m\u001b[102m  \u001b[0m\u001b[47m  \u001b[0m\u001b[102m  \u001b[0m\u001b[101m  \u001b[0m\u001b[102m  \u001b[0m\u001b[102m  \u001b[0m  [8, 4, 8, 9, 7, 9, 8, 9, 9]\n",
       "\u001b[102m  \u001b[0m\u001b[44m  \u001b[0m\u001b[101m  \u001b[0m\u001b[102m  \u001b[0m\u001b[47m  \u001b[0m\u001b[102m  \u001b[0m\u001b[102m  \u001b[0m\u001b[102m  \u001b[0m\u001b[102m  \u001b[0m  [9, 4, 8, 9, 7, 9, 9, 9, 9]\n",
       "\u001b[102m  \u001b[0m\u001b[44m  \u001b[0m\u001b[102m  \u001b[0m\u001b[102m  \u001b[0m\u001b[47m  \u001b[0m\u001b[102m  \u001b[0m\u001b[102m  \u001b[0m\u001b[101m  \u001b[0m\u001b[102m  \u001b[0m  [9, 4, 9, 9, 7, 9, 9, 8, 9]\n",
       "\n"
      ]
     },
     "metadata": {},
     "output_type": "display_data"
    },
    {
     "name": "stdout",
     "output_type": "stream",
     "text": [
      "Example output\n"
     ]
    },
    {
     "data": {
      "text/html": [
       "<pre style=\"white-space:pre;overflow-x:auto;line-height:normal;font-family:Menlo,'DejaVu Sans Mono',consolas,'Courier New',monospace\"><span style=\"background-color: #ff0000\">      </span><span style=\"background-color: #c0c0c0\">  </span>  [8, 8, 8, 7]\n",
       "<span style=\"background-color: #000080\">  </span><span style=\"background-color: #ff0000\">  </span><span style=\"background-color: #00ff00\">  </span><span style=\"background-color: #c0c0c0\">  </span>  [4, 8, 9, 7]\n",
       "<span style=\"background-color: #000080\">  </span><span style=\"background-color: #ff0000\">  </span><span style=\"background-color: #00ff00\">  </span><span style=\"background-color: #c0c0c0\">  </span>  [4, 8, 9, 7]\n",
       "<span style=\"background-color: #000080\">  </span><span style=\"background-color: #ff0000\">  </span><span style=\"background-color: #00ff00\">  </span><span style=\"background-color: #c0c0c0\">  </span>  [4, 8, 9, 7]\n",
       "<span style=\"background-color: #000080\">  </span><span style=\"background-color: #00ff00\">    </span><span style=\"background-color: #c0c0c0\">  </span>  [4, 9, 9, 7]\n",
       "<span style=\"background-color: #800080\">      </span><span style=\"background-color: #c0c0c0\">  </span>  [5, 5, 5, 7]\n",
       "\n",
       "</pre>\n"
      ],
      "text/plain": [
       "\u001b[101m  \u001b[0m\u001b[101m  \u001b[0m\u001b[101m  \u001b[0m\u001b[47m  \u001b[0m  [8, 8, 8, 7]\n",
       "\u001b[44m  \u001b[0m\u001b[101m  \u001b[0m\u001b[102m  \u001b[0m\u001b[47m  \u001b[0m  [4, 8, 9, 7]\n",
       "\u001b[44m  \u001b[0m\u001b[101m  \u001b[0m\u001b[102m  \u001b[0m\u001b[47m  \u001b[0m  [4, 8, 9, 7]\n",
       "\u001b[44m  \u001b[0m\u001b[101m  \u001b[0m\u001b[102m  \u001b[0m\u001b[47m  \u001b[0m  [4, 8, 9, 7]\n",
       "\u001b[44m  \u001b[0m\u001b[102m  \u001b[0m\u001b[102m  \u001b[0m\u001b[47m  \u001b[0m  [4, 9, 9, 7]\n",
       "\u001b[45m  \u001b[0m\u001b[45m  \u001b[0m\u001b[45m  \u001b[0m\u001b[47m  \u001b[0m  [5, 5, 5, 7]\n",
       "\n"
      ]
     },
     "metadata": {},
     "output_type": "display_data"
    },
    {
     "name": "stdout",
     "output_type": "stream",
     "text": [
      "==================================================\n",
      "Example test input\n"
     ]
    },
    {
     "data": {
      "text/html": [
       "<pre style=\"white-space:pre;overflow-x:auto;line-height:normal;font-family:Menlo,'DejaVu Sans Mono',consolas,'Courier New',monospace\"><span style=\"background-color: #008080\">          </span><span style=\"background-color: #008000\">  </span><span style=\"background-color: #008080\">  </span><span style=\"background-color: #800080\">  </span><span style=\"background-color: #008080\">    </span>  [6, 6, 6, 6, 6, 2, 6, 5, 6, 6]\n",
       "<span style=\"background-color: #ff0000\">                    </span>  [8, 8, 8, 8, 8, 8, 8, 8, 8, 8]\n",
       "<span style=\"background-color: #008080\">          </span><span style=\"background-color: #008000\">  </span><span style=\"background-color: #008080\">  </span><span style=\"background-color: #800080\">  </span><span style=\"background-color: #008080\">    </span>  [6, 6, 6, 6, 6, 2, 6, 5, 6, 6]\n",
       "<span style=\"background-color: #008080\">          </span><span style=\"background-color: #008000\">  </span><span style=\"background-color: #008080\">  </span><span style=\"background-color: #800080\">  </span><span style=\"background-color: #008080\">    </span>  [6, 6, 6, 6, 6, 2, 6, 5, 6, 6]\n",
       "<span style=\"background-color: #008080\">      </span><span style=\"background-color: #008000\">  </span><span style=\"background-color: #008080\">  </span><span style=\"background-color: #008000\">  </span><span style=\"background-color: #008080\">  </span><span style=\"background-color: #800080\">  </span><span style=\"background-color: #008080\">    </span>  [6, 6, 6, 2, 6, 2, 6, 5, 6, 6]\n",
       "<span style=\"background-color: #008080\">    </span><span style=\"background-color: #008000\">  </span><span style=\"background-color: #008080\">  </span><span style=\"background-color: #008000\">    </span><span style=\"background-color: #008080\">  </span><span style=\"background-color: #800080\">  </span><span style=\"background-color: #008080\">    </span>  [6, 6, 2, 6, 2, 2, 6, 5, 6, 6]\n",
       "<span style=\"background-color: #008080\">        </span><span style=\"background-color: #008000\">    </span><span style=\"background-color: #008080\">  </span><span style=\"background-color: #800080\">  </span><span style=\"background-color: #008080\">    </span>  [6, 6, 6, 6, 2, 2, 6, 5, 6, 6]\n",
       "<span style=\"background-color: #000000\">                    </span>  [0, 0, 0, 0, 0, 0, 0, 0, 0, 0]\n",
       "<span style=\"background-color: #008080\">          </span><span style=\"background-color: #008000\">  </span><span style=\"background-color: #008080\">  </span><span style=\"background-color: #800080\">  </span><span style=\"background-color: #008080\">    </span>  [6, 6, 6, 6, 6, 2, 6, 5, 6, 6]\n",
       "<span style=\"background-color: #008080\">          </span><span style=\"background-color: #008000\">  </span><span style=\"background-color: #008080\">  </span><span style=\"background-color: #800080\">  </span><span style=\"background-color: #008080\">  </span><span style=\"background-color: #008000\">  </span>  [6, 6, 6, 6, 6, 2, 6, 5, 6, 2]\n",
       "\n",
       "</pre>\n"
      ],
      "text/plain": [
       "\u001b[46m  \u001b[0m\u001b[46m  \u001b[0m\u001b[46m  \u001b[0m\u001b[46m  \u001b[0m\u001b[46m  \u001b[0m\u001b[42m  \u001b[0m\u001b[46m  \u001b[0m\u001b[45m  \u001b[0m\u001b[46m  \u001b[0m\u001b[46m  \u001b[0m  [6, 6, 6, 6, 6, 2, 6, 5, 6, 6]\n",
       "\u001b[101m  \u001b[0m\u001b[101m  \u001b[0m\u001b[101m  \u001b[0m\u001b[101m  \u001b[0m\u001b[101m  \u001b[0m\u001b[101m  \u001b[0m\u001b[101m  \u001b[0m\u001b[101m  \u001b[0m\u001b[101m  \u001b[0m\u001b[101m  \u001b[0m  [8, 8, 8, 8, 8, 8, 8, 8, 8, 8]\n",
       "\u001b[46m  \u001b[0m\u001b[46m  \u001b[0m\u001b[46m  \u001b[0m\u001b[46m  \u001b[0m\u001b[46m  \u001b[0m\u001b[42m  \u001b[0m\u001b[46m  \u001b[0m\u001b[45m  \u001b[0m\u001b[46m  \u001b[0m\u001b[46m  \u001b[0m  [6, 6, 6, 6, 6, 2, 6, 5, 6, 6]\n",
       "\u001b[46m  \u001b[0m\u001b[46m  \u001b[0m\u001b[46m  \u001b[0m\u001b[46m  \u001b[0m\u001b[46m  \u001b[0m\u001b[42m  \u001b[0m\u001b[46m  \u001b[0m\u001b[45m  \u001b[0m\u001b[46m  \u001b[0m\u001b[46m  \u001b[0m  [6, 6, 6, 6, 6, 2, 6, 5, 6, 6]\n",
       "\u001b[46m  \u001b[0m\u001b[46m  \u001b[0m\u001b[46m  \u001b[0m\u001b[42m  \u001b[0m\u001b[46m  \u001b[0m\u001b[42m  \u001b[0m\u001b[46m  \u001b[0m\u001b[45m  \u001b[0m\u001b[46m  \u001b[0m\u001b[46m  \u001b[0m  [6, 6, 6, 2, 6, 2, 6, 5, 6, 6]\n",
       "\u001b[46m  \u001b[0m\u001b[46m  \u001b[0m\u001b[42m  \u001b[0m\u001b[46m  \u001b[0m\u001b[42m  \u001b[0m\u001b[42m  \u001b[0m\u001b[46m  \u001b[0m\u001b[45m  \u001b[0m\u001b[46m  \u001b[0m\u001b[46m  \u001b[0m  [6, 6, 2, 6, 2, 2, 6, 5, 6, 6]\n",
       "\u001b[46m  \u001b[0m\u001b[46m  \u001b[0m\u001b[46m  \u001b[0m\u001b[46m  \u001b[0m\u001b[42m  \u001b[0m\u001b[42m  \u001b[0m\u001b[46m  \u001b[0m\u001b[45m  \u001b[0m\u001b[46m  \u001b[0m\u001b[46m  \u001b[0m  [6, 6, 6, 6, 2, 2, 6, 5, 6, 6]\n",
       "\u001b[40m  \u001b[0m\u001b[40m  \u001b[0m\u001b[40m  \u001b[0m\u001b[40m  \u001b[0m\u001b[40m  \u001b[0m\u001b[40m  \u001b[0m\u001b[40m  \u001b[0m\u001b[40m  \u001b[0m\u001b[40m  \u001b[0m\u001b[40m  \u001b[0m  [0, 0, 0, 0, 0, 0, 0, 0, 0, 0]\n",
       "\u001b[46m  \u001b[0m\u001b[46m  \u001b[0m\u001b[46m  \u001b[0m\u001b[46m  \u001b[0m\u001b[46m  \u001b[0m\u001b[42m  \u001b[0m\u001b[46m  \u001b[0m\u001b[45m  \u001b[0m\u001b[46m  \u001b[0m\u001b[46m  \u001b[0m  [6, 6, 6, 6, 6, 2, 6, 5, 6, 6]\n",
       "\u001b[46m  \u001b[0m\u001b[46m  \u001b[0m\u001b[46m  \u001b[0m\u001b[46m  \u001b[0m\u001b[46m  \u001b[0m\u001b[42m  \u001b[0m\u001b[46m  \u001b[0m\u001b[45m  \u001b[0m\u001b[46m  \u001b[0m\u001b[42m  \u001b[0m  [6, 6, 6, 6, 6, 2, 6, 5, 6, 2]\n",
       "\n"
      ]
     },
     "metadata": {},
     "output_type": "display_data"
    },
    {
     "name": "stdout",
     "output_type": "stream",
     "text": [
      "Example test output\n"
     ]
    },
    {
     "data": {
      "text/html": [
       "<pre style=\"white-space:pre;overflow-x:auto;line-height:normal;font-family:Menlo,'DejaVu Sans Mono',consolas,'Courier New',monospace\"><span style=\"background-color: #ff0000\">      </span>  [8, 8, 8]\n",
       "<span style=\"background-color: #008000\">  </span><span style=\"background-color: #008080\">  </span><span style=\"background-color: #800080\">  </span>  [2, 6, 5]\n",
       "<span style=\"background-color: #008000\">  </span><span style=\"background-color: #008080\">  </span><span style=\"background-color: #800080\">  </span>  [2, 6, 5]\n",
       "<span style=\"background-color: #008000\">  </span><span style=\"background-color: #008080\">  </span><span style=\"background-color: #800080\">  </span>  [2, 6, 5]\n",
       "<span style=\"background-color: #008000\">  </span><span style=\"background-color: #008080\">  </span><span style=\"background-color: #800080\">  </span>  [2, 6, 5]\n",
       "<span style=\"background-color: #008000\">  </span><span style=\"background-color: #008080\">  </span><span style=\"background-color: #800080\">  </span>  [2, 6, 5]\n",
       "<span style=\"background-color: #000000\">      </span>  [0, 0, 0]\n",
       "\n",
       "</pre>\n"
      ],
      "text/plain": [
       "\u001b[101m  \u001b[0m\u001b[101m  \u001b[0m\u001b[101m  \u001b[0m  [8, 8, 8]\n",
       "\u001b[42m  \u001b[0m\u001b[46m  \u001b[0m\u001b[45m  \u001b[0m  [2, 6, 5]\n",
       "\u001b[42m  \u001b[0m\u001b[46m  \u001b[0m\u001b[45m  \u001b[0m  [2, 6, 5]\n",
       "\u001b[42m  \u001b[0m\u001b[46m  \u001b[0m\u001b[45m  \u001b[0m  [2, 6, 5]\n",
       "\u001b[42m  \u001b[0m\u001b[46m  \u001b[0m\u001b[45m  \u001b[0m  [2, 6, 5]\n",
       "\u001b[42m  \u001b[0m\u001b[46m  \u001b[0m\u001b[45m  \u001b[0m  [2, 6, 5]\n",
       "\u001b[40m  \u001b[0m\u001b[40m  \u001b[0m\u001b[40m  \u001b[0m  [0, 0, 0]\n",
       "\n"
      ]
     },
     "metadata": {},
     "output_type": "display_data"
    },
    {
     "name": "stdout",
     "output_type": "stream",
     "text": [
      "==================================================\n",
      "109\n",
      "==================================================\n",
      "Example input\n"
     ]
    },
    {
     "data": {
      "text/html": [
       "<pre style=\"white-space:pre;overflow-x:auto;line-height:normal;font-family:Menlo,'DejaVu Sans Mono',consolas,'Courier New',monospace\"><span style=\"background-color: #800080\">  </span><span style=\"background-color: #ff0000\">  </span><span style=\"background-color: #800000\">  </span><span style=\"background-color: #000000\">  </span><span style=\"background-color: #00ff00\">  </span><span style=\"background-color: #008000\">  </span>  [5, 8, 1, 0, 9, 2]\n",
       "<span style=\"background-color: #c0c0c0\">  </span><span style=\"background-color: #008000\">  </span><span style=\"background-color: #800000\">    </span><span style=\"background-color: #000080\">  </span><span style=\"background-color: #000000\">  </span>  [7, 2, 1, 1, 4, 0]\n",
       "<span style=\"background-color: #000000\">  </span><span style=\"background-color: #008000\">  </span><span style=\"background-color: #000000\">  </span><span style=\"background-color: #000080\">  </span><span style=\"background-color: #00ff00\">  </span><span style=\"background-color: #000000\">  </span>  [0, 2, 0, 4, 9, 0]\n",
       "<span style=\"background-color: #00ff00\">  </span><span style=\"background-color: #008000\">  </span><span style=\"background-color: #808000\">  </span><span style=\"background-color: #800080\">  </span><span style=\"background-color: #808000\">  </span><span style=\"background-color: #800000\">  </span>  [9, 2, 3, 5, 3, 1]\n",
       "<span style=\"background-color: #00ff00\">  </span><span style=\"background-color: #ff0000\">      </span><span style=\"background-color: #800000\">  </span><span style=\"background-color: #000000\">  </span>  [9, 8, 8, 8, 1, 0]\n",
       "\n",
       "</pre>\n"
      ],
      "text/plain": [
       "\u001b[45m  \u001b[0m\u001b[101m  \u001b[0m\u001b[41m  \u001b[0m\u001b[40m  \u001b[0m\u001b[102m  \u001b[0m\u001b[42m  \u001b[0m  [5, 8, 1, 0, 9, 2]\n",
       "\u001b[47m  \u001b[0m\u001b[42m  \u001b[0m\u001b[41m  \u001b[0m\u001b[41m  \u001b[0m\u001b[44m  \u001b[0m\u001b[40m  \u001b[0m  [7, 2, 1, 1, 4, 0]\n",
       "\u001b[40m  \u001b[0m\u001b[42m  \u001b[0m\u001b[40m  \u001b[0m\u001b[44m  \u001b[0m\u001b[102m  \u001b[0m\u001b[40m  \u001b[0m  [0, 2, 0, 4, 9, 0]\n",
       "\u001b[102m  \u001b[0m\u001b[42m  \u001b[0m\u001b[43m  \u001b[0m\u001b[45m  \u001b[0m\u001b[43m  \u001b[0m\u001b[41m  \u001b[0m  [9, 2, 3, 5, 3, 1]\n",
       "\u001b[102m  \u001b[0m\u001b[101m  \u001b[0m\u001b[101m  \u001b[0m\u001b[101m  \u001b[0m\u001b[41m  \u001b[0m\u001b[40m  \u001b[0m  [9, 8, 8, 8, 1, 0]\n",
       "\n"
      ]
     },
     "metadata": {},
     "output_type": "display_data"
    },
    {
     "name": "stdout",
     "output_type": "stream",
     "text": [
      "Example output\n"
     ]
    },
    {
     "data": {
      "text/html": [
       "<pre style=\"white-space:pre;overflow-x:auto;line-height:normal;font-family:Menlo,'DejaVu Sans Mono',consolas,'Courier New',monospace\"><span style=\"background-color: #000000\">  </span><span style=\"background-color: #800080\">  </span><span style=\"background-color: #ff0000\">  </span><span style=\"background-color: #800000\">  </span><span style=\"background-color: #000000\">  </span><span style=\"background-color: #00ff00\">  </span><span style=\"background-color: #008000\">  </span><span style=\"background-color: #000000\">  </span>  [0, 5, 8, 1, 0, 9, 2, 0]\n",
       "<span style=\"background-color: #800080\">    </span><span style=\"background-color: #ff0000\">  </span><span style=\"background-color: #800000\">  </span><span style=\"background-color: #000000\">  </span><span style=\"background-color: #00ff00\">  </span><span style=\"background-color: #008000\">    </span>  [5, 5, 8, 1, 0, 9, 2, 2]\n",
       "<span style=\"background-color: #c0c0c0\">    </span><span style=\"background-color: #008000\">  </span><span style=\"background-color: #800000\">    </span><span style=\"background-color: #000080\">  </span><span style=\"background-color: #000000\">    </span>  [7, 7, 2, 1, 1, 4, 0, 0]\n",
       "<span style=\"background-color: #000000\">    </span><span style=\"background-color: #008000\">  </span><span style=\"background-color: #000000\">  </span><span style=\"background-color: #000080\">  </span><span style=\"background-color: #00ff00\">  </span><span style=\"background-color: #000000\">    </span>  [0, 0, 2, 0, 4, 9, 0, 0]\n",
       "<span style=\"background-color: #00ff00\">    </span><span style=\"background-color: #008000\">  </span><span style=\"background-color: #808000\">  </span><span style=\"background-color: #800080\">  </span><span style=\"background-color: #808000\">  </span><span style=\"background-color: #800000\">    </span>  [9, 9, 2, 3, 5, 3, 1, 1]\n",
       "<span style=\"background-color: #00ff00\">    </span><span style=\"background-color: #ff0000\">      </span><span style=\"background-color: #800000\">  </span><span style=\"background-color: #000000\">    </span>  [9, 9, 8, 8, 8, 1, 0, 0]\n",
       "<span style=\"background-color: #000000\">  </span><span style=\"background-color: #00ff00\">  </span><span style=\"background-color: #ff0000\">      </span><span style=\"background-color: #800000\">  </span><span style=\"background-color: #000000\">    </span>  [0, 9, 8, 8, 8, 1, 0, 0]\n",
       "\n",
       "</pre>\n"
      ],
      "text/plain": [
       "\u001b[40m  \u001b[0m\u001b[45m  \u001b[0m\u001b[101m  \u001b[0m\u001b[41m  \u001b[0m\u001b[40m  \u001b[0m\u001b[102m  \u001b[0m\u001b[42m  \u001b[0m\u001b[40m  \u001b[0m  [0, 5, 8, 1, 0, 9, 2, 0]\n",
       "\u001b[45m  \u001b[0m\u001b[45m  \u001b[0m\u001b[101m  \u001b[0m\u001b[41m  \u001b[0m\u001b[40m  \u001b[0m\u001b[102m  \u001b[0m\u001b[42m  \u001b[0m\u001b[42m  \u001b[0m  [5, 5, 8, 1, 0, 9, 2, 2]\n",
       "\u001b[47m  \u001b[0m\u001b[47m  \u001b[0m\u001b[42m  \u001b[0m\u001b[41m  \u001b[0m\u001b[41m  \u001b[0m\u001b[44m  \u001b[0m\u001b[40m  \u001b[0m\u001b[40m  \u001b[0m  [7, 7, 2, 1, 1, 4, 0, 0]\n",
       "\u001b[40m  \u001b[0m\u001b[40m  \u001b[0m\u001b[42m  \u001b[0m\u001b[40m  \u001b[0m\u001b[44m  \u001b[0m\u001b[102m  \u001b[0m\u001b[40m  \u001b[0m\u001b[40m  \u001b[0m  [0, 0, 2, 0, 4, 9, 0, 0]\n",
       "\u001b[102m  \u001b[0m\u001b[102m  \u001b[0m\u001b[42m  \u001b[0m\u001b[43m  \u001b[0m\u001b[45m  \u001b[0m\u001b[43m  \u001b[0m\u001b[41m  \u001b[0m\u001b[41m  \u001b[0m  [9, 9, 2, 3, 5, 3, 1, 1]\n",
       "\u001b[102m  \u001b[0m\u001b[102m  \u001b[0m\u001b[101m  \u001b[0m\u001b[101m  \u001b[0m\u001b[101m  \u001b[0m\u001b[41m  \u001b[0m\u001b[40m  \u001b[0m\u001b[40m  \u001b[0m  [9, 9, 8, 8, 8, 1, 0, 0]\n",
       "\u001b[40m  \u001b[0m\u001b[102m  \u001b[0m\u001b[101m  \u001b[0m\u001b[101m  \u001b[0m\u001b[101m  \u001b[0m\u001b[41m  \u001b[0m\u001b[40m  \u001b[0m\u001b[40m  \u001b[0m  [0, 9, 8, 8, 8, 1, 0, 0]\n",
       "\n"
      ]
     },
     "metadata": {},
     "output_type": "display_data"
    },
    {
     "name": "stdout",
     "output_type": "stream",
     "text": [
      "==================================================\n",
      "Example test input\n"
     ]
    },
    {
     "data": {
      "text/html": [
       "<pre style=\"white-space:pre;overflow-x:auto;line-height:normal;font-family:Menlo,'DejaVu Sans Mono',consolas,'Courier New',monospace\"><span style=\"background-color: #008000\">  </span><span style=\"background-color: #000000\">  </span><span style=\"background-color: #800080\">  </span>  [2, 0, 5]\n",
       "<span style=\"background-color: #000000\">  </span><span style=\"background-color: #800080\">    </span>  [0, 5, 5]\n",
       "<span style=\"background-color: #000080\">  </span><span style=\"background-color: #008000\">  </span><span style=\"background-color: #000000\">  </span>  [4, 2, 0]\n",
       "<span style=\"background-color: #000000\">  </span><span style=\"background-color: #800080\">  </span><span style=\"background-color: #808000\">  </span>  [0, 5, 3]\n",
       "<span style=\"background-color: #808000\">  </span><span style=\"background-color: #008000\">  </span><span style=\"background-color: #ff0000\">  </span>  [3, 2, 8]\n",
       "<span style=\"background-color: #808000\">  </span><span style=\"background-color: #000080\">    </span>  [3, 4, 4]\n",
       "<span style=\"background-color: #ff0000\">      </span>  [8, 8, 8]\n",
       "\n",
       "</pre>\n"
      ],
      "text/plain": [
       "\u001b[42m  \u001b[0m\u001b[40m  \u001b[0m\u001b[45m  \u001b[0m  [2, 0, 5]\n",
       "\u001b[40m  \u001b[0m\u001b[45m  \u001b[0m\u001b[45m  \u001b[0m  [0, 5, 5]\n",
       "\u001b[44m  \u001b[0m\u001b[42m  \u001b[0m\u001b[40m  \u001b[0m  [4, 2, 0]\n",
       "\u001b[40m  \u001b[0m\u001b[45m  \u001b[0m\u001b[43m  \u001b[0m  [0, 5, 3]\n",
       "\u001b[43m  \u001b[0m\u001b[42m  \u001b[0m\u001b[101m  \u001b[0m  [3, 2, 8]\n",
       "\u001b[43m  \u001b[0m\u001b[44m  \u001b[0m\u001b[44m  \u001b[0m  [3, 4, 4]\n",
       "\u001b[101m  \u001b[0m\u001b[101m  \u001b[0m\u001b[101m  \u001b[0m  [8, 8, 8]\n",
       "\n"
      ]
     },
     "metadata": {},
     "output_type": "display_data"
    },
    {
     "name": "stdout",
     "output_type": "stream",
     "text": [
      "Example test output\n"
     ]
    },
    {
     "data": {
      "text/html": [
       "<pre style=\"white-space:pre;overflow-x:auto;line-height:normal;font-family:Menlo,'DejaVu Sans Mono',consolas,'Courier New',monospace\"><span style=\"background-color: #000000\">  </span><span style=\"background-color: #008000\">  </span><span style=\"background-color: #000000\">  </span><span style=\"background-color: #800080\">  </span><span style=\"background-color: #000000\">  </span>  [0, 2, 0, 5, 0]\n",
       "<span style=\"background-color: #008000\">    </span><span style=\"background-color: #000000\">  </span><span style=\"background-color: #800080\">    </span>  [2, 2, 0, 5, 5]\n",
       "<span style=\"background-color: #000000\">    </span><span style=\"background-color: #800080\">      </span>  [0, 0, 5, 5, 5]\n",
       "<span style=\"background-color: #000080\">    </span><span style=\"background-color: #008000\">  </span><span style=\"background-color: #000000\">    </span>  [4, 4, 2, 0, 0]\n",
       "<span style=\"background-color: #000000\">    </span><span style=\"background-color: #800080\">  </span><span style=\"background-color: #808000\">    </span>  [0, 0, 5, 3, 3]\n",
       "<span style=\"background-color: #808000\">    </span><span style=\"background-color: #008000\">  </span><span style=\"background-color: #ff0000\">    </span>  [3, 3, 2, 8, 8]\n",
       "<span style=\"background-color: #808000\">    </span><span style=\"background-color: #000080\">      </span>  [3, 3, 4, 4, 4]\n",
       "<span style=\"background-color: #ff0000\">          </span>  [8, 8, 8, 8, 8]\n",
       "<span style=\"background-color: #000000\">  </span><span style=\"background-color: #ff0000\">      </span><span style=\"background-color: #000000\">  </span>  [0, 8, 8, 8, 0]\n",
       "\n",
       "</pre>\n"
      ],
      "text/plain": [
       "\u001b[40m  \u001b[0m\u001b[42m  \u001b[0m\u001b[40m  \u001b[0m\u001b[45m  \u001b[0m\u001b[40m  \u001b[0m  [0, 2, 0, 5, 0]\n",
       "\u001b[42m  \u001b[0m\u001b[42m  \u001b[0m\u001b[40m  \u001b[0m\u001b[45m  \u001b[0m\u001b[45m  \u001b[0m  [2, 2, 0, 5, 5]\n",
       "\u001b[40m  \u001b[0m\u001b[40m  \u001b[0m\u001b[45m  \u001b[0m\u001b[45m  \u001b[0m\u001b[45m  \u001b[0m  [0, 0, 5, 5, 5]\n",
       "\u001b[44m  \u001b[0m\u001b[44m  \u001b[0m\u001b[42m  \u001b[0m\u001b[40m  \u001b[0m\u001b[40m  \u001b[0m  [4, 4, 2, 0, 0]\n",
       "\u001b[40m  \u001b[0m\u001b[40m  \u001b[0m\u001b[45m  \u001b[0m\u001b[43m  \u001b[0m\u001b[43m  \u001b[0m  [0, 0, 5, 3, 3]\n",
       "\u001b[43m  \u001b[0m\u001b[43m  \u001b[0m\u001b[42m  \u001b[0m\u001b[101m  \u001b[0m\u001b[101m  \u001b[0m  [3, 3, 2, 8, 8]\n",
       "\u001b[43m  \u001b[0m\u001b[43m  \u001b[0m\u001b[44m  \u001b[0m\u001b[44m  \u001b[0m\u001b[44m  \u001b[0m  [3, 3, 4, 4, 4]\n",
       "\u001b[101m  \u001b[0m\u001b[101m  \u001b[0m\u001b[101m  \u001b[0m\u001b[101m  \u001b[0m\u001b[101m  \u001b[0m  [8, 8, 8, 8, 8]\n",
       "\u001b[40m  \u001b[0m\u001b[101m  \u001b[0m\u001b[101m  \u001b[0m\u001b[101m  \u001b[0m\u001b[40m  \u001b[0m  [0, 8, 8, 8, 0]\n",
       "\n"
      ]
     },
     "metadata": {},
     "output_type": "display_data"
    },
    {
     "name": "stdout",
     "output_type": "stream",
     "text": [
      "==================================================\n",
      "118\n",
      "==================================================\n",
      "Example input\n"
     ]
    },
    {
     "data": {
      "text/html": [
       "<pre style=\"white-space:pre;overflow-x:auto;line-height:normal;font-family:Menlo,'DejaVu Sans Mono',consolas,'Courier New',monospace\"><span style=\"background-color: #800000\">                  </span>  [1, 1, 1, 1, 1, 1, 1, 1, 1]\n",
       "<span style=\"background-color: #800000\">    </span><span style=\"background-color: #008080\">      </span><span style=\"background-color: #800000\">        </span>  [1, 1, 6, 6, 6, 1, 1, 1, 1]\n",
       "<span style=\"background-color: #800000\">    </span><span style=\"background-color: #008080\">  </span><span style=\"background-color: #800000\">  </span><span style=\"background-color: #008080\">  </span><span style=\"background-color: #800000\">        </span>  [1, 1, 6, 1, 6, 1, 1, 1, 1]\n",
       "<span style=\"background-color: #800000\">    </span><span style=\"background-color: #008080\">      </span><span style=\"background-color: #800000\">        </span>  [1, 1, 6, 6, 6, 1, 1, 1, 1]\n",
       "<span style=\"background-color: #800000\">          </span><span style=\"background-color: #800080\">        </span>  [1, 1, 1, 1, 1, 5, 5, 5, 5]\n",
       "<span style=\"background-color: #800000\">          </span><span style=\"background-color: #800080\">  </span><span style=\"background-color: #800000\">      </span>  [1, 1, 1, 1, 1, 5, 1, 1, 1]\n",
       "<span style=\"background-color: #800000\">          </span><span style=\"background-color: #800080\">  </span><span style=\"background-color: #800000\">      </span>  [1, 1, 1, 1, 1, 5, 1, 1, 1]\n",
       "<span style=\"background-color: #800000\">      </span><span style=\"background-color: #c0c0c0\">  </span><span style=\"background-color: #800000\">  </span><span style=\"background-color: #800080\">  </span><span style=\"background-color: #800000\">      </span>  [1, 1, 1, 7, 1, 5, 1, 1, 1]\n",
       "<span style=\"background-color: #800000\">          </span><span style=\"background-color: #800080\">        </span>  [1, 1, 1, 1, 1, 5, 5, 5, 5]\n",
       "\n",
       "</pre>\n"
      ],
      "text/plain": [
       "\u001b[41m  \u001b[0m\u001b[41m  \u001b[0m\u001b[41m  \u001b[0m\u001b[41m  \u001b[0m\u001b[41m  \u001b[0m\u001b[41m  \u001b[0m\u001b[41m  \u001b[0m\u001b[41m  \u001b[0m\u001b[41m  \u001b[0m  [1, 1, 1, 1, 1, 1, 1, 1, 1]\n",
       "\u001b[41m  \u001b[0m\u001b[41m  \u001b[0m\u001b[46m  \u001b[0m\u001b[46m  \u001b[0m\u001b[46m  \u001b[0m\u001b[41m  \u001b[0m\u001b[41m  \u001b[0m\u001b[41m  \u001b[0m\u001b[41m  \u001b[0m  [1, 1, 6, 6, 6, 1, 1, 1, 1]\n",
       "\u001b[41m  \u001b[0m\u001b[41m  \u001b[0m\u001b[46m  \u001b[0m\u001b[41m  \u001b[0m\u001b[46m  \u001b[0m\u001b[41m  \u001b[0m\u001b[41m  \u001b[0m\u001b[41m  \u001b[0m\u001b[41m  \u001b[0m  [1, 1, 6, 1, 6, 1, 1, 1, 1]\n",
       "\u001b[41m  \u001b[0m\u001b[41m  \u001b[0m\u001b[46m  \u001b[0m\u001b[46m  \u001b[0m\u001b[46m  \u001b[0m\u001b[41m  \u001b[0m\u001b[41m  \u001b[0m\u001b[41m  \u001b[0m\u001b[41m  \u001b[0m  [1, 1, 6, 6, 6, 1, 1, 1, 1]\n",
       "\u001b[41m  \u001b[0m\u001b[41m  \u001b[0m\u001b[41m  \u001b[0m\u001b[41m  \u001b[0m\u001b[41m  \u001b[0m\u001b[45m  \u001b[0m\u001b[45m  \u001b[0m\u001b[45m  \u001b[0m\u001b[45m  \u001b[0m  [1, 1, 1, 1, 1, 5, 5, 5, 5]\n",
       "\u001b[41m  \u001b[0m\u001b[41m  \u001b[0m\u001b[41m  \u001b[0m\u001b[41m  \u001b[0m\u001b[41m  \u001b[0m\u001b[45m  \u001b[0m\u001b[41m  \u001b[0m\u001b[41m  \u001b[0m\u001b[41m  \u001b[0m  [1, 1, 1, 1, 1, 5, 1, 1, 1]\n",
       "\u001b[41m  \u001b[0m\u001b[41m  \u001b[0m\u001b[41m  \u001b[0m\u001b[41m  \u001b[0m\u001b[41m  \u001b[0m\u001b[45m  \u001b[0m\u001b[41m  \u001b[0m\u001b[41m  \u001b[0m\u001b[41m  \u001b[0m  [1, 1, 1, 1, 1, 5, 1, 1, 1]\n",
       "\u001b[41m  \u001b[0m\u001b[41m  \u001b[0m\u001b[41m  \u001b[0m\u001b[47m  \u001b[0m\u001b[41m  \u001b[0m\u001b[45m  \u001b[0m\u001b[41m  \u001b[0m\u001b[41m  \u001b[0m\u001b[41m  \u001b[0m  [1, 1, 1, 7, 1, 5, 1, 1, 1]\n",
       "\u001b[41m  \u001b[0m\u001b[41m  \u001b[0m\u001b[41m  \u001b[0m\u001b[41m  \u001b[0m\u001b[41m  \u001b[0m\u001b[45m  \u001b[0m\u001b[45m  \u001b[0m\u001b[45m  \u001b[0m\u001b[45m  \u001b[0m  [1, 1, 1, 1, 1, 5, 5, 5, 5]\n",
       "\n"
      ]
     },
     "metadata": {},
     "output_type": "display_data"
    },
    {
     "name": "stdout",
     "output_type": "stream",
     "text": [
      "Example output\n"
     ]
    },
    {
     "data": {
      "text/html": [
       "<pre style=\"white-space:pre;overflow-x:auto;line-height:normal;font-family:Menlo,'DejaVu Sans Mono',consolas,'Courier New',monospace\"><span style=\"background-color: #800080\">          </span>  [5, 5, 5, 5, 5]\n",
       "<span style=\"background-color: #800080\">  </span><span style=\"background-color: #008080\">      </span><span style=\"background-color: #800080\">  </span>  [5, 6, 6, 6, 5]\n",
       "<span style=\"background-color: #800080\">  </span><span style=\"background-color: #008080\">  </span><span style=\"background-color: #c0c0c0\">  </span><span style=\"background-color: #008080\">  </span><span style=\"background-color: #800080\">  </span>  [5, 6, 7, 6, 5]\n",
       "<span style=\"background-color: #800080\">  </span><span style=\"background-color: #008080\">      </span><span style=\"background-color: #800080\">  </span>  [5, 6, 6, 6, 5]\n",
       "<span style=\"background-color: #800080\">          </span>  [5, 5, 5, 5, 5]\n",
       "\n",
       "</pre>\n"
      ],
      "text/plain": [
       "\u001b[45m  \u001b[0m\u001b[45m  \u001b[0m\u001b[45m  \u001b[0m\u001b[45m  \u001b[0m\u001b[45m  \u001b[0m  [5, 5, 5, 5, 5]\n",
       "\u001b[45m  \u001b[0m\u001b[46m  \u001b[0m\u001b[46m  \u001b[0m\u001b[46m  \u001b[0m\u001b[45m  \u001b[0m  [5, 6, 6, 6, 5]\n",
       "\u001b[45m  \u001b[0m\u001b[46m  \u001b[0m\u001b[47m  \u001b[0m\u001b[46m  \u001b[0m\u001b[45m  \u001b[0m  [5, 6, 7, 6, 5]\n",
       "\u001b[45m  \u001b[0m\u001b[46m  \u001b[0m\u001b[46m  \u001b[0m\u001b[46m  \u001b[0m\u001b[45m  \u001b[0m  [5, 6, 6, 6, 5]\n",
       "\u001b[45m  \u001b[0m\u001b[45m  \u001b[0m\u001b[45m  \u001b[0m\u001b[45m  \u001b[0m\u001b[45m  \u001b[0m  [5, 5, 5, 5, 5]\n",
       "\n"
      ]
     },
     "metadata": {},
     "output_type": "display_data"
    },
    {
     "name": "stdout",
     "output_type": "stream",
     "text": [
      "==================================================\n",
      "Example test input\n"
     ]
    },
    {
     "data": {
      "text/html": [
       "<pre style=\"white-space:pre;overflow-x:auto;line-height:normal;font-family:Menlo,'DejaVu Sans Mono',consolas,'Courier New',monospace\"><span style=\"background-color: #800080\">                </span>  [5, 5, 5, 5, 5, 5, 5, 5]\n",
       "<span style=\"background-color: #c0c0c0\">          </span><span style=\"background-color: #800080\">      </span>  [7, 7, 7, 7, 7, 5, 5, 5]\n",
       "<span style=\"background-color: #c0c0c0\">  </span><span style=\"background-color: #800080\">      </span><span style=\"background-color: #c0c0c0\">  </span><span style=\"background-color: #800080\">      </span>  [7, 5, 5, 5, 7, 5, 5, 5]\n",
       "<span style=\"background-color: #c0c0c0\">  </span><span style=\"background-color: #800080\">      </span><span style=\"background-color: #c0c0c0\">  </span><span style=\"background-color: #800080\">      </span>  [7, 5, 5, 5, 7, 5, 5, 5]\n",
       "<span style=\"background-color: #c0c0c0\">  </span><span style=\"background-color: #800080\">      </span><span style=\"background-color: #c0c0c0\">  </span><span style=\"background-color: #800080\">      </span>  [7, 5, 5, 5, 7, 5, 5, 5]\n",
       "<span style=\"background-color: #c0c0c0\">          </span><span style=\"background-color: #800080\">      </span>  [7, 7, 7, 7, 7, 5, 5, 5]\n",
       "<span style=\"background-color: #800080\">        </span><span style=\"background-color: #000000\">      </span><span style=\"background-color: #800080\">  </span>  [5, 5, 5, 5, 0, 0, 0, 5]\n",
       "<span style=\"background-color: #800080\">        </span><span style=\"background-color: #000000\">  </span><span style=\"background-color: #008080\">  </span><span style=\"background-color: #000000\">  </span><span style=\"background-color: #800080\">  </span>  [5, 5, 5, 5, 0, 6, 0, 5]\n",
       "<span style=\"background-color: #800080\">        </span><span style=\"background-color: #000000\">      </span><span style=\"background-color: #800080\">  </span>  [5, 5, 5, 5, 0, 0, 0, 5]\n",
       "\n",
       "</pre>\n"
      ],
      "text/plain": [
       "\u001b[45m  \u001b[0m\u001b[45m  \u001b[0m\u001b[45m  \u001b[0m\u001b[45m  \u001b[0m\u001b[45m  \u001b[0m\u001b[45m  \u001b[0m\u001b[45m  \u001b[0m\u001b[45m  \u001b[0m  [5, 5, 5, 5, 5, 5, 5, 5]\n",
       "\u001b[47m  \u001b[0m\u001b[47m  \u001b[0m\u001b[47m  \u001b[0m\u001b[47m  \u001b[0m\u001b[47m  \u001b[0m\u001b[45m  \u001b[0m\u001b[45m  \u001b[0m\u001b[45m  \u001b[0m  [7, 7, 7, 7, 7, 5, 5, 5]\n",
       "\u001b[47m  \u001b[0m\u001b[45m  \u001b[0m\u001b[45m  \u001b[0m\u001b[45m  \u001b[0m\u001b[47m  \u001b[0m\u001b[45m  \u001b[0m\u001b[45m  \u001b[0m\u001b[45m  \u001b[0m  [7, 5, 5, 5, 7, 5, 5, 5]\n",
       "\u001b[47m  \u001b[0m\u001b[45m  \u001b[0m\u001b[45m  \u001b[0m\u001b[45m  \u001b[0m\u001b[47m  \u001b[0m\u001b[45m  \u001b[0m\u001b[45m  \u001b[0m\u001b[45m  \u001b[0m  [7, 5, 5, 5, 7, 5, 5, 5]\n",
       "\u001b[47m  \u001b[0m\u001b[45m  \u001b[0m\u001b[45m  \u001b[0m\u001b[45m  \u001b[0m\u001b[47m  \u001b[0m\u001b[45m  \u001b[0m\u001b[45m  \u001b[0m\u001b[45m  \u001b[0m  [7, 5, 5, 5, 7, 5, 5, 5]\n",
       "\u001b[47m  \u001b[0m\u001b[47m  \u001b[0m\u001b[47m  \u001b[0m\u001b[47m  \u001b[0m\u001b[47m  \u001b[0m\u001b[45m  \u001b[0m\u001b[45m  \u001b[0m\u001b[45m  \u001b[0m  [7, 7, 7, 7, 7, 5, 5, 5]\n",
       "\u001b[45m  \u001b[0m\u001b[45m  \u001b[0m\u001b[45m  \u001b[0m\u001b[45m  \u001b[0m\u001b[40m  \u001b[0m\u001b[40m  \u001b[0m\u001b[40m  \u001b[0m\u001b[45m  \u001b[0m  [5, 5, 5, 5, 0, 0, 0, 5]\n",
       "\u001b[45m  \u001b[0m\u001b[45m  \u001b[0m\u001b[45m  \u001b[0m\u001b[45m  \u001b[0m\u001b[40m  \u001b[0m\u001b[46m  \u001b[0m\u001b[40m  \u001b[0m\u001b[45m  \u001b[0m  [5, 5, 5, 5, 0, 6, 0, 5]\n",
       "\u001b[45m  \u001b[0m\u001b[45m  \u001b[0m\u001b[45m  \u001b[0m\u001b[45m  \u001b[0m\u001b[40m  \u001b[0m\u001b[40m  \u001b[0m\u001b[40m  \u001b[0m\u001b[45m  \u001b[0m  [5, 5, 5, 5, 0, 0, 0, 5]\n",
       "\n"
      ]
     },
     "metadata": {},
     "output_type": "display_data"
    },
    {
     "name": "stdout",
     "output_type": "stream",
     "text": [
      "Example test output\n"
     ]
    },
    {
     "data": {
      "text/html": [
       "<pre style=\"white-space:pre;overflow-x:auto;line-height:normal;font-family:Menlo,'DejaVu Sans Mono',consolas,'Courier New',monospace\"><span style=\"background-color: #c0c0c0\">          </span>  [7, 7, 7, 7, 7]\n",
       "<span style=\"background-color: #c0c0c0\">  </span><span style=\"background-color: #000000\">      </span><span style=\"background-color: #c0c0c0\">  </span>  [7, 0, 0, 0, 7]\n",
       "<span style=\"background-color: #c0c0c0\">  </span><span style=\"background-color: #000000\">  </span><span style=\"background-color: #008080\">  </span><span style=\"background-color: #000000\">  </span><span style=\"background-color: #c0c0c0\">  </span>  [7, 0, 6, 0, 7]\n",
       "<span style=\"background-color: #c0c0c0\">  </span><span style=\"background-color: #000000\">      </span><span style=\"background-color: #c0c0c0\">  </span>  [7, 0, 0, 0, 7]\n",
       "<span style=\"background-color: #c0c0c0\">          </span>  [7, 7, 7, 7, 7]\n",
       "\n",
       "</pre>\n"
      ],
      "text/plain": [
       "\u001b[47m  \u001b[0m\u001b[47m  \u001b[0m\u001b[47m  \u001b[0m\u001b[47m  \u001b[0m\u001b[47m  \u001b[0m  [7, 7, 7, 7, 7]\n",
       "\u001b[47m  \u001b[0m\u001b[40m  \u001b[0m\u001b[40m  \u001b[0m\u001b[40m  \u001b[0m\u001b[47m  \u001b[0m  [7, 0, 0, 0, 7]\n",
       "\u001b[47m  \u001b[0m\u001b[40m  \u001b[0m\u001b[46m  \u001b[0m\u001b[40m  \u001b[0m\u001b[47m  \u001b[0m  [7, 0, 6, 0, 7]\n",
       "\u001b[47m  \u001b[0m\u001b[40m  \u001b[0m\u001b[40m  \u001b[0m\u001b[40m  \u001b[0m\u001b[47m  \u001b[0m  [7, 0, 0, 0, 7]\n",
       "\u001b[47m  \u001b[0m\u001b[47m  \u001b[0m\u001b[47m  \u001b[0m\u001b[47m  \u001b[0m\u001b[47m  \u001b[0m  [7, 7, 7, 7, 7]\n",
       "\n"
      ]
     },
     "metadata": {},
     "output_type": "display_data"
    },
    {
     "name": "stdout",
     "output_type": "stream",
     "text": [
      "==================================================\n",
      "120\n",
      "==================================================\n",
      "Example input\n"
     ]
    },
    {
     "data": {
      "text/html": [
       "<pre style=\"white-space:pre;overflow-x:auto;line-height:normal;font-family:Menlo,'DejaVu Sans Mono',consolas,'Courier New',monospace\"><span style=\"background-color: #00ff00\">  </span><span style=\"background-color: #808000\">  </span><span style=\"background-color: #ff0000\">  </span><span style=\"background-color: #008000\">    </span><span style=\"background-color: #800080\">  </span><span style=\"background-color: #008080\">    </span><span style=\"background-color: #c0c0c0\">  </span>  [9, 3, 8, 2, 2, 5, 6, 6, 7]\n",
       "<span style=\"background-color: #808000\">  </span><span style=\"background-color: #000000\">  </span><span style=\"background-color: #808000\">  </span><span style=\"background-color: #008000\">  </span><span style=\"background-color: #800000\">    </span><span style=\"background-color: #c0c0c0\">  </span><span style=\"background-color: #ff0000\">  </span><span style=\"background-color: #008080\">  </span>  [3, 0, 3, 2, 1, 1, 7, 8, 6]\n",
       "<span style=\"background-color: #ff0000\">  </span><span style=\"background-color: #808000\">  </span><span style=\"background-color: #ff0000\">  </span><span style=\"background-color: #800080\">  </span><span style=\"background-color: #800000\">  </span><span style=\"background-color: #800080\">  </span><span style=\"background-color: #000080\">  </span><span style=\"background-color: #008000\">  </span><span style=\"background-color: #ff0000\">  </span>  [8, 3, 8, 5, 1, 5, 4, 2, 8]\n",
       "\n",
       "</pre>\n"
      ],
      "text/plain": [
       "\u001b[102m  \u001b[0m\u001b[43m  \u001b[0m\u001b[101m  \u001b[0m\u001b[42m  \u001b[0m\u001b[42m  \u001b[0m\u001b[45m  \u001b[0m\u001b[46m  \u001b[0m\u001b[46m  \u001b[0m\u001b[47m  \u001b[0m  [9, 3, 8, 2, 2, 5, 6, 6, 7]\n",
       "\u001b[43m  \u001b[0m\u001b[40m  \u001b[0m\u001b[43m  \u001b[0m\u001b[42m  \u001b[0m\u001b[41m  \u001b[0m\u001b[41m  \u001b[0m\u001b[47m  \u001b[0m\u001b[101m  \u001b[0m\u001b[46m  \u001b[0m  [3, 0, 3, 2, 1, 1, 7, 8, 6]\n",
       "\u001b[101m  \u001b[0m\u001b[43m  \u001b[0m\u001b[101m  \u001b[0m\u001b[45m  \u001b[0m\u001b[41m  \u001b[0m\u001b[45m  \u001b[0m\u001b[44m  \u001b[0m\u001b[42m  \u001b[0m\u001b[101m  \u001b[0m  [8, 3, 8, 5, 1, 5, 4, 2, 8]\n",
       "\n"
      ]
     },
     "metadata": {},
     "output_type": "display_data"
    },
    {
     "name": "stdout",
     "output_type": "stream",
     "text": [
      "Example output\n"
     ]
    },
    {
     "data": {
      "text/html": [
       "<pre style=\"white-space:pre;overflow-x:auto;line-height:normal;font-family:Menlo,'DejaVu Sans Mono',consolas,'Courier New',monospace\"><span style=\"background-color: #008080\">    </span><span style=\"background-color: #c0c0c0\">  </span>  [6, 6, 7]\n",
       "<span style=\"background-color: #c0c0c0\">  </span><span style=\"background-color: #ff0000\">  </span><span style=\"background-color: #008080\">  </span>  [7, 8, 6]\n",
       "<span style=\"background-color: #000080\">  </span><span style=\"background-color: #008000\">  </span><span style=\"background-color: #ff0000\">  </span>  [4, 2, 8]\n",
       "\n",
       "</pre>\n"
      ],
      "text/plain": [
       "\u001b[46m  \u001b[0m\u001b[46m  \u001b[0m\u001b[47m  \u001b[0m  [6, 6, 7]\n",
       "\u001b[47m  \u001b[0m\u001b[101m  \u001b[0m\u001b[46m  \u001b[0m  [7, 8, 6]\n",
       "\u001b[44m  \u001b[0m\u001b[42m  \u001b[0m\u001b[101m  \u001b[0m  [4, 2, 8]\n",
       "\n"
      ]
     },
     "metadata": {},
     "output_type": "display_data"
    },
    {
     "name": "stdout",
     "output_type": "stream",
     "text": [
      "==================================================\n",
      "Example test input\n"
     ]
    },
    {
     "data": {
      "text/html": [
       "<pre style=\"white-space:pre;overflow-x:auto;line-height:normal;font-family:Menlo,'DejaVu Sans Mono',consolas,'Courier New',monospace\"><span style=\"background-color: #008080\">  </span><span style=\"background-color: #ff0000\">  </span><span style=\"background-color: #c0c0c0\">  </span><span style=\"background-color: #000080\">  </span><span style=\"background-color: #ff0000\">  </span><span style=\"background-color: #c0c0c0\">    </span><span style=\"background-color: #008080\">  </span><span style=\"background-color: #800000\">  </span><span style=\"background-color: #808000\">  </span>  [6, 8, 7, 4, 8, 7, 7, 6, 1, 3]\n",
       "<span style=\"background-color: #ff0000\">    </span><span style=\"background-color: #800080\">    </span><span style=\"background-color: #008080\">  </span><span style=\"background-color: #008000\">  </span><span style=\"background-color: #808000\">      </span><span style=\"background-color: #008000\">  </span>  [8, 8, 5, 5, 6, 2, 3, 3, 3, 2]\n",
       "<span style=\"background-color: #c0c0c0\">  </span><span style=\"background-color: #800080\">  </span><span style=\"background-color: #ff0000\">    </span><span style=\"background-color: #000080\">  </span><span style=\"background-color: #c0c0c0\">  </span><span style=\"background-color: #808000\">  </span><span style=\"background-color: #c0c0c0\">  </span><span style=\"background-color: #800000\">  </span><span style=\"background-color: #808000\">  </span>  [7, 5, 8, 8, 4, 7, 3, 7, 1, 3]\n",
       "<span style=\"background-color: #000080\">  </span><span style=\"background-color: #800080\">  </span><span style=\"background-color: #ff0000\">  </span><span style=\"background-color: #c0c0c0\">  </span><span style=\"background-color: #800000\">    </span><span style=\"background-color: #808000\">  </span><span style=\"background-color: #008000\">  </span><span style=\"background-color: #808000\">    </span>  [4, 5, 8, 7, 1, 1, 3, 2, 3, 3]\n",
       "<span style=\"background-color: #ff0000\">  </span><span style=\"background-color: #008080\">  </span><span style=\"background-color: #000080\">  </span><span style=\"background-color: #800000\">  </span><span style=\"background-color: #ff0000\">  </span><span style=\"background-color: #808000\">  </span><span style=\"background-color: #008000\">  </span><span style=\"background-color: #808000\">    </span><span style=\"background-color: #c0c0c0\">  </span>  [8, 6, 4, 1, 8, 3, 2, 3, 3, 7]\n",
       "\n",
       "</pre>\n"
      ],
      "text/plain": [
       "\u001b[46m  \u001b[0m\u001b[101m  \u001b[0m\u001b[47m  \u001b[0m\u001b[44m  \u001b[0m\u001b[101m  \u001b[0m\u001b[47m  \u001b[0m\u001b[47m  \u001b[0m\u001b[46m  \u001b[0m\u001b[41m  \u001b[0m\u001b[43m  \u001b[0m  [6, 8, 7, 4, 8, 7, 7, 6, 1, 3]\n",
       "\u001b[101m  \u001b[0m\u001b[101m  \u001b[0m\u001b[45m  \u001b[0m\u001b[45m  \u001b[0m\u001b[46m  \u001b[0m\u001b[42m  \u001b[0m\u001b[43m  \u001b[0m\u001b[43m  \u001b[0m\u001b[43m  \u001b[0m\u001b[42m  \u001b[0m  [8, 8, 5, 5, 6, 2, 3, 3, 3, 2]\n",
       "\u001b[47m  \u001b[0m\u001b[45m  \u001b[0m\u001b[101m  \u001b[0m\u001b[101m  \u001b[0m\u001b[44m  \u001b[0m\u001b[47m  \u001b[0m\u001b[43m  \u001b[0m\u001b[47m  \u001b[0m\u001b[41m  \u001b[0m\u001b[43m  \u001b[0m  [7, 5, 8, 8, 4, 7, 3, 7, 1, 3]\n",
       "\u001b[44m  \u001b[0m\u001b[45m  \u001b[0m\u001b[101m  \u001b[0m\u001b[47m  \u001b[0m\u001b[41m  \u001b[0m\u001b[41m  \u001b[0m\u001b[43m  \u001b[0m\u001b[42m  \u001b[0m\u001b[43m  \u001b[0m\u001b[43m  \u001b[0m  [4, 5, 8, 7, 1, 1, 3, 2, 3, 3]\n",
       "\u001b[101m  \u001b[0m\u001b[46m  \u001b[0m\u001b[44m  \u001b[0m\u001b[41m  \u001b[0m\u001b[101m  \u001b[0m\u001b[43m  \u001b[0m\u001b[42m  \u001b[0m\u001b[43m  \u001b[0m\u001b[43m  \u001b[0m\u001b[47m  \u001b[0m  [8, 6, 4, 1, 8, 3, 2, 3, 3, 7]\n",
       "\n"
      ]
     },
     "metadata": {},
     "output_type": "display_data"
    },
    {
     "name": "stdout",
     "output_type": "stream",
     "text": [
      "Example test output\n"
     ]
    },
    {
     "data": {
      "text/html": [
       "<pre style=\"white-space:pre;overflow-x:auto;line-height:normal;font-family:Menlo,'DejaVu Sans Mono',consolas,'Courier New',monospace\"><span style=\"background-color: #c0c0c0\">    </span><span style=\"background-color: #008080\">  </span><span style=\"background-color: #800000\">  </span><span style=\"background-color: #808000\">  </span>  [7, 7, 6, 1, 3]\n",
       "<span style=\"background-color: #008000\">  </span><span style=\"background-color: #808000\">      </span><span style=\"background-color: #008000\">  </span>  [2, 3, 3, 3, 2]\n",
       "<span style=\"background-color: #c0c0c0\">  </span><span style=\"background-color: #808000\">  </span><span style=\"background-color: #c0c0c0\">  </span><span style=\"background-color: #800000\">  </span><span style=\"background-color: #808000\">  </span>  [7, 3, 7, 1, 3]\n",
       "<span style=\"background-color: #800000\">  </span><span style=\"background-color: #808000\">  </span><span style=\"background-color: #008000\">  </span><span style=\"background-color: #808000\">    </span>  [1, 3, 2, 3, 3]\n",
       "<span style=\"background-color: #808000\">  </span><span style=\"background-color: #008000\">  </span><span style=\"background-color: #808000\">    </span><span style=\"background-color: #c0c0c0\">  </span>  [3, 2, 3, 3, 7]\n",
       "\n",
       "</pre>\n"
      ],
      "text/plain": [
       "\u001b[47m  \u001b[0m\u001b[47m  \u001b[0m\u001b[46m  \u001b[0m\u001b[41m  \u001b[0m\u001b[43m  \u001b[0m  [7, 7, 6, 1, 3]\n",
       "\u001b[42m  \u001b[0m\u001b[43m  \u001b[0m\u001b[43m  \u001b[0m\u001b[43m  \u001b[0m\u001b[42m  \u001b[0m  [2, 3, 3, 3, 2]\n",
       "\u001b[47m  \u001b[0m\u001b[43m  \u001b[0m\u001b[47m  \u001b[0m\u001b[41m  \u001b[0m\u001b[43m  \u001b[0m  [7, 3, 7, 1, 3]\n",
       "\u001b[41m  \u001b[0m\u001b[43m  \u001b[0m\u001b[42m  \u001b[0m\u001b[43m  \u001b[0m\u001b[43m  \u001b[0m  [1, 3, 2, 3, 3]\n",
       "\u001b[43m  \u001b[0m\u001b[42m  \u001b[0m\u001b[43m  \u001b[0m\u001b[43m  \u001b[0m\u001b[47m  \u001b[0m  [3, 2, 3, 3, 7]\n",
       "\n"
      ]
     },
     "metadata": {},
     "output_type": "display_data"
    },
    {
     "name": "stdout",
     "output_type": "stream",
     "text": [
      "==================================================\n",
      "122\n",
      "==================================================\n",
      "Example input\n"
     ]
    },
    {
     "data": {
      "text/html": [
       "<pre style=\"white-space:pre;overflow-x:auto;line-height:normal;font-family:Menlo,'DejaVu Sans Mono',consolas,'Courier New',monospace\"><span style=\"background-color: #c0c0c0\">    </span><span style=\"background-color: #000000\">  </span>  [7, 7, 0]\n",
       "<span style=\"background-color: #000000\">    </span><span style=\"background-color: #c0c0c0\">  </span>  [0, 0, 7]\n",
       "\n",
       "</pre>\n"
      ],
      "text/plain": [
       "\u001b[47m  \u001b[0m\u001b[47m  \u001b[0m\u001b[40m  \u001b[0m  [7, 7, 0]\n",
       "\u001b[40m  \u001b[0m\u001b[40m  \u001b[0m\u001b[47m  \u001b[0m  [0, 0, 7]\n",
       "\n"
      ]
     },
     "metadata": {},
     "output_type": "display_data"
    },
    {
     "name": "stdout",
     "output_type": "stream",
     "text": [
      "Example output\n"
     ]
    },
    {
     "data": {
      "text/html": [
       "<pre style=\"white-space:pre;overflow-x:auto;line-height:normal;font-family:Menlo,'DejaVu Sans Mono',consolas,'Courier New',monospace\"><span style=\"background-color: #c0c0c0\">    </span><span style=\"background-color: #000000\">  </span><span style=\"background-color: #c0c0c0\">    </span><span style=\"background-color: #000000\">  </span><span style=\"background-color: #c0c0c0\">    </span><span style=\"background-color: #000000\">  </span>  [7, 7, 0, 7, 7, 0, 7, 7, 0]\n",
       "<span style=\"background-color: #000000\">    </span><span style=\"background-color: #c0c0c0\">  </span><span style=\"background-color: #000000\">    </span><span style=\"background-color: #c0c0c0\">  </span><span style=\"background-color: #000000\">    </span><span style=\"background-color: #c0c0c0\">  </span>  [0, 0, 7, 0, 0, 7, 0, 0, 7]\n",
       "<span style=\"background-color: #000000\">                  </span>  [0, 0, 0, 0, 0, 0, 0, 0, 0]\n",
       "<span style=\"background-color: #000000\">                  </span>  [0, 0, 0, 0, 0, 0, 0, 0, 0]\n",
       "<span style=\"background-color: #000000\">                  </span>  [0, 0, 0, 0, 0, 0, 0, 0, 0]\n",
       "<span style=\"background-color: #000000\">                  </span>  [0, 0, 0, 0, 0, 0, 0, 0, 0]\n",
       "\n",
       "</pre>\n"
      ],
      "text/plain": [
       "\u001b[47m  \u001b[0m\u001b[47m  \u001b[0m\u001b[40m  \u001b[0m\u001b[47m  \u001b[0m\u001b[47m  \u001b[0m\u001b[40m  \u001b[0m\u001b[47m  \u001b[0m\u001b[47m  \u001b[0m\u001b[40m  \u001b[0m  [7, 7, 0, 7, 7, 0, 7, 7, 0]\n",
       "\u001b[40m  \u001b[0m\u001b[40m  \u001b[0m\u001b[47m  \u001b[0m\u001b[40m  \u001b[0m\u001b[40m  \u001b[0m\u001b[47m  \u001b[0m\u001b[40m  \u001b[0m\u001b[40m  \u001b[0m\u001b[47m  \u001b[0m  [0, 0, 7, 0, 0, 7, 0, 0, 7]\n",
       "\u001b[40m  \u001b[0m\u001b[40m  \u001b[0m\u001b[40m  \u001b[0m\u001b[40m  \u001b[0m\u001b[40m  \u001b[0m\u001b[40m  \u001b[0m\u001b[40m  \u001b[0m\u001b[40m  \u001b[0m\u001b[40m  \u001b[0m  [0, 0, 0, 0, 0, 0, 0, 0, 0]\n",
       "\u001b[40m  \u001b[0m\u001b[40m  \u001b[0m\u001b[40m  \u001b[0m\u001b[40m  \u001b[0m\u001b[40m  \u001b[0m\u001b[40m  \u001b[0m\u001b[40m  \u001b[0m\u001b[40m  \u001b[0m\u001b[40m  \u001b[0m  [0, 0, 0, 0, 0, 0, 0, 0, 0]\n",
       "\u001b[40m  \u001b[0m\u001b[40m  \u001b[0m\u001b[40m  \u001b[0m\u001b[40m  \u001b[0m\u001b[40m  \u001b[0m\u001b[40m  \u001b[0m\u001b[40m  \u001b[0m\u001b[40m  \u001b[0m\u001b[40m  \u001b[0m  [0, 0, 0, 0, 0, 0, 0, 0, 0]\n",
       "\u001b[40m  \u001b[0m\u001b[40m  \u001b[0m\u001b[40m  \u001b[0m\u001b[40m  \u001b[0m\u001b[40m  \u001b[0m\u001b[40m  \u001b[0m\u001b[40m  \u001b[0m\u001b[40m  \u001b[0m\u001b[40m  \u001b[0m  [0, 0, 0, 0, 0, 0, 0, 0, 0]\n",
       "\n"
      ]
     },
     "metadata": {},
     "output_type": "display_data"
    },
    {
     "name": "stdout",
     "output_type": "stream",
     "text": [
      "==================================================\n",
      "Example test input\n"
     ]
    },
    {
     "data": {
      "text/html": [
       "<pre style=\"white-space:pre;overflow-x:auto;line-height:normal;font-family:Menlo,'DejaVu Sans Mono',consolas,'Courier New',monospace\"><span style=\"background-color: #c0c0c0\">  </span><span style=\"background-color: #000000\">  </span>  [7, 0]\n",
       "<span style=\"background-color: #000000\">    </span>  [0, 0]\n",
       "\n",
       "</pre>\n"
      ],
      "text/plain": [
       "\u001b[47m  \u001b[0m\u001b[40m  \u001b[0m  [7, 0]\n",
       "\u001b[40m  \u001b[0m\u001b[40m  \u001b[0m  [0, 0]\n",
       "\n"
      ]
     },
     "metadata": {},
     "output_type": "display_data"
    },
    {
     "name": "stdout",
     "output_type": "stream",
     "text": [
      "Example test output\n"
     ]
    },
    {
     "data": {
      "text/html": [
       "<pre style=\"white-space:pre;overflow-x:auto;line-height:normal;font-family:Menlo,'DejaVu Sans Mono',consolas,'Courier New',monospace\"><span style=\"background-color: #c0c0c0\">  </span><span style=\"background-color: #000000\">          </span>  [7, 0, 0, 0, 0, 0]\n",
       "<span style=\"background-color: #000000\">            </span>  [0, 0, 0, 0, 0, 0]\n",
       "<span style=\"background-color: #000000\">            </span>  [0, 0, 0, 0, 0, 0]\n",
       "<span style=\"background-color: #000000\">            </span>  [0, 0, 0, 0, 0, 0]\n",
       "<span style=\"background-color: #000000\">            </span>  [0, 0, 0, 0, 0, 0]\n",
       "<span style=\"background-color: #000000\">            </span>  [0, 0, 0, 0, 0, 0]\n",
       "\n",
       "</pre>\n"
      ],
      "text/plain": [
       "\u001b[47m  \u001b[0m\u001b[40m  \u001b[0m\u001b[40m  \u001b[0m\u001b[40m  \u001b[0m\u001b[40m  \u001b[0m\u001b[40m  \u001b[0m  [7, 0, 0, 0, 0, 0]\n",
       "\u001b[40m  \u001b[0m\u001b[40m  \u001b[0m\u001b[40m  \u001b[0m\u001b[40m  \u001b[0m\u001b[40m  \u001b[0m\u001b[40m  \u001b[0m  [0, 0, 0, 0, 0, 0]\n",
       "\u001b[40m  \u001b[0m\u001b[40m  \u001b[0m\u001b[40m  \u001b[0m\u001b[40m  \u001b[0m\u001b[40m  \u001b[0m\u001b[40m  \u001b[0m  [0, 0, 0, 0, 0, 0]\n",
       "\u001b[40m  \u001b[0m\u001b[40m  \u001b[0m\u001b[40m  \u001b[0m\u001b[40m  \u001b[0m\u001b[40m  \u001b[0m\u001b[40m  \u001b[0m  [0, 0, 0, 0, 0, 0]\n",
       "\u001b[40m  \u001b[0m\u001b[40m  \u001b[0m\u001b[40m  \u001b[0m\u001b[40m  \u001b[0m\u001b[40m  \u001b[0m\u001b[40m  \u001b[0m  [0, 0, 0, 0, 0, 0]\n",
       "\u001b[40m  \u001b[0m\u001b[40m  \u001b[0m\u001b[40m  \u001b[0m\u001b[40m  \u001b[0m\u001b[40m  \u001b[0m\u001b[40m  \u001b[0m  [0, 0, 0, 0, 0, 0]\n",
       "\n"
      ]
     },
     "metadata": {},
     "output_type": "display_data"
    },
    {
     "name": "stdout",
     "output_type": "stream",
     "text": [
      "==================================================\n",
      "123\n",
      "==================================================\n",
      "Example input\n"
     ]
    },
    {
     "data": {
      "text/html": [
       "<pre style=\"white-space:pre;overflow-x:auto;line-height:normal;font-family:Menlo,'DejaVu Sans Mono',consolas,'Courier New',monospace\"><span style=\"background-color: #800080\">      </span><span style=\"background-color: #ff0000\">            </span>  [5, 5, 5, 8, 8, 8, 8, 8, 8]\n",
       "<span style=\"background-color: #800080\">      </span><span style=\"background-color: #ff0000\">            </span>  [5, 5, 5, 8, 8, 8, 8, 8, 8]\n",
       "<span style=\"background-color: #800080\">      </span><span style=\"background-color: #ff0000\">            </span>  [5, 5, 5, 8, 8, 8, 8, 8, 8]\n",
       "<span style=\"background-color: #800080\">      </span><span style=\"background-color: #ff0000\">            </span>  [5, 5, 5, 8, 8, 8, 8, 8, 8]\n",
       "<span style=\"background-color: #800080\">      </span><span style=\"background-color: #ff0000\">            </span>  [5, 5, 5, 8, 8, 8, 8, 8, 8]\n",
       "<span style=\"background-color: #800080\">      </span><span style=\"background-color: #ff0000\">            </span>  [5, 5, 5, 8, 8, 8, 8, 8, 8]\n",
       "<span style=\"background-color: #ff0000\">      </span><span style=\"background-color: #800080\">            </span>  [8, 8, 8, 5, 5, 5, 5, 5, 5]\n",
       "<span style=\"background-color: #ff0000\">      </span><span style=\"background-color: #800080\">            </span>  [8, 8, 8, 5, 5, 5, 5, 5, 5]\n",
       "<span style=\"background-color: #ff0000\">      </span><span style=\"background-color: #800080\">            </span>  [8, 8, 8, 5, 5, 5, 5, 5, 5]\n",
       "\n",
       "</pre>\n"
      ],
      "text/plain": [
       "\u001b[45m  \u001b[0m\u001b[45m  \u001b[0m\u001b[45m  \u001b[0m\u001b[101m  \u001b[0m\u001b[101m  \u001b[0m\u001b[101m  \u001b[0m\u001b[101m  \u001b[0m\u001b[101m  \u001b[0m\u001b[101m  \u001b[0m  [5, 5, 5, 8, 8, 8, 8, 8, 8]\n",
       "\u001b[45m  \u001b[0m\u001b[45m  \u001b[0m\u001b[45m  \u001b[0m\u001b[101m  \u001b[0m\u001b[101m  \u001b[0m\u001b[101m  \u001b[0m\u001b[101m  \u001b[0m\u001b[101m  \u001b[0m\u001b[101m  \u001b[0m  [5, 5, 5, 8, 8, 8, 8, 8, 8]\n",
       "\u001b[45m  \u001b[0m\u001b[45m  \u001b[0m\u001b[45m  \u001b[0m\u001b[101m  \u001b[0m\u001b[101m  \u001b[0m\u001b[101m  \u001b[0m\u001b[101m  \u001b[0m\u001b[101m  \u001b[0m\u001b[101m  \u001b[0m  [5, 5, 5, 8, 8, 8, 8, 8, 8]\n",
       "\u001b[45m  \u001b[0m\u001b[45m  \u001b[0m\u001b[45m  \u001b[0m\u001b[101m  \u001b[0m\u001b[101m  \u001b[0m\u001b[101m  \u001b[0m\u001b[101m  \u001b[0m\u001b[101m  \u001b[0m\u001b[101m  \u001b[0m  [5, 5, 5, 8, 8, 8, 8, 8, 8]\n",
       "\u001b[45m  \u001b[0m\u001b[45m  \u001b[0m\u001b[45m  \u001b[0m\u001b[101m  \u001b[0m\u001b[101m  \u001b[0m\u001b[101m  \u001b[0m\u001b[101m  \u001b[0m\u001b[101m  \u001b[0m\u001b[101m  \u001b[0m  [5, 5, 5, 8, 8, 8, 8, 8, 8]\n",
       "\u001b[45m  \u001b[0m\u001b[45m  \u001b[0m\u001b[45m  \u001b[0m\u001b[101m  \u001b[0m\u001b[101m  \u001b[0m\u001b[101m  \u001b[0m\u001b[101m  \u001b[0m\u001b[101m  \u001b[0m\u001b[101m  \u001b[0m  [5, 5, 5, 8, 8, 8, 8, 8, 8]\n",
       "\u001b[101m  \u001b[0m\u001b[101m  \u001b[0m\u001b[101m  \u001b[0m\u001b[45m  \u001b[0m\u001b[45m  \u001b[0m\u001b[45m  \u001b[0m\u001b[45m  \u001b[0m\u001b[45m  \u001b[0m\u001b[45m  \u001b[0m  [8, 8, 8, 5, 5, 5, 5, 5, 5]\n",
       "\u001b[101m  \u001b[0m\u001b[101m  \u001b[0m\u001b[101m  \u001b[0m\u001b[45m  \u001b[0m\u001b[45m  \u001b[0m\u001b[45m  \u001b[0m\u001b[45m  \u001b[0m\u001b[45m  \u001b[0m\u001b[45m  \u001b[0m  [8, 8, 8, 5, 5, 5, 5, 5, 5]\n",
       "\u001b[101m  \u001b[0m\u001b[101m  \u001b[0m\u001b[101m  \u001b[0m\u001b[45m  \u001b[0m\u001b[45m  \u001b[0m\u001b[45m  \u001b[0m\u001b[45m  \u001b[0m\u001b[45m  \u001b[0m\u001b[45m  \u001b[0m  [8, 8, 8, 5, 5, 5, 5, 5, 5]\n",
       "\n"
      ]
     },
     "metadata": {},
     "output_type": "display_data"
    },
    {
     "name": "stdout",
     "output_type": "stream",
     "text": [
      "Example output\n"
     ]
    },
    {
     "data": {
      "text/html": [
       "<pre style=\"white-space:pre;overflow-x:auto;line-height:normal;font-family:Menlo,'DejaVu Sans Mono',consolas,'Courier New',monospace\"><span style=\"background-color: #808000\">  </span>  [3]\n",
       "\n",
       "</pre>\n"
      ],
      "text/plain": [
       "\u001b[43m  \u001b[0m  [3]\n",
       "\n"
      ]
     },
     "metadata": {},
     "output_type": "display_data"
    },
    {
     "name": "stdout",
     "output_type": "stream",
     "text": [
      "==================================================\n",
      "Example test input\n"
     ]
    },
    {
     "data": {
      "text/html": [
       "<pre style=\"white-space:pre;overflow-x:auto;line-height:normal;font-family:Menlo,'DejaVu Sans Mono',consolas,'Courier New',monospace\"><span style=\"background-color: #800080\">          </span>  [5, 5, 5, 5, 5]\n",
       "<span style=\"background-color: #ff0000\">  </span><span style=\"background-color: #800080\">  </span><span style=\"background-color: #ff0000\">  </span><span style=\"background-color: #800080\">    </span>  [8, 5, 8, 5, 5]\n",
       "<span style=\"background-color: #800080\">  </span><span style=\"background-color: #ff0000\">  </span><span style=\"background-color: #800080\">      </span>  [5, 8, 5, 5, 5]\n",
       "<span style=\"background-color: #ff0000\">  </span><span style=\"background-color: #800080\">  </span><span style=\"background-color: #ff0000\">  </span><span style=\"background-color: #800080\">    </span>  [8, 5, 8, 5, 5]\n",
       "\n",
       "</pre>\n"
      ],
      "text/plain": [
       "\u001b[45m  \u001b[0m\u001b[45m  \u001b[0m\u001b[45m  \u001b[0m\u001b[45m  \u001b[0m\u001b[45m  \u001b[0m  [5, 5, 5, 5, 5]\n",
       "\u001b[101m  \u001b[0m\u001b[45m  \u001b[0m\u001b[101m  \u001b[0m\u001b[45m  \u001b[0m\u001b[45m  \u001b[0m  [8, 5, 8, 5, 5]\n",
       "\u001b[45m  \u001b[0m\u001b[101m  \u001b[0m\u001b[45m  \u001b[0m\u001b[45m  \u001b[0m\u001b[45m  \u001b[0m  [5, 8, 5, 5, 5]\n",
       "\u001b[101m  \u001b[0m\u001b[45m  \u001b[0m\u001b[101m  \u001b[0m\u001b[45m  \u001b[0m\u001b[45m  \u001b[0m  [8, 5, 8, 5, 5]\n",
       "\n"
      ]
     },
     "metadata": {},
     "output_type": "display_data"
    },
    {
     "name": "stdout",
     "output_type": "stream",
     "text": [
      "Example test output\n"
     ]
    },
    {
     "data": {
      "text/html": [
       "<pre style=\"white-space:pre;overflow-x:auto;line-height:normal;font-family:Menlo,'DejaVu Sans Mono',consolas,'Courier New',monospace\"><span style=\"background-color: #008000\">  </span>  [2]\n",
       "\n",
       "</pre>\n"
      ],
      "text/plain": [
       "\u001b[42m  \u001b[0m  [2]\n",
       "\n"
      ]
     },
     "metadata": {},
     "output_type": "display_data"
    },
    {
     "name": "stdout",
     "output_type": "stream",
     "text": [
      "==================================================\n",
      "126\n",
      "==================================================\n",
      "Example input\n"
     ]
    },
    {
     "data": {
      "text/html": [
       "<pre style=\"white-space:pre;overflow-x:auto;line-height:normal;font-family:Menlo,'DejaVu Sans Mono',consolas,'Courier New',monospace\"><span style=\"background-color: #800080\">      </span><span style=\"background-color: #ff0000\">      </span>  [5, 5, 5, 8, 8, 8]\n",
       "<span style=\"background-color: #008000\">    </span><span style=\"background-color: #800080\">  </span><span style=\"background-color: #ff0000\">  </span><span style=\"background-color: #008000\">  </span><span style=\"background-color: #ff0000\">  </span>  [2, 2, 5, 8, 2, 8]\n",
       "\n",
       "</pre>\n"
      ],
      "text/plain": [
       "\u001b[45m  \u001b[0m\u001b[45m  \u001b[0m\u001b[45m  \u001b[0m\u001b[101m  \u001b[0m\u001b[101m  \u001b[0m\u001b[101m  \u001b[0m  [5, 5, 5, 8, 8, 8]\n",
       "\u001b[42m  \u001b[0m\u001b[42m  \u001b[0m\u001b[45m  \u001b[0m\u001b[101m  \u001b[0m\u001b[42m  \u001b[0m\u001b[101m  \u001b[0m  [2, 2, 5, 8, 2, 8]\n",
       "\n"
      ]
     },
     "metadata": {},
     "output_type": "display_data"
    },
    {
     "name": "stdout",
     "output_type": "stream",
     "text": [
      "Example output\n"
     ]
    },
    {
     "data": {
      "text/html": [
       "<pre style=\"white-space:pre;overflow-x:auto;line-height:normal;font-family:Menlo,'DejaVu Sans Mono',consolas,'Courier New',monospace\"><span style=\"background-color: #008080\">      </span>  [6, 6, 6]\n",
       "<span style=\"background-color: #008080\">  </span><span style=\"background-color: #008000\">  </span><span style=\"background-color: #008080\">  </span>  [6, 2, 6]\n",
       "\n",
       "</pre>\n"
      ],
      "text/plain": [
       "\u001b[46m  \u001b[0m\u001b[46m  \u001b[0m\u001b[46m  \u001b[0m  [6, 6, 6]\n",
       "\u001b[46m  \u001b[0m\u001b[42m  \u001b[0m\u001b[46m  \u001b[0m  [6, 2, 6]\n",
       "\n"
      ]
     },
     "metadata": {},
     "output_type": "display_data"
    },
    {
     "name": "stdout",
     "output_type": "stream",
     "text": [
      "==================================================\n",
      "Example test input\n"
     ]
    },
    {
     "data": {
      "text/html": [
       "<pre style=\"white-space:pre;overflow-x:auto;line-height:normal;font-family:Menlo,'DejaVu Sans Mono',consolas,'Courier New',monospace\"><span style=\"background-color: #800000\">      </span><span style=\"background-color: #800080\">    </span><span style=\"background-color: #808000\">  </span>  [1, 1, 1, 5, 5, 3]\n",
       "<span style=\"background-color: #800000\">      </span><span style=\"background-color: #800080\">      </span>  [1, 1, 1, 5, 5, 5]\n",
       "<span style=\"background-color: #808000\">  </span><span style=\"background-color: #800000\">  </span><span style=\"background-color: #808000\">  </span><span style=\"background-color: #800080\">      </span>  [3, 1, 3, 5, 5, 5]\n",
       "<span style=\"background-color: #808000\">  </span><span style=\"background-color: #800000\">    </span><span style=\"background-color: #800080\">      </span>  [3, 1, 1, 5, 5, 5]\n",
       "\n",
       "</pre>\n"
      ],
      "text/plain": [
       "\u001b[41m  \u001b[0m\u001b[41m  \u001b[0m\u001b[41m  \u001b[0m\u001b[45m  \u001b[0m\u001b[45m  \u001b[0m\u001b[43m  \u001b[0m  [1, 1, 1, 5, 5, 3]\n",
       "\u001b[41m  \u001b[0m\u001b[41m  \u001b[0m\u001b[41m  \u001b[0m\u001b[45m  \u001b[0m\u001b[45m  \u001b[0m\u001b[45m  \u001b[0m  [1, 1, 1, 5, 5, 5]\n",
       "\u001b[43m  \u001b[0m\u001b[41m  \u001b[0m\u001b[43m  \u001b[0m\u001b[45m  \u001b[0m\u001b[45m  \u001b[0m\u001b[45m  \u001b[0m  [3, 1, 3, 5, 5, 5]\n",
       "\u001b[43m  \u001b[0m\u001b[41m  \u001b[0m\u001b[41m  \u001b[0m\u001b[45m  \u001b[0m\u001b[45m  \u001b[0m\u001b[45m  \u001b[0m  [3, 1, 1, 5, 5, 5]\n",
       "\n"
      ]
     },
     "metadata": {},
     "output_type": "display_data"
    },
    {
     "name": "stdout",
     "output_type": "stream",
     "text": [
      "Example test output\n"
     ]
    },
    {
     "data": {
      "text/html": [
       "<pre style=\"white-space:pre;overflow-x:auto;line-height:normal;font-family:Menlo,'DejaVu Sans Mono',consolas,'Courier New',monospace\"><span style=\"background-color: #008080\">      </span>  [6, 6, 6]\n",
       "<span style=\"background-color: #008080\">      </span>  [6, 6, 6]\n",
       "<span style=\"background-color: #008080\">      </span>  [6, 6, 6]\n",
       "<span style=\"background-color: #008080\">      </span>  [6, 6, 6]\n",
       "\n",
       "</pre>\n"
      ],
      "text/plain": [
       "\u001b[46m  \u001b[0m\u001b[46m  \u001b[0m\u001b[46m  \u001b[0m  [6, 6, 6]\n",
       "\u001b[46m  \u001b[0m\u001b[46m  \u001b[0m\u001b[46m  \u001b[0m  [6, 6, 6]\n",
       "\u001b[46m  \u001b[0m\u001b[46m  \u001b[0m\u001b[46m  \u001b[0m  [6, 6, 6]\n",
       "\u001b[46m  \u001b[0m\u001b[46m  \u001b[0m\u001b[46m  \u001b[0m  [6, 6, 6]\n",
       "\n"
      ]
     },
     "metadata": {},
     "output_type": "display_data"
    },
    {
     "name": "stdout",
     "output_type": "stream",
     "text": [
      "==================================================\n",
      "127\n",
      "==================================================\n",
      "Example input\n"
     ]
    },
    {
     "data": {
      "text/html": [
       "<pre style=\"white-space:pre;overflow-x:auto;line-height:normal;font-family:Menlo,'DejaVu Sans Mono',consolas,'Courier New',monospace\"><span style=\"background-color: #800080\">              </span>  [5, 5, 5, 5, 5, 5, 5]\n",
       "<span style=\"background-color: #800080\">              </span>  [5, 5, 5, 5, 5, 5, 5]\n",
       "<span style=\"background-color: #800080\">  </span><span style=\"background-color: #008080\">  </span><span style=\"background-color: #800080\">          </span>  [5, 6, 5, 5, 5, 5, 5]\n",
       "<span style=\"background-color: #800080\">  </span><span style=\"background-color: #008080\">    </span><span style=\"background-color: #800080\">    </span><span style=\"background-color: #008080\">  </span><span style=\"background-color: #800080\">  </span>  [5, 6, 6, 5, 5, 6, 5]\n",
       "<span style=\"background-color: #800080\">  </span><span style=\"background-color: #008080\">      </span><span style=\"background-color: #800080\">  </span><span style=\"background-color: #008080\">    </span>  [5, 6, 6, 6, 5, 6, 6]\n",
       "<span style=\"background-color: #008080\">              </span>  [6, 6, 6, 6, 6, 6, 6]\n",
       "<span style=\"background-color: #008080\">              </span>  [6, 6, 6, 6, 6, 6, 6]\n",
       "<span style=\"background-color: #008080\">              </span>  [6, 6, 6, 6, 6, 6, 6]\n",
       "\n",
       "</pre>\n"
      ],
      "text/plain": [
       "\u001b[45m  \u001b[0m\u001b[45m  \u001b[0m\u001b[45m  \u001b[0m\u001b[45m  \u001b[0m\u001b[45m  \u001b[0m\u001b[45m  \u001b[0m\u001b[45m  \u001b[0m  [5, 5, 5, 5, 5, 5, 5]\n",
       "\u001b[45m  \u001b[0m\u001b[45m  \u001b[0m\u001b[45m  \u001b[0m\u001b[45m  \u001b[0m\u001b[45m  \u001b[0m\u001b[45m  \u001b[0m\u001b[45m  \u001b[0m  [5, 5, 5, 5, 5, 5, 5]\n",
       "\u001b[45m  \u001b[0m\u001b[46m  \u001b[0m\u001b[45m  \u001b[0m\u001b[45m  \u001b[0m\u001b[45m  \u001b[0m\u001b[45m  \u001b[0m\u001b[45m  \u001b[0m  [5, 6, 5, 5, 5, 5, 5]\n",
       "\u001b[45m  \u001b[0m\u001b[46m  \u001b[0m\u001b[46m  \u001b[0m\u001b[45m  \u001b[0m\u001b[45m  \u001b[0m\u001b[46m  \u001b[0m\u001b[45m  \u001b[0m  [5, 6, 6, 5, 5, 6, 5]\n",
       "\u001b[45m  \u001b[0m\u001b[46m  \u001b[0m\u001b[46m  \u001b[0m\u001b[46m  \u001b[0m\u001b[45m  \u001b[0m\u001b[46m  \u001b[0m\u001b[46m  \u001b[0m  [5, 6, 6, 6, 5, 6, 6]\n",
       "\u001b[46m  \u001b[0m\u001b[46m  \u001b[0m\u001b[46m  \u001b[0m\u001b[46m  \u001b[0m\u001b[46m  \u001b[0m\u001b[46m  \u001b[0m\u001b[46m  \u001b[0m  [6, 6, 6, 6, 6, 6, 6]\n",
       "\u001b[46m  \u001b[0m\u001b[46m  \u001b[0m\u001b[46m  \u001b[0m\u001b[46m  \u001b[0m\u001b[46m  \u001b[0m\u001b[46m  \u001b[0m\u001b[46m  \u001b[0m  [6, 6, 6, 6, 6, 6, 6]\n",
       "\u001b[46m  \u001b[0m\u001b[46m  \u001b[0m\u001b[46m  \u001b[0m\u001b[46m  \u001b[0m\u001b[46m  \u001b[0m\u001b[46m  \u001b[0m\u001b[46m  \u001b[0m  [6, 6, 6, 6, 6, 6, 6]\n",
       "\n"
      ]
     },
     "metadata": {},
     "output_type": "display_data"
    },
    {
     "name": "stdout",
     "output_type": "stream",
     "text": [
      "Example output\n"
     ]
    },
    {
     "data": {
      "text/html": [
       "<pre style=\"white-space:pre;overflow-x:auto;line-height:normal;font-family:Menlo,'DejaVu Sans Mono',consolas,'Courier New',monospace\"><span style=\"background-color: #800080\">  </span>  [5]\n",
       "<span style=\"background-color: #008080\">  </span>  [6]\n",
       "\n",
       "</pre>\n"
      ],
      "text/plain": [
       "\u001b[45m  \u001b[0m  [5]\n",
       "\u001b[46m  \u001b[0m  [6]\n",
       "\n"
      ]
     },
     "metadata": {},
     "output_type": "display_data"
    },
    {
     "name": "stdout",
     "output_type": "stream",
     "text": [
      "==================================================\n",
      "Example test input\n"
     ]
    },
    {
     "data": {
      "text/html": [
       "<pre style=\"white-space:pre;overflow-x:auto;line-height:normal;font-family:Menlo,'DejaVu Sans Mono',consolas,'Courier New',monospace\"><span style=\"background-color: #008080\">      </span><span style=\"background-color: #808000\">          </span>  [6, 6, 6, 3, 3, 3, 3, 3]\n",
       "<span style=\"background-color: #008080\">      </span><span style=\"background-color: #808000\">          </span>  [6, 6, 6, 3, 3, 3, 3, 3]\n",
       "<span style=\"background-color: #008080\">      </span><span style=\"background-color: #808000\">          </span>  [6, 6, 6, 3, 3, 3, 3, 3]\n",
       "<span style=\"background-color: #008080\">      </span><span style=\"background-color: #808000\">          </span>  [6, 6, 6, 3, 3, 3, 3, 3]\n",
       "<span style=\"background-color: #008080\">      </span><span style=\"background-color: #808000\">          </span>  [6, 6, 6, 3, 3, 3, 3, 3]\n",
       "<span style=\"background-color: #008080\">      </span><span style=\"background-color: #808000\">          </span>  [6, 6, 6, 3, 3, 3, 3, 3]\n",
       "\n",
       "</pre>\n"
      ],
      "text/plain": [
       "\u001b[46m  \u001b[0m\u001b[46m  \u001b[0m\u001b[46m  \u001b[0m\u001b[43m  \u001b[0m\u001b[43m  \u001b[0m\u001b[43m  \u001b[0m\u001b[43m  \u001b[0m\u001b[43m  \u001b[0m  [6, 6, 6, 3, 3, 3, 3, 3]\n",
       "\u001b[46m  \u001b[0m\u001b[46m  \u001b[0m\u001b[46m  \u001b[0m\u001b[43m  \u001b[0m\u001b[43m  \u001b[0m\u001b[43m  \u001b[0m\u001b[43m  \u001b[0m\u001b[43m  \u001b[0m  [6, 6, 6, 3, 3, 3, 3, 3]\n",
       "\u001b[46m  \u001b[0m\u001b[46m  \u001b[0m\u001b[46m  \u001b[0m\u001b[43m  \u001b[0m\u001b[43m  \u001b[0m\u001b[43m  \u001b[0m\u001b[43m  \u001b[0m\u001b[43m  \u001b[0m  [6, 6, 6, 3, 3, 3, 3, 3]\n",
       "\u001b[46m  \u001b[0m\u001b[46m  \u001b[0m\u001b[46m  \u001b[0m\u001b[43m  \u001b[0m\u001b[43m  \u001b[0m\u001b[43m  \u001b[0m\u001b[43m  \u001b[0m\u001b[43m  \u001b[0m  [6, 6, 6, 3, 3, 3, 3, 3]\n",
       "\u001b[46m  \u001b[0m\u001b[46m  \u001b[0m\u001b[46m  \u001b[0m\u001b[43m  \u001b[0m\u001b[43m  \u001b[0m\u001b[43m  \u001b[0m\u001b[43m  \u001b[0m\u001b[43m  \u001b[0m  [6, 6, 6, 3, 3, 3, 3, 3]\n",
       "\u001b[46m  \u001b[0m\u001b[46m  \u001b[0m\u001b[46m  \u001b[0m\u001b[43m  \u001b[0m\u001b[43m  \u001b[0m\u001b[43m  \u001b[0m\u001b[43m  \u001b[0m\u001b[43m  \u001b[0m  [6, 6, 6, 3, 3, 3, 3, 3]\n",
       "\n"
      ]
     },
     "metadata": {},
     "output_type": "display_data"
    },
    {
     "name": "stdout",
     "output_type": "stream",
     "text": [
      "Example test output\n"
     ]
    },
    {
     "data": {
      "text/html": [
       "<pre style=\"white-space:pre;overflow-x:auto;line-height:normal;font-family:Menlo,'DejaVu Sans Mono',consolas,'Courier New',monospace\"><span style=\"background-color: #008080\">  </span><span style=\"background-color: #808000\">  </span>  [6, 3]\n",
       "\n",
       "</pre>\n"
      ],
      "text/plain": [
       "\u001b[46m  \u001b[0m\u001b[43m  \u001b[0m  [6, 3]\n",
       "\n"
      ]
     },
     "metadata": {},
     "output_type": "display_data"
    },
    {
     "name": "stdout",
     "output_type": "stream",
     "text": [
      "==================================================\n",
      "130\n",
      "==================================================\n",
      "Example input\n"
     ]
    },
    {
     "data": {
      "text/html": [
       "<pre style=\"white-space:pre;overflow-x:auto;line-height:normal;font-family:Menlo,'DejaVu Sans Mono',consolas,'Courier New',monospace\"><span style=\"background-color: #800080\">          </span><span style=\"background-color: #008080\">      </span>  [5, 5, 5, 5, 5, 6, 6, 6]\n",
       "<span style=\"background-color: #800080\">    </span><span style=\"background-color: #00ff00\">    </span><span style=\"background-color: #008080\">      </span><span style=\"background-color: #800080\">  </span>  [5, 5, 9, 9, 6, 6, 6, 5]\n",
       "\n",
       "</pre>\n"
      ],
      "text/plain": [
       "\u001b[45m  \u001b[0m\u001b[45m  \u001b[0m\u001b[45m  \u001b[0m\u001b[45m  \u001b[0m\u001b[45m  \u001b[0m\u001b[46m  \u001b[0m\u001b[46m  \u001b[0m\u001b[46m  \u001b[0m  [5, 5, 5, 5, 5, 6, 6, 6]\n",
       "\u001b[45m  \u001b[0m\u001b[45m  \u001b[0m\u001b[102m  \u001b[0m\u001b[102m  \u001b[0m\u001b[46m  \u001b[0m\u001b[46m  \u001b[0m\u001b[46m  \u001b[0m\u001b[45m  \u001b[0m  [5, 5, 9, 9, 6, 6, 6, 5]\n",
       "\n"
      ]
     },
     "metadata": {},
     "output_type": "display_data"
    },
    {
     "name": "stdout",
     "output_type": "stream",
     "text": [
      "Example output\n"
     ]
    },
    {
     "data": {
      "text/html": [
       "<pre style=\"white-space:pre;overflow-x:auto;line-height:normal;font-family:Menlo,'DejaVu Sans Mono',consolas,'Courier New',monospace\"><span style=\"background-color: #008000\">  </span><span style=\"background-color: #800080\">      </span>  [2, 5, 5, 5]\n",
       "<span style=\"background-color: #800080\">        </span>  [5, 5, 5, 5]\n",
       "\n",
       "</pre>\n"
      ],
      "text/plain": [
       "\u001b[42m  \u001b[0m\u001b[45m  \u001b[0m\u001b[45m  \u001b[0m\u001b[45m  \u001b[0m  [2, 5, 5, 5]\n",
       "\u001b[45m  \u001b[0m\u001b[45m  \u001b[0m\u001b[45m  \u001b[0m\u001b[45m  \u001b[0m  [5, 5, 5, 5]\n",
       "\n"
      ]
     },
     "metadata": {},
     "output_type": "display_data"
    },
    {
     "name": "stdout",
     "output_type": "stream",
     "text": [
      "==================================================\n",
      "Example test input\n"
     ]
    },
    {
     "data": {
      "text/html": [
       "<pre style=\"white-space:pre;overflow-x:auto;line-height:normal;font-family:Menlo,'DejaVu Sans Mono',consolas,'Courier New',monospace\"><span style=\"background-color: #808000\">      </span><span style=\"background-color: #00ff00\">  </span><span style=\"background-color: #008080\">    </span>  [3, 3, 3, 9, 6, 6]\n",
       "<span style=\"background-color: #808000\">  </span><span style=\"background-color: #008080\">  </span><span style=\"background-color: #808000\">  </span><span style=\"background-color: #008080\">      </span>  [3, 6, 3, 6, 6, 6]\n",
       "\n",
       "</pre>\n"
      ],
      "text/plain": [
       "\u001b[43m  \u001b[0m\u001b[43m  \u001b[0m\u001b[43m  \u001b[0m\u001b[102m  \u001b[0m\u001b[46m  \u001b[0m\u001b[46m  \u001b[0m  [3, 3, 3, 9, 6, 6]\n",
       "\u001b[43m  \u001b[0m\u001b[46m  \u001b[0m\u001b[43m  \u001b[0m\u001b[46m  \u001b[0m\u001b[46m  \u001b[0m\u001b[46m  \u001b[0m  [3, 6, 3, 6, 6, 6]\n",
       "\n"
      ]
     },
     "metadata": {},
     "output_type": "display_data"
    },
    {
     "name": "stdout",
     "output_type": "stream",
     "text": [
      "Example test output\n"
     ]
    },
    {
     "data": {
      "text/html": [
       "<pre style=\"white-space:pre;overflow-x:auto;line-height:normal;font-family:Menlo,'DejaVu Sans Mono',consolas,'Courier New',monospace\"><span style=\"background-color: #008080\">      </span>  [6, 6, 6]\n",
       "<span style=\"background-color: #008080\">  </span><span style=\"background-color: #008000\">  </span><span style=\"background-color: #008080\">  </span>  [6, 2, 6]\n",
       "\n",
       "</pre>\n"
      ],
      "text/plain": [
       "\u001b[46m  \u001b[0m\u001b[46m  \u001b[0m\u001b[46m  \u001b[0m  [6, 6, 6]\n",
       "\u001b[46m  \u001b[0m\u001b[42m  \u001b[0m\u001b[46m  \u001b[0m  [6, 2, 6]\n",
       "\n"
      ]
     },
     "metadata": {},
     "output_type": "display_data"
    },
    {
     "name": "stdout",
     "output_type": "stream",
     "text": [
      "==================================================\n",
      "134\n",
      "==================================================\n",
      "Example input\n"
     ]
    },
    {
     "data": {
      "text/html": [
       "<pre style=\"white-space:pre;overflow-x:auto;line-height:normal;font-family:Menlo,'DejaVu Sans Mono',consolas,'Courier New',monospace\"><span style=\"background-color: #800000\">  </span><span style=\"background-color: #800080\">  </span><span style=\"background-color: #800000\">        </span><span style=\"background-color: #c0c0c0\">  </span><span style=\"background-color: #008080\">  </span>  [1, 5, 1, 1, 1, 1, 7, 6]\n",
       "<span style=\"background-color: #800000\">  </span><span style=\"background-color: #800080\">  </span><span style=\"background-color: #800000\">        </span><span style=\"background-color: #800080\">  </span><span style=\"background-color: #800000\">  </span>  [1, 5, 1, 1, 1, 1, 5, 1]\n",
       "<span style=\"background-color: #000000\">  </span><span style=\"background-color: #800000\">    </span><span style=\"background-color: #000000\">  </span><span style=\"background-color: #c0c0c0\">  </span><span style=\"background-color: #800000\">      </span>  [0, 1, 1, 0, 7, 1, 1, 1]\n",
       "<span style=\"background-color: #000000\">  </span><span style=\"background-color: #c0c0c0\">  </span><span style=\"background-color: #800080\">  </span><span style=\"background-color: #800000\">          </span>  [0, 7, 5, 1, 1, 1, 1, 1]\n",
       "\n",
       "</pre>\n"
      ],
      "text/plain": [
       "\u001b[41m  \u001b[0m\u001b[45m  \u001b[0m\u001b[41m  \u001b[0m\u001b[41m  \u001b[0m\u001b[41m  \u001b[0m\u001b[41m  \u001b[0m\u001b[47m  \u001b[0m\u001b[46m  \u001b[0m  [1, 5, 1, 1, 1, 1, 7, 6]\n",
       "\u001b[41m  \u001b[0m\u001b[45m  \u001b[0m\u001b[41m  \u001b[0m\u001b[41m  \u001b[0m\u001b[41m  \u001b[0m\u001b[41m  \u001b[0m\u001b[45m  \u001b[0m\u001b[41m  \u001b[0m  [1, 5, 1, 1, 1, 1, 5, 1]\n",
       "\u001b[40m  \u001b[0m\u001b[41m  \u001b[0m\u001b[41m  \u001b[0m\u001b[40m  \u001b[0m\u001b[47m  \u001b[0m\u001b[41m  \u001b[0m\u001b[41m  \u001b[0m\u001b[41m  \u001b[0m  [0, 1, 1, 0, 7, 1, 1, 1]\n",
       "\u001b[40m  \u001b[0m\u001b[47m  \u001b[0m\u001b[45m  \u001b[0m\u001b[41m  \u001b[0m\u001b[41m  \u001b[0m\u001b[41m  \u001b[0m\u001b[41m  \u001b[0m\u001b[41m  \u001b[0m  [0, 7, 5, 1, 1, 1, 1, 1]\n",
       "\n"
      ]
     },
     "metadata": {},
     "output_type": "display_data"
    },
    {
     "name": "stdout",
     "output_type": "stream",
     "text": [
      "Example output\n"
     ]
    },
    {
     "data": {
      "text/html": [
       "<pre style=\"white-space:pre;overflow-x:auto;line-height:normal;font-family:Menlo,'DejaVu Sans Mono',consolas,'Courier New',monospace\"><span style=\"background-color: #000000\">  </span><span style=\"background-color: #800080\">  </span><span style=\"background-color: #000000\">  </span>  [0, 5, 0]\n",
       "<span style=\"background-color: #800080\">      </span>  [5, 5, 5]\n",
       "<span style=\"background-color: #000000\">  </span><span style=\"background-color: #800080\">  </span><span style=\"background-color: #000000\">  </span>  [0, 5, 0]\n",
       "\n",
       "</pre>\n"
      ],
      "text/plain": [
       "\u001b[40m  \u001b[0m\u001b[45m  \u001b[0m\u001b[40m  \u001b[0m  [0, 5, 0]\n",
       "\u001b[45m  \u001b[0m\u001b[45m  \u001b[0m\u001b[45m  \u001b[0m  [5, 5, 5]\n",
       "\u001b[40m  \u001b[0m\u001b[45m  \u001b[0m\u001b[40m  \u001b[0m  [0, 5, 0]\n",
       "\n"
      ]
     },
     "metadata": {},
     "output_type": "display_data"
    },
    {
     "name": "stdout",
     "output_type": "stream",
     "text": [
      "==================================================\n",
      "Example test input\n"
     ]
    },
    {
     "data": {
      "text/html": [
       "<pre style=\"white-space:pre;overflow-x:auto;line-height:normal;font-family:Menlo,'DejaVu Sans Mono',consolas,'Courier New',monospace\"><span style=\"background-color: #800000\">                </span>  [1, 1, 1, 1, 1, 1, 1, 1]\n",
       "<span style=\"background-color: #800000\">                </span>  [1, 1, 1, 1, 1, 1, 1, 1]\n",
       "<span style=\"background-color: #800000\">                </span>  [1, 1, 1, 1, 1, 1, 1, 1]\n",
       "<span style=\"background-color: #800000\">                </span>  [1, 1, 1, 1, 1, 1, 1, 1]\n",
       "<span style=\"background-color: #800000\">              </span><span style=\"background-color: #c0c0c0\">  </span>  [1, 1, 1, 1, 1, 1, 1, 7]\n",
       "\n",
       "</pre>\n"
      ],
      "text/plain": [
       "\u001b[41m  \u001b[0m\u001b[41m  \u001b[0m\u001b[41m  \u001b[0m\u001b[41m  \u001b[0m\u001b[41m  \u001b[0m\u001b[41m  \u001b[0m\u001b[41m  \u001b[0m\u001b[41m  \u001b[0m  [1, 1, 1, 1, 1, 1, 1, 1]\n",
       "\u001b[41m  \u001b[0m\u001b[41m  \u001b[0m\u001b[41m  \u001b[0m\u001b[41m  \u001b[0m\u001b[41m  \u001b[0m\u001b[41m  \u001b[0m\u001b[41m  \u001b[0m\u001b[41m  \u001b[0m  [1, 1, 1, 1, 1, 1, 1, 1]\n",
       "\u001b[41m  \u001b[0m\u001b[41m  \u001b[0m\u001b[41m  \u001b[0m\u001b[41m  \u001b[0m\u001b[41m  \u001b[0m\u001b[41m  \u001b[0m\u001b[41m  \u001b[0m\u001b[41m  \u001b[0m  [1, 1, 1, 1, 1, 1, 1, 1]\n",
       "\u001b[41m  \u001b[0m\u001b[41m  \u001b[0m\u001b[41m  \u001b[0m\u001b[41m  \u001b[0m\u001b[41m  \u001b[0m\u001b[41m  \u001b[0m\u001b[41m  \u001b[0m\u001b[41m  \u001b[0m  [1, 1, 1, 1, 1, 1, 1, 1]\n",
       "\u001b[41m  \u001b[0m\u001b[41m  \u001b[0m\u001b[41m  \u001b[0m\u001b[41m  \u001b[0m\u001b[41m  \u001b[0m\u001b[41m  \u001b[0m\u001b[41m  \u001b[0m\u001b[47m  \u001b[0m  [1, 1, 1, 1, 1, 1, 1, 7]\n",
       "\n"
      ]
     },
     "metadata": {},
     "output_type": "display_data"
    },
    {
     "name": "stdout",
     "output_type": "stream",
     "text": [
      "Example test output\n"
     ]
    },
    {
     "data": {
      "text/html": [
       "<pre style=\"white-space:pre;overflow-x:auto;line-height:normal;font-family:Menlo,'DejaVu Sans Mono',consolas,'Courier New',monospace\"><span style=\"background-color: #000000\">  </span><span style=\"background-color: #800080\">  </span><span style=\"background-color: #000000\">  </span>  [0, 5, 0]\n",
       "<span style=\"background-color: #800080\">      </span>  [5, 5, 5]\n",
       "<span style=\"background-color: #000000\">  </span><span style=\"background-color: #800080\">  </span><span style=\"background-color: #000000\">  </span>  [0, 5, 0]\n",
       "\n",
       "</pre>\n"
      ],
      "text/plain": [
       "\u001b[40m  \u001b[0m\u001b[45m  \u001b[0m\u001b[40m  \u001b[0m  [0, 5, 0]\n",
       "\u001b[45m  \u001b[0m\u001b[45m  \u001b[0m\u001b[45m  \u001b[0m  [5, 5, 5]\n",
       "\u001b[40m  \u001b[0m\u001b[45m  \u001b[0m\u001b[40m  \u001b[0m  [0, 5, 0]\n",
       "\n"
      ]
     },
     "metadata": {},
     "output_type": "display_data"
    },
    {
     "name": "stdout",
     "output_type": "stream",
     "text": [
      "==================================================\n",
      "135\n",
      "==================================================\n",
      "Example input\n"
     ]
    },
    {
     "data": {
      "text/html": [
       "<pre style=\"white-space:pre;overflow-x:auto;line-height:normal;font-family:Menlo,'DejaVu Sans Mono',consolas,'Courier New',monospace\"><span style=\"background-color: #800080\">  </span><span style=\"background-color: #000000\">      </span><span style=\"background-color: #800080\">    </span><span style=\"background-color: #000000\">      </span>  [5, 0, 0, 0, 5, 5, 0, 0, 0]\n",
       "<span style=\"background-color: #000000\">    </span><span style=\"background-color: #800080\">        </span><span style=\"background-color: #000000\">      </span>  [0, 0, 5, 5, 5, 5, 0, 0, 0]\n",
       "<span style=\"background-color: #800080\">  </span><span style=\"background-color: #000000\">    </span><span style=\"background-color: #800080\">  </span><span style=\"background-color: #000000\">          </span>  [5, 0, 0, 5, 0, 0, 0, 0, 0]\n",
       "<span style=\"background-color: #000000\">    </span><span style=\"background-color: #800080\">      </span><span style=\"background-color: #000000\">    </span><span style=\"background-color: #800080\">  </span><span style=\"background-color: #000000\">  </span>  [0, 0, 5, 5, 5, 0, 0, 5, 0]\n",
       "<span style=\"background-color: #000000\">                </span><span style=\"background-color: #800080\">  </span>  [0, 0, 0, 0, 0, 0, 0, 0, 5]\n",
       "<span style=\"background-color: #800080\">      </span><span style=\"background-color: #000000\">      </span><span style=\"background-color: #800080\">    </span><span style=\"background-color: #000000\">  </span>  [5, 5, 5, 0, 0, 0, 5, 5, 0]\n",
       "<span style=\"background-color: #000000\">    </span><span style=\"background-color: #800080\">  </span><span style=\"background-color: #000000\">      </span><span style=\"background-color: #00ff00\">    </span><span style=\"background-color: #800080\">  </span>  [0, 0, 5, 0, 0, 0, 9, 9, 5]\n",
       "<span style=\"background-color: #000000\">  </span><span style=\"background-color: #800080\">  </span><span style=\"background-color: #000000\">      </span><span style=\"background-color: #800080\">  </span><span style=\"background-color: #00ff00\">    </span><span style=\"background-color: #800080\">  </span>  [0, 5, 0, 0, 0, 5, 9, 9, 5]\n",
       "<span style=\"background-color: #000000\">  </span><span style=\"background-color: #800080\">  </span><span style=\"background-color: #000000\">  </span><span style=\"background-color: #800080\">  </span><span style=\"background-color: #000000\">    </span><span style=\"background-color: #00ff00\">      </span>  [0, 5, 0, 5, 0, 0, 9, 9, 9]\n",
       "\n",
       "</pre>\n"
      ],
      "text/plain": [
       "\u001b[45m  \u001b[0m\u001b[40m  \u001b[0m\u001b[40m  \u001b[0m\u001b[40m  \u001b[0m\u001b[45m  \u001b[0m\u001b[45m  \u001b[0m\u001b[40m  \u001b[0m\u001b[40m  \u001b[0m\u001b[40m  \u001b[0m  [5, 0, 0, 0, 5, 5, 0, 0, 0]\n",
       "\u001b[40m  \u001b[0m\u001b[40m  \u001b[0m\u001b[45m  \u001b[0m\u001b[45m  \u001b[0m\u001b[45m  \u001b[0m\u001b[45m  \u001b[0m\u001b[40m  \u001b[0m\u001b[40m  \u001b[0m\u001b[40m  \u001b[0m  [0, 0, 5, 5, 5, 5, 0, 0, 0]\n",
       "\u001b[45m  \u001b[0m\u001b[40m  \u001b[0m\u001b[40m  \u001b[0m\u001b[45m  \u001b[0m\u001b[40m  \u001b[0m\u001b[40m  \u001b[0m\u001b[40m  \u001b[0m\u001b[40m  \u001b[0m\u001b[40m  \u001b[0m  [5, 0, 0, 5, 0, 0, 0, 0, 0]\n",
       "\u001b[40m  \u001b[0m\u001b[40m  \u001b[0m\u001b[45m  \u001b[0m\u001b[45m  \u001b[0m\u001b[45m  \u001b[0m\u001b[40m  \u001b[0m\u001b[40m  \u001b[0m\u001b[45m  \u001b[0m\u001b[40m  \u001b[0m  [0, 0, 5, 5, 5, 0, 0, 5, 0]\n",
       "\u001b[40m  \u001b[0m\u001b[40m  \u001b[0m\u001b[40m  \u001b[0m\u001b[40m  \u001b[0m\u001b[40m  \u001b[0m\u001b[40m  \u001b[0m\u001b[40m  \u001b[0m\u001b[40m  \u001b[0m\u001b[45m  \u001b[0m  [0, 0, 0, 0, 0, 0, 0, 0, 5]\n",
       "\u001b[45m  \u001b[0m\u001b[45m  \u001b[0m\u001b[45m  \u001b[0m\u001b[40m  \u001b[0m\u001b[40m  \u001b[0m\u001b[40m  \u001b[0m\u001b[45m  \u001b[0m\u001b[45m  \u001b[0m\u001b[40m  \u001b[0m  [5, 5, 5, 0, 0, 0, 5, 5, 0]\n",
       "\u001b[40m  \u001b[0m\u001b[40m  \u001b[0m\u001b[45m  \u001b[0m\u001b[40m  \u001b[0m\u001b[40m  \u001b[0m\u001b[40m  \u001b[0m\u001b[102m  \u001b[0m\u001b[102m  \u001b[0m\u001b[45m  \u001b[0m  [0, 0, 5, 0, 0, 0, 9, 9, 5]\n",
       "\u001b[40m  \u001b[0m\u001b[45m  \u001b[0m\u001b[40m  \u001b[0m\u001b[40m  \u001b[0m\u001b[40m  \u001b[0m\u001b[45m  \u001b[0m\u001b[102m  \u001b[0m\u001b[102m  \u001b[0m\u001b[45m  \u001b[0m  [0, 5, 0, 0, 0, 5, 9, 9, 5]\n",
       "\u001b[40m  \u001b[0m\u001b[45m  \u001b[0m\u001b[40m  \u001b[0m\u001b[45m  \u001b[0m\u001b[40m  \u001b[0m\u001b[40m  \u001b[0m\u001b[102m  \u001b[0m\u001b[102m  \u001b[0m\u001b[102m  \u001b[0m  [0, 5, 0, 5, 0, 0, 9, 9, 9]\n",
       "\n"
      ]
     },
     "metadata": {},
     "output_type": "display_data"
    },
    {
     "name": "stdout",
     "output_type": "stream",
     "text": [
      "Example output\n"
     ]
    },
    {
     "data": {
      "text/html": [
       "<pre style=\"white-space:pre;overflow-x:auto;line-height:normal;font-family:Menlo,'DejaVu Sans Mono',consolas,'Courier New',monospace\"><span style=\"background-color: #000000\">      </span>  [0, 0, 0]\n",
       "<span style=\"background-color: #000000\">      </span>  [0, 0, 0]\n",
       "<span style=\"background-color: #000000\">    </span><span style=\"background-color: #00ff00\">  </span>  [0, 0, 9]\n",
       "\n",
       "</pre>\n"
      ],
      "text/plain": [
       "\u001b[40m  \u001b[0m\u001b[40m  \u001b[0m\u001b[40m  \u001b[0m  [0, 0, 0]\n",
       "\u001b[40m  \u001b[0m\u001b[40m  \u001b[0m\u001b[40m  \u001b[0m  [0, 0, 0]\n",
       "\u001b[40m  \u001b[0m\u001b[40m  \u001b[0m\u001b[102m  \u001b[0m  [0, 0, 9]\n",
       "\n"
      ]
     },
     "metadata": {},
     "output_type": "display_data"
    },
    {
     "name": "stdout",
     "output_type": "stream",
     "text": [
      "==================================================\n",
      "Example test input\n"
     ]
    },
    {
     "data": {
      "text/html": [
       "<pre style=\"white-space:pre;overflow-x:auto;line-height:normal;font-family:Menlo,'DejaVu Sans Mono',consolas,'Courier New',monospace\"><span style=\"background-color: #000000\">    </span><span style=\"background-color: #800080\">  </span><span style=\"background-color: #ff0000\">      </span>  [0, 0, 5, 8, 8, 8]\n",
       "<span style=\"background-color: #000000\">      </span><span style=\"background-color: #800080\">  </span><span style=\"background-color: #ff0000\">  </span><span style=\"background-color: #800080\">  </span>  [0, 0, 0, 5, 8, 5]\n",
       "<span style=\"background-color: #800080\">  </span><span style=\"background-color: #000000\">    </span><span style=\"background-color: #800080\">      </span>  [5, 0, 0, 5, 5, 5]\n",
       "<span style=\"background-color: #800080\">      </span><span style=\"background-color: #000000\">      </span>  [5, 5, 5, 0, 0, 0]\n",
       "<span style=\"background-color: #00ff00\">  </span><span style=\"background-color: #800080\">    </span><span style=\"background-color: #000000\">      </span>  [9, 5, 5, 0, 0, 0]\n",
       "<span style=\"background-color: #800080\">  </span><span style=\"background-color: #00ff00\">  </span><span style=\"background-color: #800080\">  </span><span style=\"background-color: #000000\">      </span>  [5, 9, 5, 0, 0, 0]\n",
       "\n",
       "</pre>\n"
      ],
      "text/plain": [
       "\u001b[40m  \u001b[0m\u001b[40m  \u001b[0m\u001b[45m  \u001b[0m\u001b[101m  \u001b[0m\u001b[101m  \u001b[0m\u001b[101m  \u001b[0m  [0, 0, 5, 8, 8, 8]\n",
       "\u001b[40m  \u001b[0m\u001b[40m  \u001b[0m\u001b[40m  \u001b[0m\u001b[45m  \u001b[0m\u001b[101m  \u001b[0m\u001b[45m  \u001b[0m  [0, 0, 0, 5, 8, 5]\n",
       "\u001b[45m  \u001b[0m\u001b[40m  \u001b[0m\u001b[40m  \u001b[0m\u001b[45m  \u001b[0m\u001b[45m  \u001b[0m\u001b[45m  \u001b[0m  [5, 0, 0, 5, 5, 5]\n",
       "\u001b[45m  \u001b[0m\u001b[45m  \u001b[0m\u001b[45m  \u001b[0m\u001b[40m  \u001b[0m\u001b[40m  \u001b[0m\u001b[40m  \u001b[0m  [5, 5, 5, 0, 0, 0]\n",
       "\u001b[102m  \u001b[0m\u001b[45m  \u001b[0m\u001b[45m  \u001b[0m\u001b[40m  \u001b[0m\u001b[40m  \u001b[0m\u001b[40m  \u001b[0m  [9, 5, 5, 0, 0, 0]\n",
       "\u001b[45m  \u001b[0m\u001b[102m  \u001b[0m\u001b[45m  \u001b[0m\u001b[40m  \u001b[0m\u001b[40m  \u001b[0m\u001b[40m  \u001b[0m  [5, 9, 5, 0, 0, 0]\n",
       "\n"
      ]
     },
     "metadata": {},
     "output_type": "display_data"
    },
    {
     "name": "stdout",
     "output_type": "stream",
     "text": [
      "Example test output\n"
     ]
    },
    {
     "data": {
      "text/html": [
       "<pre style=\"white-space:pre;overflow-x:auto;line-height:normal;font-family:Menlo,'DejaVu Sans Mono',consolas,'Courier New',monospace\"><span style=\"background-color: #000000\">  </span><span style=\"background-color: #ff0000\">  </span>  [0, 8]\n",
       "<span style=\"background-color: #00ff00\">  </span><span style=\"background-color: #000000\">  </span>  [9, 0]\n",
       "\n",
       "</pre>\n"
      ],
      "text/plain": [
       "\u001b[40m  \u001b[0m\u001b[101m  \u001b[0m  [0, 8]\n",
       "\u001b[102m  \u001b[0m\u001b[40m  \u001b[0m  [9, 0]\n",
       "\n"
      ]
     },
     "metadata": {},
     "output_type": "display_data"
    },
    {
     "name": "stdout",
     "output_type": "stream",
     "text": [
      "==================================================\n",
      "138\n",
      "==================================================\n",
      "Example input\n"
     ]
    },
    {
     "data": {
      "text/html": [
       "<pre style=\"white-space:pre;overflow-x:auto;line-height:normal;font-family:Menlo,'DejaVu Sans Mono',consolas,'Courier New',monospace\"><span style=\"background-color: #800080\">  </span><span style=\"background-color: #000080\">        </span><span style=\"background-color: #800080\">  </span><span style=\"background-color: #000000\">  </span><span style=\"background-color: #800080\">  </span>  [5, 4, 4, 4, 4, 5, 0, 5]\n",
       "<span style=\"background-color: #800080\">            </span><span style=\"background-color: #000000\">  </span><span style=\"background-color: #800080\">  </span>  [5, 5, 5, 5, 5, 5, 0, 5]\n",
       "<span style=\"background-color: #800080\">      </span><span style=\"background-color: #ff0000\">  </span><span style=\"background-color: #800080\">    </span><span style=\"background-color: #000000\">  </span><span style=\"background-color: #800080\">  </span>  [5, 5, 5, 8, 5, 5, 0, 5]\n",
       "<span style=\"background-color: #800080\">      </span><span style=\"background-color: #ff0000\">  </span><span style=\"background-color: #800080\">        </span>  [5, 5, 5, 8, 5, 5, 5, 5]\n",
       "<span style=\"background-color: #800080\">    </span><span style=\"background-color: #ff0000\">    </span><span style=\"background-color: #800080\">  </span><span style=\"background-color: #808000\">  </span><span style=\"background-color: #800080\">    </span>  [5, 5, 8, 8, 5, 3, 5, 5]\n",
       "<span style=\"background-color: #800080\">          </span><span style=\"background-color: #808000\">  </span><span style=\"background-color: #800080\">    </span>  [5, 5, 5, 5, 5, 3, 5, 5]\n",
       "<span style=\"background-color: #800080\">                </span>  [5, 5, 5, 5, 5, 5, 5, 5]\n",
       "<span style=\"background-color: #800080\">    </span><span style=\"background-color: #00ff00\">  </span><span style=\"background-color: #800080\">  </span><span style=\"background-color: #00ff00\">  </span><span style=\"background-color: #800080\">      </span>  [5, 5, 9, 5, 9, 5, 5, 5]\n",
       "<span style=\"background-color: #800080\">    </span><span style=\"background-color: #00ff00\">          </span><span style=\"background-color: #800080\">  </span>  [5, 5, 9, 9, 9, 9, 9, 5]\n",
       "<span style=\"background-color: #800080\">                </span>  [5, 5, 5, 5, 5, 5, 5, 5]\n",
       "\n",
       "</pre>\n"
      ],
      "text/plain": [
       "\u001b[45m  \u001b[0m\u001b[44m  \u001b[0m\u001b[44m  \u001b[0m\u001b[44m  \u001b[0m\u001b[44m  \u001b[0m\u001b[45m  \u001b[0m\u001b[40m  \u001b[0m\u001b[45m  \u001b[0m  [5, 4, 4, 4, 4, 5, 0, 5]\n",
       "\u001b[45m  \u001b[0m\u001b[45m  \u001b[0m\u001b[45m  \u001b[0m\u001b[45m  \u001b[0m\u001b[45m  \u001b[0m\u001b[45m  \u001b[0m\u001b[40m  \u001b[0m\u001b[45m  \u001b[0m  [5, 5, 5, 5, 5, 5, 0, 5]\n",
       "\u001b[45m  \u001b[0m\u001b[45m  \u001b[0m\u001b[45m  \u001b[0m\u001b[101m  \u001b[0m\u001b[45m  \u001b[0m\u001b[45m  \u001b[0m\u001b[40m  \u001b[0m\u001b[45m  \u001b[0m  [5, 5, 5, 8, 5, 5, 0, 5]\n",
       "\u001b[45m  \u001b[0m\u001b[45m  \u001b[0m\u001b[45m  \u001b[0m\u001b[101m  \u001b[0m\u001b[45m  \u001b[0m\u001b[45m  \u001b[0m\u001b[45m  \u001b[0m\u001b[45m  \u001b[0m  [5, 5, 5, 8, 5, 5, 5, 5]\n",
       "\u001b[45m  \u001b[0m\u001b[45m  \u001b[0m\u001b[101m  \u001b[0m\u001b[101m  \u001b[0m\u001b[45m  \u001b[0m\u001b[43m  \u001b[0m\u001b[45m  \u001b[0m\u001b[45m  \u001b[0m  [5, 5, 8, 8, 5, 3, 5, 5]\n",
       "\u001b[45m  \u001b[0m\u001b[45m  \u001b[0m\u001b[45m  \u001b[0m\u001b[45m  \u001b[0m\u001b[45m  \u001b[0m\u001b[43m  \u001b[0m\u001b[45m  \u001b[0m\u001b[45m  \u001b[0m  [5, 5, 5, 5, 5, 3, 5, 5]\n",
       "\u001b[45m  \u001b[0m\u001b[45m  \u001b[0m\u001b[45m  \u001b[0m\u001b[45m  \u001b[0m\u001b[45m  \u001b[0m\u001b[45m  \u001b[0m\u001b[45m  \u001b[0m\u001b[45m  \u001b[0m  [5, 5, 5, 5, 5, 5, 5, 5]\n",
       "\u001b[45m  \u001b[0m\u001b[45m  \u001b[0m\u001b[102m  \u001b[0m\u001b[45m  \u001b[0m\u001b[102m  \u001b[0m\u001b[45m  \u001b[0m\u001b[45m  \u001b[0m\u001b[45m  \u001b[0m  [5, 5, 9, 5, 9, 5, 5, 5]\n",
       "\u001b[45m  \u001b[0m\u001b[45m  \u001b[0m\u001b[102m  \u001b[0m\u001b[102m  \u001b[0m\u001b[102m  \u001b[0m\u001b[102m  \u001b[0m\u001b[102m  \u001b[0m\u001b[45m  \u001b[0m  [5, 5, 9, 9, 9, 9, 9, 5]\n",
       "\u001b[45m  \u001b[0m\u001b[45m  \u001b[0m\u001b[45m  \u001b[0m\u001b[45m  \u001b[0m\u001b[45m  \u001b[0m\u001b[45m  \u001b[0m\u001b[45m  \u001b[0m\u001b[45m  \u001b[0m  [5, 5, 5, 5, 5, 5, 5, 5]\n",
       "\n"
      ]
     },
     "metadata": {},
     "output_type": "display_data"
    },
    {
     "name": "stdout",
     "output_type": "stream",
     "text": [
      "Example output\n"
     ]
    },
    {
     "data": {
      "text/html": [
       "<pre style=\"white-space:pre;overflow-x:auto;line-height:normal;font-family:Menlo,'DejaVu Sans Mono',consolas,'Courier New',monospace\"><span style=\"background-color: #00ff00\">  </span><span style=\"background-color: #800080\">  </span><span style=\"background-color: #00ff00\">  </span><span style=\"background-color: #800080\">    </span>  [9, 5, 9, 5, 5]\n",
       "<span style=\"background-color: #00ff00\">          </span>  [9, 9, 9, 9, 9]\n",
       "\n",
       "</pre>\n"
      ],
      "text/plain": [
       "\u001b[102m  \u001b[0m\u001b[45m  \u001b[0m\u001b[102m  \u001b[0m\u001b[45m  \u001b[0m\u001b[45m  \u001b[0m  [9, 5, 9, 5, 5]\n",
       "\u001b[102m  \u001b[0m\u001b[102m  \u001b[0m\u001b[102m  \u001b[0m\u001b[102m  \u001b[0m\u001b[102m  \u001b[0m  [9, 9, 9, 9, 9]\n",
       "\n"
      ]
     },
     "metadata": {},
     "output_type": "display_data"
    },
    {
     "name": "stdout",
     "output_type": "stream",
     "text": [
      "==================================================\n",
      "Example test input\n"
     ]
    },
    {
     "data": {
      "text/html": [
       "<pre style=\"white-space:pre;overflow-x:auto;line-height:normal;font-family:Menlo,'DejaVu Sans Mono',consolas,'Courier New',monospace\"><span style=\"background-color: #00ff00\">                </span>  [9, 9, 9, 9, 9, 9, 9, 9]\n",
       "<span style=\"background-color: #00ff00\">  </span><span style=\"background-color: #800000\">  </span><span style=\"background-color: #00ff00\">            </span>  [9, 1, 9, 9, 9, 9, 9, 9]\n",
       "<span style=\"background-color: #800000\">    </span><span style=\"background-color: #00ff00\">            </span>  [1, 1, 9, 9, 9, 9, 9, 9]\n",
       "<span style=\"background-color: #00ff00\">  </span><span style=\"background-color: #800000\">  </span><span style=\"background-color: #00ff00\">    </span><span style=\"background-color: #008000\">  </span><span style=\"background-color: #00ff00\">      </span>  [9, 1, 9, 9, 2, 9, 9, 9]\n",
       "<span style=\"background-color: #00ff00\">        </span><span style=\"background-color: #008000\">  </span><span style=\"background-color: #00ff00\">  </span><span style=\"background-color: #008000\">    </span>  [9, 9, 9, 9, 2, 9, 2, 2]\n",
       "<span style=\"background-color: #00ff00\">            </span><span style=\"background-color: #008000\">    </span>  [9, 9, 9, 9, 9, 9, 2, 2]\n",
       "<span style=\"background-color: #00ff00\">      </span><span style=\"background-color: #000000\">  </span><span style=\"background-color: #00ff00\">        </span>  [9, 9, 9, 0, 9, 9, 9, 9]\n",
       "<span style=\"background-color: #00ff00\">  </span><span style=\"background-color: #000000\">      </span><span style=\"background-color: #00ff00\">  </span><span style=\"background-color: #008000\">      </span>  [9, 0, 0, 0, 9, 2, 2, 2]\n",
       "<span style=\"background-color: #00ff00\">  </span><span style=\"background-color: #000000\">    </span><span style=\"background-color: #00ff00\">      </span><span style=\"background-color: #008000\">    </span>  [9, 0, 0, 9, 9, 9, 2, 2]\n",
       "<span style=\"background-color: #00ff00\">            </span><span style=\"background-color: #008000\">    </span>  [9, 9, 9, 9, 9, 9, 2, 2]\n",
       "\n",
       "</pre>\n"
      ],
      "text/plain": [
       "\u001b[102m  \u001b[0m\u001b[102m  \u001b[0m\u001b[102m  \u001b[0m\u001b[102m  \u001b[0m\u001b[102m  \u001b[0m\u001b[102m  \u001b[0m\u001b[102m  \u001b[0m\u001b[102m  \u001b[0m  [9, 9, 9, 9, 9, 9, 9, 9]\n",
       "\u001b[102m  \u001b[0m\u001b[41m  \u001b[0m\u001b[102m  \u001b[0m\u001b[102m  \u001b[0m\u001b[102m  \u001b[0m\u001b[102m  \u001b[0m\u001b[102m  \u001b[0m\u001b[102m  \u001b[0m  [9, 1, 9, 9, 9, 9, 9, 9]\n",
       "\u001b[41m  \u001b[0m\u001b[41m  \u001b[0m\u001b[102m  \u001b[0m\u001b[102m  \u001b[0m\u001b[102m  \u001b[0m\u001b[102m  \u001b[0m\u001b[102m  \u001b[0m\u001b[102m  \u001b[0m  [1, 1, 9, 9, 9, 9, 9, 9]\n",
       "\u001b[102m  \u001b[0m\u001b[41m  \u001b[0m\u001b[102m  \u001b[0m\u001b[102m  \u001b[0m\u001b[42m  \u001b[0m\u001b[102m  \u001b[0m\u001b[102m  \u001b[0m\u001b[102m  \u001b[0m  [9, 1, 9, 9, 2, 9, 9, 9]\n",
       "\u001b[102m  \u001b[0m\u001b[102m  \u001b[0m\u001b[102m  \u001b[0m\u001b[102m  \u001b[0m\u001b[42m  \u001b[0m\u001b[102m  \u001b[0m\u001b[42m  \u001b[0m\u001b[42m  \u001b[0m  [9, 9, 9, 9, 2, 9, 2, 2]\n",
       "\u001b[102m  \u001b[0m\u001b[102m  \u001b[0m\u001b[102m  \u001b[0m\u001b[102m  \u001b[0m\u001b[102m  \u001b[0m\u001b[102m  \u001b[0m\u001b[42m  \u001b[0m\u001b[42m  \u001b[0m  [9, 9, 9, 9, 9, 9, 2, 2]\n",
       "\u001b[102m  \u001b[0m\u001b[102m  \u001b[0m\u001b[102m  \u001b[0m\u001b[40m  \u001b[0m\u001b[102m  \u001b[0m\u001b[102m  \u001b[0m\u001b[102m  \u001b[0m\u001b[102m  \u001b[0m  [9, 9, 9, 0, 9, 9, 9, 9]\n",
       "\u001b[102m  \u001b[0m\u001b[40m  \u001b[0m\u001b[40m  \u001b[0m\u001b[40m  \u001b[0m\u001b[102m  \u001b[0m\u001b[42m  \u001b[0m\u001b[42m  \u001b[0m\u001b[42m  \u001b[0m  [9, 0, 0, 0, 9, 2, 2, 2]\n",
       "\u001b[102m  \u001b[0m\u001b[40m  \u001b[0m\u001b[40m  \u001b[0m\u001b[102m  \u001b[0m\u001b[102m  \u001b[0m\u001b[102m  \u001b[0m\u001b[42m  \u001b[0m\u001b[42m  \u001b[0m  [9, 0, 0, 9, 9, 9, 2, 2]\n",
       "\u001b[102m  \u001b[0m\u001b[102m  \u001b[0m\u001b[102m  \u001b[0m\u001b[102m  \u001b[0m\u001b[102m  \u001b[0m\u001b[102m  \u001b[0m\u001b[42m  \u001b[0m\u001b[42m  \u001b[0m  [9, 9, 9, 9, 9, 9, 2, 2]\n",
       "\n"
      ]
     },
     "metadata": {},
     "output_type": "display_data"
    },
    {
     "name": "stdout",
     "output_type": "stream",
     "text": [
      "Example test output\n"
     ]
    },
    {
     "data": {
      "text/html": [
       "<pre style=\"white-space:pre;overflow-x:auto;line-height:normal;font-family:Menlo,'DejaVu Sans Mono',consolas,'Courier New',monospace\"><span style=\"background-color: #008000\">      </span>  [2, 2, 2]\n",
       "<span style=\"background-color: #00ff00\">  </span><span style=\"background-color: #008000\">    </span>  [9, 2, 2]\n",
       "<span style=\"background-color: #00ff00\">  </span><span style=\"background-color: #008000\">    </span>  [9, 2, 2]\n",
       "\n",
       "</pre>\n"
      ],
      "text/plain": [
       "\u001b[42m  \u001b[0m\u001b[42m  \u001b[0m\u001b[42m  \u001b[0m  [2, 2, 2]\n",
       "\u001b[102m  \u001b[0m\u001b[42m  \u001b[0m\u001b[42m  \u001b[0m  [9, 2, 2]\n",
       "\u001b[102m  \u001b[0m\u001b[42m  \u001b[0m\u001b[42m  \u001b[0m  [9, 2, 2]\n",
       "\n"
      ]
     },
     "metadata": {},
     "output_type": "display_data"
    },
    {
     "name": "stdout",
     "output_type": "stream",
     "text": [
      "==================================================\n",
      "143\n",
      "==================================================\n",
      "Example input\n"
     ]
    },
    {
     "data": {
      "text/html": [
       "<pre style=\"white-space:pre;overflow-x:auto;line-height:normal;font-family:Menlo,'DejaVu Sans Mono',consolas,'Courier New',monospace\"><span style=\"background-color: #000000\">    </span><span style=\"background-color: #800080\">  </span><span style=\"background-color: #00ff00\">      </span><span style=\"background-color: #000000\">  </span>  [0, 0, 5, 9, 9, 9, 0]\n",
       "<span style=\"background-color: #000000\">    </span><span style=\"background-color: #800080\">    </span><span style=\"background-color: #00ff00\">    </span><span style=\"background-color: #000000\">  </span>  [0, 0, 5, 5, 9, 9, 0]\n",
       "<span style=\"background-color: #000000\">    </span><span style=\"background-color: #800080\">        </span><span style=\"background-color: #000000\">  </span>  [0, 0, 5, 5, 5, 5, 0]\n",
       "<span style=\"background-color: #000000\">    </span><span style=\"background-color: #800080\">        </span><span style=\"background-color: #000000\">  </span>  [0, 0, 5, 5, 5, 5, 0]\n",
       "<span style=\"background-color: #000000\">              </span>  [0, 0, 0, 0, 0, 0, 0]\n",
       "<span style=\"background-color: #000000\">              </span>  [0, 0, 0, 0, 0, 0, 0]\n",
       "\n",
       "</pre>\n"
      ],
      "text/plain": [
       "\u001b[40m  \u001b[0m\u001b[40m  \u001b[0m\u001b[45m  \u001b[0m\u001b[102m  \u001b[0m\u001b[102m  \u001b[0m\u001b[102m  \u001b[0m\u001b[40m  \u001b[0m  [0, 0, 5, 9, 9, 9, 0]\n",
       "\u001b[40m  \u001b[0m\u001b[40m  \u001b[0m\u001b[45m  \u001b[0m\u001b[45m  \u001b[0m\u001b[102m  \u001b[0m\u001b[102m  \u001b[0m\u001b[40m  \u001b[0m  [0, 0, 5, 5, 9, 9, 0]\n",
       "\u001b[40m  \u001b[0m\u001b[40m  \u001b[0m\u001b[45m  \u001b[0m\u001b[45m  \u001b[0m\u001b[45m  \u001b[0m\u001b[45m  \u001b[0m\u001b[40m  \u001b[0m  [0, 0, 5, 5, 5, 5, 0]\n",
       "\u001b[40m  \u001b[0m\u001b[40m  \u001b[0m\u001b[45m  \u001b[0m\u001b[45m  \u001b[0m\u001b[45m  \u001b[0m\u001b[45m  \u001b[0m\u001b[40m  \u001b[0m  [0, 0, 5, 5, 5, 5, 0]\n",
       "\u001b[40m  \u001b[0m\u001b[40m  \u001b[0m\u001b[40m  \u001b[0m\u001b[40m  \u001b[0m\u001b[40m  \u001b[0m\u001b[40m  \u001b[0m\u001b[40m  \u001b[0m  [0, 0, 0, 0, 0, 0, 0]\n",
       "\u001b[40m  \u001b[0m\u001b[40m  \u001b[0m\u001b[40m  \u001b[0m\u001b[40m  \u001b[0m\u001b[40m  \u001b[0m\u001b[40m  \u001b[0m\u001b[40m  \u001b[0m  [0, 0, 0, 0, 0, 0, 0]\n",
       "\n"
      ]
     },
     "metadata": {},
     "output_type": "display_data"
    },
    {
     "name": "stdout",
     "output_type": "stream",
     "text": [
      "Example output\n"
     ]
    },
    {
     "data": {
      "text/html": [
       "<pre style=\"white-space:pre;overflow-x:auto;line-height:normal;font-family:Menlo,'DejaVu Sans Mono',consolas,'Courier New',monospace\"><span style=\"background-color: #00ff00\">      </span><span style=\"background-color: #800080\">  </span>  [9, 9, 9, 5]\n",
       "<span style=\"background-color: #00ff00\">    </span><span style=\"background-color: #800080\">    </span>  [9, 9, 5, 5]\n",
       "<span style=\"background-color: #800080\">        </span>  [5, 5, 5, 5]\n",
       "<span style=\"background-color: #800080\">        </span>  [5, 5, 5, 5]\n",
       "\n",
       "</pre>\n"
      ],
      "text/plain": [
       "\u001b[102m  \u001b[0m\u001b[102m  \u001b[0m\u001b[102m  \u001b[0m\u001b[45m  \u001b[0m  [9, 9, 9, 5]\n",
       "\u001b[102m  \u001b[0m\u001b[102m  \u001b[0m\u001b[45m  \u001b[0m\u001b[45m  \u001b[0m  [9, 9, 5, 5]\n",
       "\u001b[45m  \u001b[0m\u001b[45m  \u001b[0m\u001b[45m  \u001b[0m\u001b[45m  \u001b[0m  [5, 5, 5, 5]\n",
       "\u001b[45m  \u001b[0m\u001b[45m  \u001b[0m\u001b[45m  \u001b[0m\u001b[45m  \u001b[0m  [5, 5, 5, 5]\n",
       "\n"
      ]
     },
     "metadata": {},
     "output_type": "display_data"
    },
    {
     "name": "stdout",
     "output_type": "stream",
     "text": [
      "==================================================\n",
      "Example test input\n"
     ]
    },
    {
     "data": {
      "text/html": [
       "<pre style=\"white-space:pre;overflow-x:auto;line-height:normal;font-family:Menlo,'DejaVu Sans Mono',consolas,'Courier New',monospace\"><span style=\"background-color: #008080\">              </span>  [6, 6, 6, 6, 6, 6, 6]\n",
       "<span style=\"background-color: #008080\">        </span><span style=\"background-color: #000080\">  </span><span style=\"background-color: #00ff00\">    </span>  [6, 6, 6, 6, 4, 9, 9]\n",
       "<span style=\"background-color: #008080\">        </span><span style=\"background-color: #00ff00\">      </span>  [6, 6, 6, 6, 9, 9, 9]\n",
       "<span style=\"background-color: #008080\">        </span><span style=\"background-color: #000080\">      </span>  [6, 6, 6, 6, 4, 4, 4]\n",
       "<span style=\"background-color: #008080\">              </span>  [6, 6, 6, 6, 6, 6, 6]\n",
       "<span style=\"background-color: #008080\">              </span>  [6, 6, 6, 6, 6, 6, 6]\n",
       "<span style=\"background-color: #008080\">              </span>  [6, 6, 6, 6, 6, 6, 6]\n",
       "<span style=\"background-color: #008080\">              </span>  [6, 6, 6, 6, 6, 6, 6]\n",
       "\n",
       "</pre>\n"
      ],
      "text/plain": [
       "\u001b[46m  \u001b[0m\u001b[46m  \u001b[0m\u001b[46m  \u001b[0m\u001b[46m  \u001b[0m\u001b[46m  \u001b[0m\u001b[46m  \u001b[0m\u001b[46m  \u001b[0m  [6, 6, 6, 6, 6, 6, 6]\n",
       "\u001b[46m  \u001b[0m\u001b[46m  \u001b[0m\u001b[46m  \u001b[0m\u001b[46m  \u001b[0m\u001b[44m  \u001b[0m\u001b[102m  \u001b[0m\u001b[102m  \u001b[0m  [6, 6, 6, 6, 4, 9, 9]\n",
       "\u001b[46m  \u001b[0m\u001b[46m  \u001b[0m\u001b[46m  \u001b[0m\u001b[46m  \u001b[0m\u001b[102m  \u001b[0m\u001b[102m  \u001b[0m\u001b[102m  \u001b[0m  [6, 6, 6, 6, 9, 9, 9]\n",
       "\u001b[46m  \u001b[0m\u001b[46m  \u001b[0m\u001b[46m  \u001b[0m\u001b[46m  \u001b[0m\u001b[44m  \u001b[0m\u001b[44m  \u001b[0m\u001b[44m  \u001b[0m  [6, 6, 6, 6, 4, 4, 4]\n",
       "\u001b[46m  \u001b[0m\u001b[46m  \u001b[0m\u001b[46m  \u001b[0m\u001b[46m  \u001b[0m\u001b[46m  \u001b[0m\u001b[46m  \u001b[0m\u001b[46m  \u001b[0m  [6, 6, 6, 6, 6, 6, 6]\n",
       "\u001b[46m  \u001b[0m\u001b[46m  \u001b[0m\u001b[46m  \u001b[0m\u001b[46m  \u001b[0m\u001b[46m  \u001b[0m\u001b[46m  \u001b[0m\u001b[46m  \u001b[0m  [6, 6, 6, 6, 6, 6, 6]\n",
       "\u001b[46m  \u001b[0m\u001b[46m  \u001b[0m\u001b[46m  \u001b[0m\u001b[46m  \u001b[0m\u001b[46m  \u001b[0m\u001b[46m  \u001b[0m\u001b[46m  \u001b[0m  [6, 6, 6, 6, 6, 6, 6]\n",
       "\u001b[46m  \u001b[0m\u001b[46m  \u001b[0m\u001b[46m  \u001b[0m\u001b[46m  \u001b[0m\u001b[46m  \u001b[0m\u001b[46m  \u001b[0m\u001b[46m  \u001b[0m  [6, 6, 6, 6, 6, 6, 6]\n",
       "\n"
      ]
     },
     "metadata": {},
     "output_type": "display_data"
    },
    {
     "name": "stdout",
     "output_type": "stream",
     "text": [
      "Example test output\n"
     ]
    },
    {
     "data": {
      "text/html": [
       "<pre style=\"white-space:pre;overflow-x:auto;line-height:normal;font-family:Menlo,'DejaVu Sans Mono',consolas,'Courier New',monospace\"><span style=\"background-color: #00ff00\">    </span><span style=\"background-color: #000080\">  </span>  [9, 9, 4]\n",
       "<span style=\"background-color: #00ff00\">      </span>  [9, 9, 9]\n",
       "<span style=\"background-color: #000080\">      </span>  [4, 4, 4]\n",
       "\n",
       "</pre>\n"
      ],
      "text/plain": [
       "\u001b[102m  \u001b[0m\u001b[102m  \u001b[0m\u001b[44m  \u001b[0m  [9, 9, 4]\n",
       "\u001b[102m  \u001b[0m\u001b[102m  \u001b[0m\u001b[102m  \u001b[0m  [9, 9, 9]\n",
       "\u001b[44m  \u001b[0m\u001b[44m  \u001b[0m\u001b[44m  \u001b[0m  [4, 4, 4]\n",
       "\n"
      ]
     },
     "metadata": {},
     "output_type": "display_data"
    },
    {
     "name": "stdout",
     "output_type": "stream",
     "text": [
      "==================================================\n",
      "144\n",
      "==================================================\n",
      "Example input\n"
     ]
    },
    {
     "data": {
      "text/html": [
       "<pre style=\"white-space:pre;overflow-x:auto;line-height:normal;font-family:Menlo,'DejaVu Sans Mono',consolas,'Courier New',monospace\"><span style=\"background-color: #ff0000\">            </span><span style=\"background-color: #800000\">  </span><span style=\"background-color: #ff0000\">  </span><span style=\"background-color: #000000\">  </span><span style=\"background-color: #808000\">  </span>  [8, 8, 8, 8, 8, 8, 1, 8, 0, 3]\n",
       "<span style=\"background-color: #ff0000\">  </span><span style=\"background-color: #800080\">  </span><span style=\"background-color: #ff0000\">    </span><span style=\"background-color: #800080\">  </span><span style=\"background-color: #ff0000\">  </span><span style=\"background-color: #000080\">  </span><span style=\"background-color: #808000\">  </span><span style=\"background-color: #800000\">  </span><span style=\"background-color: #008000\">  </span>  [8, 5, 8, 8, 5, 8, 4, 3, 1, 2]\n",
       "<span style=\"background-color: #000080\">    </span><span style=\"background-color: #c0c0c0\">  </span><span style=\"background-color: #ff0000\">  </span><span style=\"background-color: #800080\">  </span><span style=\"background-color: #ff0000\">        </span><span style=\"background-color: #008000\">  </span>  [4, 4, 7, 8, 5, 8, 8, 8, 8, 2]\n",
       "<span style=\"background-color: #ff0000\">            </span><span style=\"background-color: #800000\">  </span><span style=\"background-color: #ff0000\">  </span><span style=\"background-color: #000000\">  </span><span style=\"background-color: #808000\">  </span>  [8, 8, 8, 8, 8, 8, 1, 8, 0, 3]\n",
       "<span style=\"background-color: #ff0000\">  </span><span style=\"background-color: #800080\">  </span><span style=\"background-color: #ff0000\">    </span><span style=\"background-color: #800080\">  </span><span style=\"background-color: #ff0000\">  </span><span style=\"background-color: #000080\">  </span><span style=\"background-color: #808000\">  </span><span style=\"background-color: #800000\">  </span><span style=\"background-color: #008000\">  </span>  [8, 5, 8, 8, 5, 8, 4, 3, 1, 2]\n",
       "<span style=\"background-color: #000080\">    </span><span style=\"background-color: #c0c0c0\">  </span><span style=\"background-color: #ff0000\">  </span><span style=\"background-color: #800080\">  </span><span style=\"background-color: #ff0000\">        </span><span style=\"background-color: #008000\">  </span>  [4, 4, 7, 8, 5, 8, 8, 8, 8, 2]\n",
       "\n",
       "</pre>\n"
      ],
      "text/plain": [
       "\u001b[101m  \u001b[0m\u001b[101m  \u001b[0m\u001b[101m  \u001b[0m\u001b[101m  \u001b[0m\u001b[101m  \u001b[0m\u001b[101m  \u001b[0m\u001b[41m  \u001b[0m\u001b[101m  \u001b[0m\u001b[40m  \u001b[0m\u001b[43m  \u001b[0m  [8, 8, 8, 8, 8, 8, 1, 8, 0, 3]\n",
       "\u001b[101m  \u001b[0m\u001b[45m  \u001b[0m\u001b[101m  \u001b[0m\u001b[101m  \u001b[0m\u001b[45m  \u001b[0m\u001b[101m  \u001b[0m\u001b[44m  \u001b[0m\u001b[43m  \u001b[0m\u001b[41m  \u001b[0m\u001b[42m  \u001b[0m  [8, 5, 8, 8, 5, 8, 4, 3, 1, 2]\n",
       "\u001b[44m  \u001b[0m\u001b[44m  \u001b[0m\u001b[47m  \u001b[0m\u001b[101m  \u001b[0m\u001b[45m  \u001b[0m\u001b[101m  \u001b[0m\u001b[101m  \u001b[0m\u001b[101m  \u001b[0m\u001b[101m  \u001b[0m\u001b[42m  \u001b[0m  [4, 4, 7, 8, 5, 8, 8, 8, 8, 2]\n",
       "\u001b[101m  \u001b[0m\u001b[101m  \u001b[0m\u001b[101m  \u001b[0m\u001b[101m  \u001b[0m\u001b[101m  \u001b[0m\u001b[101m  \u001b[0m\u001b[41m  \u001b[0m\u001b[101m  \u001b[0m\u001b[40m  \u001b[0m\u001b[43m  \u001b[0m  [8, 8, 8, 8, 8, 8, 1, 8, 0, 3]\n",
       "\u001b[101m  \u001b[0m\u001b[45m  \u001b[0m\u001b[101m  \u001b[0m\u001b[101m  \u001b[0m\u001b[45m  \u001b[0m\u001b[101m  \u001b[0m\u001b[44m  \u001b[0m\u001b[43m  \u001b[0m\u001b[41m  \u001b[0m\u001b[42m  \u001b[0m  [8, 5, 8, 8, 5, 8, 4, 3, 1, 2]\n",
       "\u001b[44m  \u001b[0m\u001b[44m  \u001b[0m\u001b[47m  \u001b[0m\u001b[101m  \u001b[0m\u001b[45m  \u001b[0m\u001b[101m  \u001b[0m\u001b[101m  \u001b[0m\u001b[101m  \u001b[0m\u001b[101m  \u001b[0m\u001b[42m  \u001b[0m  [4, 4, 7, 8, 5, 8, 8, 8, 8, 2]\n",
       "\n"
      ]
     },
     "metadata": {},
     "output_type": "display_data"
    },
    {
     "name": "stdout",
     "output_type": "stream",
     "text": [
      "Example output\n"
     ]
    },
    {
     "data": {
      "text/html": [
       "<pre style=\"white-space:pre;overflow-x:auto;line-height:normal;font-family:Menlo,'DejaVu Sans Mono',consolas,'Courier New',monospace\"><span style=\"background-color: #ff0000\">            </span><span style=\"background-color: #800000\">  </span><span style=\"background-color: #ff0000\">  </span><span style=\"background-color: #000000\">  </span><span style=\"background-color: #808000\">  </span>  [8, 8, 8, 8, 8, 8, 1, 8, 0, 3]\n",
       "<span style=\"background-color: #ff0000\">  </span><span style=\"background-color: #800080\">  </span><span style=\"background-color: #ff0000\">    </span><span style=\"background-color: #800080\">  </span><span style=\"background-color: #ff0000\">  </span><span style=\"background-color: #000080\">  </span><span style=\"background-color: #808000\">  </span><span style=\"background-color: #800000\">  </span><span style=\"background-color: #008000\">  </span>  [8, 5, 8, 8, 5, 8, 4, 3, 1, 2]\n",
       "<span style=\"background-color: #000080\">    </span><span style=\"background-color: #c0c0c0\">  </span><span style=\"background-color: #ff0000\">  </span><span style=\"background-color: #800080\">  </span><span style=\"background-color: #ff0000\">        </span><span style=\"background-color: #008000\">  </span>  [4, 4, 7, 8, 5, 8, 8, 8, 8, 2]\n",
       "\n",
       "</pre>\n"
      ],
      "text/plain": [
       "\u001b[101m  \u001b[0m\u001b[101m  \u001b[0m\u001b[101m  \u001b[0m\u001b[101m  \u001b[0m\u001b[101m  \u001b[0m\u001b[101m  \u001b[0m\u001b[41m  \u001b[0m\u001b[101m  \u001b[0m\u001b[40m  \u001b[0m\u001b[43m  \u001b[0m  [8, 8, 8, 8, 8, 8, 1, 8, 0, 3]\n",
       "\u001b[101m  \u001b[0m\u001b[45m  \u001b[0m\u001b[101m  \u001b[0m\u001b[101m  \u001b[0m\u001b[45m  \u001b[0m\u001b[101m  \u001b[0m\u001b[44m  \u001b[0m\u001b[43m  \u001b[0m\u001b[41m  \u001b[0m\u001b[42m  \u001b[0m  [8, 5, 8, 8, 5, 8, 4, 3, 1, 2]\n",
       "\u001b[44m  \u001b[0m\u001b[44m  \u001b[0m\u001b[47m  \u001b[0m\u001b[101m  \u001b[0m\u001b[45m  \u001b[0m\u001b[101m  \u001b[0m\u001b[101m  \u001b[0m\u001b[101m  \u001b[0m\u001b[101m  \u001b[0m\u001b[42m  \u001b[0m  [4, 4, 7, 8, 5, 8, 8, 8, 8, 2]\n",
       "\n"
      ]
     },
     "metadata": {},
     "output_type": "display_data"
    },
    {
     "name": "stdout",
     "output_type": "stream",
     "text": [
      "==================================================\n",
      "Example test input\n"
     ]
    },
    {
     "data": {
      "text/html": [
       "<pre style=\"white-space:pre;overflow-x:auto;line-height:normal;font-family:Menlo,'DejaVu Sans Mono',consolas,'Courier New',monospace\"><span style=\"background-color: #c0c0c0\">  </span><span style=\"background-color: #000080\">    </span><span style=\"background-color: #808000\">  </span><span style=\"background-color: #000080\">    </span>  [7, 4, 4, 3, 4, 4]\n",
       "<span style=\"background-color: #000080\">    </span><span style=\"background-color: #008080\">  </span><span style=\"background-color: #c0c0c0\">  </span><span style=\"background-color: #800080\">  </span><span style=\"background-color: #000080\">  </span>  [4, 4, 6, 7, 5, 4]\n",
       "<span style=\"background-color: #c0c0c0\">  </span><span style=\"background-color: #000080\">    </span><span style=\"background-color: #808000\">  </span><span style=\"background-color: #000080\">    </span>  [7, 4, 4, 3, 4, 4]\n",
       "<span style=\"background-color: #000080\">    </span><span style=\"background-color: #008080\">  </span><span style=\"background-color: #c0c0c0\">  </span><span style=\"background-color: #800080\">  </span><span style=\"background-color: #000080\">  </span>  [4, 4, 6, 7, 5, 4]\n",
       "\n",
       "</pre>\n"
      ],
      "text/plain": [
       "\u001b[47m  \u001b[0m\u001b[44m  \u001b[0m\u001b[44m  \u001b[0m\u001b[43m  \u001b[0m\u001b[44m  \u001b[0m\u001b[44m  \u001b[0m  [7, 4, 4, 3, 4, 4]\n",
       "\u001b[44m  \u001b[0m\u001b[44m  \u001b[0m\u001b[46m  \u001b[0m\u001b[47m  \u001b[0m\u001b[45m  \u001b[0m\u001b[44m  \u001b[0m  [4, 4, 6, 7, 5, 4]\n",
       "\u001b[47m  \u001b[0m\u001b[44m  \u001b[0m\u001b[44m  \u001b[0m\u001b[43m  \u001b[0m\u001b[44m  \u001b[0m\u001b[44m  \u001b[0m  [7, 4, 4, 3, 4, 4]\n",
       "\u001b[44m  \u001b[0m\u001b[44m  \u001b[0m\u001b[46m  \u001b[0m\u001b[47m  \u001b[0m\u001b[45m  \u001b[0m\u001b[44m  \u001b[0m  [4, 4, 6, 7, 5, 4]\n",
       "\n"
      ]
     },
     "metadata": {},
     "output_type": "display_data"
    },
    {
     "name": "stdout",
     "output_type": "stream",
     "text": [
      "Example test output\n"
     ]
    },
    {
     "data": {
      "text/html": [
       "<pre style=\"white-space:pre;overflow-x:auto;line-height:normal;font-family:Menlo,'DejaVu Sans Mono',consolas,'Courier New',monospace\"><span style=\"background-color: #c0c0c0\">  </span><span style=\"background-color: #000080\">    </span><span style=\"background-color: #808000\">  </span><span style=\"background-color: #000080\">    </span>  [7, 4, 4, 3, 4, 4]\n",
       "<span style=\"background-color: #000080\">    </span><span style=\"background-color: #008080\">  </span><span style=\"background-color: #c0c0c0\">  </span><span style=\"background-color: #800080\">  </span><span style=\"background-color: #000080\">  </span>  [4, 4, 6, 7, 5, 4]\n",
       "\n",
       "</pre>\n"
      ],
      "text/plain": [
       "\u001b[47m  \u001b[0m\u001b[44m  \u001b[0m\u001b[44m  \u001b[0m\u001b[43m  \u001b[0m\u001b[44m  \u001b[0m\u001b[44m  \u001b[0m  [7, 4, 4, 3, 4, 4]\n",
       "\u001b[44m  \u001b[0m\u001b[44m  \u001b[0m\u001b[46m  \u001b[0m\u001b[47m  \u001b[0m\u001b[45m  \u001b[0m\u001b[44m  \u001b[0m  [4, 4, 6, 7, 5, 4]\n",
       "\n"
      ]
     },
     "metadata": {},
     "output_type": "display_data"
    },
    {
     "name": "stdout",
     "output_type": "stream",
     "text": [
      "==================================================\n"
     ]
    }
   ],
   "source": [
    "# Visualize a task (EDA)\n",
    "task_idx = 11 # select which task you want to examine\n",
    "n_sample = 1\n",
    "for task_idx in hard_tasks[:50]:\n",
    "    print(task_idx)\n",
    "    for data in Dataset.from_pandas(task_samples[task_idx]).shuffle().select(range(n_sample)):\n",
    "        for case in data['train']:\n",
    "            print(\"==================================================\")\n",
    "            print(\"Example input\")\n",
    "            render_grid(case['input'])\n",
    "            print(\"Example output\")\n",
    "            render_grid(case['output'])\n",
    "            break\n",
    "        print(\"==================================================\")\n",
    "        print(\"Example test input\")\n",
    "        render_grid(data['test'][0]['input'])\n",
    "        print(\"Example test output\")\n",
    "        render_grid(data['test'][0]['output'])\n",
    "    print(\"==================================================\")"
   ]
  },
  {
   "cell_type": "code",
   "execution_count": 5,
   "metadata": {},
   "outputs": [
    {
     "name": "stdout",
     "output_type": "stream",
     "text": [
      "[0, 1, 2, 3, 4, 7, 9, 10, 11, 13, 14, 16, 17, 18, 20, 21, 22, 23, 24, 25, 26, 27, 29, 30, 31, 32, 33, 34, 38, 39, 40, 42, 43, 45, 46, 47, 48, 50, 52, 54, 59, 60, 61, 63, 64, 65, 68, 69, 71, 72, 73, 74, 75, 76, 77, 79, 85, 86, 87, 88, 89, 90, 92, 94, 96, 97, 99, 100, 102, 105, 107, 108, 110, 111, 112, 113, 114, 115, 116, 117, 119, 121, 124, 125, 128, 129, 131, 132, 133, 136, 137, 139, 140, 141, 142, 145, 146, 147, 148, 149, 150, 152, 153, 154, 158, 162, 165, 166, 170, 173, 175, 176, 177, 179, 181, 182, 183, 184, 185, 186, 187, 188, 189, 190, 191, 193, 194, 195, 196, 197, 198, 199, 201, 202, 203, 204, 205, 206, 207, 208, 209, 210, 211, 212, 213, 214, 215, 217, 218, 220, 221, 222, 224, 225, 227, 228, 229, 230, 231, 233, 234, 236, 237, 239, 240, 241, 242, 243, 245, 246, 247, 249, 252, 255, 257, 261, 262, 263, 265, 269, 271, 275, 278, 279, 283, 284, 285, 287, 289, 294, 295, 296, 298]\n"
     ]
    }
   ],
   "source": [
    "simple_tasks = []\n",
    "hard_tasks = []\n",
    "for task_idx in range(300):\n",
    "    check = True\n",
    "    for data in Dataset.from_pandas(task_samples[task_idx]).shuffle().select(range(3)):\n",
    "        for case in data['train']:\n",
    "            wi, hi = len(case['input'][0]), len(case['input'])\n",
    "            wo, ho = len(case['output'][0]), len(case['output'])\n",
    "            if (wi!=wo) or (hi!=ho): check = False\n",
    "        case = data['test'][0]\n",
    "        wi, hi = len(case['input'][0]), len(case['input'])\n",
    "        wo, ho = len(case['output'][0]), len(case['output'])\n",
    "        if (wi!=wo) or (hi!=ho): check = False\n",
    "    if check: simple_tasks.append(task_idx)\n",
    "    else: hard_tasks.append(task_idx)\n",
    "print(simple_tasks)"
   ]
  },
  {
   "cell_type": "code",
   "execution_count": 6,
   "metadata": {},
   "outputs": [],
   "source": [
    "set_seed(1234567890)\n",
    "token = os.environ.get(\"HF_TOKEN\", None)\n",
    "solver = ARCSolver(model_id=\"Qwen/Qwen3-4B\", hf_token=token)"
   ]
  },
  {
   "cell_type": "code",
   "execution_count": 9,
   "metadata": {
    "scrolled": true
   },
   "outputs": [],
   "source": [
    "# solver.prepare_train()\n",
    "n_train = len(hard_tasks)*1000\n",
    "n_eval = 500\n",
    "dfsimple = sample_data(dataset, task_list, n_row=n_train+n_eval, indices=simple_tasks, random=56)\n",
    "dfhard = sample_data(dataset, task_list, n_row=n_train+n_eval, indices=hard_tasks, random=56)\n",
    "train_dataset = Dataset.from_pandas(dfsimple).select(range(n_train))\n",
    "# solver.train(train_dataset)"
   ]
  },
  {
   "cell_type": "code",
   "execution_count": 7,
   "metadata": {},
   "outputs": [
    {
     "data": {
      "application/vnd.jupyter.widget-view+json": {
       "model_id": "c7caf5ab5da74cd681d53ee557e2a29d",
       "version_major": 2,
       "version_minor": 0
      },
      "text/plain": [
       "Loading checkpoint shards:   0%|          | 0/3 [00:00<?, ?it/s]"
      ]
     },
     "metadata": {},
     "output_type": "display_data"
    }
   ],
   "source": [
    "n_eval = 100\n",
    "solver.prepare_evaluation(select_adapter=\"20250604_112335\") # make sure you set the right model"
   ]
  },
  {
   "cell_type": "code",
   "execution_count": 24,
   "metadata": {},
   "outputs": [
    {
     "data": {
      "application/vnd.jupyter.widget-view+json": {
       "model_id": "f4b04a864e56488492570d5e6418d07e",
       "version_major": 2,
       "version_minor": 0
      },
      "text/plain": [
       "  0%|          | 0/10 [00:00<?, ?it/s]"
      ]
     },
     "metadata": {},
     "output_type": "display_data"
    },
    {
     "name": "stdout",
     "output_type": "stream",
     "text": [
      "============================================\n",
      "Test input\n"
     ]
    },
    {
     "data": {
      "text/html": [
       "<pre style=\"white-space:pre;overflow-x:auto;line-height:normal;font-family:Menlo,'DejaVu Sans Mono',consolas,'Courier New',monospace\"><span style=\"background-color: #008000\">  </span><span style=\"background-color: #008080\">    </span><span style=\"background-color: #008000\">  </span>  [2, 6, 6, 2]\n",
       "<span style=\"background-color: #008000\">    </span><span style=\"background-color: #c0c0c0\">  </span><span style=\"background-color: #008000\">  </span>  [2, 2, 7, 2]\n",
       "\n",
       "</pre>\n"
      ],
      "text/plain": [
       "\u001b[42m  \u001b[0m\u001b[46m  \u001b[0m\u001b[46m  \u001b[0m\u001b[42m  \u001b[0m  [2, 6, 6, 2]\n",
       "\u001b[42m  \u001b[0m\u001b[42m  \u001b[0m\u001b[47m  \u001b[0m\u001b[42m  \u001b[0m  [2, 2, 7, 2]\n",
       "\n"
      ]
     },
     "metadata": {},
     "output_type": "display_data"
    },
    {
     "name": "stdout",
     "output_type": "stream",
     "text": [
      "Predict output\n",
      "<|im_start|>system\n",
      "You are an expert for solving logical puzzles. You are given some pairs of input and output as 2D grid with the same underlying spatial pattern between them. You have to logically infer the exact rule that transforms each input to the corresponding output.\n",
      "<|im_end|>\n",
      "<|im_start|>user\n",
      "Here are the example input and output pairs from which you should learn the underlying rule to later predict the output for the given test input:\n",
      "----------------------------------------\n",
      "input:\n",
      "6\n",
      "6\n",
      "6\n",
      "0\n",
      "6\n",
      "6\n",
      "6\n",
      "6\n",
      "output:\n",
      "8888880\n",
      "6666666\n",
      "\n",
      "input:\n",
      "929927\n",
      "997992\n",
      "output:\n",
      "8888877\n",
      "8888222\n",
      "9999999\n",
      "\n",
      "input:\n",
      "73\n",
      "33\n",
      "73\n",
      "47\n",
      "output:\n",
      "8884\n",
      "8777\n",
      "3333\n",
      "\n",
      "\n",
      "----------------------------------------\n",
      "Now, solve the following puzzle based on its input grid by applying the rules you have learned from the training data.:\n",
      "----------------------------------------\n",
      "input:\n",
      "66\n",
      "59\n",
      "69\n",
      "66\n",
      "\n",
      "----------------------------------------\n",
      "What is the output grid? Only provide the output grid in the form as in the example input and output pairs. Do not provide any additional information:\n",
      "<|im_end|>\n",
      "<|im_start|>assistant\n",
      "\n",
      "output:\n",
      "8888\n",
      "8999\n",
      "5555\n",
      "<|im_end|>\n",
      "[[8, 8, 8, 8], [8, 9, 9, 9], [5, 5, 5, 5]]\n",
      "[[7 6 0]\n",
      " [7 6 0]\n",
      " [7 6 0]\n",
      " [7 0 0]]\n"
     ]
    },
    {
     "data": {
      "text/html": [
       "<pre style=\"white-space:pre;overflow-x:auto;line-height:normal;font-family:Menlo,'DejaVu Sans Mono',consolas,'Courier New',monospace\"><span style=\"background-color: #c0c0c0\">  </span><span style=\"background-color: #008080\">  </span><span style=\"background-color: #000000\">  </span>  [7 6 0]\n",
       "<span style=\"background-color: #c0c0c0\">  </span><span style=\"background-color: #008080\">  </span><span style=\"background-color: #000000\">  </span>  [7 6 0]\n",
       "<span style=\"background-color: #c0c0c0\">  </span><span style=\"background-color: #008080\">  </span><span style=\"background-color: #000000\">  </span>  [7 6 0]\n",
       "<span style=\"background-color: #c0c0c0\">  </span><span style=\"background-color: #000000\">    </span>  [7 0 0]\n",
       "\n",
       "</pre>\n"
      ],
      "text/plain": [
       "\u001b[47m  \u001b[0m\u001b[46m  \u001b[0m\u001b[40m  \u001b[0m  [7 6 0]\n",
       "\u001b[47m  \u001b[0m\u001b[46m  \u001b[0m\u001b[40m  \u001b[0m  [7 6 0]\n",
       "\u001b[47m  \u001b[0m\u001b[46m  \u001b[0m\u001b[40m  \u001b[0m  [7 6 0]\n",
       "\u001b[47m  \u001b[0m\u001b[40m  \u001b[0m\u001b[40m  \u001b[0m  [7 0 0]\n",
       "\n"
      ]
     },
     "metadata": {},
     "output_type": "display_data"
    },
    {
     "name": "stdout",
     "output_type": "stream",
     "text": [
      "Test output\n"
     ]
    },
    {
     "data": {
      "text/html": [
       "<pre style=\"white-space:pre;overflow-x:auto;line-height:normal;font-family:Menlo,'DejaVu Sans Mono',consolas,'Courier New',monospace\"><span style=\"background-color: #008000\">  </span><span style=\"background-color: #008080\">  </span><span style=\"background-color: #c0c0c0\">  </span>  [2, 6, 7]\n",
       "<span style=\"background-color: #008000\">  </span><span style=\"background-color: #008080\">  </span><span style=\"background-color: #000000\">  </span>  [2, 6, 0]\n",
       "<span style=\"background-color: #008000\">  </span><span style=\"background-color: #000000\">    </span>  [2, 0, 0]\n",
       "<span style=\"background-color: #008000\">  </span><span style=\"background-color: #000000\">    </span>  [2, 0, 0]\n",
       "<span style=\"background-color: #008000\">  </span><span style=\"background-color: #000000\">    </span>  [2, 0, 0]\n",
       "\n",
       "</pre>\n"
      ],
      "text/plain": [
       "\u001b[42m  \u001b[0m\u001b[46m  \u001b[0m\u001b[47m  \u001b[0m  [2, 6, 7]\n",
       "\u001b[42m  \u001b[0m\u001b[46m  \u001b[0m\u001b[40m  \u001b[0m  [2, 6, 0]\n",
       "\u001b[42m  \u001b[0m\u001b[40m  \u001b[0m\u001b[40m  \u001b[0m  [2, 0, 0]\n",
       "\u001b[42m  \u001b[0m\u001b[40m  \u001b[0m\u001b[40m  \u001b[0m  [2, 0, 0]\n",
       "\u001b[42m  \u001b[0m\u001b[40m  \u001b[0m\u001b[40m  \u001b[0m  [2, 0, 0]\n",
       "\n"
      ]
     },
     "metadata": {},
     "output_type": "display_data"
    },
    {
     "name": "stdout",
     "output_type": "stream",
     "text": [
      "============================================\n",
      "============================================\n",
      "Test input\n"
     ]
    },
    {
     "data": {
      "text/html": [
       "<pre style=\"white-space:pre;overflow-x:auto;line-height:normal;font-family:Menlo,'DejaVu Sans Mono',consolas,'Courier New',monospace\"><span style=\"background-color: #c0c0c0\">    </span><span style=\"background-color: #000080\">  </span><span style=\"background-color: #008080\">    </span><span style=\"background-color: #ff0000\">    </span>  [7, 7, 4, 6, 6, 8, 8]\n",
       "<span style=\"background-color: #ff0000\">  </span><span style=\"background-color: #c0c0c0\">  </span><span style=\"background-color: #00ff00\">  </span><span style=\"background-color: #c0c0c0\">  </span><span style=\"background-color: #008080\">    </span><span style=\"background-color: #808000\">  </span>  [8, 7, 9, 7, 6, 6, 3]\n",
       "<span style=\"background-color: #008080\">  </span><span style=\"background-color: #00ff00\">  </span><span style=\"background-color: #000080\">  </span><span style=\"background-color: #008080\">  </span><span style=\"background-color: #808000\">  </span><span style=\"background-color: #ff0000\">  </span><span style=\"background-color: #c0c0c0\">  </span>  [6, 9, 4, 6, 3, 8, 7]\n",
       "<span style=\"background-color: #000080\">  </span><span style=\"background-color: #808000\">  </span><span style=\"background-color: #c0c0c0\">    </span><span style=\"background-color: #ff0000\">  </span><span style=\"background-color: #c0c0c0\">    </span>  [4, 3, 7, 7, 8, 7, 7]\n",
       "<span style=\"background-color: #00ff00\">  </span><span style=\"background-color: #c0c0c0\">  </span><span style=\"background-color: #00ff00\">    </span><span style=\"background-color: #808000\">  </span><span style=\"background-color: #00ff00\">  </span><span style=\"background-color: #ff0000\">  </span>  [9, 7, 9, 9, 3, 9, 8]\n",
       "\n",
       "</pre>\n"
      ],
      "text/plain": [
       "\u001b[47m  \u001b[0m\u001b[47m  \u001b[0m\u001b[44m  \u001b[0m\u001b[46m  \u001b[0m\u001b[46m  \u001b[0m\u001b[101m  \u001b[0m\u001b[101m  \u001b[0m  [7, 7, 4, 6, 6, 8, 8]\n",
       "\u001b[101m  \u001b[0m\u001b[47m  \u001b[0m\u001b[102m  \u001b[0m\u001b[47m  \u001b[0m\u001b[46m  \u001b[0m\u001b[46m  \u001b[0m\u001b[43m  \u001b[0m  [8, 7, 9, 7, 6, 6, 3]\n",
       "\u001b[46m  \u001b[0m\u001b[102m  \u001b[0m\u001b[44m  \u001b[0m\u001b[46m  \u001b[0m\u001b[43m  \u001b[0m\u001b[101m  \u001b[0m\u001b[47m  \u001b[0m  [6, 9, 4, 6, 3, 8, 7]\n",
       "\u001b[44m  \u001b[0m\u001b[43m  \u001b[0m\u001b[47m  \u001b[0m\u001b[47m  \u001b[0m\u001b[101m  \u001b[0m\u001b[47m  \u001b[0m\u001b[47m  \u001b[0m  [4, 3, 7, 7, 8, 7, 7]\n",
       "\u001b[102m  \u001b[0m\u001b[47m  \u001b[0m\u001b[102m  \u001b[0m\u001b[102m  \u001b[0m\u001b[43m  \u001b[0m\u001b[102m  \u001b[0m\u001b[101m  \u001b[0m  [9, 7, 9, 9, 3, 9, 8]\n",
       "\n"
      ]
     },
     "metadata": {},
     "output_type": "display_data"
    },
    {
     "name": "stdout",
     "output_type": "stream",
     "text": [
      "Predict output\n",
      "<|im_start|>system\n",
      "You are an expert for solving logical puzzles. You are given some pairs of input and output as 2D grid with the same underlying spatial pattern between them. You have to logically infer the exact rule that transforms each input to the corresponding output.\n",
      "<|im_end|>\n",
      "<|im_start|>user\n",
      "Here are the example input and output pairs from which you should learn the underlying rule to later predict the output for the given test input:\n",
      "----------------------------------------\n",
      "input:\n",
      "333322233\n",
      "333233323\n",
      "323233333\n",
      "output:\n",
      "151\n",
      "555\n",
      "151\n",
      "\n",
      "input:\n",
      "174\n",
      "484\n",
      "457\n",
      "743\n",
      "434\n",
      "344\n",
      "445\n",
      "474\n",
      "output:\n",
      "555\n",
      "511\n",
      "511\n",
      "\n",
      "input:\n",
      "27272\n",
      "21227\n",
      "32277\n",
      "22551\n",
      "28988\n",
      "19228\n",
      "23179\n",
      "51952\n",
      "output:\n",
      "151\n",
      "555\n",
      "151\n",
      "\n",
      "\n",
      "----------------------------------------\n",
      "Now, solve the following puzzle based on its input grid by applying the rules you have learned from the training data.:\n",
      "----------------------------------------\n",
      "input:\n",
      "9848878\n",
      "7797743\n",
      "7946386\n",
      "4667879\n",
      "9966377\n",
      "\n",
      "----------------------------------------\n",
      "What is the output grid? Only provide the output grid in the form as in the example input and output pairs. Do not provide any additional information:\n",
      "<|im_end|>\n",
      "<|im_start|>assistant\n",
      "\n",
      "output:\n",
      "555\n",
      "511\n",
      "511\n",
      "<|im_end|>\n",
      "[[5, 5, 5], [5, 1, 1], [5, 1, 1]]\n",
      "[[0 0 5]\n",
      " [0 0 5]\n",
      " [5 5 5]]\n"
     ]
    },
    {
     "data": {
      "text/html": [
       "<pre style=\"white-space:pre;overflow-x:auto;line-height:normal;font-family:Menlo,'DejaVu Sans Mono',consolas,'Courier New',monospace\"><span style=\"background-color: #000000\">    </span><span style=\"background-color: #800080\">  </span>  [0 0 5]\n",
       "<span style=\"background-color: #000000\">    </span><span style=\"background-color: #800080\">  </span>  [0 0 5]\n",
       "<span style=\"background-color: #800080\">      </span>  [5 5 5]\n",
       "\n",
       "</pre>\n"
      ],
      "text/plain": [
       "\u001b[40m  \u001b[0m\u001b[40m  \u001b[0m\u001b[45m  \u001b[0m  [0 0 5]\n",
       "\u001b[40m  \u001b[0m\u001b[40m  \u001b[0m\u001b[45m  \u001b[0m  [0 0 5]\n",
       "\u001b[45m  \u001b[0m\u001b[45m  \u001b[0m\u001b[45m  \u001b[0m  [5 5 5]\n",
       "\n"
      ]
     },
     "metadata": {},
     "output_type": "display_data"
    },
    {
     "name": "stdout",
     "output_type": "stream",
     "text": [
      "Test output\n"
     ]
    },
    {
     "data": {
      "text/html": [
       "<pre style=\"white-space:pre;overflow-x:auto;line-height:normal;font-family:Menlo,'DejaVu Sans Mono',consolas,'Courier New',monospace\"><span style=\"background-color: #000000\">    </span><span style=\"background-color: #800080\">  </span>  [0, 0, 5]\n",
       "<span style=\"background-color: #000000\">    </span><span style=\"background-color: #800080\">  </span>  [0, 0, 5]\n",
       "<span style=\"background-color: #800080\">      </span>  [5, 5, 5]\n",
       "\n",
       "</pre>\n"
      ],
      "text/plain": [
       "\u001b[40m  \u001b[0m\u001b[40m  \u001b[0m\u001b[45m  \u001b[0m  [0, 0, 5]\n",
       "\u001b[40m  \u001b[0m\u001b[40m  \u001b[0m\u001b[45m  \u001b[0m  [0, 0, 5]\n",
       "\u001b[45m  \u001b[0m\u001b[45m  \u001b[0m\u001b[45m  \u001b[0m  [5, 5, 5]\n",
       "\n"
      ]
     },
     "metadata": {},
     "output_type": "display_data"
    },
    {
     "name": "stdout",
     "output_type": "stream",
     "text": [
      "============================================\n",
      "============================================\n",
      "Test input\n"
     ]
    },
    {
     "data": {
      "text/html": [
       "<pre style=\"white-space:pre;overflow-x:auto;line-height:normal;font-family:Menlo,'DejaVu Sans Mono',consolas,'Courier New',monospace\"><span style=\"background-color: #000080\">                  </span>  [4, 4, 4, 4, 4, 4, 4, 4, 4]\n",
       "<span style=\"background-color: #000080\">                  </span>  [4, 4, 4, 4, 4, 4, 4, 4, 4]\n",
       "<span style=\"background-color: #000080\">    </span><span style=\"background-color: #00ff00\">              </span>  [4, 4, 9, 9, 9, 9, 9, 9, 9]\n",
       "<span style=\"background-color: #000080\">    </span><span style=\"background-color: #00ff00\">  </span><span style=\"background-color: #000000\">        </span><span style=\"background-color: #000080\">    </span>  [4, 4, 9, 0, 0, 0, 0, 4, 4]\n",
       "<span style=\"background-color: #000080\">    </span><span style=\"background-color: #00ff00\">  </span><span style=\"background-color: #000000\">        </span><span style=\"background-color: #000080\">    </span>  [4, 4, 9, 0, 0, 0, 0, 4, 4]\n",
       "<span style=\"background-color: #000080\">    </span><span style=\"background-color: #00ff00\">  </span><span style=\"background-color: #000000\">        </span><span style=\"background-color: #000080\">    </span>  [4, 4, 9, 0, 0, 0, 0, 4, 4]\n",
       "<span style=\"background-color: #000080\">    </span><span style=\"background-color: #00ff00\">  </span><span style=\"background-color: #000000\">        </span><span style=\"background-color: #000080\">    </span>  [4, 4, 9, 0, 0, 0, 0, 4, 4]\n",
       "<span style=\"background-color: #000080\">    </span><span style=\"background-color: #00ff00\">              </span>  [4, 4, 9, 9, 9, 9, 9, 9, 9]\n",
       "<span style=\"background-color: #000080\">                  </span>  [4, 4, 4, 4, 4, 4, 4, 4, 4]\n",
       "<span style=\"background-color: #000080\">                  </span>  [4, 4, 4, 4, 4, 4, 4, 4, 4]\n",
       "\n",
       "</pre>\n"
      ],
      "text/plain": [
       "\u001b[44m  \u001b[0m\u001b[44m  \u001b[0m\u001b[44m  \u001b[0m\u001b[44m  \u001b[0m\u001b[44m  \u001b[0m\u001b[44m  \u001b[0m\u001b[44m  \u001b[0m\u001b[44m  \u001b[0m\u001b[44m  \u001b[0m  [4, 4, 4, 4, 4, 4, 4, 4, 4]\n",
       "\u001b[44m  \u001b[0m\u001b[44m  \u001b[0m\u001b[44m  \u001b[0m\u001b[44m  \u001b[0m\u001b[44m  \u001b[0m\u001b[44m  \u001b[0m\u001b[44m  \u001b[0m\u001b[44m  \u001b[0m\u001b[44m  \u001b[0m  [4, 4, 4, 4, 4, 4, 4, 4, 4]\n",
       "\u001b[44m  \u001b[0m\u001b[44m  \u001b[0m\u001b[102m  \u001b[0m\u001b[102m  \u001b[0m\u001b[102m  \u001b[0m\u001b[102m  \u001b[0m\u001b[102m  \u001b[0m\u001b[102m  \u001b[0m\u001b[102m  \u001b[0m  [4, 4, 9, 9, 9, 9, 9, 9, 9]\n",
       "\u001b[44m  \u001b[0m\u001b[44m  \u001b[0m\u001b[102m  \u001b[0m\u001b[40m  \u001b[0m\u001b[40m  \u001b[0m\u001b[40m  \u001b[0m\u001b[40m  \u001b[0m\u001b[44m  \u001b[0m\u001b[44m  \u001b[0m  [4, 4, 9, 0, 0, 0, 0, 4, 4]\n",
       "\u001b[44m  \u001b[0m\u001b[44m  \u001b[0m\u001b[102m  \u001b[0m\u001b[40m  \u001b[0m\u001b[40m  \u001b[0m\u001b[40m  \u001b[0m\u001b[40m  \u001b[0m\u001b[44m  \u001b[0m\u001b[44m  \u001b[0m  [4, 4, 9, 0, 0, 0, 0, 4, 4]\n",
       "\u001b[44m  \u001b[0m\u001b[44m  \u001b[0m\u001b[102m  \u001b[0m\u001b[40m  \u001b[0m\u001b[40m  \u001b[0m\u001b[40m  \u001b[0m\u001b[40m  \u001b[0m\u001b[44m  \u001b[0m\u001b[44m  \u001b[0m  [4, 4, 9, 0, 0, 0, 0, 4, 4]\n",
       "\u001b[44m  \u001b[0m\u001b[44m  \u001b[0m\u001b[102m  \u001b[0m\u001b[40m  \u001b[0m\u001b[40m  \u001b[0m\u001b[40m  \u001b[0m\u001b[40m  \u001b[0m\u001b[44m  \u001b[0m\u001b[44m  \u001b[0m  [4, 4, 9, 0, 0, 0, 0, 4, 4]\n",
       "\u001b[44m  \u001b[0m\u001b[44m  \u001b[0m\u001b[102m  \u001b[0m\u001b[102m  \u001b[0m\u001b[102m  \u001b[0m\u001b[102m  \u001b[0m\u001b[102m  \u001b[0m\u001b[102m  \u001b[0m\u001b[102m  \u001b[0m  [4, 4, 9, 9, 9, 9, 9, 9, 9]\n",
       "\u001b[44m  \u001b[0m\u001b[44m  \u001b[0m\u001b[44m  \u001b[0m\u001b[44m  \u001b[0m\u001b[44m  \u001b[0m\u001b[44m  \u001b[0m\u001b[44m  \u001b[0m\u001b[44m  \u001b[0m\u001b[44m  \u001b[0m  [4, 4, 4, 4, 4, 4, 4, 4, 4]\n",
       "\u001b[44m  \u001b[0m\u001b[44m  \u001b[0m\u001b[44m  \u001b[0m\u001b[44m  \u001b[0m\u001b[44m  \u001b[0m\u001b[44m  \u001b[0m\u001b[44m  \u001b[0m\u001b[44m  \u001b[0m\u001b[44m  \u001b[0m  [4, 4, 4, 4, 4, 4, 4, 4, 4]\n",
       "\n"
      ]
     },
     "metadata": {},
     "output_type": "display_data"
    },
    {
     "name": "stdout",
     "output_type": "stream",
     "text": [
      "Predict output\n",
      "<|im_start|>system\n",
      "You are an expert for solving logical puzzles. You are given some pairs of input and output as 2D grid with the same underlying spatial pattern between them. You have to logically infer the exact rule that transforms each input to the corresponding output.\n",
      "<|im_end|>\n",
      "<|im_start|>user\n",
      "Here are the example input and output pairs from which you should learn the underlying rule to later predict the output for the given test input:\n",
      "----------------------------------------\n",
      "input:\n",
      "0001111\n",
      "0001441\n",
      "0001001\n",
      "0001001\n",
      "0001001\n",
      "0000000\n",
      "0000000\n",
      "0000000\n",
      "0000000\n",
      "output:\n",
      "400\n",
      "400\n",
      "400\n",
      "\n",
      "input:\n",
      "56566\n",
      "56566\n",
      "56566\n",
      "56566\n",
      "56566\n",
      "57566\n",
      "55566\n",
      "66666\n",
      "66666\n",
      "output:\n",
      "776\n",
      "776\n",
      "766\n",
      "\n",
      "input:\n",
      "8888888888\n",
      "4444444448\n",
      "8800000048\n",
      "8800000048\n",
      "8800000048\n",
      "8800000048\n",
      "4444444448\n",
      "output:\n",
      "888\n",
      "088\n",
      "088\n",
      "\n",
      "\n",
      "----------------------------------------\n",
      "Now, solve the following puzzle based on its input grid by applying the rules you have learned from the training data.:\n",
      "----------------------------------------\n",
      "input:\n",
      "4464444644\n",
      "4464444644\n",
      "4469999644\n",
      "4469999644\n",
      "4469999644\n",
      "4469999644\n",
      "4466666644\n",
      "4444444444\n",
      "4444444444\n",
      "\n",
      "----------------------------------------\n",
      "What is the output grid? Only provide the output grid in the form as in the example input and output pairs. Do not provide any additional information:\n",
      "<|im_end|>\n",
      "<|im_start|>assistant\n",
      "\n",
      "output:\n",
      "999\n",
      "999\n",
      "999\n",
      "999\n",
      "<|im_end|>\n",
      "[[9, 9, 9], [9, 9, 9], [9, 9, 9], [9, 9, 9]]\n",
      "[[0 0 0 0]\n",
      " [0 0 0 0]\n",
      " [0 0 0 0]]\n"
     ]
    },
    {
     "data": {
      "text/html": [
       "<pre style=\"white-space:pre;overflow-x:auto;line-height:normal;font-family:Menlo,'DejaVu Sans Mono',consolas,'Courier New',monospace\"><span style=\"background-color: #000000\">        </span>  [0 0 0 0]\n",
       "<span style=\"background-color: #000000\">        </span>  [0 0 0 0]\n",
       "<span style=\"background-color: #000000\">        </span>  [0 0 0 0]\n",
       "\n",
       "</pre>\n"
      ],
      "text/plain": [
       "\u001b[40m  \u001b[0m\u001b[40m  \u001b[0m\u001b[40m  \u001b[0m\u001b[40m  \u001b[0m  [0 0 0 0]\n",
       "\u001b[40m  \u001b[0m\u001b[40m  \u001b[0m\u001b[40m  \u001b[0m\u001b[40m  \u001b[0m  [0 0 0 0]\n",
       "\u001b[40m  \u001b[0m\u001b[40m  \u001b[0m\u001b[40m  \u001b[0m\u001b[40m  \u001b[0m  [0 0 0 0]\n",
       "\n"
      ]
     },
     "metadata": {},
     "output_type": "display_data"
    },
    {
     "name": "stdout",
     "output_type": "stream",
     "text": [
      "Test output\n"
     ]
    },
    {
     "data": {
      "text/html": [
       "<pre style=\"white-space:pre;overflow-x:auto;line-height:normal;font-family:Menlo,'DejaVu Sans Mono',consolas,'Courier New',monospace\"><span style=\"background-color: #000000\">    </span><span style=\"background-color: #000080\">  </span>  [0, 0, 4]\n",
       "<span style=\"background-color: #000080\">      </span>  [4, 4, 4]\n",
       "<span style=\"background-color: #000080\">      </span>  [4, 4, 4]\n",
       "\n",
       "</pre>\n"
      ],
      "text/plain": [
       "\u001b[40m  \u001b[0m\u001b[40m  \u001b[0m\u001b[44m  \u001b[0m  [0, 0, 4]\n",
       "\u001b[44m  \u001b[0m\u001b[44m  \u001b[0m\u001b[44m  \u001b[0m  [4, 4, 4]\n",
       "\u001b[44m  \u001b[0m\u001b[44m  \u001b[0m\u001b[44m  \u001b[0m  [4, 4, 4]\n",
       "\n"
      ]
     },
     "metadata": {},
     "output_type": "display_data"
    },
    {
     "name": "stdout",
     "output_type": "stream",
     "text": [
      "============================================\n",
      "============================================\n",
      "Test input\n"
     ]
    },
    {
     "data": {
      "text/html": [
       "<pre style=\"white-space:pre;overflow-x:auto;line-height:normal;font-family:Menlo,'DejaVu Sans Mono',consolas,'Courier New',monospace\"><span style=\"background-color: #008000\">      </span><span style=\"background-color: #800080\">  </span><span style=\"background-color: #000000\">    </span><span style=\"background-color: #800000\">  </span>  [2, 2, 2, 5, 0, 0, 1]\n",
       "<span style=\"background-color: #000000\">  </span><span style=\"background-color: #008000\">  </span><span style=\"background-color: #000000\">  </span><span style=\"background-color: #800080\">  </span><span style=\"background-color: #800000\">    </span><span style=\"background-color: #000000\">  </span>  [0, 2, 0, 5, 1, 1, 0]\n",
       "<span style=\"background-color: #000000\">      </span><span style=\"background-color: #800080\">  </span><span style=\"background-color: #000000\">    </span><span style=\"background-color: #800000\">  </span>  [0, 0, 0, 5, 0, 0, 1]\n",
       "<span style=\"background-color: #000000\">      </span><span style=\"background-color: #800080\">  </span><span style=\"background-color: #800000\">  </span><span style=\"background-color: #000000\">    </span>  [0, 0, 0, 5, 1, 0, 0]\n",
       "<span style=\"background-color: #000000\">      </span><span style=\"background-color: #800080\">  </span><span style=\"background-color: #800000\">      </span>  [0, 0, 0, 5, 1, 1, 1]\n",
       "<span style=\"background-color: #000000\">      </span><span style=\"background-color: #800080\">  </span><span style=\"background-color: #000000\">  </span><span style=\"background-color: #800000\">    </span>  [0, 0, 0, 5, 0, 1, 1]\n",
       "<span style=\"background-color: #000000\">      </span><span style=\"background-color: #800080\">  </span><span style=\"background-color: #800000\">    </span><span style=\"background-color: #000000\">  </span>  [0, 0, 0, 5, 1, 1, 0]\n",
       "\n",
       "</pre>\n"
      ],
      "text/plain": [
       "\u001b[42m  \u001b[0m\u001b[42m  \u001b[0m\u001b[42m  \u001b[0m\u001b[45m  \u001b[0m\u001b[40m  \u001b[0m\u001b[40m  \u001b[0m\u001b[41m  \u001b[0m  [2, 2, 2, 5, 0, 0, 1]\n",
       "\u001b[40m  \u001b[0m\u001b[42m  \u001b[0m\u001b[40m  \u001b[0m\u001b[45m  \u001b[0m\u001b[41m  \u001b[0m\u001b[41m  \u001b[0m\u001b[40m  \u001b[0m  [0, 2, 0, 5, 1, 1, 0]\n",
       "\u001b[40m  \u001b[0m\u001b[40m  \u001b[0m\u001b[40m  \u001b[0m\u001b[45m  \u001b[0m\u001b[40m  \u001b[0m\u001b[40m  \u001b[0m\u001b[41m  \u001b[0m  [0, 0, 0, 5, 0, 0, 1]\n",
       "\u001b[40m  \u001b[0m\u001b[40m  \u001b[0m\u001b[40m  \u001b[0m\u001b[45m  \u001b[0m\u001b[41m  \u001b[0m\u001b[40m  \u001b[0m\u001b[40m  \u001b[0m  [0, 0, 0, 5, 1, 0, 0]\n",
       "\u001b[40m  \u001b[0m\u001b[40m  \u001b[0m\u001b[40m  \u001b[0m\u001b[45m  \u001b[0m\u001b[41m  \u001b[0m\u001b[41m  \u001b[0m\u001b[41m  \u001b[0m  [0, 0, 0, 5, 1, 1, 1]\n",
       "\u001b[40m  \u001b[0m\u001b[40m  \u001b[0m\u001b[40m  \u001b[0m\u001b[45m  \u001b[0m\u001b[40m  \u001b[0m\u001b[41m  \u001b[0m\u001b[41m  \u001b[0m  [0, 0, 0, 5, 0, 1, 1]\n",
       "\u001b[40m  \u001b[0m\u001b[40m  \u001b[0m\u001b[40m  \u001b[0m\u001b[45m  \u001b[0m\u001b[41m  \u001b[0m\u001b[41m  \u001b[0m\u001b[40m  \u001b[0m  [0, 0, 0, 5, 1, 1, 0]\n",
       "\n"
      ]
     },
     "metadata": {},
     "output_type": "display_data"
    },
    {
     "name": "stdout",
     "output_type": "stream",
     "text": [
      "Predict output\n",
      "<|im_start|>system\n",
      "You are an expert for solving logical puzzles. You are given some pairs of input and output as 2D grid with the same underlying spatial pattern between them. You have to logically infer the exact rule that transforms each input to the corresponding output.\n",
      "<|im_end|>\n",
      "<|im_start|>user\n",
      "Here are the example input and output pairs from which you should learn the underlying rule to later predict the output for the given test input:\n",
      "----------------------------------------\n",
      "input:\n",
      "8335433\n",
      "8835343\n",
      "8335433\n",
      "8835344\n",
      "8835333\n",
      "3385433\n",
      "3335333\n",
      "3835343\n",
      "output:\n",
      "333\n",
      "633\n",
      "333\n",
      "636\n",
      "663\n",
      "636\n",
      "333\n",
      "333\n",
      "\n",
      "input:\n",
      "339\n",
      "333\n",
      "333\n",
      "333\n",
      "555\n",
      "333\n",
      "333\n",
      "333\n",
      "331\n",
      "output:\n",
      "336\n",
      "333\n",
      "333\n",
      "336\n",
      "\n",
      "input:\n",
      "3337999\n",
      "3337999\n",
      "3337999\n",
      "3337993\n",
      "3337999\n",
      "3237939\n",
      "output:\n",
      "666\n",
      "666\n",
      "666\n",
      "663\n",
      "666\n",
      "666\n",
      "\n",
      "\n",
      "----------------------------------------\n",
      "Now, solve the following puzzle based on its input grid by applying the rules you have learned from the training data.:\n",
      "----------------------------------------\n",
      "input:\n",
      "7333333\n",
      "7733333\n",
      "7333333\n",
      "2222222\n",
      "3030030\n",
      "3033000\n",
      "0303003\n",
      "\n",
      "----------------------------------------\n",
      "What is the output grid? Only provide the output grid in the form as in the example input and output pairs. Do not provide any additional information:\n",
      "<|im_end|>\n",
      "<|im_start|>assistant\n",
      "\n",
      "output:\n",
      "3666666\n",
      "3366636\n",
      "3666636\n",
      "<|im_end|>\n",
      "[[3, 6, 6, 6, 6, 6, 6], [3, 3, 6, 6, 6, 3, 6], [3, 6, 6, 6, 6, 3, 6]]\n",
      "[[0 0 0]\n",
      " [3 0 3]\n",
      " [3 3 3]\n",
      " [3 3 3]\n",
      " [3 3 3]\n",
      " [3 0 0]\n",
      " [3 3 3]]\n"
     ]
    },
    {
     "data": {
      "text/html": [
       "<pre style=\"white-space:pre;overflow-x:auto;line-height:normal;font-family:Menlo,'DejaVu Sans Mono',consolas,'Courier New',monospace\"><span style=\"background-color: #000000\">      </span>  [0 0 0]\n",
       "<span style=\"background-color: #808000\">  </span><span style=\"background-color: #000000\">  </span><span style=\"background-color: #808000\">  </span>  [3 0 3]\n",
       "<span style=\"background-color: #808000\">      </span>  [3 3 3]\n",
       "<span style=\"background-color: #808000\">      </span>  [3 3 3]\n",
       "<span style=\"background-color: #808000\">      </span>  [3 3 3]\n",
       "<span style=\"background-color: #808000\">  </span><span style=\"background-color: #000000\">    </span>  [3 0 0]\n",
       "<span style=\"background-color: #808000\">      </span>  [3 3 3]\n",
       "\n",
       "</pre>\n"
      ],
      "text/plain": [
       "\u001b[40m  \u001b[0m\u001b[40m  \u001b[0m\u001b[40m  \u001b[0m  [0 0 0]\n",
       "\u001b[43m  \u001b[0m\u001b[40m  \u001b[0m\u001b[43m  \u001b[0m  [3 0 3]\n",
       "\u001b[43m  \u001b[0m\u001b[43m  \u001b[0m\u001b[43m  \u001b[0m  [3 3 3]\n",
       "\u001b[43m  \u001b[0m\u001b[43m  \u001b[0m\u001b[43m  \u001b[0m  [3 3 3]\n",
       "\u001b[43m  \u001b[0m\u001b[43m  \u001b[0m\u001b[43m  \u001b[0m  [3 3 3]\n",
       "\u001b[43m  \u001b[0m\u001b[40m  \u001b[0m\u001b[40m  \u001b[0m  [3 0 0]\n",
       "\u001b[43m  \u001b[0m\u001b[43m  \u001b[0m\u001b[43m  \u001b[0m  [3 3 3]\n",
       "\n"
      ]
     },
     "metadata": {},
     "output_type": "display_data"
    },
    {
     "name": "stdout",
     "output_type": "stream",
     "text": [
      "Test output\n"
     ]
    },
    {
     "data": {
      "text/html": [
       "<pre style=\"white-space:pre;overflow-x:auto;line-height:normal;font-family:Menlo,'DejaVu Sans Mono',consolas,'Courier New',monospace\"><span style=\"background-color: #808000\">    </span><span style=\"background-color: #000000\">  </span>  [3, 3, 0]\n",
       "<span style=\"background-color: #808000\">  </span><span style=\"background-color: #000000\">    </span>  [3, 0, 0]\n",
       "<span style=\"background-color: #000000\">    </span><span style=\"background-color: #808000\">  </span>  [0, 0, 3]\n",
       "<span style=\"background-color: #808000\">  </span><span style=\"background-color: #000000\">    </span>  [3, 0, 0]\n",
       "<span style=\"background-color: #808000\">      </span>  [3, 3, 3]\n",
       "<span style=\"background-color: #000000\">  </span><span style=\"background-color: #808000\">    </span>  [0, 3, 3]\n",
       "<span style=\"background-color: #808000\">    </span><span style=\"background-color: #000000\">  </span>  [3, 3, 0]\n",
       "\n",
       "</pre>\n"
      ],
      "text/plain": [
       "\u001b[43m  \u001b[0m\u001b[43m  \u001b[0m\u001b[40m  \u001b[0m  [3, 3, 0]\n",
       "\u001b[43m  \u001b[0m\u001b[40m  \u001b[0m\u001b[40m  \u001b[0m  [3, 0, 0]\n",
       "\u001b[40m  \u001b[0m\u001b[40m  \u001b[0m\u001b[43m  \u001b[0m  [0, 0, 3]\n",
       "\u001b[43m  \u001b[0m\u001b[40m  \u001b[0m\u001b[40m  \u001b[0m  [3, 0, 0]\n",
       "\u001b[43m  \u001b[0m\u001b[43m  \u001b[0m\u001b[43m  \u001b[0m  [3, 3, 3]\n",
       "\u001b[40m  \u001b[0m\u001b[43m  \u001b[0m\u001b[43m  \u001b[0m  [0, 3, 3]\n",
       "\u001b[43m  \u001b[0m\u001b[43m  \u001b[0m\u001b[40m  \u001b[0m  [3, 3, 0]\n",
       "\n"
      ]
     },
     "metadata": {},
     "output_type": "display_data"
    },
    {
     "name": "stdout",
     "output_type": "stream",
     "text": [
      "============================================\n",
      "============================================\n",
      "Test input\n"
     ]
    },
    {
     "data": {
      "text/html": [
       "<pre style=\"white-space:pre;overflow-x:auto;line-height:normal;font-family:Menlo,'DejaVu Sans Mono',consolas,'Courier New',monospace\"><span style=\"background-color: #000080\">    </span><span style=\"background-color: #00ff00\">  </span><span style=\"background-color: #ff0000\">  </span><span style=\"background-color: #000080\">  </span>  [4, 4, 9, 8, 4]\n",
       "<span style=\"background-color: #000080\">    </span><span style=\"background-color: #00ff00\">  </span><span style=\"background-color: #000080\">    </span>  [4, 4, 9, 4, 4]\n",
       "<span style=\"background-color: #000080\">  </span><span style=\"background-color: #000000\">  </span><span style=\"background-color: #00ff00\">  </span><span style=\"background-color: #000080\">    </span>  [4, 0, 9, 4, 4]\n",
       "\n",
       "</pre>\n"
      ],
      "text/plain": [
       "\u001b[44m  \u001b[0m\u001b[44m  \u001b[0m\u001b[102m  \u001b[0m\u001b[101m  \u001b[0m\u001b[44m  \u001b[0m  [4, 4, 9, 8, 4]\n",
       "\u001b[44m  \u001b[0m\u001b[44m  \u001b[0m\u001b[102m  \u001b[0m\u001b[44m  \u001b[0m\u001b[44m  \u001b[0m  [4, 4, 9, 4, 4]\n",
       "\u001b[44m  \u001b[0m\u001b[40m  \u001b[0m\u001b[102m  \u001b[0m\u001b[44m  \u001b[0m\u001b[44m  \u001b[0m  [4, 0, 9, 4, 4]\n",
       "\n"
      ]
     },
     "metadata": {},
     "output_type": "display_data"
    },
    {
     "name": "stdout",
     "output_type": "stream",
     "text": [
      "Predict output\n",
      "<|im_start|>system\n",
      "You are an expert for solving logical puzzles. You are given some pairs of input and output as 2D grid with the same underlying spatial pattern between them. You have to logically infer the exact rule that transforms each input to the corresponding output.\n",
      "<|im_end|>\n",
      "<|im_start|>user\n",
      "Here are the example input and output pairs from which you should learn the underlying rule to later predict the output for the given test input:\n",
      "----------------------------------------\n",
      "input:\n",
      "27822\n",
      "72822\n",
      "22852\n",
      "27822\n",
      "22852\n",
      "22822\n",
      "22825\n",
      "output:\n",
      "24\n",
      "42\n",
      "42\n",
      "24\n",
      "42\n",
      "22\n",
      "24\n",
      "\n",
      "input:\n",
      "86562\n",
      "88522\n",
      "88522\n",
      "88522\n",
      "output:\n",
      "44\n",
      "66\n",
      "66\n",
      "66\n",
      "\n",
      "input:\n",
      "1111\n",
      "1711\n",
      "1111\n",
      "1171\n",
      "2222\n",
      "6666\n",
      "6666\n",
      "6661\n",
      "1666\n",
      "output:\n",
      "4444\n",
      "4144\n",
      "4441\n",
      "1414\n",
      "\n",
      "\n",
      "----------------------------------------\n",
      "Now, solve the following puzzle based on its input grid by applying the rules you have learned from the training data.:\n",
      "----------------------------------------\n",
      "input:\n",
      "10511\n",
      "11511\n",
      "11521\n",
      "\n",
      "----------------------------------------\n",
      "What is the output grid? Only provide the output grid in the form as in the example input and output pairs. Do not provide any additional information:\n",
      "<|im_end|>\n",
      "<|im_start|>assistant\n",
      "\n",
      "output:\n",
      "444\n",
      "444\n",
      "444\n",
      "<|im_end|>\n",
      "[[4, 4, 4], [4, 4, 4], [4, 4, 4]]\n",
      "[[3 3 3]\n",
      " [3 3 3]\n",
      " [3 3 3]]\n"
     ]
    },
    {
     "data": {
      "text/html": [
       "<pre style=\"white-space:pre;overflow-x:auto;line-height:normal;font-family:Menlo,'DejaVu Sans Mono',consolas,'Courier New',monospace\"><span style=\"background-color: #808000\">      </span>  [3 3 3]\n",
       "<span style=\"background-color: #808000\">      </span>  [3 3 3]\n",
       "<span style=\"background-color: #808000\">      </span>  [3 3 3]\n",
       "\n",
       "</pre>\n"
      ],
      "text/plain": [
       "\u001b[43m  \u001b[0m\u001b[43m  \u001b[0m\u001b[43m  \u001b[0m  [3 3 3]\n",
       "\u001b[43m  \u001b[0m\u001b[43m  \u001b[0m\u001b[43m  \u001b[0m  [3 3 3]\n",
       "\u001b[43m  \u001b[0m\u001b[43m  \u001b[0m\u001b[43m  \u001b[0m  [3 3 3]\n",
       "\n"
      ]
     },
     "metadata": {},
     "output_type": "display_data"
    },
    {
     "name": "stdout",
     "output_type": "stream",
     "text": [
      "Test output\n"
     ]
    },
    {
     "data": {
      "text/html": [
       "<pre style=\"white-space:pre;overflow-x:auto;line-height:normal;font-family:Menlo,'DejaVu Sans Mono',consolas,'Courier New',monospace\"><span style=\"background-color: #808000\">  </span><span style=\"background-color: #000080\">  </span>  [3, 4]\n",
       "<span style=\"background-color: #000080\">    </span>  [4, 4]\n",
       "<span style=\"background-color: #000080\">  </span><span style=\"background-color: #808000\">  </span>  [4, 3]\n",
       "\n",
       "</pre>\n"
      ],
      "text/plain": [
       "\u001b[43m  \u001b[0m\u001b[44m  \u001b[0m  [3, 4]\n",
       "\u001b[44m  \u001b[0m\u001b[44m  \u001b[0m  [4, 4]\n",
       "\u001b[44m  \u001b[0m\u001b[43m  \u001b[0m  [4, 3]\n",
       "\n"
      ]
     },
     "metadata": {},
     "output_type": "display_data"
    },
    {
     "name": "stdout",
     "output_type": "stream",
     "text": [
      "============================================\n",
      "============================================\n",
      "Test input\n"
     ]
    },
    {
     "data": {
      "text/html": [
       "<pre style=\"white-space:pre;overflow-x:auto;line-height:normal;font-family:Menlo,'DejaVu Sans Mono',consolas,'Courier New',monospace\"><span style=\"background-color: #800080\">    </span>  [5, 5]\n",
       "<span style=\"background-color: #800080\">    </span>  [5, 5]\n",
       "<span style=\"background-color: #008000\">  </span><span style=\"background-color: #800080\">  </span>  [2, 5]\n",
       "\n",
       "</pre>\n"
      ],
      "text/plain": [
       "\u001b[45m  \u001b[0m\u001b[45m  \u001b[0m  [5, 5]\n",
       "\u001b[45m  \u001b[0m\u001b[45m  \u001b[0m  [5, 5]\n",
       "\u001b[42m  \u001b[0m\u001b[45m  \u001b[0m  [2, 5]\n",
       "\n"
      ]
     },
     "metadata": {},
     "output_type": "display_data"
    },
    {
     "name": "stdout",
     "output_type": "stream",
     "text": [
      "Predict output\n",
      "<|im_start|>system\n",
      "You are an expert for solving logical puzzles. You are given some pairs of input and output as 2D grid with the same underlying spatial pattern between them. You have to logically infer the exact rule that transforms each input to the corresponding output.\n",
      "<|im_end|>\n",
      "<|im_start|>user\n",
      "Here are the example input and output pairs from which you should learn the underlying rule to later predict the output for the given test input:\n",
      "----------------------------------------\n",
      "input:\n",
      "55555\n",
      "55555\n",
      "07552\n",
      "75555\n",
      "55555\n",
      "output:\n",
      "5555555555\n",
      "4444444445\n",
      "0755207552\n",
      "7444474445\n",
      "5455454555\n",
      "5555555555\n",
      "4444444445\n",
      "0755207552\n",
      "7444474445\n",
      "5455454555\n",
      "\n",
      "input:\n",
      "999\n",
      "999\n",
      "997\n",
      "999\n",
      "999\n",
      "output:\n",
      "999999\n",
      "949449\n",
      "997997\n",
      "949449\n",
      "999999\n",
      "999999\n",
      "949449\n",
      "997997\n",
      "949449\n",
      "999999\n",
      "\n",
      "input:\n",
      "2522\n",
      "2222\n",
      "1222\n",
      "2222\n",
      "output:\n",
      "25222522\n",
      "44444442\n",
      "12221222\n",
      "44444442\n",
      "25222522\n",
      "44444442\n",
      "12221222\n",
      "24242422\n",
      "\n",
      "\n",
      "----------------------------------------\n",
      "Now, solve the following puzzle based on its input grid by applying the rules you have learned from the training data.:\n",
      "----------------------------------------\n",
      "input:\n",
      "88\n",
      "88\n",
      "86\n",
      "\n",
      "----------------------------------------\n",
      "What is the output grid? Only provide the output grid in the form as in the example input and output pairs. Do not provide any additional information:\n",
      "<|im_end|>\n",
      "<|im_start|>assistant\n",
      "\n",
      "output:\n",
      "8888\n",
      "4444\n",
      "8686\n",
      "4444\n",
      "8888\n",
      "4444\n",
      "8686\n",
      "<|im_end|>\n",
      "[[8, 8, 8, 8], [4, 4, 4, 4], [8, 6, 8, 6], [4, 4, 4, 4], [8, 8, 8, 8], [4, 4, 4, 4], [8, 6, 8, 6]]\n",
      "[[5 5 5 5]\n",
      " [8 8 8 8]\n",
      " [2 5 2 5]\n",
      " [8 8 8 8]\n",
      " [5 5 5 5]\n",
      " [8 8 8 8]\n",
      " [2 5 2 5]]\n"
     ]
    },
    {
     "data": {
      "text/html": [
       "<pre style=\"white-space:pre;overflow-x:auto;line-height:normal;font-family:Menlo,'DejaVu Sans Mono',consolas,'Courier New',monospace\"><span style=\"background-color: #800080\">        </span>  [5 5 5 5]\n",
       "<span style=\"background-color: #ff0000\">        </span>  [8 8 8 8]\n",
       "<span style=\"background-color: #008000\">  </span><span style=\"background-color: #800080\">  </span><span style=\"background-color: #008000\">  </span><span style=\"background-color: #800080\">  </span>  [2 5 2 5]\n",
       "<span style=\"background-color: #ff0000\">        </span>  [8 8 8 8]\n",
       "<span style=\"background-color: #800080\">        </span>  [5 5 5 5]\n",
       "<span style=\"background-color: #ff0000\">        </span>  [8 8 8 8]\n",
       "<span style=\"background-color: #008000\">  </span><span style=\"background-color: #800080\">  </span><span style=\"background-color: #008000\">  </span><span style=\"background-color: #800080\">  </span>  [2 5 2 5]\n",
       "\n",
       "</pre>\n"
      ],
      "text/plain": [
       "\u001b[45m  \u001b[0m\u001b[45m  \u001b[0m\u001b[45m  \u001b[0m\u001b[45m  \u001b[0m  [5 5 5 5]\n",
       "\u001b[101m  \u001b[0m\u001b[101m  \u001b[0m\u001b[101m  \u001b[0m\u001b[101m  \u001b[0m  [8 8 8 8]\n",
       "\u001b[42m  \u001b[0m\u001b[45m  \u001b[0m\u001b[42m  \u001b[0m\u001b[45m  \u001b[0m  [2 5 2 5]\n",
       "\u001b[101m  \u001b[0m\u001b[101m  \u001b[0m\u001b[101m  \u001b[0m\u001b[101m  \u001b[0m  [8 8 8 8]\n",
       "\u001b[45m  \u001b[0m\u001b[45m  \u001b[0m\u001b[45m  \u001b[0m\u001b[45m  \u001b[0m  [5 5 5 5]\n",
       "\u001b[101m  \u001b[0m\u001b[101m  \u001b[0m\u001b[101m  \u001b[0m\u001b[101m  \u001b[0m  [8 8 8 8]\n",
       "\u001b[42m  \u001b[0m\u001b[45m  \u001b[0m\u001b[42m  \u001b[0m\u001b[45m  \u001b[0m  [2 5 2 5]\n",
       "\n"
      ]
     },
     "metadata": {},
     "output_type": "display_data"
    },
    {
     "name": "stdout",
     "output_type": "stream",
     "text": [
      "Test output\n"
     ]
    },
    {
     "data": {
      "text/html": [
       "<pre style=\"white-space:pre;overflow-x:auto;line-height:normal;font-family:Menlo,'DejaVu Sans Mono',consolas,'Courier New',monospace\"><span style=\"background-color: #800080\">        </span>  [5, 5, 5, 5]\n",
       "<span style=\"background-color: #800080\">  </span><span style=\"background-color: #ff0000\">  </span><span style=\"background-color: #800080\">  </span><span style=\"background-color: #ff0000\">  </span>  [5, 8, 5, 8]\n",
       "<span style=\"background-color: #008000\">  </span><span style=\"background-color: #800080\">  </span><span style=\"background-color: #008000\">  </span><span style=\"background-color: #800080\">  </span>  [2, 5, 2, 5]\n",
       "<span style=\"background-color: #800080\">  </span><span style=\"background-color: #ff0000\">  </span><span style=\"background-color: #800080\">  </span><span style=\"background-color: #ff0000\">  </span>  [5, 8, 5, 8]\n",
       "<span style=\"background-color: #800080\">  </span><span style=\"background-color: #ff0000\">  </span><span style=\"background-color: #800080\">  </span><span style=\"background-color: #ff0000\">  </span>  [5, 8, 5, 8]\n",
       "<span style=\"background-color: #008000\">  </span><span style=\"background-color: #800080\">  </span><span style=\"background-color: #008000\">  </span><span style=\"background-color: #800080\">  </span>  [2, 5, 2, 5]\n",
       "\n",
       "</pre>\n"
      ],
      "text/plain": [
       "\u001b[45m  \u001b[0m\u001b[45m  \u001b[0m\u001b[45m  \u001b[0m\u001b[45m  \u001b[0m  [5, 5, 5, 5]\n",
       "\u001b[45m  \u001b[0m\u001b[101m  \u001b[0m\u001b[45m  \u001b[0m\u001b[101m  \u001b[0m  [5, 8, 5, 8]\n",
       "\u001b[42m  \u001b[0m\u001b[45m  \u001b[0m\u001b[42m  \u001b[0m\u001b[45m  \u001b[0m  [2, 5, 2, 5]\n",
       "\u001b[45m  \u001b[0m\u001b[101m  \u001b[0m\u001b[45m  \u001b[0m\u001b[101m  \u001b[0m  [5, 8, 5, 8]\n",
       "\u001b[45m  \u001b[0m\u001b[101m  \u001b[0m\u001b[45m  \u001b[0m\u001b[101m  \u001b[0m  [5, 8, 5, 8]\n",
       "\u001b[42m  \u001b[0m\u001b[45m  \u001b[0m\u001b[42m  \u001b[0m\u001b[45m  \u001b[0m  [2, 5, 2, 5]\n",
       "\n"
      ]
     },
     "metadata": {},
     "output_type": "display_data"
    },
    {
     "name": "stdout",
     "output_type": "stream",
     "text": [
      "============================================\n",
      "============================================\n",
      "Test input\n"
     ]
    },
    {
     "data": {
      "text/html": [
       "<pre style=\"white-space:pre;overflow-x:auto;line-height:normal;font-family:Menlo,'DejaVu Sans Mono',consolas,'Courier New',monospace\"><span style=\"background-color: #000000\">  </span><span style=\"background-color: #00ff00\">  </span><span style=\"background-color: #000000\">  </span>  [0, 9, 0]\n",
       "<span style=\"background-color: #000000\">  </span><span style=\"background-color: #00ff00\">  </span><span style=\"background-color: #000000\">  </span>  [0, 9, 0]\n",
       "<span style=\"background-color: #ff0000\">      </span>  [8, 8, 8]\n",
       "<span style=\"background-color: #000000\">    </span><span style=\"background-color: #800000\">  </span>  [0, 0, 1]\n",
       "<span style=\"background-color: #800000\">  </span><span style=\"background-color: #000000\">  </span><span style=\"background-color: #800000\">  </span>  [1, 0, 1]\n",
       "\n",
       "</pre>\n"
      ],
      "text/plain": [
       "\u001b[40m  \u001b[0m\u001b[102m  \u001b[0m\u001b[40m  \u001b[0m  [0, 9, 0]\n",
       "\u001b[40m  \u001b[0m\u001b[102m  \u001b[0m\u001b[40m  \u001b[0m  [0, 9, 0]\n",
       "\u001b[101m  \u001b[0m\u001b[101m  \u001b[0m\u001b[101m  \u001b[0m  [8, 8, 8]\n",
       "\u001b[40m  \u001b[0m\u001b[40m  \u001b[0m\u001b[41m  \u001b[0m  [0, 0, 1]\n",
       "\u001b[41m  \u001b[0m\u001b[40m  \u001b[0m\u001b[41m  \u001b[0m  [1, 0, 1]\n",
       "\n"
      ]
     },
     "metadata": {},
     "output_type": "display_data"
    },
    {
     "name": "stdout",
     "output_type": "stream",
     "text": [
      "Predict output\n",
      "<|im_start|>system\n",
      "You are an expert for solving logical puzzles. You are given some pairs of input and output as 2D grid with the same underlying spatial pattern between them. You have to logically infer the exact rule that transforms each input to the corresponding output.\n",
      "<|im_end|>\n",
      "<|im_start|>user\n",
      "Here are the example input and output pairs from which you should learn the underlying rule to later predict the output for the given test input:\n",
      "----------------------------------------\n",
      "input:\n",
      "6662666\n",
      "6332336\n",
      "6662666\n",
      "output:\n",
      "999\n",
      "333\n",
      "999\n",
      "\n",
      "input:\n",
      "444427777\n",
      "444427737\n",
      "444423777\n",
      "444427777\n",
      "444423333\n",
      "443427377\n",
      "444427777\n",
      "344427373\n",
      "444427777\n",
      "output:\n",
      "9999\n",
      "9939\n",
      "3999\n",
      "9999\n",
      "3333\n",
      "9339\n",
      "9999\n",
      "3393\n",
      "9999\n",
      "\n",
      "input:\n",
      "7335444\n",
      "3335444\n",
      "7775443\n",
      "7775434\n",
      "3775344\n",
      "output:\n",
      "933\n",
      "333\n",
      "993\n",
      "939\n",
      "399\n",
      "\n",
      "\n",
      "----------------------------------------\n",
      "Now, solve the following puzzle based on its input grid by applying the rules you have learned from the training data.:\n",
      "----------------------------------------\n",
      "input:\n",
      "83633\n",
      "33655\n",
      "88633\n",
      "\n",
      "----------------------------------------\n",
      "What is the output grid? Only provide the output grid in the form as in the example input and output pairs. Do not provide any additional information:\n",
      "<|im_end|>\n",
      "<|im_start|>assistant\n",
      "\n",
      "output:\n",
      "939\n",
      "339\n",
      "999\n",
      "<|im_end|>\n",
      "[[9, 3, 9], [3, 3, 9], [9, 9, 9]]\n",
      "[[2 2 2]\n",
      " [0 0 2]\n",
      " [2 0 2]]\n"
     ]
    },
    {
     "data": {
      "text/html": [
       "<pre style=\"white-space:pre;overflow-x:auto;line-height:normal;font-family:Menlo,'DejaVu Sans Mono',consolas,'Courier New',monospace\"><span style=\"background-color: #008000\">      </span>  [2 2 2]\n",
       "<span style=\"background-color: #000000\">    </span><span style=\"background-color: #008000\">  </span>  [0 0 2]\n",
       "<span style=\"background-color: #008000\">  </span><span style=\"background-color: #000000\">  </span><span style=\"background-color: #008000\">  </span>  [2 0 2]\n",
       "\n",
       "</pre>\n"
      ],
      "text/plain": [
       "\u001b[42m  \u001b[0m\u001b[42m  \u001b[0m\u001b[42m  \u001b[0m  [2 2 2]\n",
       "\u001b[40m  \u001b[0m\u001b[40m  \u001b[0m\u001b[42m  \u001b[0m  [0 0 2]\n",
       "\u001b[42m  \u001b[0m\u001b[40m  \u001b[0m\u001b[42m  \u001b[0m  [2 0 2]\n",
       "\n"
      ]
     },
     "metadata": {},
     "output_type": "display_data"
    },
    {
     "name": "stdout",
     "output_type": "stream",
     "text": [
      "Test output\n"
     ]
    },
    {
     "data": {
      "text/html": [
       "<pre style=\"white-space:pre;overflow-x:auto;line-height:normal;font-family:Menlo,'DejaVu Sans Mono',consolas,'Courier New',monospace\"><span style=\"background-color: #000000\">      </span>  [0, 0, 0]\n",
       "<span style=\"background-color: #000000\">      </span>  [0, 0, 0]\n",
       "\n",
       "</pre>\n"
      ],
      "text/plain": [
       "\u001b[40m  \u001b[0m\u001b[40m  \u001b[0m\u001b[40m  \u001b[0m  [0, 0, 0]\n",
       "\u001b[40m  \u001b[0m\u001b[40m  \u001b[0m\u001b[40m  \u001b[0m  [0, 0, 0]\n",
       "\n"
      ]
     },
     "metadata": {},
     "output_type": "display_data"
    },
    {
     "name": "stdout",
     "output_type": "stream",
     "text": [
      "============================================\n",
      "============================================\n",
      "Test input\n"
     ]
    },
    {
     "data": {
      "text/html": [
       "<pre style=\"white-space:pre;overflow-x:auto;line-height:normal;font-family:Menlo,'DejaVu Sans Mono',consolas,'Courier New',monospace\"><span style=\"background-color: #800000\">  </span><span style=\"background-color: #000080\">  </span><span style=\"background-color: #800000\">  </span><span style=\"background-color: #000000\">  </span><span style=\"background-color: #800000\">            </span>  [1, 4, 1, 0, 1, 1, 1, 1, 1, 1]\n",
       "<span style=\"background-color: #800000\">  </span><span style=\"background-color: #000080\">  </span><span style=\"background-color: #800000\">  </span><span style=\"background-color: #000000\">  </span><span style=\"background-color: #800000\">            </span>  [1, 4, 1, 0, 1, 1, 1, 1, 1, 1]\n",
       "<span style=\"background-color: #800000\">  </span><span style=\"background-color: #000080\">  </span><span style=\"background-color: #800000\">  </span><span style=\"background-color: #000000\">  </span><span style=\"background-color: #800000\">            </span>  [1, 4, 1, 0, 1, 1, 1, 1, 1, 1]\n",
       "<span style=\"background-color: #008000\">  </span><span style=\"background-color: #000080\">  </span><span style=\"background-color: #008000\">                </span>  [2, 4, 2, 2, 2, 2, 2, 2, 2, 2]\n",
       "<span style=\"background-color: #800000\">  </span><span style=\"background-color: #000080\">  </span><span style=\"background-color: #800000\">  </span><span style=\"background-color: #000000\">  </span><span style=\"background-color: #800000\">            </span>  [1, 4, 1, 0, 1, 1, 1, 1, 1, 1]\n",
       "<span style=\"background-color: #800000\">  </span><span style=\"background-color: #000080\">  </span><span style=\"background-color: #800000\">  </span><span style=\"background-color: #000000\">  </span><span style=\"background-color: #800000\">    </span><span style=\"background-color: #ff0000\">      </span><span style=\"background-color: #800000\">  </span>  [1, 4, 1, 0, 1, 1, 8, 8, 8, 1]\n",
       "<span style=\"background-color: #800000\">  </span><span style=\"background-color: #000080\">  </span><span style=\"background-color: #800000\">  </span><span style=\"background-color: #000000\">  </span><span style=\"background-color: #800000\">    </span><span style=\"background-color: #ff0000\">  </span><span style=\"background-color: #800000\">  </span><span style=\"background-color: #ff0000\">  </span><span style=\"background-color: #800000\">  </span>  [1, 4, 1, 0, 1, 1, 8, 1, 8, 1]\n",
       "<span style=\"background-color: #800000\">  </span><span style=\"background-color: #000080\">  </span><span style=\"background-color: #800000\">  </span><span style=\"background-color: #000000\">  </span><span style=\"background-color: #800000\">    </span><span style=\"background-color: #ff0000\">      </span><span style=\"background-color: #800000\">  </span>  [1, 4, 1, 0, 1, 1, 8, 8, 8, 1]\n",
       "<span style=\"background-color: #800000\">  </span><span style=\"background-color: #000080\">  </span><span style=\"background-color: #800000\">  </span><span style=\"background-color: #000000\">  </span><span style=\"background-color: #800000\">            </span>  [1, 4, 1, 0, 1, 1, 1, 1, 1, 1]\n",
       "\n",
       "</pre>\n"
      ],
      "text/plain": [
       "\u001b[41m  \u001b[0m\u001b[44m  \u001b[0m\u001b[41m  \u001b[0m\u001b[40m  \u001b[0m\u001b[41m  \u001b[0m\u001b[41m  \u001b[0m\u001b[41m  \u001b[0m\u001b[41m  \u001b[0m\u001b[41m  \u001b[0m\u001b[41m  \u001b[0m  [1, 4, 1, 0, 1, 1, 1, 1, 1, 1]\n",
       "\u001b[41m  \u001b[0m\u001b[44m  \u001b[0m\u001b[41m  \u001b[0m\u001b[40m  \u001b[0m\u001b[41m  \u001b[0m\u001b[41m  \u001b[0m\u001b[41m  \u001b[0m\u001b[41m  \u001b[0m\u001b[41m  \u001b[0m\u001b[41m  \u001b[0m  [1, 4, 1, 0, 1, 1, 1, 1, 1, 1]\n",
       "\u001b[41m  \u001b[0m\u001b[44m  \u001b[0m\u001b[41m  \u001b[0m\u001b[40m  \u001b[0m\u001b[41m  \u001b[0m\u001b[41m  \u001b[0m\u001b[41m  \u001b[0m\u001b[41m  \u001b[0m\u001b[41m  \u001b[0m\u001b[41m  \u001b[0m  [1, 4, 1, 0, 1, 1, 1, 1, 1, 1]\n",
       "\u001b[42m  \u001b[0m\u001b[44m  \u001b[0m\u001b[42m  \u001b[0m\u001b[42m  \u001b[0m\u001b[42m  \u001b[0m\u001b[42m  \u001b[0m\u001b[42m  \u001b[0m\u001b[42m  \u001b[0m\u001b[42m  \u001b[0m\u001b[42m  \u001b[0m  [2, 4, 2, 2, 2, 2, 2, 2, 2, 2]\n",
       "\u001b[41m  \u001b[0m\u001b[44m  \u001b[0m\u001b[41m  \u001b[0m\u001b[40m  \u001b[0m\u001b[41m  \u001b[0m\u001b[41m  \u001b[0m\u001b[41m  \u001b[0m\u001b[41m  \u001b[0m\u001b[41m  \u001b[0m\u001b[41m  \u001b[0m  [1, 4, 1, 0, 1, 1, 1, 1, 1, 1]\n",
       "\u001b[41m  \u001b[0m\u001b[44m  \u001b[0m\u001b[41m  \u001b[0m\u001b[40m  \u001b[0m\u001b[41m  \u001b[0m\u001b[41m  \u001b[0m\u001b[101m  \u001b[0m\u001b[101m  \u001b[0m\u001b[101m  \u001b[0m\u001b[41m  \u001b[0m  [1, 4, 1, 0, 1, 1, 8, 8, 8, 1]\n",
       "\u001b[41m  \u001b[0m\u001b[44m  \u001b[0m\u001b[41m  \u001b[0m\u001b[40m  \u001b[0m\u001b[41m  \u001b[0m\u001b[41m  \u001b[0m\u001b[101m  \u001b[0m\u001b[41m  \u001b[0m\u001b[101m  \u001b[0m\u001b[41m  \u001b[0m  [1, 4, 1, 0, 1, 1, 8, 1, 8, 1]\n",
       "\u001b[41m  \u001b[0m\u001b[44m  \u001b[0m\u001b[41m  \u001b[0m\u001b[40m  \u001b[0m\u001b[41m  \u001b[0m\u001b[41m  \u001b[0m\u001b[101m  \u001b[0m\u001b[101m  \u001b[0m\u001b[101m  \u001b[0m\u001b[41m  \u001b[0m  [1, 4, 1, 0, 1, 1, 8, 8, 8, 1]\n",
       "\u001b[41m  \u001b[0m\u001b[44m  \u001b[0m\u001b[41m  \u001b[0m\u001b[40m  \u001b[0m\u001b[41m  \u001b[0m\u001b[41m  \u001b[0m\u001b[41m  \u001b[0m\u001b[41m  \u001b[0m\u001b[41m  \u001b[0m\u001b[41m  \u001b[0m  [1, 4, 1, 0, 1, 1, 1, 1, 1, 1]\n",
       "\n"
      ]
     },
     "metadata": {},
     "output_type": "display_data"
    },
    {
     "name": "stdout",
     "output_type": "stream",
     "text": [
      "Predict output\n",
      "<|im_start|>system\n",
      "You are an expert for solving logical puzzles. You are given some pairs of input and output as 2D grid with the same underlying spatial pattern between them. You have to logically infer the exact rule that transforms each input to the corresponding output.\n",
      "<|im_end|>\n",
      "<|im_start|>user\n",
      "Here are the example input and output pairs from which you should learn the underlying rule to later predict the output for the given test input:\n",
      "----------------------------------------\n",
      "input:\n",
      "648494\n",
      "670007\n",
      "640404\n",
      "640004\n",
      "648494\n",
      "633393\n",
      "648494\n",
      "688898\n",
      "output:\n",
      "000\n",
      "040\n",
      "000\n",
      "\n",
      "input:\n",
      "93899\n",
      "93899\n",
      "93899\n",
      "93899\n",
      "93899\n",
      "11111\n",
      "96669\n",
      "76867\n",
      "96669\n",
      "73877\n",
      "output:\n",
      "666\n",
      "686\n",
      "666\n",
      "\n",
      "input:\n",
      "355555582\n",
      "333366682\n",
      "222262622\n",
      "355566682\n",
      "355555582\n",
      "355555582\n",
      "355555582\n",
      "output:\n",
      "666\n",
      "626\n",
      "666\n",
      "\n",
      "\n",
      "----------------------------------------\n",
      "Now, solve the following puzzle based on its input grid by applying the rules you have learned from the training data.:\n",
      "----------------------------------------\n",
      "input:\n",
      "777772777\n",
      "444444444\n",
      "777772777\n",
      "666662666\n",
      "777772777\n",
      "777772777\n",
      "733372777\n",
      "737372777\n",
      "733372777\n",
      "777772777\n",
      "\n",
      "----------------------------------------\n",
      "What is the output grid? Only provide the output grid in the form as in the example input and output pairs. Do not provide any additional information:\n",
      "<|im_end|>\n",
      "<|im_start|>assistant\n",
      "\n",
      "output:\n",
      "666\n",
      "626\n",
      "666\n",
      "<|im_end|>\n",
      "[[6, 6, 6], [6, 2, 6], [6, 6, 6]]\n",
      "[[0 0 0]\n",
      " [0 2 0]\n",
      " [0 0 0]]\n"
     ]
    },
    {
     "data": {
      "text/html": [
       "<pre style=\"white-space:pre;overflow-x:auto;line-height:normal;font-family:Menlo,'DejaVu Sans Mono',consolas,'Courier New',monospace\"><span style=\"background-color: #000000\">      </span>  [0 0 0]\n",
       "<span style=\"background-color: #000000\">  </span><span style=\"background-color: #008000\">  </span><span style=\"background-color: #000000\">  </span>  [0 2 0]\n",
       "<span style=\"background-color: #000000\">      </span>  [0 0 0]\n",
       "\n",
       "</pre>\n"
      ],
      "text/plain": [
       "\u001b[40m  \u001b[0m\u001b[40m  \u001b[0m\u001b[40m  \u001b[0m  [0 0 0]\n",
       "\u001b[40m  \u001b[0m\u001b[42m  \u001b[0m\u001b[40m  \u001b[0m  [0 2 0]\n",
       "\u001b[40m  \u001b[0m\u001b[40m  \u001b[0m\u001b[40m  \u001b[0m  [0 0 0]\n",
       "\n"
      ]
     },
     "metadata": {},
     "output_type": "display_data"
    },
    {
     "name": "stdout",
     "output_type": "stream",
     "text": [
      "Test output\n"
     ]
    },
    {
     "data": {
      "text/html": [
       "<pre style=\"white-space:pre;overflow-x:auto;line-height:normal;font-family:Menlo,'DejaVu Sans Mono',consolas,'Courier New',monospace\"><span style=\"background-color: #ff0000\">      </span>  [8, 8, 8]\n",
       "<span style=\"background-color: #ff0000\">  </span><span style=\"background-color: #800000\">  </span><span style=\"background-color: #ff0000\">  </span>  [8, 1, 8]\n",
       "<span style=\"background-color: #ff0000\">      </span>  [8, 8, 8]\n",
       "\n",
       "</pre>\n"
      ],
      "text/plain": [
       "\u001b[101m  \u001b[0m\u001b[101m  \u001b[0m\u001b[101m  \u001b[0m  [8, 8, 8]\n",
       "\u001b[101m  \u001b[0m\u001b[41m  \u001b[0m\u001b[101m  \u001b[0m  [8, 1, 8]\n",
       "\u001b[101m  \u001b[0m\u001b[101m  \u001b[0m\u001b[101m  \u001b[0m  [8, 8, 8]\n",
       "\n"
      ]
     },
     "metadata": {},
     "output_type": "display_data"
    },
    {
     "name": "stdout",
     "output_type": "stream",
     "text": [
      "============================================\n",
      "============================================\n",
      "Test input\n"
     ]
    },
    {
     "data": {
      "text/html": [
       "<pre style=\"white-space:pre;overflow-x:auto;line-height:normal;font-family:Menlo,'DejaVu Sans Mono',consolas,'Courier New',monospace\"><span style=\"background-color: #008080\">      </span>  [6, 6, 6]\n",
       "<span style=\"background-color: #008080\">      </span>  [6, 6, 6]\n",
       "<span style=\"background-color: #000080\">    </span><span style=\"background-color: #008080\">  </span>  [4, 4, 6]\n",
       "<span style=\"background-color: #000080\">    </span><span style=\"background-color: #008080\">  </span>  [4, 4, 6]\n",
       "<span style=\"background-color: #000080\">    </span><span style=\"background-color: #008080\">  </span>  [4, 4, 6]\n",
       "\n",
       "</pre>\n"
      ],
      "text/plain": [
       "\u001b[46m  \u001b[0m\u001b[46m  \u001b[0m\u001b[46m  \u001b[0m  [6, 6, 6]\n",
       "\u001b[46m  \u001b[0m\u001b[46m  \u001b[0m\u001b[46m  \u001b[0m  [6, 6, 6]\n",
       "\u001b[44m  \u001b[0m\u001b[44m  \u001b[0m\u001b[46m  \u001b[0m  [4, 4, 6]\n",
       "\u001b[44m  \u001b[0m\u001b[44m  \u001b[0m\u001b[46m  \u001b[0m  [4, 4, 6]\n",
       "\u001b[44m  \u001b[0m\u001b[44m  \u001b[0m\u001b[46m  \u001b[0m  [4, 4, 6]\n",
       "\n"
      ]
     },
     "metadata": {},
     "output_type": "display_data"
    },
    {
     "name": "stdout",
     "output_type": "stream",
     "text": [
      "Predict output\n",
      "<|im_start|>system\n",
      "You are an expert for solving logical puzzles. You are given some pairs of input and output as 2D grid with the same underlying spatial pattern between them. You have to logically infer the exact rule that transforms each input to the corresponding output.\n",
      "<|im_end|>\n",
      "<|im_start|>user\n",
      "Here are the example input and output pairs from which you should learn the underlying rule to later predict the output for the given test input:\n",
      "----------------------------------------\n",
      "input:\n",
      "5555555555\n",
      "5555555555\n",
      "5555555555\n",
      "5555555555\n",
      "5555555555\n",
      "5555555555\n",
      "5555555555\n",
      "5555556666\n",
      "5555555555\n",
      "output:\n",
      "66666666\n",
      "\n",
      "input:\n",
      "7777777777\n",
      "7777007077\n",
      "7777000077\n",
      "7777007077\n",
      "7777000077\n",
      "7777000077\n",
      "7777000077\n",
      "7777000077\n",
      "7777777777\n",
      "output:\n",
      "00700070\n",
      "00000000\n",
      "00700070\n",
      "00000000\n",
      "00000000\n",
      "00000000\n",
      "00000000\n",
      "\n",
      "input:\n",
      "8888888888\n",
      "8888888888\n",
      "8888888888\n",
      "8888888888\n",
      "8888888888\n",
      "8888888888\n",
      "8888888888\n",
      "8888488888\n",
      "8888488888\n",
      "output:\n",
      "44\n",
      "44\n",
      "\n",
      "\n",
      "----------------------------------------\n",
      "Now, solve the following puzzle based on its input grid by applying the rules you have learned from the training data.:\n",
      "----------------------------------------\n",
      "input:\n",
      "775\n",
      "775\n",
      "775\n",
      "555\n",
      "555\n",
      "\n",
      "----------------------------------------\n",
      "What is the output grid? Only provide the output grid in the form as in the example input and output pairs. Do not provide any additional information:\n",
      "<|im_end|>\n",
      "<|im_start|>assistant\n",
      "\n",
      "output:\n",
      "77\n",
      "77\n",
      "<|im_end|>\n",
      "[[7, 7], [7, 7]]\n",
      "[[4 4]\n",
      " [4 4]]\n"
     ]
    },
    {
     "data": {
      "text/html": [
       "<pre style=\"white-space:pre;overflow-x:auto;line-height:normal;font-family:Menlo,'DejaVu Sans Mono',consolas,'Courier New',monospace\"><span style=\"background-color: #000080\">    </span>  [4 4]\n",
       "<span style=\"background-color: #000080\">    </span>  [4 4]\n",
       "\n",
       "</pre>\n"
      ],
      "text/plain": [
       "\u001b[44m  \u001b[0m\u001b[44m  \u001b[0m  [4 4]\n",
       "\u001b[44m  \u001b[0m\u001b[44m  \u001b[0m  [4 4]\n",
       "\n"
      ]
     },
     "metadata": {},
     "output_type": "display_data"
    },
    {
     "name": "stdout",
     "output_type": "stream",
     "text": [
      "Test output\n"
     ]
    },
    {
     "data": {
      "text/html": [
       "<pre style=\"white-space:pre;overflow-x:auto;line-height:normal;font-family:Menlo,'DejaVu Sans Mono',consolas,'Courier New',monospace\"><span style=\"background-color: #000080\">        </span>  [4, 4, 4, 4]\n",
       "<span style=\"background-color: #000080\">        </span>  [4, 4, 4, 4]\n",
       "<span style=\"background-color: #000080\">        </span>  [4, 4, 4, 4]\n",
       "\n",
       "</pre>\n"
      ],
      "text/plain": [
       "\u001b[44m  \u001b[0m\u001b[44m  \u001b[0m\u001b[44m  \u001b[0m\u001b[44m  \u001b[0m  [4, 4, 4, 4]\n",
       "\u001b[44m  \u001b[0m\u001b[44m  \u001b[0m\u001b[44m  \u001b[0m\u001b[44m  \u001b[0m  [4, 4, 4, 4]\n",
       "\u001b[44m  \u001b[0m\u001b[44m  \u001b[0m\u001b[44m  \u001b[0m\u001b[44m  \u001b[0m  [4, 4, 4, 4]\n",
       "\n"
      ]
     },
     "metadata": {},
     "output_type": "display_data"
    },
    {
     "name": "stdout",
     "output_type": "stream",
     "text": [
      "============================================\n",
      "============================================\n",
      "Test input\n"
     ]
    },
    {
     "data": {
      "text/html": [
       "<pre style=\"white-space:pre;overflow-x:auto;line-height:normal;font-family:Menlo,'DejaVu Sans Mono',consolas,'Courier New',monospace\"><span style=\"background-color: #00ff00\">        </span>  [9, 9, 9, 9]\n",
       "<span style=\"background-color: #808000\">      </span><span style=\"background-color: #00ff00\">  </span>  [3, 3, 3, 9]\n",
       "<span style=\"background-color: #808000\">      </span><span style=\"background-color: #00ff00\">  </span>  [3, 3, 3, 9]\n",
       "<span style=\"background-color: #ff0000\">  </span><span style=\"background-color: #808000\">    </span><span style=\"background-color: #00ff00\">  </span>  [8, 3, 3, 9]\n",
       "<span style=\"background-color: #808000\">      </span><span style=\"background-color: #00ff00\">  </span>  [3, 3, 3, 9]\n",
       "\n",
       "</pre>\n"
      ],
      "text/plain": [
       "\u001b[102m  \u001b[0m\u001b[102m  \u001b[0m\u001b[102m  \u001b[0m\u001b[102m  \u001b[0m  [9, 9, 9, 9]\n",
       "\u001b[43m  \u001b[0m\u001b[43m  \u001b[0m\u001b[43m  \u001b[0m\u001b[102m  \u001b[0m  [3, 3, 3, 9]\n",
       "\u001b[43m  \u001b[0m\u001b[43m  \u001b[0m\u001b[43m  \u001b[0m\u001b[102m  \u001b[0m  [3, 3, 3, 9]\n",
       "\u001b[101m  \u001b[0m\u001b[43m  \u001b[0m\u001b[43m  \u001b[0m\u001b[102m  \u001b[0m  [8, 3, 3, 9]\n",
       "\u001b[43m  \u001b[0m\u001b[43m  \u001b[0m\u001b[43m  \u001b[0m\u001b[102m  \u001b[0m  [3, 3, 3, 9]\n",
       "\n"
      ]
     },
     "metadata": {},
     "output_type": "display_data"
    },
    {
     "name": "stdout",
     "output_type": "stream",
     "text": [
      "Predict output\n",
      "<|im_start|>system\n",
      "You are an expert for solving logical puzzles. You are given some pairs of input and output as 2D grid with the same underlying spatial pattern between them. You have to logically infer the exact rule that transforms each input to the corresponding output.\n",
      "<|im_end|>\n",
      "<|im_start|>user\n",
      "Here are the example input and output pairs from which you should learn the underlying rule to later predict the output for the given test input:\n",
      "----------------------------------------\n",
      "input:\n",
      "22222\n",
      "23333\n",
      "23444\n",
      "23333\n",
      "output:\n",
      "2222222222\n",
      "2222222222\n",
      "2203333333\n",
      "2230333333\n",
      "2233444444\n",
      "2233444444\n",
      "2230333333\n",
      "2203333333\n",
      "\n",
      "input:\n",
      "371\n",
      "371\n",
      "377\n",
      "377\n",
      "333\n",
      "output:\n",
      "337711\n",
      "337711\n",
      "337711\n",
      "337711\n",
      "337077\n",
      "330777\n",
      "337777\n",
      "337777\n",
      "333333\n",
      "333333\n",
      "\n",
      "input:\n",
      "2171\n",
      "2171\n",
      "2171\n",
      "2111\n",
      "2222\n",
      "output:\n",
      "22117711\n",
      "22117711\n",
      "22117711\n",
      "22117711\n",
      "22117711\n",
      "22117711\n",
      "22101101\n",
      "22011110\n",
      "22222222\n",
      "22222222\n",
      "\n",
      "\n",
      "----------------------------------------\n",
      "Now, solve the following puzzle based on its input grid by applying the rules you have learned from the training data.:\n",
      "----------------------------------------\n",
      "input:\n",
      "44444\n",
      "66664\n",
      "66664\n",
      "61664\n",
      "\n",
      "----------------------------------------\n",
      "What is the output grid? Only provide the output grid in the form as in the example input and output pairs. Do not provide any additional information:\n",
      "<|im_end|>\n",
      "<|im_start|>assistant\n",
      "\n",
      "output:\n",
      "4444444444\n",
      "4444444444\n",
      "4466666664\n",
      "4466666664\n",
      "4466666664\n",
      "4466666664\n",
      "4461666664\n",
      "4466666664\n",
      "4466666664\n",
      "4444444444\n",
      "<|im_end|>\n",
      "[[4, 4, 4, 4, 4, 4, 4, 4, 4, 4], [4, 4, 4, 4, 4, 4, 4, 4, 4, 4], [4, 4, 6, 6, 6, 6, 6, 6, 6, 4], [4, 4, 6, 6, 6, 6, 6, 6, 6, 4], [4, 4, 6, 6, 6, 6, 6, 6, 6, 4], [4, 4, 6, 6, 6, 6, 6, 6, 6, 4], [4, 4, 6, 1, 6, 6, 6, 6, 6, 4], [4, 4, 6, 6, 6, 6, 6, 6, 6, 4], [4, 4, 6, 6, 6, 6, 6, 6, 6, 4], [4, 4, 4, 4, 4, 4, 4, 4, 4, 4]]\n",
      "[[9 9 9 9 9 9 9 9 9 9]\n",
      " [9 3 3 3 3 3 3 3 9 9]\n",
      " [9 3 3 3 3 3 3 3 9 9]\n",
      " [9 3 3 3 3 3 3 3 9 9]\n",
      " [9 3 3 3 3 3 3 3 9 9]\n",
      " [9 3 3 3 3 3 3 3 9 9]\n",
      " [9 3 3 8 3 3 3 3 9 9]\n",
      " [9 3 3 3 3 3 3 3 9 9]\n",
      " [9 9 9 9 9 9 9 9 9 9]\n",
      " [9 9 9 9 9 9 9 9 9 9]]\n"
     ]
    },
    {
     "data": {
      "text/html": [
       "<pre style=\"white-space:pre;overflow-x:auto;line-height:normal;font-family:Menlo,'DejaVu Sans Mono',consolas,'Courier New',monospace\"><span style=\"background-color: #00ff00\">                    </span>  [9 9 9 9 9 9 9 9 9 9]\n",
       "<span style=\"background-color: #00ff00\">  </span><span style=\"background-color: #808000\">              </span><span style=\"background-color: #00ff00\">    </span>  [9 3 3 3 3 3 3 3 9 9]\n",
       "<span style=\"background-color: #00ff00\">  </span><span style=\"background-color: #808000\">              </span><span style=\"background-color: #00ff00\">    </span>  [9 3 3 3 3 3 3 3 9 9]\n",
       "<span style=\"background-color: #00ff00\">  </span><span style=\"background-color: #808000\">              </span><span style=\"background-color: #00ff00\">    </span>  [9 3 3 3 3 3 3 3 9 9]\n",
       "<span style=\"background-color: #00ff00\">  </span><span style=\"background-color: #808000\">              </span><span style=\"background-color: #00ff00\">    </span>  [9 3 3 3 3 3 3 3 9 9]\n",
       "<span style=\"background-color: #00ff00\">  </span><span style=\"background-color: #808000\">              </span><span style=\"background-color: #00ff00\">    </span>  [9 3 3 3 3 3 3 3 9 9]\n",
       "<span style=\"background-color: #00ff00\">  </span><span style=\"background-color: #808000\">    </span><span style=\"background-color: #ff0000\">  </span><span style=\"background-color: #808000\">        </span><span style=\"background-color: #00ff00\">    </span>  [9 3 3 8 3 3 3 3 9 9]\n",
       "<span style=\"background-color: #00ff00\">  </span><span style=\"background-color: #808000\">              </span><span style=\"background-color: #00ff00\">    </span>  [9 3 3 3 3 3 3 3 9 9]\n",
       "<span style=\"background-color: #00ff00\">                    </span>  [9 9 9 9 9 9 9 9 9 9]\n",
       "<span style=\"background-color: #00ff00\">                    </span>  [9 9 9 9 9 9 9 9 9 9]\n",
       "\n",
       "</pre>\n"
      ],
      "text/plain": [
       "\u001b[102m  \u001b[0m\u001b[102m  \u001b[0m\u001b[102m  \u001b[0m\u001b[102m  \u001b[0m\u001b[102m  \u001b[0m\u001b[102m  \u001b[0m\u001b[102m  \u001b[0m\u001b[102m  \u001b[0m\u001b[102m  \u001b[0m\u001b[102m  \u001b[0m  [9 9 9 9 9 9 9 9 9 9]\n",
       "\u001b[102m  \u001b[0m\u001b[43m  \u001b[0m\u001b[43m  \u001b[0m\u001b[43m  \u001b[0m\u001b[43m  \u001b[0m\u001b[43m  \u001b[0m\u001b[43m  \u001b[0m\u001b[43m  \u001b[0m\u001b[102m  \u001b[0m\u001b[102m  \u001b[0m  [9 3 3 3 3 3 3 3 9 9]\n",
       "\u001b[102m  \u001b[0m\u001b[43m  \u001b[0m\u001b[43m  \u001b[0m\u001b[43m  \u001b[0m\u001b[43m  \u001b[0m\u001b[43m  \u001b[0m\u001b[43m  \u001b[0m\u001b[43m  \u001b[0m\u001b[102m  \u001b[0m\u001b[102m  \u001b[0m  [9 3 3 3 3 3 3 3 9 9]\n",
       "\u001b[102m  \u001b[0m\u001b[43m  \u001b[0m\u001b[43m  \u001b[0m\u001b[43m  \u001b[0m\u001b[43m  \u001b[0m\u001b[43m  \u001b[0m\u001b[43m  \u001b[0m\u001b[43m  \u001b[0m\u001b[102m  \u001b[0m\u001b[102m  \u001b[0m  [9 3 3 3 3 3 3 3 9 9]\n",
       "\u001b[102m  \u001b[0m\u001b[43m  \u001b[0m\u001b[43m  \u001b[0m\u001b[43m  \u001b[0m\u001b[43m  \u001b[0m\u001b[43m  \u001b[0m\u001b[43m  \u001b[0m\u001b[43m  \u001b[0m\u001b[102m  \u001b[0m\u001b[102m  \u001b[0m  [9 3 3 3 3 3 3 3 9 9]\n",
       "\u001b[102m  \u001b[0m\u001b[43m  \u001b[0m\u001b[43m  \u001b[0m\u001b[43m  \u001b[0m\u001b[43m  \u001b[0m\u001b[43m  \u001b[0m\u001b[43m  \u001b[0m\u001b[43m  \u001b[0m\u001b[102m  \u001b[0m\u001b[102m  \u001b[0m  [9 3 3 3 3 3 3 3 9 9]\n",
       "\u001b[102m  \u001b[0m\u001b[43m  \u001b[0m\u001b[43m  \u001b[0m\u001b[101m  \u001b[0m\u001b[43m  \u001b[0m\u001b[43m  \u001b[0m\u001b[43m  \u001b[0m\u001b[43m  \u001b[0m\u001b[102m  \u001b[0m\u001b[102m  \u001b[0m  [9 3 3 8 3 3 3 3 9 9]\n",
       "\u001b[102m  \u001b[0m\u001b[43m  \u001b[0m\u001b[43m  \u001b[0m\u001b[43m  \u001b[0m\u001b[43m  \u001b[0m\u001b[43m  \u001b[0m\u001b[43m  \u001b[0m\u001b[43m  \u001b[0m\u001b[102m  \u001b[0m\u001b[102m  \u001b[0m  [9 3 3 3 3 3 3 3 9 9]\n",
       "\u001b[102m  \u001b[0m\u001b[102m  \u001b[0m\u001b[102m  \u001b[0m\u001b[102m  \u001b[0m\u001b[102m  \u001b[0m\u001b[102m  \u001b[0m\u001b[102m  \u001b[0m\u001b[102m  \u001b[0m\u001b[102m  \u001b[0m\u001b[102m  \u001b[0m  [9 9 9 9 9 9 9 9 9 9]\n",
       "\u001b[102m  \u001b[0m\u001b[102m  \u001b[0m\u001b[102m  \u001b[0m\u001b[102m  \u001b[0m\u001b[102m  \u001b[0m\u001b[102m  \u001b[0m\u001b[102m  \u001b[0m\u001b[102m  \u001b[0m\u001b[102m  \u001b[0m\u001b[102m  \u001b[0m  [9 9 9 9 9 9 9 9 9 9]\n",
       "\n"
      ]
     },
     "metadata": {},
     "output_type": "display_data"
    },
    {
     "name": "stdout",
     "output_type": "stream",
     "text": [
      "Test output\n"
     ]
    },
    {
     "data": {
      "text/html": [
       "<pre style=\"white-space:pre;overflow-x:auto;line-height:normal;font-family:Menlo,'DejaVu Sans Mono',consolas,'Courier New',monospace\"><span style=\"background-color: #00ff00\">                </span>  [9, 9, 9, 9, 9, 9, 9, 9]\n",
       "<span style=\"background-color: #00ff00\">                </span>  [9, 9, 9, 9, 9, 9, 9, 9]\n",
       "<span style=\"background-color: #808000\">          </span><span style=\"background-color: #008000\">  </span><span style=\"background-color: #00ff00\">    </span>  [3, 3, 3, 3, 3, 2, 9, 9]\n",
       "<span style=\"background-color: #808000\">        </span><span style=\"background-color: #008000\">  </span><span style=\"background-color: #808000\">  </span><span style=\"background-color: #00ff00\">    </span>  [3, 3, 3, 3, 2, 3, 9, 9]\n",
       "<span style=\"background-color: #808000\">      </span><span style=\"background-color: #008000\">  </span><span style=\"background-color: #808000\">    </span><span style=\"background-color: #00ff00\">    </span>  [3, 3, 3, 2, 3, 3, 9, 9]\n",
       "<span style=\"background-color: #808000\">    </span><span style=\"background-color: #008000\">  </span><span style=\"background-color: #808000\">      </span><span style=\"background-color: #00ff00\">    </span>  [3, 3, 2, 3, 3, 3, 9, 9]\n",
       "<span style=\"background-color: #ff0000\">    </span><span style=\"background-color: #808000\">        </span><span style=\"background-color: #00ff00\">    </span>  [8, 8, 3, 3, 3, 3, 9, 9]\n",
       "<span style=\"background-color: #ff0000\">    </span><span style=\"background-color: #808000\">        </span><span style=\"background-color: #00ff00\">    </span>  [8, 8, 3, 3, 3, 3, 9, 9]\n",
       "<span style=\"background-color: #808000\">    </span><span style=\"background-color: #008000\">  </span><span style=\"background-color: #808000\">      </span><span style=\"background-color: #00ff00\">    </span>  [3, 3, 2, 3, 3, 3, 9, 9]\n",
       "<span style=\"background-color: #808000\">      </span><span style=\"background-color: #008000\">  </span><span style=\"background-color: #808000\">    </span><span style=\"background-color: #00ff00\">    </span>  [3, 3, 3, 2, 3, 3, 9, 9]\n",
       "\n",
       "</pre>\n"
      ],
      "text/plain": [
       "\u001b[102m  \u001b[0m\u001b[102m  \u001b[0m\u001b[102m  \u001b[0m\u001b[102m  \u001b[0m\u001b[102m  \u001b[0m\u001b[102m  \u001b[0m\u001b[102m  \u001b[0m\u001b[102m  \u001b[0m  [9, 9, 9, 9, 9, 9, 9, 9]\n",
       "\u001b[102m  \u001b[0m\u001b[102m  \u001b[0m\u001b[102m  \u001b[0m\u001b[102m  \u001b[0m\u001b[102m  \u001b[0m\u001b[102m  \u001b[0m\u001b[102m  \u001b[0m\u001b[102m  \u001b[0m  [9, 9, 9, 9, 9, 9, 9, 9]\n",
       "\u001b[43m  \u001b[0m\u001b[43m  \u001b[0m\u001b[43m  \u001b[0m\u001b[43m  \u001b[0m\u001b[43m  \u001b[0m\u001b[42m  \u001b[0m\u001b[102m  \u001b[0m\u001b[102m  \u001b[0m  [3, 3, 3, 3, 3, 2, 9, 9]\n",
       "\u001b[43m  \u001b[0m\u001b[43m  \u001b[0m\u001b[43m  \u001b[0m\u001b[43m  \u001b[0m\u001b[42m  \u001b[0m\u001b[43m  \u001b[0m\u001b[102m  \u001b[0m\u001b[102m  \u001b[0m  [3, 3, 3, 3, 2, 3, 9, 9]\n",
       "\u001b[43m  \u001b[0m\u001b[43m  \u001b[0m\u001b[43m  \u001b[0m\u001b[42m  \u001b[0m\u001b[43m  \u001b[0m\u001b[43m  \u001b[0m\u001b[102m  \u001b[0m\u001b[102m  \u001b[0m  [3, 3, 3, 2, 3, 3, 9, 9]\n",
       "\u001b[43m  \u001b[0m\u001b[43m  \u001b[0m\u001b[42m  \u001b[0m\u001b[43m  \u001b[0m\u001b[43m  \u001b[0m\u001b[43m  \u001b[0m\u001b[102m  \u001b[0m\u001b[102m  \u001b[0m  [3, 3, 2, 3, 3, 3, 9, 9]\n",
       "\u001b[101m  \u001b[0m\u001b[101m  \u001b[0m\u001b[43m  \u001b[0m\u001b[43m  \u001b[0m\u001b[43m  \u001b[0m\u001b[43m  \u001b[0m\u001b[102m  \u001b[0m\u001b[102m  \u001b[0m  [8, 8, 3, 3, 3, 3, 9, 9]\n",
       "\u001b[101m  \u001b[0m\u001b[101m  \u001b[0m\u001b[43m  \u001b[0m\u001b[43m  \u001b[0m\u001b[43m  \u001b[0m\u001b[43m  \u001b[0m\u001b[102m  \u001b[0m\u001b[102m  \u001b[0m  [8, 8, 3, 3, 3, 3, 9, 9]\n",
       "\u001b[43m  \u001b[0m\u001b[43m  \u001b[0m\u001b[42m  \u001b[0m\u001b[43m  \u001b[0m\u001b[43m  \u001b[0m\u001b[43m  \u001b[0m\u001b[102m  \u001b[0m\u001b[102m  \u001b[0m  [3, 3, 2, 3, 3, 3, 9, 9]\n",
       "\u001b[43m  \u001b[0m\u001b[43m  \u001b[0m\u001b[43m  \u001b[0m\u001b[42m  \u001b[0m\u001b[43m  \u001b[0m\u001b[43m  \u001b[0m\u001b[102m  \u001b[0m\u001b[102m  \u001b[0m  [3, 3, 3, 2, 3, 3, 9, 9]\n",
       "\n"
      ]
     },
     "metadata": {},
     "output_type": "display_data"
    },
    {
     "name": "stdout",
     "output_type": "stream",
     "text": [
      "============================================\n",
      "Evaluation score: 10.00\n"
     ]
    }
   ],
   "source": [
    "# evaluate our model (eval set)\n",
    "scores = []\n",
    "n_eval = 10\n",
    "# scores_task = []\n",
    "# for task in [15]: #range(20):\n",
    "eval_dataset = Dataset.from_pandas(dfhard).select(range(n_train, n_train+n_eval)) # Dataset.from_pandas(task_samples[task]).select(range(n_eval))\n",
    "for eval_data in tqdm(eval_dataset):\n",
    "    print(\"============================================\")\n",
    "    print(\"Test input\")\n",
    "    render_grid(eval_data[\"test\"][0]['input'])\n",
    "\n",
    "    print(\"Predict output\")\n",
    "    preds = solver.predict(eval_data)\n",
    "    if preds is not None: render_grid(preds)\n",
    "\n",
    "    print(\"Test output\")\n",
    "    render_grid(eval_data[\"test\"][0]['output'])\n",
    "    print(\"============================================\")\n",
    "    if preds is None: s = 0\n",
    "    else: s = check_match(preds, eval_data[\"test\"][0][\"output\"])\n",
    "    scores.append(s)\n",
    "score = np.array(scores).mean() * 100\n",
    "# scores_task.append(score)\n",
    "print(f\"Evaluation score: {score:.2f}\", flush=True)\n",
    "scores = []\n",
    "\n",
    "# from matplotlib import pyplot as plt\n",
    "# x = np.arange(20)\n",
    "# plt.bar(x, scores_task)\n",
    "# plt.xticks(x, list(range(20)))\n",
    "# plt.show()"
   ]
  },
  {
   "cell_type": "code",
   "execution_count": null,
   "metadata": {},
   "outputs": [],
   "source": []
  },
  {
   "cell_type": "code",
   "execution_count": null,
   "metadata": {},
   "outputs": [],
   "source": []
  }
 ],
 "metadata": {
  "kernelspec": {
   "display_name": "Python 3 (ipykernel)",
   "language": "python",
   "name": "python3"
  },
  "language_info": {
   "codemirror_mode": {
    "name": "ipython",
    "version": 3
   },
   "file_extension": ".py",
   "mimetype": "text/x-python",
   "name": "python",
   "nbconvert_exporter": "python",
   "pygments_lexer": "ipython3",
   "version": "3.11.10"
  }
 },
 "nbformat": 4,
 "nbformat_minor": 4
}
