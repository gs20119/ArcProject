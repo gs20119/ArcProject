{
 "cells": [
  {
   "cell_type": "code",
   "execution_count": 1,
   "metadata": {},
   "outputs": [],
   "source": [
    "# conda environment (project)\n",
    "# /home/student/.conda/envs/project/bin/python \n",
    "%load_ext autoreload\n",
    "%autoreload 2\n",
    "import numpy as np\n",
    "import pandas as pd\n",
    "from tqdm.auto import tqdm\n",
    "import os, gc\n",
    "import torch\n",
    "\n",
    "from transformers import set_seed\n",
    "from datasets import load_dataset\n",
    "from evaluate import *\n",
    "from arc.arc import ARCSolver\n",
    "\n",
    "from datasets import Dataset\n",
    "from utils import render_grid"
   ]
  },
  {
   "cell_type": "code",
   "execution_count": 3,
   "metadata": {},
   "outputs": [
    {
     "name": "stdout",
     "output_type": "stream",
     "text": [
      "Imported 300 different tasks in the dataset.\n",
      "# of samples in a task: min(82), Q1(1000), Q2(1000), Q3(1000), max(1000), mean(897.7)\n"
     ]
    },
    {
     "data": {
      "text/html": [
       "<div>\n",
       "<style scoped>\n",
       "    .dataframe tbody tr th:only-of-type {\n",
       "        vertical-align: middle;\n",
       "    }\n",
       "\n",
       "    .dataframe tbody tr th {\n",
       "        vertical-align: top;\n",
       "    }\n",
       "\n",
       "    .dataframe thead th {\n",
       "        text-align: right;\n",
       "    }\n",
       "</style>\n",
       "<table border=\"1\" class=\"dataframe\">\n",
       "  <thead>\n",
       "    <tr style=\"text-align: right;\">\n",
       "      <th></th>\n",
       "      <th>task</th>\n",
       "      <th>train</th>\n",
       "      <th>test_input</th>\n",
       "      <th>test_output</th>\n",
       "      <th>test</th>\n",
       "    </tr>\n",
       "  </thead>\n",
       "  <tbody>\n",
       "    <tr>\n",
       "      <th>0</th>\n",
       "      <td>239be575</td>\n",
       "      <td>[{'input': [[0, 0, 6, 6, 2, 0, 0], [2, 0, 6, 6...</td>\n",
       "      <td>[{'input': [[0, 5, 5, 3, 3, 3, 0], [0, 5, 5, 0...</td>\n",
       "      <td>[[[0]]]</td>\n",
       "      <td>[{'input': [[0, 5, 5, 3, 3, 3, 0], [0, 5, 5, 0...</td>\n",
       "    </tr>\n",
       "    <tr>\n",
       "      <th>1</th>\n",
       "      <td>4258a5f9</td>\n",
       "      <td>[{'input': [[3, 3, 3, 3], [3, 3, 3, 3], [3, 3,...</td>\n",
       "      <td>[{'input': [[6, 6, 6, 6, 6, 6], [6, 6, 6, 6, 2...</td>\n",
       "      <td>[[[6, 6, 6, 1, 1, 1], [1, 1, 1, 1, 2, 1], [1, ...</td>\n",
       "      <td>[{'input': [[6, 6, 6, 6, 6, 6], [6, 6, 6, 6, 2...</td>\n",
       "    </tr>\n",
       "    <tr>\n",
       "      <th>2</th>\n",
       "      <td>1caeab9d</td>\n",
       "      <td>[{'input': [[6, 6, 6, 6, 6, 6, 6], [6, 6, 8, 8...</td>\n",
       "      <td>[{'input': [[0, 0, 0, 0, 0, 0, 0, 0, 0, 0], [4...</td>\n",
       "      <td>[[[0, 0, 0, 0, 0, 0, 0, 0, 0, 0], [0, 0, 0, 0,...</td>\n",
       "      <td>[{'input': [[0, 0, 0, 0, 0, 0, 0, 0, 0, 0], [4...</td>\n",
       "    </tr>\n",
       "    <tr>\n",
       "      <th>3</th>\n",
       "      <td>623ea044</td>\n",
       "      <td>[{'input': [[3, 3, 3, 3, 3, 3, 3], [3, 3, 3, 3...</td>\n",
       "      <td>[{'input': [[6, 6, 6, 6, 6], [6, 6, 6, 6, 6], ...</td>\n",
       "      <td>[[[6, 8, 6, 6, 6], [6, 6, 8, 6, 8], [6, 6, 6, ...</td>\n",
       "      <td>[{'input': [[6, 6, 6, 6, 6], [6, 6, 6, 6, 6], ...</td>\n",
       "    </tr>\n",
       "    <tr>\n",
       "      <th>4</th>\n",
       "      <td>e9afcf9a</td>\n",
       "      <td>[{'input': [[4, 4, 4, 4, 4], [6, 6, 6, 6, 6], ...</td>\n",
       "      <td>[{'input': [[5, 5, 5, 5, 5, 5, 5, 5, 5], [7, 7...</td>\n",
       "      <td>[[[5, 7, 5, 7, 5, 7, 5, 7, 5], [7, 0, 7, 0, 7,...</td>\n",
       "      <td>[{'input': [[5, 5, 5, 5, 5, 5, 5, 5, 5], [7, 7...</td>\n",
       "    </tr>\n",
       "  </tbody>\n",
       "</table>\n",
       "</div>"
      ],
      "text/plain": [
       "       task                                              train  \\\n",
       "0  239be575  [{'input': [[0, 0, 6, 6, 2, 0, 0], [2, 0, 6, 6...   \n",
       "1  4258a5f9  [{'input': [[3, 3, 3, 3], [3, 3, 3, 3], [3, 3,...   \n",
       "2  1caeab9d  [{'input': [[6, 6, 6, 6, 6, 6, 6], [6, 6, 8, 8...   \n",
       "3  623ea044  [{'input': [[3, 3, 3, 3, 3, 3, 3], [3, 3, 3, 3...   \n",
       "4  e9afcf9a  [{'input': [[4, 4, 4, 4, 4], [6, 6, 6, 6, 6], ...   \n",
       "\n",
       "                                          test_input  \\\n",
       "0  [{'input': [[0, 5, 5, 3, 3, 3, 0], [0, 5, 5, 0...   \n",
       "1  [{'input': [[6, 6, 6, 6, 6, 6], [6, 6, 6, 6, 2...   \n",
       "2  [{'input': [[0, 0, 0, 0, 0, 0, 0, 0, 0, 0], [4...   \n",
       "3  [{'input': [[6, 6, 6, 6, 6], [6, 6, 6, 6, 6], ...   \n",
       "4  [{'input': [[5, 5, 5, 5, 5, 5, 5, 5, 5], [7, 7...   \n",
       "\n",
       "                                         test_output  \\\n",
       "0                                            [[[0]]]   \n",
       "1  [[[6, 6, 6, 1, 1, 1], [1, 1, 1, 1, 2, 1], [1, ...   \n",
       "2  [[[0, 0, 0, 0, 0, 0, 0, 0, 0, 0], [0, 0, 0, 0,...   \n",
       "3  [[[6, 8, 6, 6, 6], [6, 6, 8, 6, 8], [6, 6, 6, ...   \n",
       "4  [[[5, 7, 5, 7, 5, 7, 5, 7, 5], [7, 0, 7, 0, 7,...   \n",
       "\n",
       "                                                test  \n",
       "0  [{'input': [[0, 5, 5, 3, 3, 3, 0], [0, 5, 5, 0...  \n",
       "1  [{'input': [[6, 6, 6, 6, 6, 6], [6, 6, 6, 6, 2...  \n",
       "2  [{'input': [[0, 0, 0, 0, 0, 0, 0, 0, 0, 0], [4...  \n",
       "3  [{'input': [[6, 6, 6, 6, 6], [6, 6, 6, 6, 6], ...  \n",
       "4  [{'input': [[5, 5, 5, 5, 5, 5, 5, 5, 5], [7, 7...  "
      ]
     },
     "execution_count": 3,
     "metadata": {},
     "output_type": "execute_result"
    }
   ],
   "source": [
    "# prepare the test dataset\n",
    "data_path = \"dataset\"\n",
    "dataset, task_list = load_data(data_path)\n",
    "df300 = sample_data(dataset, task_list, n_row=30000) \n",
    "df300.head(5) "
   ]
  },
  {
   "cell_type": "code",
   "execution_count": 4,
   "metadata": {},
   "outputs": [],
   "source": [
    "# prepare samples for each task\n",
    "task_samples = []\n",
    "for t in range(300):\n",
    "    df = sample_data(dataset, task_list, n_row=1000, indices=[t])\n",
    "    task_samples.append(df)"
   ]
  },
  {
   "cell_type": "code",
   "execution_count": 5,
   "metadata": {
    "scrolled": true
   },
   "outputs": [
    {
     "name": "stdout",
     "output_type": "stream",
     "text": [
      "11\n",
      "==================================================\n",
      "Example input\n"
     ]
    },
    {
     "data": {
      "text/html": [
       "<pre style=\"white-space:pre;overflow-x:auto;line-height:normal;font-family:Menlo,'DejaVu Sans Mono',consolas,'Courier New',monospace\"><span style=\"background-color: #800000\">                  </span>  [1, 1, 1, 1, 1, 1, 1, 1, 1]\n",
       "<span style=\"background-color: #800000\">                  </span>  [1, 1, 1, 1, 1, 1, 1, 1, 1]\n",
       "<span style=\"background-color: #800000\">            </span><span style=\"background-color: #000080\">    </span><span style=\"background-color: #800000\">  </span>  [1, 1, 1, 1, 1, 1, 4, 4, 1]\n",
       "<span style=\"background-color: #800000\">        </span><span style=\"background-color: #000080\">  </span><span style=\"background-color: #800000\">  </span><span style=\"background-color: #000080\">    </span><span style=\"background-color: #800000\">  </span>  [1, 1, 1, 1, 4, 1, 4, 4, 1]\n",
       "<span style=\"background-color: #800000\">        </span><span style=\"background-color: #000080\">  </span><span style=\"background-color: #800000\">        </span>  [1, 1, 1, 1, 4, 1, 1, 1, 1]\n",
       "<span style=\"background-color: #800000\">        </span><span style=\"background-color: #000080\">  </span><span style=\"background-color: #800000\">        </span>  [1, 1, 1, 1, 4, 1, 1, 1, 1]\n",
       "<span style=\"background-color: #800000\">        </span><span style=\"background-color: #000080\">  </span><span style=\"background-color: #800000\">        </span>  [1, 1, 1, 1, 4, 1, 1, 1, 1]\n",
       "<span style=\"background-color: #800000\">        </span><span style=\"background-color: #000080\">  </span><span style=\"background-color: #800000\">        </span>  [1, 1, 1, 1, 4, 1, 1, 1, 1]\n",
       "<span style=\"background-color: #800000\">        </span><span style=\"background-color: #000080\">  </span><span style=\"background-color: #800000\">        </span>  [1, 1, 1, 1, 4, 1, 1, 1, 1]\n",
       "\n",
       "</pre>\n"
      ],
      "text/plain": [
       "\u001b[41m  \u001b[0m\u001b[41m  \u001b[0m\u001b[41m  \u001b[0m\u001b[41m  \u001b[0m\u001b[41m  \u001b[0m\u001b[41m  \u001b[0m\u001b[41m  \u001b[0m\u001b[41m  \u001b[0m\u001b[41m  \u001b[0m  [1, 1, 1, 1, 1, 1, 1, 1, 1]\n",
       "\u001b[41m  \u001b[0m\u001b[41m  \u001b[0m\u001b[41m  \u001b[0m\u001b[41m  \u001b[0m\u001b[41m  \u001b[0m\u001b[41m  \u001b[0m\u001b[41m  \u001b[0m\u001b[41m  \u001b[0m\u001b[41m  \u001b[0m  [1, 1, 1, 1, 1, 1, 1, 1, 1]\n",
       "\u001b[41m  \u001b[0m\u001b[41m  \u001b[0m\u001b[41m  \u001b[0m\u001b[41m  \u001b[0m\u001b[41m  \u001b[0m\u001b[41m  \u001b[0m\u001b[44m  \u001b[0m\u001b[44m  \u001b[0m\u001b[41m  \u001b[0m  [1, 1, 1, 1, 1, 1, 4, 4, 1]\n",
       "\u001b[41m  \u001b[0m\u001b[41m  \u001b[0m\u001b[41m  \u001b[0m\u001b[41m  \u001b[0m\u001b[44m  \u001b[0m\u001b[41m  \u001b[0m\u001b[44m  \u001b[0m\u001b[44m  \u001b[0m\u001b[41m  \u001b[0m  [1, 1, 1, 1, 4, 1, 4, 4, 1]\n",
       "\u001b[41m  \u001b[0m\u001b[41m  \u001b[0m\u001b[41m  \u001b[0m\u001b[41m  \u001b[0m\u001b[44m  \u001b[0m\u001b[41m  \u001b[0m\u001b[41m  \u001b[0m\u001b[41m  \u001b[0m\u001b[41m  \u001b[0m  [1, 1, 1, 1, 4, 1, 1, 1, 1]\n",
       "\u001b[41m  \u001b[0m\u001b[41m  \u001b[0m\u001b[41m  \u001b[0m\u001b[41m  \u001b[0m\u001b[44m  \u001b[0m\u001b[41m  \u001b[0m\u001b[41m  \u001b[0m\u001b[41m  \u001b[0m\u001b[41m  \u001b[0m  [1, 1, 1, 1, 4, 1, 1, 1, 1]\n",
       "\u001b[41m  \u001b[0m\u001b[41m  \u001b[0m\u001b[41m  \u001b[0m\u001b[41m  \u001b[0m\u001b[44m  \u001b[0m\u001b[41m  \u001b[0m\u001b[41m  \u001b[0m\u001b[41m  \u001b[0m\u001b[41m  \u001b[0m  [1, 1, 1, 1, 4, 1, 1, 1, 1]\n",
       "\u001b[41m  \u001b[0m\u001b[41m  \u001b[0m\u001b[41m  \u001b[0m\u001b[41m  \u001b[0m\u001b[44m  \u001b[0m\u001b[41m  \u001b[0m\u001b[41m  \u001b[0m\u001b[41m  \u001b[0m\u001b[41m  \u001b[0m  [1, 1, 1, 1, 4, 1, 1, 1, 1]\n",
       "\u001b[41m  \u001b[0m\u001b[41m  \u001b[0m\u001b[41m  \u001b[0m\u001b[41m  \u001b[0m\u001b[44m  \u001b[0m\u001b[41m  \u001b[0m\u001b[41m  \u001b[0m\u001b[41m  \u001b[0m\u001b[41m  \u001b[0m  [1, 1, 1, 1, 4, 1, 1, 1, 1]\n",
       "\n"
      ]
     },
     "metadata": {},
     "output_type": "display_data"
    },
    {
     "name": "stdout",
     "output_type": "stream",
     "text": [
      "Example output\n"
     ]
    },
    {
     "data": {
      "text/html": [
       "<pre style=\"white-space:pre;overflow-x:auto;line-height:normal;font-family:Menlo,'DejaVu Sans Mono',consolas,'Courier New',monospace\"><span style=\"background-color: #800000\">                  </span>  [1, 1, 1, 1, 1, 1, 1, 1, 1]\n",
       "<span style=\"background-color: #800000\">                  </span>  [1, 1, 1, 1, 1, 1, 1, 1, 1]\n",
       "<span style=\"background-color: #800000\">            </span><span style=\"background-color: #000080\">    </span><span style=\"background-color: #800000\">  </span>  [1, 1, 1, 1, 1, 1, 4, 4, 1]\n",
       "<span style=\"background-color: #800000\">        </span><span style=\"background-color: #000080\">  </span><span style=\"background-color: #00ff00\">  </span><span style=\"background-color: #000080\">    </span><span style=\"background-color: #800000\">  </span>  [1, 1, 1, 1, 4, 9, 4, 4, 1]\n",
       "<span style=\"background-color: #800000\">        </span><span style=\"background-color: #000080\">  </span><span style=\"background-color: #800000\">        </span>  [1, 1, 1, 1, 4, 1, 1, 1, 1]\n",
       "<span style=\"background-color: #800000\">        </span><span style=\"background-color: #000080\">  </span><span style=\"background-color: #800000\">        </span>  [1, 1, 1, 1, 4, 1, 1, 1, 1]\n",
       "<span style=\"background-color: #800000\">        </span><span style=\"background-color: #000080\">  </span><span style=\"background-color: #800000\">        </span>  [1, 1, 1, 1, 4, 1, 1, 1, 1]\n",
       "<span style=\"background-color: #800000\">        </span><span style=\"background-color: #000080\">  </span><span style=\"background-color: #800000\">        </span>  [1, 1, 1, 1, 4, 1, 1, 1, 1]\n",
       "<span style=\"background-color: #800000\">        </span><span style=\"background-color: #000080\">  </span><span style=\"background-color: #800000\">        </span>  [1, 1, 1, 1, 4, 1, 1, 1, 1]\n",
       "\n",
       "</pre>\n"
      ],
      "text/plain": [
       "\u001b[41m  \u001b[0m\u001b[41m  \u001b[0m\u001b[41m  \u001b[0m\u001b[41m  \u001b[0m\u001b[41m  \u001b[0m\u001b[41m  \u001b[0m\u001b[41m  \u001b[0m\u001b[41m  \u001b[0m\u001b[41m  \u001b[0m  [1, 1, 1, 1, 1, 1, 1, 1, 1]\n",
       "\u001b[41m  \u001b[0m\u001b[41m  \u001b[0m\u001b[41m  \u001b[0m\u001b[41m  \u001b[0m\u001b[41m  \u001b[0m\u001b[41m  \u001b[0m\u001b[41m  \u001b[0m\u001b[41m  \u001b[0m\u001b[41m  \u001b[0m  [1, 1, 1, 1, 1, 1, 1, 1, 1]\n",
       "\u001b[41m  \u001b[0m\u001b[41m  \u001b[0m\u001b[41m  \u001b[0m\u001b[41m  \u001b[0m\u001b[41m  \u001b[0m\u001b[41m  \u001b[0m\u001b[44m  \u001b[0m\u001b[44m  \u001b[0m\u001b[41m  \u001b[0m  [1, 1, 1, 1, 1, 1, 4, 4, 1]\n",
       "\u001b[41m  \u001b[0m\u001b[41m  \u001b[0m\u001b[41m  \u001b[0m\u001b[41m  \u001b[0m\u001b[44m  \u001b[0m\u001b[102m  \u001b[0m\u001b[44m  \u001b[0m\u001b[44m  \u001b[0m\u001b[41m  \u001b[0m  [1, 1, 1, 1, 4, 9, 4, 4, 1]\n",
       "\u001b[41m  \u001b[0m\u001b[41m  \u001b[0m\u001b[41m  \u001b[0m\u001b[41m  \u001b[0m\u001b[44m  \u001b[0m\u001b[41m  \u001b[0m\u001b[41m  \u001b[0m\u001b[41m  \u001b[0m\u001b[41m  \u001b[0m  [1, 1, 1, 1, 4, 1, 1, 1, 1]\n",
       "\u001b[41m  \u001b[0m\u001b[41m  \u001b[0m\u001b[41m  \u001b[0m\u001b[41m  \u001b[0m\u001b[44m  \u001b[0m\u001b[41m  \u001b[0m\u001b[41m  \u001b[0m\u001b[41m  \u001b[0m\u001b[41m  \u001b[0m  [1, 1, 1, 1, 4, 1, 1, 1, 1]\n",
       "\u001b[41m  \u001b[0m\u001b[41m  \u001b[0m\u001b[41m  \u001b[0m\u001b[41m  \u001b[0m\u001b[44m  \u001b[0m\u001b[41m  \u001b[0m\u001b[41m  \u001b[0m\u001b[41m  \u001b[0m\u001b[41m  \u001b[0m  [1, 1, 1, 1, 4, 1, 1, 1, 1]\n",
       "\u001b[41m  \u001b[0m\u001b[41m  \u001b[0m\u001b[41m  \u001b[0m\u001b[41m  \u001b[0m\u001b[44m  \u001b[0m\u001b[41m  \u001b[0m\u001b[41m  \u001b[0m\u001b[41m  \u001b[0m\u001b[41m  \u001b[0m  [1, 1, 1, 1, 4, 1, 1, 1, 1]\n",
       "\u001b[41m  \u001b[0m\u001b[41m  \u001b[0m\u001b[41m  \u001b[0m\u001b[41m  \u001b[0m\u001b[44m  \u001b[0m\u001b[41m  \u001b[0m\u001b[41m  \u001b[0m\u001b[41m  \u001b[0m\u001b[41m  \u001b[0m  [1, 1, 1, 1, 4, 1, 1, 1, 1]\n",
       "\n"
      ]
     },
     "metadata": {},
     "output_type": "display_data"
    },
    {
     "name": "stdout",
     "output_type": "stream",
     "text": [
      "==================================================\n",
      "Example test input\n"
     ]
    },
    {
     "data": {
      "text/html": [
       "<pre style=\"white-space:pre;overflow-x:auto;line-height:normal;font-family:Menlo,'DejaVu Sans Mono',consolas,'Courier New',monospace\"><span style=\"background-color: #000000\">      </span><span style=\"background-color: #808000\">        </span><span style=\"background-color: #000000\">    </span><span style=\"background-color: #808000\">  </span>  [0, 0, 0, 3, 3, 3, 3, 0, 0, 3]\n",
       "<span style=\"background-color: #000000\">                  </span><span style=\"background-color: #808000\">  </span>  [0, 0, 0, 0, 0, 0, 0, 0, 0, 3]\n",
       "<span style=\"background-color: #808000\">            </span><span style=\"background-color: #000000\">      </span><span style=\"background-color: #808000\">  </span>  [3, 3, 3, 3, 3, 3, 0, 0, 0, 3]\n",
       "<span style=\"background-color: #808000\">            </span><span style=\"background-color: #000000\">      </span><span style=\"background-color: #808000\">  </span>  [3, 3, 3, 3, 3, 3, 0, 0, 0, 3]\n",
       "<span style=\"background-color: #808000\">            </span><span style=\"background-color: #000000\">      </span><span style=\"background-color: #808000\">  </span>  [3, 3, 3, 3, 3, 3, 0, 0, 0, 3]\n",
       "<span style=\"background-color: #808000\">            </span><span style=\"background-color: #000000\">        </span>  [3, 3, 3, 3, 3, 3, 0, 0, 0, 0]\n",
       "<span style=\"background-color: #808000\">            </span><span style=\"background-color: #000000\">        </span>  [3, 3, 3, 3, 3, 3, 0, 0, 0, 0]\n",
       "<span style=\"background-color: #000000\">                    </span>  [0, 0, 0, 0, 0, 0, 0, 0, 0, 0]\n",
       "<span style=\"background-color: #000000\">                    </span>  [0, 0, 0, 0, 0, 0, 0, 0, 0, 0]\n",
       "\n",
       "</pre>\n"
      ],
      "text/plain": [
       "\u001b[40m  \u001b[0m\u001b[40m  \u001b[0m\u001b[40m  \u001b[0m\u001b[43m  \u001b[0m\u001b[43m  \u001b[0m\u001b[43m  \u001b[0m\u001b[43m  \u001b[0m\u001b[40m  \u001b[0m\u001b[40m  \u001b[0m\u001b[43m  \u001b[0m  [0, 0, 0, 3, 3, 3, 3, 0, 0, 3]\n",
       "\u001b[40m  \u001b[0m\u001b[40m  \u001b[0m\u001b[40m  \u001b[0m\u001b[40m  \u001b[0m\u001b[40m  \u001b[0m\u001b[40m  \u001b[0m\u001b[40m  \u001b[0m\u001b[40m  \u001b[0m\u001b[40m  \u001b[0m\u001b[43m  \u001b[0m  [0, 0, 0, 0, 0, 0, 0, 0, 0, 3]\n",
       "\u001b[43m  \u001b[0m\u001b[43m  \u001b[0m\u001b[43m  \u001b[0m\u001b[43m  \u001b[0m\u001b[43m  \u001b[0m\u001b[43m  \u001b[0m\u001b[40m  \u001b[0m\u001b[40m  \u001b[0m\u001b[40m  \u001b[0m\u001b[43m  \u001b[0m  [3, 3, 3, 3, 3, 3, 0, 0, 0, 3]\n",
       "\u001b[43m  \u001b[0m\u001b[43m  \u001b[0m\u001b[43m  \u001b[0m\u001b[43m  \u001b[0m\u001b[43m  \u001b[0m\u001b[43m  \u001b[0m\u001b[40m  \u001b[0m\u001b[40m  \u001b[0m\u001b[40m  \u001b[0m\u001b[43m  \u001b[0m  [3, 3, 3, 3, 3, 3, 0, 0, 0, 3]\n",
       "\u001b[43m  \u001b[0m\u001b[43m  \u001b[0m\u001b[43m  \u001b[0m\u001b[43m  \u001b[0m\u001b[43m  \u001b[0m\u001b[43m  \u001b[0m\u001b[40m  \u001b[0m\u001b[40m  \u001b[0m\u001b[40m  \u001b[0m\u001b[43m  \u001b[0m  [3, 3, 3, 3, 3, 3, 0, 0, 0, 3]\n",
       "\u001b[43m  \u001b[0m\u001b[43m  \u001b[0m\u001b[43m  \u001b[0m\u001b[43m  \u001b[0m\u001b[43m  \u001b[0m\u001b[43m  \u001b[0m\u001b[40m  \u001b[0m\u001b[40m  \u001b[0m\u001b[40m  \u001b[0m\u001b[40m  \u001b[0m  [3, 3, 3, 3, 3, 3, 0, 0, 0, 0]\n",
       "\u001b[43m  \u001b[0m\u001b[43m  \u001b[0m\u001b[43m  \u001b[0m\u001b[43m  \u001b[0m\u001b[43m  \u001b[0m\u001b[43m  \u001b[0m\u001b[40m  \u001b[0m\u001b[40m  \u001b[0m\u001b[40m  \u001b[0m\u001b[40m  \u001b[0m  [3, 3, 3, 3, 3, 3, 0, 0, 0, 0]\n",
       "\u001b[40m  \u001b[0m\u001b[40m  \u001b[0m\u001b[40m  \u001b[0m\u001b[40m  \u001b[0m\u001b[40m  \u001b[0m\u001b[40m  \u001b[0m\u001b[40m  \u001b[0m\u001b[40m  \u001b[0m\u001b[40m  \u001b[0m\u001b[40m  \u001b[0m  [0, 0, 0, 0, 0, 0, 0, 0, 0, 0]\n",
       "\u001b[40m  \u001b[0m\u001b[40m  \u001b[0m\u001b[40m  \u001b[0m\u001b[40m  \u001b[0m\u001b[40m  \u001b[0m\u001b[40m  \u001b[0m\u001b[40m  \u001b[0m\u001b[40m  \u001b[0m\u001b[40m  \u001b[0m\u001b[40m  \u001b[0m  [0, 0, 0, 0, 0, 0, 0, 0, 0, 0]\n",
       "\n"
      ]
     },
     "metadata": {},
     "output_type": "display_data"
    },
    {
     "name": "stdout",
     "output_type": "stream",
     "text": [
      "Example test output\n"
     ]
    },
    {
     "data": {
      "text/html": [
       "<pre style=\"white-space:pre;overflow-x:auto;line-height:normal;font-family:Menlo,'DejaVu Sans Mono',consolas,'Courier New',monospace\"><span style=\"background-color: #000000\">      </span><span style=\"background-color: #808000\">        </span><span style=\"background-color: #000000\">    </span><span style=\"background-color: #808000\">  </span>  [0, 0, 0, 3, 3, 3, 3, 0, 0, 3]\n",
       "<span style=\"background-color: #000000\">                  </span><span style=\"background-color: #808000\">  </span>  [0, 0, 0, 0, 0, 0, 0, 0, 0, 3]\n",
       "<span style=\"background-color: #808000\">            </span><span style=\"background-color: #00ff00\">      </span><span style=\"background-color: #808000\">  </span>  [3, 3, 3, 3, 3, 3, 9, 9, 9, 3]\n",
       "<span style=\"background-color: #808000\">            </span><span style=\"background-color: #00ff00\">      </span><span style=\"background-color: #808000\">  </span>  [3, 3, 3, 3, 3, 3, 9, 9, 9, 3]\n",
       "<span style=\"background-color: #808000\">            </span><span style=\"background-color: #00ff00\">      </span><span style=\"background-color: #808000\">  </span>  [3, 3, 3, 3, 3, 3, 9, 9, 9, 3]\n",
       "<span style=\"background-color: #808000\">            </span><span style=\"background-color: #000000\">        </span>  [3, 3, 3, 3, 3, 3, 0, 0, 0, 0]\n",
       "<span style=\"background-color: #808000\">            </span><span style=\"background-color: #000000\">        </span>  [3, 3, 3, 3, 3, 3, 0, 0, 0, 0]\n",
       "<span style=\"background-color: #000000\">                    </span>  [0, 0, 0, 0, 0, 0, 0, 0, 0, 0]\n",
       "<span style=\"background-color: #000000\">                    </span>  [0, 0, 0, 0, 0, 0, 0, 0, 0, 0]\n",
       "\n",
       "</pre>\n"
      ],
      "text/plain": [
       "\u001b[40m  \u001b[0m\u001b[40m  \u001b[0m\u001b[40m  \u001b[0m\u001b[43m  \u001b[0m\u001b[43m  \u001b[0m\u001b[43m  \u001b[0m\u001b[43m  \u001b[0m\u001b[40m  \u001b[0m\u001b[40m  \u001b[0m\u001b[43m  \u001b[0m  [0, 0, 0, 3, 3, 3, 3, 0, 0, 3]\n",
       "\u001b[40m  \u001b[0m\u001b[40m  \u001b[0m\u001b[40m  \u001b[0m\u001b[40m  \u001b[0m\u001b[40m  \u001b[0m\u001b[40m  \u001b[0m\u001b[40m  \u001b[0m\u001b[40m  \u001b[0m\u001b[40m  \u001b[0m\u001b[43m  \u001b[0m  [0, 0, 0, 0, 0, 0, 0, 0, 0, 3]\n",
       "\u001b[43m  \u001b[0m\u001b[43m  \u001b[0m\u001b[43m  \u001b[0m\u001b[43m  \u001b[0m\u001b[43m  \u001b[0m\u001b[43m  \u001b[0m\u001b[102m  \u001b[0m\u001b[102m  \u001b[0m\u001b[102m  \u001b[0m\u001b[43m  \u001b[0m  [3, 3, 3, 3, 3, 3, 9, 9, 9, 3]\n",
       "\u001b[43m  \u001b[0m\u001b[43m  \u001b[0m\u001b[43m  \u001b[0m\u001b[43m  \u001b[0m\u001b[43m  \u001b[0m\u001b[43m  \u001b[0m\u001b[102m  \u001b[0m\u001b[102m  \u001b[0m\u001b[102m  \u001b[0m\u001b[43m  \u001b[0m  [3, 3, 3, 3, 3, 3, 9, 9, 9, 3]\n",
       "\u001b[43m  \u001b[0m\u001b[43m  \u001b[0m\u001b[43m  \u001b[0m\u001b[43m  \u001b[0m\u001b[43m  \u001b[0m\u001b[43m  \u001b[0m\u001b[102m  \u001b[0m\u001b[102m  \u001b[0m\u001b[102m  \u001b[0m\u001b[43m  \u001b[0m  [3, 3, 3, 3, 3, 3, 9, 9, 9, 3]\n",
       "\u001b[43m  \u001b[0m\u001b[43m  \u001b[0m\u001b[43m  \u001b[0m\u001b[43m  \u001b[0m\u001b[43m  \u001b[0m\u001b[43m  \u001b[0m\u001b[40m  \u001b[0m\u001b[40m  \u001b[0m\u001b[40m  \u001b[0m\u001b[40m  \u001b[0m  [3, 3, 3, 3, 3, 3, 0, 0, 0, 0]\n",
       "\u001b[43m  \u001b[0m\u001b[43m  \u001b[0m\u001b[43m  \u001b[0m\u001b[43m  \u001b[0m\u001b[43m  \u001b[0m\u001b[43m  \u001b[0m\u001b[40m  \u001b[0m\u001b[40m  \u001b[0m\u001b[40m  \u001b[0m\u001b[40m  \u001b[0m  [3, 3, 3, 3, 3, 3, 0, 0, 0, 0]\n",
       "\u001b[40m  \u001b[0m\u001b[40m  \u001b[0m\u001b[40m  \u001b[0m\u001b[40m  \u001b[0m\u001b[40m  \u001b[0m\u001b[40m  \u001b[0m\u001b[40m  \u001b[0m\u001b[40m  \u001b[0m\u001b[40m  \u001b[0m\u001b[40m  \u001b[0m  [0, 0, 0, 0, 0, 0, 0, 0, 0, 0]\n",
       "\u001b[40m  \u001b[0m\u001b[40m  \u001b[0m\u001b[40m  \u001b[0m\u001b[40m  \u001b[0m\u001b[40m  \u001b[0m\u001b[40m  \u001b[0m\u001b[40m  \u001b[0m\u001b[40m  \u001b[0m\u001b[40m  \u001b[0m\u001b[40m  \u001b[0m  [0, 0, 0, 0, 0, 0, 0, 0, 0, 0]\n",
       "\n"
      ]
     },
     "metadata": {},
     "output_type": "display_data"
    },
    {
     "name": "stdout",
     "output_type": "stream",
     "text": [
      "==================================================\n"
     ]
    }
   ],
   "source": [
    "# Visualize a task (EDA)\n",
    "task_indices = [11] # select which task you want to examine\n",
    "n_sample = 1\n",
    "for task_idx in task_indices:\n",
    "    print(task_idx)\n",
    "    for data in Dataset.from_pandas(task_samples[task_idx]).shuffle().select(range(n_sample)):\n",
    "        for case in data['train']:\n",
    "            print(\"==================================================\")\n",
    "            print(\"Example input\")\n",
    "            render_grid(case['input'])\n",
    "            print(\"Example output\")\n",
    "            render_grid(case['output'])\n",
    "            break\n",
    "        print(\"==================================================\")\n",
    "        print(\"Example test input\")\n",
    "        render_grid(data['test'][0]['input'])\n",
    "        print(\"Example test output\")\n",
    "        render_grid(data['test'][0]['output'])\n",
    "    print(\"==================================================\")"
   ]
  },
  {
   "cell_type": "code",
   "execution_count": 5,
   "metadata": {},
   "outputs": [
    {
     "name": "stdout",
     "output_type": "stream",
     "text": [
      "[0, 1, 2, 3, 5, 6, 7, 8, 9, 10, 11, 13, 14, 18, 20, 21, 22, 23, 24, 25, 27, 28, 29, 31, 32, 33, 34, 35, 36, 37, 38, 39, 40, 42, 43, 44, 45, 46, 47, 49, 50, 51, 52, 53, 54, 55, 56, 57, 58, 59, 60, 61, 62, 63, 64, 65, 66, 67, 68, 69, 70, 71, 72, 73, 74, 75, 76, 77, 78, 79, 80, 81, 82, 83, 84, 85, 86, 87, 88, 89, 90, 91, 92, 93, 94, 96, 97, 98, 99, 100, 101, 102, 103, 104, 105, 106, 107, 108, 109, 110, 112, 113, 114, 115, 116, 120, 121, 122, 123, 124, 126, 128, 129, 130, 131, 132, 133, 134, 135, 136, 137, 138, 142, 143, 144, 145, 146, 148, 149, 150, 154, 157, 161, 163, 168, 169, 172, 175, 178, 179, 180, 182, 183, 184, 187, 189, 190, 193, 195, 196, 197, 198, 199, 200, 203, 207, 210, 211, 212, 213, 216, 217, 219, 221, 223, 226, 227, 228, 230, 233, 234, 238, 242, 243, 245, 252, 255, 259, 261, 262, 266, 276, 277, 278, 281, 282, 287, 288, 289, 291, 292, 293, 294]\n"
     ]
    }
   ],
   "source": [
    "simple_tasks = []\n",
    "hard_tasks = []\n",
    "for task_idx in range(300):\n",
    "    check = True\n",
    "    for data in Dataset.from_pandas(task_samples[task_idx]).shuffle().select(range(3)):\n",
    "        for case in data['train']:\n",
    "            wi, hi = len(case['input'][0]), len(case['input'])\n",
    "            wo, ho = len(case['output'][0]), len(case['output'])\n",
    "            if (wi!=wo) or (hi!=ho): check = False\n",
    "        case = data['test'][0]\n",
    "        wi, hi = len(case['input'][0]), len(case['input'])\n",
    "        wo, ho = len(case['output'][0]), len(case['output'])\n",
    "        if (wi!=wo) or (hi!=ho): check = False\n",
    "    if check: simple_tasks.append(task_idx)\n",
    "    else: hard_tasks.append(task_idx)\n",
    "print(simple_tasks)"
   ]
  },
  {
   "cell_type": "code",
   "execution_count": 6,
   "metadata": {},
   "outputs": [],
   "source": [
    "set_seed(1234567890)\n",
    "token = os.environ.get(\"HF_TOKEN\", None)\n",
    "solver = ARCSolver(model_id=\"Qwen/Qwen3-1.7B\", hf_token=token)"
   ]
  },
  {
   "cell_type": "code",
   "execution_count": 9,
   "metadata": {
    "scrolled": true
   },
   "outputs": [],
   "source": [
    "# solver.prepare_train()\n",
    "n_train = len(hard_tasks)*1000\n",
    "n_eval = 500\n",
    "dfsimple = sample_data(dataset, task_list, n_row=n_train+n_eval, indices=simple_tasks, random=56)\n",
    "dfhard = sample_data(dataset, task_list, n_row=n_train+n_eval, indices=hard_tasks, random=56)\n",
    "train_dataset = Dataset.from_pandas(dfsimple).select(range(n_train))\n",
    "# solver.train(train_dataset)"
   ]
  },
  {
   "cell_type": "code",
   "execution_count": 8,
   "metadata": {},
   "outputs": [
    {
     "data": {
      "application/vnd.jupyter.widget-view+json": {
       "model_id": "3b875fc4f4d24a52a61a55fb85bd3227",
       "version_major": 2,
       "version_minor": 0
      },
      "text/plain": [
       "Loading checkpoint shards:   0%|          | 0/2 [00:00<?, ?it/s]"
      ]
     },
     "metadata": {},
     "output_type": "display_data"
    }
   ],
   "source": [
    "n_eval = 100\n",
    "solver.prepare_evaluation(select_adapter=\"20250702_220556\") # make sure you set the right model"
   ]
  },
  {
   "cell_type": "code",
   "execution_count": 14,
   "metadata": {},
   "outputs": [
    {
     "data": {
      "application/vnd.jupyter.widget-view+json": {
       "model_id": "8dcd1b236057457f93c9ed67a2f0bee8",
       "version_major": 2,
       "version_minor": 0
      },
      "text/plain": [
       "  0%|          | 0/20 [00:00<?, ?it/s]"
      ]
     },
     "metadata": {},
     "output_type": "display_data"
    },
    {
     "name": "stdout",
     "output_type": "stream",
     "text": [
      "Evaluation score: 15.00\n"
     ]
    },
    {
     "data": {
      "application/vnd.jupyter.widget-view+json": {
       "model_id": "7b911468b1dc4591a38fa9c9566139d2",
       "version_major": 2,
       "version_minor": 0
      },
      "text/plain": [
       "  0%|          | 0/20 [00:00<?, ?it/s]"
      ]
     },
     "metadata": {},
     "output_type": "display_data"
    },
    {
     "name": "stdout",
     "output_type": "stream",
     "text": [
      "Evaluation score: 5.00\n"
     ]
    },
    {
     "data": {
      "application/vnd.jupyter.widget-view+json": {
       "model_id": "b667e5259b4946c2ae3466469c6d91ec",
       "version_major": 2,
       "version_minor": 0
      },
      "text/plain": [
       "  0%|          | 0/20 [00:00<?, ?it/s]"
      ]
     },
     "metadata": {},
     "output_type": "display_data"
    },
    {
     "name": "stdout",
     "output_type": "stream",
     "text": [
      "Evaluation score: 10.00\n"
     ]
    },
    {
     "data": {
      "application/vnd.jupyter.widget-view+json": {
       "model_id": "825e61657d984efaaa1dc6a76ad2740c",
       "version_major": 2,
       "version_minor": 0
      },
      "text/plain": [
       "  0%|          | 0/20 [00:00<?, ?it/s]"
      ]
     },
     "metadata": {},
     "output_type": "display_data"
    },
    {
     "name": "stdout",
     "output_type": "stream",
     "text": [
      "Evaluation score: 10.00\n"
     ]
    },
    {
     "data": {
      "application/vnd.jupyter.widget-view+json": {
       "model_id": "136b7b0f36224a419d4c3c05333a27b3",
       "version_major": 2,
       "version_minor": 0
      },
      "text/plain": [
       "  0%|          | 0/20 [00:00<?, ?it/s]"
      ]
     },
     "metadata": {},
     "output_type": "display_data"
    },
    {
     "name": "stdout",
     "output_type": "stream",
     "text": [
      "Evaluation score: 35.00\n"
     ]
    },
    {
     "data": {
      "application/vnd.jupyter.widget-view+json": {
       "model_id": "d8757ede06f04516810e86c582f66721",
       "version_major": 2,
       "version_minor": 0
      },
      "text/plain": [
       "  0%|          | 0/20 [00:00<?, ?it/s]"
      ]
     },
     "metadata": {},
     "output_type": "display_data"
    },
    {
     "name": "stdout",
     "output_type": "stream",
     "text": [
      "Evaluation score: 10.00\n"
     ]
    },
    {
     "data": {
      "application/vnd.jupyter.widget-view+json": {
       "model_id": "d1a2516cca414c81bdcadd3db88218d5",
       "version_major": 2,
       "version_minor": 0
      },
      "text/plain": [
       "  0%|          | 0/20 [00:00<?, ?it/s]"
      ]
     },
     "metadata": {},
     "output_type": "display_data"
    },
    {
     "name": "stdout",
     "output_type": "stream",
     "text": [
      "Evaluation score: 0.00\n"
     ]
    },
    {
     "data": {
      "application/vnd.jupyter.widget-view+json": {
       "model_id": "161fc202bdc041f794b83196f72151c3",
       "version_major": 2,
       "version_minor": 0
      },
      "text/plain": [
       "  0%|          | 0/20 [00:00<?, ?it/s]"
      ]
     },
     "metadata": {},
     "output_type": "display_data"
    },
    {
     "name": "stdout",
     "output_type": "stream",
     "text": [
      "Evaluation score: 15.00\n"
     ]
    },
    {
     "data": {
      "application/vnd.jupyter.widget-view+json": {
       "model_id": "7ba8a727a67d4a58b18aa3fc02b37c66",
       "version_major": 2,
       "version_minor": 0
      },
      "text/plain": [
       "  0%|          | 0/20 [00:00<?, ?it/s]"
      ]
     },
     "metadata": {},
     "output_type": "display_data"
    },
    {
     "name": "stdout",
     "output_type": "stream",
     "text": [
      "Evaluation score: 0.00\n"
     ]
    },
    {
     "data": {
      "application/vnd.jupyter.widget-view+json": {
       "model_id": "5b5d94ce7a934f04955cd84e08840963",
       "version_major": 2,
       "version_minor": 0
      },
      "text/plain": [
       "  0%|          | 0/20 [00:00<?, ?it/s]"
      ]
     },
     "metadata": {},
     "output_type": "display_data"
    },
    {
     "name": "stdout",
     "output_type": "stream",
     "text": [
      "Evaluation score: 0.00\n"
     ]
    },
    {
     "data": {
      "application/vnd.jupyter.widget-view+json": {
       "model_id": "525351496cf7472ca7c590c71bb3e0ee",
       "version_major": 2,
       "version_minor": 0
      },
      "text/plain": [
       "  0%|          | 0/20 [00:00<?, ?it/s]"
      ]
     },
     "metadata": {},
     "output_type": "display_data"
    },
    {
     "name": "stdout",
     "output_type": "stream",
     "text": [
      "Evaluation score: 0.00\n"
     ]
    },
    {
     "data": {
      "application/vnd.jupyter.widget-view+json": {
       "model_id": "5f30e4d8b8df47a9b34afd108cfffedf",
       "version_major": 2,
       "version_minor": 0
      },
      "text/plain": [
       "  0%|          | 0/20 [00:00<?, ?it/s]"
      ]
     },
     "metadata": {},
     "output_type": "display_data"
    },
    {
     "name": "stdout",
     "output_type": "stream",
     "text": [
      "Evaluation score: 40.00\n"
     ]
    },
    {
     "data": {
      "application/vnd.jupyter.widget-view+json": {
       "model_id": "c372877244524a5c884103cbdb7ba9ed",
       "version_major": 2,
       "version_minor": 0
      },
      "text/plain": [
       "  0%|          | 0/20 [00:00<?, ?it/s]"
      ]
     },
     "metadata": {},
     "output_type": "display_data"
    },
    {
     "name": "stdout",
     "output_type": "stream",
     "text": [
      "Evaluation score: 40.00\n"
     ]
    },
    {
     "data": {
      "application/vnd.jupyter.widget-view+json": {
       "model_id": "3928a6518c4848e8ab367a1854f6af2e",
       "version_major": 2,
       "version_minor": 0
      },
      "text/plain": [
       "  0%|          | 0/20 [00:00<?, ?it/s]"
      ]
     },
     "metadata": {},
     "output_type": "display_data"
    },
    {
     "name": "stdout",
     "output_type": "stream",
     "text": [
      "Evaluation score: 0.00\n"
     ]
    },
    {
     "data": {
      "application/vnd.jupyter.widget-view+json": {
       "model_id": "adce64d86ed84b1689b7e9411d590893",
       "version_major": 2,
       "version_minor": 0
      },
      "text/plain": [
       "  0%|          | 0/20 [00:00<?, ?it/s]"
      ]
     },
     "metadata": {},
     "output_type": "display_data"
    },
    {
     "name": "stdout",
     "output_type": "stream",
     "text": [
      "Evaluation score: 5.00\n"
     ]
    },
    {
     "data": {
      "application/vnd.jupyter.widget-view+json": {
       "model_id": "c64b4546263d4be5ae4f5761248a25b1",
       "version_major": 2,
       "version_minor": 0
      },
      "text/plain": [
       "  0%|          | 0/20 [00:00<?, ?it/s]"
      ]
     },
     "metadata": {},
     "output_type": "display_data"
    },
    {
     "name": "stdout",
     "output_type": "stream",
     "text": [
      "Evaluation score: 5.00\n"
     ]
    },
    {
     "data": {
      "application/vnd.jupyter.widget-view+json": {
       "model_id": "c2fbec0ff4a54f0494f35d343590309e",
       "version_major": 2,
       "version_minor": 0
      },
      "text/plain": [
       "  0%|          | 0/20 [00:00<?, ?it/s]"
      ]
     },
     "metadata": {},
     "output_type": "display_data"
    },
    {
     "name": "stdout",
     "output_type": "stream",
     "text": [
      "Evaluation score: 45.00\n"
     ]
    },
    {
     "data": {
      "application/vnd.jupyter.widget-view+json": {
       "model_id": "921c7629db3a4cb0ae964bf9e154aff4",
       "version_major": 2,
       "version_minor": 0
      },
      "text/plain": [
       "  0%|          | 0/20 [00:00<?, ?it/s]"
      ]
     },
     "metadata": {},
     "output_type": "display_data"
    },
    {
     "name": "stdout",
     "output_type": "stream",
     "text": [
      "Evaluation score: 0.00\n"
     ]
    },
    {
     "data": {
      "application/vnd.jupyter.widget-view+json": {
       "model_id": "cf3cd943842246909672b642b4bb2b99",
       "version_major": 2,
       "version_minor": 0
      },
      "text/plain": [
       "  0%|          | 0/20 [00:00<?, ?it/s]"
      ]
     },
     "metadata": {},
     "output_type": "display_data"
    },
    {
     "name": "stdout",
     "output_type": "stream",
     "text": [
      "Evaluation score: 5.00\n"
     ]
    },
    {
     "data": {
      "application/vnd.jupyter.widget-view+json": {
       "model_id": "45d0da8e11fd49e88f38edf556099d9d",
       "version_major": 2,
       "version_minor": 0
      },
      "text/plain": [
       "  0%|          | 0/20 [00:00<?, ?it/s]"
      ]
     },
     "metadata": {},
     "output_type": "display_data"
    },
    {
     "name": "stdout",
     "output_type": "stream",
     "text": [
      "Evaluation score: 20.00\n"
     ]
    },
    {
     "data": {
      "image/png": "[encoded data removed]",
      "text/plain": [
       "<Figure size 640x480 with 1 Axes>"
      ]
     },
     "metadata": {},
     "output_type": "display_data"
    }
   ],
   "source": [
    "# evaluate our model (eval set)\n",
    "scores = []\n",
    "n_eval = 20\n",
    "scores_task = []\n",
    "for task in range(20):\n",
    "    eval_dataset = Dataset.from_pandas(task_samples[task]).select(range(n_eval))\n",
    "    for eval_data in tqdm(eval_dataset):\n",
    "        # print(\"============================================\")\n",
    "        # print(\"Test input\")\n",
    "        # render_grid(eval_data[\"test\"][0]['input'])\n",
    "\n",
    "        # print(\"Predict output\")\n",
    "        preds = solver.predict(eval_data)\n",
    "        # if preds is not None: render_grid(preds)\n",
    "\n",
    "        # print(\"Test output\")\n",
    "        # render_grid(eval_data[\"test\"][0]['output'])\n",
    "        # print(\"============================================\")\n",
    "        if preds is None: s = 0\n",
    "        else: s = check_match(preds, eval_data[\"test\"][0][\"output\"])\n",
    "        scores.append(s)\n",
    "    score = np.array(scores).mean() * 100\n",
    "    scores_task.append(score)\n",
    "    print(f\"Evaluation score: {score:.2f}\", flush=True)\n",
    "    scores = []\n",
    "\n",
    "from matplotlib import pyplot as plt\n",
    "x = np.arange(20)\n",
    "plt.bar(x, scores_task)\n",
    "plt.xticks(x, list(range(20)))\n",
    "plt.show()"
   ]
  }
 ],
 "metadata": {
  "kernelspec": {
   "display_name": ".arcproj",
   "language": "python",
   "name": "python3"
  },
  "language_info": {
   "codemirror_mode": {
    "name": "ipython",
    "version": 3
   },
   "file_extension": ".py",
   "mimetype": "text/x-python",
   "name": "python",
   "nbconvert_exporter": "python",
   "pygments_lexer": "ipython3",
   "version": "3.12.3"
  }
 },
 "nbformat": 4,
 "nbformat_minor": 4
}
